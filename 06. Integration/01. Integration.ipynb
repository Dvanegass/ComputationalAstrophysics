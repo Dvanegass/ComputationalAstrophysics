{
 "cells": [
  {
   "cell_type": "markdown",
   "metadata": {},
   "source": [
    "![Astrofisica Computacional](../logo.PNG)"
   ]
  },
  {
   "cell_type": "markdown",
   "metadata": {},
   "source": [
    "---\n",
    "## 01. Numerical Integration\n",
    "\n",
    "\n",
    "Eduard Larrañaga (ealarranaga@unal.edu.co)\n",
    "\n",
    "---"
   ]
  },
  {
   "cell_type": "markdown",
   "metadata": {
    "id": "JHAFitzdBgov"
   },
   "source": [
    "### Summary\n",
    "\n",
    "In this notebook some numerical integration techniques are presented.\n",
    "\n",
    "---"
   ]
  },
  {
   "cell_type": "markdown",
   "metadata": {
    "id": "GkljYLsvBgow"
   },
   "source": [
    "One of the most common tasks in astrophysics is to evaluate integrals such as\n",
    "\n",
    "\\begin{equation}\n",
    "I = \\int_a^b f(x) dx ,\n",
    "\\end{equation}\n",
    "\n",
    "and, in many cases, these cannot be done analytically. The integrand in these expressions can be given as an analytic function $f(x)$ or as a discrete set of values ​​$f(x_i)$. We will now describe some techniques for performing these integrals numerically in both cases.\n",
    " \n",
    "---\n",
    "## Interpolation by intervals and quadratures\n",
    "\n",
    "Any method of integration that uses a weighted addition is called the **rule of quadratures**. Suppose we know (or can evaluate) the integrand $f(x)$ on a finite set of *nodes*, $\\{x_j\\}$ with $j=0,\\cdots,n-1$ on the interval $[ a,b]$ and such that $x_0 = a$ and $x_{n-1} = b$. This will give a set of $n$ nodes or equivalently $N=n-1$ intervals. A discrete approximation of the integral of this function is given by the **rectangle rule**,\n",
    "\n",
    "\\begin{equation}\n",
    "I = \\int_a^b f(x) dx \\approx \\Delta x \\sum_{i=0}^{N} f(x_i),\n",
    "\\end{equation}\n",
    "\n",
    "where the width of the intervals is $\\Delta x = \\frac{b-a}{N}$. From the definition of an integral, it is clear that this approximation converges to the real value of the integral when $N\\rightarrow \\infty$, i.e. when $\\Delta x \\rightarrow 0$.\n",
    "\n",
    "Although the rectangle rule can give a good approximation of the integral, it can be improved by using an interpolated function on each interval. Methods using polynomial interpolation are generally called **Newton-Cotes quadratures**."
   ]
  },
  {
   "cell_type": "markdown",
   "metadata": {
    "id": "MkRPraH0Bgow"
   },
   "source": [
    "---\n",
    "### Midpoint rule\n",
    "\n",
    "The simplest modification to the rectangle rule described above is to use the central value of the function $f(x)$ in each interval instead of the value at one of the nodes. Thus, if it is possible to evaluate the integrand at the midpoint of each interval, the approximate value of the integral will be given by\n",
    "\n",
    "\\begin{equation}\n",
    "I = \\int_{a}^{b} f(x) dx = \\sum{i=0}^{N} (x_{i+1} - x_i) f(\\bar{x}_i ),\n",
    "\\end{equation}\n",
    "\n",
    "where $\\bar{x}_i = \\frac{x_i + x_{i+1}}{2}$ is the midpoint in the interval $[x_i, x_{i+1}]$.\n",
    "\n",
    "In order to estimate the error associated with this method, a Taylor series expansion of the integrand on the interval $[x_i, x_{i+1}]$ around the midpoint $\\bar{x}_i$ is used,\n",
    "\n",
    "\\begin{equation}\n",
    "f(x) = f(\\bar{x}_i) + f'(\\bar{x}_i)(x-\\bar{x}_i) + \\frac{f''(\\bar{x}_i) }{2}(x-\\bar{x}_i)^2 + \\frac{f'''(\\bar{x}_i)}{6}(x-\\bar{x}_i)^3 + . ..\n",
    "\\end{equation}\n",
    "\n",
    "Integrating this expression from $x_i$ to $x_{i+1}$, and noting that the odd order terms cancel, we obtain\n",
    "\n",
    "\\begin{equation}\n",
    "\\int_{x_i}^{x_{i+1}} f(x)dx = f(\\bar{x}_i)(x_{i+1}-x_i) + \\frac{f''(\\bar{ x}_i)}{24}(x_{i+1}-x_i)^3 + ...\n",
    "\\end{equation}\n",
    "\n",
    "This expansion shows that the error associated with the approximation on each interval is of order $\\varepsilon_i = (x_{i+1}-x_i)^3$. Since the total integral is obtained as a sum of $N$ similar integrals (one for each subinterval), the total error is of order $\\varepsilon = N \\varepsilon_i $.\n",
    "\n",
    "When the nodes are equally spaced, we can write the size of these intervals as $\\Delta x = \\frac{b - a}{N}$ and thus the error associated with each interval is $\\varepsilon_i =\\frac{( b - a)^3}{n^3} = \\Delta x^3$, while the total quadrature error will be of order $\\varepsilon = N \\varepsilon_i = \\frac{(b - a)^3} {N^2} = N\\Delta x^3$."
   ]
  },
  {
   "cell_type": "markdown",
   "metadata": {
    "id": "T21ZT5mrBgox"
   },
   "source": [
    "#### Example. Numerical integration\n",
    "\n",
    "We will read the function data from a .txt file and numerically estimate the value of the integral of this function using the midpoint rule. Because the function is given in discrete point form (and not in analytical form), it is not possible to evaluate the value of the function at the midpoints, so we will initially use the value at the first point of each of the intervals to compute the partial sums."
   ]
  },
  {
   "cell_type": "code",
   "execution_count": null,
   "metadata": {},
   "outputs": [],
   "source": []
  },
  {
   "cell_type": "code",
   "execution_count": 2,
   "metadata": {
    "colab": {
     "base_uri": "https://localhost:8080/",
     "height": 384
    },
    "executionInfo": {
     "elapsed": 6845,
     "status": "ok",
     "timestamp": 1618768747225,
     "user": {
      "displayName": "Eduard Alexis Larranaga",
      "photoUrl": "https://lh3.googleusercontent.com/a-/AOh14GgCVABzEgj-rCdyxWa29RnA0kIYUCXAaVbnRYOEhQ=s64",
      "userId": "04402438389940282602"
     },
     "user_tz": 300
    },
    "id": "L9jB3RGbBgox",
    "outputId": "5de9a38b-8c55-40ff-abfd-e45ab5ad6779"
   },
   "outputs": [
    {
     "data": {
      "image/png": "[encoded data removed]",
      "text/plain": [
       "<Figure size 504x360 with 1 Axes>"
      ]
     },
     "metadata": {
      "needs_background": "light"
     },
     "output_type": "display_data"
    },
    {
     "name": "stdout",
     "output_type": "stream",
     "text": [
      "The result of the numerical integration\n",
      "between x = -20.0 and x = 20.0 is I = 5.01388e-06\n"
     ]
    }
   ],
   "source": [
    "import numpy as np\n",
    "import matplotlib.pyplot as plt\n",
    "%matplotlib inline\n",
    "\n",
    "# Reading the data\n",
    "data = np.loadtxt('data_points1.txt', comments='#', delimiter=',')\n",
    "x = data[:,0]\n",
    "f = data[:,1]\n",
    "\n",
    "n = len(x) # Number of nodes\n",
    "N = n-1 # Number of intervals\n",
    "\n",
    "plt.figure(figsize=(7,5))\n",
    "\n",
    "# Numerical integration loop\n",
    "Integral = 0.\n",
    "for i in range(N):\n",
    "    dx = x[i+1] - x[i]\n",
    "    Integral = Integral + dx*f[i]\n",
    "    \n",
    "    plt.vlines([x[i], x[i+1]], 0, [f[i], f[i]], color='red')\n",
    "    plt.plot([x[i], x[i+1]], [f[i], f[i]],color='red')\n",
    "    plt.fill_between([x[i], x[i+1]], [f[i], f[i]],color='red', alpha=0.3)\n",
    "\n",
    "plt.scatter(x, f, color='black')\n",
    "plt.hlines(0, x.min(), x.max())\n",
    "plt.title('Rectangle Rule Integration')\n",
    "plt.xlabel(r'$x$')\n",
    "plt.ylabel(r'$f(x)$')\n",
    "plt.show()\n",
    "\n",
    "print(f'The result of the numerical integration')\n",
    "print(f'between x = {x[0]:.1f} and x = {x[N]:.1f} is I = {Integral:.5e}')"
   ]
  },
  {
   "cell_type": "code",
   "execution_count": 3,
   "metadata": {
    "colab": {
     "base_uri": "https://localhost:8080/",
     "height": 384
    },
    "executionInfo": {
     "elapsed": 1958,
     "status": "ok",
     "timestamp": 1618768758410,
     "user": {
      "displayName": "Eduard Alexis Larranaga",
      "photoUrl": "https://lh3.googleusercontent.com/a-/AOh14GgCVABzEgj-rCdyxWa29RnA0kIYUCXAaVbnRYOEhQ=s64",
      "userId": "04402438389940282602"
     },
     "user_tz": 300
    },
    "id": "_X-ZB0MuBgoy",
    "outputId": "5f808bc0-9646-4aaf-e9db-0afe0ae3ee0f"
   },
   "outputs": [
    {
     "data": {
      "image/png": "[encoded data removed]",
      "text/plain": [
       "<Figure size 504x360 with 1 Axes>"
      ]
     },
     "metadata": {
      "needs_background": "light"
     },
     "output_type": "display_data"
    },
    {
     "name": "stdout",
     "output_type": "stream",
     "text": [
      "The result of the numerical integration\n",
      "between x = -20.0 and x = 20.0 is I = 2.91244e+02\n"
     ]
    }
   ],
   "source": [
    "import numpy as np\n",
    "import matplotlib.pyplot as plt\n",
    "%matplotlib inline\n",
    "\n",
    "# Reading the data\n",
    "data = np.loadtxt('data_points2.txt', comments='#', delimiter=',')\n",
    "x = data[:,0]\n",
    "f = data[:,1]\n",
    "\n",
    "n = len(x) # Number of nodes\n",
    "N = n-1 # Number of intervals\n",
    "\n",
    "\n",
    "plt.figure(figsize=(7,5))\n",
    "\n",
    "# Numerical integration loop\n",
    "Integral = 0.\n",
    "for i in range(N):\n",
    "    dx = x[i+1] - x[i]\n",
    "    Integral = Integral + dx*f[i]\n",
    "    \n",
    "    plt.vlines([x[i], x[i+1]], 0, [f[i], f[i]], color='red')\n",
    "    plt.plot([x[i], x[i+1]], [f[i], f[i]],color='red')\n",
    "    plt.fill_between([x[i], x[i+1]], [f[i], f[i]],color='red', alpha=0.3)\n",
    "\n",
    "plt.scatter(x, f, color='black')\n",
    "plt.hlines(0, x.min(), x.max())\n",
    "plt.title('Rectangle Rule Integration')\n",
    "plt.xlabel(r'$x$')\n",
    "plt.ylabel(r'$f(x)$')\n",
    "plt.show()\n",
    "\n",
    "print(f'The result of the numerical integration')\n",
    "print(f'between x = {x[0]:.1f} and x = {x[N]:.1f} is I = {Integral:.5e}')"
   ]
  },
  {
   "cell_type": "markdown",
   "metadata": {
    "id": "m4qzDQ9wBgoy"
   },
   "source": [
    "---\n",
    "### Trapezoid Rule\n",
    "\n",
    "The following generalization of the rectangle rule corresponds to approximating the function $f(x)$ with a linear polynomial on each of the intervals. This is known as the **trapezoid rule** and the corresponding quadrature will be given by\n",
    "\n",
    "\\begin{equation}\n",
    "I = \\int_{a}^{b} f(x) dx = \\sum{i=0}^{N} \\frac{1}{2} (x_{i+1} - x_i) \\left[ f(x_{i+1}) + f(x_i) \\right] .\n",
    "\\end{equation}\n",
    "\n",
    "Contrary to what happens in the midpoint rule, this method does not require the evaluation of the integrand at the midpoint but at the two nodes of each interval."
   ]
  },
  {
   "cell_type": "markdown",
   "metadata": {
    "id": "2e24ZxGRBgoz"
   },
   "source": [
    "#### Example. Integration with the trapezoid rule.\n",
    "\n",
    "Again, the function data will be read from a .txt file and it will be numerically integrated using the trapezoid rule."
   ]
  },
  {
   "cell_type": "code",
   "execution_count": 4,
   "metadata": {
    "colab": {
     "base_uri": "https://localhost:8080/",
     "height": 384
    },
    "executionInfo": {
     "elapsed": 1079,
     "status": "ok",
     "timestamp": 1618768764623,
     "user": {
      "displayName": "Eduard Alexis Larranaga",
      "photoUrl": "https://lh3.googleusercontent.com/a-/AOh14GgCVABzEgj-rCdyxWa29RnA0kIYUCXAaVbnRYOEhQ=s64",
      "userId": "04402438389940282602"
     },
     "user_tz": 300
    },
    "id": "qdzjthBxBgoz",
    "outputId": "cdd8cd75-9a16-4784-a6a6-bfe4fc4357d9"
   },
   "outputs": [
    {
     "data": {
      "image/png": "[encoded data removed]",
      "text/plain": [
       "<Figure size 504x360 with 1 Axes>"
      ]
     },
     "metadata": {
      "needs_background": "light"
     },
     "output_type": "display_data"
    },
    {
     "name": "stdout",
     "output_type": "stream",
     "text": [
      "The result of the numerical integration\n",
      "between x = -20.0 and x = 20.0 is I = -7.87808e-17\n"
     ]
    }
   ],
   "source": [
    "import numpy as np\n",
    "import matplotlib.pyplot as plt\n",
    "\n",
    "# Reading the data\n",
    "data = np.loadtxt('data_points1.txt', comments='#', delimiter=',')\n",
    "x = data[:,0]\n",
    "f = data[:,1]\n",
    "\n",
    "n = len(x) # Number of nodes\n",
    "N = n-1 # Number of intervals\n",
    "\n",
    "plt.figure(figsize=(7,5))\n",
    "\n",
    "# Numerical integration loop\n",
    "Integral = 0.\n",
    "for i in range(N):\n",
    "    dx = x[i+1] - x[i]\n",
    "    f_mean = (f[i] + f[i+1])/2\n",
    "    Integral = Integral + dx*f_mean\n",
    "    \n",
    "    plt.vlines([x[i], x[i+1]], 0, [f[i], f[i+1]], color='red')\n",
    "    plt.plot([x[i], x[i+1]], [f[i], f[i+1]],color='red')\n",
    "    plt.fill_between([x[i], x[i+1]], [f[i], f[i+1]],color='red', alpha=0.3)\n",
    "\n",
    "plt.scatter(x, f, color='black')\n",
    "plt.hlines(0, x.min(), x.max())\n",
    "plt.title('Trapezoid Rule Integration')\n",
    "plt.xlabel(r'$x$')\n",
    "plt.ylabel(r'$f(x)$')\n",
    "plt.show()\n",
    "\n",
    "print(f'The result of the numerical integration')\n",
    "print(f'between x = {x[0]:.1f} and x = {x[N]:.1f} is I = {Integral:.5e}')"
   ]
  },
  {
   "cell_type": "code",
   "execution_count": 5,
   "metadata": {
    "colab": {
     "base_uri": "https://localhost:8080/",
     "height": 384
    },
    "executionInfo": {
     "elapsed": 1418,
     "status": "ok",
     "timestamp": 1618768771652,
     "user": {
      "displayName": "Eduard Alexis Larranaga",
      "photoUrl": "https://lh3.googleusercontent.com/a-/AOh14GgCVABzEgj-rCdyxWa29RnA0kIYUCXAaVbnRYOEhQ=s64",
      "userId": "04402438389940282602"
     },
     "user_tz": 300
    },
    "id": "VCwbuwysBgoz",
    "outputId": "98d9e726-aee4-4ccb-d4e8-be2232582f54"
   },
   "outputs": [
    {
     "data": {
      "image/png": "[encoded data removed]",
      "text/plain": [
       "<Figure size 504x360 with 1 Axes>"
      ]
     },
     "metadata": {
      "needs_background": "light"
     },
     "output_type": "display_data"
    },
    {
     "name": "stdout",
     "output_type": "stream",
     "text": [
      "The result of the numerical integration\n",
      "between x = -20.0 and x = 20.0 is I = 2.91244e+02\n"
     ]
    }
   ],
   "source": [
    "import numpy as np\n",
    "import matplotlib.pyplot as plt\n",
    "\n",
    "# Reading the data\n",
    "data = np.loadtxt('data_points2.txt', comments='#', delimiter=',')\n",
    "x = data[:,0]\n",
    "f = data[:,1]\n",
    "\n",
    "n = len(x) # Number of nodes\n",
    "N = n-1 # Number of intervals\n",
    "\n",
    "plt.figure(figsize=(7,5))\n",
    "\n",
    "# Numerical integration loop\n",
    "Integral = 0.\n",
    "for i in range(N):\n",
    "    dx = x[i+1] - x[i]\n",
    "    f_mean = (f[i] + f[i+1])/2\n",
    "    Integral = Integral + dx*f_mean\n",
    "    \n",
    "    plt.vlines([x[i], x[i+1]], 0, [f[i], f[i+1]], color='red')\n",
    "    plt.plot([x[i], x[i+1]], [f[i], f[i+1]],color='red')\n",
    "    plt.fill_between([x[i], x[i+1]], [f[i], f[i+1]],color='red', alpha=0.3)\n",
    "\n",
    "plt.scatter(x, f, color='black')\n",
    "plt.hlines(0, x.min(), x.max())\n",
    "plt.title('Trapezoid Rule Integration')\n",
    "plt.xlabel(r'$x$')\n",
    "plt.ylabel(r'$f(x)$')\n",
    "plt.show()\n",
    "\n",
    "print(f'The result of the numerical integration')\n",
    "print(f'between x = {x[0]:.1f} and x = {x[N]:.1f} is I = {Integral:.5e}')\n"
   ]
  },
  {
   "cell_type": "markdown",
   "metadata": {
    "id": "Z_QVLirwBgoz"
   },
   "source": [
    "---\n",
    "## Simpson's rule\n",
    "\n",
    "Simpson's rule is a method in which the integral $f(x)$ is estimated by approximating the integrand by a second order polynomial on each interval.\n",
    "\n",
    "If three values of the function are known; $f_1 =f(x_1)$, $f_2 =f(x_2)$ and $f_3 =f(x_3)$; at the points $x_1 < x_2 < x_3$, a second order polynomial of the form can be fit\n",
    "he\n",
    "\\begin{equation}\n",
    "p_2 (x) = A (x-x_1)^2 + B (x-x_1) + C .\n",
    "\\end{equation}\n",
    "\n",
    "Integrating this polynomial over the interval $[x_1 , x_3]$, we get\n",
    "\n",
    "\\begin{equation}\n",
    "\\int_{x_1}^{x_3} p_2 (x) dx = \\frac{x_3 - x_1}{6} \\left( f_1 + 4f_2 + f_3 \\right) + \\mathcal{O} \\left( (x_3 - x_1)^4\\right)\n",
    "\\end{equation}"
   ]
  },
  {
   "cell_type": "markdown",
   "metadata": {
    "id": "trRJ9v-TBgo0"
   },
   "source": [
    "---\n",
    "### Simpson's rule with equally spaced nodes\n",
    "\n",
    "If there are $n$ equally spaced nodes in the interval of integration, or equivalently $N=n-1$ intervals with constant width $\\Delta x$, the total integral using Simpson's rule is written in the form\n",
    "\n",
    "\\begin{equation}\n",
    "I = \\int_a^b f(x) dx \\approx \\frac{\\Delta x}{3} \\sum_{i=0}^{\\frac{N-1}{2}} \\left[ f(x_{2i }) + 4f(x_{2i+1}) + f(x_{2i+2}) \\right] + \\mathcal{O} \\left(f''' \\Delta x^4 \\right)\n",
    "\\end{equation}\n",
    "\n",
    "The numerical error in each interval is of order $\\Delta x^4$ and therefore, the total integral will have an error of order $N \\Delta x^4 = \\frac{(a-b)^4}{N^3 }$."
   ]
  },
  {
   "cell_type": "markdown",
   "metadata": {
    "id": "avmQ8B46Bgo0"
   },
   "source": [
    "#### Example. Integration with Simpson's rule"
   ]
  },
  {
   "cell_type": "code",
   "execution_count": 16,
   "metadata": {
    "colab": {
     "base_uri": "https://localhost:8080/",
     "height": 384
    },
    "executionInfo": {
     "elapsed": 858,
     "status": "ok",
     "timestamp": 1618768780423,
     "user": {
      "displayName": "Eduard Alexis Larranaga",
      "photoUrl": "https://lh3.googleusercontent.com/a-/AOh14GgCVABzEgj-rCdyxWa29RnA0kIYUCXAaVbnRYOEhQ=s64",
      "userId": "04402438389940282602"
     },
     "user_tz": 300
    },
    "id": "FYTN4NQ5Bgo0",
    "outputId": "262f0898-0b99-4df2-d904-e97d4b126a09"
   },
   "outputs": [
    {
     "data": {
      "image/png": "[encoded data removed]",
      "text/plain": [
       "<Figure size 504x360 with 1 Axes>"
      ]
     },
     "metadata": {
      "needs_background": "light"
     },
     "output_type": "display_data"
    },
    {
     "name": "stdout",
     "output_type": "stream",
     "text": [
      "The result of the numerical integration\n",
      "between x = -20.0 and x = 20.0 is I = -8.84959e-06\n"
     ]
    }
   ],
   "source": [
    "import numpy as np\n",
    "import matplotlib.pyplot as plt\n",
    "\n",
    "def quadraticInterpolation(x1, x2, x3, f1, f2, f3, x):\n",
    "    p2 = (((x-x2)*(x-x3))/((x1-x2)*(x1-x3)))*f1 + (((x-x1)*(x-x3))/((x2-x1)*(x2-x3)))*f2 +\\\n",
    "         (((x-x1)*(x-x2))/((x3-x1)*(x3-x2)))*f3\n",
    "    return p2\n",
    "\n",
    "# Reading the data\n",
    "data = np.loadtxt('data_points1.txt', comments='#', delimiter=',')\n",
    "x = data[:,0]\n",
    "f = data[:,1]\n",
    "\n",
    "n = len(x) # Number of nodes\n",
    "N = n-1 # Number of intervals\n",
    "\n",
    "plt.figure(figsize=(7,5))\n",
    "\n",
    "# Numerical integration loop\n",
    "integral = 0.\n",
    "i = 0\n",
    "while  2*i+2 < n:\n",
    "    dx = x[2*i+1] - x[2*i] \n",
    "    integral += dx*(f[2*i] + 4*f[2*i+1] + f[2*i+2])/3\n",
    "    \n",
    "    x_interval = np.linspace(x[2*i],x[2*i+2],6)\n",
    "    y_interval = quadraticInterpolation(x[2*i], x[2*i+1], x[2*i+2], f[2*i], f[2*i+1], f[2*i+2], x_interval)\n",
    "    plt.plot(x_interval, y_interval,'r')\n",
    "    plt.fill_between(x_interval, y_interval, color='red', alpha=0.3)\n",
    "    i += 1\n",
    "# Last interval if it is not reached with the Simpson's rule\n",
    "if 2*i+2 != n-1:\n",
    "    dx = x[-1] - x[-2]\n",
    "    f_mean = (f[-1] + f[-2])/2\n",
    "    integral += dx*f_mean\n",
    "\n",
    "plt.scatter(x, f, color='black')\n",
    "plt.hlines(0, x.min(), x.max())\n",
    "plt.title('Simpson Rule Integration')\n",
    "plt.xlabel(r'$x$')\n",
    "plt.ylabel(r'$f(x)$')\n",
    "plt.show()\n",
    "\n",
    "print(f'The result of the numerical integration')\n",
    "print(f'between x = {x[0]:.1f} and x = {x[N]:.1f} is I = {integral:.5e}')\n"
   ]
  },
  {
   "cell_type": "code",
   "execution_count": 15,
   "metadata": {
    "colab": {
     "base_uri": "https://localhost:8080/",
     "height": 384
    },
    "executionInfo": {
     "elapsed": 972,
     "status": "ok",
     "timestamp": 1618768787899,
     "user": {
      "displayName": "Eduard Alexis Larranaga",
      "photoUrl": "https://lh3.googleusercontent.com/a-/AOh14GgCVABzEgj-rCdyxWa29RnA0kIYUCXAaVbnRYOEhQ=s64",
      "userId": "04402438389940282602"
     },
     "user_tz": 300
    },
    "id": "CfWVt1UoBgo0",
    "outputId": "d4b4d573-65b5-4316-cd5e-6f012c4faa9e"
   },
   "outputs": [
    {
     "data": {
      "image/png": "[encoded data removed]",
      "text/plain": [
       "<Figure size 504x360 with 1 Axes>"
      ]
     },
     "metadata": {
      "needs_background": "light"
     },
     "output_type": "display_data"
    },
    {
     "name": "stdout",
     "output_type": "stream",
     "text": [
      "The result of the numerical integration\n",
      "between x = -20.0 and x = 20.0 is I = 2.91244e+02\n"
     ]
    }
   ],
   "source": [
    "import numpy as np\n",
    "import matplotlib.pyplot as plt\n",
    "\n",
    "def quadraticInterpolation(x1, x2, x3, f1, f2, f3, x):\n",
    "    p2 = (((x-x2)*(x-x3))/((x1-x2)*(x1-x3)))*f1 + (((x-x1)*(x-x3))/((x2-x1)*(x2-x3)))*f2 +\\\n",
    "         (((x-x1)*(x-x2))/((x3-x1)*(x3-x2)))*f3\n",
    "    return p2\n",
    "\n",
    "# Reading the data\n",
    "data = np.loadtxt('data_points2.txt', comments='#', delimiter=',')\n",
    "x = data[:,0]\n",
    "f = data[:,1]\n",
    "\n",
    "n = len(x) # Number of nodes\n",
    "N = n-1 # Number of intervals\n",
    "\n",
    "plt.figure(figsize=(7,5))\n",
    "\n",
    "# Numerical integration loop\n",
    "integral = 0.\n",
    "i = 0\n",
    "while  2*i+2 < n:\n",
    "    dx = x[2*i+1] - x[2*i] \n",
    "    integral += dx*(f[2*i] + 4*f[2*i+1] + f[2*i+2])/3\n",
    "    \n",
    "    x_interval = np.linspace(x[2*i],x[2*i+2],6)\n",
    "    y_interval = quadraticInterpolation(x[2*i], x[2*i+1], x[2*i+2], f[2*i], f[2*i+1], f[2*i+2], x_interval)\n",
    "    plt.plot(x_interval, y_interval,'r')\n",
    "    plt.fill_between(x_interval, y_interval, color='red', alpha=0.3)\n",
    "    i += 1\n",
    "\n",
    "# Last interval if it is not reached with the Simpson's rule\n",
    "if 2*i+2 != n-1:\n",
    "    dx = x[-1] - x[-2]\n",
    "    f_mean = (f[-1] + f[-2])/2\n",
    "    integral += dx*f_mean\n",
    "\n",
    "plt.scatter(x, f, color='black')\n",
    "plt.hlines(0, x.min(), x.max())\n",
    "plt.title('Simpson Rule Integration')\n",
    "plt.xlabel(r'$x$')\n",
    "plt.ylabel(r'$f(x)$')\n",
    "plt.show()\n",
    "\n",
    "print(f'The result of the numerical integration')\n",
    "print(f'between x = {x[0]:.1f} and x = {x[N]:.1f} is I = {integral:.5e}')"
   ]
  },
  {
   "cell_type": "markdown",
   "metadata": {
    "id": "BroN2cAvBgo1"
   },
   "source": [
    "---\n",
    "### Simpson's rule for non-equidistant nodes\n",
    "\n",
    "When the nodes of the discretization mesh of $f(x)$ are not equally spaced, Simpson's rule must be modified in the form\n",
    "\n",
    "\\begin{equation}\n",
    "I = \\int_a^b f(x) dx \\approx \\sum_{i=0}^{\\frac{N-1}{2}} \\left[ \\alpha f(x_{2i}) + \\beta f(x_ {2i+1}) +\\gamma f(x_{2i+2}) \\right]\n",
    "\\end{equation}\n",
    "\n",
    "where\n",
    "\n",
    "\\begin{align}\n",
    "\\alpha = &\\frac{-h_{2i+1}^2 + h_{2i+1} h_{2i} + 2 h_{2i}^2}{6 h_{2i}} \\\\\n",
    "\\beta = &\\frac{ (h_{2i+1} + h_{2i})^3 }{6 h_{2i+1} h_{2i}} \\\\\n",
    "\\gamma =& \\frac{2 h_{2i+1}^2 + h_{2i+1} h_{2i} - h_{2i}^2}{6 h_{2i+1}}\n",
    "\\end{align}\n",
    "\n",
    "and $h_j = x_{j+1} - x_j$."
   ]
  },
  {
   "cell_type": "markdown",
   "metadata": {},
   "source": [
    "---\n",
    "\n",
    "## (Self-) Convergence Factor for Simpson's Rule\n",
    "\n",
    "To check the accuracy of the Simpson Integration Method, we compute the self-convergence factor by integrating the function $\\sin x$ over the interval $0\\leq x \\leq 2\\pi$."
   ]
  },
  {
   "cell_type": "code",
   "execution_count": 13,
   "metadata": {},
   "outputs": [
    {
     "name": "stdout",
     "output_type": "stream",
     "text": [
      "The result of the numerical integration with n = 100 is I = 6.7603e-07\n"
     ]
    }
   ],
   "source": [
    "import numpy as np\n",
    "import matplotlib.pyplot as plt\n",
    "\n",
    "def intsin(n):\n",
    "    x = np.linspace(0, 2*np.pi, n)\n",
    "    f = np.sin(x)\n",
    "    dx = x[1] - x[0]\n",
    "    N = n-1 # Number of intervals\n",
    "    # Numerical integration loop\n",
    "    integral = 0.\n",
    "    i = 0\n",
    "    while 2*i+2 < n:\n",
    "        integral += dx*(f[2*i] + 4*f[2*i+1] + f[2*i+2])/3\n",
    "        i += 1\n",
    "    # Last interval if it is not reached with the Simpson's rule\n",
    "    if 2*i+2 != n-1:\n",
    "        dx = x[-1] - x[-2]\n",
    "        f_mean = (f[-1] + f[-2])/2\n",
    "        integral += dx*f_mean\n",
    "    return integral\n",
    "\n",
    "n=100\n",
    "y = intsin(n)\n",
    "print(f'The result of the numerical integration with n = {n:.0f} is I = {y:.4e}')"
   ]
  },
  {
   "cell_type": "code",
   "execution_count": 14,
   "metadata": {},
   "outputs": [
    {
     "name": "stdout",
     "output_type": "stream",
     "text": [
      "The convergence factor is C = 0.00\n",
      "which corresponds to a precision of h^4.0\n"
     ]
    }
   ],
   "source": [
    "y_1 = intsin(100)\n",
    "y_2 = intsin(1000)\n",
    "y_3 = intsin(10000)\n",
    "\n",
    "C_self = np.abs(y_3 - y_2)/np.abs(y_2 - y_1)\n",
    "\n",
    "\n",
    "print(f'The convergence factor is C = {C_self:.2f}')\n",
    "print(f'which corresponds to a precision of h^{-np.log10(C_self):.1f}')"
   ]
  },
  {
   "cell_type": "code",
   "execution_count": null,
   "metadata": {},
   "outputs": [],
   "source": []
  }
 ],
 "metadata": {
  "colab": {
   "name": "Integration01.ipynb",
   "provenance": []
  },
  "kernelspec": {
   "display_name": "Python 3 (ipykernel)",
   "language": "python",
   "name": "python3"
  },
  "language_info": {
   "codemirror_mode": {
    "name": "ipython",
    "version": 3
   },
   "file_extension": ".py",
   "mimetype": "text/x-python",
   "name": "python",
   "nbconvert_exporter": "python",
   "pygments_lexer": "ipython3",
   "version": "3.9.5"
  }
 },
 "nbformat": 4,
 "nbformat_minor": 1
}
