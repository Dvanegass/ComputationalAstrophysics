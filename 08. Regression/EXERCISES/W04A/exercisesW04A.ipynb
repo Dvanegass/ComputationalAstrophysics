{
 "cells": [
  {
   "cell_type": "markdown",
   "metadata": {},
   "source": [
    "<center>\n",
    "<img src=\"https://i.ibb.co/b3T5hkz/logo.png\" alt=\"logo\" border=\"0\" width=600>"
   ]
  },
  {
   "cell_type": "markdown",
   "metadata": {
    "id": "QsBlwilWejFZ"
   },
   "source": [
    "# W04A. Regresión Lineal Multidimensional\n",
    "\n",
    "---\n"
   ]
  },
  {
   "cell_type": "markdown",
   "metadata": {},
   "source": [
    "Fecha Entrega : 28 de Agosto de 2023\n"
   ]
  },
  {
   "cell_type": "markdown",
   "metadata": {},
   "source": [
    "## Algoritmo de Regresión Lineal Multidimensional\n",
    "\n",
    "Implemente una clase que realice la regresión lineal multidimensional de un conjunto de datos incluyendo, al menos, las siguientes características: \n",
    "\n",
    "1. Atributos `.W` y `.b` : Corresponden a los parámetros del ajuste. En general, `.W` será un arreglo de M componentes (pesos o pendientes) y `.b` un escalar (bias o intercepto). M es el número de características utilizado para la regresión. Al inicializar el objeto, se deben crear los atributos `.W` y `.b` aleatoriamente.\n",
    "   \n",
    "2. Atributo `.history` : Guardará la información de la función de pérdida en cada época de entrenamiento.\n",
    "   \n",
    "3. Método `.loss_function()`: Define la función de pérdida o costo. Para la regresión lineal se utilizará la función $\\chi^2$.\n",
    "   \n",
    "4. Método `.grad()`: Calcula el gradiente numérico de la función de costo.\n",
    "   \n",
    "5. Método `.optimizer()`: Implementa el optimizador de gradiente descendiente para ajustar los parámetros  `.W` y `.b` de tal forma que se minimice la función de costo. El valor por defecto de la tasa de aprendizaje debe ser de $\\alpha = 0.001$. \n",
    "   \n",
    "6. Método `.fit(X, y)`: recibe como argumentos dos arreglos NumPy, `X` de forma [N,M] y `y` de forma [N,1]. N es el número de datos utilizados para el entrenamiento.  Este método se encarga de realizar el ajuste lineal mediante la minimización de la función de costo con un algoritmo de gradiente descendiente. El entrenamiento debe continuar hasta que el cambio en el valor de la función de pérdida entre la epoca actual y la anterior sea menor que una tolerancia de $\\text{tol} = 10^{-13}$ o hasta un número máximo de epocas de 500000.\n",
    "   \n",
    "7. Método `.predict(X)`: Predice el valor de la variable independiente `y` para el argumento `X` mediante el modelo entrenado.\n",
    "   \n",
    "8. Método `.score(X, y)`: Retorna el valor del coeficiente $R^2$ del modelo lineal multidimensional entrenado.\n",
    "\n",
    "Para probar su implementación pueden utilizar el conjunto de datos que deseen y el código debe ser enviado por Google Classroom. \n",
    "\n",
    "Para la evaluación, se aplicará el código entregado a un conjunto de datos particular y se verificará el funcionamiento de los métodos  `.fit(X, y)`, `.predict(X)` y `.score(X, y)`, junto con los valores de los atributos `.W`, `.b` y `.history`.\n",
    "\n",
    "\n",
    "\n"
   ]
  }
 ],
 "metadata": {
  "@webio": {
   "lastCommId": null,
   "lastKernelId": null
  },
  "colab": {
   "collapsed_sections": [],
   "name": "Exercises03.ipynb",
   "provenance": []
  },
  "kernelspec": {
   "display_name": "Python 3 (ipykernel)",
   "language": "python",
   "name": "python3"
  },
  "language_info": {
   "codemirror_mode": {
    "name": "ipython",
    "version": 3
   },
   "file_extension": ".py",
   "mimetype": "text/x-python",
   "name": "python",
   "nbconvert_exporter": "python",
   "pygments_lexer": "ipython3",
   "version": "3.10.9"
  },
  "vscode": {
   "interpreter": {
    "hash": "7cedb68cf63e90bc16f84e333713309767fdee79fa6bfd701075226f4fc8e495"
   }
  }
 },
 "nbformat": 4,
 "nbformat_minor": 1
}
