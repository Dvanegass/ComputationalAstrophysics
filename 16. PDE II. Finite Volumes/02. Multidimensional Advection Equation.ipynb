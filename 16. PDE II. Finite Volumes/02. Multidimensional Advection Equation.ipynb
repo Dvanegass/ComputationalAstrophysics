{
 "cells": [
  {
   "cell_type": "markdown",
   "metadata": {
    "id": "Uw2bcL6FltCB"
   },
   "source": [
    "![Astrofisica Computacional](../logo.PNG)"
   ]
  },
  {
   "cell_type": "markdown",
   "metadata": {},
   "source": [
    "---\n",
    "## 02. Multidimensional Advection Equation\n",
    "\n",
    "Eduard Larrañaga (ealarranaga@unal.edu.co)\n",
    "\n",
    "---"
   ]
  },
  {
   "cell_type": "markdown",
   "metadata": {
    "id": "aSVOtGizlnwl"
   },
   "source": [
    "### Summary\n",
    "\n",
    "The solution of the multidimensional advection equation is obtained by the finite volume method\n",
    "\n",
    "\n",
    "---"
   ]
  },
  {
   "cell_type": "markdown",
   "metadata": {
    "id": "8ogdbF2qlnwl"
   },
   "source": [
    "---\n",
    "\n",
    "## Linear 2-Dimensional Advection Equation\n",
    "\n",
    "The linear 2-dimensional advection equation for the function $\\psi = \\psi(t,x,y)$ is\n",
    "\n",
    "\\begin{equation}\n",
    "\\partial_t \\psi + u \\partial_x \\psi + v \\partial_y \\psi = 0\n",
    "\\end{equation}\n",
    "\n",
    "where $u$ is the speed of advection in the x-direction and $v$ is the speed in the y-direction. The average of the function $\\psi(t,x,y)$ in the zone $i,j$ will be denoted as $\\psi_{i,j}$ and in general, the index $i$ will label the x-direction while the index $j$ labels the y-address.\n",
    "\n",
    "<center><img src=\"https://i.ibb.co/gMCg1gC/2Dgrid.png\" alt=\"2Dgrid\" width=\"600\"></center>\n",
    "\n",
    "---\n",
    "\n",
    "### Finite Volume Method in 2-dimensions\n",
    "\n",
    "Since $u$ and $v$ will be considered as constants, it is possible to place them inside the partial derivatives in the advection equation,\n",
    "\n",
    "\\begin{equation}\n",
    "\\partial_t \\psi + \\partial_x (u \\psi) + \\partial_y (v \\psi) = 0.\n",
    "\\end{equation}\n",
    "\n",
    "The average of the function $\\psi$ in a zone is defined by integrating over the 2-dimensional *volume* of one of the intervals,\n",
    "\n",
    "\\begin{equation}\n",
    "\\psi_{i,j} = \\frac{1}{\\Delta x \\Delta y}\n",
    "   \\int_{x_{i-\\frac{1}{2}}}^{x_{i+\\frac{1}{2}}} \\int_{y_{j-\\frac{1}{2}}}^ {y_{j+\\frac{1}{2}}}\n",
    "   \\psi(x,y,t) \\, dx \\, dy .\n",
    "\\end{equation}\n",
    "\n",
    "In this way, integrating the advection equation with respect to $x$ and $y$, we obtain\n",
    "\n",
    "\\begin{align}\n",
    "\\frac{1}{\\Delta x \\Delta y}\n",
    "  \\int_{x_{i-\\frac{1}{2}}}^{x_{i+\\frac{1}{2}}}\n",
    "  \\int_{y_{j-\\frac{1}{2}}}^{y_{j+\\frac{1}{2}}} \\partial_t \\psi \\, dx \\, dy =\n",
    "  &- \\frac{1}{\\Delta x \\Delta y}\n",
    "       \\int_{x_{i-\\frac{1}{2}}}^{x_{i+\\frac{1}{2}}} \\int_{y_{j-\\frac{1}{2}}}^ {y_{j+\\frac{1}{2}}}\n",
    "      \\partial_x (u \\psi) \\, dx \\, dy \\nonumber \\\\\n",
    "  &- \\frac{1}{\\Delta x \\Delta y}\n",
    "       \\int_{x_{i-\\frac{1}{2}}}^{x_{i+\\frac{1}{2}}} \\int_{y_{j-\\frac{1}{2}}}^ {y_{j+\\frac{1}{2}}}\n",
    "      \\partial_y (v \\psi) \\, dx \\, dy\n",
    "\\end{align}\n",
    "\n",
    "and interchanging the integral with the time derivative operator on the left hand side and suitably integrating the terms on the right hand side we arrive at\n",
    "\n",
    "\\begin{align}\n",
    " \\frac{\\partial \\psi_{i,j}}{\\partial t} =\n",
    "  &- \\frac{1}{\\Delta x\\Delta y} \\int_{y_{j-\\frac{1}{2}}}^{y_{j+\\frac{1}{2}}}\n",
    "     \\left \\{ (u \\psi)_{i+\\frac{1}{2},j} - (u \\psi)_{i-\\frac{1}{2},j} \\right \\} dy  \\\\\n",
    "  &- \\frac{1}{\\Delta x\\Delta y} \\int_{x_{i-\\frac{1}{2}}}^{x_{i+\\frac{1}{2}}}\n",
    "     \\left \\{ (v \\psi)_{i,j+\\frac{1}{2}} - (v \\psi)_{i,j-\\frac{1}{2}} \\right \\} dx\n",
    "\\end{align}\n",
    "\n",
    "Integration of this equation between the times $t^n$ and $t^{n+1}$ gives as result\n",
    "\n",
    "\\begin{align}\n",
    " \\psi_{i,j}^{n+1} - \\psi_{i,j}^n =\n",
    "  &- \\frac{1}{\\Delta x\\Delta y} \\int_{t^n}^{t^{n+1}} \\int_{y_{j-\\frac{1}{2}}}^ {y_{j+\\frac{1}{2}}}\n",
    "     \\left \\{ (u \\psi)_{i+\\frac{1}{2},j} - (u \\psi)_{i-\\frac{1}{2},j} \\right \\} dy dt  \\\\\n",
    "  &- \\frac{1}{\\Delta x\\Delta y} \\int_{t^n}^{t^{n+1}} \\int_{x_{i-\\frac{1}{2}}}^ {x_{i+\\frac{1}{2}}}\n",
    "     \\left \\{ (v \\psi)_{i,j+\\frac{1}{2}} - (v \\psi)_{i,j-\\frac{1}{2}} \\right \\} dx dt .\n",
    "\\end{align}"
   ]
  },
  {
   "cell_type": "markdown",
   "metadata": {},
   "source": [
    "Now, the flux through an interface surface is defined as the average over the surface of that face and over time. This results in the following expressions:\n",
    "\n",
    "1. Through a constant x face:\n",
    "\\begin{equation}\n",
    "\\langle (u\\psi)_{i+\\frac{1}{2},j}\\rangle_{(t)} = \\frac{1}{\\Delta y \\Delta t}\n",
    "     \\int_{t^n}^{t^{n+1}} \\int_{y_{j-\\frac{1}{2}}}^{y_{j+\\frac{1}{2}}} ( u\\psi)_{i+\\frac{1}{2},j}\\, dy dt\n",
    "\\end{equation}\n",
    "\n",
    "2. Through a constant y face:\n",
    "\\begin{equation}\n",
    "\\langle (v\\psi)_{i,j+\\frac{1}{2}}\\rangle_{(t)} = \\frac{1}{\\Delta x \\Delta t}\n",
    "     \\int_{t^n}^{t^{n+1}} \\int_{x_{i-\\frac{1}{2}}}^{x_{i+\\frac{1}{2}}} ( v\\psi)_{i,j+\\frac{1}{2}}\\, dx dt\n",
    "\\end{equation}\n",
    "\n",
    "where $\\langle . \\rangle_{(t)}$ will denote the time average over that face."
   ]
  },
  {
   "cell_type": "markdown",
   "metadata": {
    "id": "SDSAmoGflnwm"
   },
   "source": [
    "As in the case of 1-dimensional advection, the time average is replaced by the flux at the midpoint in time and now, also the average over the face will be replaced by the value of the flux at the center of the face. ,\n",
    "\n",
    "\\begin{equation}\n",
    "\\langle (u\\psi)_{i+\\frac{1}{2},j} \\rangle_{(t)} \\approx (u\\psi)_{i+\\frac{1}{2},j}^ {n+\\frac{1}{2}}\n",
    "\\end{equation}\n",
    "\n",
    "and therefore,\n",
    "\n",
    "\\begin{equation}\n",
    "\\psi_{i,j}^{n+1} = \\psi_{i,j}^n - \\Delta t \\left [\n",
    "   \\frac{(u\\psi)_{i+\\frac{1}{2},j}^{n+\\frac{1}{2}} - (u\\psi)_{i-\\frac{1}{ 2},j}^{n+\\frac{1}{2}}}{\\Delta x} +\n",
    "   \\frac{(v\\psi)_{i,j+\\frac{1}{2}}^{n+\\frac{1}{2}} - (v\\psi)_{i,j-\\frac{1 }{2}}^{n+\\frac{1}{2}}}{\\Delta y} \\right ]\n",
    "\\end{equation}\n",
    "\n",
    "\n",
    "\n",
    "In this linear advection problem, where $u$ and $v$ are constants, it is only necessary to find the values ​​of $a$ a at the interfaces, that is $\\psi^{n+1/2}_{ i\\pm 1/2 , j}$ on x-interfaces and $\\psi^{n+1/2}_{i, j \\pm 1/2}$ on y-interfaces. There are two methods for calculating these states: **with dimensional split** and **without split**."
   ]
  },
  {
   "cell_type": "markdown",
   "metadata": {
    "id": "33wrJjswlnwm"
   },
   "source": [
    "---\n",
    "### Dimensional Split Method\n",
    "\n",
    "The methods with dimensional division are the simplest to implement and are based on the fact that each one of the dimensions is worked independently of the others. This implies that the 1-dimensional solution method described in previous classes will be used in each of the directions.\n",
    "\n",
    "Strang's method is a second-order time-precision algorithm in which the dimensional update order alternates at each time step. In this way, each temporary update in a $\\Delta t$ consists of an update in $x$ followed by an update in $y$,\n",
    "\n",
    "\\begin{eqnarray}\n",
    "\\bar{\\psi}_{i,j} &=& \\psi_{i,j}^n\n",
    "  - \\Delta t \\frac{ u \\psi_{i+\\frac{1}{2},j}^{n+\\frac{1}{2}} - u \\psi_{i-\\frac{1}{2} ,j}^{n+\\frac{1}{2}} }{\\Delta x}\\\\\n",
    "\\psi_{i,j}^{n+1} &=& \\bar{\\psi}_{i,j}\n",
    "  - \\Delta t \\frac{ v \\bar{\\psi}_{i,j+\\frac{1}{2}}^{n+\\frac{1}{2}} - v \\bar{\\psi}_{ i,j-\\frac{1}{2}}^{n+\\frac{1}{2}} }{\\Delta y}.\n",
    "\\end{eqnarray}\n",
    "\n",
    "To build the states at the interfaces, the same process described for the 1-dimensional advection equation is followed, i.e. considering the expansions from the left or from the right and solving the corresponding Riemann problem."
   ]
  },
  {
   "cell_type": "code",
   "execution_count": null,
   "metadata": {},
   "outputs": [],
   "source": []
  }
 ],
 "metadata": {
  "@webio": {
   "lastCommId": null,
   "lastKernelId": null
  },
  "colab": {
   "collapsed_sections": [],
   "name": "PDE05.ipynb",
   "provenance": []
  },
  "kernelspec": {
   "display_name": "Python 3 (ipykernel)",
   "language": "python",
   "name": "python3"
  },
  "language_info": {
   "codemirror_mode": {
    "name": "ipython",
    "version": 3
   },
   "file_extension": ".py",
   "mimetype": "text/x-python",
   "name": "python",
   "nbconvert_exporter": "python",
   "pygments_lexer": "ipython3",
   "version": "3.9.5"
  }
 },
 "nbformat": 4,
 "nbformat_minor": 1
}
