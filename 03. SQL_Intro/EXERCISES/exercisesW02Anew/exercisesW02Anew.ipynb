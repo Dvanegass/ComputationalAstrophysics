{
 "cells": [
  {
   "cell_type": "markdown",
   "metadata": {
    "id": "NgGr6lO24Kw7"
   },
   "source": [
    "<center>\n",
    "<img src=\"https://i.ibb.co/b3T5hkz/logo.png\" alt=\"logo\" border=\"0\" width=600>"
   ]
  },
  {
   "cell_type": "markdown",
   "metadata": {},
   "source": [
    "---\n",
    "\n",
    "Eduard Larrañaga (ealarranaga@unal.edu.co)\n",
    "\n",
    "---"
   ]
  },
  {
   "cell_type": "markdown",
   "metadata": {},
   "source": [
    "\n",
    "# W02A. Datos en Astrofísica\n"
   ]
  },
  {
   "cell_type": "markdown",
   "metadata": {
    "id": "IXMtRwwg4Kw8"
   },
   "source": [
    "---\n",
    "### A. Descargando datos del SDSS\n",
    "Escriba una busqueda en SQL que permita encontrar en el SDSS (DS18), utilizando las tablas PhotoObj y SpecObj, los objetos localizados en la región con ascención recta entre 130.9 y 131, que sean mas brillantes que una magnitud  20.0 en la banda `g` y con un corrimiento al rojo (SpecObj) entre 0.2 y 0.5. Realice la conexión entre las dos tablas a través de objid (PhotoObj) y bestobjid (SpecObj) y obtenga las siguientes características: \n",
    "\n",
    "- Object ID (PhotoObj)\n",
    "- ra \n",
    "- dec\n",
    "- las 5 magnitudes u,g,r,i,z \n",
    "- specobjid (SpecObj)\n",
    "- z o redhsift (SepcObj)"
   ]
  },
  {
   "cell_type": "markdown",
   "metadata": {},
   "source": [
    "---\n",
    "### B. Análisis de los Datos obtenidos\n",
    "\n",
    "1. Escriba un código que lea el archivo de datos descargado y determine el número de objetos obtenidos. Verifique cuantos objetos son de la clase 'GALAXY' y cuantos son 'QSO'.\n",
    "\n",
    "2. Identifique la galaxia con el redshift más alto y el quasar con el redshift más pequeño."
   ]
  },
  {
   "cell_type": "markdown",
   "metadata": {
    "id": "m7laERy44Kw9"
   },
   "source": [
    "---\n",
    "### C. Índices de Color\n",
    "\n",
    "1. Defina columnas en el dataframe con los índices de color `u-g`, `g-i`, `r-i` e `i-z` para cada uno de los objetos.\n",
    "\n",
    "\n",
    "2. Realice una gráfica incluyendo todos los objetos, mostrando el índice de color `r-i` (eje vertical) vs. índice de color `u-g` (eje horizontal) e indicando el valor de redshift para cada objeto con una escala de color (utilice el mapa de color 'inferno').  "
   ]
  },
  {
   "cell_type": "markdown",
   "metadata": {},
   "source": []
  }
 ],
 "metadata": {
  "@webio": {
   "lastCommId": null,
   "lastKernelId": null
  },
  "colab": {
   "name": "Errors01.ipynb",
   "provenance": []
  },
  "kernelspec": {
   "display_name": "Python 3 (ipykernel)",
   "language": "python",
   "name": "python3"
  },
  "language_info": {
   "codemirror_mode": {
    "name": "ipython",
    "version": 3
   },
   "file_extension": ".py",
   "mimetype": "text/x-python",
   "name": "python",
   "nbconvert_exporter": "python",
   "pygments_lexer": "ipython3",
   "version": "3.10.9"
  }
 },
 "nbformat": 4,
 "nbformat_minor": 1
}
