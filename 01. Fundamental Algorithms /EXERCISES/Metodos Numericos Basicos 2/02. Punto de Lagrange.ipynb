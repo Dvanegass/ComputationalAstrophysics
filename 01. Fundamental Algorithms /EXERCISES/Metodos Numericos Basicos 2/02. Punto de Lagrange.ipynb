{
 "cells": [
  {
   "cell_type": "markdown",
   "metadata": {
    "id": "NgGr6lO24Kw7"
   },
   "source": [
    "![Astrofisica Computacional](../logo.PNG)"
   ]
  },
  {
   "cell_type": "markdown",
   "metadata": {},
   "source": [
    "---\n",
    "\n",
    "Eduard Larrañaga (ealarranaga@unal.edu.co)\n",
    "\n",
    "---"
   ]
  },
  {
   "cell_type": "markdown",
   "metadata": {},
   "source": [
    "---\n",
    "# Ejercicios 02. Métodos Numéricos Básicos II\n",
    "\n",
    "## B. El Punto de Lagrange $L_1$"
   ]
  },
  {
   "cell_type": "markdown",
   "metadata": {
    "id": "IXMtRwwg4Kw8"
   },
   "source": [
    "El punto de Lagrange $L_1$ del sistema Tierra-Luna es aquel lugar en el que la atracción gravitacional de estos dos cuerpos actuando sobre una partícula de prueba se combina de tal manera que se logra un equilibrio con la fuerca centrípeta que mantiene la partícula en su orbita. "
   ]
  },
  {
   "cell_type": "markdown",
   "metadata": {
    "id": "6MsfOTJP4Kw8"
   },
   "source": [
    "---\n",
    "\n",
    "1. Asuma que las orbitas son circulares y que la masa de la Tierra es mucho mayor que la de la Luna (y que la de la partícula de prueba) para mostrar que la distancia $r$ desde el centro de la Tierra hasta el punto $L_1$ satisface la ecuación\n",
    "    \\begin{equation}\n",
    "        \\frac{GM}{r^2} - \\frac{Gm}{(R-r)^2} = \\omega^2 r,\n",
    "    \\end{equation}\n",
    "    donde $R$ es la distance entre la Tierra y la Luna, $M$ y $m$ son las masas de la Tierra y de la Luna, respectivamente,  y $\\omega$ es la velocidad angular de la Luna y la partícula alrededor de la Tierra."
   ]
  },
  {
   "cell_type": "markdown",
   "metadata": {},
   "source": [
    "**Solución.**\n",
    "\n",
    "La fuerza total que siente la partícula de prueba se puede escribir como\n",
    "\n",
    "\\begin{equation}\n",
    "\\textbf{F} = \\textbf{F}_T + \\textbf{F}_L = - \\mu \\omega^2 \\textbf{r},\n",
    "\\end{equation}\n",
    "\n",
    "donde $\\textbf{F}_T$ es la fuerza gravitacional que ejerce la Tierra, $\\textbf{F}_L$ es la fuerza gravitacional que ejerce la Luna, $\\mu$ es la masa de la partícula de prueba y $\\omega$ es la velocidad angular de la partícula de prueba en su orbita alrededor de la Tierra en una circunferencia de radio $r$. Reemplazando las fuerzas gravitacionales se tiene \n",
    "\n",
    "\\begin{equation}\n",
    "-\\frac{GM\\mu}{r^2} + \\frac{Gm\\mu}{(R-r)^2} = -\\mu \\omega^2 r\n",
    "\\end{equation}\n",
    "\n",
    "\\begin{equation}\n",
    "\\frac{GM}{r^2} - \\frac{Gm}{(R-r)^2} =  \\omega^2 r.\n",
    "\\end{equation}"
   ]
  },
  {
   "cell_type": "markdown",
   "metadata": {},
   "source": [
    "---\n",
    "2. Claramente esta ecuación es un polinomio de orden 5 en $r$ y por ello su solución debe encontrarse en forma numérica. Escriba un programa que utilice el método de la secante (o Newton-Raphson) para resolver esta ecuación y encontrar la ubicación del punto $L_1$. Para ello considere los siguientes parámetros:\n",
    "\n",
    "- $G = 6.674 \\times 10^{-11} \\text{ m}^3 \\text{ kg}^{-1} \\text{ s}^{-2}$\n",
    "- $M = 5.974 \\times 10^{24} \\text{ kg}$\n",
    "- $m = 7.348 \\times 10^{22} \\text{ kg}$\n",
    "- $R = 3.844 \\times 10^{8} \\text{ m}$\n",
    "- $\\omega = 2.662 \\times 10^{-6} \\text{ s}^{-1}$\n"
   ]
  },
  {
   "cell_type": "markdown",
   "metadata": {},
   "source": [
    "---\n",
    "**Solución.**\n",
    "\n",
    "Debido a los valores de las constantes involucradas dentro de la fuerza, re-escalaremos la expresión en la siguiente forma:\n",
    "\n",
    "\\begin{align}\n",
    "GM(R-r)^2 - Gmr^2 = &\\omega^2 r^3(R-r)^2 \\\\\n",
    "GMR^2\\left( 1-\\frac{r}{R}\\right)^2 - Gmr^2 = &\\omega^2 r^3R^2\\left( 1-\\frac{r}{R}\\right)^2 \\\\\n",
    "GM\\left( 1-\\frac{r}{R}\\right)^2 - Gm\\left( \\frac{r}{R}\\right)^2 = &\\omega^2 r^3\\left( 1-\\frac{r}{R}\\right)^2 \\\\\n",
    "GM\\left( 1-\\frac{r}{R}\\right)^2 - Gm\\left( \\frac{r}{R}\\right)^2 = &\\omega^2 R^3 \\left(\\frac{r}{R}\\right)^3\\left( 1-\\frac{r}{R}\\right)^2.\n",
    "\\end{align}\n",
    "\n",
    "De esta forma definimos la variable $x = \\frac{r}{R}$ para tener\n",
    "\\begin{align}\n",
    "GM\\left( 1 - x \\right)^2 - Gmx^2 = &\\omega^2 R^3 x^3 \\left( 1-x\\right)^2 \\\\\n",
    "\\left( 1 - x \\right)^2 - \\frac{m}{M} x^2 = &\\frac{\\omega^2 R^3}{GM} x^3 \\left( 1-x\\right)^2\n",
    "\\end{align}\n",
    "\n",
    "De esta forma, consideraremos la siguiente función a la que se le debe encontrar la raiz,\n",
    "\n",
    "\n",
    "\\begin{equation}\n",
    "f(x) = (1-x)^2 - \\frac{m}{M} x^2 - \\frac{\\omega^2 R^3}{GM} x^3 \\left( 1-x\\right)^2.\n",
    "\\end{equation}"
   ]
  },
  {
   "cell_type": "code",
   "execution_count": 1,
   "metadata": {
    "colab": {
     "base_uri": "https://localhost:8080/"
    },
    "executionInfo": {
     "elapsed": 551,
     "status": "ok",
     "timestamp": 1618613627388,
     "user": {
      "displayName": "Eduard Alexis Larranaga",
      "photoUrl": "https://lh3.googleusercontent.com/a-/AOh14GgCVABzEgj-rCdyxWa29RnA0kIYUCXAaVbnRYOEhQ=s64",
      "userId": "04402438389940282602"
     },
     "user_tz": 300
    },
    "id": "DgDigz_f4Kw9",
    "outputId": "ebac9517-b206-429b-af1a-05d95caa4343"
   },
   "outputs": [
    {
     "data": {
      "image/png": "[encoded data removed]",
      "text/plain": [
       "<Figure size 720x504 with 1 Axes>"
      ]
     },
     "metadata": {
      "needs_background": "light"
     },
     "output_type": "display_data"
    }
   ],
   "source": [
    "import numpy as np\n",
    "import matplotlib.pyplot as plt\n",
    "\n",
    "G = 6.674e-11\n",
    "M = 5.974e24\n",
    "m = 7.348e22\n",
    "R = 3.844e8\n",
    "omega = 2.662e-6\n",
    "\n",
    "def f(x):\n",
    "    C = (omega**2)*(R**3)/(G*M)\n",
    "    return (1-x)**2 - (m/M)*x**2 - C*(x**3)*((1-x)**2)\n",
    "\n",
    "\n",
    "\n",
    "\n",
    "x_range = np.linspace(0,1,1000)\n",
    "\n",
    "fig, ax = plt.subplots(figsize=(10,7))\n",
    "ax.plot(x_range,f(x_range), color='cornflowerblue')\n",
    "ax.axhline(0, color='black', alpha=0.4)\n",
    "\n",
    "#ax.set_ylim(0, 2.5e5)\n",
    "ax.set_xlabel(r'$x$')\n",
    "ax.set_ylabel(r'$f(x)$')\n",
    "plt.show()"
   ]
  },
  {
   "cell_type": "code",
   "execution_count": 2,
   "metadata": {
    "colab": {
     "base_uri": "https://localhost:8080/"
    },
    "executionInfo": {
     "elapsed": 670,
     "status": "ok",
     "timestamp": 1618613630416,
     "user": {
      "displayName": "Eduard Alexis Larranaga",
      "photoUrl": "https://lh3.googleusercontent.com/a-/AOh14GgCVABzEgj-rCdyxWa29RnA0kIYUCXAaVbnRYOEhQ=s64",
      "userId": "04402438389940282602"
     },
     "user_tz": 300
    },
    "id": "PNIC-GV24Kw9",
    "outputId": "9bca8102-5f87-4be1-98c5-dc320e3830b1",
    "scrolled": true
   },
   "outputs": [
    {
     "name": "stdout",
     "output_type": "stream",
     "text": [
      "La ubicación del punto de Lagrange es\n",
      "\n",
      " r = 3.26045e+08 m. = 0.84819217 R\n",
      "\n",
      "para la cual la función tiene un valor de\n",
      "\n",
      " f(r) =  5.57894182e-12\n"
     ]
    }
   ],
   "source": [
    "def secMethod(f,root0,root,epsilon=1e-10):\n",
    "    '''\n",
    "    Secant Method for finding a root\n",
    "    --------------------------------------------\n",
    "    Arguments:\n",
    "    f: Function \n",
    "    root0,root: Initial points to begin the search \n",
    "                of the root\n",
    "    epsilon: Tolerance for the root\n",
    "    --------------------------------------------\n",
    "    Dependeces: NumPy\n",
    "    --------------------------------------------\n",
    "    '''\n",
    "    while np.abs(f(root))>epsilon:\n",
    "        new_root = root - f(root)*(root - root0)/(f(root) - f(root0))\n",
    "        root0, root = root, new_root\n",
    "    return root\n",
    "\n",
    "root = secMethod(f, 0.5, 0.55)\n",
    "print(f'La ubicación del punto de Lagrange es\\n\\n r = {root*R:.5e} m. = {root:.8f} R\\n')\n",
    "print(f'para la cual la función tiene un valor de\\n\\n f(r) =  {f(root):.8e}')"
   ]
  },
  {
   "cell_type": "markdown",
   "metadata": {},
   "source": [
    "Aqui se puede ver la grafica con la localización de la raíz utilizando todas las constantes y la forma original de la ecuación."
   ]
  },
  {
   "cell_type": "code",
   "execution_count": 11,
   "metadata": {},
   "outputs": [
    {
     "data": {
      "image/png": "[encoded data removed]",
      "text/plain": [
       "<Figure size 720x504 with 1 Axes>"
      ]
     },
     "metadata": {
      "needs_background": "light"
     },
     "output_type": "display_data"
    }
   ],
   "source": [
    "import numpy as np\n",
    "import matplotlib.pyplot as plt\n",
    "\n",
    "G = 6.674e-11\n",
    "M = 5.974e24\n",
    "m = 7.348e22\n",
    "R = 3.844e8\n",
    "omega = 2.662e-6\n",
    "\n",
    "def f(r):\n",
    "    return G*M/r**2 - G*m/(R-r)**2 - omega**2*r\n",
    "\n",
    "\n",
    "\n",
    "\n",
    "x_range = np.linspace(3e8,3.5e8,1000)\n",
    "\n",
    "fig, ax = plt.subplots(figsize=(10,7))\n",
    "ax.plot(x_range,f(x_range), color='cornflowerblue')\n",
    "ax.axhline(0, color='black', alpha=0.4)\n",
    "ax.set_xlabel(r'$r$')\n",
    "ax.set_ylabel(r'$f(r)$')\n",
    "plt.show()"
   ]
  },
  {
   "cell_type": "code",
   "execution_count": null,
   "metadata": {},
   "outputs": [],
   "source": []
  }
 ],
 "metadata": {
  "@webio": {
   "lastCommId": null,
   "lastKernelId": null
  },
  "colab": {
   "name": "Errors01.ipynb",
   "provenance": []
  },
  "kernelspec": {
   "display_name": "Python 3 (ipykernel)",
   "language": "python",
   "name": "python3"
  },
  "language_info": {
   "codemirror_mode": {
    "name": "ipython",
    "version": 3
   },
   "file_extension": ".py",
   "mimetype": "text/x-python",
   "name": "python",
   "nbconvert_exporter": "python",
   "pygments_lexer": "ipython3",
   "version": "3.10.9"
  }
 },
 "nbformat": 4,
 "nbformat_minor": 1
}
