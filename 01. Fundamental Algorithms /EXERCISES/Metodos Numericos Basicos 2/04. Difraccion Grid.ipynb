{
 "cells": [
  {
   "cell_type": "markdown",
   "metadata": {
    "id": "NgGr6lO24Kw7"
   },
   "source": [
    "![Astrofisica Computacional](../logo.PNG)"
   ]
  },
  {
   "cell_type": "markdown",
   "metadata": {},
   "source": [
    "---\n",
    "\n",
    "Eduard Larrañaga (ealarranaga@unal.edu.co)\n",
    "\n",
    "---"
   ]
  },
  {
   "cell_type": "markdown",
   "metadata": {},
   "source": [
    "---\n",
    "# Ejercicio 02. Métodos Numéricos Básicos II\n",
    "\n",
    "## D. Rejillas de Difracción"
   ]
  },
  {
   "cell_type": "markdown",
   "metadata": {
    "id": "IXMtRwwg4Kw8"
   },
   "source": [
    "En un ejercicio anterior se encontró el patró de difracción producido en una pantalla por radiación electromagnética con longitud de onda $\\lambda$ incidente en una rejilla de difracción con ancho total $w$ y enfocada por una lente de longitud focal $f$.La función correspondiente es\n",
    "\\begin{equation}\n",
    "    I(x) = \\left| \\int^{\\frac{w}{2}}_{-\\frac{w}{2}} \\sqrt{q(u)} \\exp{\\left(\\frac{2\\pi i xu}{\\lambda f}\\right)} du \\right|^2,\n",
    "\\end{equation}\n",
    "donde $x$ es la distancia sobre la pantalla desde el eje central del sistema y $q(u)$ es la función de transmisión de intensidad de la rejilla a una distancia $u$ del eje central (esta función representa la fracción de luz incidente que la rejilla deja atravesar).\n",
    "\n",
    "En aquel ejercicio se evaluó esta expresión utilizando los métodos usuales de calculo numérico de integrales. Sin  embargo, el mismo resultado puede obtenerse de una forma más eficiente al notar que la integral es en realidad una transformada de Fourier. En efecto, al aproximar la integral utilizando la regla del trapezoide con $n$ nodos ($N=n-1$ sub-intervalos) se tiene\n",
    "\\begin{align}\n",
    "    \\int^{\\frac{w}{2}}_{-\\frac{w}{2}} \\sqrt{q(u)} \\exp{\\left(\\frac{2\\pi i xu}{\\lambda f}\\right)} du =& \\frac{w}{N} \\exp \\left(-\\frac{i\\pi  wx}{\\lambda f}\\right) \\sum_{j=0}^{N-1} \\sqrt{q(u_j)} \\exp \\left(\\frac{i 2\\pi  wxj}{\\lambda f N}\\right)\\\\\n",
    "    =& \\frac{w}{N} e^{-i\\pi k} \\sum_{j=0}^{N-1} y_j \\exp \\left(\\frac{i 2\\pi  kj}{N}\\right)\n",
    "\\end{align}\n",
    "donde \n",
    "\\begin{align}\n",
    "    u_j = &\\frac{jw}{N} - \\frac{w}{2},\\\\\n",
    "    k = &\\frac{wx}{\\lambda f} \n",
    "\\end{align}\n",
    "y $y_j = \\sqrt{q(u_j)}$. Comparando con la definición de la DFT se comprueba que la sumatoria corresponde al complejo conjugado $c_k^*$. De esta forma, la intensidad del patrón de interferencia se puede escribir en la forma\n",
    "\\begin{equation}\n",
    "    I(x_k) = \\frac{w^2}{N^2} \\left| c_k \\right|^2,\n",
    "\\end{equation}\n",
    "donde\n",
    "\\begin{equation}\n",
    "    x_k = \\frac{\\lambda f}{w} k.\n",
    "\\end{equation}\n",
    "\n",
    "Esta relación muestra que el patrón de intensidad en el punto $x_k$ se encuentra mediante una DFT. Sin embargo, es importante notar que los valores de $k$ son enteros $k=0,1,2,...,N-1$ y por lo tanto los puntos $x_k$ en los cuales se evaluará la intensidad están separados por intervalos de tamaño $\\frac{\\lambda f}{w}$ en la pantalla. Este espaciado puede ser muy ancho para obtener una buena representación del patrón de difracción. Por ejemplo, al tomar los datos del ejercicio anterior; $\\lambda = 500 \\text{ nm}$, $f = 1 \\text{ m}$ y $w = 200 \\text{ } \\mu \\text{m}$; se tiene un espaciamiento de puntos de $\\frac{\\lambda f}{w} = 2.5 \\text{ mm}$ que en una pantalla de $10 \\text{ cm}$ de ancho corresponde a solo 40 puntos para graficar.\n",
    "\n",
    "Una de las formas de para ajustar este inconveniente es incrementar el ancho de la rejilla de $w$ a $W>w$ con lo que el espaciado entre los puntos en la pantalla será mucho menor. Por ejemplo, al tomar $W=10w$ se incrementará en un factor de 10 el número de puntos en el patrón de difracción. Ahora bien, el espacio agregado a la rejilla debe ser opaco para que no se cambien las propiedades del sistema físico original. Por esta razón, los valores de la función de transferenica en esta nueva región debe ser $y_j = 0$.\n",
    "\n",
    "De esta forma, en términos del nuevo ancho de la rejilla se tienen las expresiones\n",
    "\\begin{equation}\n",
    "    I(x_k) = \\frac{W^2}{N^2} \\left| c_k \\right|^2,\n",
    "\\end{equation}\n",
    "donde\n",
    "\\begin{equation}\n",
    "    x_k = \\frac{\\lambda f}{W} k\n",
    "\\end{equation}\n",
    "y \n",
    "\\begin{equation}\n",
    "    c_k = \\sum_{j=0}^{N-1} y_j \\exp \\left(\\frac{i 2\\pi  kj}{N}\\right).\n",
    "\\end{equation}"
   ]
  },
  {
   "cell_type": "markdown",
   "metadata": {
    "id": "6MsfOTJP4Kw8"
   },
   "source": [
    "---\n",
    "\n",
    "1. Escriba un código que utilice la FFT para calcular el patrón de difracción para una rejilla con la función de transmisión $q(u) = \\sin^2 (\\alpha u)$ con una separación entre slits de $20 \\text{ } \\mu \\text{m}$ y con los siguientes parámetros: $\\lambda = 500 \\text{ nm}$, $f = 1 \\text{ m}$, $w = 200 \\text{ } \\mu \\text{m}$, $W = 10w = 2 \\text{ mm}$ y una pantalla con un ancho total de $10 \\text{ cm}$.\n",
    "    Elija un número de puntos, $n$, adecuado para obtener una buena aproximación de la función de transmisión y realice un gráfico del patrón de intensidad en la pantalla en función de la posición $x$ en el rango $-5 \\text{ cm} \\leq x \\leq 5 \\text{ cm}$. Este patrón debe ser el mismo obtenido en los Ejercicios 01."
   ]
  },
  {
   "cell_type": "markdown",
   "metadata": {},
   "source": [
    "**Solución**\n",
    "\n",
    "Primero se definirá la función de transmisión y se creará un arreglo con los puntos para la FFT. "
   ]
  },
  {
   "cell_type": "code",
   "execution_count": 74,
   "metadata": {
    "colab": {
     "base_uri": "https://localhost:8080/"
    },
    "executionInfo": {
     "elapsed": 551,
     "status": "ok",
     "timestamp": 1618613627388,
     "user": {
      "displayName": "Eduard Alexis Larranaga",
      "photoUrl": "https://lh3.googleusercontent.com/a-/AOh14GgCVABzEgj-rCdyxWa29RnA0kIYUCXAaVbnRYOEhQ=s64",
      "userId": "04402438389940282602"
     },
     "user_tz": 300
    },
    "id": "DgDigz_f4Kw9",
    "outputId": "ebac9517-b206-429b-af1a-05d95caa4343"
   },
   "outputs": [],
   "source": [
    "import numpy as np\n",
    "import matplotlib.pyplot as plt\n",
    "\n",
    "def q(u,slit_separation):\n",
    "    '''\n",
    "    Transmission function\n",
    "    ------------------------------------------------------------\n",
    "    Arguments\n",
    "    u: point location in the grid measured in micro-meters\n",
    "    slit_separation: separation between slits measured in \n",
    "                     micro-meters\n",
    "    ------------------------------------------------------------\n",
    "    Dependences: NumPy\n",
    "    ------------------------------------------------------------\n",
    "    '''\n",
    "    # Parameter alpha in the transmission function\n",
    "    alpha = np.pi/slit_separation\n",
    "    return (np.sin(alpha*u))**2\n",
    "\n",
    "# Separtions between slits (micro-meters)\n",
    "slit_separation = 20\n",
    "\n",
    "# Total number of slits\n",
    "N_slits = 10\n",
    "\n",
    "# Total width of the grid\n",
    "w = slit_separation*N_slits\n",
    "\n",
    "if N_slits%2 == 0:\n",
    "    w_m = slit_separation*N_slits/2\n",
    "else:\n",
    "    w_m = slit_separation*(N_slits+1)/2\n",
    "\n",
    "# Number of points for the FFT\n",
    "n = 400\n",
    "\n",
    "u_range = np.linspace(-w_m, w_m, n)\n",
    "\n",
    "y = np.sqrt(q(u_range, slit_separation))"
   ]
  },
  {
   "cell_type": "code",
   "execution_count": 75,
   "metadata": {},
   "outputs": [
    {
     "data": {
      "image/png": "[encoded data removed]",
      "text/plain": [
       "<Figure size 432x288 with 1 Axes>"
      ]
     },
     "metadata": {
      "needs_background": "light"
     },
     "output_type": "display_data"
    }
   ],
   "source": [
    "plt.figure()\n",
    "plt.plot(u_range, y)\n",
    "plt.show()"
   ]
  },
  {
   "cell_type": "markdown",
   "metadata": {
    "id": "W7c9sX8R4Kw9"
   },
   "source": [
    "---\n",
    "3. Implemente un código que calcule y grafique la intensidad del patrón de intensidad producido por la rejilla descrita en el punto anterior si esta tiene un total de 10 slits y la longitud de onda de la radiación incidente es $\\lambda = 500 \\text{ nm}$. Además, asuma que la longitud focal del lente es $f = 1 \\text{ m}$ y que el ancho de la pantalla es de $10 \\text{ cm}$."
   ]
  },
  {
   "cell_type": "code",
   "execution_count": 76,
   "metadata": {
    "colab": {
     "base_uri": "https://localhost:8080/"
    },
    "executionInfo": {
     "elapsed": 670,
     "status": "ok",
     "timestamp": 1618613630416,
     "user": {
      "displayName": "Eduard Alexis Larranaga",
      "photoUrl": "https://lh3.googleusercontent.com/a-/AOh14GgCVABzEgj-rCdyxWa29RnA0kIYUCXAaVbnRYOEhQ=s64",
      "userId": "04402438389940282602"
     },
     "user_tz": 300
    },
    "id": "PNIC-GV24Kw9",
    "outputId": "9bca8102-5f87-4be1-98c5-dc320e3830b1"
   },
   "outputs": [
    {
     "data": {
      "image/png": "[encoded data removed]",
      "text/plain": [
       "<Figure size 720x432 with 1 Axes>"
      ]
     },
     "metadata": {
      "needs_background": "light"
     },
     "output_type": "display_data"
    }
   ],
   "source": [
    "from scipy.fft import fft\n",
    "\n",
    "# Parameters\n",
    "lmbda=500 # nm\n",
    "fd=1 # m\n",
    "screen_size = 10 # cm\n",
    "\n",
    "lmbda *= 1e-3 # nm to micrometer\n",
    "fd *= 1e6 # m to micrometer\n",
    "screen_size *= 1e4 # cm to micrometer\n",
    "\n",
    "W = 10*w\n",
    "\n",
    "N_screen = int(screen_size/(lmbda*fd/W))\n",
    "\n",
    "c = fft(y)\n",
    "\n",
    "x_range = (lmbda*fd/W)*np.arange(-N_screen, N_screen)\n",
    "intensity_pattern = np.ones_like(x_range)\n",
    "for i in range(N_screen):\n",
    "    intensity_pattern[i+N_screen] = (W*abs(c[i])/N_screen)**2\n",
    "    intensity_pattern[i] = (W*abs(c[i-N_screen])/N_screen)**2\n",
    "\n",
    "plt.figure(figsize=(10,6))\n",
    "plt.plot(x_range, intensity_pattern, color='black')\n",
    "#plt.plot(range(len(c)), abs(c), color='black')\n",
    "plt.grid()\n",
    "plt.xlabel(r'$x$')\n",
    "plt.ylabel(r'$I(x)$')\n",
    "plt.title('Intensity Function for the Diffraction grid')\n",
    "plt.show()"
   ]
  },
  {
   "cell_type": "code",
   "execution_count": 77,
   "metadata": {
    "colab": {
     "base_uri": "https://localhost:8080/"
    },
    "executionInfo": {
     "elapsed": 433,
     "status": "ok",
     "timestamp": 1618613633509,
     "user": {
      "displayName": "Eduard Alexis Larranaga",
      "photoUrl": "https://lh3.googleusercontent.com/a-/AOh14GgCVABzEgj-rCdyxWa29RnA0kIYUCXAaVbnRYOEhQ=s64",
      "userId": "04402438389940282602"
     },
     "user_tz": 300
    },
    "id": "MgDOo2ez4Kw-",
    "outputId": "50223361-d357-489c-f9a6-46a48fa7c630"
   },
   "outputs": [
    {
     "data": {
      "image/png": "[encoded data removed]",
      "text/plain": [
       "<Figure size 720x720 with 1 Axes>"
      ]
     },
     "metadata": {
      "needs_background": "light"
     },
     "output_type": "display_data"
    }
   ],
   "source": [
    "N = 1000\n",
    "xygrid = np.zeros([N,2*N_screen])\n",
    "diffraction_pattern = np.zeros([N,2*N_screen])\n",
    "\n",
    "for i in range(N):\n",
    "    diffraction_pattern[i,:] =intensity_pattern \n",
    "\n",
    "extent = -5e4,5e4,0,1e4\n",
    "plt.figure(figsize=(10,10))\n",
    "plt.imshow(diffraction_pattern, cmap='hot', vmax=1, extent=extent)\n",
    "plt.title('Intensity Function for the Diffraction Grid')\n",
    "plt.xlabel(r'x [ $\\mu m$ ]')\n",
    "plt.show()"
   ]
  },
  {
   "cell_type": "code",
   "execution_count": null,
   "metadata": {},
   "outputs": [],
   "source": []
  }
 ],
 "metadata": {
  "colab": {
   "name": "Errors01.ipynb",
   "provenance": []
  },
  "kernelspec": {
   "display_name": "Python 3 (ipykernel)",
   "language": "python",
   "name": "python3"
  },
  "language_info": {
   "codemirror_mode": {
    "name": "ipython",
    "version": 3
   },
   "file_extension": ".py",
   "mimetype": "text/x-python",
   "name": "python",
   "nbconvert_exporter": "python",
   "pygments_lexer": "ipython3",
   "version": "3.9.5"
  }
 },
 "nbformat": 4,
 "nbformat_minor": 1
}
