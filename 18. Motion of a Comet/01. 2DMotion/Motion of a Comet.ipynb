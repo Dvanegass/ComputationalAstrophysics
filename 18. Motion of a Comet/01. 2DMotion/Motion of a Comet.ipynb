{
 "cells": [
  {
   "cell_type": "markdown",
   "metadata": {
    "id": "-AlVXAp0hOzb"
   },
   "source": [
    "![Astrofisica Computacional](../../logo.PNG)"
   ]
  },
  {
   "cell_type": "markdown",
   "metadata": {},
   "source": [
    "---\n",
    "## 33. Ecuaciones Diferenciales Ordinarias. Movimiento de un Cometa\n",
    "\n",
    "\n",
    "Eduard Larrañaga (ealarranaga@unal.edu.co)\n",
    "\n",
    "---"
   ]
  },
  {
   "cell_type": "markdown",
   "metadata": {
    "id": "qBz9ZpSAhOzl"
   },
   "source": [
    "\n",
    "### About this notebook\n",
    "\n",
    "In this notebook we solve the equations of motion for a comet around the Sun using some integration methods.\n",
    "\n",
    "`A. Garcia. Numerical Methods for Physics. (1999). Chapter 3 `\n",
    "\n",
    "---"
   ]
  },
  {
   "cell_type": "markdown",
   "metadata": {
    "id": "tIe7Lt0dhOzm"
   },
   "source": [
    "## A Comet-Sun System\n",
    "\n",
    "In this application problem, we will describe the motion of a comet orbiting around the Sun. We will consider that the comet has a mass $m$ very small compared to Sun's mass $M$, i.e. $m \\ll M$. This assumption implies that Sun will remain static as the comet orbits under the influence of its gravity. \n",
    "\n",
    "For example, the mass of Halley's comet is $m \\approx 2.2 \\times 10^{14}$ kg which is a very small quantity compared with Sun's mass $M \\approx 1.9 \\times 10^{30}$ kg.\n",
    "\n",
    "---\n",
    "The equations of motion of the comet, in cartesian coordinates with origin on the Sun's center, are\n",
    "\n",
    "\\begin{align}\n",
    "\\frac{d^2 x}{dt^2} = &- \\frac{GM}{(x^2 + y^2)^{3/2}} x \\\\\n",
    "\\frac{d^2 y}{dt^2} = &- \\frac{GM}{(x^2 + y^2)^{3/2}} y ,\n",
    "\\end{align}\n",
    "\n",
    "where we restricted the problem to the $xy$-plane. In order to solve this ODEs system, we will transform it into a first-order differential system by introducing two new functions,\n",
    "\n",
    "\\begin{align}\n",
    "\\frac{d x}{dt} = &v^x \\\\\n",
    "\\frac{d y}{dt} = &v^y \\\\\n",
    "\\frac{dv^x}{dt} = &- \\frac{GM}{(x^2 + y^2)^{3/2}} x \\\\\n",
    "\\frac{dv^y}{dt} = &- \\frac{GM}{(x^2 + y^2)^{3/2}} y\n",
    "\\end{align}\n",
    "\n",
    "\n",
    "An important consideration to take into account involves the big numbers involved in the problem such as the Sun's mass and the distances, which will be of the order of $1$ au. Hence, it is convenient to use a system of units with\n",
    "\n",
    "- unit of mass: Solar mass\n",
    "- units of distance: au\n",
    "- units of time: years\n",
    "\n",
    "Hence, the Newtonian gravitational constant will have the value $G = 4\\pi^2$,"
   ]
  },
  {
   "cell_type": "markdown",
   "metadata": {
    "id": "K6-NqMgehOzp"
   },
   "source": [
    "The ODEs system is implemented by defining the function "
   ]
  },
  {
   "cell_type": "code",
   "execution_count": 1,
   "metadata": {
    "executionInfo": {
     "elapsed": 378,
     "status": "ok",
     "timestamp": 1621632742433,
     "user": {
      "displayName": "Eduard Alexis Larranaga",
      "photoUrl": "https://lh3.googleusercontent.com/a-/AOh14GgCVABzEgj-rCdyxWa29RnA0kIYUCXAaVbnRYOEhQ=s64",
      "userId": "04402438389940282602"
     },
     "user_tz": 300
    },
    "id": "JUjUaLSIhOzp"
   },
   "outputs": [],
   "source": [
    "import numpy as np\n",
    "\n",
    "# Newtonian Gravitational Constant\n",
    "G = 4.*np.pi**2\n",
    "M = 1. # Solar masses\n",
    "\n",
    "def f(t0, q0):\n",
    "    '''\n",
    "    ------------------------------------------\n",
    "    f(t0, q0) \n",
    "    ------------------------------------------\n",
    "    ODEs system for the motion of a comet \n",
    "    around the Sun using cartesian coordinates\n",
    "    in the orbital plane.\n",
    "    ------------------------------------------\n",
    "    Arguments:\n",
    "    t0: initial time\n",
    "    q0: numpy array with the initial condition\n",
    "        data:\n",
    "        q0[0] = x\n",
    "        q0[1] = y\n",
    "        q0[2] = dx/dt\n",
    "        q0[3] = dy/dt\n",
    "    ------------------------------------------\n",
    "    '''\n",
    "    x = q0[0]\n",
    "    y = q0[1]\n",
    "    vx = q0[2]\n",
    "    vy = q0[3]\n",
    "    f = np.zeros(4)\n",
    "    f[0] = vx\n",
    "    f[1] = vy\n",
    "    f[2] = - G*M*x/(x**2 + y**2)**(3/2)\n",
    "    f[3] = - G*M*y/(x**2 + y**2)**(3/2)\n",
    "    return f\n"
   ]
  },
  {
   "cell_type": "markdown",
   "metadata": {
    "id": "R11d5eONhOzq"
   },
   "source": [
    "--- \n",
    "## Initial Condition\n",
    "\n",
    "Choosing the initial condition may be a tricky issue when solving a ODEs system. In the case of the two-body system, an interesting way to choose the initial condition comes from the conserved quantities.\n",
    "\n",
    "Hence, in the problem of the motion of a comet around the sun, we will use the total energy $E$ and the total angular momentum $l$, defined as\n",
    "\n",
    "\\begin{equation}\n",
    "E = \\frac{1}{2} m \\left[ (v^x)^2 + (v^y)^2\\right] - \\frac{GMm}{r} \n",
    "\\end{equation}\n",
    "\n",
    "and\n",
    "\n",
    "\\begin{equation}\n",
    "\\vec{l} = \\vec{r} \\times \\vec{p} = m \\vec{r} \\times \\vec{v}.\n",
    "\\end{equation}\n",
    "\n",
    "Considering that the motion occurs in the $x-y$ plane and using cartesian coordinates, we have\n",
    "\n",
    "\\begin{equation}\n",
    "l = x p^y - y p^x = m(x v^y - y v^x).\n",
    "\\end{equation}\n",
    "\n",
    "# Effective Potential\n",
    "\n",
    "Another important quantity to take into account is the effective potential,\n",
    "\n",
    "\\begin{equation}\n",
    "V_{\\text{eff}} (r) =  \\frac{l^2}{2m^2r^2} - \\frac{GM}{r}.\n",
    "\\end{equation}\n",
    "\n",
    "\n"
   ]
  },
  {
   "cell_type": "code",
   "execution_count": 2,
   "metadata": {
    "colab": {
     "base_uri": "https://localhost:8080/",
     "height": 447
    },
    "executionInfo": {
     "elapsed": 1188,
     "status": "ok",
     "timestamp": 1621297714030,
     "user": {
      "displayName": "Eduard Alexis Larranaga",
      "photoUrl": "https://lh3.googleusercontent.com/a-/AOh14GgCVABzEgj-rCdyxWa29RnA0kIYUCXAaVbnRYOEhQ=s64",
      "userId": "04402438389940282602"
     },
     "user_tz": 300
    },
    "id": "2FVGO5acxsWM",
    "outputId": "659562d6-4665-4dcd-871f-ab82c9529742"
   },
   "outputs": [
    {
     "data": {
      "image/png": "[encoded data removed]",
      "text/plain": [
       "<Figure size 720x504 with 1 Axes>"
      ]
     },
     "metadata": {
      "needs_background": "light"
     },
     "output_type": "display_data"
    }
   ],
   "source": [
    "import matplotlib.pyplot as plt\n",
    "\n",
    "def eff_potential(r, h, M=1.):\n",
    "  return (h**2)/(2*r**2) - G/r\n",
    "\n",
    "r = np.linspace(0.05,5.,200) \n",
    "plt.figure(figsize=(10,7))\n",
    "plt.plot(r,np.zeros(len(r)),'k',linewidth=0.5)\n",
    "plt.plot(r, eff_potential(r,h=2.5), color='crimson', label= r'$V_{eff}(r)$')\n",
    "plt.plot(r,-25*np.ones(len(r)),color='cornflowerblue',linewidth=1.5, label='E')\n",
    "\n",
    "plt.xlabel(r'$r$')\n",
    "plt.ylabel(r'Energy')\n",
    "plt.ylim(-150,100)\n",
    "plt.xlim(0,5)\n",
    "plt.legend()\n",
    "plt.show()"
   ]
  },
  {
   "cell_type": "markdown",
   "metadata": {
    "id": "hlk1CXxCxqTi"
   },
   "source": [
    "\n",
    "### Condition for Bound Motion (Elliptic or circular trajectories)\n",
    "\n",
    "From the above relations, it is possible to impose some conditions to obtain the desired motion for the comet. First, we must remember that bound trajectories are possible, for a given value of $l$, if  the energy is negative, i.e. $E< 0$. This impose the relation\n",
    "\\begin{equation}\n",
    "\\frac{E}{m} = \\frac{1}{2} \\left[(v^x)^2 + (v^y)^2\\right] - \\frac{GM}{r} < 0\n",
    "\\end{equation}\n",
    "\\begin{equation}\n",
    "\\left[(v^x)^2 + (v^y)^2\\right]< \\frac{2GM}{r}.\n",
    "\\end{equation}\n",
    "\n",
    "Second, the total energy must be greater (or equal) than the effective potential in order to have motion, i.e.\n",
    "\\begin{align}\n",
    "\\frac{E}{m} \\geq &V_{\\text{eff}} (r) \\\\\n",
    "\\frac{1}{2} \\left[(v^x)^2 + (v^y)^2\\right] - \\frac{GM}{r}  \\geq &\\frac{l^2}{2m^2 r^2} - \\frac{GM}{r}\\\\\n",
    "\\left[(v^x)^2 + (v^y)^2\\right]  \\geq &\\frac{(x v^y - y v^x)^2}{ r^2}\n",
    "\\end{align}\n",
    "\n",
    "### Choosing the Initial Condition\n",
    "\n",
    "Using $G= 4 \\pi^2$ and $M = 1 M_{\\odot}$, the above conditions become\n",
    "\\begin{equation}\n",
    "    \\begin{cases}\n",
    "    \\left[(v^x)^2 + (v^y)^2\\right]< &\\frac{8\\pi^2}{r} \\\\\n",
    "    \\left[(v^x)^2 + (v^y)^2\\right]  \\geq &\\frac{(x v^y - y v^x)^2}{ r^2}\n",
    "    \\end{cases}\n",
    "\\end{equation}\n",
    "\n",
    "\n",
    "Now we can choose, for example, that at $t=0$, the coordinates of the comet are $x = 1 \\text{ au}$  and $y=0 \\text{ au}$. Then, we obtain \n",
    "\\begin{equation}\n",
    "    \\begin{cases}\n",
    "    (v^x)^2 + (v^y)^2&<  8\\pi^2 \\\\\n",
    "    (v^x)^2 &\\geq  0.\n",
    "    \\end{cases}\n",
    "\\end{equation}\n",
    "\n",
    "The equal sign in the second condition corresponds either to a circular orbit (if it is located at the minimum of the effective potential) or to the location of a returning point (apsis). Therefore, assuming that the initial condition corresponds to an apsis, we have $v^x = 0$ and we are left with just one condition for the other component of the velocity,\n",
    "\\begin{equation}\n",
    "    v^y < 2\\sqrt{2}\\pi \\approx  8.885766 \\frac{\\text{au}}{\\text{yr}}.\n",
    "\\end{equation}\n",
    "\n",
    "Summarizing all these results, in order to obtain a bound orbit in the problem of motion of the comet around the Sun, we may impose the particular initial condition\n",
    "\\begin{equation}\n",
    "    \\begin{cases}\n",
    "    x_0 = & 1\\text{ au}\\\\\n",
    "    y_0 = & 0 \\\\\n",
    "    v^x = & 0 \\\\\n",
    "    v^y = & 3\\frac{\\text{au}}{\\text{yr}}.\n",
    "    \\end{cases}\n",
    "\\end{equation}\n",
    "\n",
    "The time grid to apply the integration method will be defined from $t_0 = 0$ to $t_f = 20$ years. "
   ]
  },
  {
   "cell_type": "markdown",
   "metadata": {
    "id": "vzMNwoIQQ4Zm"
   },
   "source": [
    "## Soving the ODEs System\n",
    "\n",
    "Using the Forward Euler and the RK4 algorithms to solve the differential problem, we obtain"
   ]
  },
  {
   "cell_type": "code",
   "execution_count": 3,
   "metadata": {
    "executionInfo": {
     "elapsed": 10613,
     "status": "ok",
     "timestamp": 1621635116388,
     "user": {
      "displayName": "Eduard Alexis Larranaga",
      "photoUrl": "https://lh3.googleusercontent.com/a-/AOh14GgCVABzEgj-rCdyxWa29RnA0kIYUCXAaVbnRYOEhQ=s64",
      "userId": "04402438389940282602"
     },
     "user_tz": 300
    },
    "id": "NgKKBNBqhOzq"
   },
   "outputs": [],
   "source": [
    "from RK4 import *\n",
    "\n",
    "def FEuler(f, h, t0, q0):\n",
    "    '''\n",
    "    ------------------------------------------\n",
    "    FEuler(f, h, t0, h0)\n",
    "    ------------------------------------------\n",
    "    Forward Euler's method for solving a ODEs \n",
    "    system.\n",
    "    ------------------------------------------\n",
    "    Arguments:\n",
    "    f : Function with the RHS of the ODEs\n",
    "    h : stepsize for the iteration\n",
    "    t0: initial time\n",
    "    q0: NumPy array with the initial values of\n",
    "        the functions in the ODEs system\n",
    "    ------------------------------------------\n",
    "    '''\n",
    "    q1 = q0 + h*f(t0, q0)\n",
    "    return q1\n",
    "\n",
    "\n",
    "\n",
    "# Creation of the time grid (in years)\n",
    "t_0 = 0.\n",
    "t_f = 20.\n",
    "\n",
    "# Number of steps in the grid\n",
    "n = 100000\n",
    "\n",
    "# Constant stepsize defined by the number of steps in the grid\n",
    "h = (t_f - t_0)/n\n",
    "\n",
    "# Arrays to store the solution\n",
    "t = np.linspace(t_0, t_f, n) # Time information\n",
    "QE = np.zeros([n,4]) # Euler's Method information\n",
    "QR = np.zeros([n,4]) # RK4's Method information\n",
    "\n",
    "# Initial Conditions\n",
    "QE[0,0] = 1.\n",
    "QE[0,1] = 0.\n",
    "QE[0,2] = 0.\n",
    "QE[0,3] = 3.\n",
    "\n",
    "QR[0,0] = 1.\n",
    "QR[0,1] = 0.\n",
    "QR[0,2] = 0.\n",
    "QR[0,3] = 3.\n",
    "             \n",
    "# Main loops for solving the problem\n",
    "for i in range(1,n):\n",
    "    q0 = QE[i-1]\n",
    "    QE[i] = FEuler(f, h, 0, q0)\n",
    "\n",
    "for i in range(1,n):\n",
    "    q0 = QR[i-1]\n",
    "    QR[i] = RK4(f, h, 0, q0)\n"
   ]
  },
  {
   "cell_type": "code",
   "execution_count": 4,
   "metadata": {},
   "outputs": [
    {
     "data": {
      "text/plain": [
       "array([[ 1.00000000e+00,  0.00000000e+00,  0.00000000e+00,\n",
       "         3.00000000e+00],\n",
       "       [ 9.99999210e-01,  5.99999842e-04, -7.89568626e-03,\n",
       "         2.99999763e+00],\n",
       "       [ 9.99996842e-01,  1.19999874e-03, -1.57913889e-02,\n",
       "         2.99999053e+00],\n",
       "       ...,\n",
       "       [ 8.87091748e-01,  2.15244910e-01, -3.10297504e+00,\n",
       "         2.62892803e+00],\n",
       "       [ 8.86470232e-01,  2.15770472e-01, -3.11218751e+00,\n",
       "         2.62668920e+00],\n",
       "       [ 8.85846872e-01,  2.16295585e-01, -3.12140807e+00,\n",
       "         2.62444135e+00]])"
      ]
     },
     "execution_count": 4,
     "metadata": {},
     "output_type": "execute_result"
    }
   ],
   "source": [
    "QR"
   ]
  },
  {
   "cell_type": "code",
   "execution_count": 5,
   "metadata": {
    "colab": {
     "background_save": true,
     "base_uri": "https://localhost:8080/",
     "height": 350
    },
    "executionInfo": {
     "elapsed": 2435,
     "status": "ok",
     "timestamp": 1621297743280,
     "user": {
      "displayName": "Eduard Alexis Larranaga",
      "photoUrl": "https://lh3.googleusercontent.com/a-/AOh14GgCVABzEgj-rCdyxWa29RnA0kIYUCXAaVbnRYOEhQ=s64",
      "userId": "04402438389940282602"
     },
     "user_tz": 300
    },
    "id": "6caUWEylhOzq"
   },
   "outputs": [
    {
     "data": {
      "image/png": "[encoded data removed]",
      "text/plain": [
       "<Figure size 1008x360 with 2 Axes>"
      ]
     },
     "metadata": {
      "needs_background": "light"
     },
     "output_type": "display_data"
    }
   ],
   "source": [
    "import matplotlib.pyplot as plt\n",
    "%matplotlib inline\n",
    "\n",
    "fig, ax = plt.subplots(1,2, figsize=(14,5))\n",
    "ax[0].plot(QE[:,0], QE[:,1], color='crimson', label=f'$h=$ {h:.2e}')\n",
    "ax[0].set_title('Forward Euler Method')\n",
    "ax[0].set_xlabel(r'$x$')\n",
    "ax[0].set_ylabel(r'$y$')\n",
    "ax[0].legend()\n",
    "\n",
    "ax[1].plot(QR[:,0], QR[:,1], color='cornflowerblue', label=f'$h=$ {h:.2e}')\n",
    "ax[1].set_title('RK4 Method')\n",
    "ax[1].set_xlabel(r'$x$')\n",
    "ax[1].set_ylabel(r'$y$')\n",
    "ax[1].legend()\n",
    "plt.show()"
   ]
  },
  {
   "cell_type": "markdown",
   "metadata": {
    "id": "_oM-TR1rhOzr"
   },
   "source": [
    "It is clear that, while the RK4 has a good behavior, the forward Euler's method is unstable with the chosen parameters. With a smaller value of the stepsize, the behavior of the Euler's method solution is improved,"
   ]
  },
  {
   "cell_type": "code",
   "execution_count": 6,
   "metadata": {
    "id": "VElrDuyohOzr"
   },
   "outputs": [],
   "source": [
    "# Creation of the time grid (in years)\n",
    "t_0 = 0.\n",
    "t_f = 5.\n",
    "\n",
    "# Number of steps in the grid (1 millon points!)\n",
    "nI = 1000000\n",
    "\n",
    "# Constant stepsize defined by the number of steps in the grid\n",
    "hI = (t_f - t_0)/nI\n",
    "\n",
    "# Arrays to store the solution\n",
    "tI = np.linspace(t_0, t_f, nI) # Time information\n",
    "QEI = np.zeros([nI,4]) # Euler's Method information\n",
    "\n",
    "# Initial Conditions\n",
    "QEI[0,0] = 1.\n",
    "QEI[0,1] = 0.\n",
    "QEI[0,2] = 0.\n",
    "QEI[0,3] = 3.\n",
    "             \n",
    "# Main loops for solving the problem\n",
    "for i in range(1,nI):\n",
    "    q0 = QEI[i-1]\n",
    "    QEI[i] = FEuler(f, hI, 0, q0)\n"
   ]
  },
  {
   "cell_type": "code",
   "execution_count": 7,
   "metadata": {
    "colab": {
     "base_uri": "https://localhost:8080/",
     "height": 295
    },
    "executionInfo": {
     "elapsed": 3411,
     "status": "ok",
     "timestamp": 1621297840133,
     "user": {
      "displayName": "Eduard Alexis Larranaga",
      "photoUrl": "https://lh3.googleusercontent.com/a-/AOh14GgCVABzEgj-rCdyxWa29RnA0kIYUCXAaVbnRYOEhQ=s64",
      "userId": "04402438389940282602"
     },
     "user_tz": 300
    },
    "id": "hCBa2aTNhOzs",
    "outputId": "aa71aa9a-eba2-4ea6-f5b4-dfd3c392a25b"
   },
   "outputs": [
    {
     "data": {
      "image/png": "[encoded data removed]",
      "text/plain": [
       "<Figure size 432x288 with 1 Axes>"
      ]
     },
     "metadata": {
      "needs_background": "light"
     },
     "output_type": "display_data"
    }
   ],
   "source": [
    "fig, ax = plt.subplots()\n",
    "ax.plot(QEI[:,0], QEI[:,1], color='crimson', label=f'$h=$ {hI:.5e}')\n",
    "ax.set_title('Forward Euler Method')\n",
    "ax.set_xlabel(r'$x$')\n",
    "ax.set_ylabel(r'$y$')\n",
    "ax.legend()\n",
    "\n",
    "plt.show()"
   ]
  },
  {
   "cell_type": "markdown",
   "metadata": {
    "id": "nWr7BxwphOzs"
   },
   "source": [
    "---\n",
    "\n",
    "The bad behavior for the forward Euler's method can be appreciated by calculating the conserved quantities of the problem (in this case energy and angular momentum). A plot is useful to show this behavior:"
   ]
  },
  {
   "cell_type": "code",
   "execution_count": 8,
   "metadata": {
    "colab": {
     "base_uri": "https://localhost:8080/",
     "height": 623
    },
    "executionInfo": {
     "elapsed": 3878,
     "status": "ok",
     "timestamp": 1621297957173,
     "user": {
      "displayName": "Eduard Alexis Larranaga",
      "photoUrl": "https://lh3.googleusercontent.com/a-/AOh14GgCVABzEgj-rCdyxWa29RnA0kIYUCXAaVbnRYOEhQ=s64",
      "userId": "04402438389940282602"
     },
     "user_tz": 300
    },
    "id": "Zpn-XfwuhOzs",
    "outputId": "346ce2a4-d798-4cb2-e5de-5fd376b4d58d"
   },
   "outputs": [
    {
     "data": {
      "image/png": "[encoded data removed]",
      "text/plain": [
       "<Figure size 1008x720 with 4 Axes>"
      ]
     },
     "metadata": {
      "needs_background": "light"
     },
     "output_type": "display_data"
    }
   ],
   "source": [
    "EnergyE = np.zeros(n)\n",
    "AngMomE = np.zeros(n)\n",
    "\n",
    "EnergyR = np.zeros(n)\n",
    "AngMomR = np.zeros(n)\n",
    "\n",
    "for i in range(n):\n",
    "    speed2 = QE[i,2]**2 + QE[i,3]**2\n",
    "    r = np.sqrt(QE[i,0]**2 + QE[i,1]**2)\n",
    "    EnergyE[i] = speed2/2 - G*M/r\n",
    "    AngMomE[i] = QE[i,0]*QE[i,3] - QE[i,1]*QE[i,2]\n",
    "\n",
    "for i in range(n):\n",
    "    speed2 = QR[i,2]**2 + QR[i,3]**2\n",
    "    r = np.sqrt(QR[i,0]**2 + QR[i,1]**2)\n",
    "    EnergyR[i] = speed2/2 - G*M/r\n",
    "    AngMomR[i] = QR[i,0]*QR[i,3] - QR[i,1]*QR[i,2]\n",
    "\n",
    "\n",
    "fig, ax = plt.subplots(2,2, figsize=(14,10))\n",
    "ax[0,0].plot(QE[:,0], QE[:,1], color='crimson', label=f'$h=$ {h:.2e}')\n",
    "ax[0,0].set_title('Forward Euler Method')\n",
    "ax[0,0].set_xlabel(r'$x$')\n",
    "ax[0,0].set_ylabel(r'$y$')\n",
    "ax[0,0].legend()\n",
    "\n",
    "ax[0,1].plot(QR[:,0], QR[:,1], color='cornflowerblue', label=f'$h=$ {h:.2e}')\n",
    "ax[0,1].set_title('RK4 Method')\n",
    "ax[0,1].set_xlabel(r'$x$')\n",
    "ax[0,1].set_ylabel(r'$y$')\n",
    "ax[0,1].legend()\n",
    "\n",
    "ax[1,0].plot(t, EnergyE, color='mediumslateblue', label=f'Energy')\n",
    "ax[1,0].plot(t, AngMomE, color='steelblue', label=f'Angular Momentum')\n",
    "ax[1,0].set_title('Forward Euler Method')\n",
    "ax[1,0].set_xlabel(r'$t$')\n",
    "ax[1,0].set_ylabel(r'$E, \\ell$')\n",
    "ax[1,0].legend()\n",
    "\n",
    "ax[1,1].plot(t, EnergyR, color='mediumslateblue', label=f'Energy')\n",
    "ax[1,1].plot(t, AngMomR, color='steelblue', label=f'Angular Momentum')\n",
    "ax[1,1].set_title('RK4 Method')\n",
    "ax[1,1].set_xlabel(r'$t$')\n",
    "ax[1,1].set_ylabel(r'$E, \\ell$')\n",
    "ax[1,1].legend()\n",
    "\n",
    "plt.show()"
   ]
  },
  {
   "cell_type": "markdown",
   "metadata": {
    "id": "AulgoTEmhOzt"
   },
   "source": [
    "These plots show clearly that the forward Euler's method with a not-so-small setpsize does not satisfies the conservation of energy (and produces a small increase in the angular momentum), while the RK4 do have a very good behavior."
   ]
  },
  {
   "cell_type": "code",
   "execution_count": 9,
   "metadata": {
    "colab": {
     "base_uri": "https://localhost:8080/"
    },
    "executionInfo": {
     "elapsed": 642,
     "status": "ok",
     "timestamp": 1621297963416,
     "user": {
      "displayName": "Eduard Alexis Larranaga",
      "photoUrl": "https://lh3.googleusercontent.com/a-/AOh14GgCVABzEgj-rCdyxWa29RnA0kIYUCXAaVbnRYOEhQ=s64",
      "userId": "04402438389940282602"
     },
     "user_tz": 300
    },
    "id": "JFhoIHxYhOzt",
    "outputId": "b4423fc5-9a4a-4885-bdd2-0b8e94a90eff"
   },
   "outputs": [
    {
     "name": "stdout",
     "output_type": "stream",
     "text": [
      "The change in energy for Euler's method is : 34.01224429334252\n",
      "\n",
      "The change in energy for RK4 method is : 1.1176754846076165e-05\n"
     ]
    }
   ],
   "source": [
    "print('The change in energy for Euler\\'s method is :', np.abs(EnergyE[n-1] - EnergyE[0]))\n",
    "print('\\nThe change in energy for RK4 method is :', np.abs(EnergyR[n-1] - EnergyR[0]))"
   ]
  },
  {
   "cell_type": "markdown",
   "metadata": {
    "id": "426adWFehOzu"
   },
   "source": [
    "Now we will concentrate in the RK4 algorithm. Using a grid with $100000$ the computation time is"
   ]
  },
  {
   "cell_type": "code",
   "execution_count": 14,
   "metadata": {
    "colab": {
     "base_uri": "https://localhost:8080/"
    },
    "executionInfo": {
     "elapsed": 6420,
     "status": "ok",
     "timestamp": 1621298024049,
     "user": {
      "displayName": "Eduard Alexis Larranaga",
      "photoUrl": "https://lh3.googleusercontent.com/a-/AOh14GgCVABzEgj-rCdyxWa29RnA0kIYUCXAaVbnRYOEhQ=s64",
      "userId": "04402438389940282602"
     },
     "user_tz": 300
    },
    "id": "d-N_cKb5hOzv",
    "outputId": "d63357a4-eedd-41b0-d71e-5f0b14ec91e1"
   },
   "outputs": [
    {
     "name": "stdout",
     "output_type": "stream",
     "text": [
      "The elapsed time was: 60.104825019836426\n"
     ]
    }
   ],
   "source": [
    "from RK4 import *\n",
    "\n",
    "\n",
    "# Creation of the time grid (in years)\n",
    "t_0 = 0.\n",
    "t_f = 20.\n",
    "\n",
    "# Number of steps in the grid\n",
    "n = 5000000\n",
    "\n",
    "# Constant stepsize defined by the number of steps in the grid\n",
    "h = (t_f - t_0)/n\n",
    "\n",
    "# Arrays to store the solution\n",
    "t = np.linspace(t_0, t_f, n) # Time information\n",
    "Q = np.zeros([n,4]) # RK4's Method information\n",
    "\n",
    "# Initial Conditions\n",
    "Q[0,0] = 1.\n",
    "Q[0,1] = 0.\n",
    "Q[0,2] = 0.\n",
    "Q[0,3] = 3.\n",
    "\n",
    "# Computation time\n",
    "import time\n",
    "start = time.time()\n",
    "\n",
    "# Main loops for solving the problem\n",
    "for i in range(1,n):\n",
    "    q0 = Q[i-1]\n",
    "    Q[i] = RK4(f, h, 0, q0)\n",
    "\n",
    "end = time.time()\n",
    "print('The elapsed time was:', end - start)"
   ]
  },
  {
   "cell_type": "code",
   "execution_count": 15,
   "metadata": {
    "colab": {
     "base_uri": "https://localhost:8080/",
     "height": 352
    },
    "executionInfo": {
     "elapsed": 2042,
     "status": "ok",
     "timestamp": 1621298082197,
     "user": {
      "displayName": "Eduard Alexis Larranaga",
      "photoUrl": "https://lh3.googleusercontent.com/a-/AOh14GgCVABzEgj-rCdyxWa29RnA0kIYUCXAaVbnRYOEhQ=s64",
      "userId": "04402438389940282602"
     },
     "user_tz": 300
    },
    "id": "Px2b3aURhOzw",
    "outputId": "35b928cd-86f5-4f1c-c4ae-2bdb52abd540"
   },
   "outputs": [
    {
     "data": {
      "image/png": "[encoded data removed]",
      "text/plain": [
       "<Figure size 1008x360 with 2 Axes>"
      ]
     },
     "metadata": {
      "needs_background": "light"
     },
     "output_type": "display_data"
    }
   ],
   "source": [
    "Energy = np.zeros(n)\n",
    "AngMom = np.zeros(n)\n",
    "\n",
    "for i in range(n):\n",
    "    speed2 = Q[i,2]**2 + Q[i,3]**2\n",
    "    r = np.sqrt(Q[i,0]**2 + Q[i,1]**2)\n",
    "    Energy[i] = speed2/2 - G*M/r\n",
    "    AngMom[i] = Q[i,0]*Q[i,3] - Q[i,1]*Q[i,2]\n",
    "\n",
    "\n",
    "fig, ax = plt.subplots(1,2, figsize=(14,5))\n",
    "\n",
    "ax[0].plot(Q[:,0], Q[:,1], color='cornflowerblue', label=f'$h=$ {h:.2e}')\n",
    "ax[0].set_title('RK4 Method')\n",
    "ax[0].set_xlabel(r'$x$')\n",
    "ax[0].set_ylabel(r'$y$')\n",
    "ax[0].legend()\n",
    "\n",
    "ax[1].plot(t, Energy, color='mediumslateblue', label=f'Energy')\n",
    "ax[1].plot(t, AngMom, color='steelblue', label=f'Angular Momentum')\n",
    "ax[1].set_title('RK4 Method')\n",
    "ax[1].set_xlabel(r'$t$')\n",
    "ax[1].set_ylabel(r'$E, \\ell$')\n",
    "ax[1].legend()\n",
    "\n",
    "plt.show()"
   ]
  },
  {
   "cell_type": "markdown",
   "metadata": {
    "id": "JPdPVrwVhOzw"
   },
   "source": [
    "Note that the energy is not a constant, but shows a small continuos change that may accumulate to an important value over long intervals of time. For this time interval, the difference between final and initial values of energy is "
   ]
  },
  {
   "cell_type": "code",
   "execution_count": 16,
   "metadata": {
    "colab": {
     "base_uri": "https://localhost:8080/"
    },
    "executionInfo": {
     "elapsed": 706,
     "status": "ok",
     "timestamp": 1621298087723,
     "user": {
      "displayName": "Eduard Alexis Larranaga",
      "photoUrl": "https://lh3.googleusercontent.com/a-/AOh14GgCVABzEgj-rCdyxWa29RnA0kIYUCXAaVbnRYOEhQ=s64",
      "userId": "04402438389940282602"
     },
     "user_tz": 300
    },
    "id": "sxSWmhm5hOzx",
    "outputId": "804b00e7-48b8-475a-d169-327d93ba88ef",
    "scrolled": true
   },
   "outputs": [
    {
     "data": {
      "text/plain": [
       "1.2164491636212915e-11"
      ]
     },
     "execution_count": 16,
     "metadata": {},
     "output_type": "execute_result"
    }
   ],
   "source": [
    "np.abs(Energy[n-1]- Energy[0])"
   ]
  },
  {
   "cell_type": "markdown",
   "metadata": {
    "id": "7JE7igC9hOzx"
   },
   "source": [
    "## Adaptative Rung-Kutta\n",
    "\n",
    "In order to improve the solution, giving a smaller change in the energy of the system, we will implement an adaptative RK algorithm. This method will change the stepsize according to a given error tolerance. "
   ]
  },
  {
   "cell_type": "code",
   "execution_count": 17,
   "metadata": {
    "colab": {
     "base_uri": "https://localhost:8080/"
    },
    "executionInfo": {
     "elapsed": 427921,
     "status": "ok",
     "timestamp": 1621299807078,
     "user": {
      "displayName": "Eduard Alexis Larranaga",
      "photoUrl": "https://lh3.googleusercontent.com/a-/AOh14GgCVABzEgj-rCdyxWa29RnA0kIYUCXAaVbnRYOEhQ=s64",
      "userId": "04402438389940282602"
     },
     "user_tz": 300
    },
    "id": "r6AQsvAnhOzx",
    "outputId": "0b379965-bb44-4e7d-88c6-f2e1195932c3"
   },
   "outputs": [
    {
     "name": "stdout",
     "output_type": "stream",
     "text": [
      "10.0 % completed\n",
      "20.0 % completed\n",
      "30.0 % completed\n",
      "40.0 % completed\n",
      "50.0 % completed\n",
      "60.0 % completed\n",
      "70.0 % completed\n",
      "80.0 % completed\n",
      "90.0 % completed\n",
      "100.0 % completed\n",
      "The elapsed time was: 126.25416803359985\n"
     ]
    }
   ],
   "source": [
    "from AdaptativeRK import *\n",
    "\n",
    "\n",
    "# Creation of the time grid (in years)\n",
    "t_0 = 0.\n",
    "t_f = 20.\n",
    "\n",
    "# Initial stepsize (we took the value used in the RK4 method above)\n",
    "h = 1E-4\n",
    "\n",
    "# Arrays to store the solution\n",
    "t = np.zeros(1) # Time information\n",
    "Q = np.zeros([1,4]) # RK4's Method information\n",
    "\n",
    "# Initial Conditions\n",
    "t[0] = t_0\n",
    "Q[0,0] = 1.\n",
    "Q[0,1] = 0.\n",
    "Q[0,2] = 0.\n",
    "Q[0,3] = 3.\n",
    "\n",
    "# Computation time\n",
    "import time\n",
    "start = time.time()\n",
    "\n",
    "# Counter to display the advance in calculations\n",
    "Tpercentage = 0.1\n",
    "\n",
    "# Main loops for solving the problem\n",
    "i = 1\n",
    "while t[len(t)-1]<t_f:\n",
    "    q0 = Q[i-1]\n",
    "    h, qf = ARK(f, h, 0., q0)\n",
    "    qq = np.array([qf]) # This is defined to append it correctly to the aray Q\n",
    "    Q = np.append(Q, qq, axis=0)\n",
    "    t = np.append(t, t[i-1]+ h)\n",
    "    if t[i]>(t_f*Tpercentage): \n",
    "        print(f'{Tpercentage*100:.1f} % completed')\n",
    "        Tpercentage +=0.1\n",
    "    i=i+1\n",
    "    \n",
    "end = time.time()\n",
    "print('The elapsed time was:', end - start)"
   ]
  },
  {
   "cell_type": "code",
   "execution_count": 18,
   "metadata": {
    "colab": {
     "base_uri": "https://localhost:8080/",
     "height": 352
    },
    "executionInfo": {
     "elapsed": 5174,
     "status": "ok",
     "timestamp": 1621300108039,
     "user": {
      "displayName": "Eduard Alexis Larranaga",
      "photoUrl": "https://lh3.googleusercontent.com/a-/AOh14GgCVABzEgj-rCdyxWa29RnA0kIYUCXAaVbnRYOEhQ=s64",
      "userId": "04402438389940282602"
     },
     "user_tz": 300
    },
    "id": "yM2e8DJjhOzy",
    "outputId": "7b855de7-5992-4208-fd9f-1e0ef9cf7ea8"
   },
   "outputs": [
    {
     "data": {
      "image/png": "[encoded data removed]",
      "text/plain": [
       "<Figure size 1008x360 with 2 Axes>"
      ]
     },
     "metadata": {
      "needs_background": "light"
     },
     "output_type": "display_data"
    }
   ],
   "source": [
    "n = len(t)\n",
    "Energy = np.zeros(n)\n",
    "AngMom = np.zeros(n)\n",
    "\n",
    "for i in range(n):\n",
    "    speed2 = Q[i,2]**2 + Q[i,3]**2\n",
    "    r = np.sqrt(Q[i,0]**2 + Q[i,1]**2)\n",
    "    Energy[i] = speed2/2 - G*M/r\n",
    "    AngMom[i] = Q[i,0]*Q[i,3] - Q[i,1]*Q[i,2]\n",
    "\n",
    "    \n",
    "fig, ax = plt.subplots(1,2, figsize=(14,5))\n",
    "\n",
    "ax[0].plot(Q[:,0], Q[:,1], color='cornflowerblue', label=f'$h=$ {h:.2e}')\n",
    "ax[0].set_title('RK4 Method')\n",
    "ax[0].set_xlabel(r'$x$')\n",
    "ax[0].set_ylabel(r'$y$')\n",
    "ax[0].legend()\n",
    "\n",
    "ax[1].plot(t, Energy, color='mediumslateblue', label=f'Energy')\n",
    "ax[1].plot(t, AngMom, color='steelblue', label=f'Angular Momentum')\n",
    "ax[1].set_title('RK4 Method')\n",
    "ax[1].set_xlabel(r'$t$')\n",
    "ax[1].set_ylabel(r'$E, \\ell$')\n",
    "ax[1].legend()\n",
    "\n",
    "plt.show()"
   ]
  },
  {
   "cell_type": "code",
   "execution_count": 19,
   "metadata": {
    "colab": {
     "base_uri": "https://localhost:8080/"
    },
    "executionInfo": {
     "elapsed": 764,
     "status": "ok",
     "timestamp": 1621299868098,
     "user": {
      "displayName": "Eduard Alexis Larranaga",
      "photoUrl": "https://lh3.googleusercontent.com/a-/AOh14GgCVABzEgj-rCdyxWa29RnA0kIYUCXAaVbnRYOEhQ=s64",
      "userId": "04402438389940282602"
     },
     "user_tz": 300
    },
    "id": "qIMJnQMLhOzy",
    "outputId": "52176669-7eec-4643-d24a-253e47845d1d"
   },
   "outputs": [
    {
     "data": {
      "text/plain": [
       "3.215381539689588e-06"
      ]
     },
     "execution_count": 19,
     "metadata": {},
     "output_type": "execute_result"
    }
   ],
   "source": [
    "np.abs(Energy[n-1] - Energy[0])"
   ]
  },
  {
   "cell_type": "markdown",
   "metadata": {
    "id": "d11ysQ0GhOzy"
   },
   "source": [
    "Note that the conservation of energy is improved but the computation time increases considerably.\n",
    "\n",
    "The RK4 algorithm evaluates $100000$ grid points in $5.71$ s., with change in the energy of $1.12\\times 10^{-05}$.\n",
    "\n",
    "The adaptive RK algorithm, using the error tolerance $\\epsilon = 1\\times 10^{-11}$ and a fudge factor $S=0.999$, evaluated $326089$ points with a variation of the energy between the initial and final values of $3.22\\times 10^{-6}$. However, the computation time increased to $935.43$ s. or approximately $15.6$ minutes. \n",
    "\n"
   ]
  }
 ],
 "metadata": {
  "colab": {
   "collapsed_sections": [],
   "name": "Motion of a Comet.ipynb",
   "version": ""
  },
  "kernelspec": {
   "display_name": "Python 3 (ipykernel)",
   "language": "python",
   "name": "python3"
  },
  "language_info": {
   "codemirror_mode": {
    "name": "ipython",
    "version": 3
   },
   "file_extension": ".py",
   "mimetype": "text/x-python",
   "name": "python",
   "nbconvert_exporter": "python",
   "pygments_lexer": "ipython3",
   "version": "3.9.7"
  }
 },
 "nbformat": 4,
 "nbformat_minor": 1
}
