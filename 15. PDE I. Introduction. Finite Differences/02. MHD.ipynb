{
 "cells": [
  {
   "cell_type": "markdown",
   "metadata": {
    "id": "tZQNftCXBl_h"
   },
   "source": [
    "![Astrofisica Computacional](../logo.PNG)"
   ]
  },
  {
   "cell_type": "markdown",
   "metadata": {},
   "source": [
    "---\n",
    "## 02. Magneto-HidroDinamics (MHD)\n",
    "\n",
    "Eduard Larrañaga (ealarranaga@unal.edu.co)\n",
    "\n",
    "---"
   ]
  },
  {
   "cell_type": "markdown",
   "metadata": {
    "id": "IbL7mPYgBl_i"
   },
   "source": [
    "\n",
    "### Abstract\n",
    "\n",
    "We present the generalitites of the equations of **M**agneto-**H**idro**D**inamics (MHD).\n",
    "\n",
    "\n",
    "---"
   ]
  },
  {
   "cell_type": "markdown",
   "metadata": {
    "id": "QcuE5mz9Bl_i"
   },
   "source": [
    "## Eulerian and Lagrangian Approaches in the study of Fluids\n",
    "\n",
    "- **Eulerian Approach** In this approach, the volume element is spatially fixed in the laboratory reference system. Therefore, the fluid can enter and leave this element through the surface that surrounds it.\n",
    "\n",
    "- **Lagrangian Approach.** The surface of the volume element moves with the fluid (i.e. is co-mobile) in the fluid reference frame. In this way there is NO flow through the surface surrounding the element and the mass contained within its interior is constant. (The element can be deformed, depending on how the fluid moves)."
   ]
  },
  {
   "cell_type": "markdown",
   "metadata": {
    "id": "_vmtvz6cBl_j"
   },
   "source": [
    "---\n",
    "## Continuity equation\n",
    "\n",
    "The continuity equation manifests the conservation of mass in fluid mechanics. In the Eulerian approach it is\n",
    "\n",
    "\\begin{equation}\n",
    "\\frac{\\partial \\rho}{\\partial t} + \\vec{\\nabla} \\cdot (\\rho \\vec{v}) = 0\n",
    "\\end{equation}\n",
    "\n",
    "where $\\rho$ is the mass density and $\\vec{v}$ is the velocity field of the fluid.\n",
    "\n",
    "In the Lagrangian approach, the continuity equation takes the form\n",
    "\n",
    "\\begin{equation}\n",
    "\\frac{d \\rho}{d t} + \\rho \\vec{\\nabla} \\cdot \\vec{v} = 0\n",
    "\\end{equation}\n",
    "\n",
    "in which the **Lagrangian derivative** or **total temporal derivative** operator has been used,\n",
    "\n",
    "\\begin{equation}\n",
    "\\frac{d }{d t} = \\frac{\\partial }{\\partial t} + \\vec{v} \\cdot \\vec{\\nabla}\n",
    "\\end{equation}"
   ]
  },
  {
   "cell_type": "markdown",
   "metadata": {
    "id": "491NiiTGBl_j"
   },
   "source": [
    "---\n",
    "## Equation of Motion\n",
    "\n",
    "The fluid equation of motion (conservation of momentum) in the Lagrangian approach is\n",
    "\n",
    "\\begin{equation}\n",
    "\\rho \\frac{d \\vec{v}}{d t} = - \\vec{\\nabla} P + \\vec{\\nabla} \\cdot \\overset{\\text{$\\leftrightarrow$}}{\\sigma}+ \\vec{J}\\times \\vec{B} + \\vec{f}\n",
    "\\end{equation}\n",
    "\n",
    "where\n",
    "\n",
    "- $P$ is the fluid pressure\n",
    "\n",
    "- $\\overset{\\text{$\\leftrightarrow$}}{\\sigma}$ is the viscosity stress tensor\n",
    "\n",
    "- $\\vec{J}$ is the density of electric currents and $\\vec{B}$ is the magnetic field, with which the term $\\vec{J}\\times \\vec{B}$ represents the force of Lorentz (There is no electric force term ($\\rho_q \\vec{E}$) because, in the case of non-relativistic fluids, it has a negligible magnitude).\n",
    "\n",
    "- $\\vec{f}$ represents other volumetric forces present. For example, the gravitational force (per unit volume) can be included here, $\\rho \\vec{g} = - \\rho \\vec{\\nabla} \\phi$.\n",
    "\n",
    "\n",
    "In the Eulerian approach, the equation of motion is\n",
    "\n",
    "\\begin{equation}\n",
    "\\rho \\left( \\frac{\\partial \\vec{v}}{\\partial t} + \\vec{v} \\cdot \\vec{\\nabla} \\vec{v}\\right) = - \\vec{\\nabla } P + \\vec{\\nabla} \\cdot \\overset{\\text{$\\leftrightarrow$}}{\\sigma}+ \\vec{J}\\times \\vec{B} + \\vec{f}\n",
    "\\end{equation}"
   ]
  },
  {
   "cell_type": "markdown",
   "metadata": {
    "id": "8CtKOksQBl_k"
   },
   "source": [
    "---\n",
    "## Energy Equation\n",
    "\n",
    "The conservation of energy is established, in the Lagrangian approach, through the equation\n",
    "\n",
    "\\begin{equation}\n",
    "\\rho \\frac{d e}{d t} = - P \\vec{\\nabla} \\cdot \\vec{v} - \\vec{\\nabla} \\cdot \\vec{q} + \\vec{f} \\cdot \\vec {v} - \\vec{\\nabla} \\cdot \\vec{F}_{rad} + Q^{(vis)} + \\eta_e J^2\n",
    "\\end{equation}\n",
    "\n",
    "in which:\n",
    "\n",
    "- $e$ is the internal energy of the fluid\n",
    "\n",
    "- $- P \\vec{\\nabla} \\cdot \\vec{v}$ represents the work done by the pressure.\n",
    "\n",
    "- $- \\vec{\\nabla} \\cdot \\vec{q}$ is the rate of thermal energy transport within the gas (by random motion of particles)\n",
    "\n",
    "- $\\vec{f} \\cdot \\vec{v}$ is the work done by the volumetric force $\\vec{f}$\n",
    "\n",
    "- $- \\vec{\\nabla} \\cdot \\vec{F}_{rad}$ is the rate at which radiation energy is lost by emission (or increased by absorption)\n",
    "\n",
    "- $Q^{(vis)}$ is the rate of heating (volumetric) per viscosity\n",
    "\n",
    "- $\\eta_e J^2$ is the Ohmic (volumetric) heating rate. The function $\\eta_e$ is the electrical resistivity of the fluid.\n",
    "\n",
    "\n",
    "Using the Eulerian approach, the energy equation takes the form\n",
    "\n",
    "\\begin{equation}\n",
    "\\rho \\frac{\\partial (\\rho e)}{\\partial t} + \\vec{\\nabla} \\cdot (\\rho e \\vec{v}) = - P \\vec{\\nabla} \\cdot \\vec {v} - \\vec{\\nabla} \\cdot \\vec{q} + \\vec{f} \\cdot \\vec{v} - \\vec{\\nabla} \\cdot \\vec{F}_{rad} + Q^{(vis)} + η_e J^2\n",
    "\\end{equation}"
   ]
  },
  {
   "cell_type": "markdown",
   "metadata": {
    "id": "vfK5CQZ7Bl_k"
   },
   "source": [
    "---\n",
    "\n",
    "## Electrodynamics\n",
    "\n",
    "The equations that describe the electromagnetic field are Maxwell's equations,\n",
    "\n",
    "\\begin{align}\n",
    "\\vec{\\nabla} \\cdot \\vec{E} = &\\frac{\\rho_q}{\\epsilon_0}\\\\\n",
    "\\vec{\\nabla} \\cdot \\vec{B} = &0 \\\\\n",
    "\\vec{\\nabla} \\times \\vec{E} = &- \\frac{\\partial \\vec{B}}{\\partial t} \\\\\n",
    "\\vec{\\nabla} \\times \\vec{B} = &\\mu_0 \\vec{J} + \\epsilon_0 \\mu_0 \\frac{\\partial \\vec{E}}{\\partial t}\n",
    "\\end{align}\n",
    "\n",
    "where $\\vec{E}$ and $\\vec{B}$ are the electric and magnetic fields, $\\rho_q$ is the electric charge density, $\\vec{J}$ is the current density, $\\epsilon_0 $ is the electrical permittivity of a vacuum and $\\mu_0$ is the magnetic permeability of a vacuum.\n",
    "\n",
    "When considering non-relativistic systems (this means considering low velocities, $v\\ll c$, or equivalently low frequencies), these equations approximate, to first order in $\\frac{v}{c}$ in the form\n",
    "\n",
    "\\begin{align}\n",
    "\\vec{\\nabla} \\cdot \\vec{E} = &\\frac{\\rho_q}{\\epsilon_0}\\\\\n",
    "\\vec{\\nabla} \\cdot \\vec{B} = &0 \\\\\n",
    "\\vec{\\nabla} \\times \\vec{E} = &- \\frac{\\partial \\vec{B}}{\\partial t} \\\\\n",
    "\\vec{\\nabla} \\times \\vec{B} = &\\mu_0 \\vec{J}\n",
    "\\end{align}\n",
    "\n",
    "and in addition, **Ohm's law** can be incorporated,\n",
    "\n",
    "\\begin{equation}\n",
    "\\vec{E} + \\vec{v} \\times \\vec{B} = \\eta_e \\vec{J},\n",
    "\\end{equation}\n",
    "\n",
    "with $\\eta_e$ the electrical resistivity of the fluid."
   ]
  },
  {
   "cell_type": "markdown",
   "metadata": {
    "id": "g62n819IBl_k"
   },
   "source": [
    "## MHD Equations and Degrees of Freedom\n",
    "\n",
    "Combining the previous equations, we have the following differential system of PDEs,\n",
    "\n",
    "\\begin{align}\n",
    "\\frac{\\partial \\rho}{\\partial t} + \\vec{\\nabla} \\cdot (\\rho \\vec{v}) = &0\\\\\n",
    "\\rho \\left( \\frac{\\partial \\vec{v}}{\\partial t} + \\vec{v} \\cdot \\vec{\\nabla} \\vec{v}\\right) = &- \\vec{\\nabla} P + \\vec{\\nabla} \\cdot \\overset{\\text{$\\leftrightarrow$}}{\\sigma}+ \\vec{J}\\times \\vec{B} + \\vec{f}\\\\\n",
    "\\rho \\frac{\\partial (\\rho e)}{\\partial t} + \\vec{\\nabla} \\cdot (\\rho e \\vec{v}) = &- P \\vec{\\nabla} \\cdot \\vec{v} - \\vec{\\nabla} \\cdot \\vec{q} + \\vec{f} \\cdot \\vec{v} - \\vec{\\nabla} \\cdot \\vec{F}_{rad} + Q^{(vis)} + \\eta_e J^2\\\\\n",
    "\\frac{\\partial \\vec{B}}{\\partial t} = &\\vec{\\nabla} \\left( \\vec{v} \\times \\vec{B} - \\frac{\\eta_e}{\\mu_0} \\vec{\\nabla} \\times \\vec{B} \\right)\\\\\n",
    "\\vec{\\nabla} \\cdot \\vec{B} = &0\n",
    "\\end{align}\n",
    "\n",
    "where the equations of electrodynamics have been rewritten to avoid some of the degrees of freedom of the system. This system of PDEs then consists of 9 equations with a total of 22 variables:\n",
    "- $e$ :[1]\n",
    "- $\\rho$ :[1]\n",
    "- $P$ :[1]\n",
    "- $\\vec{v}$ :[3]\n",
    "- $\\vec{B}$ :[3]\n",
    "- $\\overset{\\text{$\\leftrightarrow$}}{\\sigma}$ :[6] (Symmetric tensor of order 2 in three dimensions)\n",
    "- $\\vec{q}$ :[3]\n",
    "- $\\eta_e$ :[1]\n",
    "- $F_{rad}$ :[3].\n",
    "\n",
    "In this way, the system requires 13 additional equations in order to be solved."
   ]
  },
  {
   "cell_type": "markdown",
   "metadata": {
    "id": "C-Mu6i96Bl_l"
   },
   "source": [
    "---\n",
    "## Closing Equations\n",
    "\n",
    "The **closure equations** are additional relationships that allow the system to be completed in order to solve it.\n",
    "\n",
    "1. The radiative flux vector can be expressed as\n",
    "\n",
    "\\begin{equation}\n",
    "\\vec{F}_{rad} = \\int d\\nu \\int d\\Omega \\hat{n} I_\\nu (\\hat{n}, \\vec{r})\n",
    "\\end{equation}\n",
    "\n",
    "where $I_\\nu (\\hat{n}, \\vec{r})$ is the specific intensity of the radiation at point $\\vec{r}$ and in direction $\\hat{n}$. This intensity is given by the conservation equation for the radiation field. In this way, the radiative flux can be written, in almost all cases of interest, as a function of the density, $\\rho$, and the temperature of the gas, $T$; or density and pressure, $P$. This relation constitutes **3** of the required closure equations,\n",
    "\n",
    "\\begin{equation}\n",
    "\\vec{F}_{rad} = \\vec{F}_{rad} (\\rho, P).\n",
    "\\end{equation}\n",
    "\n",
    "\n",
    "2. The conductive flux of heat across element boundaries, $\\vec{q}$, measures the rate at which random motions (mainly electrons) transport energy within the gas and smooth out temperature gradients. In this way, from the kinetic theory of gases, it is possible to obtain a dependence on density, pressure and the magnetic field. This relation constitutes other **3** closing equations,\n",
    "\n",
    "\\begin{equation}\n",
    "\\vec{q} = \\vec{q} (\\rho, P, \\vec{B}).\n",
    "\\end{equation}\n",
    "\n",
    "3. The stress tensor, $\\overset{\\text{$\\leftrightarrow$}}{\\sigma}$, is constructed from the viscosity and/or interactions with the magnetic field. For example, in the case of a demagnetized fluid (i.e. in hydrodynamics), we have tensor components expressed in terms of velocity gradients,\n",
    "\n",
    "\\begin{equation}\n",
    "\\sigma_{ij} = 2\\eta \\tau_{ij}\n",
    "\\end{equation}\n",
    "\n",
    "with\n",
    "\n",
    "\\begin{equation}\n",
    "\\tau_{ij} = \\frac{1}{2} \\left( \\partial_i v_j + \\partial_j v_i - \\frac{2}{3} \\partial_k v_k \\delta_{ij}\\right)\n",
    "\\end{equation}\n",
    "\n",
    "where $\\eta = \\eta(\\rho, P)$ is a property of the medium called *coefficient of dynamic viscosity*.\n",
    "\n",
    "In this way, the expression for the stress tensor constitutes **6** additional closure equations,\n",
    "\n",
    "\\begin{equation}\n",
    "\\overset{\\text{$\\leftrightarrow$}}{\\sigma} = \\overset{\\text{$\\leftrightarrow$}}{\\sigma} (\\rho, \\vec{v}, \\vec{B}).\n",
    "\\end{equation}\n",
    "\n",
    "In this way, we already have 12 of the equations required to *close* the differential system. The final equation is called the **Equation of State**."
   ]
  },
  {
   "cell_type": "markdown",
   "metadata": {
    "id": "_90xHqWZBl_l"
   },
   "source": [
    "---\n",
    "## Equation of State\n",
    "\n",
    "The final closure equation is a relationship between density and pressure,\n",
    "\n",
    "\\begin{equation}\n",
    "P = P(\\rho).\n",
    "\\end{equation}\n",
    "\n",
    "The most common equation of state is the relation for ideal gases, which allows fluids to be modeled very well in the astrophysical context. This equation is\n",
    "\n",
    "\\begin{equation}\n",
    "P = \\frac{k_B T}{\\mu m_H}\\rho,\n",
    "\\end{equation}\n",
    "\n",
    "where:\n",
    "\n",
    "- $k_B$ is the constant of\n",
    "- $T$ is the gas temperature\n",
    "- $m_H \\sim m_P$ is the mass of the Hydrogen atom (which can be approximated to the mass of the proton)\n",
    "- $\\mu$ is the average molecular weight (i.e. average mass per gas particle measured in units of $m_H$ and therefore equals the inverse of the number of particles in a mass $m_H$ of gas). This factor is worth $\\mu=1$ for neutral Hydrogen and $\\mu = 1/2$ for completely ionized Hydrogen. In general, $\\frac{1}{2} ≤ \\mu ≤ 1$ depending on the ionized state of the gas."
   ]
  },
  {
   "cell_type": "markdown",
   "metadata": {
    "id": "TEjN1jzIBl_l"
   },
   "source": [
    "### Polytropic Equation\n",
    "\n",
    "When considering an adiabatic demagnetized fluid (i.e. neither heat exchange terms nor magnetic field contributions exist), the ideal gas equation in combination with the energy equation results in the **polytropic equation**,\n",
    "\n",
    "\\begin{equation}\n",
    "P \\propto \\rho^\\gamma\n",
    "\\end{equation}\n",
    "\n",
    "where $\\gamma$ is the **adiabatic index** (ratio of specific heats). For monatomic gases (such as a completely ionized gas), the adiabatic index usually takes values in the range $1\\leq \\gamma \\leq \\frac{5}{3}$, where some values of interest at an astrophysical level are:\n",
    "\n",
    "- $\\gamma = 1$ : Isothermal flow\n",
    "- $\\gamma = \\frac{5}{3}$ : Adiabatic flow. Also for a **completely degenerate non-relativistic gas**.\n",
    "- $\\gamma = \\frac{4}{3}$ : Gas dominated by radiation pressure. Also for a **completely degenerate relativistic gas**."
   ]
  },
  {
   "cell_type": "code",
   "execution_count": null,
   "metadata": {},
   "outputs": [],
   "source": []
  }
 ],
 "metadata": {
  "@webio": {
   "lastCommId": null,
   "lastKernelId": null
  },
  "colab": {
   "name": "PDE01.ipynb",
   "provenance": []
  },
  "kernelspec": {
   "display_name": "Python 3 (ipykernel)",
   "language": "python",
   "name": "python3"
  },
  "language_info": {
   "codemirror_mode": {
    "name": "ipython",
    "version": 3
   },
   "file_extension": ".py",
   "mimetype": "text/x-python",
   "name": "python",
   "nbconvert_exporter": "python",
   "pygments_lexer": "ipython3",
   "version": "3.9.5"
  }
 },
 "nbformat": 4,
 "nbformat_minor": 1
}
