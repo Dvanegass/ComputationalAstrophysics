{
 "cells": [
  {
   "cell_type": "markdown",
   "metadata": {
    "id": "9mBFEmr745Op"
   },
   "source": [
    "![Astrofisica Computacional](../logo.png)"
   ]
  },
  {
   "cell_type": "markdown",
   "metadata": {},
   "source": [
    "---\n",
    "## 03. Logistic Regression Algorithm.\n",
    "\n",
    "\n",
    "Eduard Larrañaga (ealarranaga@unal.edu.co)\n",
    "\n",
    "---"
   ]
  },
  {
   "cell_type": "markdown",
   "metadata": {
    "id": "M5dP3sa345Or"
   },
   "source": [
    "\n",
    "### About this notebook\n",
    "\n",
    "In this worksheet, we implement a Logistic regression algorithm to classify a dataset.\n",
    "\n",
    "---"
   ]
  },
  {
   "cell_type": "code",
   "execution_count": 1,
   "metadata": {
    "id": "cBGk0qdl45Os"
   },
   "outputs": [],
   "source": [
    "import numpy as np\n",
    "from matplotlib import pyplot as plt\n",
    "import pandas as pd\n",
    "%matplotlib inline"
   ]
  },
  {
   "cell_type": "markdown",
   "metadata": {
    "id": "gXadA4FK45Ot"
   },
   "source": [
    "### The data\n",
    "\n"
   ]
  },
  {
   "cell_type": "code",
   "execution_count": 2,
   "metadata": {
    "colab": {
     "base_uri": "https://localhost:8080/",
     "height": 359
    },
    "executionInfo": {
     "elapsed": 735,
     "status": "ok",
     "timestamp": 1611332892015,
     "user": {
      "displayName": "Eduard Alexis Larranaga",
      "photoUrl": "https://lh3.googleusercontent.com/a-/AOh14GgCVABzEgj-rCdyxWa29RnA0kIYUCXAaVbnRYOEhQ=s64",
      "userId": "04402438389940282602"
     },
     "user_tz": 300
    },
    "id": "X7wLEZjO45Ot",
    "outputId": "c0285da0-d53c-443f-c9d8-c99a186186c7"
   },
   "outputs": [],
   "source": [
    "X_train = pd.read_csv(\"TitanicData/train_X.csv\", index_col=0)\n",
    "y_train = pd.read_csv(\"TitanicData/train_Y.csv\", index_col=0)\n",
    "X_test = pd.read_csv(\"TitanicData/test_X.csv\", index_col=0)\n",
    "y_test = pd.read_csv(\"TitanicData/test_Y.csv\", index_col=0)"
   ]
  },
  {
   "cell_type": "code",
   "execution_count": 3,
   "metadata": {
    "colab": {
     "base_uri": "https://localhost:8080/",
     "height": 359
    },
    "executionInfo": {
     "elapsed": 799,
     "status": "ok",
     "timestamp": 1611335836667,
     "user": {
      "displayName": "Eduard Alexis Larranaga",
      "photoUrl": "https://lh3.googleusercontent.com/a-/AOh14GgCVABzEgj-rCdyxWa29RnA0kIYUCXAaVbnRYOEhQ=s64",
      "userId": "04402438389940282602"
     },
     "user_tz": 300
    },
    "id": "vIYqJQ4E45Ox",
    "outputId": "680343f7-2772-46d1-90d0-69bf67a7307b",
    "scrolled": true
   },
   "outputs": [
    {
     "data": {
      "text/html": [
       "<div>\n",
       "<style scoped>\n",
       "    .dataframe tbody tr th:only-of-type {\n",
       "        vertical-align: middle;\n",
       "    }\n",
       "\n",
       "    .dataframe tbody tr th {\n",
       "        vertical-align: top;\n",
       "    }\n",
       "\n",
       "    .dataframe thead th {\n",
       "        text-align: right;\n",
       "    }\n",
       "</style>\n",
       "<table border=\"1\" class=\"dataframe\">\n",
       "  <thead>\n",
       "    <tr style=\"text-align: right;\">\n",
       "      <th></th>\n",
       "      <th>Pclass</th>\n",
       "      <th>Sex</th>\n",
       "      <th>Age</th>\n",
       "      <th>SibSp</th>\n",
       "      <th>Parch</th>\n",
       "      <th>Fare</th>\n",
       "      <th>Embarked</th>\n",
       "    </tr>\n",
       "    <tr>\n",
       "      <th>Id</th>\n",
       "      <th></th>\n",
       "      <th></th>\n",
       "      <th></th>\n",
       "      <th></th>\n",
       "      <th></th>\n",
       "      <th></th>\n",
       "      <th></th>\n",
       "    </tr>\n",
       "  </thead>\n",
       "  <tbody>\n",
       "    <tr>\n",
       "      <th>0</th>\n",
       "      <td>3</td>\n",
       "      <td>0</td>\n",
       "      <td>22.0</td>\n",
       "      <td>1</td>\n",
       "      <td>0</td>\n",
       "      <td>7.2500</td>\n",
       "      <td>1</td>\n",
       "    </tr>\n",
       "    <tr>\n",
       "      <th>1</th>\n",
       "      <td>1</td>\n",
       "      <td>1</td>\n",
       "      <td>38.0</td>\n",
       "      <td>1</td>\n",
       "      <td>0</td>\n",
       "      <td>71.2833</td>\n",
       "      <td>0</td>\n",
       "    </tr>\n",
       "    <tr>\n",
       "      <th>2</th>\n",
       "      <td>3</td>\n",
       "      <td>1</td>\n",
       "      <td>26.0</td>\n",
       "      <td>0</td>\n",
       "      <td>0</td>\n",
       "      <td>7.9250</td>\n",
       "      <td>1</td>\n",
       "    </tr>\n",
       "    <tr>\n",
       "      <th>3</th>\n",
       "      <td>1</td>\n",
       "      <td>1</td>\n",
       "      <td>35.0</td>\n",
       "      <td>1</td>\n",
       "      <td>0</td>\n",
       "      <td>53.1000</td>\n",
       "      <td>1</td>\n",
       "    </tr>\n",
       "    <tr>\n",
       "      <th>4</th>\n",
       "      <td>3</td>\n",
       "      <td>0</td>\n",
       "      <td>35.0</td>\n",
       "      <td>0</td>\n",
       "      <td>0</td>\n",
       "      <td>8.0500</td>\n",
       "      <td>1</td>\n",
       "    </tr>\n",
       "  </tbody>\n",
       "</table>\n",
       "</div>"
      ],
      "text/plain": [
       "    Pclass  Sex   Age  SibSp  Parch     Fare  Embarked\n",
       "Id                                                    \n",
       "0        3    0  22.0      1      0   7.2500         1\n",
       "1        1    1  38.0      1      0  71.2833         0\n",
       "2        3    1  26.0      0      0   7.9250         1\n",
       "3        1    1  35.0      1      0  53.1000         1\n",
       "4        3    0  35.0      0      0   8.0500         1"
      ]
     },
     "execution_count": 3,
     "metadata": {},
     "output_type": "execute_result"
    }
   ],
   "source": [
    "X_train.head()"
   ]
  },
  {
   "cell_type": "code",
   "execution_count": 4,
   "metadata": {},
   "outputs": [
    {
     "data": {
      "text/html": [
       "<div>\n",
       "<style scoped>\n",
       "    .dataframe tbody tr th:only-of-type {\n",
       "        vertical-align: middle;\n",
       "    }\n",
       "\n",
       "    .dataframe tbody tr th {\n",
       "        vertical-align: top;\n",
       "    }\n",
       "\n",
       "    .dataframe thead th {\n",
       "        text-align: right;\n",
       "    }\n",
       "</style>\n",
       "<table border=\"1\" class=\"dataframe\">\n",
       "  <thead>\n",
       "    <tr style=\"text-align: right;\">\n",
       "      <th></th>\n",
       "      <th>Survived</th>\n",
       "    </tr>\n",
       "    <tr>\n",
       "      <th>Id</th>\n",
       "      <th></th>\n",
       "    </tr>\n",
       "  </thead>\n",
       "  <tbody>\n",
       "    <tr>\n",
       "      <th>0</th>\n",
       "      <td>0</td>\n",
       "    </tr>\n",
       "    <tr>\n",
       "      <th>1</th>\n",
       "      <td>1</td>\n",
       "    </tr>\n",
       "    <tr>\n",
       "      <th>2</th>\n",
       "      <td>1</td>\n",
       "    </tr>\n",
       "    <tr>\n",
       "      <th>3</th>\n",
       "      <td>1</td>\n",
       "    </tr>\n",
       "    <tr>\n",
       "      <th>4</th>\n",
       "      <td>0</td>\n",
       "    </tr>\n",
       "  </tbody>\n",
       "</table>\n",
       "</div>"
      ],
      "text/plain": [
       "    Survived\n",
       "Id          \n",
       "0          0\n",
       "1          1\n",
       "2          1\n",
       "3          1\n",
       "4          0"
      ]
     },
     "execution_count": 4,
     "metadata": {},
     "output_type": "execute_result"
    }
   ],
   "source": [
    "y_train.head()"
   ]
  },
  {
   "cell_type": "code",
   "execution_count": 5,
   "metadata": {},
   "outputs": [],
   "source": [
    "X_train = np.asarray(pd.read_csv(\"TitanicData/train_X.csv\", index_col=0))\n",
    "y_train = np.asarray(pd.read_csv(\"TitanicData/train_Y.csv\", index_col=0))\n",
    "X_test = np.asarray(pd.read_csv(\"TitanicData/test_X.csv\", index_col=0))\n",
    "y_test = np.asarray(pd.read_csv(\"TitanicData/test_Y.csv\", index_col=0))"
   ]
  },
  {
   "cell_type": "code",
   "execution_count": 6,
   "metadata": {},
   "outputs": [
    {
     "name": "stdout",
     "output_type": "stream",
     "text": [
      "Shape of X_train :  (891, 7)\n",
      "Shape of Y_train :  (891, 1)\n",
      "Shape of X_test :  (418, 7)\n",
      "Shape of Y_test :  (418, 1)\n"
     ]
    }
   ],
   "source": [
    "print(\"Shape of X_train : \", X_train.shape)\n",
    "print(\"Shape of Y_train : \", y_train.shape)\n",
    "print(\"Shape of X_test : \", X_test.shape)\n",
    "print(\"Shape of Y_test : \", y_test.shape)"
   ]
  },
  {
   "cell_type": "markdown",
   "metadata": {
    "id": "GSGjHxku45Oy"
   },
   "source": [
    "### Logistic Regression\n",
    "\n",
    "\n",
    "For logistic regression (and binary classification) we use a fit function with the form\n",
    "\n",
    "\\begin{equation}\n",
    "y_p (x;W,b) = \\sigma (z(x;W,b)) \n",
    "\\end{equation}\n",
    "\n",
    "where $\\sigma (z)$ represents the sigmoid (logistic) function,\n",
    "\n",
    "\\begin{equation}\n",
    "\\sigma (z) = \\frac{1}{1+e^{-z}} \n",
    "\\end{equation}\n",
    "\n",
    "and $z(x;W,b) = Wx + b$. Therefore, we have\n",
    "\n",
    "\\begin{equation}\n",
    "y_p (x;W,b) = \\frac{1}{1+e^{-(Wx + b)}}. \n",
    "\\end{equation}\n",
    "\n",
    "Since the result of the regression will be a binary classification, with values 0 or 1, the cost function cannot have the form\n",
    "\n",
    "\\begin{equation}\n",
    "f_{c} = \\frac{1}{n} \\sum_{i=1}^n \\left( y_{p}(x_i) - y_i \\right)^2.\n",
    "\\end{equation}\n",
    "\n",
    "Instead, we will use a cost function defined as\n",
    "\n",
    "\\begin{equation}\n",
    "f_{c} = - \\frac{1}{n} \\sum_{i=1}^n \\left[ y_i \\log(y_p) + (1-y_i)\\log (1-y_p) \\right].\n",
    "\\end{equation}\n",
    "\n",
    "Note that, from this cost function, we conclude that:\n",
    "\n",
    "- For a sigle sample with target value $y_i = 0$, the cost function reduces to $f_{c} = - \\log (1-y_p)$. Note that a prediction near $y_p \\sim 1$ gives a huge cost, $f_c \\rightarrow \\infty$, while a prediction near $y_p \\sim y_0 = 0$ gives a low cost, $f_c \\rightarrow 0$.\n",
    "\n",
    "- For a sigle sample with target value $y_i = 1$, the cost function reduces to $f_{c} = - \\log (y_p)$. This time, a prediction of $y_p \\sim 0$ gives a huge cost, $f_c \\rightarrow \\infty$, while a prediction of $y_p \\sim y_0 = 1$ gives a low cost, $f_c \\rightarrow 0$.\n",
    "\n",
    "\n",
    "The gradient of the cost function, w.r.t. the parameters $W$ and $b$ give\n",
    "\\begin{align}\n",
    "\\frac{ \\partial f_{c}}{\\partial W} = &- \\frac{1}{n} \\sum_{i=1}^n \\left[ \\frac{y_i}{y_p} \\frac{ \\partial y_p}{\\partial W} - \\frac{1-y_i}{1-y_p} \\frac{ \\partial y_p}{\\partial W} \\right] \\\\ \n",
    "= &- \\frac{1}{n} \\sum_{i=1}^n \\left[ \\frac{y_i}{y_p}  - \\frac{1-y_i}{1-y_p}  \\right]\\left( y_p (1 -y_p) x_i \\right) \\\\\n",
    "= &- \\frac{1}{n} \\sum_{i=1}^n \\left[ y_i(1 -y_p) - (1-y_i) y_p  \\right] x_i\\\\\n",
    "= &- \\frac{1}{n} \\sum_{i=1}^n \\left[ y_i -  y_p  \\right] x_i\\\\\n",
    "= & \\frac{1}{n} \\sum_{i=1}^n \\left[ y_p -  y_i  \\right] x_i.\n",
    "\\end{align}\n",
    "\n",
    "and \n",
    "\n",
    "\\begin{align}\n",
    "\\frac{ \\partial f_{c}}{\\partial b} = &- \\frac{1}{n} \\sum_{i=1}^n \\left[ \\frac{y_i}{y_p} \\frac{ \\partial y_p}{\\partial b} - \\frac{1-y_i}{1-y_p} \\frac{ \\partial y_p}{\\partial b} \\right] \\\\ \n",
    "= &- \\frac{1}{n} \\sum_{i=1}^n \\left[ \\frac{y_i}{y_p}  - \\frac{1-y_i}{1-y_p}  \\right]\\left( y_p (1 -y_p)\\right) \\\\\n",
    "= &- \\frac{1}{n} \\sum_{i=1}^n \\left[ y_i(1 -y_p) - (1-y_i) y_p  \\right] \\\\\n",
    "= &- \\frac{1}{n} \\sum_{i=1}^n \\left[ y_i -  y_p  \\right] \\\\\n",
    "= & \\frac{1}{n} \\sum_{i=1}^n \\left[ y_p -  y_i  \\right].\n",
    "\\end{align}\n"
   ]
  },
  {
   "cell_type": "code",
   "execution_count": 35,
   "metadata": {},
   "outputs": [],
   "source": [
    "class LogisticRegression():\n",
    "    '''\n",
    "    Logistic regression class\n",
    "    '''\n",
    "    def __init__(self):\n",
    "        pass\n",
    "    \n",
    "    def sigmoid(self, Z):\n",
    "        return 1/(1 + np.exp(-Z))\n",
    "\n",
    "    def Z(self, X):\n",
    "        '''\n",
    "        Function to fit\n",
    "        '''\n",
    "        return self.b + np.dot(X,self.W)\n",
    "    \n",
    "    def predict(self, X):\n",
    "        return self.sigmoid(self.Z(X))\n",
    "    \n",
    "    def cost(self, X, y):\n",
    "        '''\n",
    "        Cost function\n",
    "        '''\n",
    "        Yp = self.predict(X)\n",
    "        return -(1/self.n)*np.sum(y*np.log(Yp) + (1-y)*np.log(1-Yp))\n",
    "    \n",
    "    def grad_cost(self, X,y):\n",
    "        '''\n",
    "        Gradient of the cost function\n",
    "        '''\n",
    "        Yp = self.predict(X)\n",
    "        grad_dW = (1/self.n)*np.dot(X.T, Yp-y)\n",
    "        grad_db = (1/self.n)*np.sum(Yp-y)\n",
    "        return grad_dW, grad_db\n",
    "    \n",
    "    def fit(self, X, y):\n",
    "        '''\n",
    "        Optimization function\n",
    "        '''\n",
    "        alpha= 0.002  # Learning rate\n",
    "        tol = 1e-13    # Tolerance\n",
    "        np.random.seed(413)\n",
    "        self.m = X.shape[1] # Number of features\n",
    "        self.n = X.shape[0] # Number od samples\n",
    "        \n",
    "        self.W = np.zeros([self.m,1])#np.random.rand(self.m)\n",
    "        self.b = 0#np.random.rand(1)\n",
    "        Y = self.sigmoid(self.Z(X))\n",
    "\n",
    "        self.history = []\n",
    "        self.history.append(self.cost(X, y))\n",
    "        print('Initial cost = ', self.history[0])\n",
    "        \n",
    "        epoch = 0 # Epochs\n",
    "        epsilon = 1\n",
    "        while epsilon>tol and epoch<200000:\n",
    "            # Gradient\n",
    "            grad_dW, grad_db = self.grad_cost(X,y)\n",
    "\n",
    "            self.W = self.W - alpha*grad_dW\n",
    "            self.b = self.b - alpha*grad_db\n",
    "            \n",
    "            self.history.append(self.cost(X, y))\n",
    "            epsilon = abs(self.history[epoch] - self.history[epoch+1])\n",
    "            epoch +=1\n",
    "        \n",
    "        print('Final cost = ', self.history[-1])\n",
    "        print('Number of epochs = ',epoch)\n",
    "    \n",
    "    def accuracy(self, X, y):\n",
    "        Yp = self.predict(X)\n",
    "        Yp = Yp > 0.5\n",
    "        Yp = np.array(Yp, dtype = 'int64')\n",
    "        acc = (1 - np.sum(abs(Yp - y))/len(y))*100\n",
    "        print(\"Accuracy of the model is : \", round(acc, 2), \"%\")\n",
    "        \n",
    "    "
   ]
  },
  {
   "cell_type": "code",
   "execution_count": 36,
   "metadata": {},
   "outputs": [
    {
     "name": "stdout",
     "output_type": "stream",
     "text": [
      "Initial cost =  0.6931471805599454\n",
      "Final cost =  0.44482356011000806\n",
      "Number of epochs =  200000\n",
      "\n",
      "The optimized parameters are\n",
      "W =  [[-0.96633465]\n",
      " [ 2.76276562]\n",
      " [-0.03164378]\n",
      " [-0.33249102]\n",
      " [-0.11435116]\n",
      " [ 0.00343123]\n",
      " [-0.11285891]]\n",
      "b =  1.757999615723724\n"
     ]
    }
   ],
   "source": [
    "lr = LogisticRegression()\n",
    "\n",
    "lr.fit(X_train, y_train)\n",
    "\n",
    "W, b = lr.W, lr.b\n",
    "\n",
    "print('\\nThe optimized parameters are')\n",
    "print('W = ',W)\n",
    "print('b = ',b)"
   ]
  },
  {
   "cell_type": "code",
   "execution_count": 37,
   "metadata": {},
   "outputs": [
    {
     "name": "stdout",
     "output_type": "stream",
     "text": [
      "Accuracy of the model is :  90.91 %\n"
     ]
    }
   ],
   "source": [
    "lr.accuracy(X_test, y_test)\n"
   ]
  },
  {
   "cell_type": "code",
   "execution_count": 18,
   "metadata": {},
   "outputs": [
    {
     "data": {
      "image/png": "[encoded data removed]",
      "text/plain": [
       "<Figure size 504x360 with 1 Axes>"
      ]
     },
     "metadata": {
      "needs_background": "light"
     },
     "output_type": "display_data"
    }
   ],
   "source": [
    "# Plot Training history\n",
    "\n",
    "plt.figure(figsize=(7,5))\n",
    "plt.plot(lr.history, color='crimson')\n",
    "#plt.plot(lr.history[0:100], color='crimson')\n",
    "plt.ylabel(r'cost function')\n",
    "plt.xlabel(r'epoch')\n",
    "plt.show()"
   ]
  },
  {
   "cell_type": "code",
   "execution_count": null,
   "metadata": {},
   "outputs": [],
   "source": []
  }
 ],
 "metadata": {
  "@webio": {
   "lastCommId": null,
   "lastKernelId": null
  },
  "colab": {
   "collapsed_sections": [],
   "name": "LinearFit01.ipynb",
   "provenance": [],
   "toc_visible": true
  },
  "kernelspec": {
   "display_name": "Python 3 (ipykernel)",
   "language": "python",
   "name": "python3"
  },
  "language_info": {
   "codemirror_mode": {
    "name": "ipython",
    "version": 3
   },
   "file_extension": ".py",
   "mimetype": "text/x-python",
   "name": "python",
   "nbconvert_exporter": "python",
   "pygments_lexer": "ipython3",
   "version": "3.9.5"
  }
 },
 "nbformat": 4,
 "nbformat_minor": 1
}
