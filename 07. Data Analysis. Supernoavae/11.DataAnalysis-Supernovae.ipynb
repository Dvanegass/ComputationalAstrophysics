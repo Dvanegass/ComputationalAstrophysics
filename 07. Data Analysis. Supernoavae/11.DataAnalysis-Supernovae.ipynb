{
 "cells": [
  {
   "cell_type": "markdown",
   "metadata": {
    "id": "BJ0hvp2OPcHF"
   },
   "source": [
    "![Astrofisica Computacional](../logo.png)"
   ]
  },
  {
   "cell_type": "markdown",
   "metadata": {},
   "source": [
    "---\n",
    "## 11. Data Analysis. Supernovae\n",
    "\n",
    "\n",
    "Eduard Larrañaga (ealarranaga@unal.edu.co)\n",
    "\n",
    "---"
   ]
  },
  {
   "cell_type": "markdown",
   "metadata": {
    "id": "yO85mmNxPcHN"
   },
   "source": [
    "### About this notebook\n",
    "\n",
    "In this worksheet, we use a real ligth curve of a supernova to illustrate data analysis and the identification of the class of the event according to a theoretical model. \n",
    "\n",
    "---"
   ]
  },
  {
   "cell_type": "markdown",
   "metadata": {
    "id": "2xDKeVAb8Y2o"
   },
   "source": [
    "### A Real Supernova Lightcurve\n",
    "\n",
    "The **A**merican **A**ssociation of **V**ariable **S**tars **O**bservers (**AAVSO**) collects information about variable stars, including nova and supernova events. From its webpage,\n",
    "\n",
    "https://www.aavso.org\n",
    "\n",
    "it is possible to download the photometric data (lightcurves) of many objects. We will illustrate the data analysis using the supernova SN 2013E, located in the constellation Antlia. The data is given in a .txt file with comma separated values."
   ]
  },
  {
   "cell_type": "markdown",
   "metadata": {
    "id": "gHU54ygTPcHN"
   },
   "source": [
    "#### Reading the dataset\n",
    "The dataset is a .txt file and we will use pandas to read it and take a look to its header and first elements."
   ]
  },
  {
   "cell_type": "code",
   "execution_count": null,
   "metadata": {
    "id": "K6wfXUvSPcHN"
   },
   "outputs": [],
   "source": [
    "import matplotlib.pyplot as plt\n",
    "import pandas as pd\n",
    "import numpy as np\n",
    "import warnings\n",
    "warnings.filterwarnings('ignore')"
   ]
  },
  {
   "cell_type": "code",
   "execution_count": null,
   "metadata": {
    "colab": {
     "base_uri": "https://localhost:8080/",
     "height": 343
    },
    "executionInfo": {
     "elapsed": 3026,
     "status": "ok",
     "timestamp": 1609275072823,
     "user": {
      "displayName": "Eduard Alexis Larranaga",
      "photoUrl": "https://lh3.googleusercontent.com/a-/AOh14GgCVABzEgj-rCdyxWa29RnA0kIYUCXAaVbnRYOEhQ=s64",
      "userId": "04402438389940282602"
     },
     "user_tz": 300
    },
    "id": "DyGCmrFZPcHO",
    "outputId": "116ddad5-3291-46cc-bd91-ab1a36096318"
   },
   "outputs": [
    {
     "data": {
      "text/html": [
       "<div>\n",
       "<style scoped>\n",
       "    .dataframe tbody tr th:only-of-type {\n",
       "        vertical-align: middle;\n",
       "    }\n",
       "\n",
       "    .dataframe tbody tr th {\n",
       "        vertical-align: top;\n",
       "    }\n",
       "\n",
       "    .dataframe thead th {\n",
       "        text-align: right;\n",
       "    }\n",
       "</style>\n",
       "<table border=\"1\" class=\"dataframe\">\n",
       "  <thead>\n",
       "    <tr style=\"text-align: right;\">\n",
       "      <th></th>\n",
       "      <th>JD</th>\n",
       "      <th>Magnitude</th>\n",
       "      <th>Uncertainty</th>\n",
       "      <th>HQuncertainty</th>\n",
       "      <th>Band</th>\n",
       "      <th>Observer Code</th>\n",
       "      <th>Comment Code(s)</th>\n",
       "      <th>Comp Star 1</th>\n",
       "      <th>Comp Star 2</th>\n",
       "      <th>Charts</th>\n",
       "      <th>Comments</th>\n",
       "      <th>Transfomed</th>\n",
       "      <th>Airmass</th>\n",
       "      <th>Validation Flag</th>\n",
       "      <th>Cmag</th>\n",
       "      <th>Kmag</th>\n",
       "      <th>HJD</th>\n",
       "      <th>Star Name</th>\n",
       "      <th>Observer Affiliation</th>\n",
       "      <th>Measurement Method</th>\n",
       "      <th>Grouping Method</th>\n",
       "      <th>ADS Reference</th>\n",
       "      <th>Digitizer</th>\n",
       "      <th>Credit</th>\n",
       "    </tr>\n",
       "  </thead>\n",
       "  <tbody>\n",
       "    <tr>\n",
       "      <th>0</th>\n",
       "      <td>2.456300e+06</td>\n",
       "      <td>14.768</td>\n",
       "      <td>0.024</td>\n",
       "      <td>NaN</td>\n",
       "      <td>B</td>\n",
       "      <td>BHQ</td>\n",
       "      <td>NaN</td>\n",
       "      <td>ENSEMBLE</td>\n",
       "      <td>147</td>\n",
       "      <td>10401GAV</td>\n",
       "      <td>NaN</td>\n",
       "      <td>0.0</td>\n",
       "      <td>2.065</td>\n",
       "      <td>Z</td>\n",
       "      <td>NaN</td>\n",
       "      <td>15.236</td>\n",
       "      <td>NaN</td>\n",
       "      <td>SN 2013E</td>\n",
       "      <td>VSS</td>\n",
       "      <td>STD</td>\n",
       "      <td>NaN</td>\n",
       "      <td>NaN</td>\n",
       "      <td>NaN</td>\n",
       "      <td>NaN</td>\n",
       "    </tr>\n",
       "    <tr>\n",
       "      <th>1</th>\n",
       "      <td>2.456300e+06</td>\n",
       "      <td>14.370</td>\n",
       "      <td>0.022</td>\n",
       "      <td>NaN</td>\n",
       "      <td>R</td>\n",
       "      <td>BHQ</td>\n",
       "      <td>NaN</td>\n",
       "      <td>ENSEMBLE</td>\n",
       "      <td>147</td>\n",
       "      <td>10401GAV</td>\n",
       "      <td>NaN</td>\n",
       "      <td>0.0</td>\n",
       "      <td>1.996</td>\n",
       "      <td>Z</td>\n",
       "      <td>NaN</td>\n",
       "      <td>14.234</td>\n",
       "      <td>NaN</td>\n",
       "      <td>SN 2013E</td>\n",
       "      <td>VSS</td>\n",
       "      <td>STD</td>\n",
       "      <td>NaN</td>\n",
       "      <td>NaN</td>\n",
       "      <td>NaN</td>\n",
       "      <td>NaN</td>\n",
       "    </tr>\n",
       "    <tr>\n",
       "      <th>2</th>\n",
       "      <td>2.456300e+06</td>\n",
       "      <td>14.319</td>\n",
       "      <td>0.049</td>\n",
       "      <td>NaN</td>\n",
       "      <td>I</td>\n",
       "      <td>BHQ</td>\n",
       "      <td>NaN</td>\n",
       "      <td>ENSEMBLE</td>\n",
       "      <td>147</td>\n",
       "      <td>10401GAV</td>\n",
       "      <td>NaN</td>\n",
       "      <td>0.0</td>\n",
       "      <td>1.968</td>\n",
       "      <td>Z</td>\n",
       "      <td>NaN</td>\n",
       "      <td>13.839</td>\n",
       "      <td>NaN</td>\n",
       "      <td>SN 2013E</td>\n",
       "      <td>VSS</td>\n",
       "      <td>STD</td>\n",
       "      <td>NaN</td>\n",
       "      <td>NaN</td>\n",
       "      <td>NaN</td>\n",
       "      <td>NaN</td>\n",
       "    </tr>\n",
       "    <tr>\n",
       "      <th>3</th>\n",
       "      <td>2.456300e+06</td>\n",
       "      <td>14.588</td>\n",
       "      <td>0.017</td>\n",
       "      <td>NaN</td>\n",
       "      <td>V</td>\n",
       "      <td>BHQ</td>\n",
       "      <td>NaN</td>\n",
       "      <td>ENSEMBLE</td>\n",
       "      <td>147</td>\n",
       "      <td>10401GAV</td>\n",
       "      <td>NaN</td>\n",
       "      <td>0.0</td>\n",
       "      <td>1.865</td>\n",
       "      <td>Z</td>\n",
       "      <td>NaN</td>\n",
       "      <td>14.634</td>\n",
       "      <td>NaN</td>\n",
       "      <td>SN 2013E</td>\n",
       "      <td>VSS</td>\n",
       "      <td>STD</td>\n",
       "      <td>NaN</td>\n",
       "      <td>NaN</td>\n",
       "      <td>NaN</td>\n",
       "      <td>NaN</td>\n",
       "    </tr>\n",
       "    <tr>\n",
       "      <th>4</th>\n",
       "      <td>2.456303e+06</td>\n",
       "      <td>14.3</td>\n",
       "      <td>NaN</td>\n",
       "      <td>NaN</td>\n",
       "      <td>Vis.</td>\n",
       "      <td>PEX</td>\n",
       "      <td>NaN</td>\n",
       "      <td>139</td>\n",
       "      <td>147</td>\n",
       "      <td>10401GBD</td>\n",
       "      <td>NaN</td>\n",
       "      <td>NaN</td>\n",
       "      <td>NaN</td>\n",
       "      <td>Z</td>\n",
       "      <td>NaN</td>\n",
       "      <td>NaN</td>\n",
       "      <td>NaN</td>\n",
       "      <td>SN 2013E</td>\n",
       "      <td>RASNZ-VSS</td>\n",
       "      <td>STD</td>\n",
       "      <td>NaN</td>\n",
       "      <td>NaN</td>\n",
       "      <td>NaN</td>\n",
       "      <td>NaN</td>\n",
       "    </tr>\n",
       "  </tbody>\n",
       "</table>\n",
       "</div>"
      ],
      "text/plain": [
       "             JD Magnitude  Uncertainty  ...  ADS Reference Digitizer Credit\n",
       "0  2.456300e+06    14.768        0.024  ...            NaN       NaN    NaN\n",
       "1  2.456300e+06    14.370        0.022  ...            NaN       NaN    NaN\n",
       "2  2.456300e+06    14.319        0.049  ...            NaN       NaN    NaN\n",
       "3  2.456300e+06    14.588        0.017  ...            NaN       NaN    NaN\n",
       "4  2.456303e+06      14.3          NaN  ...            NaN       NaN    NaN\n",
       "\n",
       "[5 rows x 24 columns]"
      ]
     },
     "execution_count": 5,
     "metadata": {
      "tags": []
     },
     "output_type": "execute_result"
    }
   ],
   "source": [
    "df = pd.read_csv('aavsodata_5fea06dd7e52f-SN2013E.txt')\n",
    "\n",
    "df.head()"
   ]
  },
  {
   "cell_type": "markdown",
   "metadata": {
    "id": "oQpmoqwUPcHP"
   },
   "source": [
    "The `.describe()` attribute summarize the content of the dataset. Note that the column 'Magnitude' is not listed because its values are understood as string type variables."
   ]
  },
  {
   "cell_type": "code",
   "execution_count": null,
   "metadata": {
    "colab": {
     "base_uri": "https://localhost:8080/",
     "height": 297
    },
    "executionInfo": {
     "elapsed": 562,
     "status": "ok",
     "timestamp": 1609275079883,
     "user": {
      "displayName": "Eduard Alexis Larranaga",
      "photoUrl": "https://lh3.googleusercontent.com/a-/AOh14GgCVABzEgj-rCdyxWa29RnA0kIYUCXAaVbnRYOEhQ=s64",
      "userId": "04402438389940282602"
     },
     "user_tz": 300
    },
    "id": "YBirZr6dPcHP",
    "outputId": "ecce9ee0-1b74-464e-dccf-8ca850977f31"
   },
   "outputs": [
    {
     "data": {
      "text/html": [
       "<div>\n",
       "<style scoped>\n",
       "    .dataframe tbody tr th:only-of-type {\n",
       "        vertical-align: middle;\n",
       "    }\n",
       "\n",
       "    .dataframe tbody tr th {\n",
       "        vertical-align: top;\n",
       "    }\n",
       "\n",
       "    .dataframe thead th {\n",
       "        text-align: right;\n",
       "    }\n",
       "</style>\n",
       "<table border=\"1\" class=\"dataframe\">\n",
       "  <thead>\n",
       "    <tr style=\"text-align: right;\">\n",
       "      <th></th>\n",
       "      <th>JD</th>\n",
       "      <th>Uncertainty</th>\n",
       "      <th>HQuncertainty</th>\n",
       "      <th>Transfomed</th>\n",
       "      <th>Airmass</th>\n",
       "      <th>Cmag</th>\n",
       "      <th>Kmag</th>\n",
       "      <th>HJD</th>\n",
       "      <th>Grouping Method</th>\n",
       "      <th>ADS Reference</th>\n",
       "      <th>Digitizer</th>\n",
       "      <th>Credit</th>\n",
       "    </tr>\n",
       "  </thead>\n",
       "  <tbody>\n",
       "    <tr>\n",
       "      <th>count</th>\n",
       "      <td>1.710000e+02</td>\n",
       "      <td>157.000000</td>\n",
       "      <td>0.0</td>\n",
       "      <td>157.000000</td>\n",
       "      <td>157.00000</td>\n",
       "      <td>3.000000e+00</td>\n",
       "      <td>157.000000</td>\n",
       "      <td>0.0</td>\n",
       "      <td>0.0</td>\n",
       "      <td>0.0</td>\n",
       "      <td>0.0</td>\n",
       "      <td>0.0</td>\n",
       "    </tr>\n",
       "    <tr>\n",
       "      <th>mean</th>\n",
       "      <td>2.456343e+06</td>\n",
       "      <td>0.060401</td>\n",
       "      <td>NaN</td>\n",
       "      <td>0.503185</td>\n",
       "      <td>1.20386</td>\n",
       "      <td>1.352000e+01</td>\n",
       "      <td>13.943777</td>\n",
       "      <td>NaN</td>\n",
       "      <td>NaN</td>\n",
       "      <td>NaN</td>\n",
       "      <td>NaN</td>\n",
       "      <td>NaN</td>\n",
       "    </tr>\n",
       "    <tr>\n",
       "      <th>std</th>\n",
       "      <td>3.446337e+01</td>\n",
       "      <td>0.044672</td>\n",
       "      <td>NaN</td>\n",
       "      <td>0.501590</td>\n",
       "      <td>0.22941</td>\n",
       "      <td>2.175584e-15</td>\n",
       "      <td>0.753353</td>\n",
       "      <td>NaN</td>\n",
       "      <td>NaN</td>\n",
       "      <td>NaN</td>\n",
       "      <td>NaN</td>\n",
       "      <td>NaN</td>\n",
       "    </tr>\n",
       "    <tr>\n",
       "      <th>min</th>\n",
       "      <td>2.456300e+06</td>\n",
       "      <td>0.007000</td>\n",
       "      <td>NaN</td>\n",
       "      <td>0.000000</td>\n",
       "      <td>1.00000</td>\n",
       "      <td>1.352000e+01</td>\n",
       "      <td>13.016000</td>\n",
       "      <td>NaN</td>\n",
       "      <td>NaN</td>\n",
       "      <td>NaN</td>\n",
       "      <td>NaN</td>\n",
       "      <td>NaN</td>\n",
       "    </tr>\n",
       "    <tr>\n",
       "      <th>25%</th>\n",
       "      <td>2.456317e+06</td>\n",
       "      <td>0.030000</td>\n",
       "      <td>NaN</td>\n",
       "      <td>0.000000</td>\n",
       "      <td>1.01300</td>\n",
       "      <td>1.352000e+01</td>\n",
       "      <td>13.279000</td>\n",
       "      <td>NaN</td>\n",
       "      <td>NaN</td>\n",
       "      <td>NaN</td>\n",
       "      <td>NaN</td>\n",
       "      <td>NaN</td>\n",
       "    </tr>\n",
       "    <tr>\n",
       "      <th>50%</th>\n",
       "      <td>2.456334e+06</td>\n",
       "      <td>0.050000</td>\n",
       "      <td>NaN</td>\n",
       "      <td>1.000000</td>\n",
       "      <td>1.13000</td>\n",
       "      <td>1.352000e+01</td>\n",
       "      <td>13.350000</td>\n",
       "      <td>NaN</td>\n",
       "      <td>NaN</td>\n",
       "      <td>NaN</td>\n",
       "      <td>NaN</td>\n",
       "      <td>NaN</td>\n",
       "    </tr>\n",
       "    <tr>\n",
       "      <th>75%</th>\n",
       "      <td>2.456361e+06</td>\n",
       "      <td>0.080000</td>\n",
       "      <td>NaN</td>\n",
       "      <td>1.000000</td>\n",
       "      <td>1.31000</td>\n",
       "      <td>1.352000e+01</td>\n",
       "      <td>14.450000</td>\n",
       "      <td>NaN</td>\n",
       "      <td>NaN</td>\n",
       "      <td>NaN</td>\n",
       "      <td>NaN</td>\n",
       "      <td>NaN</td>\n",
       "    </tr>\n",
       "    <tr>\n",
       "      <th>max</th>\n",
       "      <td>2.456483e+06</td>\n",
       "      <td>0.288000</td>\n",
       "      <td>NaN</td>\n",
       "      <td>1.000000</td>\n",
       "      <td>2.06500</td>\n",
       "      <td>1.352000e+01</td>\n",
       "      <td>15.281000</td>\n",
       "      <td>NaN</td>\n",
       "      <td>NaN</td>\n",
       "      <td>NaN</td>\n",
       "      <td>NaN</td>\n",
       "      <td>NaN</td>\n",
       "    </tr>\n",
       "  </tbody>\n",
       "</table>\n",
       "</div>"
      ],
      "text/plain": [
       "                 JD  Uncertainty  ...  Digitizer  Credit\n",
       "count  1.710000e+02   157.000000  ...        0.0     0.0\n",
       "mean   2.456343e+06     0.060401  ...        NaN     NaN\n",
       "std    3.446337e+01     0.044672  ...        NaN     NaN\n",
       "min    2.456300e+06     0.007000  ...        NaN     NaN\n",
       "25%    2.456317e+06     0.030000  ...        NaN     NaN\n",
       "50%    2.456334e+06     0.050000  ...        NaN     NaN\n",
       "75%    2.456361e+06     0.080000  ...        NaN     NaN\n",
       "max    2.456483e+06     0.288000  ...        NaN     NaN\n",
       "\n",
       "[8 rows x 12 columns]"
      ]
     },
     "execution_count": 6,
     "metadata": {
      "tags": []
     },
     "output_type": "execute_result"
    }
   ],
   "source": [
    "df.describe()"
   ]
  },
  {
   "cell_type": "markdown",
   "metadata": {
    "id": "du9fBq3uPcHP"
   },
   "source": [
    "The dataframe includes data from 171 observations of the supernova. \n",
    "\n",
    "The features (columns) include\n",
    "\n",
    "**JD** : Julian Date \\\n",
    "**Magnitude** \\\n",
    "**Uncertainty** \\\n",
    "**Band** : \\\n",
    "\n",
    "---"
   ]
  },
  {
   "cell_type": "markdown",
   "metadata": {
    "id": "PryYfO3wEfN3"
   },
   "source": [
    "We will work only with the data in the *V* band (visual). Therefore, we will select the relevant samples by imposing a filter to the dataframe,"
   ]
  },
  {
   "cell_type": "code",
   "execution_count": null,
   "metadata": {
    "colab": {
     "base_uri": "https://localhost:8080/",
     "height": 881
    },
    "executionInfo": {
     "elapsed": 701,
     "status": "ok",
     "timestamp": 1609275086436,
     "user": {
      "displayName": "Eduard Alexis Larranaga",
      "photoUrl": "https://lh3.googleusercontent.com/a-/AOh14GgCVABzEgj-rCdyxWa29RnA0kIYUCXAaVbnRYOEhQ=s64",
      "userId": "04402438389940282602"
     },
     "user_tz": 300
    },
    "id": "nw3K55ZTCxAl",
    "outputId": "453b3182-4bef-4b92-8921-eefb3f8fc25f"
   },
   "outputs": [
    {
     "data": {
      "text/html": [
       "<div>\n",
       "<style scoped>\n",
       "    .dataframe tbody tr th:only-of-type {\n",
       "        vertical-align: middle;\n",
       "    }\n",
       "\n",
       "    .dataframe tbody tr th {\n",
       "        vertical-align: top;\n",
       "    }\n",
       "\n",
       "    .dataframe thead th {\n",
       "        text-align: right;\n",
       "    }\n",
       "</style>\n",
       "<table border=\"1\" class=\"dataframe\">\n",
       "  <thead>\n",
       "    <tr style=\"text-align: right;\">\n",
       "      <th></th>\n",
       "      <th>JD</th>\n",
       "      <th>Magnitude</th>\n",
       "      <th>Uncertainty</th>\n",
       "      <th>HQuncertainty</th>\n",
       "      <th>Band</th>\n",
       "      <th>Observer Code</th>\n",
       "      <th>Comment Code(s)</th>\n",
       "      <th>Comp Star 1</th>\n",
       "      <th>Comp Star 2</th>\n",
       "      <th>Charts</th>\n",
       "      <th>Comments</th>\n",
       "      <th>Transfomed</th>\n",
       "      <th>Airmass</th>\n",
       "      <th>Validation Flag</th>\n",
       "      <th>Cmag</th>\n",
       "      <th>Kmag</th>\n",
       "      <th>HJD</th>\n",
       "      <th>Star Name</th>\n",
       "      <th>Observer Affiliation</th>\n",
       "      <th>Measurement Method</th>\n",
       "      <th>Grouping Method</th>\n",
       "      <th>ADS Reference</th>\n",
       "      <th>Digitizer</th>\n",
       "      <th>Credit</th>\n",
       "    </tr>\n",
       "  </thead>\n",
       "  <tbody>\n",
       "    <tr>\n",
       "      <th>3</th>\n",
       "      <td>2.456300e+06</td>\n",
       "      <td>14.588</td>\n",
       "      <td>0.017</td>\n",
       "      <td>NaN</td>\n",
       "      <td>V</td>\n",
       "      <td>BHQ</td>\n",
       "      <td>NaN</td>\n",
       "      <td>ENSEMBLE</td>\n",
       "      <td>147</td>\n",
       "      <td>10401GAV</td>\n",
       "      <td>NaN</td>\n",
       "      <td>0.0</td>\n",
       "      <td>1.865</td>\n",
       "      <td>Z</td>\n",
       "      <td>NaN</td>\n",
       "      <td>14.634</td>\n",
       "      <td>NaN</td>\n",
       "      <td>SN 2013E</td>\n",
       "      <td>VSS</td>\n",
       "      <td>STD</td>\n",
       "      <td>NaN</td>\n",
       "      <td>NaN</td>\n",
       "      <td>NaN</td>\n",
       "      <td>NaN</td>\n",
       "    </tr>\n",
       "    <tr>\n",
       "      <th>6</th>\n",
       "      <td>2.456304e+06</td>\n",
       "      <td>14.165</td>\n",
       "      <td>0.008</td>\n",
       "      <td>NaN</td>\n",
       "      <td>V</td>\n",
       "      <td>NLX</td>\n",
       "      <td>NaN</td>\n",
       "      <td>Ensemble</td>\n",
       "      <td>144</td>\n",
       "      <td>10401FZM</td>\n",
       "      <td>\\tMags av 3 measures</td>\n",
       "      <td>0.0</td>\n",
       "      <td>1.520</td>\n",
       "      <td>Z</td>\n",
       "      <td>NaN</td>\n",
       "      <td>14.440</td>\n",
       "      <td>NaN</td>\n",
       "      <td>PSN J10000552-3414013</td>\n",
       "      <td>AAVSO</td>\n",
       "      <td>STD</td>\n",
       "      <td>NaN</td>\n",
       "      <td>NaN</td>\n",
       "      <td>NaN</td>\n",
       "      <td>NaN</td>\n",
       "    </tr>\n",
       "    <tr>\n",
       "      <th>7</th>\n",
       "      <td>2.456304e+06</td>\n",
       "      <td>14.119</td>\n",
       "      <td>0.134</td>\n",
       "      <td>NaN</td>\n",
       "      <td>V</td>\n",
       "      <td>HKEB</td>\n",
       "      <td>NaN</td>\n",
       "      <td>000-BKV-514</td>\n",
       "      <td>000-BKV-513</td>\n",
       "      <td>10403OWK</td>\n",
       "      <td>NaN</td>\n",
       "      <td>0.0</td>\n",
       "      <td>1.000</td>\n",
       "      <td>Z</td>\n",
       "      <td>13.52</td>\n",
       "      <td>13.316</td>\n",
       "      <td>NaN</td>\n",
       "      <td>SN 2013E</td>\n",
       "      <td>AAVSO</td>\n",
       "      <td>STD</td>\n",
       "      <td>NaN</td>\n",
       "      <td>NaN</td>\n",
       "      <td>NaN</td>\n",
       "      <td>NaN</td>\n",
       "    </tr>\n",
       "    <tr>\n",
       "      <th>9</th>\n",
       "      <td>2.456306e+06</td>\n",
       "      <td>14.042</td>\n",
       "      <td>0.054</td>\n",
       "      <td>NaN</td>\n",
       "      <td>V</td>\n",
       "      <td>HKEB</td>\n",
       "      <td>NaN</td>\n",
       "      <td>000-BKV-514</td>\n",
       "      <td>000-BKV-513</td>\n",
       "      <td>10403OWK</td>\n",
       "      <td>NaN</td>\n",
       "      <td>0.0</td>\n",
       "      <td>1.049</td>\n",
       "      <td>Z</td>\n",
       "      <td>13.52</td>\n",
       "      <td>13.316</td>\n",
       "      <td>NaN</td>\n",
       "      <td>SN 2013E</td>\n",
       "      <td>AAVSO</td>\n",
       "      <td>STD</td>\n",
       "      <td>NaN</td>\n",
       "      <td>NaN</td>\n",
       "      <td>NaN</td>\n",
       "      <td>NaN</td>\n",
       "    </tr>\n",
       "    <tr>\n",
       "      <th>11</th>\n",
       "      <td>2.456307e+06</td>\n",
       "      <td>14.006</td>\n",
       "      <td>0.007</td>\n",
       "      <td>NaN</td>\n",
       "      <td>V</td>\n",
       "      <td>NLX</td>\n",
       "      <td>NaN</td>\n",
       "      <td>Ensemble</td>\n",
       "      <td>144</td>\n",
       "      <td>10401FZM</td>\n",
       "      <td>\\tMags ave 3 measures. Ap 6/24/34</td>\n",
       "      <td>0.0</td>\n",
       "      <td>1.290</td>\n",
       "      <td>Z</td>\n",
       "      <td>NaN</td>\n",
       "      <td>14.440</td>\n",
       "      <td>NaN</td>\n",
       "      <td>PSN J10000552-3414013</td>\n",
       "      <td>AAVSO</td>\n",
       "      <td>STD</td>\n",
       "      <td>NaN</td>\n",
       "      <td>NaN</td>\n",
       "      <td>NaN</td>\n",
       "      <td>NaN</td>\n",
       "    </tr>\n",
       "    <tr>\n",
       "      <th>...</th>\n",
       "      <td>...</td>\n",
       "      <td>...</td>\n",
       "      <td>...</td>\n",
       "      <td>...</td>\n",
       "      <td>...</td>\n",
       "      <td>...</td>\n",
       "      <td>...</td>\n",
       "      <td>...</td>\n",
       "      <td>...</td>\n",
       "      <td>...</td>\n",
       "      <td>...</td>\n",
       "      <td>...</td>\n",
       "      <td>...</td>\n",
       "      <td>...</td>\n",
       "      <td>...</td>\n",
       "      <td>...</td>\n",
       "      <td>...</td>\n",
       "      <td>...</td>\n",
       "      <td>...</td>\n",
       "      <td>...</td>\n",
       "      <td>...</td>\n",
       "      <td>...</td>\n",
       "      <td>...</td>\n",
       "      <td>...</td>\n",
       "    </tr>\n",
       "    <tr>\n",
       "      <th>166</th>\n",
       "      <td>2.456435e+06</td>\n",
       "      <td>17.0</td>\n",
       "      <td>0.100</td>\n",
       "      <td>NaN</td>\n",
       "      <td>V</td>\n",
       "      <td>NLX</td>\n",
       "      <td>NaN</td>\n",
       "      <td>Ensemble</td>\n",
       "      <td>144</td>\n",
       "      <td>10401FZM</td>\n",
       "      <td>\\tMag median sum 3x120s Ap 6/24/34</td>\n",
       "      <td>0.0</td>\n",
       "      <td>1.080</td>\n",
       "      <td>Z</td>\n",
       "      <td>NaN</td>\n",
       "      <td>14.440</td>\n",
       "      <td>NaN</td>\n",
       "      <td>SN 2013E</td>\n",
       "      <td>AAVSO</td>\n",
       "      <td>STD</td>\n",
       "      <td>NaN</td>\n",
       "      <td>NaN</td>\n",
       "      <td>NaN</td>\n",
       "      <td>NaN</td>\n",
       "    </tr>\n",
       "    <tr>\n",
       "      <th>167</th>\n",
       "      <td>2.456436e+06</td>\n",
       "      <td>17.5</td>\n",
       "      <td>0.120</td>\n",
       "      <td>NaN</td>\n",
       "      <td>V</td>\n",
       "      <td>NLX</td>\n",
       "      <td>NaN</td>\n",
       "      <td>Ensemble</td>\n",
       "      <td>144</td>\n",
       "      <td>10401FZM</td>\n",
       "      <td>\\tMag med sum 4x120s</td>\n",
       "      <td>0.0</td>\n",
       "      <td>1.330</td>\n",
       "      <td>Z</td>\n",
       "      <td>NaN</td>\n",
       "      <td>14.440</td>\n",
       "      <td>NaN</td>\n",
       "      <td>SN 2013E</td>\n",
       "      <td>AAVSO</td>\n",
       "      <td>STD</td>\n",
       "      <td>NaN</td>\n",
       "      <td>NaN</td>\n",
       "      <td>NaN</td>\n",
       "      <td>NaN</td>\n",
       "    </tr>\n",
       "    <tr>\n",
       "      <th>168</th>\n",
       "      <td>2.456441e+06</td>\n",
       "      <td>17.3</td>\n",
       "      <td>0.100</td>\n",
       "      <td>NaN</td>\n",
       "      <td>V</td>\n",
       "      <td>NLX</td>\n",
       "      <td>NaN</td>\n",
       "      <td>Ensemble</td>\n",
       "      <td>144</td>\n",
       "      <td>10401FZM</td>\n",
       "      <td>\\tMag median sum 4x120s</td>\n",
       "      <td>0.0</td>\n",
       "      <td>1.380</td>\n",
       "      <td>Z</td>\n",
       "      <td>NaN</td>\n",
       "      <td>14.430</td>\n",
       "      <td>NaN</td>\n",
       "      <td>SN 2013E</td>\n",
       "      <td>AAVSO</td>\n",
       "      <td>STD</td>\n",
       "      <td>NaN</td>\n",
       "      <td>NaN</td>\n",
       "      <td>NaN</td>\n",
       "      <td>NaN</td>\n",
       "    </tr>\n",
       "    <tr>\n",
       "      <th>169</th>\n",
       "      <td>2.456453e+06</td>\n",
       "      <td>17.2</td>\n",
       "      <td>0.120</td>\n",
       "      <td>NaN</td>\n",
       "      <td>V</td>\n",
       "      <td>NLX</td>\n",
       "      <td>NaN</td>\n",
       "      <td>Ensemble</td>\n",
       "      <td>144</td>\n",
       "      <td>10401FZM</td>\n",
       "      <td>\\tMag med sum 5x120s</td>\n",
       "      <td>0.0</td>\n",
       "      <td>1.340</td>\n",
       "      <td>Z</td>\n",
       "      <td>NaN</td>\n",
       "      <td>14.430</td>\n",
       "      <td>NaN</td>\n",
       "      <td>SN 2013E</td>\n",
       "      <td>AAVSO</td>\n",
       "      <td>STD</td>\n",
       "      <td>NaN</td>\n",
       "      <td>NaN</td>\n",
       "      <td>NaN</td>\n",
       "      <td>NaN</td>\n",
       "    </tr>\n",
       "    <tr>\n",
       "      <th>170</th>\n",
       "      <td>2.456483e+06</td>\n",
       "      <td>17.8</td>\n",
       "      <td>0.100</td>\n",
       "      <td>NaN</td>\n",
       "      <td>V</td>\n",
       "      <td>NLX</td>\n",
       "      <td>NaN</td>\n",
       "      <td>Ensemble</td>\n",
       "      <td>144</td>\n",
       "      <td>10401FZM</td>\n",
       "      <td>\\tMags median sum 4x180s</td>\n",
       "      <td>0.0</td>\n",
       "      <td>1.420</td>\n",
       "      <td>Z</td>\n",
       "      <td>NaN</td>\n",
       "      <td>14.450</td>\n",
       "      <td>NaN</td>\n",
       "      <td>SN 2013E</td>\n",
       "      <td>AAVSO</td>\n",
       "      <td>STD</td>\n",
       "      <td>NaN</td>\n",
       "      <td>NaN</td>\n",
       "      <td>NaN</td>\n",
       "      <td>NaN</td>\n",
       "    </tr>\n",
       "  </tbody>\n",
       "</table>\n",
       "<p>121 rows × 24 columns</p>\n",
       "</div>"
      ],
      "text/plain": [
       "               JD Magnitude  Uncertainty  ...  ADS Reference Digitizer Credit\n",
       "3    2.456300e+06    14.588        0.017  ...            NaN       NaN    NaN\n",
       "6    2.456304e+06    14.165        0.008  ...            NaN       NaN    NaN\n",
       "7    2.456304e+06    14.119        0.134  ...            NaN       NaN    NaN\n",
       "9    2.456306e+06    14.042        0.054  ...            NaN       NaN    NaN\n",
       "11   2.456307e+06    14.006        0.007  ...            NaN       NaN    NaN\n",
       "..            ...       ...          ...  ...            ...       ...    ...\n",
       "166  2.456435e+06      17.0        0.100  ...            NaN       NaN    NaN\n",
       "167  2.456436e+06      17.5        0.120  ...            NaN       NaN    NaN\n",
       "168  2.456441e+06      17.3        0.100  ...            NaN       NaN    NaN\n",
       "169  2.456453e+06      17.2        0.120  ...            NaN       NaN    NaN\n",
       "170  2.456483e+06      17.8        0.100  ...            NaN       NaN    NaN\n",
       "\n",
       "[121 rows x 24 columns]"
      ]
     },
     "execution_count": 7,
     "metadata": {
      "tags": []
     },
     "output_type": "execute_result"
    }
   ],
   "source": [
    "df[df['Band']=='V']"
   ]
  },
  {
   "cell_type": "markdown",
   "metadata": {
    "id": "neiNroBBE3TI"
   },
   "source": [
    "The lightcurve will be defined using just the Julian Date and the Magnitude in the V band. These features are included in the definition of a new dataframe,"
   ]
  },
  {
   "cell_type": "code",
   "execution_count": null,
   "metadata": {
    "colab": {
     "base_uri": "https://localhost:8080/",
     "height": 419
    },
    "executionInfo": {
     "elapsed": 487,
     "status": "ok",
     "timestamp": 1609275089281,
     "user": {
      "displayName": "Eduard Alexis Larranaga",
      "photoUrl": "https://lh3.googleusercontent.com/a-/AOh14GgCVABzEgj-rCdyxWa29RnA0kIYUCXAaVbnRYOEhQ=s64",
      "userId": "04402438389940282602"
     },
     "user_tz": 300
    },
    "id": "W9VBoUM5Bqio",
    "outputId": "5746d425-f510-483c-9f13-59dea699fb64"
   },
   "outputs": [
    {
     "data": {
      "text/html": [
       "<div>\n",
       "<style scoped>\n",
       "    .dataframe tbody tr th:only-of-type {\n",
       "        vertical-align: middle;\n",
       "    }\n",
       "\n",
       "    .dataframe tbody tr th {\n",
       "        vertical-align: top;\n",
       "    }\n",
       "\n",
       "    .dataframe thead th {\n",
       "        text-align: right;\n",
       "    }\n",
       "</style>\n",
       "<table border=\"1\" class=\"dataframe\">\n",
       "  <thead>\n",
       "    <tr style=\"text-align: right;\">\n",
       "      <th></th>\n",
       "      <th>JD</th>\n",
       "      <th>Magnitude</th>\n",
       "    </tr>\n",
       "  </thead>\n",
       "  <tbody>\n",
       "    <tr>\n",
       "      <th>3</th>\n",
       "      <td>2.456300e+06</td>\n",
       "      <td>14.588</td>\n",
       "    </tr>\n",
       "    <tr>\n",
       "      <th>6</th>\n",
       "      <td>2.456304e+06</td>\n",
       "      <td>14.165</td>\n",
       "    </tr>\n",
       "    <tr>\n",
       "      <th>7</th>\n",
       "      <td>2.456304e+06</td>\n",
       "      <td>14.119</td>\n",
       "    </tr>\n",
       "    <tr>\n",
       "      <th>9</th>\n",
       "      <td>2.456306e+06</td>\n",
       "      <td>14.042</td>\n",
       "    </tr>\n",
       "    <tr>\n",
       "      <th>11</th>\n",
       "      <td>2.456307e+06</td>\n",
       "      <td>14.006</td>\n",
       "    </tr>\n",
       "    <tr>\n",
       "      <th>...</th>\n",
       "      <td>...</td>\n",
       "      <td>...</td>\n",
       "    </tr>\n",
       "    <tr>\n",
       "      <th>166</th>\n",
       "      <td>2.456435e+06</td>\n",
       "      <td>17.0</td>\n",
       "    </tr>\n",
       "    <tr>\n",
       "      <th>167</th>\n",
       "      <td>2.456436e+06</td>\n",
       "      <td>17.5</td>\n",
       "    </tr>\n",
       "    <tr>\n",
       "      <th>168</th>\n",
       "      <td>2.456441e+06</td>\n",
       "      <td>17.3</td>\n",
       "    </tr>\n",
       "    <tr>\n",
       "      <th>169</th>\n",
       "      <td>2.456453e+06</td>\n",
       "      <td>17.2</td>\n",
       "    </tr>\n",
       "    <tr>\n",
       "      <th>170</th>\n",
       "      <td>2.456483e+06</td>\n",
       "      <td>17.8</td>\n",
       "    </tr>\n",
       "  </tbody>\n",
       "</table>\n",
       "<p>121 rows × 2 columns</p>\n",
       "</div>"
      ],
      "text/plain": [
       "               JD Magnitude\n",
       "3    2.456300e+06    14.588\n",
       "6    2.456304e+06    14.165\n",
       "7    2.456304e+06    14.119\n",
       "9    2.456306e+06    14.042\n",
       "11   2.456307e+06    14.006\n",
       "..            ...       ...\n",
       "166  2.456435e+06      17.0\n",
       "167  2.456436e+06      17.5\n",
       "168  2.456441e+06      17.3\n",
       "169  2.456453e+06      17.2\n",
       "170  2.456483e+06      17.8\n",
       "\n",
       "[121 rows x 2 columns]"
      ]
     },
     "execution_count": 8,
     "metadata": {
      "tags": []
     },
     "output_type": "execute_result"
    }
   ],
   "source": [
    "lightcurve_df = df[df['Band']=='V'][['JD', 'Magnitude']]\n",
    "lightcurve_df"
   ]
  },
  {
   "cell_type": "markdown",
   "metadata": {
    "id": "3Hk6gYsOKEun"
   },
   "source": [
    "Note that we are left with only 121 datapoints. The type of the variables in this dataframe are"
   ]
  },
  {
   "cell_type": "code",
   "execution_count": null,
   "metadata": {
    "colab": {
     "base_uri": "https://localhost:8080/"
    },
    "executionInfo": {
     "elapsed": 517,
     "status": "ok",
     "timestamp": 1609275091819,
     "user": {
      "displayName": "Eduard Alexis Larranaga",
      "photoUrl": "https://lh3.googleusercontent.com/a-/AOh14GgCVABzEgj-rCdyxWa29RnA0kIYUCXAaVbnRYOEhQ=s64",
      "userId": "04402438389940282602"
     },
     "user_tz": 300
    },
    "id": "EUI4yr0GKfH5",
    "outputId": "4dc934c1-51f1-48c9-9cea-399411ab5687"
   },
   "outputs": [
    {
     "data": {
      "text/plain": [
       "JD           float64\n",
       "Magnitude     object\n",
       "dtype: object"
      ]
     },
     "execution_count": 9,
     "metadata": {
      "tags": []
     },
     "output_type": "execute_result"
    }
   ],
   "source": [
    "lightcurve_df.dtypes"
   ]
  },
  {
   "cell_type": "markdown",
   "metadata": {
    "id": "yA0zYefIKm6H"
   },
   "source": [
    "Note that the 'Magnitude' column is not considered as a numerical variable. Then, we will use the function `pandas.to_numeric` to transform this column into float point numbers."
   ]
  },
  {
   "cell_type": "code",
   "execution_count": null,
   "metadata": {
    "colab": {
     "base_uri": "https://localhost:8080/",
     "height": 419
    },
    "executionInfo": {
     "elapsed": 447,
     "status": "ok",
     "timestamp": 1609275094162,
     "user": {
      "displayName": "Eduard Alexis Larranaga",
      "photoUrl": "https://lh3.googleusercontent.com/a-/AOh14GgCVABzEgj-rCdyxWa29RnA0kIYUCXAaVbnRYOEhQ=s64",
      "userId": "04402438389940282602"
     },
     "user_tz": 300
    },
    "id": "16fRnnkhIrhf",
    "outputId": "0a079c70-880d-4a4a-fe8e-30d45a64138c"
   },
   "outputs": [
    {
     "data": {
      "text/html": [
       "<div>\n",
       "<style scoped>\n",
       "    .dataframe tbody tr th:only-of-type {\n",
       "        vertical-align: middle;\n",
       "    }\n",
       "\n",
       "    .dataframe tbody tr th {\n",
       "        vertical-align: top;\n",
       "    }\n",
       "\n",
       "    .dataframe thead th {\n",
       "        text-align: right;\n",
       "    }\n",
       "</style>\n",
       "<table border=\"1\" class=\"dataframe\">\n",
       "  <thead>\n",
       "    <tr style=\"text-align: right;\">\n",
       "      <th></th>\n",
       "      <th>JD</th>\n",
       "      <th>Magnitude</th>\n",
       "    </tr>\n",
       "  </thead>\n",
       "  <tbody>\n",
       "    <tr>\n",
       "      <th>3</th>\n",
       "      <td>2.456300e+06</td>\n",
       "      <td>14.588000</td>\n",
       "    </tr>\n",
       "    <tr>\n",
       "      <th>6</th>\n",
       "      <td>2.456304e+06</td>\n",
       "      <td>14.165000</td>\n",
       "    </tr>\n",
       "    <tr>\n",
       "      <th>7</th>\n",
       "      <td>2.456304e+06</td>\n",
       "      <td>14.119000</td>\n",
       "    </tr>\n",
       "    <tr>\n",
       "      <th>9</th>\n",
       "      <td>2.456306e+06</td>\n",
       "      <td>14.042000</td>\n",
       "    </tr>\n",
       "    <tr>\n",
       "      <th>11</th>\n",
       "      <td>2.456307e+06</td>\n",
       "      <td>14.006000</td>\n",
       "    </tr>\n",
       "    <tr>\n",
       "      <th>...</th>\n",
       "      <td>...</td>\n",
       "      <td>...</td>\n",
       "    </tr>\n",
       "    <tr>\n",
       "      <th>166</th>\n",
       "      <td>2.456435e+06</td>\n",
       "      <td>17.000000</td>\n",
       "    </tr>\n",
       "    <tr>\n",
       "      <th>167</th>\n",
       "      <td>2.456436e+06</td>\n",
       "      <td>17.500000</td>\n",
       "    </tr>\n",
       "    <tr>\n",
       "      <th>168</th>\n",
       "      <td>2.456441e+06</td>\n",
       "      <td>17.299999</td>\n",
       "    </tr>\n",
       "    <tr>\n",
       "      <th>169</th>\n",
       "      <td>2.456453e+06</td>\n",
       "      <td>17.200001</td>\n",
       "    </tr>\n",
       "    <tr>\n",
       "      <th>170</th>\n",
       "      <td>2.456483e+06</td>\n",
       "      <td>17.799999</td>\n",
       "    </tr>\n",
       "  </tbody>\n",
       "</table>\n",
       "<p>121 rows × 2 columns</p>\n",
       "</div>"
      ],
      "text/plain": [
       "               JD  Magnitude\n",
       "3    2.456300e+06  14.588000\n",
       "6    2.456304e+06  14.165000\n",
       "7    2.456304e+06  14.119000\n",
       "9    2.456306e+06  14.042000\n",
       "11   2.456307e+06  14.006000\n",
       "..            ...        ...\n",
       "166  2.456435e+06  17.000000\n",
       "167  2.456436e+06  17.500000\n",
       "168  2.456441e+06  17.299999\n",
       "169  2.456453e+06  17.200001\n",
       "170  2.456483e+06  17.799999\n",
       "\n",
       "[121 rows x 2 columns]"
      ]
     },
     "execution_count": 10,
     "metadata": {
      "tags": []
     },
     "output_type": "execute_result"
    }
   ],
   "source": [
    "lightcurve_df['Magnitude'] = pd.to_numeric(lightcurve_df['Magnitude'], downcast='float')\n",
    "lightcurve_df"
   ]
  },
  {
   "cell_type": "code",
   "execution_count": null,
   "metadata": {
    "colab": {
     "base_uri": "https://localhost:8080/"
    },
    "executionInfo": {
     "elapsed": 972,
     "status": "ok",
     "timestamp": 1609275104607,
     "user": {
      "displayName": "Eduard Alexis Larranaga",
      "photoUrl": "https://lh3.googleusercontent.com/a-/AOh14GgCVABzEgj-rCdyxWa29RnA0kIYUCXAaVbnRYOEhQ=s64",
      "userId": "04402438389940282602"
     },
     "user_tz": 300
    },
    "id": "hSH7RziRCBmy",
    "outputId": "8e3931f9-e5fd-4762-a336-2ec8a3b1c621"
   },
   "outputs": [
    {
     "data": {
      "text/plain": [
       "JD           float64\n",
       "Magnitude    float32\n",
       "dtype: object"
      ]
     },
     "execution_count": 11,
     "metadata": {
      "tags": []
     },
     "output_type": "execute_result"
    }
   ],
   "source": [
    "lightcurve_df.dtypes"
   ]
  },
  {
   "cell_type": "markdown",
   "metadata": {
    "id": "W5obb5rnK8o-"
   },
   "source": [
    "Now, the description of the dataframe gives the complete information about the magnitudes."
   ]
  },
  {
   "cell_type": "code",
   "execution_count": null,
   "metadata": {
    "colab": {
     "base_uri": "https://localhost:8080/",
     "height": 297
    },
    "executionInfo": {
     "elapsed": 1333,
     "status": "ok",
     "timestamp": 1609275111292,
     "user": {
      "displayName": "Eduard Alexis Larranaga",
      "photoUrl": "https://lh3.googleusercontent.com/a-/AOh14GgCVABzEgj-rCdyxWa29RnA0kIYUCXAaVbnRYOEhQ=s64",
      "userId": "04402438389940282602"
     },
     "user_tz": 300
    },
    "id": "9wYCjnIUH4Sc",
    "outputId": "e05af57b-ac74-488e-8ad7-4f50e70a7f4e"
   },
   "outputs": [
    {
     "data": {
      "text/html": [
       "<div>\n",
       "<style scoped>\n",
       "    .dataframe tbody tr th:only-of-type {\n",
       "        vertical-align: middle;\n",
       "    }\n",
       "\n",
       "    .dataframe tbody tr th {\n",
       "        vertical-align: top;\n",
       "    }\n",
       "\n",
       "    .dataframe thead th {\n",
       "        text-align: right;\n",
       "    }\n",
       "</style>\n",
       "<table border=\"1\" class=\"dataframe\">\n",
       "  <thead>\n",
       "    <tr style=\"text-align: right;\">\n",
       "      <th></th>\n",
       "      <th>JD</th>\n",
       "      <th>Magnitude</th>\n",
       "    </tr>\n",
       "  </thead>\n",
       "  <tbody>\n",
       "    <tr>\n",
       "      <th>count</th>\n",
       "      <td>1.210000e+02</td>\n",
       "      <td>121.000000</td>\n",
       "    </tr>\n",
       "    <tr>\n",
       "      <th>mean</th>\n",
       "      <td>2.456347e+06</td>\n",
       "      <td>15.229074</td>\n",
       "    </tr>\n",
       "    <tr>\n",
       "      <th>std</th>\n",
       "      <td>3.678333e+01</td>\n",
       "      <td>1.114919</td>\n",
       "    </tr>\n",
       "    <tr>\n",
       "      <th>min</th>\n",
       "      <td>2.456300e+06</td>\n",
       "      <td>13.794000</td>\n",
       "    </tr>\n",
       "    <tr>\n",
       "      <th>25%</th>\n",
       "      <td>2.456322e+06</td>\n",
       "      <td>14.452000</td>\n",
       "    </tr>\n",
       "    <tr>\n",
       "      <th>50%</th>\n",
       "      <td>2.456334e+06</td>\n",
       "      <td>14.880000</td>\n",
       "    </tr>\n",
       "    <tr>\n",
       "      <th>75%</th>\n",
       "      <td>2.456363e+06</td>\n",
       "      <td>16.059999</td>\n",
       "    </tr>\n",
       "    <tr>\n",
       "      <th>max</th>\n",
       "      <td>2.456483e+06</td>\n",
       "      <td>17.929001</td>\n",
       "    </tr>\n",
       "  </tbody>\n",
       "</table>\n",
       "</div>"
      ],
      "text/plain": [
       "                 JD   Magnitude\n",
       "count  1.210000e+02  121.000000\n",
       "mean   2.456347e+06   15.229074\n",
       "std    3.678333e+01    1.114919\n",
       "min    2.456300e+06   13.794000\n",
       "25%    2.456322e+06   14.452000\n",
       "50%    2.456334e+06   14.880000\n",
       "75%    2.456363e+06   16.059999\n",
       "max    2.456483e+06   17.929001"
      ]
     },
     "execution_count": 12,
     "metadata": {
      "tags": []
     },
     "output_type": "execute_result"
    }
   ],
   "source": [
    "lightcurve_df.describe()"
   ]
  },
  {
   "cell_type": "markdown",
   "metadata": {
    "id": "27a2UlR1PcHQ"
   },
   "source": [
    "#### Ploting the Data\n",
    "\n",
    "It is possible to use `pyplot` to plot directly from the dataframe. Note that we invert the y-axis (because magnitude is small for brigth objects)."
   ]
  },
  {
   "cell_type": "code",
   "execution_count": null,
   "metadata": {
    "colab": {
     "base_uri": "https://localhost:8080/",
     "height": 450
    },
    "executionInfo": {
     "elapsed": 709,
     "status": "ok",
     "timestamp": 1609275115113,
     "user": {
      "displayName": "Eduard Alexis Larranaga",
      "photoUrl": "https://lh3.googleusercontent.com/a-/AOh14GgCVABzEgj-rCdyxWa29RnA0kIYUCXAaVbnRYOEhQ=s64",
      "userId": "04402438389940282602"
     },
     "user_tz": 300
    },
    "id": "V7sQ9lB6PcHQ",
    "outputId": "69a08e4d-edbf-46b3-9859-265281150a65"
   },
   "outputs": [
    {
     "data": {
      "image/png": "[encoded data removed]",
      "text/plain": [
       "<Figure size 720x504 with 1 Axes>"
      ]
     },
     "metadata": {
      "needs_background": "light",
      "tags": []
     },
     "output_type": "display_data"
    }
   ],
   "source": [
    "fig, ax = plt.subplots(figsize=(10,7))\n",
    "ax.scatter(lightcurve_df['JD'], lightcurve_df['Magnitude'],  color='crimson', marker='.', label=r'SN 2013E')\n",
    "ax.set_xlabel(r'$JD$')\n",
    "ax.set_ylabel(r'$Magnitude$')\n",
    "ax.set_ylim(19, 13)\n",
    "plt.legend()\n",
    "plt.show()"
   ]
  },
  {
   "cell_type": "markdown",
   "metadata": {
    "id": "2IKtNaMgPcHQ"
   },
   "source": [
    "---\n",
    "### Supernova Templates\n",
    "\n",
    "The astrophysicist Peter Nugent, has developed a series of supernova templates based on theoretical models and observational data. These synthetic datasets are available at\n",
    "\n",
    "https://c3.lbl.gov/nugent/nugent_templates.html\n",
    "\n",
    "Photometric data included in this page correspond to the templates for supernovas of the following types\n",
    "\n",
    "- Type Ia Branch-normal (Bands: UBVRIJHK)\n",
    "- Type Ia 1991T-like (Bands: UBVRI)\n",
    "- Type Ia 1991bg-like (Bands: UBVRI)\n",
    "- Type Ib/c (Bands: UBVRI)\n",
    "- Type Ib/c high velocity - Hypernovae (Bands: V)\n",
    "- Type IIP (Bands: V)\n",
    "- Type IIL (Bands: V)\n",
    "- Type IIn (Bands: V)\n",
    "\n",
    "The datasets have no headers, the values are separated with spaces and the time is set to 0.0 at the explosion (maximum of the V-band magnitude) .\n",
    "\n",
    "We present here four of Nugent's templates:"
   ]
  },
  {
   "cell_type": "code",
   "execution_count": null,
   "metadata": {
    "id": "qO7wQ7YVPcHR"
   },
   "outputs": [],
   "source": [
    "# The delimiters in these file are spaces \n",
    "# There is no header in the file \n",
    "df_1a = pd.read_csv('sn1a_lc.v1.2.dat', header=None, delimiter=r'\\s+', names=['days','U','B','V','R','I','J','H','K'] ) \n",
    "df_1bc = pd.read_csv('sn1bc_lc.v1.1.dat', header=None, delimiter=r'\\s+', names=['days','U','B','V','R','I'] ) \n",
    "df_2p = pd.read_csv('sn2p_lc.v1.2.dat', header=None, delimiter=r'\\s+', names=['days','V'] ) \n",
    "df_2n = pd.read_csv('sn2l_lc.v1.2.dat', header=None, delimiter=r'\\s+', names=['days','V'] ) "
   ]
  },
  {
   "cell_type": "markdown",
   "metadata": {
    "id": "uxJOHTxiIZgu"
   },
   "source": [
    "The template for supernovas SNIa include the bands UBVRIJHK. Hence, we will define a new dataframe with only two columns, 'days' and 'V',"
   ]
  },
  {
   "cell_type": "code",
   "execution_count": null,
   "metadata": {
    "colab": {
     "base_uri": "https://localhost:8080/",
     "height": 297
    },
    "executionInfo": {
     "elapsed": 416,
     "status": "ok",
     "timestamp": 1609275128097,
     "user": {
      "displayName": "Eduard Alexis Larranaga",
      "photoUrl": "https://lh3.googleusercontent.com/a-/AOh14GgCVABzEgj-rCdyxWa29RnA0kIYUCXAaVbnRYOEhQ=s64",
      "userId": "04402438389940282602"
     },
     "user_tz": 300
    },
    "id": "LQwsboYTPcHR",
    "outputId": "775044e7-b3e3-4c69-921c-035816933af8"
   },
   "outputs": [
    {
     "data": {
      "text/html": [
       "<div>\n",
       "<style scoped>\n",
       "    .dataframe tbody tr th:only-of-type {\n",
       "        vertical-align: middle;\n",
       "    }\n",
       "\n",
       "    .dataframe tbody tr th {\n",
       "        vertical-align: top;\n",
       "    }\n",
       "\n",
       "    .dataframe thead th {\n",
       "        text-align: right;\n",
       "    }\n",
       "</style>\n",
       "<table border=\"1\" class=\"dataframe\">\n",
       "  <thead>\n",
       "    <tr style=\"text-align: right;\">\n",
       "      <th></th>\n",
       "      <th>days</th>\n",
       "      <th>V</th>\n",
       "    </tr>\n",
       "  </thead>\n",
       "  <tbody>\n",
       "    <tr>\n",
       "      <th>count</th>\n",
       "      <td>91.00000</td>\n",
       "      <td>91.000000</td>\n",
       "    </tr>\n",
       "    <tr>\n",
       "      <th>mean</th>\n",
       "      <td>25.00000</td>\n",
       "      <td>2.161209</td>\n",
       "    </tr>\n",
       "    <tr>\n",
       "      <th>std</th>\n",
       "      <td>26.41338</td>\n",
       "      <td>5.197773</td>\n",
       "    </tr>\n",
       "    <tr>\n",
       "      <th>min</th>\n",
       "      <td>-20.00000</td>\n",
       "      <td>0.050000</td>\n",
       "    </tr>\n",
       "    <tr>\n",
       "      <th>25%</th>\n",
       "      <td>2.50000</td>\n",
       "      <td>0.555000</td>\n",
       "    </tr>\n",
       "    <tr>\n",
       "      <th>50%</th>\n",
       "      <td>25.00000</td>\n",
       "      <td>1.730000</td>\n",
       "    </tr>\n",
       "    <tr>\n",
       "      <th>75%</th>\n",
       "      <td>47.50000</td>\n",
       "      <td>2.590000</td>\n",
       "    </tr>\n",
       "    <tr>\n",
       "      <th>max</th>\n",
       "      <td>70.00000</td>\n",
       "      <td>50.000000</td>\n",
       "    </tr>\n",
       "  </tbody>\n",
       "</table>\n",
       "</div>"
      ],
      "text/plain": [
       "           days          V\n",
       "count  91.00000  91.000000\n",
       "mean   25.00000   2.161209\n",
       "std    26.41338   5.197773\n",
       "min   -20.00000   0.050000\n",
       "25%     2.50000   0.555000\n",
       "50%    25.00000   1.730000\n",
       "75%    47.50000   2.590000\n",
       "max    70.00000  50.000000"
      ]
     },
     "execution_count": 15,
     "metadata": {
      "tags": []
     },
     "output_type": "execute_result"
    }
   ],
   "source": [
    "template_df_1a = df_1a[['days','V']]\n",
    "template_df_1a.describe()"
   ]
  },
  {
   "cell_type": "markdown",
   "metadata": {
    "id": "0gl3UaFPIz9A"
   },
   "source": [
    "Similarly, the template for supernovas SNIb/c include the bands UBVRI. Hence, we will define a new dataframe with only two columns, 'days' and 'V',"
   ]
  },
  {
   "cell_type": "code",
   "execution_count": null,
   "metadata": {
    "colab": {
     "base_uri": "https://localhost:8080/",
     "height": 297
    },
    "executionInfo": {
     "elapsed": 11423,
     "status": "ok",
     "timestamp": 1609275143404,
     "user": {
      "displayName": "Eduard Alexis Larranaga",
      "photoUrl": "https://lh3.googleusercontent.com/a-/AOh14GgCVABzEgj-rCdyxWa29RnA0kIYUCXAaVbnRYOEhQ=s64",
      "userId": "04402438389940282602"
     },
     "user_tz": 300
    },
    "id": "E2D_o23wI5pw",
    "outputId": "7ba27470-bab5-4703-c383-2efabea022ac"
   },
   "outputs": [
    {
     "data": {
      "text/html": [
       "<div>\n",
       "<style scoped>\n",
       "    .dataframe tbody tr th:only-of-type {\n",
       "        vertical-align: middle;\n",
       "    }\n",
       "\n",
       "    .dataframe tbody tr th {\n",
       "        vertical-align: top;\n",
       "    }\n",
       "\n",
       "    .dataframe thead th {\n",
       "        text-align: right;\n",
       "    }\n",
       "</style>\n",
       "<table border=\"1\" class=\"dataframe\">\n",
       "  <thead>\n",
       "    <tr style=\"text-align: right;\">\n",
       "      <th></th>\n",
       "      <th>days</th>\n",
       "      <th>V</th>\n",
       "    </tr>\n",
       "  </thead>\n",
       "  <tbody>\n",
       "    <tr>\n",
       "      <th>count</th>\n",
       "      <td>85.000000</td>\n",
       "      <td>85.000000</td>\n",
       "    </tr>\n",
       "    <tr>\n",
       "      <th>mean</th>\n",
       "      <td>27.000000</td>\n",
       "      <td>1.206753</td>\n",
       "    </tr>\n",
       "    <tr>\n",
       "      <th>std</th>\n",
       "      <td>24.681302</td>\n",
       "      <td>1.046101</td>\n",
       "    </tr>\n",
       "    <tr>\n",
       "      <th>min</th>\n",
       "      <td>-15.000000</td>\n",
       "      <td>-0.391000</td>\n",
       "    </tr>\n",
       "    <tr>\n",
       "      <th>25%</th>\n",
       "      <td>6.000000</td>\n",
       "      <td>0.180000</td>\n",
       "    </tr>\n",
       "    <tr>\n",
       "      <th>50%</th>\n",
       "      <td>27.000000</td>\n",
       "      <td>1.418000</td>\n",
       "    </tr>\n",
       "    <tr>\n",
       "      <th>75%</th>\n",
       "      <td>48.000000</td>\n",
       "      <td>2.126000</td>\n",
       "    </tr>\n",
       "    <tr>\n",
       "      <th>max</th>\n",
       "      <td>69.000000</td>\n",
       "      <td>3.342000</td>\n",
       "    </tr>\n",
       "  </tbody>\n",
       "</table>\n",
       "</div>"
      ],
      "text/plain": [
       "            days          V\n",
       "count  85.000000  85.000000\n",
       "mean   27.000000   1.206753\n",
       "std    24.681302   1.046101\n",
       "min   -15.000000  -0.391000\n",
       "25%     6.000000   0.180000\n",
       "50%    27.000000   1.418000\n",
       "75%    48.000000   2.126000\n",
       "max    69.000000   3.342000"
      ]
     },
     "execution_count": 16,
     "metadata": {
      "tags": []
     },
     "output_type": "execute_result"
    }
   ],
   "source": [
    "template_df_1bc = df_1bc[['days','V']]\n",
    "template_df_1bc.describe()"
   ]
  },
  {
   "cell_type": "markdown",
   "metadata": {
    "id": "yWfB-vl9JBGm"
   },
   "source": [
    "Templates for supernovas SNIIp and SNIIn only have information in the 'V' band. Now, we will look at the behavior of these templates,"
   ]
  },
  {
   "cell_type": "code",
   "execution_count": null,
   "metadata": {
    "colab": {
     "base_uri": "https://localhost:8080/",
     "height": 446
    },
    "executionInfo": {
     "elapsed": 744,
     "status": "ok",
     "timestamp": 1609275150004,
     "user": {
      "displayName": "Eduard Alexis Larranaga",
      "photoUrl": "https://lh3.googleusercontent.com/a-/AOh14GgCVABzEgj-rCdyxWa29RnA0kIYUCXAaVbnRYOEhQ=s64",
      "userId": "04402438389940282602"
     },
     "user_tz": 300
    },
    "id": "5_DmStY4InZ2",
    "outputId": "1f2c8270-64ac-4d28-a6eb-0bdc9b6dc67d"
   },
   "outputs": [
    {
     "data": {
      "image/png": "[encoded data removed]",
      "text/plain": [
       "<Figure size 720x504 with 1 Axes>"
      ]
     },
     "metadata": {
      "needs_background": "light",
      "tags": []
     },
     "output_type": "display_data"
    }
   ],
   "source": [
    "fig, ax = plt.subplots(figsize=(10,7))\n",
    "ax.plot(template_df_1a['days'], template_df_1a['V'],  '--', \n",
    "        color='black', label=r'SNIa template')\n",
    "ax.plot(template_df_1bc['days'], template_df_1bc['V'],  '--', \n",
    "        color='cornflowerblue', label=r'SNIb/c template')\n",
    "ax.plot(df_2p['days'], df_2p['V'], '--', \n",
    "        color='mediumseagreen' , label=r'SNIIp template')\n",
    "ax.plot(df_2n['days'], df_2n['V'], '--', \n",
    "        color='cadetblue' , label=r'SNIIn template')\n",
    "\n",
    "ax.set_xlabel(r'$Days$')\n",
    "ax.set_ylabel(r'$V$')\n",
    "ax.set_ylim(10, -1)\n",
    "plt.legend()\n",
    "plt.show()"
   ]
  },
  {
   "cell_type": "markdown",
   "metadata": {
    "id": "Br-n8RDUKMaZ"
   },
   "source": [
    "#### Template Fit\n",
    "\n",
    "Now, we will plot the supernova data and templates together,"
   ]
  },
  {
   "cell_type": "code",
   "execution_count": null,
   "metadata": {
    "colab": {
     "base_uri": "https://localhost:8080/",
     "height": 446
    },
    "executionInfo": {
     "elapsed": 776,
     "status": "ok",
     "timestamp": 1609275154296,
     "user": {
      "displayName": "Eduard Alexis Larranaga",
      "photoUrl": "https://lh3.googleusercontent.com/a-/AOh14GgCVABzEgj-rCdyxWa29RnA0kIYUCXAaVbnRYOEhQ=s64",
      "userId": "04402438389940282602"
     },
     "user_tz": 300
    },
    "id": "j-RkzTU-IW44",
    "outputId": "f7345a96-7280-4b40-e6ef-dc644c825d23"
   },
   "outputs": [
    {
     "data": {
      "image/png": "[encoded data removed]",
      "text/plain": [
       "<Figure size 720x504 with 1 Axes>"
      ]
     },
     "metadata": {
      "needs_background": "light",
      "tags": []
     },
     "output_type": "display_data"
    }
   ],
   "source": [
    "fig, ax = plt.subplots(figsize=(10,7))\n",
    "ax.scatter(lightcurve_df['JD'], lightcurve_df['Magnitude'],  color='crimson', marker='.')\n",
    "\n",
    "ax.plot(template_df_1a['days'], template_df_1a['V'],  '--', \n",
    "        color='black', label=r'SNIa template')\n",
    "ax.plot(template_df_1bc['days'], template_df_1bc['V'],  '--', \n",
    "        color='cornflowerblue', label=r'SNIb/c template')\n",
    "ax.plot(df_2p['days'], df_2p['V'], '--', \n",
    "        color='mediumseagreen' , label=r'SNIIp template')\n",
    "ax.plot(df_2n['days'], df_2n['V'], '--', \n",
    "        color='cadetblue' , label=r'SNIIn template')\n",
    "\n",
    "ax.set_xlabel(r'$JD - Days$')\n",
    "ax.set_ylabel(r'$Magnitude$')\n",
    "ax.set_ylim(19, -1)\n",
    "\n",
    "plt.legend()\n",
    "plt.show()"
   ]
  },
  {
   "cell_type": "markdown",
   "metadata": {
    "id": "hi5dfWz6LjYl"
   },
   "source": [
    "Clearly the time scale is not appropiate. Since the SN data is given in a Julian Date timescale, we will rescale so that the maximum of brightness of the observational data occurs at day 0.0. \n",
    "\n",
    "First, we locate the maximum brightness (i.e. the minimum of Magnitude)"
   ]
  },
  {
   "cell_type": "code",
   "execution_count": null,
   "metadata": {
    "colab": {
     "base_uri": "https://localhost:8080/"
    },
    "executionInfo": {
     "elapsed": 2136,
     "status": "ok",
     "timestamp": 1609275163561,
     "user": {
      "displayName": "Eduard Alexis Larranaga",
      "photoUrl": "https://lh3.googleusercontent.com/a-/AOh14GgCVABzEgj-rCdyxWa29RnA0kIYUCXAaVbnRYOEhQ=s64",
      "userId": "04402438389940282602"
     },
     "user_tz": 300
    },
    "id": "LhaegNMaI2Ex",
    "outputId": "57a59b9f-de7d-4c5a-b107-349917d9ccfe"
   },
   "outputs": [
    {
     "data": {
      "text/plain": [
       "13.793999671936035"
      ]
     },
     "execution_count": 19,
     "metadata": {
      "tags": []
     },
     "output_type": "execute_result"
    }
   ],
   "source": [
    "Magnitude_min = lightcurve_df['Magnitude'].min()\n",
    "Magnitude_min"
   ]
  },
  {
   "cell_type": "markdown",
   "metadata": {
    "id": "x4Pz6N0vMF-E"
   },
   "source": [
    "The corresponding sample is"
   ]
  },
  {
   "cell_type": "code",
   "execution_count": null,
   "metadata": {
    "colab": {
     "base_uri": "https://localhost:8080/",
     "height": 80
    },
    "executionInfo": {
     "elapsed": 485,
     "status": "ok",
     "timestamp": 1609275167811,
     "user": {
      "displayName": "Eduard Alexis Larranaga",
      "photoUrl": "https://lh3.googleusercontent.com/a-/AOh14GgCVABzEgj-rCdyxWa29RnA0kIYUCXAaVbnRYOEhQ=s64",
      "userId": "04402438389940282602"
     },
     "user_tz": 300
    },
    "id": "Ff8xys4gJvKq",
    "outputId": "5a0f8425-be5e-45cc-ddc7-28f39926cc0c"
   },
   "outputs": [
    {
     "data": {
      "text/html": [
       "<div>\n",
       "<style scoped>\n",
       "    .dataframe tbody tr th:only-of-type {\n",
       "        vertical-align: middle;\n",
       "    }\n",
       "\n",
       "    .dataframe tbody tr th {\n",
       "        vertical-align: top;\n",
       "    }\n",
       "\n",
       "    .dataframe thead th {\n",
       "        text-align: right;\n",
       "    }\n",
       "</style>\n",
       "<table border=\"1\" class=\"dataframe\">\n",
       "  <thead>\n",
       "    <tr style=\"text-align: right;\">\n",
       "      <th></th>\n",
       "      <th>JD</th>\n",
       "      <th>Magnitude</th>\n",
       "    </tr>\n",
       "  </thead>\n",
       "  <tbody>\n",
       "    <tr>\n",
       "      <th>21</th>\n",
       "      <td>2.456310e+06</td>\n",
       "      <td>13.794</td>\n",
       "    </tr>\n",
       "  </tbody>\n",
       "</table>\n",
       "</div>"
      ],
      "text/plain": [
       "              JD  Magnitude\n",
       "21  2.456310e+06     13.794"
      ]
     },
     "execution_count": 20,
     "metadata": {
      "tags": []
     },
     "output_type": "execute_result"
    }
   ],
   "source": [
    "lightcurve_df[lightcurve_df['Magnitude']==Magnitude_min]"
   ]
  },
  {
   "cell_type": "markdown",
   "metadata": {
    "id": "y1g8qm6IMLkK"
   },
   "source": [
    "The index corresponding to this sample is"
   ]
  },
  {
   "cell_type": "code",
   "execution_count": null,
   "metadata": {
    "colab": {
     "base_uri": "https://localhost:8080/"
    },
    "executionInfo": {
     "elapsed": 486,
     "status": "ok",
     "timestamp": 1609275171467,
     "user": {
      "displayName": "Eduard Alexis Larranaga",
      "photoUrl": "https://lh3.googleusercontent.com/a-/AOh14GgCVABzEgj-rCdyxWa29RnA0kIYUCXAaVbnRYOEhQ=s64",
      "userId": "04402438389940282602"
     },
     "user_tz": 300
    },
    "id": "aRGap5ZfJ5TR",
    "outputId": "47e0602e-7c7a-4189-9534-d07b4eb7ff46"
   },
   "outputs": [
    {
     "data": {
      "text/plain": [
       "[21]"
      ]
     },
     "execution_count": 21,
     "metadata": {
      "tags": []
     },
     "output_type": "execute_result"
    }
   ],
   "source": [
    "index_min = lightcurve_df[lightcurve_df['Magnitude']==Magnitude_min].index.tolist()\n",
    "index_min"
   ]
  },
  {
   "cell_type": "markdown",
   "metadata": {
    "id": "wt32Asf9MTqa"
   },
   "source": [
    "and the corresponding Julian Date is"
   ]
  },
  {
   "cell_type": "code",
   "execution_count": null,
   "metadata": {
    "colab": {
     "base_uri": "https://localhost:8080/"
    },
    "executionInfo": {
     "elapsed": 517,
     "status": "ok",
     "timestamp": 1609275174645,
     "user": {
      "displayName": "Eduard Alexis Larranaga",
      "photoUrl": "https://lh3.googleusercontent.com/a-/AOh14GgCVABzEgj-rCdyxWa29RnA0kIYUCXAaVbnRYOEhQ=s64",
      "userId": "04402438389940282602"
     },
     "user_tz": 300
    },
    "id": "NwAMj3BkKIAy",
    "outputId": "36cf38d4-ae0a-4d10-e221-7ede87a4df79"
   },
   "outputs": [
    {
     "data": {
      "text/plain": [
       "2456310.225428"
      ]
     },
     "execution_count": 22,
     "metadata": {
      "tags": []
     },
     "output_type": "execute_result"
    }
   ],
   "source": [
    "JD_min = lightcurve_df['JD'][index_min[0]]\n",
    "JD_min"
   ]
  },
  {
   "cell_type": "markdown",
   "metadata": {
    "id": "wFv1vyX0MnRV"
   },
   "source": [
    "The rescaling of the time information gives"
   ]
  },
  {
   "cell_type": "code",
   "execution_count": null,
   "metadata": {
    "colab": {
     "base_uri": "https://localhost:8080/",
     "height": 419
    },
    "executionInfo": {
     "elapsed": 2926,
     "status": "ok",
     "timestamp": 1609275180694,
     "user": {
      "displayName": "Eduard Alexis Larranaga",
      "photoUrl": "https://lh3.googleusercontent.com/a-/AOh14GgCVABzEgj-rCdyxWa29RnA0kIYUCXAaVbnRYOEhQ=s64",
      "userId": "04402438389940282602"
     },
     "user_tz": 300
    },
    "id": "zstDULxmOabD",
    "outputId": "e61b4550-ab79-4dfa-da55-713dae5350cf"
   },
   "outputs": [
    {
     "data": {
      "text/html": [
       "<div>\n",
       "<style scoped>\n",
       "    .dataframe tbody tr th:only-of-type {\n",
       "        vertical-align: middle;\n",
       "    }\n",
       "\n",
       "    .dataframe tbody tr th {\n",
       "        vertical-align: top;\n",
       "    }\n",
       "\n",
       "    .dataframe thead th {\n",
       "        text-align: right;\n",
       "    }\n",
       "</style>\n",
       "<table border=\"1\" class=\"dataframe\">\n",
       "  <thead>\n",
       "    <tr style=\"text-align: right;\">\n",
       "      <th></th>\n",
       "      <th>JD</th>\n",
       "      <th>Magnitude</th>\n",
       "    </tr>\n",
       "  </thead>\n",
       "  <tbody>\n",
       "    <tr>\n",
       "      <th>3</th>\n",
       "      <td>-10.216698</td>\n",
       "      <td>14.588000</td>\n",
       "    </tr>\n",
       "    <tr>\n",
       "      <th>6</th>\n",
       "      <td>-6.194598</td>\n",
       "      <td>14.165000</td>\n",
       "    </tr>\n",
       "    <tr>\n",
       "      <th>7</th>\n",
       "      <td>-6.005808</td>\n",
       "      <td>14.119000</td>\n",
       "    </tr>\n",
       "    <tr>\n",
       "      <th>9</th>\n",
       "      <td>-3.954258</td>\n",
       "      <td>14.042000</td>\n",
       "    </tr>\n",
       "    <tr>\n",
       "      <th>11</th>\n",
       "      <td>-3.167077</td>\n",
       "      <td>14.006000</td>\n",
       "    </tr>\n",
       "    <tr>\n",
       "      <th>...</th>\n",
       "      <td>...</td>\n",
       "      <td>...</td>\n",
       "    </tr>\n",
       "    <tr>\n",
       "      <th>166</th>\n",
       "      <td>124.693992</td>\n",
       "      <td>17.000000</td>\n",
       "    </tr>\n",
       "    <tr>\n",
       "      <th>167</th>\n",
       "      <td>125.762677</td>\n",
       "      <td>17.500000</td>\n",
       "    </tr>\n",
       "    <tr>\n",
       "      <th>168</th>\n",
       "      <td>130.757079</td>\n",
       "      <td>17.299999</td>\n",
       "    </tr>\n",
       "    <tr>\n",
       "      <th>169</th>\n",
       "      <td>142.716243</td>\n",
       "      <td>17.200001</td>\n",
       "    </tr>\n",
       "    <tr>\n",
       "      <th>170</th>\n",
       "      <td>172.648207</td>\n",
       "      <td>17.799999</td>\n",
       "    </tr>\n",
       "  </tbody>\n",
       "</table>\n",
       "<p>121 rows × 2 columns</p>\n",
       "</div>"
      ],
      "text/plain": [
       "             JD  Magnitude\n",
       "3    -10.216698  14.588000\n",
       "6     -6.194598  14.165000\n",
       "7     -6.005808  14.119000\n",
       "9     -3.954258  14.042000\n",
       "11    -3.167077  14.006000\n",
       "..          ...        ...\n",
       "166  124.693992  17.000000\n",
       "167  125.762677  17.500000\n",
       "168  130.757079  17.299999\n",
       "169  142.716243  17.200001\n",
       "170  172.648207  17.799999\n",
       "\n",
       "[121 rows x 2 columns]"
      ]
     },
     "execution_count": 23,
     "metadata": {
      "tags": []
     },
     "output_type": "execute_result"
    }
   ],
   "source": [
    "lightcurve_df['JD'] = lightcurve_df['JD']- JD_min\n",
    "lightcurve_df"
   ]
  },
  {
   "cell_type": "markdown",
   "metadata": {
    "id": "votLzvSIM0bD"
   },
   "source": [
    "Now, we plot again,"
   ]
  },
  {
   "cell_type": "code",
   "execution_count": null,
   "metadata": {
    "colab": {
     "base_uri": "https://localhost:8080/",
     "height": 446
    },
    "executionInfo": {
     "elapsed": 965,
     "status": "ok",
     "timestamp": 1609275195844,
     "user": {
      "displayName": "Eduard Alexis Larranaga",
      "photoUrl": "https://lh3.googleusercontent.com/a-/AOh14GgCVABzEgj-rCdyxWa29RnA0kIYUCXAaVbnRYOEhQ=s64",
      "userId": "04402438389940282602"
     },
     "user_tz": 300
    },
    "id": "t76ailFCPLya",
    "outputId": "ad5ef8cc-96cb-48b0-edd5-4dd93b086e6a"
   },
   "outputs": [
    {
     "data": {
      "image/png": "[encoded data removed]",
      "text/plain": [
       "<Figure size 720x504 with 1 Axes>"
      ]
     },
     "metadata": {
      "needs_background": "light",
      "tags": []
     },
     "output_type": "display_data"
    }
   ],
   "source": [
    "fig, ax = plt.subplots(figsize=(10,7))\n",
    "ax.scatter(lightcurve_df['JD'], lightcurve_df['Magnitude'],  color='crimson', marker='.')\n",
    "\n",
    "ax.plot(template_df_1a['days'], template_df_1a['V'],  '--', \n",
    "        color='black', label=r'SNIa template')\n",
    "ax.plot(template_df_1bc['days'], template_df_1bc['V'],  '--', \n",
    "        color='cornflowerblue', label=r'SNIb/c template')\n",
    "ax.plot(df_2p['days'], df_2p['V'], '--', \n",
    "        color='mediumseagreen' , label=r'SNIIp template')\n",
    "ax.plot(df_2n['days'], df_2n['V'], '--', \n",
    "        color='cadetblue' , label=r'SNIIn template')\n",
    "\n",
    "ax.set_xlabel(r'$Days$')\n",
    "ax.set_ylabel(r'$Magnitude$')\n",
    "ax.set_ylim(19, -1)\n",
    "\n",
    "plt.legend()\n",
    "plt.show()"
   ]
  },
  {
   "cell_type": "markdown",
   "metadata": {
    "id": "FVGuFqBqNMoI"
   },
   "source": [
    "Now, we will re-scale the templates  using the maximum brightness of the lightcurve (i.e. the minimum Magnitude),"
   ]
  },
  {
   "cell_type": "code",
   "execution_count": null,
   "metadata": {
    "id": "Y16RV1O3UL3V"
   },
   "outputs": [],
   "source": [
    "template_df_1a['V_calib'] = template_df_1a['V'] + Magnitude_min\n",
    "template_df_1bc['V_calib'] = template_df_1bc['V'] + Magnitude_min\n",
    "df_2p['V_calib'] = df_2p['V'] + Magnitude_min\n",
    "df_2n['V_calib'] = df_2n['V'] + Magnitude_min"
   ]
  },
  {
   "cell_type": "code",
   "execution_count": null,
   "metadata": {
    "colab": {
     "base_uri": "https://localhost:8080/",
     "height": 419
    },
    "executionInfo": {
     "elapsed": 1831,
     "status": "ok",
     "timestamp": 1609275206827,
     "user": {
      "displayName": "Eduard Alexis Larranaga",
      "photoUrl": "https://lh3.googleusercontent.com/a-/AOh14GgCVABzEgj-rCdyxWa29RnA0kIYUCXAaVbnRYOEhQ=s64",
      "userId": "04402438389940282602"
     },
     "user_tz": 300
    },
    "id": "5vrgj515QA4e",
    "outputId": "b0ea1a48-cda6-45f0-c26b-16b6fe36680f"
   },
   "outputs": [
    {
     "data": {
      "text/html": [
       "<div>\n",
       "<style scoped>\n",
       "    .dataframe tbody tr th:only-of-type {\n",
       "        vertical-align: middle;\n",
       "    }\n",
       "\n",
       "    .dataframe tbody tr th {\n",
       "        vertical-align: top;\n",
       "    }\n",
       "\n",
       "    .dataframe thead th {\n",
       "        text-align: right;\n",
       "    }\n",
       "</style>\n",
       "<table border=\"1\" class=\"dataframe\">\n",
       "  <thead>\n",
       "    <tr style=\"text-align: right;\">\n",
       "      <th></th>\n",
       "      <th>days</th>\n",
       "      <th>V</th>\n",
       "      <th>V_calib</th>\n",
       "    </tr>\n",
       "  </thead>\n",
       "  <tbody>\n",
       "    <tr>\n",
       "      <th>0</th>\n",
       "      <td>-20.0</td>\n",
       "      <td>50.00</td>\n",
       "      <td>63.794</td>\n",
       "    </tr>\n",
       "    <tr>\n",
       "      <th>1</th>\n",
       "      <td>-19.0</td>\n",
       "      <td>5.18</td>\n",
       "      <td>18.974</td>\n",
       "    </tr>\n",
       "    <tr>\n",
       "      <th>2</th>\n",
       "      <td>-18.0</td>\n",
       "      <td>4.30</td>\n",
       "      <td>18.094</td>\n",
       "    </tr>\n",
       "    <tr>\n",
       "      <th>3</th>\n",
       "      <td>-17.0</td>\n",
       "      <td>3.67</td>\n",
       "      <td>17.464</td>\n",
       "    </tr>\n",
       "    <tr>\n",
       "      <th>4</th>\n",
       "      <td>-16.0</td>\n",
       "      <td>3.19</td>\n",
       "      <td>16.984</td>\n",
       "    </tr>\n",
       "    <tr>\n",
       "      <th>...</th>\n",
       "      <td>...</td>\n",
       "      <td>...</td>\n",
       "      <td>...</td>\n",
       "    </tr>\n",
       "    <tr>\n",
       "      <th>86</th>\n",
       "      <td>66.0</td>\n",
       "      <td>2.94</td>\n",
       "      <td>16.734</td>\n",
       "    </tr>\n",
       "    <tr>\n",
       "      <th>87</th>\n",
       "      <td>67.0</td>\n",
       "      <td>2.98</td>\n",
       "      <td>16.774</td>\n",
       "    </tr>\n",
       "    <tr>\n",
       "      <th>88</th>\n",
       "      <td>68.0</td>\n",
       "      <td>3.01</td>\n",
       "      <td>16.804</td>\n",
       "    </tr>\n",
       "    <tr>\n",
       "      <th>89</th>\n",
       "      <td>69.0</td>\n",
       "      <td>3.03</td>\n",
       "      <td>16.824</td>\n",
       "    </tr>\n",
       "    <tr>\n",
       "      <th>90</th>\n",
       "      <td>70.0</td>\n",
       "      <td>3.06</td>\n",
       "      <td>16.854</td>\n",
       "    </tr>\n",
       "  </tbody>\n",
       "</table>\n",
       "<p>91 rows × 3 columns</p>\n",
       "</div>"
      ],
      "text/plain": [
       "    days      V  V_calib\n",
       "0  -20.0  50.00   63.794\n",
       "1  -19.0   5.18   18.974\n",
       "2  -18.0   4.30   18.094\n",
       "3  -17.0   3.67   17.464\n",
       "4  -16.0   3.19   16.984\n",
       "..   ...    ...      ...\n",
       "86  66.0   2.94   16.734\n",
       "87  67.0   2.98   16.774\n",
       "88  68.0   3.01   16.804\n",
       "89  69.0   3.03   16.824\n",
       "90  70.0   3.06   16.854\n",
       "\n",
       "[91 rows x 3 columns]"
      ]
     },
     "execution_count": 26,
     "metadata": {
      "tags": []
     },
     "output_type": "execute_result"
    }
   ],
   "source": [
    "template_df_1a"
   ]
  },
  {
   "cell_type": "code",
   "execution_count": null,
   "metadata": {
    "colab": {
     "base_uri": "https://localhost:8080/",
     "height": 450
    },
    "executionInfo": {
     "elapsed": 779,
     "status": "ok",
     "timestamp": 1609275282445,
     "user": {
      "displayName": "Eduard Alexis Larranaga",
      "photoUrl": "https://lh3.googleusercontent.com/a-/AOh14GgCVABzEgj-rCdyxWa29RnA0kIYUCXAaVbnRYOEhQ=s64",
      "userId": "04402438389940282602"
     },
     "user_tz": 300
    },
    "id": "o4_SHFolUebu",
    "outputId": "f5c98be8-2448-40b6-d774-7947836f5939"
   },
   "outputs": [
    {
     "data": {
      "image/png": "[encoded data removed]",
      "text/plain": [
       "<Figure size 720x504 with 1 Axes>"
      ]
     },
     "metadata": {
      "needs_background": "light",
      "tags": []
     },
     "output_type": "display_data"
    }
   ],
   "source": [
    "fig, ax = plt.subplots(figsize=(10,7))\n",
    "ax.scatter(lightcurve_df['JD'], lightcurve_df['Magnitude'],  color='crimson', marker='.')\n",
    "\n",
    "ax.plot(template_df_1a['days'], template_df_1a['V_calib'],  '--', \n",
    "        color='black', label=r'SNIa template')\n",
    "ax.plot(template_df_1bc['days'], template_df_1bc['V_calib'],  '--', \n",
    "        color='cornflowerblue', label=r'SNIb/c template')\n",
    "ax.plot(df_2p['days'], df_2p['V_calib'], '--', \n",
    "        color='mediumseagreen' , label=r'SNIIp template')\n",
    "ax.plot(df_2n['days'], df_2n['V_calib'], '--', \n",
    "        color='cadetblue' , label=r'SNIIn template')\n",
    "\n",
    "ax.set_xlabel(r'$Days$')\n",
    "ax.set_ylabel(r'$Magnitude$')\n",
    "ax.set_ylim(19, 13)\n",
    "\n",
    "plt.legend()\n",
    "plt.show()"
   ]
  },
  {
   "cell_type": "markdown",
   "metadata": {
    "id": "Va0oiSRZPcHS"
   },
   "source": [
    "From the plots above we recognize that\n",
    "\n",
    "- The SNIIp template does not fall sufficiently fast to fit the data.\n",
    "- The SNIIn template does fall too fast to fit the data\n",
    "\n",
    "Hence, the supernova SN 2013E may be of type SNIa or SNIb/c."
   ]
  },
  {
   "cell_type": "code",
   "execution_count": null,
   "metadata": {
    "colab": {
     "base_uri": "https://localhost:8080/",
     "height": 450
    },
    "executionInfo": {
     "elapsed": 959,
     "status": "ok",
     "timestamp": 1609275413607,
     "user": {
      "displayName": "Eduard Alexis Larranaga",
      "photoUrl": "https://lh3.googleusercontent.com/a-/AOh14GgCVABzEgj-rCdyxWa29RnA0kIYUCXAaVbnRYOEhQ=s64",
      "userId": "04402438389940282602"
     },
     "user_tz": 300
    },
    "id": "JeTU_KtRSKIo",
    "outputId": "b53abff3-7d32-4c01-a595-2e6f5ac239a9"
   },
   "outputs": [
    {
     "data": {
      "image/png": "[encoded data removed]",
      "text/plain": [
       "<Figure size 720x504 with 1 Axes>"
      ]
     },
     "metadata": {
      "needs_background": "light",
      "tags": []
     },
     "output_type": "display_data"
    }
   ],
   "source": [
    "fig, ax = plt.subplots(figsize=(10,7))\n",
    "ax.scatter(lightcurve_df['JD'], lightcurve_df['Magnitude'],  color='crimson', marker='.')\n",
    "\n",
    "ax.plot(template_df_1a['days'], template_df_1a['V_calib'],  '--', \n",
    "        color='black', label=r'SNIa template')\n",
    "ax.plot(template_df_1bc['days'], template_df_1bc['V_calib'],  '--', \n",
    "        color='cornflowerblue', label=r'SNIb/c template')\n",
    "\n",
    "ax.set_xlabel(r'$Days$')\n",
    "ax.set_ylabel(r'$Magnitude$')\n",
    "ax.set_ylim(19, 13)\n",
    "\n",
    "plt.legend()\n",
    "plt.show()"
   ]
  },
  {
   "cell_type": "markdown",
   "metadata": {
    "id": "cswqRvT9zuYD"
   },
   "source": [
    "The SNIb/c template needs to be adjusted to fit the maximum value both in value and time. The value of the maximum of this template is"
   ]
  },
  {
   "cell_type": "code",
   "execution_count": null,
   "metadata": {
    "colab": {
     "base_uri": "https://localhost:8080/"
    },
    "executionInfo": {
     "elapsed": 498,
     "status": "ok",
     "timestamp": 1609284464585,
     "user": {
      "displayName": "Eduard Alexis Larranaga",
      "photoUrl": "https://lh3.googleusercontent.com/a-/AOh14GgCVABzEgj-rCdyxWa29RnA0kIYUCXAaVbnRYOEhQ=s64",
      "userId": "04402438389940282602"
     },
     "user_tz": 300
    },
    "id": "0rDaYsi30qO1",
    "outputId": "b21ce423-7079-4f57-906f-2af63207b2b3"
   },
   "outputs": [
    {
     "data": {
      "text/plain": [
       "13.402999671936035"
      ]
     },
     "execution_count": 31,
     "metadata": {
      "tags": []
     },
     "output_type": "execute_result"
    }
   ],
   "source": [
    "template_1bc_min = template_df_1bc['V_calib'].min()\n",
    "template_1bc_min"
   ]
  },
  {
   "cell_type": "markdown",
   "metadata": {
    "id": "hOp1lmF-4UaA"
   },
   "source": [
    "The recalibration of the light curve gives"
   ]
  },
  {
   "cell_type": "code",
   "execution_count": null,
   "metadata": {
    "id": "BW4ofZWf1W9a"
   },
   "outputs": [],
   "source": [
    "template_df_1bc['V_calib2'] = template_df_1bc['V_calib'] + (Magnitude_min- template_1bc_min)"
   ]
  },
  {
   "cell_type": "code",
   "execution_count": null,
   "metadata": {
    "colab": {
     "base_uri": "https://localhost:8080/",
     "height": 450
    },
    "executionInfo": {
     "elapsed": 625,
     "status": "ok",
     "timestamp": 1609284776252,
     "user": {
      "displayName": "Eduard Alexis Larranaga",
      "photoUrl": "https://lh3.googleusercontent.com/a-/AOh14GgCVABzEgj-rCdyxWa29RnA0kIYUCXAaVbnRYOEhQ=s64",
      "userId": "04402438389940282602"
     },
     "user_tz": 300
    },
    "id": "iyAUkwNT2NWn",
    "outputId": "9e2fa2c3-b61b-4f27-a506-59a7271a6da1"
   },
   "outputs": [
    {
     "data": {
      "image/png": "[encoded data removed]",
      "text/plain": [
       "<Figure size 720x504 with 1 Axes>"
      ]
     },
     "metadata": {
      "needs_background": "light",
      "tags": []
     },
     "output_type": "display_data"
    }
   ],
   "source": [
    "fig, ax = plt.subplots(figsize=(10,7))\n",
    "ax.scatter(lightcurve_df['JD'], lightcurve_df['Magnitude'],  color='crimson', marker='.')\n",
    "\n",
    "ax.plot(template_df_1a['days'], template_df_1a['V_calib'],  '--', \n",
    "        color='black', label=r'SNIa template')\n",
    "ax.plot(template_df_1bc['days'], template_df_1bc['V_calib2'],  '--', \n",
    "        color='cornflowerblue', label=r'SNIb/c template')\n",
    "\n",
    "ax.set_xlabel(r'$Days$')\n",
    "ax.set_ylabel(r'$Magnitude$')\n",
    "ax.set_ylim(19, 13)\n",
    "\n",
    "plt.legend()\n",
    "plt.show()"
   ]
  },
  {
   "cell_type": "markdown",
   "metadata": {
    "id": "ArWG2N1W4iFM"
   },
   "source": [
    "Now, we shift the template in time by visual inspection to obtain "
   ]
  },
  {
   "cell_type": "code",
   "execution_count": null,
   "metadata": {
    "id": "pjRlu58d2atF"
   },
   "outputs": [],
   "source": [
    "template_df_1bc['days_calib2'] = template_df_1bc['days'] - 2"
   ]
  },
  {
   "cell_type": "code",
   "execution_count": null,
   "metadata": {
    "colab": {
     "base_uri": "https://localhost:8080/",
     "height": 450
    },
    "executionInfo": {
     "elapsed": 602,
     "status": "ok",
     "timestamp": 1609285498277,
     "user": {
      "displayName": "Eduard Alexis Larranaga",
      "photoUrl": "https://lh3.googleusercontent.com/a-/AOh14GgCVABzEgj-rCdyxWa29RnA0kIYUCXAaVbnRYOEhQ=s64",
      "userId": "04402438389940282602"
     },
     "user_tz": 300
    },
    "id": "nk0cJvG52llg",
    "outputId": "6acb8173-edae-40ff-d6b8-8bae20131c06"
   },
   "outputs": [
    {
     "data": {
      "image/png": "[encoded data removed]",
      "text/plain": [
       "<Figure size 720x504 with 1 Axes>"
      ]
     },
     "metadata": {
      "needs_background": "light",
      "tags": []
     },
     "output_type": "display_data"
    }
   ],
   "source": [
    "fig, ax = plt.subplots(figsize=(10,7))\n",
    "ax.scatter(lightcurve_df['JD'], lightcurve_df['Magnitude'],  color='crimson', marker='.')\n",
    "\n",
    "ax.plot(template_df_1a['days'], template_df_1a['V_calib'],  '--', \n",
    "        color='black', label=r'SNIa template')\n",
    "ax.plot(template_df_1bc['days_calib2'], template_df_1bc['V_calib2'],  '--', \n",
    "        color='cornflowerblue', label=r'SNIb/c template')\n",
    "\n",
    "ax.set_xlabel(r'$Days$')\n",
    "ax.set_ylabel(r'$Magnitude$')\n",
    "ax.set_ylim(19, 13)\n",
    "\n",
    "plt.legend()\n",
    "plt.show()"
   ]
  },
  {
   "cell_type": "markdown",
   "metadata": {
    "id": "d8CZXETzBnWk"
   },
   "source": [
    "Finally, using again a visual inspection of the plot, we will shift the templates in the brightness axis to obtain a better fit"
   ]
  },
  {
   "cell_type": "code",
   "execution_count": null,
   "metadata": {
    "id": "4VhSBTSA4wJz"
   },
   "outputs": [],
   "source": [
    "template_df_1bc['V_calib2'] = template_df_1bc['V_calib'] + (Magnitude_min- template_1bc_min)+0.1\n",
    "template_df_1a['V_calib2'] = template_df_1a['V_calib'] +0.07"
   ]
  },
  {
   "cell_type": "code",
   "execution_count": null,
   "metadata": {
    "colab": {
     "base_uri": "https://localhost:8080/",
     "height": 450
    },
    "executionInfo": {
     "elapsed": 762,
     "status": "ok",
     "timestamp": 1609285556221,
     "user": {
      "displayName": "Eduard Alexis Larranaga",
      "photoUrl": "https://lh3.googleusercontent.com/a-/AOh14GgCVABzEgj-rCdyxWa29RnA0kIYUCXAaVbnRYOEhQ=s64",
      "userId": "04402438389940282602"
     },
     "user_tz": 300
    },
    "id": "jS1OBbJd5Ax0",
    "outputId": "f30e8087-0053-413b-c36d-62409ec9266d"
   },
   "outputs": [
    {
     "data": {
      "image/png": "[encoded data removed]",
      "text/plain": [
       "<Figure size 720x504 with 1 Axes>"
      ]
     },
     "metadata": {
      "needs_background": "light",
      "tags": []
     },
     "output_type": "display_data"
    }
   ],
   "source": [
    "fig, ax = plt.subplots(figsize=(10,7))\n",
    "ax.scatter(lightcurve_df['JD'], lightcurve_df['Magnitude'],  color='crimson', marker='.')\n",
    "\n",
    "ax.plot(template_df_1a['days'], template_df_1a['V_calib2'],  '--', \n",
    "        color='black', label=r'SNIa template')\n",
    "ax.plot(template_df_1bc['days_calib2'], template_df_1bc['V_calib2'],  '--', \n",
    "        color='cornflowerblue', label=r'SNIb/c template')\n",
    "\n",
    "ax.set_xlabel(r'$Days$')\n",
    "ax.set_ylabel(r'$Magnitude$')\n",
    "ax.set_ylim(19, 13)\n",
    "\n",
    "plt.legend()\n",
    "plt.show()"
   ]
  },
  {
   "cell_type": "markdown",
   "metadata": {
    "id": "Q0Gxu6TQAeAs"
   },
   "source": [
    "From this image, the best fit corresponds to the SNIa template, although it is not perfect for late times. In the literature, supernova SN 2013E is classified with the type SNIa.\n",
    "\n",
    "---\n",
    "\n",
    "**Is there a better method to make the fit of observational data to the templates and to identify the tyoe of a supernova event?**"
   ]
  },
  {
   "cell_type": "markdown",
   "metadata": {
    "id": "YrY1n8H8CDUR"
   },
   "source": [
    "For example, a machine learning approach to solve this kind of problem was presented in\n",
    "\n",
    "\n",
    "Michelle Lochner, Jason D. McEwen, Hiranya V. Peiris, Ofer Lahav, and Max K. Winter. *PHOTOMETRIC SUPERNOVA CLASSIFICATION WITH MACHINE LEARNING*.  ApJS 225 31 (2016)\n",
    "\n",
    "\n",
    "https://iopscience.iop.org/article/10.3847/0067-0049/225/2/31"
   ]
  },
  {
   "cell_type": "code",
   "execution_count": null,
   "metadata": {
    "id": "pIj-0UeaCqv7"
   },
   "outputs": [],
   "source": []
  }
 ],
 "metadata": {
  "colab": {
   "collapsed_sections": [],
   "name": "01.DataAnalysis-Supernovae.ipynb",
   "provenance": []
  },
  "kernelspec": {
   "display_name": "Python 3 (ipykernel)",
   "language": "python",
   "name": "python3"
  },
  "language_info": {
   "codemirror_mode": {
    "name": "ipython",
    "version": 3
   },
   "file_extension": ".py",
   "mimetype": "text/x-python",
   "name": "python",
   "nbconvert_exporter": "python",
   "pygments_lexer": "ipython3",
   "version": "3.9.5"
  }
 },
 "nbformat": 4,
 "nbformat_minor": 1
}
