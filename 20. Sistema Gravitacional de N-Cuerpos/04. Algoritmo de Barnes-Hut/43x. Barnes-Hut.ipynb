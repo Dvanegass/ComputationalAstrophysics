{
 "cells": [
  {
   "cell_type": "markdown",
   "metadata": {
    "id": "-AlVXAp0hOzb"
   },
   "source": [
    "![Astrofisica Computacional](../../logo.PNG)"
   ]
  },
  {
   "cell_type": "markdown",
   "metadata": {},
   "source": [
    "---\n",
    "## 43. Algoritmo de Barnes-Hut. \n",
    "\n",
    "Eduard Larrañaga (ealarranaga@unal.edu.co)\n",
    "\n",
    "---"
   ]
  },
  {
   "cell_type": "markdown",
   "metadata": {
    "id": "qBz9ZpSAhOzl"
   },
   "source": [
    "\n",
    "### Resumen\n",
    "\n",
    "En este cuaderno se discute el algoritmo de Barnes-Hut para la solución del problema gravitacional de N-cuerpos.\n",
    "\n",
    "\n",
    "\n",
    "---"
   ]
  },
  {
   "cell_type": "markdown",
   "metadata": {
    "id": "tIe7Lt0dhOzm"
   },
   "source": [
    "## El Sistema Gravitacional de  N-Cuerpos\n",
    "\n",
    "Las ecuaciones de movimiento de N-cuerpos moviendose bajo la influencia gravitacional mutua están dadas por un conjunto de $N$ ecuaciones diferenciales vectoriales de segundo orden,\n",
    "\n",
    "\\begin{equation}\n",
    "m_i \\ddot{\\vec{x}}_i = - G m_i \\sum_{j=1,i\\ne j}^N \\frac{m_j}{|\\vec{x}_{ij}|^3} \\vec{x}_{ij},\n",
    "\\end{equation}\n",
    "\n",
    "donde $\\vec{x}_{ij} = \\vec{x}_i - \\vec{x}_j$ es el vector que apunta desde la partícula  $j$ a la partícula $i$. \n",
    "\n",
    "En lecciones anteriores se implementaron programas que resuelven este problema con integradores como RK4, LepaFrog o Verlet. En estos métodos, el número de cálculos hehos en cada paso es proporcional a $N^2$ y por ello no es práctico cuando $N$ es muy grande.\n",
    "\n",
    "El algoritmo de **Barnes-Hut** plantea la idea de agrupar cuerpos cercanos y aproximar su efecto gravitacional como si se tratasen de un solo cuerpo. De esta forma, se logra mejorar el método de integración al disminuir el número de cálculos que se deben realizar en cada paso de la evolución, pasando de un orden $\\mathcal{O} (N^2)$ a un orden de $\\mathcal{O}(N \\log N)$.\n",
    "\n",
    "Al trabajar en tres dimensiones, el conjunto de $N$ cuerpos se divide en grupos dentro de un arbol octuple *octree* (si es en dos dimensiones se utiliza un arbol cuadruple *quad-tree*). Dentro de este arbol, cada nodo representa una región del espacio, comenxando con el nodo superior que representa el espacio completo y del cual se desprenden ocho nodos (octantes). La subdivisión continua siempre con ocho sub-nodos hasta que se alcance el momento en el que cada subdivisión contenga 1 cuerpo o ningún cuerpo. De esta forma, cada nodo en el árbol se podrá clasificar como un nodo externo (si no posee sub-nodos y por lo tanto contiene un solo cuerpo o no contiene cuerpos) o interno (si posee sub-nodos y por lo tanto almacenará la información del centro de masa del conjunto de cuerpos que contiene)."
   ]
  },
  {
   "cell_type": "markdown",
   "metadata": {},
   "source": [
    "![Arbol Barnes-Hut](https://upload.wikimedia.org/wikipedia/commons/9/93/2D_Quad-Tree_partitioning_of_100_bodies.png)"
   ]
  },
  {
   "cell_type": "markdown",
   "metadata": {
    "id": "sFDr6Pg0oug-"
   },
   "source": [
    "\n",
    "---\n",
    "## Fuerza Gravitacional sobre uno de los Cuerpos\n",
    "\n",
    "Para calcular la fuerza gravitacional neta sobre uno de los cuerpos del conjunto no se plantean todas las ecuaciones mostradas arriba sino que se recorre el arbol desde su raiz. Si la ubicación del centro de masa contenido en alguno de los nodos internos está suficientemente lejos del cuerpo (de acuerdo con una distancia de corte $\\epsilon$ establecida) entonces los cuerpos contenidos en dicho nodo se tratarán como una sola partícula cuya posición será la del centro de masa y su masa será la suma de las masas de las particulas contenidas. Por otro lado, si la distancia es menor que el corte establecido se procede a considerar cada uno de los sub-nodos.\n",
    "\n",
    "La distancia de corte depende de la condición $\\frac{s}{d}<\\epsilon$ donde $s$ es el ancho de la región representada por el nodo interno y $d$ es la distancia en tre el cuerpo y el centro de masa del nodo. El parámetro $\\epsilon$ determina la precisión de la simulación y también la velocidad de computo. Cuando $\\epsilon=0$, ningún nodo interno se considerará como un solo cuerpo y por lo tanto el algoritmo de Barnes-Hut se convertirá en un algoritmo de suma completa de fuerzas."
   ]
  }
 ],
 "metadata": {
  "colab": {
   "collapsed_sections": [],
   "name": "Binary System.ipynb",
   "provenance": []
  },
  "kernelspec": {
   "display_name": "Python 3 (ipykernel)",
   "language": "python",
   "name": "python3"
  },
  "language_info": {
   "codemirror_mode": {
    "name": "ipython",
    "version": 3
   },
   "file_extension": ".py",
   "mimetype": "text/x-python",
   "name": "python",
   "nbconvert_exporter": "python",
   "pygments_lexer": "ipython3",
   "version": "3.9.7"
  }
 },
 "nbformat": 4,
 "nbformat_minor": 1
}
