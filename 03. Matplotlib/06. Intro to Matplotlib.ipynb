{
 "cells": [
  {
   "cell_type": "markdown",
   "id": "bcbdea89",
   "metadata": {},
   "source": [
    "![Astrofisica Computacional](../logo.png)"
   ]
  },
  {
   "cell_type": "markdown",
   "id": "60ad4c63-366e-49c5-8652-145b148b5100",
   "metadata": {},
   "source": [
    "---\n",
    "## 06. Introduction to `Matplotlib`\n",
    "\n",
    "Eduard Larrañaga (ealarranaga@unal.edu.co)\n",
    "\n",
    "---"
   ]
  },
  {
   "cell_type": "markdown",
   "id": "27cd284f",
   "metadata": {},
   "source": [
    "### About this notebook\n",
    "\n",
    "In this notebook we present an introduction to the package `matplotlib`\n",
    "\n",
    "---"
   ]
  },
  {
   "cell_type": "code",
   "execution_count": null,
   "id": "09baeef9-b2b4-4214-bcad-b5fbeda3aca7",
   "metadata": {},
   "outputs": [],
   "source": [
    "%matplotlib inline\n",
    "import matplotlib as ml\n",
    "import numpy as np\n",
    "import sys\n",
    "plt = ml.pyplot\n",
    "ml.rcParams['figure.figsize'] = (10.0, 5.0)\n",
    "\n",
    "rng = np.random.default_rng(413)  # initialise our random number generator"
   ]
  },
  {
   "cell_type": "code",
   "execution_count": null,
   "id": "2cfcc4a7-0f3d-4a62-9981-f0c09bc99e09",
   "metadata": {},
   "outputs": [],
   "source": [
    "n = 100\n",
    "xs = np.linspace(0, 2*np.pi, n)\n",
    "ys = np.sinc(xs)"
   ]
  },
  {
   "cell_type": "code",
   "execution_count": null,
   "id": "af89caf5-f07b-4a37-b2bc-e37f2e63a3bb",
   "metadata": {},
   "outputs": [],
   "source": [
    "plt.plot(xs, ys)\n",
    "plt.show()"
   ]
  },
  {
   "cell_type": "code",
   "execution_count": null,
   "id": "9f8a2f7b-976f-4ed5-bddb-c1b0e867a7b6",
   "metadata": {},
   "outputs": [],
   "source": [
    "plot = plt.plot(xs, ys) # Plots are objects!"
   ]
  },
  {
   "cell_type": "code",
   "execution_count": null,
   "id": "2255ff84-5787-4aca-b87b-568497dd9cac",
   "metadata": {},
   "outputs": [],
   "source": [
    "plot"
   ]
  },
  {
   "cell_type": "code",
   "execution_count": null,
   "id": "76495a71-f6b2-472c-b96e-62eddd70b8e6",
   "metadata": {},
   "outputs": [],
   "source": [
    "fig = plt.figure() # Figure is the canvas and it is also an object"
   ]
  },
  {
   "cell_type": "code",
   "execution_count": null,
   "id": "98bad1d6-0821-49cc-86f4-1eb369e64d71",
   "metadata": {},
   "outputs": [],
   "source": [
    "ax = fig.add_axes([0, 0, 1, 1]) # Add axes with specified ranges [xi,yi,xf,yf]"
   ]
  },
  {
   "cell_type": "code",
   "execution_count": null,
   "id": "005f8473-0796-4083-82a3-843e6e7d56f1",
   "metadata": {},
   "outputs": [],
   "source": [
    "fig # Shows the canvas updated"
   ]
  },
  {
   "cell_type": "code",
   "execution_count": null,
   "id": "d3393982-0e57-4700-891a-2765f5abe669",
   "metadata": {},
   "outputs": [],
   "source": [
    "ax.scatter(xs, ys, label=\"Star 01\") # Add a scatter plot (with a label) to the axes"
   ]
  },
  {
   "cell_type": "code",
   "execution_count": null,
   "id": "963daeaa-37df-4858-bd56-9a1a3c60b73f",
   "metadata": {},
   "outputs": [],
   "source": [
    "fig "
   ]
  },
  {
   "cell_type": "code",
   "execution_count": null,
   "id": "67d3f370-a771-4c09-a312-a88babc458c3",
   "metadata": {},
   "outputs": [],
   "source": [
    "sub_ax = fig.add_axes([0.5, 0.5, 0.4, 0.4]) # We may add sub-axes to the plot"
   ]
  },
  {
   "cell_type": "code",
   "execution_count": null,
   "id": "7e201ffc-45c7-4fe6-98ec-d58640fa4b17",
   "metadata": {},
   "outputs": [],
   "source": [
    "fig"
   ]
  },
  {
   "cell_type": "code",
   "execution_count": null,
   "id": "41a1f580-4963-4de5-882c-df3ac9dc32a1",
   "metadata": {},
   "outputs": [],
   "source": [
    "# Plot in the sub-axes\n",
    "sub_ax.plot(xs, np.sin(xs), color=\"salmon\", label=\"Star 02\")\n",
    "sub_ax.plot(xs, np.sin(xs)*0.9, color=\"steelblue\", linestyle=\"-.\", label=\"Star modified\")"
   ]
  },
  {
   "cell_type": "code",
   "execution_count": null,
   "id": "55c2ddef-47db-4f3a-8649-40b97eb7212f",
   "metadata": {},
   "outputs": [],
   "source": [
    "fig"
   ]
  },
  {
   "cell_type": "code",
   "execution_count": null,
   "id": "b343e9b1-f5c6-4bc7-bdfe-0aa35a096053",
   "metadata": {},
   "outputs": [],
   "source": [
    "# Add some labels to ax\n",
    "ax.set_xlabel(r'time [s]')\n",
    "ax.set_ylabel(r'Intensity [W/$m^2$]')"
   ]
  },
  {
   "cell_type": "code",
   "execution_count": null,
   "id": "bacfab9d-4152-42f3-bb39-a612d5c8391d",
   "metadata": {},
   "outputs": [],
   "source": [
    "fig"
   ]
  },
  {
   "cell_type": "code",
   "execution_count": null,
   "id": "c39fa164-1287-405e-ab80-28a1a3605ffc",
   "metadata": {},
   "outputs": [],
   "source": [
    "# Add some labels to the sub_ax\n",
    "sub_ax.set_xlabel(r'time [s]')\n",
    "sub_ax.set_ylabel(r'Intensity [W/$m^2$]')"
   ]
  },
  {
   "cell_type": "code",
   "execution_count": null,
   "id": "de7c824e-dbe6-4721-b2ac-24c0b97cc9a1",
   "metadata": {},
   "outputs": [],
   "source": [
    "fig"
   ]
  },
  {
   "cell_type": "code",
   "execution_count": null,
   "id": "5e348879-e5dd-41f8-a925-cc1f19a3e8e8",
   "metadata": {},
   "outputs": [],
   "source": [
    "# Show the labels of the plots in ax\n",
    "ax.legend()"
   ]
  },
  {
   "cell_type": "code",
   "execution_count": null,
   "id": "b6f30bb6-094b-4711-aced-1a592359b20d",
   "metadata": {},
   "outputs": [],
   "source": [
    "# Show the labels of the plots in sub_ax\n",
    "sub_ax.legend()"
   ]
  },
  {
   "cell_type": "code",
   "execution_count": null,
   "id": "36434c31-31e5-47ef-a4c9-f53563c3bc0e",
   "metadata": {},
   "outputs": [],
   "source": [
    "fig"
   ]
  },
  {
   "cell_type": "code",
   "execution_count": null,
   "id": "4f06858b-1640-40be-90e6-acd7b2fd29b8",
   "metadata": {},
   "outputs": [],
   "source": [
    "# Add a horizontal line to tax\n",
    "ax.axhline(0.15, linestyle=\":\", color=\"#aabbcc\")"
   ]
  },
  {
   "cell_type": "code",
   "execution_count": null,
   "id": "aef77c5b-fe1e-48d5-82fe-6964f755bbe7",
   "metadata": {
    "scrolled": false
   },
   "outputs": [],
   "source": [
    "fig"
   ]
  },
  {
   "cell_type": "code",
   "execution_count": null,
   "id": "4c50dda0-0505-4a03-bf92-c837090aa13b",
   "metadata": {},
   "outputs": [],
   "source": [
    "time_of_interest = 2.13  # time [s]"
   ]
  },
  {
   "cell_type": "code",
   "execution_count": null,
   "id": "b6f45e08-de54-4a8b-8d79-cfcac3c9a52c",
   "metadata": {},
   "outputs": [],
   "source": [
    "# Characteristics of the line we want to draw\n",
    "opts = dict(linestyle=\"-\", color=\"deepskyblue\", linewidth=2)\n",
    "# Add a vertical line at the time of interest using the options\n",
    "ax.axvline(time_of_interest, **opts)\n",
    "# dd the line also to the sub_ax\n",
    "sub_ax.axvline(time_of_interest, **opts)"
   ]
  },
  {
   "cell_type": "code",
   "execution_count": null,
   "id": "212b5d51-ee16-4086-8cad-40d7c55db3fa",
   "metadata": {},
   "outputs": [],
   "source": [
    "fig"
   ]
  },
  {
   "cell_type": "code",
   "execution_count": null,
   "id": "88db1f3e-f780-4fdc-891e-d6dcfaf63b4f",
   "metadata": {},
   "outputs": [],
   "source": [
    "# Add a grid to ax and sub_ax\n",
    "ax.grid(color=\"#dddddd\")\n",
    "sub_ax.grid(color=\"slategrey\")"
   ]
  },
  {
   "cell_type": "code",
   "execution_count": null,
   "id": "c617bb37-c8ea-4c5e-beb4-a814074def5b",
   "metadata": {},
   "outputs": [],
   "source": [
    "fig"
   ]
  },
  {
   "cell_type": "code",
   "execution_count": null,
   "id": "45e66023-bdf9-42d8-a1f8-b883d33bcbff",
   "metadata": {},
   "outputs": [],
   "source": [
    "# Set font size of the labels in ax\n",
    "for axis in [ax.xaxis, ax.yaxis]:\n",
    "    axis.label.set_fontsize(20)"
   ]
  },
  {
   "cell_type": "code",
   "execution_count": null,
   "id": "af44bc61-4fa0-47c6-a8e7-f83d43213893",
   "metadata": {},
   "outputs": [],
   "source": [
    "fig"
   ]
  },
  {
   "cell_type": "code",
   "execution_count": null,
   "id": "0c913f73-a02c-4f8c-95af-51b4fa4445fa",
   "metadata": {},
   "outputs": [],
   "source": [
    "# Chane the position and/or size of the sub_ax\n",
    "sub_ax.set_position([0.45, 0.4, 0.5, 0.5])"
   ]
  },
  {
   "cell_type": "code",
   "execution_count": null,
   "id": "2e6a2710-1324-4b0b-931b-7d32d4b4bca0",
   "metadata": {},
   "outputs": [],
   "source": [
    "fig"
   ]
  },
  {
   "cell_type": "markdown",
   "id": "6eebe23d",
   "metadata": {},
   "source": [
    "We will find the maxima in the plot using the function `scipy.signal.find_peaks_cwt()`"
   ]
  },
  {
   "cell_type": "code",
   "execution_count": null,
   "id": "590380ac-66b9-4a9f-b523-3826e37878b4",
   "metadata": {},
   "outputs": [],
   "source": [
    "import scipy.signal\n",
    "peak_idx = scipy.signal.find_peaks_cwt(ys, np.arange(1, 5))"
   ]
  },
  {
   "cell_type": "code",
   "execution_count": null,
   "id": "5b4000df-bed4-4aa9-82c8-e53eea751686",
   "metadata": {},
   "outputs": [],
   "source": [
    "peak_idx # These are the indices of the maximum points"
   ]
  },
  {
   "cell_type": "code",
   "execution_count": null,
   "id": "6719a57b-f034-4078-88a9-fd3da8102cb9",
   "metadata": {},
   "outputs": [],
   "source": [
    "# Plot the maximum points in red\n",
    "ax.scatter(xs[peak_idx], ys[peak_idx], c=\"red\", marker=\"X\", s=100)"
   ]
  },
  {
   "cell_type": "code",
   "execution_count": null,
   "id": "ea776920-302e-469c-867a-f6eac50003b8",
   "metadata": {},
   "outputs": [],
   "source": [
    "fig"
   ]
  },
  {
   "cell_type": "code",
   "execution_count": null,
   "id": "bf8bae9e-f6a6-4c0e-9b65-f5c6b0361380",
   "metadata": {},
   "outputs": [],
   "source": [
    "# Save the plot. The filename extension defines the media type\n",
    "fig.savefig(\"plot.pdf\", bbox_inches=\"tight\")  "
   ]
  },
  {
   "cell_type": "code",
   "execution_count": null,
   "id": "c270ae85-467e-4cb6-8823-418b74209188",
   "metadata": {},
   "outputs": [],
   "source": [
    "fig.savefig(\"plot.png\", bbox_inches=\"tight\")"
   ]
  },
  {
   "cell_type": "markdown",
   "id": "028dbd79-5524-4be7-9b45-3cbe5e671c18",
   "metadata": {},
   "source": [
    "## Subplots\n",
    "\n",
    "The `plt.subplots()` utility wrapper makes it convenient to create common layouts of\n",
    "subplots, including the enclosing figure object, in a single call."
   ]
  },
  {
   "cell_type": "code",
   "execution_count": null,
   "id": "31c5ee08-52b2-4555-ab94-dfbe8d7b941c",
   "metadata": {},
   "outputs": [],
   "source": [
    "fig, ax = plt.subplots()  # This single command creates a figure with an axes"
   ]
  },
  {
   "cell_type": "code",
   "execution_count": null,
   "id": "13341f82-ea02-4846-a8fe-dc02554e61ff",
   "metadata": {},
   "outputs": [],
   "source": [
    "fig, axes = plt.subplots(nrows=2, ncols=3) # Create 6 axes in a figure"
   ]
  },
  {
   "cell_type": "code",
   "execution_count": null,
   "id": "08a8a423-33b8-4143-8bdb-80944ebef8eb",
   "metadata": {},
   "outputs": [],
   "source": [
    "axes # axes is an array |"
   ]
  },
  {
   "cell_type": "code",
   "execution_count": null,
   "id": "3502782f-d45c-4d5c-8842-6581c313f1cb",
   "metadata": {},
   "outputs": [],
   "source": [
    "axes[0] # Row of axes"
   ]
  },
  {
   "cell_type": "code",
   "execution_count": null,
   "id": "9e94f27f-6606-4ed2-b932-bbe068e36c6b",
   "metadata": {},
   "outputs": [],
   "source": [
    "axes[1]"
   ]
  },
  {
   "cell_type": "code",
   "execution_count": null,
   "id": "fa3a6e6f-be88-4a13-9d27-17315a11e817",
   "metadata": {},
   "outputs": [],
   "source": [
    "axes[0, 2].scatter(xs, np.cos(xs)) # Scatter plot in one of the axes"
   ]
  },
  {
   "cell_type": "code",
   "execution_count": null,
   "id": "1354ebfa-c9d5-4217-9294-e24d607febec",
   "metadata": {},
   "outputs": [],
   "source": [
    "fig"
   ]
  },
  {
   "cell_type": "code",
   "execution_count": null,
   "id": "b1be851a-53b7-4f6a-935b-8e65af3d99b0",
   "metadata": {},
   "outputs": [],
   "source": [
    "axes.flat[4].scatter(xs, ys) # the .flat[] method acces the plots with only one index"
   ]
  },
  {
   "cell_type": "code",
   "execution_count": null,
   "id": "8bce4d73-c2af-4809-83d7-3858efa35fa2",
   "metadata": {},
   "outputs": [],
   "source": [
    "fig"
   ]
  },
  {
   "cell_type": "code",
   "execution_count": null,
   "id": "e39d0c6d-904f-4125-a453-0bf6854092d0",
   "metadata": {},
   "outputs": [],
   "source": [
    "# Defines 6 colors from the viridis color map\n",
    "colors = plt.cm.viridis(np.linspace(0, 1, len(axes.flat)))\n",
    "\n",
    "# 6 plots, on in each ax using the colors defined above\n",
    "for func, ax, color in zip([np.cos, np.sin, np.sinc, np.tan, np.tanh, np.exp], axes.flat, colors):\n",
    "    ax.plot(xs, func(xs), color=color)"
   ]
  },
  {
   "cell_type": "code",
   "execution_count": null,
   "id": "9df7c61c-792b-41eb-a060-2bdc4c88ced5",
   "metadata": {},
   "outputs": [],
   "source": [
    "fig"
   ]
  },
  {
   "cell_type": "code",
   "execution_count": null,
   "id": "5029925c-ffa9-421a-bfda-c0269b59375f",
   "metadata": {},
   "outputs": [],
   "source": [
    "# These are the colors defined in the viridis color map\n",
    "# They are given in rgb-alpha coding\n",
    "plt.cm.viridis(np.linspace(0, 1, len(axes.flat)))"
   ]
  },
  {
   "cell_type": "code",
   "execution_count": null,
   "id": "7ff647de-d00a-4ed6-9bd9-1fb95a27fa67",
   "metadata": {},
   "outputs": [],
   "source": [
    "# a single color identified with the label 0.5 in the viridis color map\n",
    "plt.cm.viridis(0.5) "
   ]
  },
  {
   "cell_type": "code",
   "execution_count": null,
   "id": "82e5e3ff-0e46-4606-a79d-d35c5ea44a64",
   "metadata": {},
   "outputs": [],
   "source": [
    "fig, ax = plt.subplots()\n",
    "n = 100\n",
    "xs = rng.random(n)\n",
    "ys = rng.random(n)\n",
    "ms = rng.random(n)\n",
    "ax.scatter(rng.random(n), rng.random(n), c=ms, cmap=\"plasma\")"
   ]
  },
  {
   "cell_type": "code",
   "execution_count": null,
   "id": "9ccc5593-c424-4e22-b1ec-968d117e1e37",
   "metadata": {},
   "outputs": [],
   "source": [
    "fig, ax = plt.subplots()\n",
    "\n",
    "n = 100\n",
    "xs = np.linspace(-7, 7, n)\n",
    "\n",
    "N = 40\n",
    "colors = iter(plt.cm.viridis(np.linspace(0, 1, N)))\n",
    "\n",
    "for k in range(-N//2, N//2):\n",
    "    color = \"salmon\" if k == 8 else next(colors)\n",
    "    ax.plot(xs, k / (xs**2 + 4), c=color)\n",
    "    \n",
    "ax.grid()"
   ]
  },
  {
   "cell_type": "markdown",
   "id": "52e366ac-5d18-414d-85fa-1cccc2ddc3cd",
   "metadata": {},
   "source": [
    "## Histograms"
   ]
  },
  {
   "cell_type": "markdown",
   "id": "9342d819",
   "metadata": {},
   "source": [
    "The `numpy.random.normal(loc, scale, size)`function has the arguments:\n",
    "\n",
    "- loc : centre of the distribution \n",
    "- scale: standard deviation or spread of the distribution\n",
    "- size : shape of the distribution"
   ]
  },
  {
   "cell_type": "code",
   "execution_count": null,
   "id": "3965d80d-5b38-43dd-a9bb-9258e6c97471",
   "metadata": {},
   "outputs": [],
   "source": [
    "# Random data(Normal distribution)\n",
    "data1 = rng.normal(23, 5, 1000) \n",
    "data2 = rng.normal(42, 5, 10000)"
   ]
  },
  {
   "cell_type": "code",
   "execution_count": null,
   "id": "bbc8ba58-1a25-43bb-ba79-4db7ec246419",
   "metadata": {},
   "outputs": [],
   "source": [
    "fig, ax = plt.subplots() # Create the canvas"
   ]
  },
  {
   "cell_type": "code",
   "execution_count": null,
   "id": "cc5efbaf-9fb0-45de-93da-c2ed702a2192",
   "metadata": {},
   "outputs": [],
   "source": [
    "# Histogram of the random data\n",
    "ax.hist(data1, bins=100)\n",
    "ax.hist(data2, bins=100)"
   ]
  },
  {
   "cell_type": "code",
   "execution_count": null,
   "id": "c233a578-610d-4117-bec1-2b664f5c1c12",
   "metadata": {},
   "outputs": [],
   "source": [
    "fig"
   ]
  },
  {
   "cell_type": "code",
   "execution_count": null,
   "id": "0bb6d37f-049f-4e7d-a390-36e6345bbd1b",
   "metadata": {},
   "outputs": [],
   "source": [
    "N = 100000\n",
    "\n",
    "data1 = rng.normal(23, 5, N)\n",
    "data2 = rng.normal(42, 5, N)\n",
    "\n",
    "fig, ax = plt.subplots()\n",
    "\n",
    "# 2-dimensional histogram\n",
    "ax.hist2d(data1, data2, bins=100);"
   ]
  },
  {
   "cell_type": "code",
   "execution_count": null,
   "id": "3b30fae5",
   "metadata": {},
   "outputs": [],
   "source": []
  }
 ],
 "metadata": {
  "kernelspec": {
   "display_name": "Python 3 (ipykernel)",
   "language": "python",
   "name": "python3"
  },
  "language_info": {
   "codemirror_mode": {
    "name": "ipython",
    "version": 3
   },
   "file_extension": ".py",
   "mimetype": "text/x-python",
   "name": "python",
   "nbconvert_exporter": "python",
   "pygments_lexer": "ipython3",
   "version": "3.9.5"
  },
  "nteract": {
   "version": "0.28.0"
  }
 },
 "nbformat": 4,
 "nbformat_minor": 5
}
