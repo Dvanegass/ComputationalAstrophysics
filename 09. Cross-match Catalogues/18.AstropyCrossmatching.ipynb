{
 "cells": [
  {
   "cell_type": "markdown",
   "metadata": {
    "id": "5soGuirloNgq"
   },
   "source": [
    "![Astrofisica Computacional](../logo.png)"
   ]
  },
  {
   "cell_type": "markdown",
   "metadata": {},
   "source": [
    "---\n",
    "## 17. Crossmatching with `Astropy`\n",
    "\n",
    "\n",
    "Eduard Larrañaga (ealarranaga@unal.edu.co)\n",
    "\n",
    "---"
   ]
  },
  {
   "cell_type": "markdown",
   "metadata": {
    "id": "Ff4KTapaoNgx"
   },
   "source": [
    "### About this notebook\n",
    "\n",
    "In this worksheet we use `astropy` package to make the crossmatching of two catalogues.\n",
    "\n",
    "---"
   ]
  },
  {
   "cell_type": "markdown",
   "metadata": {
    "id": "Y85Y_aIb8meo"
   },
   "source": [
    "Since crossmatching is a common task in astrophysics, there are many optimised implementations to do it. One of these can be found in the `astropy` package, using objects called **k-d trees** to perform crossmatching incredibly quickly.\n",
    "\n",
    "\n",
    "\n",
    "### k-d Trees\n",
    "\n",
    "Consider again our case of study, that uses the BSS as first catalogue and the SuperCOSMOS as the second catalogue. The implementation of crossmatching in `astropy` constructs a k-d tree out of the second catalogue. This structure lets search through to efficiently find a match for each object in the first catalogue. The construction of a k-d tree is similar to the binary search described in this lesson. In this case, the k-dimensional (2-dimensiona) space is divided into two parts recursively until each division only contains only a single object. The results is the structure called a k-d tree which will look as\n",
    "\n",
    "\n",
    "\n",
    "\n",
    "<br>\n",
    "<center>\n",
    "<a href=\"https://ibb.co/t4vs3Rf\"><img src=\"https://i.ibb.co/L8ctvKw/kdTree.png\" alt=\"kdTree\" border=\"0\"></a>\n",
    "</center>\n",
    "\n",
    "Note that each cell contains only one element of the second catalogue (A, B, C, D, E, F, G, H, I).\n",
    "\n",
    "In our particular example, the procedure (based on right ascension and declination) is as follows\n",
    "\n",
    "1. Find the object of the second catalogue with the median right ascension. Then, split the catalogue using the division line into objects to the left and objects to the right of this element.\n",
    "\n",
    "2. Now, find the objects with the median declination in each partition. This defines the division lines which split the partitions into smaller partitions of objects down and up of these.\n",
    "\n",
    "3. Find the objects with median right ascension in each of the partitions, split the partitions into smaller partitions of objects left and right of these.\n",
    "\n",
    "4. Repeat steps 2. and 3. until each partition only has one object in it.\n",
    "\n",
    "The created binary tree where each object used to split a partition (a node) links to the two objects that then split the partitions it has created (its children)."
   ]
  },
  {
   "cell_type": "markdown",
   "metadata": {
    "id": "geu4TFRioNgx"
   },
   "source": [
    "### Searching the Match of an Object using the k-d Tree\n",
    "\n",
    "In order to match an object of the first catalogue, using the defined k-d tree, we use the following steps\n",
    "\n",
    "1. Calculate the distance from the object to the highest level node (the root node), then go to the child node closest (in Right Ascension) to the object.\n",
    "\n",
    "2. Calculate the distance from the object to this child, then go to the child node closest (in declination) to the object.\n",
    "\n",
    "3. Calculate the distance from the object to this child, then go to the child node closest (in right ascension) to the object.\n",
    "\n",
    "4. Repeat steps 2. and 3. until you reach a child node with no further children (knwon as a *leaf node*).\n",
    "\n",
    "5. Find the shortest distance of all distances calculated. This corresponds to the closest object.\n",
    "\n",
    "In the following image, we consider a target X and the matching of this object needs only 4 distance calculation along a branch of the k-d tree.\n",
    "\n",
    "<center>\n",
    "<a href=\"https://ibb.co/PxN54HN\"><img src=\"https://i.ibb.co/7vXGVmX/kd-Tree-Target.png\" alt=\"kd-Tree-Target\" border=\"0\"></a>\n",
    "</center>\n",
    "\n",
    "The presented  scheme improves the crossmatching algorithm. Note that, since each node branches into two children, a catalogue with N objects will have, on average, $\\log_2 N$ nodes from the root to any leaf. \n",
    "For example, if we were using the complete SuperCOSMOS catalogue (with the order of 250 million objects), to reach any leaf node needs only 28 distance calculations!\n",
    " \n"
   ]
  },
  {
   "cell_type": "markdown",
   "metadata": {
    "id": "pHDiGDr5CU_A"
   },
   "source": [
    "### Example\n",
    "\n",
    " To illustrate th k-d trees implementation in astropy, we will build a simple catalogue with only 5 objects each, with coordinates in degrees."
   ]
  },
  {
   "cell_type": "code",
   "execution_count": 1,
   "metadata": {
    "executionInfo": {
     "elapsed": 518,
     "status": "ok",
     "timestamp": 1611018688505,
     "user": {
      "displayName": "Eduard Alexis Larranaga",
      "photoUrl": "https://lh3.googleusercontent.com/a-/AOh14GgCVABzEgj-rCdyxWa29RnA0kIYUCXAaVbnRYOEhQ=s64",
      "userId": "04402438389940282602"
     },
     "user_tz": 300
    },
    "id": "z2_uSWSg5VRk"
   },
   "outputs": [],
   "source": [
    "import numpy as np\n",
    "from astropy.coordinates import SkyCoord\n",
    "from astropy import units as u\n",
    "\n",
    "coords1 = [[270, -30], [185, 15], [180, 30], [45, 10], [300, -45]]\n",
    "coords2 = [[185, 20], [280, -30], [180, 32], [302, -44], [55, 10]]\n",
    "sky_cat1 = SkyCoord(coords1*u.degree, frame='icrs')\n",
    "sky_cat2 = SkyCoord(coords2*u.degree, frame='icrs')\n"
   ]
  },
  {
   "cell_type": "markdown",
   "metadata": {
    "id": "o89WRsXuC0a1"
   },
   "source": [
    "Here, the `astropy.coordinates.SkyCoord` function provides a flexible interface for celestial coordinate representation, manipulation, and transformation between systems.\n",
    "\n",
    "The minimum input to inizialize this function is to provide one or more celestial coordinate values with unambiguous units. The option `frame='icrs'` refers to the type of coordinate frame used. Teh default is the **I**nternational **C**elestial **R**eference **S**ystem (**ICRS**) and it is essentially the same as equatorial coordinates. For complete information about this frame, see\n",
    "\n",
    "https://www.iers.org/IERS/EN/Science/ICRS/ICRS.html\n",
    "\n",
    "Other frames included in astropy are ICRS, FK5, FK4, FK4NoETerms, and Galactic. Complete information about the `SkyCoord` function can be found at\n",
    "\n",
    "https://docs.astropy.org/en/stable/api/astropy.coordinates.SkyCoord.html\n",
    "\n",
    "\n",
    "Now, lets see the information in each catalog"
   ]
  },
  {
   "cell_type": "code",
   "execution_count": 7,
   "metadata": {
    "colab": {
     "base_uri": "https://localhost:8080/"
    },
    "executionInfo": {
     "elapsed": 495,
     "status": "ok",
     "timestamp": 1611018692898,
     "user": {
      "displayName": "Eduard Alexis Larranaga",
      "photoUrl": "https://lh3.googleusercontent.com/a-/AOh14GgCVABzEgj-rCdyxWa29RnA0kIYUCXAaVbnRYOEhQ=s64",
      "userId": "04402438389940282602"
     },
     "user_tz": 300
    },
    "id": "aFUoS7eZ_X5T",
    "outputId": "3fb541c7-1bb1-4ba9-e258-e0ee03c8d613"
   },
   "outputs": [
    {
     "data": {
      "text/plain": [
       "<SkyCoord (ICRS): (ra, dec) in deg\n",
       "    [(270., -30.), (185.,  15.), (180.,  30.), ( 45.,  10.), (300., -45.)]>"
      ]
     },
     "execution_count": 7,
     "metadata": {
      "tags": []
     },
     "output_type": "execute_result"
    }
   ],
   "source": [
    "sky_cat1"
   ]
  },
  {
   "cell_type": "code",
   "execution_count": 8,
   "metadata": {
    "colab": {
     "base_uri": "https://localhost:8080/"
    },
    "executionInfo": {
     "elapsed": 491,
     "status": "ok",
     "timestamp": 1611018694063,
     "user": {
      "displayName": "Eduard Alexis Larranaga",
      "photoUrl": "https://lh3.googleusercontent.com/a-/AOh14GgCVABzEgj-rCdyxWa29RnA0kIYUCXAaVbnRYOEhQ=s64",
      "userId": "04402438389940282602"
     },
     "user_tz": 300
    },
    "id": "N2_e_R5DFjBG",
    "outputId": "fec442be-bde5-4384-a550-396e026b73e8"
   },
   "outputs": [
    {
     "data": {
      "text/plain": [
       "<SkyCoord (ICRS): (ra, dec) in deg\n",
       "    [(185.,  20.), (280., -30.), (180.,  32.), (302., -44.), ( 55.,  10.)]>"
      ]
     },
     "execution_count": 8,
     "metadata": {
      "tags": []
     },
     "output_type": "execute_result"
    }
   ],
   "source": [
    "sky_cat2"
   ]
  },
  {
   "cell_type": "markdown",
   "metadata": {
    "id": "5DnbVCjRFlTi"
   },
   "source": [
    "Now, we will use the method `.match_to_catalog_sky()` which finds the nearest on-sky matches for two catalogs.\n",
    "\n",
    "This method returns three results:\n",
    "- Indices of the matched objects\n",
    "- On-sky separation (angular distance in DMS format) between the closest match for each element\n",
    "- 3-dimensional distance between the closest match for each element\n",
    "\n",
    "Complete information about this method can be found at\n",
    "\n",
    "https://docs.astropy.org/en/stable/api/astropy.coordinates.SkyCoord.html#astropy.coordinates.SkyCoord.match_to_catalog_sky"
   ]
  },
  {
   "cell_type": "code",
   "execution_count": 12,
   "metadata": {
    "colab": {
     "base_uri": "https://localhost:8080/"
    },
    "executionInfo": {
     "elapsed": 1167,
     "status": "ok",
     "timestamp": 1611019362857,
     "user": {
      "displayName": "Eduard Alexis Larranaga",
      "photoUrl": "https://lh3.googleusercontent.com/a-/AOh14GgCVABzEgj-rCdyxWa29RnA0kIYUCXAaVbnRYOEhQ=s64",
      "userId": "04402438389940282602"
     },
     "user_tz": 300
    },
    "id": "5b-arllEEBai",
    "outputId": "42812932-3ec4-43ee-e0b8-269ce2e56073"
   },
   "outputs": [
    {
     "name": "stdout",
     "output_type": "stream",
     "text": [
      "[1 0 2 4 3]\n",
      "[8d39m27.0001s 5d00m00s 2d00m00s 9d50m51.7182s 1d44m31.2393s]\n"
     ]
    }
   ],
   "source": [
    "closest_ids, closest_dists, closest_dists3d = sky_cat1.match_to_catalog_sky(sky_cat2)\n",
    "\n",
    "print(closest_ids)\n",
    "print(closest_dists)"
   ]
  },
  {
   "cell_type": "markdown",
   "metadata": {
    "id": "1waOMTGQPAQ2"
   },
   "source": [
    "Astropy returns distances as Quantity objects but you can convert these to NumPy arrays by accessing their value attribute,\n"
   ]
  },
  {
   "cell_type": "code",
   "execution_count": 14,
   "metadata": {
    "colab": {
     "base_uri": "https://localhost:8080/"
    },
    "executionInfo": {
     "elapsed": 513,
     "status": "ok",
     "timestamp": 1611019375080,
     "user": {
      "displayName": "Eduard Alexis Larranaga",
      "photoUrl": "https://lh3.googleusercontent.com/a-/AOh14GgCVABzEgj-rCdyxWa29RnA0kIYUCXAaVbnRYOEhQ=s64",
      "userId": "04402438389940282602"
     },
     "user_tz": 300
    },
    "id": "oqYs1DYHO_rj",
    "outputId": "d7a74f0b-9956-442d-8af6-594511e52873"
   },
   "outputs": [
    {
     "data": {
      "text/plain": [
       "array([8.65750003, 5.        , 2.        , 9.84769951, 1.7420109 ])"
      ]
     },
     "execution_count": 14,
     "metadata": {
      "tags": []
     },
     "output_type": "execute_result"
    }
   ],
   "source": [
    "closest_dists_array = closest_dists.value\n",
    "closest_dists_array"
   ]
  },
  {
   "cell_type": "markdown",
   "metadata": {
    "id": "Kx4t-IWBPs8P"
   },
   "source": [
    "Finally, note that the `astropy` package doesn't let to specify a maximum radius and therefore, it is needed a function that independtly restricts the matches with distances greater than the desired maximum radius (e.g. 5 degrees)."
   ]
  },
  {
   "cell_type": "markdown",
   "metadata": {
    "id": "RUJM2mU-npDq"
   },
   "source": [
    "### Exercises\n",
    "\n",
    "1. Use the `astropy` package to crossmatch the following random catalogues."
   ]
  },
  {
   "cell_type": "code",
   "execution_count": 5,
   "metadata": {
    "colab": {
     "base_uri": "https://localhost:8080/"
    },
    "executionInfo": {
     "elapsed": 536,
     "status": "ok",
     "timestamp": 1611019114052,
     "user": {
      "displayName": "Eduard Alexis Larranaga",
      "photoUrl": "https://lh3.googleusercontent.com/a-/AOh14GgCVABzEgj-rCdyxWa29RnA0kIYUCXAaVbnRYOEhQ=s64",
      "userId": "04402438389940282602"
     },
     "user_tz": 300
    },
    "id": "hpPXxYx2NiDL",
    "outputId": "56fa4e4b-9914-41f1-b230-69a962a8bd0f"
   },
   "outputs": [
    {
     "data": {
      "text/plain": [
       "array([[ 16.63937207,   7.88886362],\n",
       "       [175.05290993,   7.20380482],\n",
       "       [ 11.55722926,  29.12423244],\n",
       "       [ 28.26071034, -39.84530313],\n",
       "       [359.61747013,  -4.23698844],\n",
       "       [285.30617986,  16.37651314],\n",
       "       [ 50.74754006, -41.63338156],\n",
       "       [ 73.94171708,  82.51644117],\n",
       "       [141.50510741,  33.79803065],\n",
       "       [ 50.72492731,  15.85951414],\n",
       "       [358.40633436, -32.3488877 ],\n",
       "       [245.73507092, -15.96375761],\n",
       "       [138.05014811,  38.28021325],\n",
       "       [320.60460495,  27.56342724],\n",
       "       [ 98.20142534,  -1.24939739],\n",
       "       [277.64727099,  57.25345708],\n",
       "       [ 70.52340766, -59.60873388],\n",
       "       [168.08618551, -38.23339298],\n",
       "       [ 12.38992952,   8.55141411],\n",
       "       [ 24.81880778, -68.32928344],\n",
       "       [156.53306284, -67.175877  ],\n",
       "       [131.52540878, -61.06486007],\n",
       "       [229.76402389,   7.51739483],\n",
       "       [ 76.78114142,  12.78398928],\n",
       "       [309.20568091,  48.03957502],\n",
       "       [152.84777175,  48.09671404],\n",
       "       [323.62189209, -19.00636235],\n",
       "       [332.92759679,  50.5637089 ],\n",
       "       [234.97879499,  12.91414701],\n",
       "       [212.71435951, -29.36223482],\n",
       "       [214.30042491,  39.75895352],\n",
       "       [260.86669966, -72.57857375],\n",
       "       [335.43663836,  16.33213559],\n",
       "       [241.88002118, -70.81111059],\n",
       "       [ 22.59374911,  48.61960957],\n",
       "       [ 23.67921381,  64.8472989 ],\n",
       "       [183.46688255, -39.8250595 ],\n",
       "       [351.27818924, -58.05548192],\n",
       "       [104.4210752 , -88.7836689 ],\n",
       "       [339.47926341, -73.63339537],\n",
       "       [166.93677296, -10.56415507],\n",
       "       [ 54.86304821, -17.2270512 ],\n",
       "       [288.48800555, -48.78054837],\n",
       "       [ 35.89316069, -30.41753374],\n",
       "       [347.33626506,  28.39046727],\n",
       "       [114.58347197,  50.37332448],\n",
       "       [132.9499527 ,  48.81827669],\n",
       "       [194.78107474,  60.90861215],\n",
       "       [141.39638121,   1.88996464],\n",
       "       [225.4980801 ,  74.96291474],\n",
       "       [238.08663724, -21.87690738],\n",
       "       [209.65666274,  30.77232776],\n",
       "       [ 16.04463849, -11.21557192],\n",
       "       [351.04710818, -16.09703232],\n",
       "       [229.27563343,  39.62302724],\n",
       "       [176.03296012, -61.66486514],\n",
       "       [177.90090105,  46.38785534],\n",
       "       [239.77071037, -40.51309133],\n",
       "       [141.36065424, -49.18941443],\n",
       "       [184.41040314, -25.85965734],\n",
       "       [206.87084996,  19.33739783],\n",
       "       [173.61931172, -78.52238797],\n",
       "       [152.26127612,  24.45393893],\n",
       "       [293.63927526,  -2.66234802],\n",
       "       [104.12375963,  13.92481736],\n",
       "       [210.11492678,  70.02663133],\n",
       "       [102.07122754,  75.71202763],\n",
       "       [ 88.3512876 ,   2.65670146],\n",
       "       [252.38989593,  36.68570704],\n",
       "       [101.27381191,  65.90996924],\n",
       "       [212.3440528 ,   9.23477845],\n",
       "       [150.98621447, -45.14587745],\n",
       "       [322.75715436,  59.67356344],\n",
       "       [  4.87405645,  12.84065659],\n",
       "       [100.63437838, -15.0927615 ],\n",
       "       [  9.11593991,  89.31990993],\n",
       "       [205.18151967,  56.95850593],\n",
       "       [107.82308753,  68.46702994],\n",
       "       [199.58515684,  80.31052461],\n",
       "       [163.77284423,  -7.76199164],\n",
       "       [220.59187601, -32.41545108],\n",
       "       [269.5167428 ,  21.37969536],\n",
       "       [101.51375634, -31.81076702],\n",
       "       [178.87741261, -20.06423793],\n",
       "       [259.76568814, -15.24729621],\n",
       "       [255.2888986 , -48.71154663],\n",
       "       [101.203328  ,  47.84355489],\n",
       "       [325.61820155,  -4.45166018],\n",
       "       [173.72338828, -60.46346904],\n",
       "       [213.40479935, -39.48007872],\n",
       "       [239.67626339,  84.78621952],\n",
       "       [212.43723628,  56.5863427 ],\n",
       "       [179.14967219,  53.0275833 ],\n",
       "       [207.78051174,  88.54671612],\n",
       "       [ 62.16997158, -34.12265411],\n",
       "       [243.02807333,   8.71382886],\n",
       "       [102.78505936, -47.15658056],\n",
       "       [244.49296496,  11.80000201],\n",
       "       [ 59.77987544, -75.23330152],\n",
       "       [322.02142797, -51.18140663],\n",
       "       [285.02796802,  12.71924783],\n",
       "       [224.968258  ,   6.82123219],\n",
       "       [239.33616907, -20.20754764],\n",
       "       [ 28.30935993, -50.11839855],\n",
       "       [298.42258395, -42.31597856],\n",
       "       [ 64.96477948,  80.69453664],\n",
       "       [ 82.42588812,  -8.92575116],\n",
       "       [ 50.70666477, -50.18196324],\n",
       "       [188.82831495,  83.62412225],\n",
       "       [168.88372689, -26.20723629],\n",
       "       [285.31606845, -58.83182454],\n",
       "       [133.63874811,  35.90017062],\n",
       "       [ 55.04983459, -46.53484285],\n",
       "       [121.73028849, -38.00246949],\n",
       "       [301.25575095, -65.74890533],\n",
       "       [284.78065651,  -3.71110771],\n",
       "       [303.98310247,  16.4355208 ],\n",
       "       [171.92435741,  76.56484197],\n",
       "       [216.63839967,  87.3359974 ],\n",
       "       [266.82599183,  70.32777666],\n",
       "       [222.14794451,  46.33317143],\n",
       "       [150.62308959, -79.01248528],\n",
       "       [  8.14550278, -22.11238172],\n",
       "       [ 52.33079624,  -1.71216468],\n",
       "       [ 83.63381685,  88.07800551],\n",
       "       [ 16.16638334,  85.92734382],\n",
       "       [178.61901554,   4.88888705],\n",
       "       [ 18.18045605,  -8.32417931],\n",
       "       [118.85027634, -53.57750521],\n",
       "       [ 31.90952577,  -1.96517473],\n",
       "       [205.92387599, -44.22145546],\n",
       "       [106.37606614, -22.77682465],\n",
       "       [267.7487418 ,  30.14541726],\n",
       "       [272.47747715,  86.83249642],\n",
       "       [116.51821537, -85.8326314 ],\n",
       "       [223.24843371, -36.33347842],\n",
       "       [247.58826855, -45.77110735],\n",
       "       [260.83602476,  14.36036783],\n",
       "       [327.18475811,  62.57250012],\n",
       "       [ 64.36237368,  38.88377497],\n",
       "       [ 49.00550729,   9.41755898],\n",
       "       [249.64226396, -19.82204825],\n",
       "       [355.85043823, -89.10430451],\n",
       "       [344.96571481,  24.75870517],\n",
       "       [ 66.15146913,  -0.52334697],\n",
       "       [154.87497516,  20.30314403],\n",
       "       [ 61.63635404, -33.26332134],\n",
       "       [136.73916598, -50.47175358],\n",
       "       [231.7763934 ,  29.77881481],\n",
       "       [351.10261306,  69.40790523],\n",
       "       [297.95752825, -68.42640818],\n",
       "       [121.05858292,   3.48121092],\n",
       "       [359.24281934,   8.40065986],\n",
       "       [162.29979715,  49.60761925],\n",
       "       [317.34357548,  87.61904293],\n",
       "       [167.09667001, -49.8438631 ],\n",
       "       [ 83.84296101,  72.37998025],\n",
       "       [356.60549192, -13.24038828],\n",
       "       [ 48.40181213, -49.09301959],\n",
       "       [231.59405625, -65.18835111],\n",
       "       [261.52116476, -89.50736098],\n",
       "       [180.36783722,   1.72121471],\n",
       "       [149.72667264, -74.24399648],\n",
       "       [131.05403246,  73.78784928],\n",
       "       [144.63113321,  33.91291479],\n",
       "       [262.80573881, -60.5902002 ],\n",
       "       [170.4194042 ,  10.42085326],\n",
       "       [166.60149364, -60.48330356],\n",
       "       [114.04175419, -52.7676533 ],\n",
       "       [ 21.94722289, -36.25052689],\n",
       "       [ 98.32376802,  45.63604354],\n",
       "       [ 87.04450465,  -3.42555127],\n",
       "       [  8.51227486, -79.54121607],\n",
       "       [342.06096234, -12.15762325],\n",
       "       [ 19.41364656,  59.8995424 ],\n",
       "       [197.21567978,  32.36772478],\n",
       "       [341.32405511, -77.63276673],\n",
       "       [ 80.12033567, -22.30114274],\n",
       "       [ 20.6822846 , -88.74876061],\n",
       "       [224.88346351,   2.66296778],\n",
       "       [290.38027569, -56.20635806],\n",
       "       [348.13465558, -63.38265351],\n",
       "       [213.27696613,  30.78260679],\n",
       "       [149.24682947, -84.54053893],\n",
       "       [272.44746132, -62.78690585],\n",
       "       [ 42.262644  ,  79.18543065],\n",
       "       [349.04081038, -49.60271416],\n",
       "       [139.0801442 ,  14.48609696],\n",
       "       [ 27.02512862,  10.56705974],\n",
       "       [346.95827504,  27.27743899],\n",
       "       [216.85020576, -22.11091485],\n",
       "       [ 83.14251631, -39.02248987],\n",
       "       [ 54.39100288,   4.11775938],\n",
       "       [  6.89537984,   0.84245754],\n",
       "       [359.10506783,  85.72731671],\n",
       "       [194.30179389,  29.8742387 ],\n",
       "       [350.05593589, -63.15646774],\n",
       "       [186.19980348, -37.04496924],\n",
       "       [ 47.29830444,  38.44088359],\n",
       "       [ 93.63567666, -53.47277986]])"
      ]
     },
     "execution_count": 5,
     "metadata": {},
     "output_type": "execute_result"
    }
   ],
   "source": [
    "rng = np.random.default_rng(413)  # Starts the random number generator with seed=413\n",
    "def random_cat(n):\n",
    "    ra = rng.uniform(0, 360, size=(n, 1))\n",
    "    dec = rng.uniform(-90, 90, size=(n, 1))\n",
    "    return np.hstack((ra, dec))\n",
    "\n",
    "\n",
    "coords1 = random_cat(200)\n",
    "coords2 = random_cat(200)\n",
    "\n",
    "coords1"
   ]
  },
  {
   "cell_type": "markdown",
   "metadata": {
    "id": "r5lEns4gOqnv"
   },
   "source": [
    "2. Use the `astropy` package to crossmatch the BSS and SuperCOSMOS catalogues presented in this lesson. Measure the time needed to complete the crossmatch."
   ]
  },
  {
   "cell_type": "code",
   "execution_count": null,
   "metadata": {},
   "outputs": [],
   "source": []
  }
 ],
 "metadata": {
  "colab": {
   "collapsed_sections": [],
   "name": "04_AstropyCrossmatching.ipynb",
   "provenance": []
  },
  "kernelspec": {
   "display_name": "Python 3 (ipykernel)",
   "language": "python",
   "name": "python3"
  },
  "language_info": {
   "codemirror_mode": {
    "name": "ipython",
    "version": 3
   },
   "file_extension": ".py",
   "mimetype": "text/x-python",
   "name": "python",
   "nbconvert_exporter": "python",
   "pygments_lexer": "ipython3",
   "version": "3.9.7"
  }
 },
 "nbformat": 4,
 "nbformat_minor": 1
}
