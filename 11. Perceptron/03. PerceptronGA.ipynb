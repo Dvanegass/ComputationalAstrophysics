{
 "cells": [
  {
   "cell_type": "markdown",
   "metadata": {},
   "source": [
    "![Astrofisica Computacional](../logo.PNG)"
   ]
  },
  {
   "cell_type": "markdown",
   "metadata": {
    "id": "5soGuirloNgq"
   },
   "source": [
    "---\n",
    "## 01. A Perceptron\n",
    "\n",
    "\n",
    "Eduard Larrañaga (ealarranaga@unal.edu.co)\n",
    "\n",
    "---"
   ]
  },
  {
   "cell_type": "markdown",
   "metadata": {
    "id": "Ff4KTapaoNgx"
   },
   "source": [
    "### Abstract\n",
    "\n",
    "In this notebook we will implement a perceptron algorithm, which incorporates the idea of a linear regression and a activation function to define a classification method.\n",
    "\n",
    "---"
   ]
  },
  {
   "cell_type": "markdown",
   "metadata": {
    "id": "Y85Y_aIb8meo"
   },
   "source": [
    "## The Perceptron Algorithm\n",
    "\n",
    "Introduced by F. Rosenblatt in 1957, a perceptron algorithm tries to model the behavior of a single (artificial) neuron. This algorithm will be modelled as a function that recieves input data, the it wights them and adds a term to present the result through a non-linear function. It will correspond to an algorithm of supervised learning (binary classification).\n",
    "\n",
    "The general behavior and components can be seen in the following figure:\n",
    "\n",
    "\n",
    "<center>\n",
    "<img\n",
    "src=\"https://datascientest.com/wp-content/uploads/2021/03/perceptron-formule.png\"\n",
    ">\n",
    "</center>\n",
    "\n"
   ]
  },
  {
   "cell_type": "markdown",
   "metadata": {},
   "source": [
    "Now we will build a perceptron from scratch. The first step is to define the function that reads the input data, weigths and bias and returns the result of the linear model.\n",
    "\n",
    "As a first model, we will consider a perceptron with one input: $x_1$, one weight: $w_1$ and one bias: $b$ and gives one return: z = $w_1 x_1 + b$."
   ]
  },
  {
   "cell_type": "code",
   "execution_count": 1,
   "metadata": {},
   "outputs": [],
   "source": [
    "import numpy as np\n",
    "import pandas as pd\n"
   ]
  },
  {
   "cell_type": "markdown",
   "metadata": {},
   "source": [
    "This perceptron is just a linear function with a slope $w_1$ and an intercept $b$ defined in the construction. \n",
    "\n",
    "---\n",
    "\n",
    "## A Learning Perceptron\n",
    "\n",
    "The main characteristic we want to give to the perceptron is that it can 'learn' by itself, i.e. based on a dataset with inputs and targets, the perceptron must be able to redefine its weigths and bias. In order to illustrate this idea, we introduce a dataset of temperatures in Celsius and the targets will be the corresponding temperatures in the Fahrenheit scale,"
   ]
  },
  {
   "cell_type": "code",
   "execution_count": 2,
   "metadata": {},
   "outputs": [
    {
     "data": {
      "text/html": [
       "<div>\n",
       "<style scoped>\n",
       "    .dataframe tbody tr th:only-of-type {\n",
       "        vertical-align: middle;\n",
       "    }\n",
       "\n",
       "    .dataframe tbody tr th {\n",
       "        vertical-align: top;\n",
       "    }\n",
       "\n",
       "    .dataframe thead th {\n",
       "        text-align: right;\n",
       "    }\n",
       "</style>\n",
       "<table border=\"1\" class=\"dataframe\">\n",
       "  <thead>\n",
       "    <tr style=\"text-align: right;\">\n",
       "      <th></th>\n",
       "      <th>ºC</th>\n",
       "      <th>ºF</th>\n",
       "    </tr>\n",
       "  </thead>\n",
       "  <tbody>\n",
       "    <tr>\n",
       "      <th>0</th>\n",
       "      <td>-40.0</td>\n",
       "      <td>-40.0</td>\n",
       "    </tr>\n",
       "    <tr>\n",
       "      <th>1</th>\n",
       "      <td>-30.0</td>\n",
       "      <td>-22.0</td>\n",
       "    </tr>\n",
       "    <tr>\n",
       "      <th>2</th>\n",
       "      <td>-10.0</td>\n",
       "      <td>14.0</td>\n",
       "    </tr>\n",
       "    <tr>\n",
       "      <th>3</th>\n",
       "      <td>-5.0</td>\n",
       "      <td>23.0</td>\n",
       "    </tr>\n",
       "    <tr>\n",
       "      <th>4</th>\n",
       "      <td>0.0</td>\n",
       "      <td>32.0</td>\n",
       "    </tr>\n",
       "    <tr>\n",
       "      <th>5</th>\n",
       "      <td>8.0</td>\n",
       "      <td>46.4</td>\n",
       "    </tr>\n",
       "    <tr>\n",
       "      <th>6</th>\n",
       "      <td>15.0</td>\n",
       "      <td>59.0</td>\n",
       "    </tr>\n",
       "    <tr>\n",
       "      <th>7</th>\n",
       "      <td>22.0</td>\n",
       "      <td>71.6</td>\n",
       "    </tr>\n",
       "    <tr>\n",
       "      <th>8</th>\n",
       "      <td>38.0</td>\n",
       "      <td>100.4</td>\n",
       "    </tr>\n",
       "    <tr>\n",
       "      <th>9</th>\n",
       "      <td>50.0</td>\n",
       "      <td>122.0</td>\n",
       "    </tr>\n",
       "  </tbody>\n",
       "</table>\n",
       "</div>"
      ],
      "text/plain": [
       "     ºC     ºF\n",
       "0 -40.0  -40.0\n",
       "1 -30.0  -22.0\n",
       "2 -10.0   14.0\n",
       "3  -5.0   23.0\n",
       "4   0.0   32.0\n",
       "5   8.0   46.4\n",
       "6  15.0   59.0\n",
       "7  22.0   71.6\n",
       "8  38.0  100.4\n",
       "9  50.0  122.0"
      ]
     },
     "execution_count": 2,
     "metadata": {},
     "output_type": "execute_result"
    }
   ],
   "source": [
    "X = np.array([-40., -30., -10., -5., 0., 8., 15., 22., 38., 50.]) # Input data\n",
    "y = np.array([-40. , -22. ,  14. ,  23. ,  32. ,  46.4,  59. ,  71.6, 100.4,\n",
    "       122. ]) #Targets\n",
    "\n",
    "\n",
    "df = pd.DataFrame(X, columns=['ºC'])\n",
    "df['ºF'] = y\n",
    "\n",
    "df"
   ]
  },
  {
   "cell_type": "markdown",
   "metadata": {},
   "source": [
    "We define a new perceptron class with random generated weigths and bias and we will apply it to a dataset to compare the results with the known targets,"
   ]
  },
  {
   "cell_type": "markdown",
   "metadata": {},
   "source": [
    "We will modify the percepton class to include a parameter with the information about how many 'epochs', i.e. repetitions, will be performed."
   ]
  },
  {
   "cell_type": "code",
   "execution_count": 7,
   "metadata": {
    "scrolled": true
   },
   "outputs": [],
   "source": [
    "class perceptron:\n",
    "    def __init__(self):\n",
    "        pass\n",
    "        \n",
    "    def predict(self, x, w, b):\n",
    "        return np.dot(w, x) + b\n",
    "    \n",
    "    def evaluate(self, x, y, w, b):\n",
    "        yp = self.predict(x, w, b)\n",
    "        return sum((yp - y)**2)\n",
    "\n",
    "    \n",
    "p = perceptron()"
   ]
  },
  {
   "cell_type": "code",
   "execution_count": 61,
   "metadata": {},
   "outputs": [],
   "source": [
    "n = 100\n",
    "gen1 = np.zeros([n,3])\n",
    "gen1[:,0:2] = np.random.rand(n,2)*100"
   ]
  },
  {
   "cell_type": "code",
   "execution_count": 62,
   "metadata": {},
   "outputs": [],
   "source": [
    "for i in range(n):\n",
    "    gen1[i,2] = p.evaluate(X, y, gen1[i,0], gen1[i,1])\n"
   ]
  },
  {
   "cell_type": "code",
   "execution_count": 63,
   "metadata": {},
   "outputs": [
    {
     "data": {
      "text/plain": [
       "array([42, 30, 47, 63, 50, 51, 60, 20,  8, 76, 84, 78, 89, 53, 52, 85, 57,\n",
       "       18, 36, 91, 93,  3, 54, 31, 86, 92, 11,  7, 17, 58, 21, 38, 83, 69,\n",
       "       61, 79, 90, 10, 71, 40, 39, 74, 49, 41, 13, 28, 88, 23, 16, 44,  5,\n",
       "       97, 64, 45,  0,  2, 62, 48, 25, 67, 35, 77, 12,  4, 29, 80, 34, 98,\n",
       "       56, 82,  1, 70, 37, 59, 33, 24, 66, 94, 81, 26, 95, 43, 99, 55, 68,\n",
       "       22, 19, 72, 73,  9, 14, 15, 96,  6, 87, 27, 32, 65, 75, 46])"
      ]
     },
     "execution_count": 63,
     "metadata": {},
     "output_type": "execute_result"
    }
   ],
   "source": [
    "sorted_index_array = np.argsort(gen1[:,2])\n",
    "sorted_index_array"
   ]
  },
  {
   "cell_type": "code",
   "execution_count": 64,
   "metadata": {},
   "outputs": [],
   "source": [
    "sorted_array = gen1[sorted_index_array]\n"
   ]
  },
  {
   "cell_type": "code",
   "execution_count": 65,
   "metadata": {},
   "outputs": [
    {
     "data": {
      "text/plain": [
       "array([[1.03967655e+00, 6.48435286e+01, 1.26340396e+04],\n",
       "       [4.58679501e+00, 2.46144335e+01, 5.55892227e+04],\n",
       "       [4.88911835e+00, 4.18117098e+01, 7.39345640e+04],\n",
       "       [5.21330882e+00, 8.77584276e+01, 1.34900084e+05],\n",
       "       [8.96089967e+00, 1.34449874e+01, 3.67173939e+05],\n",
       "       [9.39375015e+00, 4.99793449e+01, 4.39716245e+05],\n",
       "       [9.34815052e+00, 5.99778396e+01, 4.46408304e+05],\n",
       "       [9.86296134e+00, 4.55071735e+01, 4.89592887e+05],\n",
       "       [1.06197353e+01, 9.98731383e+01, 6.74652972e+05],\n",
       "       [1.17818142e+01, 8.23611267e+01, 8.05153219e+05]])"
      ]
     },
     "execution_count": 65,
     "metadata": {},
     "output_type": "execute_result"
    }
   ],
   "source": [
    "sorted_array[:10]"
   ]
  },
  {
   "cell_type": "code",
   "execution_count": 19,
   "metadata": {},
   "outputs": [
    {
     "name": "stdout",
     "output_type": "stream",
     "text": [
      "[[0.62023329 0.59750141]\n",
      " [0.76140629 0.46387765]\n",
      " [0.8446668  0.07267744]\n",
      " [0.0563198  0.68132398]\n",
      " [0.60266844 0.90602847]]\n"
     ]
    },
    {
     "data": {
      "text/html": [
       "<div>\n",
       "<style scoped>\n",
       "    .dataframe tbody tr th:only-of-type {\n",
       "        vertical-align: middle;\n",
       "    }\n",
       "\n",
       "    .dataframe tbody tr th {\n",
       "        vertical-align: top;\n",
       "    }\n",
       "\n",
       "    .dataframe thead th {\n",
       "        text-align: right;\n",
       "    }\n",
       "</style>\n",
       "<table border=\"1\" class=\"dataframe\">\n",
       "  <thead>\n",
       "    <tr style=\"text-align: right;\">\n",
       "      <th></th>\n",
       "      <th>ºC</th>\n",
       "      <th>ºF</th>\n",
       "      <th>yp0</th>\n",
       "      <th>yp1</th>\n",
       "      <th>yp2</th>\n",
       "      <th>yp3</th>\n",
       "      <th>yp4</th>\n",
       "    </tr>\n",
       "  </thead>\n",
       "  <tbody>\n",
       "    <tr>\n",
       "      <th>0</th>\n",
       "      <td>-40.0</td>\n",
       "      <td>-40.0</td>\n",
       "      <td>-24.211830</td>\n",
       "      <td>-29.992374</td>\n",
       "      <td>-33.713995</td>\n",
       "      <td>-1.571468</td>\n",
       "      <td>-23.200709</td>\n",
       "    </tr>\n",
       "    <tr>\n",
       "      <th>1</th>\n",
       "      <td>-30.0</td>\n",
       "      <td>-22.0</td>\n",
       "      <td>-18.009497</td>\n",
       "      <td>-22.378311</td>\n",
       "      <td>-25.267327</td>\n",
       "      <td>-1.008270</td>\n",
       "      <td>-17.174025</td>\n",
       "    </tr>\n",
       "    <tr>\n",
       "      <th>2</th>\n",
       "      <td>-10.0</td>\n",
       "      <td>14.0</td>\n",
       "      <td>-5.604832</td>\n",
       "      <td>-7.150185</td>\n",
       "      <td>-8.373991</td>\n",
       "      <td>0.118126</td>\n",
       "      <td>-5.120656</td>\n",
       "    </tr>\n",
       "    <tr>\n",
       "      <th>3</th>\n",
       "      <td>-5.0</td>\n",
       "      <td>23.0</td>\n",
       "      <td>-2.503665</td>\n",
       "      <td>-3.343154</td>\n",
       "      <td>-4.150657</td>\n",
       "      <td>0.399725</td>\n",
       "      <td>-2.107314</td>\n",
       "    </tr>\n",
       "    <tr>\n",
       "      <th>4</th>\n",
       "      <td>0.0</td>\n",
       "      <td>32.0</td>\n",
       "      <td>0.597501</td>\n",
       "      <td>0.463878</td>\n",
       "      <td>0.072677</td>\n",
       "      <td>0.681324</td>\n",
       "      <td>0.906028</td>\n",
       "    </tr>\n",
       "    <tr>\n",
       "      <th>5</th>\n",
       "      <td>8.0</td>\n",
       "      <td>46.4</td>\n",
       "      <td>5.559368</td>\n",
       "      <td>6.555128</td>\n",
       "      <td>6.830012</td>\n",
       "      <td>1.131882</td>\n",
       "      <td>5.727376</td>\n",
       "    </tr>\n",
       "    <tr>\n",
       "      <th>6</th>\n",
       "      <td>15.0</td>\n",
       "      <td>59.0</td>\n",
       "      <td>9.901001</td>\n",
       "      <td>11.884972</td>\n",
       "      <td>12.742679</td>\n",
       "      <td>1.526121</td>\n",
       "      <td>9.946055</td>\n",
       "    </tr>\n",
       "    <tr>\n",
       "      <th>7</th>\n",
       "      <td>22.0</td>\n",
       "      <td>71.6</td>\n",
       "      <td>14.242634</td>\n",
       "      <td>17.214816</td>\n",
       "      <td>18.655347</td>\n",
       "      <td>1.920360</td>\n",
       "      <td>14.164734</td>\n",
       "    </tr>\n",
       "    <tr>\n",
       "      <th>8</th>\n",
       "      <td>38.0</td>\n",
       "      <td>100.4</td>\n",
       "      <td>24.166366</td>\n",
       "      <td>29.397317</td>\n",
       "      <td>32.170016</td>\n",
       "      <td>2.821476</td>\n",
       "      <td>23.807429</td>\n",
       "    </tr>\n",
       "    <tr>\n",
       "      <th>9</th>\n",
       "      <td>50.0</td>\n",
       "      <td>122.0</td>\n",
       "      <td>31.609166</td>\n",
       "      <td>38.534192</td>\n",
       "      <td>42.306018</td>\n",
       "      <td>3.497314</td>\n",
       "      <td>31.039450</td>\n",
       "    </tr>\n",
       "  </tbody>\n",
       "</table>\n",
       "</div>"
      ],
      "text/plain": [
       "     ºC     ºF        yp0        yp1        yp2       yp3        yp4\n",
       "0 -40.0  -40.0 -24.211830 -29.992374 -33.713995 -1.571468 -23.200709\n",
       "1 -30.0  -22.0 -18.009497 -22.378311 -25.267327 -1.008270 -17.174025\n",
       "2 -10.0   14.0  -5.604832  -7.150185  -8.373991  0.118126  -5.120656\n",
       "3  -5.0   23.0  -2.503665  -3.343154  -4.150657  0.399725  -2.107314\n",
       "4   0.0   32.0   0.597501   0.463878   0.072677  0.681324   0.906028\n",
       "5   8.0   46.4   5.559368   6.555128   6.830012  1.131882   5.727376\n",
       "6  15.0   59.0   9.901001  11.884972  12.742679  1.526121   9.946055\n",
       "7  22.0   71.6  14.242634  17.214816  18.655347  1.920360  14.164734\n",
       "8  38.0  100.4  24.166366  29.397317  32.170016  2.821476  23.807429\n",
       "9  50.0  122.0  31.609166  38.534192  42.306018  3.497314  31.039450"
      ]
     },
     "execution_count": 19,
     "metadata": {},
     "output_type": "execute_result"
    }
   ],
   "source": [
    "\n",
    "\n",
    "df = pd.DataFrame(X, columns=['ºC'])\n",
    "df['ºF'] = y\n",
    "\n",
    "for i in range(len(gen1)):\n",
    "    yp = p.predict(X, gen1[i,0], gen1[i,1])\n",
    "    df['yp'+str(i)] = yp\n",
    "\n",
    "df"
   ]
  },
  {
   "cell_type": "code",
   "execution_count": 17,
   "metadata": {},
   "outputs": [
    {
     "data": {
      "image/png": "[encoded data removed]",
      "text/plain": [
       "<Figure size 432x288 with 1 Axes>"
      ]
     },
     "metadata": {
      "needs_background": "light"
     },
     "output_type": "display_data"
    }
   ],
   "source": [
    "import matplotlib.pyplot as plt\n",
    "\n",
    "plt.figure()\n",
    "plt.plot(history)\n",
    "plt.xlabel('epoch')\n",
    "plt.ylabel('cost function')\n",
    "plt.title('Learning History')\n",
    "plt.show()"
   ]
  },
  {
   "cell_type": "markdown",
   "metadata": {},
   "source": [
    "Increasing the number of epochs, the perceptron will modify its parameters to optimize the output:"
   ]
  },
  {
   "cell_type": "code",
   "execution_count": 18,
   "metadata": {},
   "outputs": [
    {
     "name": "stdout",
     "output_type": "stream",
     "text": [
      "initial cost =  161940.47375841023\n",
      "final cost after 7000 epochs =  1.2475080095100452e-08\n"
     ]
    }
   ],
   "source": [
    "p = perceptron()\n",
    "epochs = 7000\n",
    "history = p.train(X, y, epochs)\n",
    "print('initial cost = ', history[0])\n",
    "print(f'final cost after {epochs:.0f} epochs = ', history[-1])\n"
   ]
  },
  {
   "cell_type": "markdown",
   "metadata": {},
   "source": [
    "The final outputs are equal to the original known targets,"
   ]
  },
  {
   "cell_type": "code",
   "execution_count": 19,
   "metadata": {},
   "outputs": [
    {
     "data": {
      "text/html": [
       "<div>\n",
       "<style scoped>\n",
       "    .dataframe tbody tr th:only-of-type {\n",
       "        vertical-align: middle;\n",
       "    }\n",
       "\n",
       "    .dataframe tbody tr th {\n",
       "        vertical-align: top;\n",
       "    }\n",
       "\n",
       "    .dataframe thead th {\n",
       "        text-align: right;\n",
       "    }\n",
       "</style>\n",
       "<table border=\"1\" class=\"dataframe\">\n",
       "  <thead>\n",
       "    <tr style=\"text-align: right;\">\n",
       "      <th></th>\n",
       "      <th>ºC</th>\n",
       "      <th>ºF</th>\n",
       "      <th>yp</th>\n",
       "    </tr>\n",
       "  </thead>\n",
       "  <tbody>\n",
       "    <tr>\n",
       "      <th>0</th>\n",
       "      <td>-40.0</td>\n",
       "      <td>-40.0</td>\n",
       "      <td>-40.000045</td>\n",
       "    </tr>\n",
       "    <tr>\n",
       "      <th>1</th>\n",
       "      <td>-30.0</td>\n",
       "      <td>-22.0</td>\n",
       "      <td>-22.000043</td>\n",
       "    </tr>\n",
       "    <tr>\n",
       "      <th>2</th>\n",
       "      <td>-10.0</td>\n",
       "      <td>14.0</td>\n",
       "      <td>13.999962</td>\n",
       "    </tr>\n",
       "    <tr>\n",
       "      <th>3</th>\n",
       "      <td>-5.0</td>\n",
       "      <td>23.0</td>\n",
       "      <td>22.999963</td>\n",
       "    </tr>\n",
       "    <tr>\n",
       "      <th>4</th>\n",
       "      <td>0.0</td>\n",
       "      <td>32.0</td>\n",
       "      <td>31.999964</td>\n",
       "    </tr>\n",
       "    <tr>\n",
       "      <th>5</th>\n",
       "      <td>8.0</td>\n",
       "      <td>46.4</td>\n",
       "      <td>46.399966</td>\n",
       "    </tr>\n",
       "    <tr>\n",
       "      <th>6</th>\n",
       "      <td>15.0</td>\n",
       "      <td>59.0</td>\n",
       "      <td>58.999968</td>\n",
       "    </tr>\n",
       "    <tr>\n",
       "      <th>7</th>\n",
       "      <td>22.0</td>\n",
       "      <td>71.6</td>\n",
       "      <td>71.599969</td>\n",
       "    </tr>\n",
       "    <tr>\n",
       "      <th>8</th>\n",
       "      <td>38.0</td>\n",
       "      <td>100.4</td>\n",
       "      <td>100.399973</td>\n",
       "    </tr>\n",
       "    <tr>\n",
       "      <th>9</th>\n",
       "      <td>50.0</td>\n",
       "      <td>122.0</td>\n",
       "      <td>121.999976</td>\n",
       "    </tr>\n",
       "  </tbody>\n",
       "</table>\n",
       "</div>"
      ],
      "text/plain": [
       "     ºC     ºF          yp\n",
       "0 -40.0  -40.0  -40.000045\n",
       "1 -30.0  -22.0  -22.000043\n",
       "2 -10.0   14.0   13.999962\n",
       "3  -5.0   23.0   22.999963\n",
       "4   0.0   32.0   31.999964\n",
       "5   8.0   46.4   46.399966\n",
       "6  15.0   59.0   58.999968\n",
       "7  22.0   71.6   71.599969\n",
       "8  38.0  100.4  100.399973\n",
       "9  50.0  122.0  121.999976"
      ]
     },
     "execution_count": 19,
     "metadata": {},
     "output_type": "execute_result"
    }
   ],
   "source": [
    "yp = p.predict(X)\n",
    "\n",
    "df = pd.DataFrame(X, columns=['ºC'])\n",
    "df['ºF'] = y\n",
    "df['yp'] = yp\n",
    "\n",
    "df"
   ]
  },
  {
   "cell_type": "markdown",
   "metadata": {},
   "source": [
    "The trained perceptron has the parameters"
   ]
  },
  {
   "cell_type": "code",
   "execution_count": 20,
   "metadata": {},
   "outputs": [
    {
     "name": "stdout",
     "output_type": "stream",
     "text": [
      "w =  1.8000002344786092\n",
      "b =  31.99996418186047\n"
     ]
    }
   ],
   "source": [
    "print('w = ', p.w)\n",
    "print('b = ', p.bias)"
   ]
  },
  {
   "cell_type": "markdown",
   "metadata": {},
   "source": [
    "Since $\\frac{9}{5} = 1.8$, we conclude that the trained perceptron equation\n",
    "\n",
    "\\begin{equation}\n",
    "y_p = wx+b = 1.8x + 32 \n",
    "\\end{equation}\n",
    "\n",
    "shows that the algorithm 'learned' by itself the well known relation between Celcius and Fahrenheit temperatures,\n",
    "\n",
    "\\begin{equation}\n",
    "ºF = \\frac{9}{5} ºC + 32 \n",
    "\\end{equation}"
   ]
  },
  {
   "cell_type": "markdown",
   "metadata": {
    "id": "cn0RkhCyHfEO"
   },
   "source": [
    "---\n",
    "## A classification Perceptron with multiple inputs\n",
    "\n",
    "Now we will return to a simple perceptron including two inputs: $x_1$ and $x_2$, two weights: $w_1$ and $w_0$ and one bias: $b$ and giving one return: z = $w_1 x_1 + w_2 x_2 + b$."
   ]
  },
  {
   "cell_type": "code",
   "execution_count": 21,
   "metadata": {
    "executionInfo": {
     "elapsed": 490,
     "status": "ok",
     "timestamp": 1618169052495,
     "user": {
      "displayName": "Eduard Alexis Larranaga",
      "photoUrl": "https://lh3.googleusercontent.com/a-/AOh14GgCVABzEgj-rCdyxWa29RnA0kIYUCXAaVbnRYOEhQ=s64",
      "userId": "04402438389940282602"
     },
     "user_tz": 300
    },
    "id": "z2_uSWSg5VRk"
   },
   "outputs": [
    {
     "data": {
      "text/plain": [
       "7.0"
      ]
     },
     "execution_count": 21,
     "metadata": {},
     "output_type": "execute_result"
    }
   ],
   "source": [
    "import numpy as np\n",
    "\n",
    "class perceptronC:\n",
    "    def __init__(self):\n",
    "        self.w = np.array([-2., 5.])\n",
    "        self.bias = 2.\n",
    "        \n",
    "    def predict(self,x):\n",
    "        self.x = x\n",
    "        return np.dot(self.w,self.x) + self.bias\n",
    "\n",
    "    \n",
    "x = np.array([0., 1.])\n",
    "\n",
    "p = perceptronC()\n",
    "p.predict(x)"
   ]
  },
  {
   "cell_type": "markdown",
   "metadata": {},
   "source": [
    "In order to transform this perceptron into a classifier, we will incorporate an 'activation function'. For example, we may consider a step function,\n",
    "\n",
    "\\begin{equation}\n",
    "f_A(z) = \\begin{cases}\n",
    "0 \\text{ if } z\\leq 0 \\\\\n",
    "1 \\text{ if } z> 0\n",
    "\\end{cases}\n",
    "\\end{equation}\n",
    "\n",
    "which classifies the outputs into two possibilities: 0 and 1."
   ]
  },
  {
   "cell_type": "code",
   "execution_count": 22,
   "metadata": {
    "colab": {
     "base_uri": "https://localhost:8080/"
    },
    "executionInfo": {
     "elapsed": 401,
     "status": "ok",
     "timestamp": 1618169168563,
     "user": {
      "displayName": "Eduard Alexis Larranaga",
      "photoUrl": "https://lh3.googleusercontent.com/a-/AOh14GgCVABzEgj-rCdyxWa29RnA0kIYUCXAaVbnRYOEhQ=s64",
      "userId": "04402438389940282602"
     },
     "user_tz": 300
    },
    "id": "YViL7KzKZUOP",
    "outputId": "e67453e6-0d57-4fde-c732-18b4bd965988"
   },
   "outputs": [
    {
     "data": {
      "text/plain": [
       "1"
      ]
     },
     "execution_count": 22,
     "metadata": {},
     "output_type": "execute_result"
    }
   ],
   "source": [
    "class perceptronC:\n",
    "    def __init__(self):\n",
    "        self.w = np.array([-2., 5.])\n",
    "        self.bias = 2.\n",
    "        \n",
    "    def predict(self,x):\n",
    "        self.x = x\n",
    "        z = np.dot(self.w,self.x) + self.bias\n",
    "        return self.fA(z)\n",
    "    \n",
    "    def fA(self,z):\n",
    "        '''\n",
    "        Activation Function\n",
    "        '''\n",
    "        if z<=0:\n",
    "            return 0\n",
    "        else:\n",
    "            return 1\n",
    "\n",
    "        \n",
    "x = np.array([2., 5.])\n",
    "p = perceptronC()\n",
    "p.predict(x)"
   ]
  },
  {
   "cell_type": "code",
   "execution_count": 23,
   "metadata": {},
   "outputs": [
    {
     "data": {
      "text/plain": [
       "0"
      ]
     },
     "execution_count": 23,
     "metadata": {},
     "output_type": "execute_result"
    }
   ],
   "source": [
    "x = np.array([5., 1.])\n",
    "perceptronC().predict(x)"
   ]
  },
  {
   "cell_type": "markdown",
   "metadata": {
    "id": "C7pkVeizIyj5"
   },
   "source": [
    "Now we can apply this perceptron to many input data,"
   ]
  },
  {
   "cell_type": "code",
   "execution_count": 24,
   "metadata": {
    "colab": {
     "base_uri": "https://localhost:8080/"
    },
    "executionInfo": {
     "elapsed": 552,
     "status": "ok",
     "timestamp": 1618169172215,
     "user": {
      "displayName": "Eduard Alexis Larranaga",
      "photoUrl": "https://lh3.googleusercontent.com/a-/AOh14GgCVABzEgj-rCdyxWa29RnA0kIYUCXAaVbnRYOEhQ=s64",
      "userId": "04402438389940282602"
     },
     "user_tz": 300
    },
    "id": "9ADX6gPTKed5",
    "outputId": "c460d496-f683-4c9a-da23-36104007305a"
   },
   "outputs": [],
   "source": [
    "data = np.array([[0., 1.],\n",
    "                [5., 1.],\n",
    "                [3., 4.],\n",
    "                [10., 3.5],\n",
    "                [6., 4.],\n",
    "                [4., 2.]])\n",
    "\n",
    "yp = np.zeros(len(data))\n",
    "\n",
    "p = perceptronC()\n",
    "\n",
    "for i in range(len(data)):\n",
    "    yp[i] = p.predict(data[i])"
   ]
  },
  {
   "cell_type": "markdown",
   "metadata": {},
   "source": [
    "and we can show the results as a table,"
   ]
  },
  {
   "cell_type": "code",
   "execution_count": 26,
   "metadata": {
    "colab": {
     "base_uri": "https://localhost:8080/"
    },
    "executionInfo": {
     "elapsed": 717,
     "status": "ok",
     "timestamp": 1618169175171,
     "user": {
      "displayName": "Eduard Alexis Larranaga",
      "photoUrl": "https://lh3.googleusercontent.com/a-/AOh14GgCVABzEgj-rCdyxWa29RnA0kIYUCXAaVbnRYOEhQ=s64",
      "userId": "04402438389940282602"
     },
     "user_tz": 300
    },
    "id": "0s-hSuTvKh6h",
    "outputId": "873526a4-41f7-44af-b02f-8c3b8fafc3f3"
   },
   "outputs": [
    {
     "data": {
      "text/html": [
       "<div>\n",
       "<style scoped>\n",
       "    .dataframe tbody tr th:only-of-type {\n",
       "        vertical-align: middle;\n",
       "    }\n",
       "\n",
       "    .dataframe tbody tr th {\n",
       "        vertical-align: top;\n",
       "    }\n",
       "\n",
       "    .dataframe thead th {\n",
       "        text-align: right;\n",
       "    }\n",
       "</style>\n",
       "<table border=\"1\" class=\"dataframe\">\n",
       "  <thead>\n",
       "    <tr style=\"text-align: right;\">\n",
       "      <th></th>\n",
       "      <th>x1</th>\n",
       "      <th>x2</th>\n",
       "      <th>yp</th>\n",
       "    </tr>\n",
       "  </thead>\n",
       "  <tbody>\n",
       "    <tr>\n",
       "      <th>0</th>\n",
       "      <td>0.0</td>\n",
       "      <td>1.0</td>\n",
       "      <td>1.0</td>\n",
       "    </tr>\n",
       "    <tr>\n",
       "      <th>1</th>\n",
       "      <td>5.0</td>\n",
       "      <td>1.0</td>\n",
       "      <td>0.0</td>\n",
       "    </tr>\n",
       "    <tr>\n",
       "      <th>2</th>\n",
       "      <td>3.0</td>\n",
       "      <td>4.0</td>\n",
       "      <td>1.0</td>\n",
       "    </tr>\n",
       "    <tr>\n",
       "      <th>3</th>\n",
       "      <td>10.0</td>\n",
       "      <td>3.5</td>\n",
       "      <td>0.0</td>\n",
       "    </tr>\n",
       "    <tr>\n",
       "      <th>4</th>\n",
       "      <td>6.0</td>\n",
       "      <td>4.0</td>\n",
       "      <td>1.0</td>\n",
       "    </tr>\n",
       "    <tr>\n",
       "      <th>5</th>\n",
       "      <td>4.0</td>\n",
       "      <td>2.0</td>\n",
       "      <td>1.0</td>\n",
       "    </tr>\n",
       "  </tbody>\n",
       "</table>\n",
       "</div>"
      ],
      "text/plain": [
       "     x1   x2   yp\n",
       "0   0.0  1.0  1.0\n",
       "1   5.0  1.0  0.0\n",
       "2   3.0  4.0  1.0\n",
       "3  10.0  3.5  0.0\n",
       "4   6.0  4.0  1.0\n",
       "5   4.0  2.0  1.0"
      ]
     },
     "execution_count": 26,
     "metadata": {},
     "output_type": "execute_result"
    }
   ],
   "source": [
    "df = pd.DataFrame(data, columns=['x1','x2'])\n",
    "df['yp'] = yp\n",
    "\n",
    "df"
   ]
  },
  {
   "cell_type": "markdown",
   "metadata": {},
   "source": [
    "---\n",
    "\n",
    "Lets define a perceptron with the following values:\n",
    "\n",
    "- $w_1 = -2$\n",
    "- $w_2 = -2$\n",
    "- $b = 3$\n",
    "\n",
    "Hence the result of the linear function is $z = -2 x_1 -2 x_2 +3$. In a plane with axes $(x_1,x_2)$ we have the following straight line:\n"
   ]
  },
  {
   "cell_type": "code",
   "execution_count": 27,
   "metadata": {},
   "outputs": [
    {
     "data": {
      "image/png": "[encoded data removed]",
      "text/plain": [
       "<Figure size 720x504 with 1 Axes>"
      ]
     },
     "metadata": {
      "needs_background": "light"
     },
     "output_type": "display_data"
    }
   ],
   "source": [
    "import matplotlib.pyplot as plt\n",
    "\n",
    "class perceptronC:\n",
    "    def __init__(self):\n",
    "        self.w = np.array([-2., -2.])\n",
    "        self.bias = 3.\n",
    "        \n",
    "    def predict(self,x):\n",
    "        self.x = x\n",
    "        z = np.dot(self.w,self.x) + self.bias\n",
    "        return self.fA(z)\n",
    "    \n",
    "    def fA(self,z):\n",
    "        '''\n",
    "        Activation Function\n",
    "        '''\n",
    "        if z<=0:\n",
    "            return 0\n",
    "        else:\n",
    "            return 1\n",
    "\n",
    "\n",
    "p = perceptronC()\n",
    "\n",
    "x1 = np.arange(-5,6)\n",
    "np.random.seed(413)\n",
    "points = -5 + np.random.rand(50,2)*10\n",
    "\n",
    "def sl(x1):\n",
    "    '''\n",
    "    Straight line equation\n",
    "    '''\n",
    "    return -x1 + 3/2 \n",
    "\n",
    "\n",
    "\n",
    "plt.figure(figsize=(10,7))\n",
    "plt.axhline(0, color='black')\n",
    "plt.axvline(0, color='black')\n",
    "plt.plot(x1, sl(x1), color='crimson')\n",
    "for i in range(len(points)):\n",
    "    if points[i,1]>sl(points[i,0]):\n",
    "        plt.scatter(points[i,0], points[i,1], marker='*', color='black', s=50)\n",
    "    else:\n",
    "        plt.scatter(points[i,0], points[i,1], marker='o', color='blue')\n",
    "\n",
    "plt.xlabel(r'$x_1$')\n",
    "plt.ylabel(r'$x_2$')\n",
    "plt.grid()\n",
    "plt.show()"
   ]
  },
  {
   "cell_type": "markdown",
   "metadata": {},
   "source": [
    "In this plot is easy to show the result of the applying the activation function. Any point above the straight line (black stars) corresponds to a final result of $1$ while any point below the straight line (blue dots) corresponds to a final result of 0 in the binary classifier."
   ]
  },
  {
   "cell_type": "markdown",
   "metadata": {
    "id": "bbhQoywPKrqX"
   },
   "source": [
    "## NAND Logic Gate\n",
    "\n",
    "Consider a particular case in which the inputs ($x_1$ and $x_2$) are binary values (i.e. $0$ or $1$). The allowed points in the $(x_1,x_2)$ plane are represented as"
   ]
  },
  {
   "cell_type": "code",
   "execution_count": 28,
   "metadata": {
    "colab": {
     "base_uri": "https://localhost:8080/"
    },
    "executionInfo": {
     "elapsed": 450,
     "status": "ok",
     "timestamp": 1618169181183,
     "user": {
      "displayName": "Eduard Alexis Larranaga",
      "photoUrl": "https://lh3.googleusercontent.com/a-/AOh14GgCVABzEgj-rCdyxWa29RnA0kIYUCXAaVbnRYOEhQ=s64",
      "userId": "04402438389940282602"
     },
     "user_tz": 300
    },
    "id": "RjLaP4_uKX5o",
    "outputId": "08495961-1398-43a6-8f32-62238a095f0d"
   },
   "outputs": [
    {
     "data": {
      "image/png": "[encoded data removed]",
      "text/plain": [
       "<Figure size 720x504 with 1 Axes>"
      ]
     },
     "metadata": {
      "needs_background": "light"
     },
     "output_type": "display_data"
    }
   ],
   "source": [
    "x1 = np.arange(-2,3)\n",
    "\n",
    "\n",
    "def sl(x1):\n",
    "    return -x1 + 3/2 \n",
    "\n",
    "points = np.array([[0,0],\n",
    "                  [0,1],\n",
    "                  [1,0],\n",
    "                  [1,1]])\n",
    "\n",
    "\n",
    "plt.figure(figsize=(10,7))\n",
    "plt.axhline(0, color='black', alpha=0.5)\n",
    "plt.axvline(0, color='black', alpha=0.5)\n",
    "plt.plot(x1, sl(x1), color='crimson')\n",
    "for i in range(len(points)):\n",
    "    if points[i,1]>sl(points[i,0]):\n",
    "        plt.scatter(points[i,0], points[i,1], marker='*', color='black', s=200)\n",
    "    else:\n",
    "        plt.scatter(points[i,0], points[i,1], marker='o', color='blue', s=100)\n",
    "\n",
    "plt.xlabel(r'$x_1$')\n",
    "plt.ylabel(r'$x_2$')\n",
    "plt.grid()\n",
    "plt.show()"
   ]
  },
  {
   "cell_type": "markdown",
   "metadata": {},
   "source": [
    "This plot shows immediately the results of applying the perceptron to these datapoints,"
   ]
  },
  {
   "cell_type": "code",
   "execution_count": 29,
   "metadata": {
    "colab": {
     "base_uri": "https://localhost:8080/"
    },
    "executionInfo": {
     "elapsed": 443,
     "status": "ok",
     "timestamp": 1618169183409,
     "user": {
      "displayName": "Eduard Alexis Larranaga",
      "photoUrl": "https://lh3.googleusercontent.com/a-/AOh14GgCVABzEgj-rCdyxWa29RnA0kIYUCXAaVbnRYOEhQ=s64",
      "userId": "04402438389940282602"
     },
     "user_tz": 300
    },
    "id": "lQePgwUbKul3",
    "outputId": "8117d680-1ef4-4dad-a55d-0442489024d0"
   },
   "outputs": [
    {
     "data": {
      "text/html": [
       "<div>\n",
       "<style scoped>\n",
       "    .dataframe tbody tr th:only-of-type {\n",
       "        vertical-align: middle;\n",
       "    }\n",
       "\n",
       "    .dataframe tbody tr th {\n",
       "        vertical-align: top;\n",
       "    }\n",
       "\n",
       "    .dataframe thead th {\n",
       "        text-align: right;\n",
       "    }\n",
       "</style>\n",
       "<table border=\"1\" class=\"dataframe\">\n",
       "  <thead>\n",
       "    <tr style=\"text-align: right;\">\n",
       "      <th></th>\n",
       "      <th>x1</th>\n",
       "      <th>x2</th>\n",
       "      <th>yp</th>\n",
       "    </tr>\n",
       "  </thead>\n",
       "  <tbody>\n",
       "    <tr>\n",
       "      <th>0</th>\n",
       "      <td>0</td>\n",
       "      <td>0</td>\n",
       "      <td>1.0</td>\n",
       "    </tr>\n",
       "    <tr>\n",
       "      <th>1</th>\n",
       "      <td>0</td>\n",
       "      <td>1</td>\n",
       "      <td>1.0</td>\n",
       "    </tr>\n",
       "    <tr>\n",
       "      <th>2</th>\n",
       "      <td>1</td>\n",
       "      <td>0</td>\n",
       "      <td>1.0</td>\n",
       "    </tr>\n",
       "    <tr>\n",
       "      <th>3</th>\n",
       "      <td>1</td>\n",
       "      <td>1</td>\n",
       "      <td>0.0</td>\n",
       "    </tr>\n",
       "  </tbody>\n",
       "</table>\n",
       "</div>"
      ],
      "text/plain": [
       "   x1  x2   yp\n",
       "0   0   0  1.0\n",
       "1   0   1  1.0\n",
       "2   1   0  1.0\n",
       "3   1   1  0.0"
      ]
     },
     "execution_count": 29,
     "metadata": {},
     "output_type": "execute_result"
    }
   ],
   "source": [
    "\n",
    "class perceptronC:\n",
    "    def __init__(self):\n",
    "        self.w = np.array([-2., -2.])\n",
    "        self.bias = 3.\n",
    "        \n",
    "    def predict(self,x):\n",
    "        self.x = x\n",
    "        z = np.dot(self.w,self.x) + self.bias\n",
    "        return self.fA(z)\n",
    "    \n",
    "    def fA(self,z):\n",
    "        '''\n",
    "        Activation Function\n",
    "        '''\n",
    "        if z<=0:\n",
    "            return 0\n",
    "        else:\n",
    "            return 1\n",
    "\n",
    "\n",
    "p = perceptronC()\n",
    "\n",
    "\n",
    "points = np.array([[0,0],\n",
    "                  [0,1],\n",
    "                  [1,0],\n",
    "                  [1,1]])\n",
    "\n",
    "yp = np.zeros(len(points))\n",
    "\n",
    "for i in range(len(points)):\n",
    "    yp[i] = p.predict(points[i])\n",
    "    \n",
    "df = pd.DataFrame(points, columns=['x1','x2'])\n",
    "df['yp'] = yp\n",
    "\n",
    "df    "
   ]
  },
  {
   "cell_type": "markdown",
   "metadata": {
    "id": "ca9ZEeaNK8Vh"
   },
   "source": [
    "These results shows that this particualr perceptron reproduces the result of a NAND GATE !!\n",
    "\n",
    "**Since all logical gates can be obtained using only NAND gates, we can use perceptrons to implement a model of any digital circuit!!**\n",
    "\n",
    "<img src=\"https://www.electronics-tutorials.ws/wp-content/uploads/2019/09/log80.gif\" >\n"
   ]
  },
  {
   "cell_type": "markdown",
   "metadata": {},
   "source": [
    "We can define the NAND Gate perceptron in a compact form as "
   ]
  },
  {
   "cell_type": "code",
   "execution_count": 30,
   "metadata": {
    "colab": {
     "base_uri": "https://localhost:8080/"
    },
    "executionInfo": {
     "elapsed": 404,
     "status": "ok",
     "timestamp": 1618169186722,
     "user": {
      "displayName": "Eduard Alexis Larranaga",
      "photoUrl": "https://lh3.googleusercontent.com/a-/AOh14GgCVABzEgj-rCdyxWa29RnA0kIYUCXAaVbnRYOEhQ=s64",
      "userId": "04402438389940282602"
     },
     "user_tz": 300
    },
    "id": "8JHyXtPlK6Hs",
    "outputId": "d0a8bc4d-5e63-4226-9770-ad617c9851e3"
   },
   "outputs": [
    {
     "data": {
      "text/html": [
       "<div>\n",
       "<style scoped>\n",
       "    .dataframe tbody tr th:only-of-type {\n",
       "        vertical-align: middle;\n",
       "    }\n",
       "\n",
       "    .dataframe tbody tr th {\n",
       "        vertical-align: top;\n",
       "    }\n",
       "\n",
       "    .dataframe thead th {\n",
       "        text-align: right;\n",
       "    }\n",
       "</style>\n",
       "<table border=\"1\" class=\"dataframe\">\n",
       "  <thead>\n",
       "    <tr style=\"text-align: right;\">\n",
       "      <th></th>\n",
       "      <th>x1</th>\n",
       "      <th>x2</th>\n",
       "      <th>y</th>\n",
       "    </tr>\n",
       "  </thead>\n",
       "  <tbody>\n",
       "    <tr>\n",
       "      <th>0</th>\n",
       "      <td>0</td>\n",
       "      <td>0</td>\n",
       "      <td>1</td>\n",
       "    </tr>\n",
       "    <tr>\n",
       "      <th>1</th>\n",
       "      <td>0</td>\n",
       "      <td>1</td>\n",
       "      <td>1</td>\n",
       "    </tr>\n",
       "    <tr>\n",
       "      <th>2</th>\n",
       "      <td>1</td>\n",
       "      <td>0</td>\n",
       "      <td>1</td>\n",
       "    </tr>\n",
       "    <tr>\n",
       "      <th>3</th>\n",
       "      <td>1</td>\n",
       "      <td>1</td>\n",
       "      <td>0</td>\n",
       "    </tr>\n",
       "  </tbody>\n",
       "</table>\n",
       "</div>"
      ],
      "text/plain": [
       "   x1  x2  y\n",
       "0   0   0  1\n",
       "1   0   1  1\n",
       "2   1   0  1\n",
       "3   1   1  0"
      ]
     },
     "execution_count": 30,
     "metadata": {},
     "output_type": "execute_result"
    }
   ],
   "source": [
    "class NAND:\n",
    "    def __init__(self):\n",
    "        self.w = np.array([-2., -2.])\n",
    "        self.bias = 3.\n",
    "        \n",
    "    def predict(self,x):\n",
    "        self.x = x\n",
    "        z = np.dot(self.w,self.x) + self.bias\n",
    "        return self.fA(z)\n",
    "    \n",
    "    def fA(self,z):\n",
    "        '''\n",
    "        Activation Function\n",
    "        '''\n",
    "        if z<=0:\n",
    "            return 0\n",
    "        else:\n",
    "            return 1\n",
    "\n",
    "\n",
    "p = NAND()\n",
    "\n",
    "\n",
    "    \n",
    "points = np.array([[0,0,0],\n",
    "                  [0,1,0],\n",
    "                  [1,0,0],\n",
    "                  [1,1,0]])\n",
    "    \n",
    "for i in range(len(points)):\n",
    "    points[i,2] = p.predict([points[i,0],points[i,1]])\n",
    "    \n",
    "df = pd.DataFrame(points, columns=['x1','x2','y'])\n",
    "\n",
    "df  "
   ]
  },
  {
   "cell_type": "markdown",
   "metadata": {
    "id": "a_KhynSxkAyL"
   },
   "source": [
    "Now we can easily implement an OR GATE:"
   ]
  },
  {
   "cell_type": "code",
   "execution_count": 31,
   "metadata": {
    "colab": {
     "base_uri": "https://localhost:8080/",
     "height": 606
    },
    "executionInfo": {
     "elapsed": 1259,
     "status": "ok",
     "timestamp": 1618169641282,
     "user": {
      "displayName": "Eduard Alexis Larranaga",
      "photoUrl": "https://lh3.googleusercontent.com/a-/AOh14GgCVABzEgj-rCdyxWa29RnA0kIYUCXAaVbnRYOEhQ=s64",
      "userId": "04402438389940282602"
     },
     "user_tz": 300
    },
    "id": "sVW91-yXmO6s",
    "outputId": "20034470-3fb0-4b25-80ae-ee487846e2c4"
   },
   "outputs": [
    {
     "data": {
      "text/html": [
       "<div>\n",
       "<style scoped>\n",
       "    .dataframe tbody tr th:only-of-type {\n",
       "        vertical-align: middle;\n",
       "    }\n",
       "\n",
       "    .dataframe tbody tr th {\n",
       "        vertical-align: top;\n",
       "    }\n",
       "\n",
       "    .dataframe thead th {\n",
       "        text-align: right;\n",
       "    }\n",
       "</style>\n",
       "<table border=\"1\" class=\"dataframe\">\n",
       "  <thead>\n",
       "    <tr style=\"text-align: right;\">\n",
       "      <th></th>\n",
       "      <th>x1</th>\n",
       "      <th>x2</th>\n",
       "      <th>y</th>\n",
       "    </tr>\n",
       "  </thead>\n",
       "  <tbody>\n",
       "    <tr>\n",
       "      <th>0</th>\n",
       "      <td>0</td>\n",
       "      <td>0</td>\n",
       "      <td>0</td>\n",
       "    </tr>\n",
       "    <tr>\n",
       "      <th>1</th>\n",
       "      <td>0</td>\n",
       "      <td>1</td>\n",
       "      <td>1</td>\n",
       "    </tr>\n",
       "    <tr>\n",
       "      <th>2</th>\n",
       "      <td>1</td>\n",
       "      <td>0</td>\n",
       "      <td>1</td>\n",
       "    </tr>\n",
       "    <tr>\n",
       "      <th>3</th>\n",
       "      <td>1</td>\n",
       "      <td>1</td>\n",
       "      <td>1</td>\n",
       "    </tr>\n",
       "  </tbody>\n",
       "</table>\n",
       "</div>"
      ],
      "text/plain": [
       "   x1  x2  y\n",
       "0   0   0  0\n",
       "1   0   1  1\n",
       "2   1   0  1\n",
       "3   1   1  1"
      ]
     },
     "execution_count": 31,
     "metadata": {},
     "output_type": "execute_result"
    }
   ],
   "source": [
    "def ORGate(x1,x2):\n",
    "    p = NAND()\n",
    "    y1 = p.predict([x1,x1])\n",
    "    y2 = p.predict([x2,x2])\n",
    "    z = p.predict([y1,y2])\n",
    "    return z\n",
    "\n",
    "points = np.array([[0,0,0],\n",
    "                  [0,1,0],\n",
    "                  [1,0,0],\n",
    "                  [1,1,0]])\n",
    "    \n",
    "for i in range(len(points)):\n",
    "    points[i,2] = ORGate(points[i,0],points[i,1])\n",
    "    \n",
    "df = pd.DataFrame(points, columns=['x1','x2','y'])\n",
    "\n",
    "df  "
   ]
  },
  {
   "cell_type": "code",
   "execution_count": null,
   "metadata": {},
   "outputs": [],
   "source": []
  }
 ],
 "metadata": {
  "@webio": {
   "lastCommId": null,
   "lastKernelId": null
  },
  "colab": {
   "collapsed_sections": [],
   "name": "01. Decision Trees.ipynb",
   "provenance": []
  },
  "kernelspec": {
   "display_name": "Python 3 (ipykernel)",
   "language": "python",
   "name": "python3"
  },
  "language_info": {
   "codemirror_mode": {
    "name": "ipython",
    "version": 3
   },
   "file_extension": ".py",
   "mimetype": "text/x-python",
   "name": "python",
   "nbconvert_exporter": "python",
   "pygments_lexer": "ipython3",
   "version": "3.9.5"
  }
 },
 "nbformat": 4,
 "nbformat_minor": 1
}
