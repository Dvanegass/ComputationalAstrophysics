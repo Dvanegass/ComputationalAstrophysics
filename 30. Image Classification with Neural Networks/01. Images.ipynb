{
 "cells": [
  {
   "cell_type": "markdown",
   "metadata": {},
   "source": [
    "![Astrofisica Computacional](../logo.PNG)"
   ]
  },
  {
   "cell_type": "markdown",
   "metadata": {
    "id": "5soGuirloNgq"
   },
   "source": [
    "---\n",
    "## 01. Images\n",
    "\n",
    "\n",
    "Eduard Larrañaga (ealarranaga@unal.edu.co)\n",
    "\n",
    "---"
   ]
  },
  {
   "cell_type": "markdown",
   "metadata": {
    "id": "Ff4KTapaoNgx"
   },
   "source": [
    "### Abstract\n",
    "\n",
    "In this notebook we will implement a perceptron algorithm, which incorporates the idea of a linear regression and a activation function to define a classification method.\n",
    "\n",
    "---"
   ]
  },
  {
   "cell_type": "code",
   "execution_count": 4,
   "metadata": {},
   "outputs": [],
   "source": [
    "import numpy as np\n",
    "import matplotlib.pyplot as plt\n",
    "\n",
    "\n",
    "def genImg():\n",
    "    fuz = 0.5\n",
    "    image_data = np.zeros([28,28])\n",
    "    N = np.random.randint(6)\n",
    "    for i in range(N):\n",
    "        x,y = np.random.randint(28, size=2)\n",
    "        image_data[x,y] = 1\n",
    "        if x-1>=0:\n",
    "            image_data[x-1,y] = np.random.rand()*fuz\n",
    "            if y-1>=0:\n",
    "                image_data[x-1,y-1] = np.random.rand()*fuz\n",
    "                image_data[x,y-1] = np.random.rand()*fuz\n",
    "            if y+1<28:\n",
    "                image_data[x-1,y+1] = np.random.rand()*fuz\n",
    "                image_data[x,y+1] = np.random.rand()*fuz\n",
    "        if x+1<28:\n",
    "            image_data[x+1,y] = np.random.rand()*fuz\n",
    "            if y-1>=0:\n",
    "                image_data[x+1,y-1] = np.random.rand()*fuz\n",
    "            if y+1<28:\n",
    "                image_data[x+1,y+1] = np.random.rand()*fuz\n",
    "    return image_data, N\n",
    "\n",
    "samples = 1000\n",
    "data = np.zeros([samples,28,28])\n",
    "targets = np.zeros(samples, dtype=int)\n",
    "for j in range(samples):\n",
    "    data[j], targets[j] = genImg()\n",
    "\n",
    "np.save(\"data.npy\", data)\n",
    "np.save(\"targets.npy\", targets)"
   ]
  },
  {
   "cell_type": "markdown",
   "metadata": {},
   "source": [
    "We can apply this perceptron to many samples to obtain the corresponding results,"
   ]
  },
  {
   "cell_type": "code",
   "execution_count": 2,
   "metadata": {},
   "outputs": [
    {
     "name": "stdout",
     "output_type": "stream",
     "text": [
      "4\n"
     ]
    },
    {
     "data": {
      "image/png": "[encoded data removed]",
      "text/plain": [
       "<Figure size 144x144 with 1 Axes>"
      ]
     },
     "metadata": {
      "needs_background": "light"
     },
     "output_type": "display_data"
    }
   ],
   "source": [
    "datos = np.load(\"data.npy\")\n",
    "tar = np.load(\"targets.npy\")\n",
    "\n",
    "for i in range(len(tar)):\n",
    "    print(tar[i])\n",
    "    plt.figure(figsize=(2,2))\n",
    "    plt.imshow(datos[i], cmap='gray')\n",
    "    plt.show()"
   ]
  },
  {
   "cell_type": "code",
   "execution_count": null,
   "metadata": {},
   "outputs": [],
   "source": []
  }
 ],
 "metadata": {
  "@webio": {
   "lastCommId": null,
   "lastKernelId": null
  },
  "colab": {
   "collapsed_sections": [],
   "name": "01. Decision Trees.ipynb",
   "provenance": []
  },
  "kernelspec": {
   "display_name": "Python 3 (ipykernel)",
   "language": "python",
   "name": "python3"
  },
  "language_info": {
   "codemirror_mode": {
    "name": "ipython",
    "version": 3
   },
   "file_extension": ".py",
   "mimetype": "text/x-python",
   "name": "python",
   "nbconvert_exporter": "python",
   "pygments_lexer": "ipython3",
   "version": "3.9.5"
  }
 },
 "nbformat": 4,
 "nbformat_minor": 1
}
