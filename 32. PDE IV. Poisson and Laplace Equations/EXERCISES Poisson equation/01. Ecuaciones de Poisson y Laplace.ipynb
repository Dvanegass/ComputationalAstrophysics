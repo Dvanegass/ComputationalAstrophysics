{
 "cells": [
  {
   "cell_type": "markdown",
   "metadata": {
    "id": "Uw2bcL6FltCB"
   },
   "source": [
    "![Astrofisica Computacional](../logo.PNG)"
   ]
  },
  {
   "cell_type": "markdown",
   "metadata": {},
   "source": [
    "---\n",
    "## 51. Ecuaciones de Poisson y Laplace\n",
    "\n",
    "Eduard Larrañaga (ealarranaga@unal.edu.co)\n",
    "\n",
    "---"
   ]
  },
  {
   "cell_type": "markdown",
   "metadata": {
    "id": "aSVOtGizlnwl"
   },
   "source": [
    "\n",
    "### Resumen\n",
    "\n",
    "Se presenta el método de solución de la ecuación de Poisson o Laplace con los métodos de diferencias finitas y algunos de los métodos de relajación.\n",
    "\n",
    "\n",
    "---"
   ]
  },
  {
   "cell_type": "markdown",
   "metadata": {
    "id": "8ogdbF2qlnwl"
   },
   "source": [
    "---\n",
    "\n",
    "## PDEs Elípticas. La Ecuación de Poisson\n",
    "\n",
    "Una de las Ecuaciones Diferenciales Parciales elípticas maá utilizada en la astrofísica es la **ecuación de Poisson**, la cual describe la gravedad Newtoniana y también la electrostática,\n",
    "\n",
    "\\begin{equation}\n",
    "\\nabla^2 \\phi = \\rho \\,\\,.\n",
    "\\end{equation}\n",
    "\n",
    "En esta ecuación $\\phi = \\phi(x,y,z)$ es la función que se quiere encontrar (puede representar el potencial gravitacional o el potencial electrostático) y $\\rho = \\rho(x,y,z)$ es una función escalar de la posición. Los problemas elípticos pueden ser lineales ($\\rho$ no depende de $\\phi$ o sus derivadas) o no-lineales ($\\rho$ depende de $\\phi$ o de sus derivadas). Cuando $\\rho=0$, la ecuación de Poisson se denomina **ecuación de Laplace**.\n",
    "\n",
    "$\\nabla^2$ representa el operador diferencial de Laplace,\n",
    "\n",
    "\\begin{equation}\n",
    "\\nabla^2 = \\frac{\\partial^2}{\\partial x^2} + \\frac{\\partial^2}{\\partial y^2} + \\frac{\\partial^2}{\\partial z^2}\n",
    "\\end{equation}\n",
    "\n",
    "\n",
    "\n",
    "---\n",
    "\n",
    "## Método de Diferencias Finitas en 2-dimensiones\n",
    "\n",
    "Una técnica fundamental para resolver este tipo de ecuaciones diferenciales son las diferencias finitas. Para ilustrarlo, consideraremos un problema de valor de frontera en dos dimensiones. Así la ecuación diferencial tomará la forma\n",
    "\n",
    "\n",
    "\\begin{equation}\n",
    "\\nabla^2 \\phi = \\frac{\\partial^2 \\phi}{\\partial x^2} + \\frac{\\partial^2 \\phi}{\\partial y^2}  = \\rho (x,y).\n",
    "\\end{equation}\n",
    "\n",
    "Como ya se ha discutido, en el método de diferencias finitas se divide el espacio en una malla discreta. En este caso utilizaremos una malla rectangular de coordenadas cartesianas en cuya frontera se conoce el valor de la función $\\phi$ (condiciones de frontera) y en cuyo interior se quiere encontrar la solución. \n",
    "\n",
    "Supondremos que la region bidimensional es un rectangulo que se dividirá utilizando $M+1$ nodos en la dirección-x y $N+1$ nodos en la dirección-y, para un total de $(M+1) \\times (N+1)$ nodos en total. Los valores discretos de la coordenada x se denotarán como $x_i$ con $i=0,1,2,...,M$ mientras que los valores discretos de la coordenada y se denotarán como $y_j$ con $j=0,1,2,...,N$. El valor de la función $\\phi$ en el punto $(x_i,y_j)$ se denotará como $\\phi(x_i, y_j) = \\phi_{i,j}$\n",
    "\n",
    "Supondremos también que las condiciones de frontera serán:\n",
    "\n",
    "- $\\phi(x_0,y_j) = \\phi_{0j} = A_{j}$\n",
    "- $\\phi(x_M,y_j) = \\phi_{Mj} = B_{j}$\n",
    "- $\\phi(x_i,y_0) = \\phi_{i0} = C_{i}$\n",
    "- $\\phi(x_i,y_N) = \\phi_{iN} = D_{i}$\n",
    "\n",
    "\n",
    "Luego de definir la malla de discretización, el siguiente paso es discretizar los operadores diferenciales. En este caso, se trabajará con las segundas derivadas aproximadas como diferencias centradas,\n",
    "\n",
    "\\begin{align}\n",
    "\\frac{\\partial^2}{\\partial x^2} = &\\frac{\\phi(x+\\Delta x,y) - 2\\phi(x,y) + \\phi(x- \\Delta x,y)}{\\Delta x^2}\\\\\n",
    "\\frac{\\partial^2}{\\partial y^2} = &\\frac{\\phi(x,y+\\Delta y) - 2\\phi(x,y) + \\phi(x,y- \\Delta y)}{\\Delta y^2}.\n",
    "\\end{align}\n",
    "\n",
    "Utilizando el mismo tamaño de la malla  en las dos direcciones, $\\Delta x = \\Delta y = h$, el operador Laplaciano aplicado a la función $\\phi$ en la ecuación se convierte en\n",
    "\n",
    "\\begin{align}\n",
    "\\nabla^2 \\phi = \\frac{\\phi(x+h,y) - 2\\phi(x,y) + \\phi(x-h,y)}{h^2} + \\frac{\\phi(x,y+h) - 2\\phi(x,y) + \\phi(x,y-h)}{h^2} = &\\rho (x,y)\\\\\n",
    "\\frac{\\phi(x+h,y) - 2\\phi(x,y) + \\phi(x-h,y) + \\phi(x,y+h) - 2\\phi(x,y) + \\phi(x,y-h)}{h^2} = &\\rho (x,y)\\\\\n",
    "\\phi(x+h,y)  + \\phi(x-h,y) + \\phi(x,y+h)  + \\phi(x,y-h) - 4\\phi(x,y) = & h^2 \\rho (x,y)\n",
    "\\end{align}"
   ]
  },
  {
   "cell_type": "markdown",
   "metadata": {},
   "source": [
    "La información que presenta el lado izquierdo de esta ecuación se puede entender notando que se suman los valores de la ufunción $\\phi$ en los cuatro nodos inmediatamente adyacentes a $(x,y)$ y se resta 4 veces el valor en $(x,y)$. Esto se suele representar gráficamente como un \"stencil\" o patrón en la forma\n",
    "\n",
    "<img src=\"https://i.ibb.co/NsTP2Wv/Screen-Shot-2022-01-01-at-8-56-51-PM.png\" width=450>\n"
   ]
  },
  {
   "cell_type": "markdown",
   "metadata": {
    "id": "SDSAmoGflnwm"
   },
   "source": [
    "Este patrón determina la ecuación iterativa de diferencias finitas resultante:\n",
    "\n",
    "\\begin{equation}\n",
    "\\phi(x_{i+1},y_i)  + \\phi(x_{i-1},y_i) + \\phi(x_i,y_{i+1})  + \\phi(x_i,y_{i-1}) - 4\\phi(x_i,y_i) =  h^2 \\rho (x_i,y_i)\n",
    "\\end{equation}\n",
    "\n",
    "y su vez esta, relación podrá ser escrita como un conjunto de ecuaciones algebraicas lineales acopladas con la forma\n",
    "\n",
    "\\begin{equation}\n",
    "\\mathcal{M} \\Phi = R\n",
    "\\end{equation}\n",
    "\n",
    "donde se ha construido el vector $((M+1)+(N+1))$ dimensional\n",
    "\n",
    "\\begin{equation}\n",
    "\\Phi = \n",
    "\\begin{pmatrix}\n",
    "\\phi_{0,0}\\\\ \\phi_{1,0} \\\\ \\phi_{2,0}\\\\ \\vdots \\\\ \\phi_{M,0} \\\\ \\phi_{0,1}\\\\ \\vdots \\\\ \\phi_{M,1}\\\\ \\vdots \\\\ \\vdots \\\\ \\phi_{0,N}\\\\ \\vdots \\\\ \\phi_{M,N}\n",
    "\\end{pmatrix}\n",
    "\\end{equation}"
   ]
  },
  {
   "cell_type": "markdown",
   "metadata": {
    "id": "33wrJjswlnwm"
   },
   "source": [
    "---\n",
    "### Ejemplo \n",
    "\n",
    "Para ilustrar la construcción del sistema lineal, considere el siguiente problema simple:\n",
    "\n",
    "Queremos resolver la ecuación de Poisson en la región $0\\leq x \\leq 1$, $0\\leq y \\leq 1$ con $\\rho (x,y) = 2y$. Las condiciones de frontera (Dirichlet) serán \n",
    "\n",
    "\\begin{cases}\n",
    "\\phi(x,0) = &0\\\\\n",
    "\\phi(0,y) = &0\\\\\n",
    "\\phi(1,y) = &y\\\\\n",
    "\\phi(x,1) = &x.\n",
    "\\end{cases}\n",
    "\n",
    "Para solucionar el problema utilizaremos una malla de discretización con $h=\\frac{1}{3}$ en ambas direcciones (claramente con este valor tan grande para el espacio entre nodos no se obtendrá un resultado mu preciso!).\n",
    "De esta forma, la malla tendrá $4 \\times 4$ nodos localizados en las coordenadas \n",
    "\n",
    "\\begin{align}\n",
    "x_i = &(x_0, x_1, x_2, x_3) = \\left( 0, \\frac{1}{3}, \\frac{2}{3}, 1 \\right)\\\\\n",
    "y_i = &(y_0, y_1, y_2, y_3) = \\left( 0, \\frac{1}{3}, \\frac{2}{3}, 1 \\right)\n",
    "\\end{align}\n",
    "\n",
    "y la función $\\phi$ se discretizará con 16 valores, $\\phi_{0,0}, \\phi_{1,0}, \\phi_{2,0}, ...$ .\n",
    "\n",
    "Las condiciones de frontera serán \n",
    "\n",
    "\\begin{align}\n",
    "\\phi_{0,0} = & \\phi_{1,0} = \\phi_{2,0} = \\phi_{3,0} = 0\\\\\n",
    "\\phi_{0,1} = & \\phi_{0,2} = \\phi_{0,3} = 0 \\\\\n",
    "\\phi_{3,1} = &  \\frac{1}{3}\\\\\n",
    "\\phi_{3,2} = &  \\frac{2}{3}\\\\\n",
    "\\phi_{3,3} = & 1 \\\\\n",
    "\\phi_{1,3} = &  \\frac{1}{3}\\\\\n",
    "\\phi_{2,3} = &  \\frac{2}{3}.\n",
    "\\end{align}\n",
    "\n",
    "\n",
    "se puede observar que los valores independientes impuestos por las condiciones de frontera son 12 y los valores que se quieren encontrar para $\\phi$ son solamente 4: $\\phi_{1,1}, \\phi_{1,2}, \\phi_{2,1}, \\phi_{2,2}$.\n",
    "\n",
    "Utilizando el stencil\n",
    "\n",
    "\\begin{equation}\n",
    "\\phi(x_{i+1},y_i)  + \\phi(x_{i-1},y_i) + \\phi(x_i,y_{i+1})  + \\phi(x_i,y_{i-1}) - 4\\phi(x_i,y_i) =  h^2 \\rho (x_i,y_i)\n",
    "\\end{equation}\n",
    "\n",
    "se construye el sistema lineal en la forma"
   ]
  },
  {
   "cell_type": "markdown",
   "metadata": {},
   "source": [
    "\\begin{equation}\n",
    "\\begin{pmatrix}\n",
    "1 & 0 & 0 & 0 & 0 & 0 & 0 & 0 & 0 & 0 & 0 & 0 & 0 & 0 & 0 & 0 \\\\ \n",
    "0 & 1 & 0 & 0 & 0 & 0 & 0 & 0 & 0 & 0 & 0 & 0 & 0 & 0 & 0 & 0 \\\\\n",
    "0 & 0 & 1 & 0 & 0 & 0 & 0 & 0 & 0 & 0 & 0 & 0 & 0 & 0 & 0 & 0 \\\\\n",
    "0 & 0 & 0 & 1 & 0 & 0 & 0 & 0 & 0 & 0 & 0 & 0 & 0 & 0 & 0 & 0 \\\\\n",
    "0 & 0 & 0 & 0 & 1 & 0 & 0 & 0 & 0 & 0 & 0 & 0 & 0 & 0 & 0 & 0 \\\\\n",
    "0 & 1 & 0 & 0 & 1 & -4 & 1 & 0 & 0 & 1 & 0 & 0 & 0 & 0 & 0 & 0 \\\\\n",
    "0 & 0 & 1 & 0 & 0 & 1 & -4 & 1 & 0 & 0 & 1 & 0 & 0 & 0 & 0 & 0 \\\\\n",
    "0 & 0 & 0 & 0 & 0 & 0 & 0 & 1 & 0 & 0 & 0 & 0 & 0 & 0 & 0 & 0 \\\\\n",
    "0 & 0 & 0 & 0 & 0 & 0 & 0 & 0 & 1 & 0 & 0 & 0 & 0 & 0 & 0 & 0 \\\\\n",
    "0 & 0 & 0 & 0 & 0 & 1 & 0 & 0 & 1 & -4 & 1 & 0 & 0 & 1 & 0 & 0 \\\\\n",
    "0 & 0 & 0 & 0 & 0 & 0 & 1 & 0 & 0 & 1 & -4 & 1 & 0 & 0 & 1 & 0 \\\\\n",
    "0 & 0 & 0 & 0 & 0 & 0 & 0 & 0 & 0 & 0 & 0 & 1 & 0 & 0 & 0 & 0 \\\\\n",
    "0 & 0 & 0 & 0 & 0 & 0 & 0 & 0 & 0 & 0 & 0 & 0 & 1 & 0 & 0 & 0 \\\\\n",
    "0 & 0 & 0 & 0 & 0 & 0 & 0 & 0 & 0 & 0 & 0 & 0 & 0 & 1 & 0 & 0 \\\\\n",
    "0 & 0 & 0 & 0 & 0 & 0 & 0 & 0 & 0 & 0 & 0 & 0 & 0 & 0 & 1 & 0 \\\\\n",
    "0 & 0 & 0 & 0 & 0 & 0 & 0 & 0 & 0 & 0 & 0 & 0 & 0 & 0 & 0 & 1 \\\\\n",
    "\\end{pmatrix}\n",
    "\\begin{pmatrix}\n",
    "\\phi_{0,0}\\\\ \\phi_{1,0} \\\\ \\phi_{2,0} \\\\ \\phi_{3,0} \\\\ \n",
    "\\phi_{0,1}\\\\ \\phi_{1,1} \\\\ \\phi_{2,1} \\\\ \\phi_{3,1} \\\\\n",
    "\\phi_{0,2}\\\\ \\phi_{1,2} \\\\ \\phi_{2,2} \\\\ \\phi_{3,2} \\\\\n",
    "\\phi_{0,3}\\\\ \\phi_{1,3} \\\\ \\phi_{2,3} \\\\ \\phi_{3,3} \n",
    "\\end{pmatrix}=\n",
    "\\begin{pmatrix}\n",
    "0\\\\ 0 \\\\ 0 \\\\ 0 \\\\ \n",
    "0\\\\ \\frac{2}{27} \\\\ \\frac{2}{27} \\\\ \\frac{1}{3} \\\\\n",
    "0\\\\ \\frac{4}{27} \\\\ \\frac{4}{27} \\\\ \\frac{2}{3} \\\\\n",
    "0\\\\ \\frac{1}{3} \\\\ \\frac{2}{3} \\\\ 1 \n",
    "\\end{pmatrix}\n",
    "\\end{equation}"
   ]
  },
  {
   "cell_type": "markdown",
   "metadata": {},
   "source": [
    "Este sistema puede resolverse manualmente debido a que solo se tienen 4 valores de la función $\\phi$ por obtener. Sin embargo, aqui encontraremos la slución utilizando la función [numpy.linalg.solve( )](https://numpy.org/doc/stable/reference/generated/numpy.linalg.solve.html),"
   ]
  },
  {
   "cell_type": "code",
   "execution_count": 1,
   "metadata": {},
   "outputs": [],
   "source": [
    "import numpy as np\n",
    "\n",
    "M = np.array([[1, 0, 0, 0, 0, 0, 0, 0, 0, 0, 0, 0, 0, 0, 0, 0],\n",
    "              [0, 1, 0, 0, 0, 0, 0, 0, 0, 0, 0, 0, 0, 0, 0, 0],\n",
    "              [0, 0, 1, 0, 0, 0, 0, 0, 0, 0, 0, 0, 0, 0, 0, 0],\n",
    "              [0, 0, 0, 1, 0, 0, 0, 0, 0, 0, 0, 0, 0, 0, 0, 0],\n",
    "              [0, 0, 0, 0, 1, 0, 0, 0, 0, 0, 0, 0, 0, 0, 0, 0],\n",
    "              [0, 1, 0, 0, 1,-4, 1, 0, 0, 1, 0, 0, 0, 0, 0, 0],\n",
    "              [0, 0, 1, 0, 0, 1,-4, 1, 0, 0, 1, 0, 0, 0, 0, 0],\n",
    "              [0, 0, 0, 0, 0, 0, 0, 1, 0, 0, 0, 0, 0, 0, 0, 0],\n",
    "              [0, 0, 0, 0, 0, 0, 0, 0, 1, 0, 0, 0, 0, 0, 0, 0],\n",
    "              [0, 0, 0, 0, 0, 1, 0, 0, 1,-4, 1, 0, 0, 1, 0, 0],\n",
    "              [0, 0, 0, 0, 0, 0, 1, 0, 0, 1,-4, 1, 0, 0, 1, 0],\n",
    "              [0, 0, 0, 0, 0, 0, 0, 0, 0, 0, 0, 1, 0, 0, 0, 0],\n",
    "              [0, 0, 0, 0, 0, 0, 0, 0, 0, 0, 0, 0, 1, 0, 0, 0],\n",
    "              [0, 0, 0, 0, 0, 0, 0, 0, 0, 0, 0, 0, 0, 1, 0, 0],\n",
    "              [0, 0, 0, 0, 0, 0, 0, 0, 0, 0, 0, 0, 0, 0, 1, 0],\n",
    "              [0, 0, 0, 0, 0, 0, 0, 0, 0, 0, 0, 0, 0, 0, 0, 1],\n",
    "             ])\n",
    "b = np.array([0, 0, 0, 0, 0, 2/27, 2/27, 1/3, 0, 4/27, 4/27, 2/3, 0, 1/3, 2/3, 1])"
   ]
  },
  {
   "cell_type": "code",
   "execution_count": 2,
   "metadata": {},
   "outputs": [
    {
     "data": {
      "text/plain": [
       "array([0.        , 0.        , 0.        , 0.        , 0.        ,\n",
       "       0.06481481, 0.17592593, 0.33333333, 0.        , 0.15740741,\n",
       "       0.37962963, 0.66666667, 0.        , 0.33333333, 0.66666667,\n",
       "       1.        ])"
      ]
     },
     "execution_count": 2,
     "metadata": {},
     "output_type": "execute_result"
    }
   ],
   "source": [
    "phi = np.linalg.solve(M,b)\n",
    "phi"
   ]
  },
  {
   "cell_type": "markdown",
   "metadata": {},
   "source": [
    "Los valores encontrados para la función $\\phi$ son\n",
    "\\begin{align}\n",
    "\\phi_{1,1} = & 0.0648\\\\ \n",
    "\\phi_{2,1} = & 0.1759\\\\ \n",
    "\\phi_{1,2} = & 0.1574\\\\\n",
    "\\phi_{2,2} = & 0.3796\n",
    "\\end{align}"
   ]
  },
  {
   "cell_type": "markdown",
   "metadata": {},
   "source": [
    "Se puede derle una forma matricial a los resultados para visualizar el comportamiento de la función $\\phi$ a través de la función [maptplotlib.pyplot.pcolormesh( )](https://matplotlib.org/stable/api/_as_gen/matplotlib.pyplot.pcolormesh.html),"
   ]
  },
  {
   "cell_type": "code",
   "execution_count": 3,
   "metadata": {},
   "outputs": [
    {
     "data": {
      "text/plain": [
       "array([[0.        , 0.        , 0.        , 0.        ],\n",
       "       [0.        , 0.06481481, 0.15740741, 0.33333333],\n",
       "       [0.        , 0.17592593, 0.37962963, 0.66666667],\n",
       "       [0.        , 0.33333333, 0.66666667, 1.        ]])"
      ]
     },
     "execution_count": 3,
     "metadata": {},
     "output_type": "execute_result"
    }
   ],
   "source": [
    "phi = phi.reshape(4,4)\n",
    "phi = phi.T\n",
    "phi"
   ]
  },
  {
   "cell_type": "code",
   "execution_count": 4,
   "metadata": {},
   "outputs": [
    {
     "data": {
      "image/png": "[encoded data removed]",
      "text/plain": [
       "<Figure size 648x504 with 2 Axes>"
      ]
     },
     "metadata": {
      "needs_background": "light"
     },
     "output_type": "display_data"
    }
   ],
   "source": [
    "import matplotlib.pyplot as plt\n",
    "%matplotlib inline\n",
    "\n",
    "x = np.linspace(0,1,4)\n",
    "y = np.linspace(0,1,4)\n",
    "\n",
    "# Make the plot with colorbar\n",
    "plt.figure(figsize=(9,7))\n",
    "plt.pcolormesh(x, y, phi, shading='auto')\n",
    "plt.colorbar()\n",
    "plt.xlabel(r'$x$')\n",
    "plt.ylabel(r'$x$')\n",
    "plt.title(r'$\\phi(x,y)$')\n",
    "plt.show()"
   ]
  },
  {
   "cell_type": "markdown",
   "metadata": {},
   "source": [
    "Aún cuando este método es fácilmente aplicable y rápido en el ejemplo presentado, cuando se trabaja un problema de la vida real, con un número grande de nodos, la solución del sistema de ecuaciones lineales puede necesitar un tiempo de computo muy largo. Si la discretización se realiza con $N$ puntos, la matriz $\\phi_{i,j}$ tendrá $N^2$ elementos y el número de operaciones requerido para solucionar el sistema lineal correspondiente sera $\\mathcal{O}(N^3)$. En el caso de $N=100$ esto significa un numero de operaciones del orden de $10^6$."
   ]
  },
  {
   "cell_type": "markdown",
   "metadata": {},
   "source": [
    "---\n",
    "\n",
    "## Métodos de Relajación\n",
    "\n",
    "Otra clase de algoritmos para la solución de la ecuación de Poisson son los denominados métodos de relajación. En estos, se comienza el proceso con un ansatz inicial que luego se modifica mediante iteraciones para ir acercandose a la solución verdadera.\n",
    "\n",
    "### Método de Jacobi\n",
    "\n",
    "Este es el método mas simple de todos y se puede resumir en los siguientes pasos:\n",
    "\n",
    "1. Se inicializa la matriz $\\phi_{i,j}$ con un ansatz inicial\n",
    "2. Se aplican las condiciones de frontera\n",
    "3. Para cada punto interior en la malla se calcula la cantidad\n",
    "\\begin{equation}\n",
    "\\phi^*_{i,j} = \\frac{1}{4} \\left( \\phi_{i+1,j} + \\phi_{i-1,j} + \\phi_{i,j+1} + \\phi_{i,j-1} - h^2\\rho_{i,j}\\right)\n",
    "\\end{equation}\n",
    "\n",
    "4. Para cada punto interior se reemplaza $\\phi_{i,j}$ por $\\phi^*_{i,j}$\n",
    "5. Se vuelve al paso 2 hasta que la diferencia entre las dos aproximaciones mas recientes sea más pequeña que una tolerancia predeterminada.\n",
    "\n",
    "\n",
    "A pesar de que el método de Jacobi es rápido y fácil de implementar, puede tener una lenta convergencia, especialmente para un gran número de nodos. \n",
    "\n",
    "### Método de Gauss-Seidel\n",
    "\n",
    "Este método es similar al de Jacobi, excepto porque los pasos 3. y 4. descritos arriba se combinan de tal forma que $\\phi_{i,j}$ se reemplaza por $\\phi^*_{i,j}$ inmediatamente se calcula. Con esta pequeña modificación se logra mejorar el tiempo de calculo y adicionalmente se necesita menos espacio de memoria para almacenar los calculos intermedios.\n",
    "\n",
    "### Método de Sobre-Relajación Sucesiva ( Succesive Over-Relaxation: SOR)\n",
    "\n",
    "Otra modificación posible para los métodos anteriores corresponde a cambiar la actualización con la forma\n",
    "\n",
    "\\begin{equation}\n",
    "\\phi^*_{i,j} = (1-\\omega) \\phi_{i,j} + \\frac{1}{4} \\omega \\left( \\phi_{i+1,j} + \\phi_{i-1,j} + \\phi_{i,j+1} + \\phi_{i,j-1} - h^2\\rho_{i,j}\\right)\n",
    "\\end{equation}\n",
    "\n",
    "donde $\\omega$ es un parametro de relajación. El valor $\\omega = 1$ recupera el método de Gauss-Seidel, valores $\\omega<1$ produce  *sub-relajación* (i.e. se mantiene una proción de la solución anterior) y un valor $\\omega >1$ produce *sobre-relajación* (la nueva solución se mueve lejos de la anterior solución que en el modelo de Gauss-Seidel).\n",
    "\n",
    "El valor más apropiado para $\\omega$ depende del problema particular que se esta resolviendo. Sin embargo, valores en el rango $1.2 \\leq \\omega \\leq 1.4$ suele dar muy buenos resultados. El método SOR requiere de menos iteraciones que los métodos de Jacobi y de Gauss-Seidel y en general se puede considerar como el más practico de todos, aunque es importante recalcar que la convergencia de la solución también depende del ansatz inicial elegido. \n",
    "\n"
   ]
  },
  {
   "cell_type": "markdown",
   "metadata": {},
   "source": [
    "---\n",
    "### Ejemplo \n",
    "\n",
    "Para ilustrar la construcción del sistema lineal, de nuevo consideraremos el problema simple de resolver la ecuación de Poisson en la región $0\\leq x \\leq 1$, $0\\leq y \\leq 1$ con $\\rho (x,y) = 2y$. Las condiciones de frontera (Dirichlet) serán $\\phi(x,0) = 0$, $\\phi(0,y) = 0$, $\\phi(1,y) = y$ y $\\phi(x,1) = x$.\n",
    "En este caso utilizaremos una malla de discretización con 100 nodos en ambas direcciones."
   ]
  },
  {
   "cell_type": "markdown",
   "metadata": {},
   "source": [
    "1. Para comenzar, definimos el arreglo que almacenará la información del campo buscado,"
   ]
  },
  {
   "cell_type": "code",
   "execution_count": 1,
   "metadata": {},
   "outputs": [],
   "source": [
    "import numpy as np\n",
    "\n",
    "N = 100\n",
    "x = np.linspace(0,1,N)\n",
    "y = np.linspace(0,1,N)\n",
    "\n",
    "h = x[1] - x[0]\n",
    "\n",
    "phi = np.zeros([N,N])\n",
    "phi_star = np.zeros([N,N])\n",
    "\n",
    "def rho(x,y):\n",
    "    return 2*y\n"
   ]
  },
  {
   "cell_type": "markdown",
   "metadata": {},
   "source": [
    "2. Luego, aplicamos las condiciones de frontera"
   ]
  },
  {
   "cell_type": "code",
   "execution_count": 2,
   "metadata": {
    "scrolled": true
   },
   "outputs": [],
   "source": [
    "# Boundary conditions\n",
    "phi[:,0] = 0.\n",
    "phi[0,:] = 0.\n",
    "phi[-1, :] = y[:]\n",
    "phi[:, -1] = x[:]"
   ]
  },
  {
   "cell_type": "markdown",
   "metadata": {},
   "source": [
    "Para los valores de inicialización de los puntos internos utilizaremos el valor más grande dado por las condiciones de frontera."
   ]
  },
  {
   "cell_type": "code",
   "execution_count": 3,
   "metadata": {},
   "outputs": [
    {
     "data": {
      "text/plain": [
       "array([[0.        , 0.        , 0.        , ..., 0.        , 0.        ,\n",
       "        0.        ],\n",
       "       [0.        , 0.        , 0.        , ..., 0.        , 0.        ,\n",
       "        0.01010101],\n",
       "       [0.        , 0.        , 0.        , ..., 0.        , 0.        ,\n",
       "        0.02020202],\n",
       "       ...,\n",
       "       [0.        , 0.        , 0.        , ..., 0.        , 0.        ,\n",
       "        0.97979798],\n",
       "       [0.        , 0.        , 0.        , ..., 0.        , 0.        ,\n",
       "        0.98989899],\n",
       "       [0.        , 0.01010101, 0.02020202, ..., 0.97979798, 0.98989899,\n",
       "        1.        ]])"
      ]
     },
     "execution_count": 3,
     "metadata": {},
     "output_type": "execute_result"
    }
   ],
   "source": [
    "phi_max = phi.min() # Maximum of the values of the matrix (with boundaries imposed)\n",
    "\n",
    "for i in range(1,N-1):\n",
    "    for j in range(1,N-1):\n",
    "        phi[i,j] = phi_max\n",
    "\n",
    "phi"
   ]
  },
  {
   "cell_type": "markdown",
   "metadata": {},
   "source": [
    "3. Para los puntos interiores, aplicamos el método SOR \n",
    "\\begin{equation}\n",
    "\\phi^*_{i,j} = (1-\\omega) \\phi_{i,j} + \\frac{1}{4} \\omega \\left( \\phi_{i+1,j} + \\phi_{i-1,j} + \\phi_{i,j+1} + \\phi_{i,j-1} - h^2\\rho_{i,j}\\right)\n",
    "\\end{equation}\n",
    "\n",
    "con $\\omega = 1.4$. Repetiremos esta aplicación hasta lograr que la diferencia $\\phi^* - \\phi$ sea menor que una tolerancia dada. "
   ]
  },
  {
   "cell_type": "code",
   "execution_count": 4,
   "metadata": {},
   "outputs": [
    {
     "data": {
      "text/plain": [
       "4815"
      ]
     },
     "execution_count": 4,
     "metadata": {},
     "output_type": "execute_result"
    }
   ],
   "source": [
    "omega = 1.4 # SOR parameter\n",
    "tol = 1.e-8 # Tolerance for the diference between phi and phi_star\n",
    "\n",
    "repeat = True\n",
    "k = 1 \n",
    "\n",
    "# We will repeat until the tolerance is reached OR until we reach the maximum number of steps (10000)\n",
    "while (repeat and k<10000):\n",
    "    phi_star = np.copy(phi)\n",
    "    for i in range(1,N-1):\n",
    "        for j in range(1,N-1):\n",
    "            phi[i,j] = (1-omega)*phi[i,j] + (omega/4)*(phi[i+1,j] + phi[i-1,j] + phi[i,j+1] + phi[i,j-1] - (h**2)*rho(x[i],y[j]))\n",
    "    \n",
    "    delta = abs(phi_star-phi)\n",
    "    if delta.max()< tol:\n",
    "        repeat = False\n",
    "    k +=1\n",
    "\n",
    "k"
   ]
  },
  {
   "cell_type": "code",
   "execution_count": 5,
   "metadata": {},
   "outputs": [
    {
     "data": {
      "image/png": "[encoded data removed]",
      "text/plain": [
       "<Figure size 648x504 with 2 Axes>"
      ]
     },
     "metadata": {
      "needs_background": "light"
     },
     "output_type": "display_data"
    }
   ],
   "source": [
    "import matplotlib.pyplot as plt\n",
    "%matplotlib inline\n",
    "\n",
    "\n",
    "# Make the plot with colorbar\n",
    "plt.figure(figsize=(9,7))\n",
    "plt.pcolormesh(x, y, phi, shading='auto')\n",
    "plt.colorbar()\n",
    "plt.xlabel(r'$x$')\n",
    "plt.ylabel(r'$x$')\n",
    "plt.title(r'$\\phi(x,y)$')\n",
    "plt.show()"
   ]
  },
  {
   "cell_type": "markdown",
   "metadata": {},
   "source": [
    "Otra posibilidad para el ansatz incial es utilizar el promedio de todas las componentes del arreglo habiendo implementado las condiciones iniciales."
   ]
  },
  {
   "cell_type": "code",
   "execution_count": 6,
   "metadata": {},
   "outputs": [
    {
     "data": {
      "text/plain": [
       "4795"
      ]
     },
     "execution_count": 6,
     "metadata": {},
     "output_type": "execute_result"
    }
   ],
   "source": [
    "phi = np.zeros([N,N])\n",
    "phi_star = np.zeros([N,N])\n",
    "\n",
    "# Initial Conditions\n",
    "phi[:,0] = 0.\n",
    "phi[0,:] = 0.\n",
    "phi[-1, :] = y[:]\n",
    "phi[:, -1] = x[:]\n",
    "\n",
    "phi_mean = phi.mean() #Mean of the values of the matrix (with boundaries imposed)\n",
    "\n",
    "for i in range(1,N-1):\n",
    "    for j in range(1,N-1):\n",
    "        phi[i,j] = phi_mean\n",
    "\n",
    "omega = 1.4 # SOR parameter\n",
    "tol = 1.e-8 # Tolerance for the diference between phi and phi_star\n",
    "\n",
    "repeat = True\n",
    "k = 1 \n",
    "\n",
    "# We will repeat until the tolerance is reached OR until we reach the maximum number of steps (5000)\n",
    "while (repeat and k<5000):\n",
    "    phi_star = np.copy(phi)\n",
    "    for i in range(1,N-1):\n",
    "        for j in range(1,N-1):\n",
    "            phi[i,j] = (1-omega)*phi[i,j] + (omega/4)*(phi[i+1,j] + phi[i-1,j] + phi[i,j+1] + phi[i,j-1] - (h**2)*rho(x[i],y[j]))\n",
    "    \n",
    "    delta = abs(phi_star-phi)\n",
    "    if delta.max()< tol:\n",
    "        repeat = False\n",
    "    k +=1\n",
    "\n",
    "k"
   ]
  },
  {
   "cell_type": "code",
   "execution_count": 7,
   "metadata": {},
   "outputs": [
    {
     "data": {
      "image/png": "[encoded data removed]",
      "text/plain": [
       "<Figure size 648x504 with 2 Axes>"
      ]
     },
     "metadata": {
      "needs_background": "light"
     },
     "output_type": "display_data"
    }
   ],
   "source": [
    "import matplotlib.pyplot as plt\n",
    "%matplotlib inline\n",
    "\n",
    "\n",
    "# Make the plot with colorbar\n",
    "plt.figure(figsize=(9,7))\n",
    "plt.pcolormesh(x, y, phi, shading='auto')\n",
    "plt.colorbar()\n",
    "plt.xlabel(r'$x$')\n",
    "plt.ylabel(r'$x$')\n",
    "plt.title(r'$\\phi(x,y)$')\n",
    "plt.show()"
   ]
  },
  {
   "cell_type": "code",
   "execution_count": null,
   "metadata": {},
   "outputs": [],
   "source": []
  }
 ],
 "metadata": {
  "@webio": {
   "lastCommId": null,
   "lastKernelId": null
  },
  "colab": {
   "collapsed_sections": [],
   "name": "PDE05.ipynb",
   "provenance": []
  },
  "kernelspec": {
   "display_name": "Python 3 (ipykernel)",
   "language": "python",
   "name": "python3"
  },
  "language_info": {
   "codemirror_mode": {
    "name": "ipython",
    "version": 3
   },
   "file_extension": ".py",
   "mimetype": "text/x-python",
   "name": "python",
   "nbconvert_exporter": "python",
   "pygments_lexer": "ipython3",
   "version": "3.9.5"
  }
 },
 "nbformat": 4,
 "nbformat_minor": 1
}
