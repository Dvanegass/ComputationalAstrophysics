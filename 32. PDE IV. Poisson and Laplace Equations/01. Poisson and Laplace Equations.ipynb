{
 "cells": [
  {
   "cell_type": "markdown",
   "metadata": {
    "id": "Uw2bcL6FltCB"
   },
   "source": [
    "![Astrofisica Computacional](../logo.PNG)"
   ]
  },
  {
   "cell_type": "markdown",
   "metadata": {},
   "source": [
    "---\n",
    "## 01. Poisson y Laplace Equations\n",
    "\n",
    "Eduard Larrañaga (ealarranaga@unal.edu.co)\n",
    "\n",
    "---"
   ]
  },
  {
   "cell_type": "markdown",
   "metadata": {
    "id": "aSVOtGizlnwl"
   },
   "source": [
    "### Summary\n",
    "\n",
    "The solution method of the Poisson or Laplace equation with the finite difference methods and some of the relaxation methods is presented.\n",
    "\n",
    "\n",
    "---"
   ]
  },
  {
   "cell_type": "markdown",
   "metadata": {
    "id": "8ogdbF2qlnwl"
   },
   "source": [
    "---\n",
    "\n",
    "## Elliptical PDEs. Poisson's Equation\n",
    "\n",
    "One of the most widely used elliptic Partial Differential Equations in astrophysics is the **Poisson equation**, which describes Newtonian gravity and also electrostatics,\n",
    "\n",
    "\\begin{equation}\n",
    "\\nabla^2 \\phi = \\rho \\,\\,.\n",
    "\\end{equation}\n",
    "\n",
    "In this equation $\\phi = \\phi(x,y,z)$ is the function to be found (it can represent the gravitational potential or the electrostatic potential) and $\\rho = \\rho(x,y,z)$ is a scalar function of position. Elliptic problems can be linear ($\\rho$ does not depend on $\\phi$ or its derivatives) or non-linear ($\\rho$ depends on $\\phi$ or its derivatives). When $\\rho=0$, Poisson's equation is called **Laplace's equation**.\n",
    "\n",
    "$\\nabla^2$ represents the Laplace differential operator,\n",
    "\n",
    "\\begin{equation}\n",
    "\\nabla^2 = \\frac{\\partial^2}{\\partial x^2} + \\frac{\\partial^2}{\\partial y^2} + \\frac{\\partial^2}{\\partial z^ two}\n",
    "\\end{equation}\n",
    "\n",
    "\n",
    "\n",
    "---\n",
    "\n",
    "## Finite Difference Method in 2-dimensions\n",
    "\n",
    "A fundamental technique to solve this type of differential equations is finite differences. To illustrate this, we will consider a boundary value problem in two dimensions. So the differential equation will take the form\n",
    "\n",
    "\n",
    "\\begin{equation}\n",
    "\\nabla^2 \\phi = \\frac{\\partial^2 \\phi}{\\partial x^2} + \\frac{\\partial^2 \\phi}{\\partial y^2} = \\rho (x,y) .\n",
    "\\end{equation}\n",
    "\n",
    "As already discussed, in the finite difference method the space is partitioned into a discrete mesh. In this case we will use a rectangular mesh of Cartesian coordinates in whose border the value of the function $\\phi$ (boundary conditions) is known and in whose interior we want to find the solution.\n",
    "\n",
    "We will assume that the two-dimensional region is a rectangle that will be divided using $M+1$ nodes in the x-direction and $N+1$ nodes in the y-direction, for a total of $(M+1) \\times (N +1)$ nodes in total. The discrete values ​​of the x coordinate will be denoted as $x_i$ with $i=0,1,2,...,M$ while the discrete values ​​of the y coordinate will be denoted as $y_j$ with $j=0, 1,2,...,N$. The value of the function $\\phi$ at the point $(x_i,y_j)$ will be denoted as $\\phi(x_i, y_j) = \\phi_{i,j}$\n",
    "\n",
    "We will also assume that the boundary conditions are:\n",
    "\n",
    "- $\\phi(x_0,y_j) = \\phi_{0j} = A_{j}$\n",
    "- $\\phi(x_M,y_j) = \\phi_{Mj} = B_{j}$\n",
    "- $\\phi(x_i,y_0) = \\phi_{i0} = C_{i}$\n",
    "- $\\phi(x_i,y_N) = \\phi_{iN} = D_{i}$\n",
    "\n",
    "\n",
    "After defining the discretization grid, the next step is to discretize the differential operators. In this case, we will work with the approximate second derivatives as centered differences,\n",
    "\n",
    "\\begin{align}\n",
    "\\frac{\\partial^2}{\\partial x^2} = &\\frac{\\phi(x+\\Delta x,y) - 2\\phi(x,y) + \\phi(x- \\Delta x,y )}{\\Delta x^2}\\\\\n",
    "\\frac{\\partial^2}{\\partial y^2} = &\\frac{\\phi(x,y+\\Delta y) - 2\\phi(x,y) + \\phi(x,y- \\Delta y )}{\\Delta y^2}.\n",
    "\\end{align}\n",
    "\n",
    "Using the same mesh size in both directions, $\\Delta x = \\Delta y = h$, the Laplacian operator applied to the function $\\phi$ in the equation becomes\n",
    "\n",
    "\\begin{align}\n",
    "\\nabla^2 \\phi = \\frac{\\phi(x+h,y) - 2\\phi(x,y) + \\phi(x-h,y)}{h^2} + \\frac{\\phi(x ,y+h) - 2\\phi(x,y) + \\phi(x,y-h)}{h^2} = &\\rho (x,y)\\\\\n",
    "\\frac{\\phi(x+h,y) - 2\\phi(x,y) + \\phi(x-h,y) + \\phi(x,y+h) - 2\\phi(x,y) + \\ phi(x,y-h)}{h^2} = &\\rho (x,y)\\\\\n",
    "\\phi(x+h,y) + \\phi(x-h,y) + \\phi(x,y+h) + \\phi(x,y-h) - 4\\phi(x,y) = & h^2 \\ rho(x,y)\n",
    "\\end{align}"
   ]
  },
  {
   "cell_type": "markdown",
   "metadata": {},
   "source": [
    "The information presented by the left side of this equation can be understood by noting that the values of the function $\\phi$ in the four nodes immediately adjacent to $(x,y)$ are added and the value in $( is subtracted 4 times x,y)$. This is often graphically represented as a \"stencil\" or pattern in the form\n",
    "\n",
    "<img src=\"https://i.ibb.co/NsTP2Wv/Screen-Shot-2022-01-01-at-8-56-51-PM.png\" width=450>\n"
   ]
  },
  {
   "cell_type": "markdown",
   "metadata": {
    "id": "SDSAmoGflnwm"
   },
   "source": [
    "This pattern determines the resulting iterative finite difference equation:\n",
    "\n",
    "\\begin{equation}\n",
    "\\phi(x_{i+1},y_i) + \\phi(x_{i-1},y_i) + \\phi(x_i,y_{i+1}) + \\phi(x_i,y_{i-1} ) - 4\\phi(x_i,y_i) = h^2 \\rho (x_i,y_i)\n",
    "\\end{equation}\n",
    "\n",
    "and in turn this relationship can be written as a set of coupled linear algebraic equations with the form\n",
    "\n",
    "\\begin{equation}\n",
    "\\mathcal{M} \\Phi = R\n",
    "\\end{equation}\n",
    "\n",
    "where the dimensional vector $((M+1)+(N+1))$ has been constructed\n",
    "\n",
    "\\begin{equation}\n",
    "\\phi =\n",
    "\\begin{pmatrix}\n",
    "\\phi_{0,0}\\\\ \\phi_{1,0} \\\\ \\phi_{2,0}\\\\ \\vdots \\\\ \\phi_{M,0} \\\\ \\phi_{0,1}\\\\ \\ vdots \\\\ \\phi_{M,1}\\\\ \\vdots \\\\ \\vdots \\\\ \\phi_{0,N}\\\\ \\vdots \\\\ \\phi_{M,N}\n",
    "\\end{pmatrix}\n",
    "\\end{equation}"
   ]
  },
  {
   "cell_type": "markdown",
   "metadata": {
    "id": "33wrJjswlnwm"
   },
   "source": [
    "---\n",
    "### Example\n",
    "\n",
    "To illustrate the construction of the linear system, consider the following simple problem:\n",
    "\n",
    "We want to solve Poisson's equation in the region $0\\leq x \\leq 1$, $0\\leq y \\leq 1$ with $\\rho (x,y) = 2y$. The boundary conditions (Dirichlet) will be\n",
    "\n",
    "\\begin{cases}\n",
    "\\phi(x,0) = &0\\\\\n",
    "\\phi(0,y) = &0\\\\\n",
    "\\phi(1,y) = &y\\\\\n",
    "\\phi(x,1) = &x.\n",
    "\\end{cases}\n",
    "\n",
    "To solve the problem we will use a discretization mesh with $h=\\frac{1}{3}$ in both directions (clearly with such a large value for the space between nodes, a very precise result will not be obtained!).\n",
    "In this way, the mesh will have $4 \\times 4$ nodes located at the coordinates\n",
    "\n",
    "\\begin{align}\n",
    "x_i = &(x_0, x_1, x_2, x_3) = \\left( 0, \\frac{1}{3}, \\frac{2}{3}, 1 \\right)\\\\\n",
    "y_i = &(y_0, y_1, y_2, y_3) = \\left( 0, \\frac{1}{3}, \\frac{2}{3}, 1 \\right)\n",
    "\\end{align}\n",
    "\n",
    "and the function $\\phi$ will be discretized with 16 values, $\\phi_{0,0}, \\phi_{1,0}, \\phi_{2,0}, ...$ .\n",
    "\n",
    "The boundary conditions will be\n",
    "\n",
    "\\begin{align}\n",
    "\\phi_{0,0} = & \\phi_{1,0} = \\phi_{2,0} = \\phi_{3,0} = 0\\\\\n",
    "\\phi_{0,1} = & \\phi_{0,2} = \\phi_{0,3} = 0 \\\\\n",
    "\\phi_{3,1} = & \\frac{1}{3}\\\\\n",
    "\\phi_{3,2} = & \\frac{2}{3}\\\\\n",
    "\\phi_{3,3} = & 1 \\\\\n",
    "\\phi_{1,3} = & \\frac{1}{3}\\\\\n",
    "\\phi_{2,3} = & \\frac{2}{3}.\n",
    "\\end{align}\n",
    "\n",
    "\n",
    "it can be seen that the independent values ​​imposed by the boundary conditions are 12 and the values ​​to be found for $\\phi$ are only 4: $\\phi_{1,1}, \\phi_{1,2}, \\phi_ {2,1}, \\phi_{2,2}$.\n",
    "\n",
    "Using the stencil\n",
    "\n",
    "\\begin{equation}\n",
    "\\phi(x_{i+1},y_i) + \\phi(x_{i-1},y_i) + \\phi(x_i,y_{i+1}) + \\phi(x_i,y_{i-1} ) - 4\\phi(x_i,y_i) = h^2 \\rho (x_i,y_i)\n",
    "\\end{equation}\n",
    "\n",
    "construct the linear system in the form"
   ]
  },
  {
   "cell_type": "markdown",
   "metadata": {},
   "source": [
    "\\begin{equation}\n",
    "\\begin{pmatrix}\n",
    "1 & 0 & 0 & 0 & 0 & 0 & 0 & 0 & 0 & 0 & 0 & 0 & 0 & 0 & 0 & 0 \\\\ \n",
    "0 & 1 & 0 & 0 & 0 & 0 & 0 & 0 & 0 & 0 & 0 & 0 & 0 & 0 & 0 & 0 \\\\\n",
    "0 & 0 & 1 & 0 & 0 & 0 & 0 & 0 & 0 & 0 & 0 & 0 & 0 & 0 & 0 & 0 \\\\\n",
    "0 & 0 & 0 & 1 & 0 & 0 & 0 & 0 & 0 & 0 & 0 & 0 & 0 & 0 & 0 & 0 \\\\\n",
    "0 & 0 & 0 & 0 & 1 & 0 & 0 & 0 & 0 & 0 & 0 & 0 & 0 & 0 & 0 & 0 \\\\\n",
    "0 & 1 & 0 & 0 & 1 & -4 & 1 & 0 & 0 & 1 & 0 & 0 & 0 & 0 & 0 & 0 \\\\\n",
    "0 & 0 & 1 & 0 & 0 & 1 & -4 & 1 & 0 & 0 & 1 & 0 & 0 & 0 & 0 & 0 \\\\\n",
    "0 & 0 & 0 & 0 & 0 & 0 & 0 & 1 & 0 & 0 & 0 & 0 & 0 & 0 & 0 & 0 \\\\\n",
    "0 & 0 & 0 & 0 & 0 & 0 & 0 & 0 & 1 & 0 & 0 & 0 & 0 & 0 & 0 & 0 \\\\\n",
    "0 & 0 & 0 & 0 & 0 & 1 & 0 & 0 & 1 & -4 & 1 & 0 & 0 & 1 & 0 & 0 \\\\\n",
    "0 & 0 & 0 & 0 & 0 & 0 & 1 & 0 & 0 & 1 & -4 & 1 & 0 & 0 & 1 & 0 \\\\\n",
    "0 & 0 & 0 & 0 & 0 & 0 & 0 & 0 & 0 & 0 & 0 & 1 & 0 & 0 & 0 & 0 \\\\\n",
    "0 & 0 & 0 & 0 & 0 & 0 & 0 & 0 & 0 & 0 & 0 & 0 & 1 & 0 & 0 & 0 \\\\\n",
    "0 & 0 & 0 & 0 & 0 & 0 & 0 & 0 & 0 & 0 & 0 & 0 & 0 & 1 & 0 & 0 \\\\\n",
    "0 & 0 & 0 & 0 & 0 & 0 & 0 & 0 & 0 & 0 & 0 & 0 & 0 & 0 & 1 & 0 \\\\\n",
    "0 & 0 & 0 & 0 & 0 & 0 & 0 & 0 & 0 & 0 & 0 & 0 & 0 & 0 & 0 & 1 \\\\\n",
    "\\end{pmatrix}\n",
    "\\begin{pmatrix}\n",
    "\\phi_{0,0}\\\\ \\phi_{1,0} \\\\ \\phi_{2,0} \\\\ \\phi_{3,0} \\\\ \n",
    "\\phi_{0,1}\\\\ \\phi_{1,1} \\\\ \\phi_{2,1} \\\\ \\phi_{3,1} \\\\\n",
    "\\phi_{0,2}\\\\ \\phi_{1,2} \\\\ \\phi_{2,2} \\\\ \\phi_{3,2} \\\\\n",
    "\\phi_{0,3}\\\\ \\phi_{1,3} \\\\ \\phi_{2,3} \\\\ \\phi_{3,3} \n",
    "\\end{pmatrix}=\n",
    "\\begin{pmatrix}\n",
    "0\\\\ 0 \\\\ 0 \\\\ 0 \\\\ \n",
    "0\\\\ \\frac{2}{27} \\\\ \\frac{2}{27} \\\\ \\frac{1}{3} \\\\\n",
    "0\\\\ \\frac{4}{27} \\\\ \\frac{4}{27} \\\\ \\frac{2}{3} \\\\\n",
    "0\\\\ \\frac{1}{3} \\\\ \\frac{2}{3} \\\\ 1 \n",
    "\\end{pmatrix}\n",
    "\\end{equation}"
   ]
  },
  {
   "cell_type": "markdown",
   "metadata": {},
   "source": [
    "This system can be solved manually because there are only 4 values of the function $\\phi$ to obtain. It is also possible to find the solution using the function [numpy.linalg.solve( )](https://numpy.org/doc/stable/reference/generated/numpy.linalg.solve.html)."
   ]
  },
  {
   "cell_type": "markdown",
   "metadata": {},
   "source": [
    "The values found for the function $\\phi$ are\n",
    "\n",
    "\\begin{align}\n",
    "\\phi_{1,1} = & 0.0648\\\\ \n",
    "\\phi_{2,1} = & 0.1759\\\\ \n",
    "\\phi_{1,2} = & 0.1574\\\\\n",
    "\\phi_{2,2} = & 0.3796\n",
    "\\end{align}"
   ]
  },
  {
   "cell_type": "markdown",
   "metadata": {},
   "source": [
    "Even though this method is easily applicable and fast in the presented example, when working on a real-life problem with a large number of nodes, the solution of the system of linear equations may require a very long computation time. If the discretization is done with $N$ points, the matrix $\\phi_{i,j}$ will have $N^2$ elements and the number of operations required to solve the corresponding linear system will be $\\mathcal{O}(N ^3)$. In the case of $N=100$ this means a number of operations of the order of $10^6$."
   ]
  },
  {
   "cell_type": "markdown",
   "metadata": {},
   "source": [
    "---\n",
    "\n",
    "## Relaxation Methods\n",
    "\n",
    "Another class of algorithms for the solution of Poisson's equation are the so-called relaxation methods. In these, the process begins with an initial ansatz that is then modified through iterations to get closer to the true solution.\n",
    "\n",
    "### Jacobi method\n",
    "\n",
    "This is the simplest method of all and can be summarized in the following steps:\n",
    "\n",
    "1. The matrix $\\phi_{i,j}$ is initialized with an initial ansatz\n",
    "2. Boundary conditions apply\n",
    "3. For each interior point in the mesh, calculate the amount\n",
    "\\begin{equation}\n",
    "\\phi^*_{i,j} = \\frac{1}{4} \\left( \\phi_{i+1,j} + \\phi_{i-1,j} + \\phi_{i,j+1 } + \\phi_{i,j-1} - h^2\\rho_{i,j}\\right)\n",
    "\\end{equation}\n",
    "\n",
    "4. For each interior point $\\phi_{i,j}$ is replaced by $\\phi^*_{i,j}$\n",
    "5. Return to step 2 until the difference between the two most recent approximations is smaller than a predetermined tolerance.\n",
    "\n",
    "\n",
    "Although the Jacobi method is fast and easy to implement, it can have slow convergence, especially for a large number of nodes.\n",
    "\n",
    "### Gauss-Seidel method\n",
    "\n",
    "This method is similar to Jacobi's, except that steps 3. and 4. above are combined in such a way that $\\phi_{i,j}$ is replaced by $\\phi^*_{i,j}$ immediately is calculated. With this small modification it is possible to improve the calculation time and additionally less memory space is needed to store the intermediate calculations.\n",
    "\n",
    "### Successive Over-Relaxation Method (SOR)\n",
    "\n",
    "Another possible modification to the above methods is to change the update with the form\n",
    "\n",
    "\\begin{equation}\n",
    "\\phi^*_{i,j} = (1-\\omega) \\phi_{i,j} + \\frac{1}{4} \\omega \\left( \\phi_{i+1,j} + \\phi_ {i-1,j} + \\phi_{i,j+1} + \\phi_{i,j-1} - h^2\\rho_{i,j}\\right)\n",
    "\\end{equation}\n",
    "\n",
    "where $\\omega$ is a relaxation parameter. The value $\\omega = 1$ retrieves the Gauss-Seidel method, values ​​$\\omega<1$ produce *sub-relaxation* (i.e. a portion of the previous solution is kept) and a value $\\omega >1$ produces *over-relaxation* (the new solution moves farther from the previous solution than in the Gauss-Seidel model).\n",
    "\n",
    "The most appropriate value for $\\omega$ depends on the particular problem being solved. However, values ​​in the range $1.2 \\leq \\omega \\leq 1.4$ usually give very good results. The SOR method requires fewer iterations than the Jacobi and Gauss-Seidel methods and in general can be considered the most practical of all, although it is important to emphasize that the convergence of the solution also depends on the initial ansatz chosen."
   ]
  },
  {
   "cell_type": "code",
   "execution_count": null,
   "metadata": {},
   "outputs": [],
   "source": []
  }
 ],
 "metadata": {
  "@webio": {
   "lastCommId": null,
   "lastKernelId": null
  },
  "colab": {
   "collapsed_sections": [],
   "name": "PDE05.ipynb",
   "provenance": []
  },
  "kernelspec": {
   "display_name": "Python 3 (ipykernel)",
   "language": "python",
   "name": "python3"
  },
  "language_info": {
   "codemirror_mode": {
    "name": "ipython",
    "version": 3
   },
   "file_extension": ".py",
   "mimetype": "text/x-python",
   "name": "python",
   "nbconvert_exporter": "python",
   "pygments_lexer": "ipython3",
   "version": "3.9.5"
  }
 },
 "nbformat": 4,
 "nbformat_minor": 1
}
