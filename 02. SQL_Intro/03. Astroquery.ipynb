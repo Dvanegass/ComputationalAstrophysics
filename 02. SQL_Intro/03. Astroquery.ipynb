{
 "cells": [
  {
   "cell_type": "markdown",
   "metadata": {
    "id": "JG-5Y0W5_4cm"
   },
   "source": [
    "![Astrofisica Computacional](../logo.png)"
   ]
  },
  {
   "cell_type": "markdown",
   "metadata": {},
   "source": [
    "---\n",
    "## 03. Astroquery\n",
    "\n",
    "\n",
    "Eduard Larrañaga (ealarranaga@unal.edu.co)\n",
    "\n",
    "---"
   ]
  },
  {
   "cell_type": "markdown",
   "metadata": {
    "id": "V_L8Z7Pb_4cp"
   },
   "source": [
    "\n",
    "### About this notebook\n",
    "\n",
    "In this worksheet we will present some basic examples of the use of `Astroquery`. \n",
    "\n",
    "---"
   ]
  },
  {
   "cell_type": "markdown",
   "metadata": {
    "id": "g7R70iXH-qH9"
   },
   "source": [
    "### Example 01\n",
    "\n",
    "We use `Astroquery` to query [Vizier](http://vizier.cfa.harvard.edu) about a specific keyword, and we will use of [astropy.coordinates](https://docs.astropy.org/en/stable/coordinates/index.html) to restrict the results. \n",
    "\n",
    "Vizier’s keywords can indicate features such as wavelength or object type. However, we will use only the object type now,"
   ]
  },
  {
   "cell_type": "code",
   "execution_count": 8,
   "metadata": {},
   "outputs": [
    {
     "data": {
      "text/plain": [
       "<astroquery.vizier.core.VizierClass at 0x1151dec40>"
      ]
     },
     "execution_count": 8,
     "metadata": {},
     "output_type": "execute_result"
    }
   ],
   "source": [
    "from astroquery.vizier import Vizier\n",
    "from astropy import coordinates\n",
    "from astropy import units as u\n",
    "\n",
    "v = Vizier(keywords=['stars:white_dwarf']) # Defining the class of the objects\n",
    "v"
   ]
  },
  {
   "cell_type": "code",
   "execution_count": 9,
   "metadata": {},
   "outputs": [
    {
     "data": {
      "text/plain": [
       "64"
      ]
     },
     "execution_count": 9,
     "metadata": {},
     "output_type": "execute_result"
    }
   ],
   "source": [
    "\n",
    "# Define a reference point in the sky using coordinates\n",
    "c = coordinates.SkyCoord(0, 0, unit=('deg', 'deg'), frame='icrs')\n",
    "\n",
    "# Restrict the query to thos objects of the desired object in a certain region\n",
    "# around our reference point\n",
    "result = v.query_region(c, radius=2*u.deg)\n",
    "\n",
    "# Number of datasets in the restricted query\n",
    "len(result)"
   ]
  },
  {
   "cell_type": "code",
   "execution_count": 31,
   "metadata": {},
   "outputs": [
    {
     "data": {
      "text/plain": [
       "TableList with 64 tables:\n",
       "\t'0:III/70/catalog' with 14 column(s) and 3 row(s) \n",
       "\t'1:B/wd/catalog' with 14 column(s) and 39 row(s) \n",
       "\t'2:J/ApJ/607/426/stars' with 13 column(s) and 16 row(s) \n",
       "\t'3:J/ApJ/663/1291/table2' with 15 column(s) and 1 row(s) \n",
       "\t'4:J/ApJ/730/128/table1' with 16 column(s) and 11 row(s) \n",
       "\t'5:J/ApJ/731/17/var' with 18 column(s) and 5 row(s) \n",
       "\t'6:J/ApJ/765/12/table1' with 23 column(s) and 2 row(s) \n",
       "\t'7:J/ApJ/882/106/table1' with 16 column(s) and 7 row(s) \n",
       "\t'8:J/ApJ/885/74/table1' with 9 column(s) and 2 row(s) \n",
       "\t'9:J/ApJ/898/84/table1' with 17 column(s) and 2 row(s) \n",
       "\t'10:J/ApJ/901/93/table1' with 23 column(s) and 2 row(s) \n",
       "\t'11:J/ApJS/167/40/catalog' with 12 column(s) and 33 row(s) \n",
       "\t'12:J/ApJS/167/40/table5' with 9 column(s) and 1 row(s) \n",
       "\t'13:J/ApJS/190/77/table1' with 18 column(s) and 1 row(s) \n",
       "\t'14:J/ApJS/204/5/table2' with 21 column(s) and 35 row(s) \n",
       "\t'15:J/ApJS/215/24/table4' with 18 column(s) and 14 row(s) \n",
       "\t'16:J/ApJS/215/24/table5' with 20 column(s) and 1 row(s) \n",
       "\t'17:J/ApJS/235/16/targets' with 14 column(s) and 50 row(s) \n",
       "\t'18:J/A+A/419/L5/table1' with 14 column(s) and 7 row(s) \n",
       "\t'19:J/A+A/466/627/table2' with 11 column(s) and 7 row(s) \n",
       "\t'20:J/A+A/496/191/table3' with 11 column(s) and 1 row(s) \n",
       "\t'21:J/A+A/536/A43/table4s' with 13 column(s) and 3 row(s) \n",
       "\t'22:J/A+A/583/A86/table1' with 16 column(s) and 3 row(s) \n",
       "\t'23:J/A+A/658/A22/table2' with 13 column(s) and 1 row(s) \n",
       "\t'24:J/A+A/658/A79/wdpda' with 26 column(s) and 19 row(s) \n",
       "\t'25:J/AJ/131/582/table1' with 15 column(s) and 2 row(s) \n",
       "\t'26:J/AJ/134/741/table1' with 10 column(s) and 2 row(s) \n",
       "\t'27:J/AJ/144/93/table' with 21 column(s) and 5 row(s) \n",
       "\t'28:J/PASP/130/H4203/table6' with 22 column(s) and 8 row(s) \n",
       "\t'29:J/MNRAS/382/515/WD' with 18 column(s) and 2 row(s) \n",
       "\t'30:J/MNRAS/382/1377/table2' with 11 column(s) and 2 row(s) \n",
       "\t'31:J/MNRAS/399/699/haloWD' with 16 column(s) and 2 row(s) \n",
       "\t'32:J/MNRAS/399/699/table4' with 8 column(s) and 1 row(s) \n",
       "\t'33:J/MNRAS/402/620/table5' with 15 column(s) and 6 row(s) \n",
       "\t'34:J/MNRAS/402/620/updates' with 5 column(s) and 1 row(s) \n",
       "\t'35:J/MNRAS/402/620/table7' with 17 column(s) and 9 row(s) \n",
       "\t'36:J/MNRAS/402/620/table9' with 10 column(s) and 4 row(s) \n",
       "\t'37:J/MNRAS/411/2770/gr5-ais' with 16 column(s) and 30 row(s) \n",
       "\t'38:J/MNRAS/411/2770/gr5-mis' with 16 column(s) and 37 row(s) \n",
       "\t'39:J/MNRAS/413/1581/table4' with 20 column(s) and 3 row(s) \n",
       "\t'40:J/MNRAS/417/1210/spec' with 21 column(s) and 19 row(s) \n",
       "\t'41:J/MNRAS/417/1210/phot' with 18 column(s) and 20 row(s) \n",
       "\t'42:J/MNRAS/429/2143/tablea1' with 15 column(s) and 3 row(s) \n",
       "\t'43:J/MNRAS/433/3398/table2' with 19 column(s) and 9 row(s) \n",
       "\t'44:J/MNRAS/433/3398/rejected' with 8 column(s) and 1 row(s) \n",
       "\t'45:J/MNRAS/445/1331/catalog' with 24 column(s) and 1 row(s) \n",
       "\t'46:J/MNRAS/446/4078/table6' with 19 column(s) and 8 row(s) \n",
       "\t'47:J/MNRAS/448/2260/catalog' with 20 column(s) and 50 row(s) \n",
       "\t'48:J/MNRAS/448/2260/spectra' with 11 column(s) and 50 row(s) \n",
       "\t'49:J/MNRAS/452/765/catalog' with 17 column(s) and 1 row(s) \n",
       "\t'50:J/MNRAS/455/3413/table6' with 21 column(s) and 1 row(s) \n",
       "\t'51:J/MNRAS/458/3808/tables1' with 9 column(s) and 1 row(s) \n",
       "\t'52:J/MNRAS/463/2125/rave' with 11 column(s) and 1 row(s) \n",
       "\t'53:J/MNRAS/469/2102/table1' with 19 column(s) and 24 row(s) \n",
       "\t'54:J/MNRAS/475/2480/table1' with 11 column(s) and 1 row(s) \n",
       "\t'55:J/MNRAS/477/4641/table1' with 12 column(s) and 1 row(s) \n",
       "\t'56:J/MNRAS/480/4505/tablea' with 25 column(s) and 14 row(s) \n",
       "\t'57:J/MNRAS/482/715/tablea1' with 19 column(s) and 13 row(s) \n",
       "\t'58:J/MNRAS/482/4570/gaia2wd' with 26 column(s) and 50 row(s) \n",
       "\t'59:J/MNRAS/482/4570/gaiasdss' with 17 column(s) and 50 row(s) \n",
       "\t'60:J/MNRAS/508/3877/maincat' with 27 column(s) and 50 row(s) \n",
       "\t'61:J/MNRAS/508/3877/sdssspec' with 27 column(s) and 50 row(s) \n",
       "\t'62:J/MNRAS/508/3877/rpm_ext' with 19 column(s) and 16 row(s) \n",
       "\t'63:J/other/Sci/292.698/ohdhs' with 11 column(s) and 7 row(s) "
      ]
     },
     "execution_count": 31,
     "metadata": {},
     "output_type": "execute_result"
    }
   ],
   "source": [
    "# The complete query includes these tables\n",
    "# Note the bib-reference of each table\n",
    "result"
   ]
  },
  {
   "cell_type": "code",
   "execution_count": 32,
   "metadata": {},
   "outputs": [
    {
     "data": {
      "text/html": [
       "<i>Table length=35</i>\n",
       "<table id=\"table4653469024\" class=\"table-striped table-bordered table-condensed\">\n",
       "<thead><tr><th>SDSS</th><th>RAJ2000</th><th>DEJ2000</th><th>SNg</th><th>umag</th><th>gmag</th><th>rmag</th><th>imag</th><th>zmag</th><th>pm</th><th>pmPA</th><th>Teff</th><th>log_g_</th><th>Nsp</th><th>q_Nsp</th><th>Mass</th><th>Type</th><th>WDcat</th><th>DR7</th><th>Sloan</th><th>Simbad</th></tr></thead>\n",
       "<thead><tr><th></th><th>deg</th><th>deg</th><th></th><th>mag</th><th>mag</th><th>mag</th><th>mag</th><th>mag</th><th>mas / yr</th><th>deg</th><th>K</th><th>log(cm.s**-2)</th><th></th><th></th><th>Msun</th><th></th><th></th><th></th><th></th><th></th></tr></thead>\n",
       "<thead><tr><th>str18</th><th>float64</th><th>float64</th><th>float32</th><th>float32</th><th>float32</th><th>float32</th><th>float32</th><th>float32</th><th>float32</th><th>float32</th><th>int32</th><th>float32</th><th>str4</th><th>str1</th><th>float32</th><th>str19</th><th>int16</th><th>str3</th><th>str5</th><th>str6</th></tr></thead>\n",
       "<tr><td>000006.75-004654.0</td><td>0.028139</td><td>-0.781661</td><td>12.34</td><td>19.17</td><td>18.83</td><td>18.87</td><td>19.04</td><td>19.39</td><td>1.6</td><td>263.8</td><td>10772</td><td>8.37</td><td></td><td></td><td>0.824</td><td>DA</td><td>1</td><td>DR7</td><td>Sloan</td><td>Simbad</td></tr>\n",
       "<tr><td>000012.32-005042.6</td><td>0.051353</td><td>-0.845158</td><td>4.56</td><td>20.41</td><td>20.04</td><td>19.92</td><td>20.02</td><td>20.00</td><td>5.5</td><td>162.8</td><td>7994</td><td>8.33</td><td></td><td></td><td>0.794</td><td>DA</td><td>1</td><td>DR7</td><td>Sloan</td><td>Simbad</td></tr>\n",
       "<tr><td>000022.88-000635.7</td><td>0.095315</td><td>-0.109913</td><td>18.64</td><td>18.24</td><td>18.21</td><td>18.52</td><td>18.88</td><td>19.12</td><td>6.4</td><td>318.7</td><td>22222</td><td>7.39</td><td></td><td></td><td>0.415</td><td>DA</td><td>2</td><td>DR7</td><td>Sloan</td><td>Simbad</td></tr>\n",
       "<tr><td>000034.07-010820.0</td><td>0.141964</td><td>-1.138881</td><td>21.91</td><td>18.26</td><td>17.82</td><td>18.03</td><td>18.21</td><td>18.44</td><td>29.0</td><td>119.6</td><td>12666</td><td>8.06</td><td></td><td></td><td>0.639</td><td>DA</td><td>1</td><td>DR7</td><td>Sloan</td><td>Simbad</td></tr>\n",
       "<tr><td>000052.44-002610.5</td><td>0.218509</td><td>-0.436249</td><td>13.17</td><td>19.15</td><td>18.73</td><td>18.67</td><td>18.65</td><td>18.80</td><td>56.6</td><td>182.9</td><td>10088</td><td>9.32</td><td></td><td></td><td>--</td><td>DQ</td><td>2</td><td>DR7</td><td>Sloan</td><td>Simbad</td></tr>\n",
       "<tr><td>000104.05+000355.8</td><td>0.266894</td><td>0.065506</td><td>13.61</td><td>19.25</td><td>18.82</td><td>19.05</td><td>19.28</td><td>19.47</td><td>11.3</td><td>160.4</td><td>13274</td><td>7.90</td><td></td><td></td><td>0.557</td><td>DA</td><td>1</td><td>DR7</td><td>Sloan</td><td>Simbad</td></tr>\n",
       "<tr><td>...</td><td>...</td><td>...</td><td>...</td><td>...</td><td>...</td><td>...</td><td>...</td><td>...</td><td>...</td><td>...</td><td>...</td><td>...</td><td>...</td><td>...</td><td>...</td><td>...</td><td>...</td><td>...</td><td>...</td><td>...</td></tr>\n",
       "<tr><td>235653.28+002138.6</td><td>359.222010</td><td>0.360720</td><td>8.45</td><td>19.74</td><td>19.16</td><td>18.99</td><td>18.91</td><td>18.95</td><td>113.8</td><td>41.8</td><td>6987</td><td>7.88</td><td>2635</td><td></td><td>--</td><td>DA</td><td>3</td><td>DR7</td><td>Sloan</td><td>Simbad</td></tr>\n",
       "<tr><td>235653.28+002138.6</td><td>359.222010</td><td>0.360720</td><td>9.10</td><td>19.74</td><td>19.16</td><td>18.99</td><td>18.91</td><td>18.95</td><td>113.8</td><td>41.8</td><td>6915</td><td>8.16</td><td>2635</td><td>a</td><td>0.686</td><td>DA</td><td>3</td><td>DR7</td><td>Sloan</td><td>Simbad</td></tr>\n",
       "<tr><td>235841.91-010017.3</td><td>359.674630</td><td>-1.004795</td><td>6.34</td><td>19.44</td><td>19.73</td><td>20.17</td><td>20.54</td><td>20.83</td><td>--</td><td>--</td><td>40032</td><td>7.04</td><td></td><td></td><td>0.425</td><td>DA</td><td>1</td><td>DR7</td><td>Sloan</td><td>Simbad</td></tr>\n",
       "<tr><td>235937.32+001932.5</td><td>359.905510</td><td>0.325692</td><td>7.87</td><td>19.99</td><td>19.53</td><td>19.63</td><td>19.73</td><td>19.74</td><td>9.9</td><td>44.6</td><td>10108</td><td>8.09</td><td></td><td></td><td>0.651</td><td>DA</td><td>1</td><td>DR7</td><td>Sloan</td><td>Simbad</td></tr>\n",
       "<tr><td>235950.69+010740.1</td><td>359.961200</td><td>1.127802</td><td>12.19</td><td>19.33</td><td>18.88</td><td>18.92</td><td>19.09</td><td>19.17</td><td>8.3</td><td>325.5</td><td>10424</td><td>8.25</td><td></td><td></td><td>0.748</td><td>DA</td><td>1</td><td>DR7</td><td>Sloan</td><td>Simbad</td></tr>\n",
       "<tr><td>235955.42+003910.3</td><td>359.980920</td><td>0.652864</td><td>10.45</td><td>19.64</td><td>19.17</td><td>19.22</td><td>19.45</td><td>19.49</td><td>64.6</td><td>100.3</td><td>10338</td><td>7.92</td><td></td><td></td><td>0.559</td><td>DA</td><td>0</td><td>DR7</td><td>Sloan</td><td>Simbad</td></tr>\n",
       "</table>"
      ],
      "text/plain": [
       "<Table length=35>\n",
       "       SDSS         RAJ2000    DEJ2000     SNg   ... WDcat DR7  Sloan Simbad\n",
       "                      deg        deg             ...                        \n",
       "      str18         float64    float64   float32 ... int16 str3  str5  str6 \n",
       "------------------ ---------- ---------- ------- ... ----- ---- ----- ------\n",
       "000006.75-004654.0   0.028139  -0.781661   12.34 ...     1  DR7 Sloan Simbad\n",
       "000012.32-005042.6   0.051353  -0.845158    4.56 ...     1  DR7 Sloan Simbad\n",
       "000022.88-000635.7   0.095315  -0.109913   18.64 ...     2  DR7 Sloan Simbad\n",
       "000034.07-010820.0   0.141964  -1.138881   21.91 ...     1  DR7 Sloan Simbad\n",
       "000052.44-002610.5   0.218509  -0.436249   13.17 ...     2  DR7 Sloan Simbad\n",
       "000104.05+000355.8   0.266894   0.065506   13.61 ...     1  DR7 Sloan Simbad\n",
       "               ...        ...        ...     ... ...   ...  ...   ...    ...\n",
       "235653.28+002138.6 359.222010   0.360720    8.45 ...     3  DR7 Sloan Simbad\n",
       "235653.28+002138.6 359.222010   0.360720    9.10 ...     3  DR7 Sloan Simbad\n",
       "235841.91-010017.3 359.674630  -1.004795    6.34 ...     1  DR7 Sloan Simbad\n",
       "235937.32+001932.5 359.905510   0.325692    7.87 ...     1  DR7 Sloan Simbad\n",
       "235950.69+010740.1 359.961200   1.127802   12.19 ...     1  DR7 Sloan Simbad\n",
       "235955.42+003910.3 359.980920   0.652864   10.45 ...     0  DR7 Sloan Simbad"
      ]
     },
     "execution_count": 32,
     "metadata": {},
     "output_type": "execute_result"
    }
   ],
   "source": [
    "# A dataset (table) in the results is accesed via\n",
    "result[14]"
   ]
  },
  {
   "cell_type": "markdown",
   "metadata": {},
   "source": [
    "---\n",
    "\n",
    "### Example 02\n",
    "\n",
    "We will look into [SIMBAD](http://simbad.u-strasbg.fr/simbad/) for a particular object.\n",
    "\n"
   ]
  },
  {
   "cell_type": "code",
   "execution_count": 2,
   "metadata": {},
   "outputs": [],
   "source": [
    "from astroquery.simbad import Simbad\n",
    "\n",
    "result_table = Simbad.query_object(\"m1\")"
   ]
  },
  {
   "cell_type": "code",
   "execution_count": 3,
   "metadata": {},
   "outputs": [
    {
     "name": "stdout",
     "output_type": "stream",
     "text": [
      "MAIN_ID       RA           DEC      ...     COO_BIBCODE     SCRIPT_NUMBER_ID\n",
      "           \"h:m:s\"       \"d:m:s\"    ...                                     \n",
      "------- ------------- ------------- ... ------------------- ----------------\n",
      "  M   1 05 34 31.9474 +22 00 52.153 ... 2020yCat.1350....0G                1\n"
     ]
    }
   ],
   "source": [
    "result_table.pprint(show_unit=True)"
   ]
  },
  {
   "cell_type": "markdown",
   "metadata": {},
   "source": [
    "---\n",
    "\n",
    "### Example 03\n",
    "\n",
    "We will look again into [SIMBAD](http://simbad.u-strasbg.fr/simbad/) for items in a particular range of timer and restric for a particular object.\n"
   ]
  },
  {
   "cell_type": "code",
   "execution_count": 34,
   "metadata": {},
   "outputs": [
    {
     "data": {
      "text/plain": [
       "<astroquery.simbad.core.SimbadClass at 0x124a3dbb0>"
      ]
     },
     "execution_count": 34,
     "metadata": {},
     "output_type": "execute_result"
    }
   ],
   "source": [
    "from astroquery.simbad import Simbad\n",
    "\n",
    "s = Simbad()\n",
    "# bibcodelist(date1-date2) lists the number of bibliography\n",
    "# items referring to each object over that date range\n",
    "s.add_votable_fields('bibcodelist(2003-2013)')\n",
    "s"
   ]
  },
  {
   "cell_type": "code",
   "execution_count": 36,
   "metadata": {},
   "outputs": [
    {
     "data": {
      "text/html": [
       "<i>Table length=1</i>\n",
       "<table id=\"table4691410656\" class=\"table-striped table-bordered table-condensed\">\n",
       "<thead><tr><th>MAIN_ID</th><th>RA</th><th>DEC</th><th>RA_PREC</th><th>DEC_PREC</th><th>COO_ERR_MAJA</th><th>COO_ERR_MINA</th><th>COO_ERR_ANGLE</th><th>COO_QUAL</th><th>COO_WAVELENGTH</th><th>COO_BIBCODE</th><th>BIBLIST_2003_2013</th><th>SCRIPT_NUMBER_ID</th></tr></thead>\n",
       "<thead><tr><th></th><th>&quot;h:m:s&quot;</th><th>&quot;d:m:s&quot;</th><th></th><th></th><th>mas</th><th>mas</th><th>deg</th><th></th><th></th><th></th><th></th><th></th></tr></thead>\n",
       "<thead><tr><th>object</th><th>str13</th><th>str13</th><th>int16</th><th>int16</th><th>float32</th><th>float32</th><th>int16</th><th>str1</th><th>str1</th><th>object</th><th>int32</th><th>int32</th></tr></thead>\n",
       "<tr><td>M  31</td><td>00 42 44.330</td><td>+41 16 07.50</td><td>7</td><td>7</td><td>--</td><td>--</td><td>0</td><td>C</td><td>I</td><td>2006AJ....131.1163S</td><td>4177</td><td>1</td></tr>\n",
       "</table>"
      ],
      "text/plain": [
       "<Table length=1>\n",
       "MAIN_ID      RA          DEC      ... BIBLIST_2003_2013 SCRIPT_NUMBER_ID\n",
       "          \"h:m:s\"      \"d:m:s\"    ...                                   \n",
       " object    str13        str13     ...       int32            int32      \n",
       "------- ------------ ------------ ... ----------------- ----------------\n",
       "  M  31 00 42 44.330 +41 16 07.50 ...              4177                1"
      ]
     },
     "execution_count": 36,
     "metadata": {},
     "output_type": "execute_result"
    }
   ],
   "source": [
    "# Restrict for a particular object\n",
    "result2 = s.query_object('m31')\n",
    "result2"
   ]
  },
  {
   "cell_type": "markdown",
   "metadata": {},
   "source": [
    "---\n",
    "\n",
    "### Example 04 \n",
    "\n",
    "This illustrates finding the spectral type of some particular star.\n",
    "\n"
   ]
  },
  {
   "cell_type": "code",
   "execution_count": 38,
   "metadata": {},
   "outputs": [],
   "source": [
    "from astroquery.simbad import Simbad\n",
    "\n",
    "customSimbad = Simbad()\n",
    "\n",
    "# We add the type of the object\n",
    "customSimbad.add_votable_fields('sptype')"
   ]
  },
  {
   "cell_type": "markdown",
   "metadata": {},
   "source": [
    "We restric the query to the object [g Her](http://simbad.u-strasbg.fr/simbad/sim-id?Ident=g+Her)"
   ]
  },
  {
   "cell_type": "code",
   "execution_count": 40,
   "metadata": {},
   "outputs": [
    {
     "data": {
      "text/html": [
       "<i>Table length=1</i>\n",
       "<table id=\"table4950724512\" class=\"table-striped table-bordered table-condensed\">\n",
       "<thead><tr><th>MAIN_ID</th><th>RA</th><th>DEC</th><th>RA_PREC</th><th>DEC_PREC</th><th>COO_ERR_MAJA</th><th>COO_ERR_MINA</th><th>COO_ERR_ANGLE</th><th>COO_QUAL</th><th>COO_WAVELENGTH</th><th>COO_BIBCODE</th><th>SP_TYPE</th><th>SP_QUAL</th><th>SP_BIBCODE</th><th>SCRIPT_NUMBER_ID</th></tr></thead>\n",
       "<thead><tr><th></th><th>&quot;h:m:s&quot;</th><th>&quot;d:m:s&quot;</th><th></th><th></th><th>mas</th><th>mas</th><th>deg</th><th></th><th></th><th></th><th></th><th></th><th></th><th></th></tr></thead>\n",
       "<thead><tr><th>object</th><th>str13</th><th>str13</th><th>int16</th><th>int16</th><th>float32</th><th>float32</th><th>int16</th><th>str1</th><th>str1</th><th>object</th><th>object</th><th>str1</th><th>object</th><th>int32</th></tr></thead>\n",
       "<tr><td>* g Her</td><td>16 28 38.5485</td><td>+41 52 54.040</td><td>11</td><td>11</td><td>0.160</td><td>0.160</td><td>90</td><td>A</td><td>O</td><td>2007A&amp;A...474..653V</td><td>M6-III</td><td>B</td><td>1989ApJS...71..245K</td><td>1</td></tr>\n",
       "</table>"
      ],
      "text/plain": [
       "<Table length=1>\n",
       "MAIN_ID       RA           DEC      ...      SP_BIBCODE     SCRIPT_NUMBER_ID\n",
       "           \"h:m:s\"       \"d:m:s\"    ...                                     \n",
       " object     str13         str13     ...        object            int32      \n",
       "------- ------------- ------------- ... ------------------- ----------------\n",
       "* g Her 16 28 38.5485 +41 52 54.040 ... 1989ApJS...71..245K                1"
      ]
     },
     "execution_count": 40,
     "metadata": {},
     "output_type": "execute_result"
    }
   ],
   "source": [
    "# Restrict to the star \n",
    "result = customSimbad.query_object('g her')\n",
    "result"
   ]
  },
  {
   "cell_type": "code",
   "execution_count": 41,
   "metadata": {},
   "outputs": [
    {
     "data": {
      "text/plain": [
       "'* g Her'"
      ]
     },
     "execution_count": 41,
     "metadata": {},
     "output_type": "execute_result"
    }
   ],
   "source": [
    "# ID of the object\n",
    "result['MAIN_ID'][0]"
   ]
  },
  {
   "cell_type": "code",
   "execution_count": 42,
   "metadata": {},
   "outputs": [
    {
     "data": {
      "text/plain": [
       "'M6-III'"
      ]
     },
     "execution_count": 42,
     "metadata": {},
     "output_type": "execute_result"
    }
   ],
   "source": [
    "# Spectral Type of the object\n",
    "result['SP_TYPE'][0]"
   ]
  },
  {
   "cell_type": "markdown",
   "metadata": {
    "id": "MwAOj4WE_4cp"
   },
   "source": [
    "### Example 05\n",
    "\n",
    "We will search into the [open exoplanet catalogue](http://www.openexoplanetcatalogue.com)  to find the mass of a specific planet.\n",
    " "
   ]
  },
  {
   "cell_type": "code",
   "execution_count": 44,
   "metadata": {},
   "outputs": [
    {
     "data": {
      "text/plain": [
       "<Element 'planet' at 0x167df6ea0>"
      ]
     },
     "execution_count": 44,
     "metadata": {},
     "output_type": "execute_result"
    }
   ],
   "source": [
    "from astroquery import open_exoplanet_catalogue as oec\n",
    "from astroquery.open_exoplanet_catalogue import findvalue\n",
    "\n",
    "cata = oec.get_catalogue()\n",
    "\n",
    "# Specify the exoplanet\n",
    "kepler68b = cata.find(\".//planet[name='Kepler-68 b']\")\n",
    "\n",
    "kepler68b"
   ]
  },
  {
   "cell_type": "code",
   "execution_count": 45,
   "metadata": {},
   "outputs": [
    {
     "data": {
      "text/plain": [
       "0.026 +0.008 -0.007"
      ]
     },
     "execution_count": 45,
     "metadata": {},
     "output_type": "execute_result"
    }
   ],
   "source": [
    "# The mass of the planet is\n",
    "findvalue(kepler68b, 'mass')"
   ]
  },
  {
   "cell_type": "markdown",
   "metadata": {
    "id": "HSLJ6sCyMp_A"
   },
   "source": [
    "---\n",
    "\n",
    "## Accesing the SDSS database using a SQL query\n",
    "\n",
    "We will access the SDSS database through astroquery and permform a SQL call,"
   ]
  },
  {
   "cell_type": "code",
   "execution_count": 63,
   "metadata": {},
   "outputs": [
    {
     "data": {
      "text/html": [
       "<i>Table length=10</i>\n",
       "<table id=\"table5944310416\" class=\"table-striped table-bordered table-condensed\">\n",
       "<thead><tr><th>z</th><th>ra</th><th>dec</th><th>bestObjID</th></tr></thead>\n",
       "<thead><tr><th>float64</th><th>float64</th><th>float64</th><th>int64</th></tr></thead>\n",
       "<tr><td>0.3000001</td><td>184.86409</td><td>52.571314</td><td>1237657629529211079</td></tr>\n",
       "<tr><td>0.3000009</td><td>222.98982</td><td>42.629408</td><td>1237658203986460871</td></tr>\n",
       "<tr><td>0.3000009</td><td>146.39863</td><td>5.8334459</td><td>1237658423547920434</td></tr>\n",
       "<tr><td>0.3000012</td><td>49.459411</td><td>0.847754</td><td>1237660241924063461</td></tr>\n",
       "<tr><td>0.3000018</td><td>172.28104</td><td>10.234226</td><td>1237658493349789816</td></tr>\n",
       "<tr><td>0.3000027</td><td>156.25024</td><td>7.6586271</td><td>1237658425162858683</td></tr>\n",
       "<tr><td>0.3000027</td><td>231.07321</td><td>32.718373</td><td>1237662341082382595</td></tr>\n",
       "<tr><td>0.3000033</td><td>197.37712</td><td>10.524518</td><td>1237662238545478566</td></tr>\n",
       "<tr><td>0.3000035</td><td>184.90501</td><td>-3.3095095</td><td>1237650760782053596</td></tr>\n",
       "<tr><td>0.3000037</td><td>242.52563</td><td>6.0693494</td><td>1237662198290186255</td></tr>\n",
       "</table>"
      ],
      "text/plain": [
       "<Table length=10>\n",
       "    z         ra       dec          bestObjID     \n",
       " float64   float64   float64          int64       \n",
       "--------- --------- ---------- -------------------\n",
       "0.3000001 184.86409  52.571314 1237657629529211079\n",
       "0.3000009 222.98982  42.629408 1237658203986460871\n",
       "0.3000009 146.39863  5.8334459 1237658423547920434\n",
       "0.3000012 49.459411   0.847754 1237660241924063461\n",
       "0.3000018 172.28104  10.234226 1237658493349789816\n",
       "0.3000027 156.25024  7.6586271 1237658425162858683\n",
       "0.3000027 231.07321  32.718373 1237662341082382595\n",
       "0.3000033 197.37712  10.524518 1237662238545478566\n",
       "0.3000035 184.90501 -3.3095095 1237650760782053596\n",
       "0.3000037 242.52563  6.0693494 1237662198290186255"
      ]
     },
     "execution_count": 63,
     "metadata": {},
     "output_type": "execute_result"
    }
   ],
   "source": [
    "from astroquery.sdss import SDSS\n",
    "\n",
    "#query = \"select top 10 z, ra, dec, bestObjID from  specObj where  class = 'galaxy' and z > 0.3  and zWarning = 0\"\n",
    "\n",
    "q1 = \"select top 10 z, ra, dec, bestObjID \"\n",
    "q2 = \"from  specObj \"\n",
    "q3 = \"where  class = 'galaxy' and z > 0.3  and zWarning = 0\"\n",
    "\n",
    "query = q1 + q2 + q3\n",
    "\n",
    "\n",
    "results = SDSS.query_sql(query)\n",
    "results"
   ]
  },
  {
   "cell_type": "markdown",
   "metadata": {
    "id": "HspiA8j3JhbH"
   },
   "source": [
    "---\n",
    "\n",
    "## SQL query in the SDSS database and crossmatch with other catalogues\n",
    "\n",
    "We make a SQL query to the SDSS and use `XMatch` to cross match with other catalogues, e.g. with WISE"
   ]
  },
  {
   "cell_type": "code",
   "execution_count": 1,
   "metadata": {},
   "outputs": [
    {
     "data": {
      "text/html": [
       "<i>Table length=100</i>\n",
       "<table id=\"table4679110320\" class=\"table-striped table-bordered table-condensed\">\n",
       "<thead><tr><th>z</th><th>ra</th><th>dec</th><th>bestObjID</th></tr></thead>\n",
       "<thead><tr><th>float64</th><th>float64</th><th>float64</th><th>int64</th></tr></thead>\n",
       "<tr><td>0.3000001</td><td>184.86409</td><td>52.571314</td><td>1237657629529211079</td></tr>\n",
       "<tr><td>0.3000009</td><td>222.98982</td><td>42.629408</td><td>1237658203986460871</td></tr>\n",
       "<tr><td>0.3000009</td><td>146.39863</td><td>5.8334459</td><td>1237658423547920434</td></tr>\n",
       "<tr><td>0.3000012</td><td>49.459411</td><td>0.847754</td><td>1237660241924063461</td></tr>\n",
       "<tr><td>0.3000018</td><td>172.28104</td><td>10.234226</td><td>1237658493349789816</td></tr>\n",
       "<tr><td>0.3000027</td><td>156.25024</td><td>7.6586271</td><td>1237658425162858683</td></tr>\n",
       "<tr><td>...</td><td>...</td><td>...</td><td>...</td></tr>\n",
       "<tr><td>0.3000467</td><td>351.30398</td><td>10.235439</td><td>1237678907315650843</td></tr>\n",
       "<tr><td>0.300047</td><td>148.5743</td><td>46.957565</td><td>1237657630055596280</td></tr>\n",
       "<tr><td>0.300047</td><td>157.03699</td><td>23.002797</td><td>1237667538547179946</td></tr>\n",
       "<tr><td>0.300048</td><td>359.29552</td><td>26.694314</td><td>1237680275796460142</td></tr>\n",
       "<tr><td>0.3000484</td><td>200.24996</td><td>54.405615</td><td>1237658917996921127</td></tr>\n",
       "<tr><td>0.3000487</td><td>10.377471</td><td>8.4479464</td><td>1237669768158511346</td></tr>\n",
       "<tr><td>0.300049</td><td>191.25412</td><td>51.891805</td><td>1237662301354459328</td></tr>\n",
       "</table>"
      ],
      "text/plain": [
       "<Table length=100>\n",
       "    z         ra       dec         bestObjID     \n",
       " float64   float64   float64         int64       \n",
       "--------- --------- --------- -------------------\n",
       "0.3000001 184.86409 52.571314 1237657629529211079\n",
       "0.3000009 222.98982 42.629408 1237658203986460871\n",
       "0.3000009 146.39863 5.8334459 1237658423547920434\n",
       "0.3000012 49.459411  0.847754 1237660241924063461\n",
       "0.3000018 172.28104 10.234226 1237658493349789816\n",
       "0.3000027 156.25024 7.6586271 1237658425162858683\n",
       "      ...       ...       ...                 ...\n",
       "0.3000467 351.30398 10.235439 1237678907315650843\n",
       " 0.300047  148.5743 46.957565 1237657630055596280\n",
       " 0.300047 157.03699 23.002797 1237667538547179946\n",
       " 0.300048 359.29552 26.694314 1237680275796460142\n",
       "0.3000484 200.24996 54.405615 1237658917996921127\n",
       "0.3000487 10.377471 8.4479464 1237669768158511346\n",
       " 0.300049 191.25412 51.891805 1237662301354459328"
      ]
     },
     "execution_count": 1,
     "metadata": {},
     "output_type": "execute_result"
    }
   ],
   "source": [
    "from astroquery.sdss import SDSS\n",
    "\n",
    "sdss = SDSS()\n",
    "\n",
    "#query = \"select top 100 z, ra, dec, bestObjID from specObj where class = 'galaxy' and z > 0.3 and zWarning = 0\"\n",
    "\n",
    "q1 = \"select top 100 z, ra, dec, bestObjID \"\n",
    "q2 = \"from  specObj \"\n",
    "q3 = \"where  class = 'galaxy' and z > 0.3  and zWarning = 0\"\n",
    "\n",
    "query = q1 + q2 + q3\n",
    "\n",
    "\n",
    "results = sdss.query_sql(query)\n",
    "results"
   ]
  },
  {
   "cell_type": "code",
   "execution_count": 3,
   "metadata": {},
   "outputs": [],
   "source": [
    "from astroquery.xmatch import XMatch\n",
    "from astropy import units as u\n",
    "\n",
    "xmatch = XMatch()\n",
    "\n",
    "SDSS_WISE_match = XMatch.query(cat1=results,\n",
    "                                      cat2='vizier:ii/328/allwise',\n",
    "                                      max_distance=3 * u.arcsec, colRA1='ra',colDec1='dec')"
   ]
  },
  {
   "cell_type": "code",
   "execution_count": 4,
   "metadata": {},
   "outputs": [
    {
     "data": {
      "text/html": [
       "<i>Table length=94</i>\n",
       "<table id=\"table4679109648\" class=\"table-striped table-bordered table-condensed\">\n",
       "<thead><tr><th>angDist</th><th>z</th><th>ra</th><th>dec</th><th>bestObjID</th><th>AllWISE</th><th>RAJ2000</th><th>DEJ2000</th><th>eeMaj</th><th>eeMin</th><th>eePA</th><th>W1mag</th><th>W2mag</th><th>W3mag</th><th>W4mag</th><th>Jmag</th><th>Hmag</th><th>Kmag</th><th>e_W1mag</th><th>e_W2mag</th><th>e_W3mag</th><th>e_W4mag</th><th>e_Jmag</th><th>e_Hmag</th><th>e_Kmag</th><th>ID</th><th>ccf</th><th>ex</th><th>var</th><th>qph</th><th>pmRA</th><th>e_pmRA</th><th>pmDE</th><th>e_pmDE</th><th>d2M</th></tr></thead>\n",
       "<thead><tr><th>float64</th><th>float64</th><th>float64</th><th>float64</th><th>int64</th><th>str19</th><th>float64</th><th>float64</th><th>float64</th><th>float64</th><th>float64</th><th>float64</th><th>float64</th><th>float64</th><th>float64</th><th>float64</th><th>float64</th><th>float64</th><th>float64</th><th>float64</th><th>float64</th><th>float64</th><th>float64</th><th>float64</th><th>float64</th><th>int64</th><th>str4</th><th>int64</th><th>str4</th><th>str4</th><th>int64</th><th>int64</th><th>int64</th><th>int64</th><th>float64</th></tr></thead>\n",
       "<tr><td>0.133183</td><td>0.3000001</td><td>184.86409</td><td>52.571314</td><td>1237657629529211079</td><td>J121927.38+523416.6</td><td>184.8641187</td><td>52.5712814</td><td>0.0655</td><td>0.0644</td><td>14.5</td><td>14.898</td><td>14.626</td><td>13.035</td><td>9.473</td><td>16.772</td><td>16.176</td><td>15.341</td><td>0.029</td><td>0.043</td><td>--</td><td>--</td><td>0.154</td><td>0.159</td><td>0.145</td><td>1849153001351018708</td><td>0000</td><td>0</td><td>00nn</td><td>AAUU</td><td>24</td><td>140</td><td>-13</td><td>146</td><td>0.356</td></tr>\n",
       "<tr><td>0.402705</td><td>0.3000009</td><td>222.98982</td><td>42.629408</td><td>1237658203986460871</td><td>J145157.59+423745.9</td><td>222.9899696</td><td>42.6294279</td><td>0.0624</td><td>0.0614</td><td>11.0</td><td>14.798</td><td>14.462</td><td>12.582</td><td>9.485</td><td>16.831</td><td>16.313</td><td>15.582</td><td>0.028</td><td>0.04</td><td>0.324</td><td>--</td><td>0.165</td><td>0.241</td><td>0.184</td><td>2224142401351047813</td><td>0000</td><td>0</td><td>00nn</td><td>AABU</td><td>12</td><td>93</td><td>54</td><td>98</td><td>0.465</td></tr>\n",
       "<tr><td>0.58304</td><td>0.3000009</td><td>146.39863</td><td>5.8334459</td><td>1237658423547920434</td><td>J094535.70+055000.5</td><td>146.3987871</td><td>5.8334882</td><td>0.0714</td><td>0.0689</td><td>167.9</td><td>14.471</td><td>14.156</td><td>12.223</td><td>8.649</td><td>16.501</td><td>15.861</td><td>14.894</td><td>0.03</td><td>0.048</td><td>--</td><td>--</td><td>0.166</td><td>0.2</td><td>0.156</td><td>1458106001351023367</td><td>0000</td><td>0</td><td>11nn</td><td>AAUU</td><td>202</td><td>165</td><td>293</td><td>177</td><td>0.833</td></tr>\n",
       "<tr><td>0.066688</td><td>0.3000012</td><td>49.459411</td><td>0.847754</td><td>1237660241924063461</td><td>J031750.26+005051.9</td><td>49.4594244</td><td>0.8477668</td><td>0.0848</td><td>0.0807</td><td>135.7</td><td>15.136</td><td>14.882</td><td>12.566</td><td>8.821</td><td>16.985</td><td>16.307</td><td>15.452</td><td>0.034</td><td>0.061</td><td>--</td><td>--</td><td>0.158</td><td>0.174</td><td>--</td><td>499101501351008375</td><td>0000</td><td>0</td><td>00nn</td><td>AAUU</td><td>229</td><td>138</td><td>153</td><td>141</td><td>0.351</td></tr>\n",
       "<tr><td>0.168028</td><td>0.3000018</td><td>172.28104</td><td>10.234226</td><td>1237658493349789816</td><td>J112907.44+101403.0</td><td>172.2810128</td><td>10.2341878</td><td>0.0864</td><td>0.0804</td><td>4.8</td><td>14.779</td><td>14.347</td><td>11.797</td><td>8.7</td><td>16.918</td><td>16.175</td><td>15.373</td><td>0.035</td><td>0.052</td><td>--</td><td>--</td><td>0.192</td><td>0.199</td><td>0.23</td><td>1723110601351018950</td><td>0000</td><td>0</td><td>11nn</td><td>AAUU</td><td>41</td><td>216</td><td>37</td><td>236</td><td>0.164</td></tr>\n",
       "<tr><td>0.284446</td><td>0.3000027</td><td>156.25024</td><td>7.6586271</td><td>1237658425162858683</td><td>J102500.07+073930.9</td><td>156.2503138</td><td>7.6585971</td><td>0.0963</td><td>0.0883</td><td>169.7</td><td>14.695</td><td>14.699</td><td>11.805</td><td>7.972</td><td>16.758</td><td>15.733</td><td>15.58</td><td>0.035</td><td>0.092</td><td>--</td><td>--</td><td>0.218</td><td>0.191</td><td>0.234</td><td>1555107501351024625</td><td>0000</td><td>0</td><td>nnnn</td><td>AAUU</td><td>-209</td><td>244</td><td>325</td><td>267</td><td>0.513</td></tr>\n",
       "<tr><td>...</td><td>...</td><td>...</td><td>...</td><td>...</td><td>...</td><td>...</td><td>...</td><td>...</td><td>...</td><td>...</td><td>...</td><td>...</td><td>...</td><td>...</td><td>...</td><td>...</td><td>...</td><td>...</td><td>...</td><td>...</td><td>...</td><td>...</td><td>...</td><td>...</td><td>...</td><td>...</td><td>...</td><td>...</td><td>...</td><td>...</td><td>...</td><td>...</td><td>...</td><td>...</td></tr>\n",
       "<tr><td>0.378459</td><td>0.3000467</td><td>351.30398</td><td>10.235439</td><td>1237678907315650843</td><td>J232512.96+101407.9</td><td>351.3040248</td><td>10.2355344</td><td>0.0875</td><td>0.0844</td><td>147.3</td><td>14.879</td><td>14.571</td><td>12.202</td><td>8.463</td><td>16.958</td><td>16.141</td><td>15.157</td><td>0.035</td><td>0.064</td><td>--</td><td>--</td><td>0.224</td><td>0.245</td><td>0.152</td><td>3507110601351024022</td><td>0000</td><td>0</td><td>00nn</td><td>AAUU</td><td>353</td><td>260</td><td>158</td><td>272</td><td>0.687</td></tr>\n",
       "<tr><td>0.134008</td><td>0.300047</td><td>148.5743</td><td>46.957565</td><td>1237657630055596280</td><td>J095417.82+465727.1</td><td>148.5742649</td><td>46.9575365</td><td>0.0931</td><td>0.0875</td><td>10.7</td><td>15.274</td><td>14.968</td><td>12.71</td><td>9.101</td><td>17.352</td><td>16.518</td><td>15.613</td><td>0.037</td><td>0.066</td><td>--</td><td>--</td><td>0.252</td><td>0.22</td><td>0.184</td><td>1483146901351032510</td><td>0000</td><td>0</td><td>00nn</td><td>AAUU</td><td>178</td><td>251</td><td>-75</td><td>276</td><td>0.741</td></tr>\n",
       "<tr><td>0.173126</td><td>0.300047</td><td>157.03699</td><td>23.002797</td><td>1237667538547179946</td><td>J102808.87+230010.2</td><td>157.0369685</td><td>23.0028408</td><td>0.0885</td><td>0.0837</td><td>178.9</td><td>15.013</td><td>14.742</td><td>12.323</td><td>8.418</td><td>16.983</td><td>16.604</td><td>15.528</td><td>0.035</td><td>0.063</td><td>--</td><td>--</td><td>0.157</td><td>0.265</td><td>0.177</td><td>1563122701351049312</td><td>0000</td><td>0</td><td>00nn</td><td>AAUU</td><td>222</td><td>233</td><td>496</td><td>255</td><td>0.726</td></tr>\n",
       "<tr><td>0.035938</td><td>0.300048</td><td>359.29552</td><td>26.694314</td><td>1237680275796460142</td><td>J235710.92+264139.5</td><td>359.295513</td><td>26.6943062</td><td>0.082</td><td>0.0784</td><td>134.2</td><td>14.814</td><td>14.637</td><td>12.02</td><td>8.254</td><td>16.794</td><td>15.865</td><td>15.237</td><td>0.033</td><td>0.066</td><td>0.461</td><td>--</td><td>0.195</td><td>0.203</td><td>0.146</td><td>127201351009902</td><td>0000</td><td>0</td><td>00nn</td><td>AACU</td><td>329</td><td>244</td><td>-430</td><td>242</td><td>0.096</td></tr>\n",
       "<tr><td>0.107406</td><td>0.3000484</td><td>200.24996</td><td>54.405615</td><td>1237658917996921127</td><td>J132059.98+542420.1</td><td>200.2499419</td><td>54.4055871</td><td>0.0688</td><td>0.0662</td><td>29.0</td><td>14.751</td><td>14.453</td><td>12.891</td><td>8.589</td><td>16.698</td><td>16.161</td><td>15.33</td><td>0.031</td><td>0.043</td><td>--</td><td>--</td><td>0.129</td><td>0.155</td><td>0.132</td><td>1991154501351027107</td><td>0000</td><td>0</td><td>00nn</td><td>AAUU</td><td>-201</td><td>150</td><td>188</td><td>156</td><td>0.258</td></tr>\n",
       "<tr><td>0.047976</td><td>0.3000487</td><td>10.377471</td><td>8.4479464</td><td>1237669768158511346</td><td>J004130.59+082652.6</td><td>10.3774776</td><td>8.447958</td><td>0.1024</td><td>0.095</td><td>134.6</td><td>15.071</td><td>14.705</td><td>11.413</td><td>8.19</td><td>16.731</td><td>16.381</td><td>15.435</td><td>0.038</td><td>0.081</td><td>--</td><td>--</td><td>0.173</td><td>0.257</td><td>0.172</td><td>107109001351008065</td><td>0000</td><td>0</td><td>00nn</td><td>AAUU</td><td>294</td><td>345</td><td>-444</td><td>350</td><td>0.276</td></tr>\n",
       "<tr><td>0.23438</td><td>0.300049</td><td>191.25412</td><td>51.891805</td><td>1237662301354459328</td><td>J124501.01+515330.5</td><td>191.2542179</td><td>51.8918293</td><td>0.0579</td><td>0.0562</td><td>2.1</td><td>14.321</td><td>14.032</td><td>12.251</td><td>9.241</td><td>16.698</td><td>15.794</td><td>15.034</td><td>0.027</td><td>0.036</td><td>--</td><td>--</td><td>0.151</td><td>0.146</td><td>0.13</td><td>1907151401351047954</td><td>0000</td><td>0</td><td>00nn</td><td>AAUU</td><td>-67</td><td>117</td><td>121</td><td>124</td><td>0.248</td></tr>\n",
       "</table>"
      ],
      "text/plain": [
       "<Table length=94>\n",
       "angDist      z         ra       dec    ... e_pmRA  pmDE e_pmDE   d2M  \n",
       "float64   float64   float64   float64  ... int64  int64 int64  float64\n",
       "-------- --------- --------- --------- ... ------ ----- ------ -------\n",
       "0.133183 0.3000001 184.86409 52.571314 ...    140   -13    146   0.356\n",
       "0.402705 0.3000009 222.98982 42.629408 ...     93    54     98   0.465\n",
       " 0.58304 0.3000009 146.39863 5.8334459 ...    165   293    177   0.833\n",
       "0.066688 0.3000012 49.459411  0.847754 ...    138   153    141   0.351\n",
       "0.168028 0.3000018 172.28104 10.234226 ...    216    37    236   0.164\n",
       "0.284446 0.3000027 156.25024 7.6586271 ...    244   325    267   0.513\n",
       "     ...       ...       ...       ... ...    ...   ...    ...     ...\n",
       "0.378459 0.3000467 351.30398 10.235439 ...    260   158    272   0.687\n",
       "0.134008  0.300047  148.5743 46.957565 ...    251   -75    276   0.741\n",
       "0.173126  0.300047 157.03699 23.002797 ...    233   496    255   0.726\n",
       "0.035938  0.300048 359.29552 26.694314 ...    244  -430    242   0.096\n",
       "0.107406 0.3000484 200.24996 54.405615 ...    150   188    156   0.258\n",
       "0.047976 0.3000487 10.377471 8.4479464 ...    345  -444    350   0.276\n",
       " 0.23438  0.300049 191.25412 51.891805 ...    117   121    124   0.248"
      ]
     },
     "execution_count": 4,
     "metadata": {},
     "output_type": "execute_result"
    }
   ],
   "source": [
    "SDSS_WISE_match"
   ]
  },
  {
   "cell_type": "code",
   "execution_count": null,
   "metadata": {},
   "outputs": [],
   "source": []
  }
 ],
 "metadata": {
  "@webio": {
   "lastCommId": null,
   "lastKernelId": null
  },
  "colab": {
   "collapsed_sections": [],
   "name": "02.SQLQueryatSDSS.ipynb",
   "provenance": []
  },
  "kernelspec": {
   "display_name": "Python 3 (ipykernel)",
   "language": "python",
   "name": "python3"
  },
  "language_info": {
   "codemirror_mode": {
    "name": "ipython",
    "version": 3
   },
   "file_extension": ".py",
   "mimetype": "text/x-python",
   "name": "python",
   "nbconvert_exporter": "python",
   "pygments_lexer": "ipython3",
   "version": "3.9.5"
  }
 },
 "nbformat": 4,
 "nbformat_minor": 1
}
