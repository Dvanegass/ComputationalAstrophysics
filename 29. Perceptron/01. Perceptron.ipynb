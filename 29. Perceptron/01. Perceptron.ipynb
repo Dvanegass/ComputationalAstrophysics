{
 "cells": [
  {
   "cell_type": "markdown",
   "metadata": {},
   "source": [
    "![Astrofisica Computacional](../logo.PNG)"
   ]
  },
  {
   "cell_type": "markdown",
   "metadata": {
    "id": "5soGuirloNgq"
   },
   "source": [
    "---\n",
    "## 01. A Perceptron\n",
    "\n",
    "\n",
    "Eduard Larrañaga (ealarranaga@unal.edu.co)\n",
    "\n",
    "---"
   ]
  },
  {
   "cell_type": "markdown",
   "metadata": {
    "id": "Ff4KTapaoNgx"
   },
   "source": [
    "### Abstract\n",
    "\n",
    "In this notebook we will implement a perceptron algorithm, which incorporates the idea of a linear regression and a activation function to define a classification method.\n",
    "\n",
    "---"
   ]
  },
  {
   "cell_type": "markdown",
   "metadata": {
    "id": "Y85Y_aIb8meo"
   },
   "source": [
    "## The Perceptron Algorithm\n",
    "\n",
    "Introduced by F. Rosenblatt in 1957, a perceptron algorithm tries to model the behavior of a single (artificial) neuron. This algorithm will be modelled as a function that recieves input data, the it wights them and adds a term to present the result through a non-linear function. It will correspond to an algorithm of supervised learning (binary classification).\n",
    "\n",
    "The general behavior and components can be seen in the following figure:\n",
    "\n",
    "\n",
    "<center>\n",
    "<img\n",
    "src=\"https://datascientest.com/wp-content/uploads/2021/03/perceptron-formule.png\"\n",
    ">\n",
    "</center>\n",
    "\n"
   ]
  },
  {
   "cell_type": "markdown",
   "metadata": {},
   "source": [
    "Now we will build a perceptron from scratch. The first step is to define the function that reads the input data, weigths and bias and returns the result of the linear model.\n",
    "\n",
    "As a first model, we will consider a perceptron with one input: $x_1$, one weight: $w_1$ and one bias: $b$ and gives one return: z = $w_1 x_1 + b$."
   ]
  },
  {
   "cell_type": "code",
   "execution_count": 1,
   "metadata": {},
   "outputs": [
    {
     "data": {
      "text/plain": [
       "-18.0"
      ]
     },
     "execution_count": 1,
     "metadata": {},
     "output_type": "execute_result"
    }
   ],
   "source": [
    "import numpy as np\n",
    "\n",
    "def perceptron01(x):\n",
    "    w = -2.\n",
    "    bias = 2.\n",
    "    return np.dot(w,x) + bias\n",
    "\n",
    "\n",
    "\n",
    "x0 = 10.\n",
    "\n",
    "\n",
    "perceptron01(x0)"
   ]
  },
  {
   "cell_type": "markdown",
   "metadata": {},
   "source": [
    "We can apply this perceptron to many samples to obtain the corresponding results,"
   ]
  },
  {
   "cell_type": "code",
   "execution_count": 2,
   "metadata": {},
   "outputs": [
    {
     "data": {
      "text/plain": [
       "array([ 12. , -18. ,  -4.4,  -3.6,  10.6])"
      ]
     },
     "execution_count": 2,
     "metadata": {},
     "output_type": "execute_result"
    }
   ],
   "source": [
    "x = np.array([-5., 10, 3.2, 2.8, -4.3])\n",
    "\n",
    "ypred = perceptron01(x)\n",
    "ypred"
   ]
  },
  {
   "cell_type": "markdown",
   "metadata": {},
   "source": [
    "In order to present the results, we can use the library `pandas`,"
   ]
  },
  {
   "cell_type": "code",
   "execution_count": 3,
   "metadata": {},
   "outputs": [
    {
     "data": {
      "text/html": [
       "<div>\n",
       "<style scoped>\n",
       "    .dataframe tbody tr th:only-of-type {\n",
       "        vertical-align: middle;\n",
       "    }\n",
       "\n",
       "    .dataframe tbody tr th {\n",
       "        vertical-align: top;\n",
       "    }\n",
       "\n",
       "    .dataframe thead th {\n",
       "        text-align: right;\n",
       "    }\n",
       "</style>\n",
       "<table border=\"1\" class=\"dataframe\">\n",
       "  <thead>\n",
       "    <tr style=\"text-align: right;\">\n",
       "      <th></th>\n",
       "      <th>x1</th>\n",
       "      <th>yp</th>\n",
       "    </tr>\n",
       "  </thead>\n",
       "  <tbody>\n",
       "    <tr>\n",
       "      <th>0</th>\n",
       "      <td>-5.0</td>\n",
       "      <td>12.0</td>\n",
       "    </tr>\n",
       "    <tr>\n",
       "      <th>1</th>\n",
       "      <td>10.0</td>\n",
       "      <td>-18.0</td>\n",
       "    </tr>\n",
       "    <tr>\n",
       "      <th>2</th>\n",
       "      <td>3.2</td>\n",
       "      <td>-4.4</td>\n",
       "    </tr>\n",
       "    <tr>\n",
       "      <th>3</th>\n",
       "      <td>2.8</td>\n",
       "      <td>-3.6</td>\n",
       "    </tr>\n",
       "    <tr>\n",
       "      <th>4</th>\n",
       "      <td>-4.3</td>\n",
       "      <td>10.6</td>\n",
       "    </tr>\n",
       "  </tbody>\n",
       "</table>\n",
       "</div>"
      ],
      "text/plain": [
       "     x1    yp\n",
       "0  -5.0  12.0\n",
       "1  10.0 -18.0\n",
       "2   3.2  -4.4\n",
       "3   2.8  -3.6\n",
       "4  -4.3  10.6"
      ]
     },
     "execution_count": 3,
     "metadata": {},
     "output_type": "execute_result"
    }
   ],
   "source": [
    "import pandas as pd\n",
    "\n",
    "df = pd.DataFrame(x, columns=['x1'])\n",
    "df['yp'] = ypred\n",
    "\n",
    "df"
   ]
  },
  {
   "cell_type": "markdown",
   "metadata": {},
   "source": [
    "This perceptron is just a linear function with a slope $w_1$ and an intercept $b$ defined in the construction. \n",
    "\n",
    "---\n",
    "\n",
    "## A Learning Perceptron\n",
    "\n",
    "The main characteristic we want to give to the perceptron is that it can 'learn' by itself, i.e. based on a dataset with inputs and targets, the perceptron must be able to redefine its weigths and bias. In order to illustrate this idea, we introduce a dataset of temperatures in Celsius and the targets will be the corresponding temperatures in the Fahrenheit scale,"
   ]
  },
  {
   "cell_type": "code",
   "execution_count": 4,
   "metadata": {},
   "outputs": [
    {
     "data": {
      "text/html": [
       "<div>\n",
       "<style scoped>\n",
       "    .dataframe tbody tr th:only-of-type {\n",
       "        vertical-align: middle;\n",
       "    }\n",
       "\n",
       "    .dataframe tbody tr th {\n",
       "        vertical-align: top;\n",
       "    }\n",
       "\n",
       "    .dataframe thead th {\n",
       "        text-align: right;\n",
       "    }\n",
       "</style>\n",
       "<table border=\"1\" class=\"dataframe\">\n",
       "  <thead>\n",
       "    <tr style=\"text-align: right;\">\n",
       "      <th></th>\n",
       "      <th>ºC</th>\n",
       "      <th>ºF</th>\n",
       "    </tr>\n",
       "  </thead>\n",
       "  <tbody>\n",
       "    <tr>\n",
       "      <th>0</th>\n",
       "      <td>-40.0</td>\n",
       "      <td>-40.0</td>\n",
       "    </tr>\n",
       "    <tr>\n",
       "      <th>1</th>\n",
       "      <td>-30.0</td>\n",
       "      <td>-22.0</td>\n",
       "    </tr>\n",
       "    <tr>\n",
       "      <th>2</th>\n",
       "      <td>-10.0</td>\n",
       "      <td>14.0</td>\n",
       "    </tr>\n",
       "    <tr>\n",
       "      <th>3</th>\n",
       "      <td>-5.0</td>\n",
       "      <td>23.0</td>\n",
       "    </tr>\n",
       "    <tr>\n",
       "      <th>4</th>\n",
       "      <td>0.0</td>\n",
       "      <td>32.0</td>\n",
       "    </tr>\n",
       "    <tr>\n",
       "      <th>5</th>\n",
       "      <td>8.0</td>\n",
       "      <td>46.4</td>\n",
       "    </tr>\n",
       "    <tr>\n",
       "      <th>6</th>\n",
       "      <td>15.0</td>\n",
       "      <td>59.0</td>\n",
       "    </tr>\n",
       "    <tr>\n",
       "      <th>7</th>\n",
       "      <td>22.0</td>\n",
       "      <td>71.6</td>\n",
       "    </tr>\n",
       "    <tr>\n",
       "      <th>8</th>\n",
       "      <td>38.0</td>\n",
       "      <td>100.4</td>\n",
       "    </tr>\n",
       "    <tr>\n",
       "      <th>9</th>\n",
       "      <td>50.0</td>\n",
       "      <td>122.0</td>\n",
       "    </tr>\n",
       "  </tbody>\n",
       "</table>\n",
       "</div>"
      ],
      "text/plain": [
       "     ºC     ºF\n",
       "0 -40.0  -40.0\n",
       "1 -30.0  -22.0\n",
       "2 -10.0   14.0\n",
       "3  -5.0   23.0\n",
       "4   0.0   32.0\n",
       "5   8.0   46.4\n",
       "6  15.0   59.0\n",
       "7  22.0   71.6\n",
       "8  38.0  100.4\n",
       "9  50.0  122.0"
      ]
     },
     "execution_count": 4,
     "metadata": {},
     "output_type": "execute_result"
    }
   ],
   "source": [
    "X = np.array([-40., -30., -10., -5., 0., 8., 15., 22., 38., 50.]) # Input data\n",
    "y = np.array([-40. , -22. ,  14. ,  23. ,  32. ,  46.4,  59. ,  71.6, 100.4,\n",
    "       122. ]) #Targets\n",
    "\n",
    "\n",
    "df = pd.DataFrame(X, columns=['ºC'])\n",
    "df['ºF'] = y\n",
    "\n",
    "df"
   ]
  },
  {
   "cell_type": "markdown",
   "metadata": {},
   "source": [
    "We define a new perceptron class with random generated weigths and bias and we will apply it to a dataset to compare the results with the known targets,"
   ]
  },
  {
   "cell_type": "code",
   "execution_count": 5,
   "metadata": {
    "scrolled": true
   },
   "outputs": [
    {
     "data": {
      "text/html": [
       "<div>\n",
       "<style scoped>\n",
       "    .dataframe tbody tr th:only-of-type {\n",
       "        vertical-align: middle;\n",
       "    }\n",
       "\n",
       "    .dataframe tbody tr th {\n",
       "        vertical-align: top;\n",
       "    }\n",
       "\n",
       "    .dataframe thead th {\n",
       "        text-align: right;\n",
       "    }\n",
       "</style>\n",
       "<table border=\"1\" class=\"dataframe\">\n",
       "  <thead>\n",
       "    <tr style=\"text-align: right;\">\n",
       "      <th></th>\n",
       "      <th>x</th>\n",
       "      <th>y</th>\n",
       "      <th>yp</th>\n",
       "    </tr>\n",
       "  </thead>\n",
       "  <tbody>\n",
       "    <tr>\n",
       "      <th>0</th>\n",
       "      <td>-40.0</td>\n",
       "      <td>-40.0</td>\n",
       "      <td>-258.863401</td>\n",
       "    </tr>\n",
       "    <tr>\n",
       "      <th>1</th>\n",
       "      <td>-30.0</td>\n",
       "      <td>-22.0</td>\n",
       "      <td>-193.184946</td>\n",
       "    </tr>\n",
       "    <tr>\n",
       "      <th>2</th>\n",
       "      <td>-10.0</td>\n",
       "      <td>14.0</td>\n",
       "      <td>-61.828036</td>\n",
       "    </tr>\n",
       "    <tr>\n",
       "      <th>3</th>\n",
       "      <td>-5.0</td>\n",
       "      <td>23.0</td>\n",
       "      <td>-28.988809</td>\n",
       "    </tr>\n",
       "    <tr>\n",
       "      <th>4</th>\n",
       "      <td>0.0</td>\n",
       "      <td>32.0</td>\n",
       "      <td>3.850419</td>\n",
       "    </tr>\n",
       "    <tr>\n",
       "      <th>5</th>\n",
       "      <td>8.0</td>\n",
       "      <td>46.4</td>\n",
       "      <td>56.393183</td>\n",
       "    </tr>\n",
       "    <tr>\n",
       "      <th>6</th>\n",
       "      <td>15.0</td>\n",
       "      <td>59.0</td>\n",
       "      <td>102.368101</td>\n",
       "    </tr>\n",
       "    <tr>\n",
       "      <th>7</th>\n",
       "      <td>22.0</td>\n",
       "      <td>71.6</td>\n",
       "      <td>148.343020</td>\n",
       "    </tr>\n",
       "    <tr>\n",
       "      <th>8</th>\n",
       "      <td>38.0</td>\n",
       "      <td>100.4</td>\n",
       "      <td>253.428548</td>\n",
       "    </tr>\n",
       "    <tr>\n",
       "      <th>9</th>\n",
       "      <td>50.0</td>\n",
       "      <td>122.0</td>\n",
       "      <td>332.242694</td>\n",
       "    </tr>\n",
       "  </tbody>\n",
       "</table>\n",
       "</div>"
      ],
      "text/plain": [
       "      x      y          yp\n",
       "0 -40.0  -40.0 -258.863401\n",
       "1 -30.0  -22.0 -193.184946\n",
       "2 -10.0   14.0  -61.828036\n",
       "3  -5.0   23.0  -28.988809\n",
       "4   0.0   32.0    3.850419\n",
       "5   8.0   46.4   56.393183\n",
       "6  15.0   59.0  102.368101\n",
       "7  22.0   71.6  148.343020\n",
       "8  38.0  100.4  253.428548\n",
       "9  50.0  122.0  332.242694"
      ]
     },
     "execution_count": 5,
     "metadata": {},
     "output_type": "execute_result"
    }
   ],
   "source": [
    "class perceptron02:\n",
    "    def __init__(self):\n",
    "        np.random.seed(413)\n",
    "        self.w = np.random.rand()*10\n",
    "        self.bias = np.random.rand()*10\n",
    "        \n",
    "    def predict(self,x):\n",
    "        return np.dot(self.w,x) + self.bias\n",
    "\n",
    "\n",
    "\n",
    "p = perceptron02()\n",
    "yp = p.predict(X)\n",
    "\n",
    "df = pd.DataFrame(X, columns=['x'])\n",
    "df['y'] = y\n",
    "df['yp'] = yp\n",
    "\n",
    "df"
   ]
  },
  {
   "cell_type": "code",
   "execution_count": 6,
   "metadata": {},
   "outputs": [
    {
     "data": {
      "text/plain": [
       "(6.567845494347568, 3.8504189530429844)"
      ]
     },
     "execution_count": 6,
     "metadata": {},
     "output_type": "execute_result"
    }
   ],
   "source": [
    "p.w, p.bias"
   ]
  },
  {
   "cell_type": "markdown",
   "metadata": {},
   "source": [
    "Note that the predicted values do not reproduce the targets. We will introduce, inside the perceptron class, a 'cost function' that evaluates the precision of the perceptron to reproduce the targets from the input information,\n",
    "\n",
    "\\begin{equation}\n",
    "f_C (y^p, y) = \\sum _i (y^p_i - y_i)^2 = \\sum_i (wx_i +b - y_i)^2\n",
    "\\end{equation}"
   ]
  },
  {
   "cell_type": "code",
   "execution_count": 7,
   "metadata": {},
   "outputs": [
    {
     "name": "stdout",
     "output_type": "stream",
     "text": [
      "cost =  161940.47375841023\n"
     ]
    }
   ],
   "source": [
    "class perceptron02:\n",
    "    def __init__(self):\n",
    "        np.random.seed(413)\n",
    "        self.w = np.random.rand()*10\n",
    "        self.bias = np.random.rand()*10\n",
    "        \n",
    "    def predict(self,x):\n",
    "        return np.dot(self.w, x) + self.bias\n",
    "    \n",
    "    def fC(self, x, y):\n",
    "        yp = self.predict(x)\n",
    "        return sum((yp - y)**2)\n",
    "\n",
    "\n",
    "p = perceptron02()\n",
    "yp = p.predict(X)\n",
    "cost = p.fC(X,y)\n",
    "\n",
    "print('cost = ', cost)\n"
   ]
  },
  {
   "cell_type": "markdown",
   "metadata": {},
   "source": [
    "Note that the large value of the cost function indicates a big difference between predictions and targets. The idea introducing this function is that we will improve the parameters of the perceptron by minimizing $f_C$. Hence we will introduce the derivatives\n",
    "\n",
    "\\begin{align}\n",
    "\\frac{\\partial f_C}{\\partial w} = &\\sum_i 2(wx_i +b - y_i)x_i \\\\\n",
    "\\frac{\\partial f_C}{\\partial b} = &\\sum_i 2(wx_i +b - y_i)\n",
    "\\end{align}\n"
   ]
  },
  {
   "cell_type": "code",
   "execution_count": 8,
   "metadata": {},
   "outputs": [
    {
     "name": "stdout",
     "output_type": "stream",
     "text": [
      "cost =  161940.47375841023\n",
      "dfC/dw = 67308.68345849183\n",
      "dfC/db = -105.27845348177357\n"
     ]
    }
   ],
   "source": [
    "class perceptron02:\n",
    "    def __init__(self):\n",
    "        np.random.seed(413)\n",
    "        self.w = np.random.rand()*10\n",
    "        self.bias = np.random.rand()*10\n",
    "        \n",
    "    def predict(self, x):\n",
    "        return np.dot(self.w, x) + self.bias\n",
    "    \n",
    "    def fC(self,x,y):\n",
    "        yp = self.predict(x)\n",
    "        return sum((yp - y)**2)\n",
    "    \n",
    "    def grad_fC(self,x,y):\n",
    "        yp = self.predict(x)\n",
    "        return [sum(2*(yp - y)*x), sum(2*(yp - y))]\n",
    "\n",
    "\n",
    "p = perceptron02()\n",
    "yp = p.predict(X)\n",
    "cost = p.fC(X,y)\n",
    "grad_fC = p.grad_fC(X,y)\n",
    "\n",
    "print('cost = ', cost)\n",
    "print('dfC/dw =', grad_fC[0])\n",
    "print('dfC/db =', grad_fC[1])\n"
   ]
  },
  {
   "cell_type": "markdown",
   "metadata": {},
   "source": [
    "The components of the gradient permit to modify the weigths and bias,\n",
    "\n",
    "\\begin{align}\n",
    "w = &w - \\alpha \\frac{\\partial f_C}{\\partial w}  \\\\\n",
    "b = &b - \\alpha \\frac{\\partial f_C}{\\partial b} \n",
    "\\end{align}\n",
    "\n",
    "where the parameters are modified by adding the gradient descent (negative of the gradient) multiplied by a small factor called 'Learning Rate'. \n",
    "\n",
    "We introduce in the perceptron class a function to optimize the parameters,"
   ]
  },
  {
   "cell_type": "code",
   "execution_count": 9,
   "metadata": {},
   "outputs": [
    {
     "name": "stdout",
     "output_type": "stream",
     "text": [
      "initial cost =  161940.47375841023\n",
      "final cost =  41512.96706777971\n"
     ]
    }
   ],
   "source": [
    "class perceptron02:\n",
    "    def __init__(self):\n",
    "        np.random.seed(413)\n",
    "        self.w = np.random.rand()*10\n",
    "        self.bias = np.random.rand()*10\n",
    "        \n",
    "    def predict(self, x):\n",
    "        return np.dot(self.w, x) + self.bias\n",
    "    \n",
    "    def fC(self):\n",
    "        return sum((self.yp - self.y)**2)\n",
    "    \n",
    "    def grad_fC(self):\n",
    "        return [sum(2*(self.yp - self.y)*self.x), sum(2*(self.yp - self.y))]\n",
    "    \n",
    "    def improve(self,x,y):\n",
    "        self.x = x\n",
    "        self.y = y\n",
    "        self.yp = self.predict(x)\n",
    "        cost_before = self.fC()\n",
    "        alpha = 1e-4 # Learning Rate\n",
    "        grad = self.grad_fC()\n",
    "        self.w -= alpha*grad[0]\n",
    "        self.bias -= alpha*grad[1]\n",
    "        self.yp = self.predict(x)\n",
    "        cost_after = self.fC()\n",
    "        return cost_before, cost_after\n",
    "\n",
    "\n",
    "p = perceptron02()\n",
    "cost_i, cost_f = p.improve(X,y)\n",
    "print('initial cost = ', cost_i)\n",
    "print('final cost = ', cost_f)\n"
   ]
  },
  {
   "cell_type": "markdown",
   "metadata": {},
   "source": [
    "With this idea in mind, we can improve the parameters by calling multiple times the improve method,"
   ]
  },
  {
   "cell_type": "code",
   "execution_count": 10,
   "metadata": {},
   "outputs": [
    {
     "name": "stdout",
     "output_type": "stream",
     "text": [
      "initial cost =  161940.47375841023\n",
      "cost in step 0=  15061.13265527326\n",
      "cost in step 1=  9233.047940160108\n",
      "cost in step 2=  7931.087630098235\n",
      "cost in step 3=  7622.507787775035\n",
      "cost in step 4=  7532.021138569387\n",
      "cost in step 5=  7489.484781675668\n",
      "cost in step 6=  7457.559251049177\n",
      "cost in step 7=  7428.049783414183\n",
      "cost in step 8=  7399.157638588673\n",
      "cost in step 9=  7370.487732537224\n"
     ]
    }
   ],
   "source": [
    "p = perceptron02()\n",
    "cost_i, cost_f = p.improve(X,y)\n",
    "print('initial cost = ', cost_i)\n",
    "\n",
    "for i in range(10):\n",
    "    cost_i, cost_f = p.improve(X,y)\n",
    "    print(f'cost in step {i:.0f}= ', cost_f)\n"
   ]
  },
  {
   "cell_type": "markdown",
   "metadata": {},
   "source": [
    "We will modify the percepton class to include a parameter with the information about how many 'epochs', i.e. repetitions, will be performed."
   ]
  },
  {
   "cell_type": "code",
   "execution_count": 11,
   "metadata": {
    "scrolled": true
   },
   "outputs": [
    {
     "name": "stdout",
     "output_type": "stream",
     "text": [
      "initial cost =  161940.47375841023\n",
      "final cost after 50 epochs =  7547.06715697238\n"
     ]
    }
   ],
   "source": [
    "class perceptron02:\n",
    "    def __init__(self):\n",
    "        np.random.seed(413)\n",
    "        self.w = np.random.rand()*10\n",
    "        self.bias = np.random.rand()*10\n",
    "        \n",
    "    def predict(self, x):\n",
    "        return np.dot(self.w, x) + self.bias\n",
    "    \n",
    "    def fC(self):\n",
    "        self.yp = self.predict(self.x)\n",
    "        return sum((self.yp - self.y)**2)\n",
    "    \n",
    "    def grad_fC(self):\n",
    "        self.yp = self.predict(self.x)\n",
    "        return [sum(2*(self.yp - self.y)*self.x), sum(2*(self.yp - self.y))]\n",
    "\n",
    "    \n",
    "    def improve(self):\n",
    "        alpha = 1e-5 # Learning Rate\n",
    "        grad = self.grad_fC()\n",
    "        self.w -= alpha*grad[0]\n",
    "        self.bias -= alpha*grad[1]\n",
    "        \n",
    "    def train(self, x, y, epochs):\n",
    "        self.x = x\n",
    "        self.y = y\n",
    "        self.yp = self.predict(self.x) # Initial prediction\n",
    "        history = np.zeros(epochs)\n",
    "        for i in range(epochs):\n",
    "            history[i] = self.fC()\n",
    "            self.improve()\n",
    "        return history\n",
    "\n",
    "p = perceptron02()\n",
    "epochs = 50\n",
    "history = p.train(X, y, epochs)\n",
    "print('initial cost = ', history[0])\n",
    "print(f'final cost after {epochs:.0f} epochs = ', history[-1])"
   ]
  },
  {
   "cell_type": "code",
   "execution_count": 12,
   "metadata": {},
   "outputs": [
    {
     "data": {
      "text/html": [
       "<div>\n",
       "<style scoped>\n",
       "    .dataframe tbody tr th:only-of-type {\n",
       "        vertical-align: middle;\n",
       "    }\n",
       "\n",
       "    .dataframe tbody tr th {\n",
       "        vertical-align: top;\n",
       "    }\n",
       "\n",
       "    .dataframe thead th {\n",
       "        text-align: right;\n",
       "    }\n",
       "</style>\n",
       "<table border=\"1\" class=\"dataframe\">\n",
       "  <thead>\n",
       "    <tr style=\"text-align: right;\">\n",
       "      <th></th>\n",
       "      <th>x</th>\n",
       "      <th>y</th>\n",
       "      <th>yp</th>\n",
       "    </tr>\n",
       "  </thead>\n",
       "  <tbody>\n",
       "    <tr>\n",
       "      <th>0</th>\n",
       "      <td>-40.0</td>\n",
       "      <td>-40.0</td>\n",
       "      <td>-75.281000</td>\n",
       "    </tr>\n",
       "    <tr>\n",
       "      <th>1</th>\n",
       "      <td>-30.0</td>\n",
       "      <td>-22.0</td>\n",
       "      <td>-55.437731</td>\n",
       "    </tr>\n",
       "    <tr>\n",
       "      <th>2</th>\n",
       "      <td>-10.0</td>\n",
       "      <td>14.0</td>\n",
       "      <td>-15.751194</td>\n",
       "    </tr>\n",
       "    <tr>\n",
       "      <th>3</th>\n",
       "      <td>-5.0</td>\n",
       "      <td>23.0</td>\n",
       "      <td>-5.829559</td>\n",
       "    </tr>\n",
       "    <tr>\n",
       "      <th>4</th>\n",
       "      <td>0.0</td>\n",
       "      <td>32.0</td>\n",
       "      <td>4.092075</td>\n",
       "    </tr>\n",
       "    <tr>\n",
       "      <th>5</th>\n",
       "      <td>8.0</td>\n",
       "      <td>46.4</td>\n",
       "      <td>19.966690</td>\n",
       "    </tr>\n",
       "    <tr>\n",
       "      <th>6</th>\n",
       "      <td>15.0</td>\n",
       "      <td>59.0</td>\n",
       "      <td>33.856978</td>\n",
       "    </tr>\n",
       "    <tr>\n",
       "      <th>7</th>\n",
       "      <td>22.0</td>\n",
       "      <td>71.6</td>\n",
       "      <td>47.747266</td>\n",
       "    </tr>\n",
       "    <tr>\n",
       "      <th>8</th>\n",
       "      <td>38.0</td>\n",
       "      <td>100.4</td>\n",
       "      <td>79.496496</td>\n",
       "    </tr>\n",
       "    <tr>\n",
       "      <th>9</th>\n",
       "      <td>50.0</td>\n",
       "      <td>122.0</td>\n",
       "      <td>103.308419</td>\n",
       "    </tr>\n",
       "  </tbody>\n",
       "</table>\n",
       "</div>"
      ],
      "text/plain": [
       "      x      y          yp\n",
       "0 -40.0  -40.0  -75.281000\n",
       "1 -30.0  -22.0  -55.437731\n",
       "2 -10.0   14.0  -15.751194\n",
       "3  -5.0   23.0   -5.829559\n",
       "4   0.0   32.0    4.092075\n",
       "5   8.0   46.4   19.966690\n",
       "6  15.0   59.0   33.856978\n",
       "7  22.0   71.6   47.747266\n",
       "8  38.0  100.4   79.496496\n",
       "9  50.0  122.0  103.308419"
      ]
     },
     "execution_count": 12,
     "metadata": {},
     "output_type": "execute_result"
    }
   ],
   "source": [
    "yp = p.predict(X)\n",
    "\n",
    "df = pd.DataFrame(X, columns=['x'])\n",
    "df['y'] = y\n",
    "df['yp'] = yp\n",
    "\n",
    "df"
   ]
  },
  {
   "cell_type": "markdown",
   "metadata": {},
   "source": [
    "Increasing the number of epochs, the perceptron will modify its parameters to optimize the output:"
   ]
  },
  {
   "cell_type": "code",
   "execution_count": 13,
   "metadata": {},
   "outputs": [
    {
     "name": "stdout",
     "output_type": "stream",
     "text": [
      "initial cost =  161940.47375841023\n",
      "final cost after 70000 epochs =  1.2791159089349864e-08\n"
     ]
    }
   ],
   "source": [
    "p = perceptron02()\n",
    "epochs = 70000\n",
    "history = p.train(X, y, epochs)\n",
    "print('initial cost = ', history[0])\n",
    "print(f'final cost after {epochs:.0f} epochs = ', history[-1])\n"
   ]
  },
  {
   "cell_type": "markdown",
   "metadata": {},
   "source": [
    "The final outputs are equal to the original known targets,"
   ]
  },
  {
   "cell_type": "code",
   "execution_count": 14,
   "metadata": {},
   "outputs": [
    {
     "data": {
      "text/html": [
       "<div>\n",
       "<style scoped>\n",
       "    .dataframe tbody tr th:only-of-type {\n",
       "        vertical-align: middle;\n",
       "    }\n",
       "\n",
       "    .dataframe tbody tr th {\n",
       "        vertical-align: top;\n",
       "    }\n",
       "\n",
       "    .dataframe thead th {\n",
       "        text-align: right;\n",
       "    }\n",
       "</style>\n",
       "<table border=\"1\" class=\"dataframe\">\n",
       "  <thead>\n",
       "    <tr style=\"text-align: right;\">\n",
       "      <th></th>\n",
       "      <th>x</th>\n",
       "      <th>y</th>\n",
       "      <th>yp</th>\n",
       "    </tr>\n",
       "  </thead>\n",
       "  <tbody>\n",
       "    <tr>\n",
       "      <th>0</th>\n",
       "      <td>-40.0</td>\n",
       "      <td>-40.0</td>\n",
       "      <td>-40.000046</td>\n",
       "    </tr>\n",
       "    <tr>\n",
       "      <th>1</th>\n",
       "      <td>-30.0</td>\n",
       "      <td>-22.0</td>\n",
       "      <td>-22.000043</td>\n",
       "    </tr>\n",
       "    <tr>\n",
       "      <th>2</th>\n",
       "      <td>-10.0</td>\n",
       "      <td>14.0</td>\n",
       "      <td>13.999961</td>\n",
       "    </tr>\n",
       "    <tr>\n",
       "      <th>3</th>\n",
       "      <td>-5.0</td>\n",
       "      <td>23.0</td>\n",
       "      <td>22.999962</td>\n",
       "    </tr>\n",
       "    <tr>\n",
       "      <th>4</th>\n",
       "      <td>0.0</td>\n",
       "      <td>32.0</td>\n",
       "      <td>31.999964</td>\n",
       "    </tr>\n",
       "    <tr>\n",
       "      <th>5</th>\n",
       "      <td>8.0</td>\n",
       "      <td>46.4</td>\n",
       "      <td>46.399966</td>\n",
       "    </tr>\n",
       "    <tr>\n",
       "      <th>6</th>\n",
       "      <td>15.0</td>\n",
       "      <td>59.0</td>\n",
       "      <td>58.999967</td>\n",
       "    </tr>\n",
       "    <tr>\n",
       "      <th>7</th>\n",
       "      <td>22.0</td>\n",
       "      <td>71.6</td>\n",
       "      <td>71.599969</td>\n",
       "    </tr>\n",
       "    <tr>\n",
       "      <th>8</th>\n",
       "      <td>38.0</td>\n",
       "      <td>100.4</td>\n",
       "      <td>100.399973</td>\n",
       "    </tr>\n",
       "    <tr>\n",
       "      <th>9</th>\n",
       "      <td>50.0</td>\n",
       "      <td>122.0</td>\n",
       "      <td>121.999976</td>\n",
       "    </tr>\n",
       "  </tbody>\n",
       "</table>\n",
       "</div>"
      ],
      "text/plain": [
       "      x      y          yp\n",
       "0 -40.0  -40.0  -40.000046\n",
       "1 -30.0  -22.0  -22.000043\n",
       "2 -10.0   14.0   13.999961\n",
       "3  -5.0   23.0   22.999962\n",
       "4   0.0   32.0   31.999964\n",
       "5   8.0   46.4   46.399966\n",
       "6  15.0   59.0   58.999967\n",
       "7  22.0   71.6   71.599969\n",
       "8  38.0  100.4  100.399973\n",
       "9  50.0  122.0  121.999976"
      ]
     },
     "execution_count": 14,
     "metadata": {},
     "output_type": "execute_result"
    }
   ],
   "source": [
    "yp = p.predict(X)\n",
    "\n",
    "df = pd.DataFrame(X, columns=['x'])\n",
    "df['y'] = y\n",
    "df['yp'] = yp\n",
    "\n",
    "df"
   ]
  },
  {
   "cell_type": "markdown",
   "metadata": {},
   "source": [
    "The trained perceptron has the parameters"
   ]
  },
  {
   "cell_type": "code",
   "execution_count": 15,
   "metadata": {},
   "outputs": [
    {
     "name": "stdout",
     "output_type": "stream",
     "text": [
      "w =  1.8000002378452589\n",
      "b =  31.99996366757969\n"
     ]
    }
   ],
   "source": [
    "print('w = ', p.w)\n",
    "print('b = ', p.bias)"
   ]
  },
  {
   "cell_type": "markdown",
   "metadata": {},
   "source": [
    "Since $\\frac{9}{5} = 1.8$, we conclude that the trained perceptron equation\n",
    "\n",
    "\\begin{equation}\n",
    "y_p = wx+b = 1.8x + 32 \n",
    "\\end{equation}\n",
    "\n",
    "shows that the algorithm 'learned' by itself the well known relation between Celcius and Fahrenheit temperatures,\n",
    "\n",
    "\\begin{equation}\n",
    "ºF = \\frac{9}{5} ºC + 32 \n",
    "\\end{equation}"
   ]
  },
  {
   "cell_type": "markdown",
   "metadata": {
    "id": "cn0RkhCyHfEO"
   },
   "source": [
    "---\n",
    "## A classification Perceptron with multiple inputs\n",
    "\n",
    "Now we will return to a simple perceptron including two inputs: $x_1$ and $x_2$, two weights: $w_1$ and $w_0$ and one bias: $b$ and giving one return: z = $w_1 x_1 + w_2 x_2 + b$."
   ]
  },
  {
   "cell_type": "code",
   "execution_count": null,
   "metadata": {
    "executionInfo": {
     "elapsed": 490,
     "status": "ok",
     "timestamp": 1618169052495,
     "user": {
      "displayName": "Eduard Alexis Larranaga",
      "photoUrl": "https://lh3.googleusercontent.com/a-/AOh14GgCVABzEgj-rCdyxWa29RnA0kIYUCXAaVbnRYOEhQ=s64",
      "userId": "04402438389940282602"
     },
     "user_tz": 300
    },
    "id": "z2_uSWSg5VRk"
   },
   "outputs": [],
   "source": [
    "import numpy as np\n",
    "\n",
    "class perceptronC:\n",
    "    def __init__(self):\n",
    "        self.w = np.array([-2., 5.])\n",
    "        self.bias = 2.\n",
    "        \n",
    "    def predict(self,x):\n",
    "        self.x = x\n",
    "        return np.dot(self.w,self.x) + self.bias\n",
    "\n",
    "\n",
    "    \n",
    "x = np.array([0., 1.])\n",
    "\n",
    "p = perceptronC()\n",
    "p.predict(x)"
   ]
  },
  {
   "cell_type": "markdown",
   "metadata": {},
   "source": [
    "In order to transform this perceptron into a classifier, we will incorporate an 'activation function'. For example, we may consider a step function,\n",
    "\n",
    "\\begin{equation}\n",
    "f_A(z) = \\begin{cases}\n",
    "0 \\text{ if } z\\leq 0 \\\\\n",
    "1 \\text{ if } z> 0\n",
    "\\end{cases}\n",
    "\\end{equation}\n",
    "\n",
    "which classifies the outputs into two possibilities: 0 and 1."
   ]
  },
  {
   "cell_type": "code",
   "execution_count": null,
   "metadata": {
    "colab": {
     "base_uri": "https://localhost:8080/"
    },
    "executionInfo": {
     "elapsed": 401,
     "status": "ok",
     "timestamp": 1618169168563,
     "user": {
      "displayName": "Eduard Alexis Larranaga",
      "photoUrl": "https://lh3.googleusercontent.com/a-/AOh14GgCVABzEgj-rCdyxWa29RnA0kIYUCXAaVbnRYOEhQ=s64",
      "userId": "04402438389940282602"
     },
     "user_tz": 300
    },
    "id": "YViL7KzKZUOP",
    "outputId": "e67453e6-0d57-4fde-c732-18b4bd965988"
   },
   "outputs": [],
   "source": [
    "class perceptronC:\n",
    "    def __init__(self):\n",
    "        self.w = np.array([-2., 5.])\n",
    "        self.bias = 2.\n",
    "        \n",
    "    def predict(self,x):\n",
    "        self.x = x\n",
    "        z = np.dot(self.w,self.x) + self.bias\n",
    "        return self.fA(z)\n",
    "    \n",
    "    def fA(self,z):\n",
    "        '''\n",
    "        Activation Function\n",
    "        '''\n",
    "        if z<=0:\n",
    "            return 0\n",
    "        else:\n",
    "            return 1\n",
    "\n",
    "\n",
    "p = perceptronC()\n",
    "p.predict(x)"
   ]
  },
  {
   "cell_type": "code",
   "execution_count": null,
   "metadata": {},
   "outputs": [],
   "source": [
    "x = np.array([5., 1.])\n",
    "perceptronC().predict(x)"
   ]
  },
  {
   "cell_type": "markdown",
   "metadata": {
    "id": "C7pkVeizIyj5"
   },
   "source": [
    "Now we can apply this perceptron to many input data,"
   ]
  },
  {
   "cell_type": "code",
   "execution_count": null,
   "metadata": {
    "colab": {
     "base_uri": "https://localhost:8080/"
    },
    "executionInfo": {
     "elapsed": 552,
     "status": "ok",
     "timestamp": 1618169172215,
     "user": {
      "displayName": "Eduard Alexis Larranaga",
      "photoUrl": "https://lh3.googleusercontent.com/a-/AOh14GgCVABzEgj-rCdyxWa29RnA0kIYUCXAaVbnRYOEhQ=s64",
      "userId": "04402438389940282602"
     },
     "user_tz": 300
    },
    "id": "9ADX6gPTKed5",
    "outputId": "c460d496-f683-4c9a-da23-36104007305a"
   },
   "outputs": [],
   "source": [
    "data = np.array([[0., 1.],\n",
    "                [5., 1.],\n",
    "                [3., 4.],\n",
    "                [10., 3.5],\n",
    "                [6., 4.],\n",
    "                [4., 2.]])\n",
    "\n",
    "yp = np.zeros(len(data))\n",
    "\n",
    "p = perceptronC()\n",
    "\n",
    "for i in range(len(data)):\n",
    "    yp[i] = p.predict(data[i])"
   ]
  },
  {
   "cell_type": "markdown",
   "metadata": {},
   "source": [
    "and we can show the results as a table,"
   ]
  },
  {
   "cell_type": "code",
   "execution_count": null,
   "metadata": {
    "colab": {
     "base_uri": "https://localhost:8080/"
    },
    "executionInfo": {
     "elapsed": 717,
     "status": "ok",
     "timestamp": 1618169175171,
     "user": {
      "displayName": "Eduard Alexis Larranaga",
      "photoUrl": "https://lh3.googleusercontent.com/a-/AOh14GgCVABzEgj-rCdyxWa29RnA0kIYUCXAaVbnRYOEhQ=s64",
      "userId": "04402438389940282602"
     },
     "user_tz": 300
    },
    "id": "0s-hSuTvKh6h",
    "outputId": "873526a4-41f7-44af-b02f-8c3b8fafc3f3"
   },
   "outputs": [],
   "source": [
    "df = pd.DataFrame(data, columns=['x1','x2'])\n",
    "df['y'] = yp\n",
    "\n",
    "df"
   ]
  },
  {
   "cell_type": "markdown",
   "metadata": {},
   "source": [
    "---\n",
    "\n",
    "Lets define a perceptron with the following values:\n",
    "\n",
    "- $w_1 = -2$\n",
    "- $w_2 = -2$\n",
    "- $b = 3$\n",
    "\n",
    "Hence the result of the linear function is $z = -2 x_1 -2 x_2 +3$. In a plane with axes $(x_1,x_2)$ we have the following straight line:\n"
   ]
  },
  {
   "cell_type": "code",
   "execution_count": null,
   "metadata": {},
   "outputs": [],
   "source": [
    "import matplotlib.pyplot as plt\n",
    "\n",
    "class perceptronC:\n",
    "    def __init__(self):\n",
    "        self.w = np.array([-2., -2.])\n",
    "        self.bias = 3.\n",
    "        \n",
    "    def predict(self,x):\n",
    "        self.x = x\n",
    "        z = np.dot(self.w,self.x) + self.bias\n",
    "        return self.fA(z)\n",
    "    \n",
    "    def fA(self,z):\n",
    "        '''\n",
    "        Activation Function\n",
    "        '''\n",
    "        if z<=0:\n",
    "            return 0\n",
    "        else:\n",
    "            return 1\n",
    "\n",
    "\n",
    "p = perceptronC()\n",
    "\n",
    "x1 = np.arange(-5,6)\n",
    "np.random.seed(413)\n",
    "points = -5 + np.random.rand(50,2)*10\n",
    "\n",
    "def sl(x1):\n",
    "    '''\n",
    "    Straight line equation\n",
    "    '''\n",
    "    return -x1 + 3/2 \n",
    "\n",
    "\n",
    "\n",
    "plt.figure(figsize=(10,7))\n",
    "plt.axhline(0, color='black')\n",
    "plt.axvline(0, color='black')\n",
    "plt.plot(x1, sl(x1), color='crimson')\n",
    "for i in range(len(points)):\n",
    "    if points[i,1]>sl(points[i,0]):\n",
    "        plt.scatter(points[i,0], points[i,1], marker='*', color='black', s=50)\n",
    "    else:\n",
    "        plt.scatter(points[i,0], points[i,1], marker='o', color='blue')\n",
    "\n",
    "plt.xlabel(r'$x_1$')\n",
    "plt.ylabel(r'$x_2$')\n",
    "plt.grid()\n",
    "plt.show()"
   ]
  },
  {
   "cell_type": "markdown",
   "metadata": {},
   "source": [
    "In this plot is easy to show the result of the applying the activation function. Any point above the straight line (black stars) corresponds to a final result of $1$ while any point below the straight line (blue dots) corresponds to a final result of 0 in the binary classifier."
   ]
  },
  {
   "cell_type": "markdown",
   "metadata": {
    "id": "bbhQoywPKrqX"
   },
   "source": [
    "## NAND Logic Gate\n",
    "\n",
    "Consider a particular case in which the inputs ($x_1$ and $x_2$) are binary values (i.e. $0$ or $1$). The allowed points in the $(x_1,x_2)$ plane are represented as"
   ]
  },
  {
   "cell_type": "code",
   "execution_count": null,
   "metadata": {
    "colab": {
     "base_uri": "https://localhost:8080/"
    },
    "executionInfo": {
     "elapsed": 450,
     "status": "ok",
     "timestamp": 1618169181183,
     "user": {
      "displayName": "Eduard Alexis Larranaga",
      "photoUrl": "https://lh3.googleusercontent.com/a-/AOh14GgCVABzEgj-rCdyxWa29RnA0kIYUCXAaVbnRYOEhQ=s64",
      "userId": "04402438389940282602"
     },
     "user_tz": 300
    },
    "id": "RjLaP4_uKX5o",
    "outputId": "08495961-1398-43a6-8f32-62238a095f0d"
   },
   "outputs": [],
   "source": [
    "x1 = np.arange(-2,3)\n",
    "\n",
    "\n",
    "def sl(x1):\n",
    "    return -x1 + 3/2 \n",
    "\n",
    "points = np.array([[0,0],\n",
    "                  [0,1],\n",
    "                  [1,0],\n",
    "                  [1,1]])\n",
    "\n",
    "\n",
    "plt.figure(figsize=(10,7))\n",
    "plt.axhline(0, color='black', alpha=0.5)\n",
    "plt.axvline(0, color='black', alpha=0.5)\n",
    "plt.plot(x1, sl(x1), color='crimson')\n",
    "for i in range(len(points)):\n",
    "    if points[i,1]>sl(points[i,0]):\n",
    "        plt.scatter(points[i,0], points[i,1], marker='*', color='black', s=200)\n",
    "    else:\n",
    "        plt.scatter(points[i,0], points[i,1], marker='o', color='blue', s=100)\n",
    "\n",
    "plt.xlabel(r'$x_1$')\n",
    "plt.ylabel(r'$x_2$')\n",
    "plt.grid()\n",
    "plt.show()"
   ]
  },
  {
   "cell_type": "markdown",
   "metadata": {},
   "source": [
    "This plot shows immediately the results of applying the perceptron to these datapoints,"
   ]
  },
  {
   "cell_type": "code",
   "execution_count": null,
   "metadata": {
    "colab": {
     "base_uri": "https://localhost:8080/"
    },
    "executionInfo": {
     "elapsed": 443,
     "status": "ok",
     "timestamp": 1618169183409,
     "user": {
      "displayName": "Eduard Alexis Larranaga",
      "photoUrl": "https://lh3.googleusercontent.com/a-/AOh14GgCVABzEgj-rCdyxWa29RnA0kIYUCXAaVbnRYOEhQ=s64",
      "userId": "04402438389940282602"
     },
     "user_tz": 300
    },
    "id": "lQePgwUbKul3",
    "outputId": "8117d680-1ef4-4dad-a55d-0442489024d0"
   },
   "outputs": [],
   "source": [
    "\n",
    "class perceptronC:\n",
    "    def __init__(self):\n",
    "        self.w = np.array([-2., -2.])\n",
    "        self.bias = 3.\n",
    "        \n",
    "    def predict(self,x):\n",
    "        self.x = x\n",
    "        z = np.dot(self.w,self.x) + self.bias\n",
    "        return self.fA(z)\n",
    "    \n",
    "    def fA(self,z):\n",
    "        '''\n",
    "        Activation Function\n",
    "        '''\n",
    "        if z<=0:\n",
    "            return 0\n",
    "        else:\n",
    "            return 1\n",
    "\n",
    "\n",
    "p = perceptronC()\n",
    "\n",
    "\n",
    "points = np.array([[0,0],\n",
    "                  [0,1],\n",
    "                  [1,0],\n",
    "                  [1,1]])\n",
    "\n",
    "yp = np.zeros(len(points))\n",
    "\n",
    "for i in range(len(points)):\n",
    "    yp[i] = p.predict(points[i])\n",
    "    \n",
    "df = pd.DataFrame(points, columns=['x1','x2'])\n",
    "df['yp'] = yp\n",
    "\n",
    "df    "
   ]
  },
  {
   "cell_type": "markdown",
   "metadata": {
    "id": "ca9ZEeaNK8Vh"
   },
   "source": [
    "These results shows that this particualr perceptron reproduces the result of a NAND GATE !!\n",
    "\n",
    "**Since all logical gates can be obtained using only NAND gates, we can use perceptrons to implement a model of any digital circuit!!**\n",
    "\n",
    "<img src=\"https://www.electronics-tutorials.ws/wp-content/uploads/2019/09/log80.gif\" >\n"
   ]
  },
  {
   "cell_type": "markdown",
   "metadata": {},
   "source": [
    "We can define the NAND Gate perceptron in a compact form as "
   ]
  },
  {
   "cell_type": "code",
   "execution_count": null,
   "metadata": {
    "colab": {
     "base_uri": "https://localhost:8080/"
    },
    "executionInfo": {
     "elapsed": 404,
     "status": "ok",
     "timestamp": 1618169186722,
     "user": {
      "displayName": "Eduard Alexis Larranaga",
      "photoUrl": "https://lh3.googleusercontent.com/a-/AOh14GgCVABzEgj-rCdyxWa29RnA0kIYUCXAaVbnRYOEhQ=s64",
      "userId": "04402438389940282602"
     },
     "user_tz": 300
    },
    "id": "8JHyXtPlK6Hs",
    "outputId": "d0a8bc4d-5e63-4226-9770-ad617c9851e3"
   },
   "outputs": [],
   "source": [
    "class NAND:\n",
    "    def __init__(self):\n",
    "        self.w = np.array([-2., -2.])\n",
    "        self.bias = 3.\n",
    "        \n",
    "    def predict(self,x):\n",
    "        self.x = x\n",
    "        z = np.dot(self.w,self.x) + self.bias\n",
    "        return self.fA(z)\n",
    "    \n",
    "    def fA(self,z):\n",
    "        '''\n",
    "        Activation Function\n",
    "        '''\n",
    "        if z<=0:\n",
    "            return 0\n",
    "        else:\n",
    "            return 1\n",
    "\n",
    "\n",
    "p = NAND()\n",
    "\n",
    "\n",
    "    \n",
    "points = np.array([[0,0,0],\n",
    "                  [0,1,0],\n",
    "                  [1,0,0],\n",
    "                  [1,1,0]])\n",
    "    \n",
    "for i in range(len(points)):\n",
    "    points[i,2] = p.predict([points[i,0],points[i,1]])\n",
    "    \n",
    "df = pd.DataFrame(points, columns=['x1','x2','y'])\n",
    "\n",
    "df  "
   ]
  },
  {
   "cell_type": "markdown",
   "metadata": {
    "id": "a_KhynSxkAyL"
   },
   "source": [
    "Now we can easily implement an OR GATE:"
   ]
  },
  {
   "cell_type": "code",
   "execution_count": null,
   "metadata": {
    "colab": {
     "base_uri": "https://localhost:8080/",
     "height": 606
    },
    "executionInfo": {
     "elapsed": 1259,
     "status": "ok",
     "timestamp": 1618169641282,
     "user": {
      "displayName": "Eduard Alexis Larranaga",
      "photoUrl": "https://lh3.googleusercontent.com/a-/AOh14GgCVABzEgj-rCdyxWa29RnA0kIYUCXAaVbnRYOEhQ=s64",
      "userId": "04402438389940282602"
     },
     "user_tz": 300
    },
    "id": "sVW91-yXmO6s",
    "outputId": "20034470-3fb0-4b25-80ae-ee487846e2c4"
   },
   "outputs": [],
   "source": [
    "def ORGate(x1,x2):\n",
    "    p = NAND()\n",
    "    y1 = p.predict([x1,x1])\n",
    "    y2 = p.predict([x2,x2])\n",
    "    z = p.predict([y1,y2])\n",
    "    return z\n",
    "\n",
    "points = np.array([[0,0,0],\n",
    "                  [0,1,0],\n",
    "                  [1,0,0],\n",
    "                  [1,1,0]])\n",
    "    \n",
    "for i in range(len(points)):\n",
    "    points[i,2] = ORGate(points[i,0],points[i,1])\n",
    "    \n",
    "df = pd.DataFrame(points, columns=['x1','x2','y'])\n",
    "\n",
    "df  "
   ]
  },
  {
   "cell_type": "code",
   "execution_count": null,
   "metadata": {},
   "outputs": [],
   "source": []
  }
 ],
 "metadata": {
  "@webio": {
   "lastCommId": null,
   "lastKernelId": null
  },
  "colab": {
   "collapsed_sections": [],
   "name": "01. Decision Trees.ipynb",
   "provenance": []
  },
  "kernelspec": {
   "display_name": "Python 3 (ipykernel)",
   "language": "python",
   "name": "python3"
  },
  "language_info": {
   "codemirror_mode": {
    "name": "ipython",
    "version": 3
   },
   "file_extension": ".py",
   "mimetype": "text/x-python",
   "name": "python",
   "nbconvert_exporter": "python",
   "pygments_lexer": "ipython3",
   "version": "3.9.5"
  }
 },
 "nbformat": 4,
 "nbformat_minor": 1
}
