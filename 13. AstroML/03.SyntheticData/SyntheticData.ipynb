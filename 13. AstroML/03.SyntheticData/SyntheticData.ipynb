{
 "cells": [
  {
   "cell_type": "markdown",
   "metadata": {
    "id": "P313_Kp4DKYz"
   },
   "source": [
    "<img src=\"https://i.ibb.co/TcVMz44/logo.jpg\" alt=\"logo\" border=\"0\" width=200>\n",
    "\n",
    "# Computational Astrophysics 2021\n",
    "---\n",
    "## Eduard Larrañaga\n",
    "\n",
    "Observatorio Astronómico Nacional\\\n",
    "Facultad de Ciencias\\\n",
    "Universidad Nacional de Colombia\n",
    "\n",
    "---\n"
   ]
  },
  {
   "cell_type": "markdown",
   "metadata": {
    "id": "sdh0Wd91DKY9"
   },
   "source": [
    "## 03. Creating Synthetic Data\n",
    "\n",
    "### About this notebook\n",
    "\n",
    "In this worksheet we use the `AstroML` package to create a synthetic dataset. \n",
    "\n",
    "---"
   ]
  },
  {
   "cell_type": "markdown",
   "metadata": {
    "id": "DviiG-ySE5WZ"
   },
   "source": [
    "#### Intalling the `astroML` Package\n",
    "\n",
    "In order to work with the `astroML` package we install it. Detailed instruictions at \n",
    "https://www.astroml.org/user_guide/installation.html#installation\n"
   ]
  },
  {
   "cell_type": "code",
   "execution_count": null,
   "metadata": {
    "colab": {
     "base_uri": "https://localhost:8080/"
    },
    "executionInfo": {
     "elapsed": 6337,
     "status": "ok",
     "timestamp": 1609087111218,
     "user": {
      "displayName": "Eduard Alexis Larranaga",
      "photoUrl": "https://lh3.googleusercontent.com/a-/AOh14GgCVABzEgj-rCdyxWa29RnA0kIYUCXAaVbnRYOEhQ=s64",
      "userId": "04402438389940282602"
     },
     "user_tz": 300
    },
    "id": "ROd5KqCMEKFk",
    "outputId": "867151cb-2fde-43f5-b11f-56424aa67f60"
   },
   "outputs": [
    {
     "name": "stdout",
     "output_type": "stream",
     "text": [
      "Collecting astroML\n",
      "\u001b[?25l  Downloading https://files.pythonhosted.org/packages/e6/16/bb2d2784c09bfa9ed1ac5c3caf32cc203a1f8614fd5361f99ee46b4e04dc/astroML-0.4.1.tar.gz (105kB)\n",
      "\r",
      "\u001b[K     |███▏                            | 10kB 10.4MB/s eta 0:00:01\r",
      "\u001b[K     |██████▎                         | 20kB 12.9MB/s eta 0:00:01\r",
      "\u001b[K     |█████████▍                      | 30kB 13.5MB/s eta 0:00:01\r",
      "\u001b[K     |████████████▌                   | 40kB 9.4MB/s eta 0:00:01\r",
      "\u001b[K     |███████████████▋                | 51kB 4.2MB/s eta 0:00:01\r",
      "\u001b[K     |██████████████████▊             | 61kB 4.5MB/s eta 0:00:01\r",
      "\u001b[K     |█████████████████████▉          | 71kB 4.7MB/s eta 0:00:01\r",
      "\u001b[K     |█████████████████████████       | 81kB 5.1MB/s eta 0:00:01\r",
      "\u001b[K     |████████████████████████████    | 92kB 5.4MB/s eta 0:00:01\r",
      "\u001b[K     |███████████████████████████████▏| 102kB 5.7MB/s eta 0:00:01\r",
      "\u001b[K     |████████████████████████████████| 112kB 5.7MB/s \n",
      "\u001b[?25hRequirement already satisfied: scikit-learn>=0.18 in /usr/local/lib/python3.6/dist-packages (from astroML) (0.22.2.post1)\n",
      "Requirement already satisfied: numpy>=1.4 in /usr/local/lib/python3.6/dist-packages (from astroML) (1.19.4)\n",
      "Requirement already satisfied: scipy>=0.11 in /usr/local/lib/python3.6/dist-packages (from astroML) (1.4.1)\n",
      "Requirement already satisfied: matplotlib>=0.99 in /usr/local/lib/python3.6/dist-packages (from astroML) (3.2.2)\n",
      "Requirement already satisfied: astropy>=1.2 in /usr/local/lib/python3.6/dist-packages (from astroML) (4.1)\n",
      "Requirement already satisfied: joblib>=0.11 in /usr/local/lib/python3.6/dist-packages (from scikit-learn>=0.18->astroML) (1.0.0)\n",
      "Requirement already satisfied: kiwisolver>=1.0.1 in /usr/local/lib/python3.6/dist-packages (from matplotlib>=0.99->astroML) (1.3.1)\n",
      "Requirement already satisfied: cycler>=0.10 in /usr/local/lib/python3.6/dist-packages (from matplotlib>=0.99->astroML) (0.10.0)\n",
      "Requirement already satisfied: pyparsing!=2.0.4,!=2.1.2,!=2.1.6,>=2.0.1 in /usr/local/lib/python3.6/dist-packages (from matplotlib>=0.99->astroML) (2.4.7)\n",
      "Requirement already satisfied: python-dateutil>=2.1 in /usr/local/lib/python3.6/dist-packages (from matplotlib>=0.99->astroML) (2.8.1)\n",
      "Requirement already satisfied: six in /usr/local/lib/python3.6/dist-packages (from cycler>=0.10->matplotlib>=0.99->astroML) (1.15.0)\n",
      "Building wheels for collected packages: astroML\n",
      "  Building wheel for astroML (setup.py) ... \u001b[?25l\u001b[?25hdone\n",
      "  Created wheel for astroML: filename=astroML-0.4.1-cp36-none-any.whl size=128665 sha256=187f9e42b4b9ca0b13aabc5cf356d81fcafd07a17cf910c214ae983bc75af094\n",
      "  Stored in directory: /root/.cache/pip/wheels/7c/f2/f3/eb817cfb31b4445358dd7dda2434e02003f72801edabc38c97\n",
      "Successfully built astroML\n",
      "Installing collected packages: astroML\n",
      "Successfully installed astroML-0.4.1\n"
     ]
    }
   ],
   "source": [
    "!pip install astroML"
   ]
  },
  {
   "cell_type": "markdown",
   "metadata": {
    "id": "BXRmalu4DKY9"
   },
   "source": [
    "### Creating the data\n",
    "\n",
    "We use the function `astroML,datasets.generate_mu_z` to generate a dataset of distance modulus vs. redshift for 200 supernovas, including errors in the distance modulus. The samples are randomly selected from a distribution\n",
    "\n",
    "$\\mu (z) = -5 \\log _{10} \\left[ (1+z) \\frac{c}{H_0} \\int \\frac{dz}{\\left(\\Omega_m (1+z)^3 + \\Omega_\\Lambda \\right)^{1/2}} \\right]$\n",
    "\n",
    "where $\\mu (z)$ is the distance modulus to the supernova, $H_0$ is the Hubble constant, $\\Omega_m$ is the cosmological matter density and $\\Omega_\\Lambda$ is the energy density from a cosmological constant. The used cosmological parameters for the synthetic data are\n",
    "\n",
    "$H_0 = 70 \\textrm{ km } \\textrm{s}^{-1} \\textrm{Mpc}^{-1}$\\\n",
    "$\\Omega_m = 0.3$\\\n",
    "$\\Omega_\\Lambda = 0.7$\n",
    "\n",
    "The detailed information about this function and the cosmological parameters in the model can be found at\n",
    "\n",
    "https://www.astroml.org/modules/generated/astroML.datasets.generate_mu_z.html\n"
   ]
  },
  {
   "cell_type": "code",
   "execution_count": null,
   "metadata": {
    "id": "FZ2uj7o0DKY-"
   },
   "outputs": [],
   "source": [
    "from matplotlib import pyplot as plt\n",
    "import numpy as np\n",
    "import pandas as pd\n",
    "\n",
    "from astroML.datasets import generate_mu_z\n",
    "from astropy.cosmology import LambdaCDM"
   ]
  },
  {
   "cell_type": "code",
   "execution_count": null,
   "metadata": {
    "id": "vidr_5arDKY-"
   },
   "outputs": [],
   "source": [
    "from astroML.datasets import generate_mu_z\n",
    "\n",
    "z_sample, mu_sample, dmu = generate_mu_z(200, random_state=0) #generate 200 synthetic datapoints"
   ]
  },
  {
   "cell_type": "markdown",
   "metadata": {
    "id": "xy69KRQuDKY-"
   },
   "source": [
    "In order to compare the synthetic data from the `astroML` package, we will also obtain a dataset using the function `LambdaCDM` from the `astropy.cosmology` package. Here, we assume a FLRW cosmology with a cosmological constant and curvature. The used parameters are the same as above,\n",
    "\n",
    "$H_0 = 70 \\textrm{ km } \\textrm{s}^{-1} \\textrm{Mpc}^{-1}$\\\n",
    "$\\Omega_m = 0.3$\\\n",
    "$\\Omega_\\Lambda = 0.7$\n",
    "\n",
    "The distance modulus is calculated using the method `.distmod(z)`. More information about this function is given at\n",
    "\n",
    "https://docs.astropy.org/en/stable/api/astropy.cosmology.LambdaCDM.html#"
   ]
  },
  {
   "cell_type": "code",
   "execution_count": null,
   "metadata": {
    "id": "05G1YvMRDKY_"
   },
   "outputs": [],
   "source": [
    "from astropy.cosmology import LambdaCDM\n",
    "\n",
    "z = np.linspace(0.01, 2, 1000)\n",
    "cosmo = LambdaCDM(H0=70, Om0=0.30, Ode0=0.70, Tcmb0=0)\n",
    "mu_true = cosmo.distmod(z)"
   ]
  },
  {
   "cell_type": "markdown",
   "metadata": {
    "id": "G_yeKyWuDKY_"
   },
   "source": [
    "Now, we will plot the datapoints with errors form `astroML` together with the curve from `astropy`."
   ]
  },
  {
   "cell_type": "code",
   "execution_count": null,
   "metadata": {
    "colab": {
     "base_uri": "https://localhost:8080/",
     "height": 279
    },
    "executionInfo": {
     "elapsed": 1031,
     "status": "ok",
     "timestamp": 1609087129829,
     "user": {
      "displayName": "Eduard Alexis Larranaga",
      "photoUrl": "https://lh3.googleusercontent.com/a-/AOh14GgCVABzEgj-rCdyxWa29RnA0kIYUCXAaVbnRYOEhQ=s64",
      "userId": "04402438389940282602"
     },
     "user_tz": 300
    },
    "id": "7dKFjqqhDKZA",
    "outputId": "d90f0b21-bb50-4278-99a1-4a762b31a7ac"
   },
   "outputs": [
    {
     "data": {
      "image/png": "[encoded data removed]",
      "text/plain": [
       "<Figure size 432x288 with 1 Axes>"
      ]
     },
     "metadata": {
      "needs_background": "light",
      "tags": []
     },
     "output_type": "display_data"
    }
   ],
   "source": [
    "plt.errorbar(z_sample, mu_sample, dmu, fmt='.k', lw=1)\n",
    "plt.plot(z, mu_true, '--', c='gray')\n",
    "plt.xlabel(r'$z$')\n",
    "plt.ylabel(r'$\\mu$')\n",
    "\n",
    "plt.show()"
   ]
  },
  {
   "cell_type": "markdown",
   "metadata": {
    "id": "Sh6ASBEmDKZB"
   },
   "source": [
    "### Saving data as a .csv file\n",
    "\n",
    "In order to save the synthetic data into a .csv file, let see the shape of the data"
   ]
  },
  {
   "cell_type": "code",
   "execution_count": null,
   "metadata": {
    "colab": {
     "base_uri": "https://localhost:8080/"
    },
    "executionInfo": {
     "elapsed": 817,
     "status": "ok",
     "timestamp": 1609087136552,
     "user": {
      "displayName": "Eduard Alexis Larranaga",
      "photoUrl": "https://lh3.googleusercontent.com/a-/AOh14GgCVABzEgj-rCdyxWa29RnA0kIYUCXAaVbnRYOEhQ=s64",
      "userId": "04402438389940282602"
     },
     "user_tz": 300
    },
    "id": "1ggkcoWtDKZB",
    "outputId": "8dbbca95-54ef-453d-f25d-9dbbbec214ab"
   },
   "outputs": [
    {
     "data": {
      "text/plain": [
       "(200,)"
      ]
     },
     "execution_count": 7,
     "metadata": {
      "tags": []
     },
     "output_type": "execute_result"
    }
   ],
   "source": [
    "z_sample.shape"
   ]
  },
  {
   "cell_type": "code",
   "execution_count": null,
   "metadata": {
    "colab": {
     "base_uri": "https://localhost:8080/"
    },
    "executionInfo": {
     "elapsed": 506,
     "status": "ok",
     "timestamp": 1609087137816,
     "user": {
      "displayName": "Eduard Alexis Larranaga",
      "photoUrl": "https://lh3.googleusercontent.com/a-/AOh14GgCVABzEgj-rCdyxWa29RnA0kIYUCXAaVbnRYOEhQ=s64",
      "userId": "04402438389940282602"
     },
     "user_tz": 300
    },
    "id": "WzK6WBrYDKZC",
    "outputId": "d4843bd1-20af-45fd-f690-eb15ee13d89c"
   },
   "outputs": [
    {
     "data": {
      "text/plain": [
       "(200,)"
      ]
     },
     "execution_count": 8,
     "metadata": {
      "tags": []
     },
     "output_type": "execute_result"
    }
   ],
   "source": [
    "mu_sample.shape"
   ]
  },
  {
   "cell_type": "markdown",
   "metadata": {
    "id": "76roRt56DKZD"
   },
   "source": [
    "Now, we combine the columns into one 2D-array"
   ]
  },
  {
   "cell_type": "code",
   "execution_count": null,
   "metadata": {
    "colab": {
     "base_uri": "https://localhost:8080/"
    },
    "executionInfo": {
     "elapsed": 952,
     "status": "ok",
     "timestamp": 1609087143039,
     "user": {
      "displayName": "Eduard Alexis Larranaga",
      "photoUrl": "https://lh3.googleusercontent.com/a-/AOh14GgCVABzEgj-rCdyxWa29RnA0kIYUCXAaVbnRYOEhQ=s64",
      "userId": "04402438389940282602"
     },
     "user_tz": 300
    },
    "id": "XSXPfOuiDKZD",
    "outputId": "2a5247cf-e938-44fc-d2e5-2f1b4f65ea51",
    "scrolled": true
   },
   "outputs": [
    {
     "data": {
      "text/plain": [
       "(200, 2)"
      ]
     },
     "execution_count": 9,
     "metadata": {
      "tags": []
     },
     "output_type": "execute_result"
    }
   ],
   "source": [
    "data_sample = np.vstack((z_sample, mu_sample)).T\n",
    "data_sample.shape"
   ]
  },
  {
   "cell_type": "code",
   "execution_count": null,
   "metadata": {
    "colab": {
     "base_uri": "https://localhost:8080/"
    },
    "executionInfo": {
     "elapsed": 939,
     "status": "ok",
     "timestamp": 1609087145252,
     "user": {
      "displayName": "Eduard Alexis Larranaga",
      "photoUrl": "https://lh3.googleusercontent.com/a-/AOh14GgCVABzEgj-rCdyxWa29RnA0kIYUCXAaVbnRYOEhQ=s64",
      "userId": "04402438389940282602"
     },
     "user_tz": 300
    },
    "id": "0BhLvZmiDKZD",
    "outputId": "403d6655-f9ac-413b-94cd-1bd715739233"
   },
   "outputs": [
    {
     "data": {
      "text/plain": [
       "array([[ 0.57416292, 43.69117415],\n",
       "       [ 0.73936191, 42.25032342],\n",
       "       [ 0.62229066, 41.73437759],\n",
       "       [ 0.5707984 , 42.18580439],\n",
       "       [ 0.47362125, 41.64205226],\n",
       "       [ 0.66396834, 44.85763708],\n",
       "       [ 0.48428575, 43.06526288],\n",
       "       [ 1.04004904, 44.30182638],\n",
       "       [ 1.34396959, 43.68809925],\n",
       "       [ 0.44329774, 42.73139492],\n",
       "       [ 0.84158293, 42.66925181],\n",
       "       [ 0.55728238, 41.07044561],\n",
       "       [ 0.59088366, 43.82760805],\n",
       "       [ 1.14734314, 44.79576494],\n",
       "       [ 0.18862724, 40.61792401],\n",
       "       [ 0.20621901, 40.29672399],\n",
       "       [ 0.11335508, 39.32823933],\n",
       "       [ 0.90977923, 43.21688472],\n",
       "       [ 0.82144751, 42.57212606],\n",
       "       [ 0.98612721, 44.74020202],\n",
       "       [ 1.48406527, 44.37375708],\n",
       "       [ 0.85308185, 43.00763422],\n",
       "       [ 0.50281672, 41.83743641],\n",
       "       [ 0.82489324, 43.60521507],\n",
       "       [ 0.23679328, 40.02805016],\n",
       "       [ 0.65799365, 41.66150212],\n",
       "       [ 0.25923566, 39.98683896],\n",
       "       [ 1.22978992, 42.46172267],\n",
       "       [ 0.55140772, 43.10527394],\n",
       "       [ 0.46678581, 40.56503464],\n",
       "       [ 0.35513827, 40.3428506 ],\n",
       "       [ 0.81581568, 43.60903166],\n",
       "       [ 0.49865441, 41.54742155],\n",
       "       [ 0.59122686, 44.16781297],\n",
       "       [ 0.11021789, 37.39061781],\n",
       "       [ 0.63629486, 43.1472004 ],\n",
       "       [ 0.6310363 , 42.83167472],\n",
       "       [ 0.63562613, 41.76983969],\n",
       "       [ 1.2252428 , 45.1801409 ],\n",
       "       [ 0.70152709, 42.98719282],\n",
       "       [ 0.42548428, 42.55509069],\n",
       "       [ 0.48385887, 42.94412638],\n",
       "       [ 0.7190572 , 45.30477099],\n",
       "       [ 0.17578829, 40.81538752],\n",
       "       [ 0.68543083, 42.73512741],\n",
       "       [ 0.68951803, 42.8758183 ],\n",
       "       [ 0.31391493, 42.06626014],\n",
       "       [ 0.24651262, 41.04419114],\n",
       "       [ 0.39288931, 42.22311881],\n",
       "       [ 0.42860346, 40.33601969],\n",
       "       [ 0.59278298, 42.67967549],\n",
       "       [ 0.48506595, 41.47748925],\n",
       "       [ 1.64070751, 45.73384695],\n",
       "       [ 0.22132532, 40.09414106],\n",
       "       [ 0.31274224, 41.88210256],\n",
       "       [ 0.27449472, 41.00611896],\n",
       "       [ 0.67128081, 43.78979515],\n",
       "       [ 0.34668975, 40.87358215],\n",
       "       [ 0.50660588, 41.39458784],\n",
       "       [ 0.34000275, 40.87657505],\n",
       "       [ 0.27253767, 40.68264551],\n",
       "       [ 0.22937438, 40.61393628],\n",
       "       [ 0.67458117, 45.21858318],\n",
       "       [ 0.25472874, 40.49140877],\n",
       "       [ 0.30309372, 40.08604527],\n",
       "       [ 0.4323294 , 41.54926301],\n",
       "       [ 0.88906518, 43.33827457],\n",
       "       [ 0.21642532, 40.56249698],\n",
       "       [ 0.9196824 , 42.37592808],\n",
       "       [ 0.21541909, 40.17359917],\n",
       "       [ 1.45893728, 45.29074486],\n",
       "       [ 0.50844691, 42.5169685 ],\n",
       "       [ 1.46231289, 44.54108881],\n",
       "       [ 0.62422993, 42.61273753],\n",
       "       [ 0.7688473 , 42.02012239],\n",
       "       [ 0.14714935, 38.76072644],\n",
       "       [ 0.36874003, 40.95870463],\n",
       "       [ 0.23857007, 40.74507813],\n",
       "       [ 0.37862756, 40.45509234],\n",
       "       [ 0.23721326, 41.06209193],\n",
       "       [ 0.39477645, 43.03254067],\n",
       "       [ 0.46648338, 40.12287401],\n",
       "       [ 0.18055978, 40.06818272],\n",
       "       [ 0.71326271, 43.84939141],\n",
       "       [ 0.58961339, 42.08067728],\n",
       "       [ 0.35576188, 41.0030303 ],\n",
       "       [ 0.55257083, 42.39045395],\n",
       "       [ 0.21323929, 39.82305966],\n",
       "       [ 0.59788633, 42.43069996],\n",
       "       [ 1.161676  , 42.8560322 ],\n",
       "       [ 0.39520911, 42.71627894],\n",
       "       [ 0.68610799, 44.13129102],\n",
       "       [ 0.24908276, 39.73453158],\n",
       "       [ 0.7407107 , 41.88177697],\n",
       "       [ 0.3736378 , 41.98156212],\n",
       "       [ 0.29241507, 40.34629128],\n",
       "       [ 0.60737992, 42.90315438],\n",
       "       [ 0.11311604, 38.29816039],\n",
       "       [ 0.90309319, 44.50841157],\n",
       "       [ 0.06671122, 37.94759628],\n",
       "       [ 0.69719192, 42.43724068],\n",
       "       [ 0.35921166, 40.11248569],\n",
       "       [ 0.76371646, 41.84888255],\n",
       "       [ 1.33329868, 45.49877634],\n",
       "       [ 0.34327119, 40.1798674 ],\n",
       "       [ 0.59807428, 42.24272081],\n",
       "       [ 0.61240954, 42.21952889],\n",
       "       [ 0.59460215, 42.66086204],\n",
       "       [ 0.32373507, 39.34491398],\n",
       "       [ 1.273019  , 44.95211901],\n",
       "       [ 0.49164438, 42.70375807],\n",
       "       [ 0.93601796, 44.0164853 ],\n",
       "       [ 0.72115115, 42.92655327],\n",
       "       [ 0.37958762, 41.62822109],\n",
       "       [ 0.87681501, 44.14222961],\n",
       "       [ 0.45308528, 39.3896007 ],\n",
       "       [ 1.01251007, 46.06524049],\n",
       "       [ 0.60265287, 43.11927652],\n",
       "       [ 1.01407888, 43.5057777 ],\n",
       "       [ 0.71332909, 42.82028705],\n",
       "       [ 0.75144162, 43.81428133],\n",
       "       [ 0.5345595 , 42.3190849 ],\n",
       "       [ 1.29290741, 42.78347603],\n",
       "       [ 0.66205622, 44.97918561],\n",
       "       [ 0.47377387, 42.00799783],\n",
       "       [ 0.62567582, 43.8227819 ],\n",
       "       [ 0.11111648, 37.93221195],\n",
       "       [ 0.38264963, 42.98883368],\n",
       "       [ 0.67854886, 43.33844526],\n",
       "       [ 0.37413571, 42.06665003],\n",
       "       [ 0.6366574 , 41.89172577],\n",
       "       [ 0.47752467, 43.27447397],\n",
       "       [ 0.25234466, 41.13436845],\n",
       "       [ 0.38021337, 42.75360314],\n",
       "       [ 0.59257808, 42.10274563],\n",
       "       [ 0.61134231, 42.32512228],\n",
       "       [ 0.59644298, 44.91805758],\n",
       "       [ 0.67137526, 42.01640397],\n",
       "       [ 0.67025558, 42.89969733],\n",
       "       [ 0.47955212, 43.2158176 ],\n",
       "       [ 1.05316634, 44.34591098],\n",
       "       [ 0.43146455, 42.41485461],\n",
       "       [ 0.48296219, 41.78563988],\n",
       "       [ 1.04045419, 44.58096381],\n",
       "       [ 0.86429869, 42.44133592],\n",
       "       [ 0.72618706, 44.8450284 ],\n",
       "       [ 0.21953474, 40.05617015],\n",
       "       [ 1.12503036, 43.756388  ],\n",
       "       [ 0.73824127, 43.93290208],\n",
       "       [ 2.20237653, 45.77028419],\n",
       "       [ 0.26448004, 39.40586834],\n",
       "       [ 0.98184063, 42.73807376],\n",
       "       [ 0.27548122, 41.35950332],\n",
       "       [ 0.6343183 , 42.73029702],\n",
       "       [ 0.24189133, 40.28033616],\n",
       "       [ 0.93919272, 44.99400306],\n",
       "       [ 0.86612397, 42.62198972],\n",
       "       [ 0.591815  , 42.00149851],\n",
       "       [ 0.46112726, 41.67936893],\n",
       "       [ 0.18647481, 39.84963771],\n",
       "       [ 0.71882843, 43.17708426],\n",
       "       [ 0.49662401, 41.96451938],\n",
       "       [ 0.74756573, 43.26349677],\n",
       "       [ 0.9779255 , 43.94336435],\n",
       "       [ 1.44869675, 44.3934856 ],\n",
       "       [ 0.9550943 , 43.18812527],\n",
       "       [ 0.09230616, 38.34045222],\n",
       "       [ 0.42583306, 40.99981455],\n",
       "       [ 0.75724616, 42.23831894],\n",
       "       [ 0.28302752, 40.506676  ],\n",
       "       [ 0.55073408, 42.35812446],\n",
       "       [ 0.16834324, 41.52778368],\n",
       "       [ 0.30578696, 40.33900675],\n",
       "       [ 0.10961509, 39.32370222],\n",
       "       [ 0.84460056, 44.37901807],\n",
       "       [ 0.3243829 , 40.03937311],\n",
       "       [ 0.4149988 , 42.49081834],\n",
       "       [ 1.15689471, 43.33245905],\n",
       "       [ 0.72679143, 40.68136967],\n",
       "       [ 0.13537304, 39.53245383],\n",
       "       [ 0.27731045, 39.13525321],\n",
       "       [ 0.63997317, 43.33884397],\n",
       "       [ 0.59903019, 42.07776931],\n",
       "       [ 0.3350512 , 42.75264195],\n",
       "       [ 1.18183675, 45.6216724 ],\n",
       "       [ 0.63280588, 42.4426165 ],\n",
       "       [ 0.56294589, 41.91159321],\n",
       "       [ 0.61046495, 41.62082002],\n",
       "       [ 0.75740842, 42.93179031],\n",
       "       [ 0.39031588, 41.34791073],\n",
       "       [ 0.45437446, 41.66016518],\n",
       "       [ 0.31349552, 41.19434337],\n",
       "       [ 0.2948257 , 41.42623746],\n",
       "       [ 1.22831803, 45.01454926],\n",
       "       [ 0.76921182, 42.66015961],\n",
       "       [ 0.52578563, 41.02297635],\n",
       "       [ 0.32705964, 42.4169512 ],\n",
       "       [ 0.34749058, 40.67283387],\n",
       "       [ 0.17305291, 39.0031751 ],\n",
       "       [ 0.48185037, 41.66483644]])"
      ]
     },
     "execution_count": 10,
     "metadata": {
      "tags": []
     },
     "output_type": "execute_result"
    }
   ],
   "source": [
    "data_sample"
   ]
  },
  {
   "cell_type": "markdown",
   "metadata": {
    "id": "rZOljAAEDKZE"
   },
   "source": [
    "Now, we save this array as a .csv file using the `numpy.savetxt()` function "
   ]
  },
  {
   "cell_type": "code",
   "execution_count": null,
   "metadata": {
    "id": "7-Sx7Ia7EcY1"
   },
   "outputs": [],
   "source": [
    "path='' #Define an empty string to use in case of local working"
   ]
  },
  {
   "cell_type": "code",
   "execution_count": null,
   "metadata": {
    "colab": {
     "base_uri": "https://localhost:8080/"
    },
    "executionInfo": {
     "elapsed": 21454,
     "status": "ok",
     "timestamp": 1609087212574,
     "user": {
      "displayName": "Eduard Alexis Larranaga",
      "photoUrl": "https://lh3.googleusercontent.com/a-/AOh14GgCVABzEgj-rCdyxWa29RnA0kIYUCXAaVbnRYOEhQ=s64",
      "userId": "04402438389940282602"
     },
     "user_tz": 300
    },
    "id": "QNTG_jjdEfv5",
    "outputId": "5e15dceb-4309-49ba-98c8-76466b381ae1"
   },
   "outputs": [
    {
     "name": "stdout",
     "output_type": "stream",
     "text": [
      "Mounted at /content/drive\n"
     ]
    }
   ],
   "source": [
    "# Working with google colab needs to mount the Google Drive\n",
    "from google.colab import drive\n",
    "drive.mount('/content/drive')"
   ]
  },
  {
   "cell_type": "code",
   "execution_count": null,
   "metadata": {
    "id": "o6FPxvPlEm8c"
   },
   "outputs": [],
   "source": [
    "# we define the path to the files\n",
    "path = '/content/drive/MyDrive/Colab Notebooks/CA2021/02. Astrophysics Data/presentation/03.SyntheticData/'"
   ]
  },
  {
   "cell_type": "code",
   "execution_count": null,
   "metadata": {
    "id": "LoJRgikKDKZE"
   },
   "outputs": [],
   "source": [
    "np.savetxt(path+'data_sample.csv', data_sample, delimiter=',', header=\"z_sample,mu_sample\", comments='')"
   ]
  }
 ],
 "metadata": {
  "colab": {
   "collapsed_sections": [],
   "name": "SyntheticData.ipynb",
   "provenance": []
  },
  "kernelspec": {
   "display_name": "Python 3 (ipykernel)",
   "language": "python",
   "name": "python3"
  },
  "language_info": {
   "codemirror_mode": {
    "name": "ipython",
    "version": 3
   },
   "file_extension": ".py",
   "mimetype": "text/x-python",
   "name": "python",
   "nbconvert_exporter": "python",
   "pygments_lexer": "ipython3",
   "version": "3.9.5"
  }
 },
 "nbformat": 4,
 "nbformat_minor": 1
}
