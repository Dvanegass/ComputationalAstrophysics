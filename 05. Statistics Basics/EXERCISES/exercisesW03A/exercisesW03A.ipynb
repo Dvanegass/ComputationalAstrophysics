{
 "cells": [
  {
   "cell_type": "markdown",
   "metadata": {},
   "source": [
    "<center>\n",
    "<img src=\"https://i.ibb.co/b3T5hkz/logo.png\" alt=\"logo\" border=\"0\" width=600>"
   ]
  },
  {
   "cell_type": "markdown",
   "metadata": {
    "id": "0NQKBUbAejFV"
   },
   "source": [
    "---\n",
    "\n",
    "Eduard Larrañaga (ealarranaga@unal.edu.co)\n",
    "\n",
    "---"
   ]
  },
  {
   "cell_type": "markdown",
   "metadata": {
    "id": "QsBlwilWejFZ"
   },
   "source": [
    "# W03A. Datos y Fundamentos de Estadistica\n",
    "\n",
    "---"
   ]
  },
  {
   "cell_type": "markdown",
   "metadata": {},
   "source": [
    "## A. Descargando los Datos \n",
    "\n",
    "Este ejercicio esta basado en los desarrollos del paper\n",
    "\n",
    "J. R. Trump et. al. *Accretion Rate and the Physical Nature of Unobscured Active Galaxies*. [ApJ 733 60 (2011)](https://ui.adsabs.harvard.edu/abs/2011ApJ...733...60T/abstract)\n",
    "\n",
    "- Ingrese a la página \n",
    "\n",
    "[https://vizier.cds.unistra.fr/viz-bin/VizieR?-source=J/ApJ/733/60](https://vizier.cds.unistra.fr/viz-bin/VizieR?-source=J/ApJ/733/60)\n",
    "\n",
    "y descargue el archivo de datos, preferiblemente en el formato de `table2.dat` junto con el archivo `ReadMe` correspondiente.\n",
    "\n",
    "- Lea el archivo e identifique las cantidades físicas reportadas en la tabla de datos mediante la funciín [astropy.io.ascii.read()](https://docs.astropy.org/en/stable/api/astropy.io.ascii.read.html). Cuantos objetos están catalogados en este archivo?\n",
    "\n",
    "- Realice una gráfica del logaritmo de la luminosidad de acreción, $\\log L$, contra el logaritmo de la masa del agujero negro en masas solares, $\\log M$, e incluyendo las líneas de error respectivas. Utilice los siguientes marcadores para la figura, dependiendo del tipo de objeto presentado en la columna 'Type': Para AGNs de líneas anchas (Broad-line) utilice cruces negras, para AGNs de líneas delgadas (Narrow-line) utilice diamantes azules y para AGNs sin lineas (lineless) utilice cuadrados rojos.  \n",
    "\n",
    "\n",
    "\n"
   ]
  },
  {
   "cell_type": "markdown",
   "metadata": {},
   "source": [
    "## B. Cantidades Estadisticas\n",
    "\n",
    "1. Extraiga la información correspondiente únicamente a los AGNs de líneas anchas (Broad-line) y obtenga cuántos de estos objetos se tienen en la muestra.\n",
    "\n",
    "2. Obtendremos ahora una función de densidad de probabilidad con esta muestra de AGNs. Para ello, realice un histograma para los AGNs de líneas anchas ubicando en el eje vertical la densidad de objetos (i,e, el conteo normalizado) y en el eje horizontal el logaritmo de la masa del objeto central y utilice 20 bins.\n",
    "\n",
    "3. Calcule los momentos de la distribución obtenida:\n",
    "   - Promedio\n",
    "   - Desviación Standard y Varianza\n",
    "   - Asímetria Estadística (Skewness)\n",
    "   - Kurtosis "
   ]
  },
  {
   "cell_type": "markdown",
   "metadata": {},
   "source": []
  }
 ],
 "metadata": {
  "@webio": {
   "lastCommId": null,
   "lastKernelId": null
  },
  "colab": {
   "collapsed_sections": [],
   "name": "Exercises03.ipynb",
   "provenance": []
  },
  "kernelspec": {
   "display_name": "Python 3 (ipykernel)",
   "language": "python",
   "name": "python3"
  },
  "language_info": {
   "codemirror_mode": {
    "name": "ipython",
    "version": 3
   },
   "file_extension": ".py",
   "mimetype": "text/x-python",
   "name": "python",
   "nbconvert_exporter": "python",
   "pygments_lexer": "ipython3",
   "version": "3.10.9"
  },
  "vscode": {
   "interpreter": {
    "hash": "7cedb68cf63e90bc16f84e333713309767fdee79fa6bfd701075226f4fc8e495"
   }
  }
 },
 "nbformat": 4,
 "nbformat_minor": 1
}
