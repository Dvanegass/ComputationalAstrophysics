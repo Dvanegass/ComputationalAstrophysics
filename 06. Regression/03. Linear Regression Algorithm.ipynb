{
 "cells": [
  {
   "cell_type": "markdown",
   "metadata": {
    "id": "9mBFEmr745Op"
   },
   "source": [
    "![Astrofisica Computacional](../logo.png)"
   ]
  },
  {
   "cell_type": "markdown",
   "metadata": {},
   "source": [
    "---\n",
    "## 03. Linear Regression Algorithm.\n",
    "\n",
    "\n",
    "Eduard Larrañaga (ealarranaga@unal.edu.co)\n",
    "\n",
    "---"
   ]
  },
  {
   "cell_type": "markdown",
   "metadata": {
    "id": "M5dP3sa345Or"
   },
   "source": [
    "\n",
    "### About this notebook\n",
    "\n",
    "In this worksheet, we implement an algorithm to fit a linear function using an optimization procedure.\n",
    "\n",
    "---"
   ]
  },
  {
   "cell_type": "code",
   "execution_count": 1,
   "metadata": {
    "id": "cBGk0qdl45Os"
   },
   "outputs": [],
   "source": [
    "import numpy as np\n",
    "from matplotlib import pyplot as plt\n",
    "import pandas as pd\n",
    "%matplotlib inline"
   ]
  },
  {
   "cell_type": "markdown",
   "metadata": {
    "id": "gXadA4FK45Ot"
   },
   "source": [
    "### Edwin Hubble's data\n",
    "\n",
    "Around the 1920-30's, Edwin Hubble show that the \"nebulae\" were external galaxies and not part of our own Galaxy, the Milky Way. In a seminal paper, \n",
    "\n",
    "https://ui.adsabs.harvard.edu/abs/1931ApJ....74...43H\n",
    "\n",
    "E. Hubble and M. Humason determined that some of these galaxies moved away from Earth with a velocity $v$ that is proportional to their distance $d$, i.e.\n",
    "\n",
    "$v=H_0 d.$\n",
    "\n",
    "This relation is now known as *Hubble's law* and quantity $H_0$ is called the *Hubble constant*. It is usual to give the value of $H_0$ in units of $\\textrm{km}\\, \\textrm{s}^{-1} \\, \\textrm{Mpc}^{-1}$. \n",
    "The original data of Hubble and Humason is summarized in the data file `hubble.csv`.\n",
    "\n"
   ]
  },
  {
   "cell_type": "code",
   "execution_count": 2,
   "metadata": {
    "colab": {
     "base_uri": "https://localhost:8080/",
     "height": 359
    },
    "executionInfo": {
     "elapsed": 735,
     "status": "ok",
     "timestamp": 1611332892015,
     "user": {
      "displayName": "Eduard Alexis Larranaga",
      "photoUrl": "https://lh3.googleusercontent.com/a-/AOh14GgCVABzEgj-rCdyxWa29RnA0kIYUCXAaVbnRYOEhQ=s64",
      "userId": "04402438389940282602"
     },
     "user_tz": 300
    },
    "id": "X7wLEZjO45Ot",
    "outputId": "c0285da0-d53c-443f-c9d8-c99a186186c7"
   },
   "outputs": [
    {
     "data": {
      "text/html": [
       "<div>\n",
       "<style scoped>\n",
       "    .dataframe tbody tr th:only-of-type {\n",
       "        vertical-align: middle;\n",
       "    }\n",
       "\n",
       "    .dataframe tbody tr th {\n",
       "        vertical-align: top;\n",
       "    }\n",
       "\n",
       "    .dataframe thead th {\n",
       "        text-align: right;\n",
       "    }\n",
       "</style>\n",
       "<table border=\"1\" class=\"dataframe\">\n",
       "  <thead>\n",
       "    <tr style=\"text-align: right;\">\n",
       "      <th></th>\n",
       "      <th>Name</th>\n",
       "      <th>N_measurements</th>\n",
       "      <th>velocity</th>\n",
       "      <th>mean_m</th>\n",
       "    </tr>\n",
       "  </thead>\n",
       "  <tbody>\n",
       "    <tr>\n",
       "      <th>0</th>\n",
       "      <td>Virgo</td>\n",
       "      <td>7</td>\n",
       "      <td>890</td>\n",
       "      <td>12.5</td>\n",
       "    </tr>\n",
       "    <tr>\n",
       "      <th>1</th>\n",
       "      <td>Pegasus</td>\n",
       "      <td>5</td>\n",
       "      <td>3810</td>\n",
       "      <td>15.5</td>\n",
       "    </tr>\n",
       "    <tr>\n",
       "      <th>2</th>\n",
       "      <td>Pisces</td>\n",
       "      <td>4</td>\n",
       "      <td>4630</td>\n",
       "      <td>15.4</td>\n",
       "    </tr>\n",
       "    <tr>\n",
       "      <th>3</th>\n",
       "      <td>Cancer</td>\n",
       "      <td>2</td>\n",
       "      <td>4820</td>\n",
       "      <td>16.0</td>\n",
       "    </tr>\n",
       "    <tr>\n",
       "      <th>4</th>\n",
       "      <td>Perseus</td>\n",
       "      <td>4</td>\n",
       "      <td>5230</td>\n",
       "      <td>16.4</td>\n",
       "    </tr>\n",
       "    <tr>\n",
       "      <th>5</th>\n",
       "      <td>Coma</td>\n",
       "      <td>3</td>\n",
       "      <td>7500</td>\n",
       "      <td>17.0</td>\n",
       "    </tr>\n",
       "    <tr>\n",
       "      <th>6</th>\n",
       "      <td>Ursa_Major</td>\n",
       "      <td>1</td>\n",
       "      <td>11800</td>\n",
       "      <td>18.0</td>\n",
       "    </tr>\n",
       "    <tr>\n",
       "      <th>7</th>\n",
       "      <td>Leo</td>\n",
       "      <td>1</td>\n",
       "      <td>19600</td>\n",
       "      <td>19.0</td>\n",
       "    </tr>\n",
       "    <tr>\n",
       "      <th>8</th>\n",
       "      <td>[No_Name]</td>\n",
       "      <td>16</td>\n",
       "      <td>2350</td>\n",
       "      <td>13.8</td>\n",
       "    </tr>\n",
       "    <tr>\n",
       "      <th>9</th>\n",
       "      <td>[No_Name]</td>\n",
       "      <td>16</td>\n",
       "      <td>630</td>\n",
       "      <td>11.6</td>\n",
       "    </tr>\n",
       "  </tbody>\n",
       "</table>\n",
       "</div>"
      ],
      "text/plain": [
       "         Name  N_measurements  velocity  mean_m\n",
       "0       Virgo               7       890    12.5\n",
       "1     Pegasus               5      3810    15.5\n",
       "2      Pisces               4      4630    15.4\n",
       "3      Cancer               2      4820    16.0\n",
       "4     Perseus               4      5230    16.4\n",
       "5        Coma               3      7500    17.0\n",
       "6  Ursa_Major               1     11800    18.0\n",
       "7         Leo               1     19600    19.0\n",
       "8   [No_Name]              16      2350    13.8\n",
       "9   [No_Name]              16       630    11.6"
      ]
     },
     "execution_count": 2,
     "metadata": {},
     "output_type": "execute_result"
    }
   ],
   "source": [
    "df = pd.read_csv(\"data/hubble.csv\")\n",
    "\n",
    "df"
   ]
  },
  {
   "cell_type": "markdown",
   "metadata": {
    "id": "Btl6hmt445Ov"
   },
   "source": [
    "The data in the data frame includes 10 samples (Nebulae) with 4 features:\n",
    "\n",
    "**Name** : Name of the nebula \\\n",
    "**N_measurement** : Number of velocities measured by Hubble and Humason \\\n",
    "**velocity** : Mean velocity of the nebula measured in km/s \\\n",
    "**mean_m** : Apparent magnitude of the nebula\n",
    "\n",
    "___\n",
    "\n"
   ]
  },
  {
   "cell_type": "code",
   "execution_count": 3,
   "metadata": {
    "colab": {
     "base_uri": "https://localhost:8080/",
     "height": 359
    },
    "executionInfo": {
     "elapsed": 799,
     "status": "ok",
     "timestamp": 1611335836667,
     "user": {
      "displayName": "Eduard Alexis Larranaga",
      "photoUrl": "https://lh3.googleusercontent.com/a-/AOh14GgCVABzEgj-rCdyxWa29RnA0kIYUCXAaVbnRYOEhQ=s64",
      "userId": "04402438389940282602"
     },
     "user_tz": 300
    },
    "id": "vIYqJQ4E45Ox",
    "outputId": "680343f7-2772-46d1-90d0-69bf67a7307b"
   },
   "outputs": [
    {
     "data": {
      "text/html": [
       "<div>\n",
       "<style scoped>\n",
       "    .dataframe tbody tr th:only-of-type {\n",
       "        vertical-align: middle;\n",
       "    }\n",
       "\n",
       "    .dataframe tbody tr th {\n",
       "        vertical-align: top;\n",
       "    }\n",
       "\n",
       "    .dataframe thead th {\n",
       "        text-align: right;\n",
       "    }\n",
       "</style>\n",
       "<table border=\"1\" class=\"dataframe\">\n",
       "  <thead>\n",
       "    <tr style=\"text-align: right;\">\n",
       "      <th></th>\n",
       "      <th>Name</th>\n",
       "      <th>N_measurements</th>\n",
       "      <th>velocity</th>\n",
       "      <th>mean_m</th>\n",
       "      <th>log10_velocity</th>\n",
       "    </tr>\n",
       "  </thead>\n",
       "  <tbody>\n",
       "    <tr>\n",
       "      <th>0</th>\n",
       "      <td>Virgo</td>\n",
       "      <td>7</td>\n",
       "      <td>890</td>\n",
       "      <td>12.5</td>\n",
       "      <td>2.949390</td>\n",
       "    </tr>\n",
       "    <tr>\n",
       "      <th>1</th>\n",
       "      <td>Pegasus</td>\n",
       "      <td>5</td>\n",
       "      <td>3810</td>\n",
       "      <td>15.5</td>\n",
       "      <td>3.580925</td>\n",
       "    </tr>\n",
       "    <tr>\n",
       "      <th>2</th>\n",
       "      <td>Pisces</td>\n",
       "      <td>4</td>\n",
       "      <td>4630</td>\n",
       "      <td>15.4</td>\n",
       "      <td>3.665581</td>\n",
       "    </tr>\n",
       "    <tr>\n",
       "      <th>3</th>\n",
       "      <td>Cancer</td>\n",
       "      <td>2</td>\n",
       "      <td>4820</td>\n",
       "      <td>16.0</td>\n",
       "      <td>3.683047</td>\n",
       "    </tr>\n",
       "    <tr>\n",
       "      <th>4</th>\n",
       "      <td>Perseus</td>\n",
       "      <td>4</td>\n",
       "      <td>5230</td>\n",
       "      <td>16.4</td>\n",
       "      <td>3.718502</td>\n",
       "    </tr>\n",
       "    <tr>\n",
       "      <th>5</th>\n",
       "      <td>Coma</td>\n",
       "      <td>3</td>\n",
       "      <td>7500</td>\n",
       "      <td>17.0</td>\n",
       "      <td>3.875061</td>\n",
       "    </tr>\n",
       "    <tr>\n",
       "      <th>6</th>\n",
       "      <td>Ursa_Major</td>\n",
       "      <td>1</td>\n",
       "      <td>11800</td>\n",
       "      <td>18.0</td>\n",
       "      <td>4.071882</td>\n",
       "    </tr>\n",
       "    <tr>\n",
       "      <th>7</th>\n",
       "      <td>Leo</td>\n",
       "      <td>1</td>\n",
       "      <td>19600</td>\n",
       "      <td>19.0</td>\n",
       "      <td>4.292256</td>\n",
       "    </tr>\n",
       "    <tr>\n",
       "      <th>8</th>\n",
       "      <td>[No_Name]</td>\n",
       "      <td>16</td>\n",
       "      <td>2350</td>\n",
       "      <td>13.8</td>\n",
       "      <td>3.371068</td>\n",
       "    </tr>\n",
       "    <tr>\n",
       "      <th>9</th>\n",
       "      <td>[No_Name]</td>\n",
       "      <td>16</td>\n",
       "      <td>630</td>\n",
       "      <td>11.6</td>\n",
       "      <td>2.799341</td>\n",
       "    </tr>\n",
       "  </tbody>\n",
       "</table>\n",
       "</div>"
      ],
      "text/plain": [
       "         Name  N_measurements  velocity  mean_m  log10_velocity\n",
       "0       Virgo               7       890    12.5        2.949390\n",
       "1     Pegasus               5      3810    15.5        3.580925\n",
       "2      Pisces               4      4630    15.4        3.665581\n",
       "3      Cancer               2      4820    16.0        3.683047\n",
       "4     Perseus               4      5230    16.4        3.718502\n",
       "5        Coma               3      7500    17.0        3.875061\n",
       "6  Ursa_Major               1     11800    18.0        4.071882\n",
       "7         Leo               1     19600    19.0        4.292256\n",
       "8   [No_Name]              16      2350    13.8        3.371068\n",
       "9   [No_Name]              16       630    11.6        2.799341"
      ]
     },
     "execution_count": 3,
     "metadata": {},
     "output_type": "execute_result"
    }
   ],
   "source": [
    "df['log10_velocity'] = np.log10(df['velocity'])\n",
    "df"
   ]
  },
  {
   "cell_type": "code",
   "execution_count": 4,
   "metadata": {
    "colab": {
     "base_uri": "https://localhost:8080/",
     "height": 285
    },
    "executionInfo": {
     "elapsed": 1636,
     "status": "ok",
     "timestamp": 1611335844998,
     "user": {
      "displayName": "Eduard Alexis Larranaga",
      "photoUrl": "https://lh3.googleusercontent.com/a-/AOh14GgCVABzEgj-rCdyxWa29RnA0kIYUCXAaVbnRYOEhQ=s64",
      "userId": "04402438389940282602"
     },
     "user_tz": 300
    },
    "id": "Y6cmZMOG45Ox",
    "outputId": "3a1a9fdd-6145-4d71-be7f-8d802149e185"
   },
   "outputs": [
    {
     "data": {
      "image/png": "[encoded data removed]",
      "text/plain": [
       "<Figure size 432x288 with 1 Axes>"
      ]
     },
     "metadata": {
      "needs_background": "light"
     },
     "output_type": "display_data"
    }
   ],
   "source": [
    "plt.scatter(df['mean_m'], df['log10_velocity'])\n",
    "plt.xlabel(r'apparent magnitude')\n",
    "plt.ylabel(r'logarithm of velocity')\n",
    "plt.show()"
   ]
  },
  {
   "cell_type": "markdown",
   "metadata": {
    "id": "GSGjHxku45Oy"
   },
   "source": [
    "### Linear Fit\n",
    "\n",
    "Since the plot of the logarithm of the velocity vs. apparent magnitude has a linear tendence, we will create a linear fit for this data (including the possibility of having error in the y measurements)."
   ]
  },
  {
   "cell_type": "code",
   "execution_count": 5,
   "metadata": {
    "id": "Tbq_p39S45Oz",
    "outputId": "2b982292-8c05-4a36-8889-c7eac1be4a02"
   },
   "outputs": [],
   "source": [
    "X_train = np.asarray(df['mean_m'])\n",
    "y_train = np.asarray(df['log10_velocity'])"
   ]
  },
  {
   "cell_type": "code",
   "execution_count": 6,
   "metadata": {},
   "outputs": [],
   "source": [
    "class LinearRegression():\n",
    "    '''\n",
    "    Linear regression class\n",
    "    '''\n",
    "    def __init__(self):\n",
    "        # Initial random parameters\n",
    "        np.random.seed(413)\n",
    "        self.b = np.random.rand()\n",
    "        self.W = np.random.rand() \n",
    "\n",
    "    def predict(self, X):\n",
    "        '''\n",
    "        Function to fit\n",
    "        '''\n",
    "        return self.b + self.W*X\n",
    "    \n",
    "    def cost(self, X, y):\n",
    "        '''\n",
    "        Cost function\n",
    "        '''\n",
    "        n = len(y)\n",
    "        delta = self.predict(X) - y\n",
    "        return (1/n)*np.sum(delta**2)\n",
    "    \n",
    "    def grad_cost(self, X, y):\n",
    "        '''\n",
    "        Gradient of the cost function\n",
    "        '''\n",
    "        delta = self.predict(X) - y\n",
    "        grad_dW = 2*np.sum(delta*X)\n",
    "        grad_db = 2*np.sum(delta)\n",
    "        return grad_dW, grad_db\n",
    "    \n",
    "    def fit(self, X, y):\n",
    "        '''\n",
    "        Optimization function\n",
    "        '''\n",
    "        alpha= 0.0001 # Learning rate\n",
    "        tol = 1e-13 # Tolerance\n",
    "\n",
    "        self.history = []\n",
    "        self.history.append(self.cost(X, y))\n",
    "        print('Initial cost = ', self.history[0])\n",
    "        \n",
    "        epoch = 0 # Epochs\n",
    "        epsilon = 1\n",
    "        while epsilon>tol and epoch<200000:\n",
    "            # Gradients\n",
    "            grad_dW, grad_db = self.grad_cost(X,y)\n",
    "            self.W = self.W - alpha*grad_dW\n",
    "            self.b = self.b - alpha*grad_db\n",
    "            \n",
    "            self.history.append(self.cost(X, y))\n",
    "            epsilon = abs(self.history[epoch] - self.history[epoch+1])\n",
    "            epoch +=1\n",
    "        \n",
    "        print('Final cost = ', self.history[-1])\n",
    "        print('Number of epochs = ',epoch)\n",
    "        return self.W, self.b\n",
    "    \n",
    "    def score(self, X, y):\n",
    "        n = len(y)\n",
    "        mean_y = (1/n)*np.sum(y)\n",
    "        numer = np.sum((self.predict(X) - y)**2)\n",
    "        denom = np.sum((y-mean_y)**2)\n",
    "        return 1 - numer/denom\n",
    "    "
   ]
  },
  {
   "cell_type": "code",
   "execution_count": 7,
   "metadata": {},
   "outputs": [
    {
     "name": "stdout",
     "output_type": "stream",
     "text": [
      "Initial cost =  9.368962328304695\n",
      "Final cost =  0.002790286554595579\n",
      "Number of epochs =  149934\n",
      "\n",
      "The optimized parameters are\n",
      "W =  0.1966529960227746\n",
      "b =  0.5486557369720583\n"
     ]
    }
   ],
   "source": [
    "lr = LinearRegression()\n",
    "\n",
    "W, b = lr.fit(X_train, y_train)\n",
    "\n",
    "print('\\nThe optimized parameters are')\n",
    "print('W = ',W)\n",
    "print('b = ',b)"
   ]
  },
  {
   "cell_type": "code",
   "execution_count": 8,
   "metadata": {},
   "outputs": [
    {
     "data": {
      "text/plain": [
       "0.9854665599889191"
      ]
     },
     "execution_count": 8,
     "metadata": {},
     "output_type": "execute_result"
    }
   ],
   "source": [
    "lr.score(X_train,y_train)"
   ]
  },
  {
   "cell_type": "code",
   "execution_count": 9,
   "metadata": {
    "id": "822Y9E4Q45Oz",
    "outputId": "c9efc032-838e-4dce-cf8e-c210a2babf5c"
   },
   "outputs": [
    {
     "data": {
      "image/png": "[encoded data removed]",
      "text/plain": [
       "<Figure size 432x288 with 1 Axes>"
      ]
     },
     "metadata": {
      "needs_background": "light"
     },
     "output_type": "display_data"
    }
   ],
   "source": [
    "# Plot\n",
    "x_range= np.linspace(10,20,40)\n",
    "\n",
    "plt.figure()\n",
    "plt.scatter(X_train, y_train,label='observational data')\n",
    "plt.plot(x_range, lr.predict(x_range), '--k', label='linear fit')\n",
    "\n",
    "plt.xlabel(r'apparent magnitude')\n",
    "plt.ylabel(r'logarithm of velocity')\n",
    "plt.legend()\n",
    "plt.show()"
   ]
  },
  {
   "cell_type": "markdown",
   "metadata": {
    "id": "-otW-Trr45O0"
   },
   "source": [
    "The obtained linear model gives the relation between velocity and apparent magnitude as\n",
    "\n",
    "$\\log_{10} v = a_1 + a_2 m = 0.548 + 0.197 m$.\n",
    "\n",
    "At this point we will assume, as Hubble and Humason did, that the coefficient of $m$ in this equation will be $0.2$, and therefore the equation becomes\n",
    "\n",
    "$\\log_{10} v = a_1 + a_2 m = 0.548 + 0.2 m$.\n",
    "\n",
    "From the expression for the distance, we have \n",
    "\n",
    "$\\log_{10} d = \\frac{m-M+5}{5} \\,  \\rightarrow \\, \\log_{10} d = 0.2m - 0.2M + 1$\n",
    "\n",
    "and therefore we can write\n",
    "\n",
    "$\\log_{10} \\left( \\frac{v}{d} \\right) = \\log_{10}v - \\log_{10} d = a_1  - 1+ 0.2M $.\n",
    "\n",
    "Using  the obtained value for $a_1$ and $M=-13.8$ we get\n",
    "\n",
    "$\\log_{10} \\left( \\frac{v}{d} \\right) = -3.212$,\n",
    "\n",
    "which gives the Hubble constant\n",
    "\n",
    "$H_0 = \\frac{v}{d} = 10^{-3.212} = 614 \\times 10^{-6} \\textrm{ km } \\textrm{s}^{-1} \\textrm{ pc}^{-1} = 614 \\textrm{ km } \\textrm{s}^{-1} \\textrm{ Mpc}^{-1}$ \n",
    "\n",
    "---"
   ]
  },
  {
   "cell_type": "code",
   "execution_count": 10,
   "metadata": {},
   "outputs": [
    {
     "data": {
      "image/png": "[encoded data removed]",
      "text/plain": [
       "<Figure size 720x504 with 1 Axes>"
      ]
     },
     "metadata": {
      "needs_background": "light"
     },
     "output_type": "display_data"
    }
   ],
   "source": [
    "# Plot Training history\n",
    "\n",
    "plt.figure(figsize=(10,7))\n",
    "plt.plot(lr.history[0:100], color='crimson')\n",
    "plt.ylabel(r'cost function')\n",
    "plt.xlabel(r'epoch')\n",
    "plt.show()"
   ]
  },
  {
   "cell_type": "code",
   "execution_count": null,
   "metadata": {},
   "outputs": [],
   "source": []
  }
 ],
 "metadata": {
  "@webio": {
   "lastCommId": null,
   "lastKernelId": null
  },
  "colab": {
   "collapsed_sections": [],
   "name": "LinearFit01.ipynb",
   "provenance": [],
   "toc_visible": true
  },
  "kernelspec": {
   "display_name": "Python 3 (ipykernel)",
   "language": "python",
   "name": "python3"
  },
  "language_info": {
   "codemirror_mode": {
    "name": "ipython",
    "version": 3
   },
   "file_extension": ".py",
   "mimetype": "text/x-python",
   "name": "python",
   "nbconvert_exporter": "python",
   "pygments_lexer": "ipython3",
   "version": "3.9.5"
  }
 },
 "nbformat": 4,
 "nbformat_minor": 1
}
