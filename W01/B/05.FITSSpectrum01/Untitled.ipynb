{
 "cells": [
  {
   "cell_type": "code",
   "execution_count": 1,
   "id": "c5f468eb",
   "metadata": {},
   "outputs": [
    {
     "data": {
      "text/plain": [
       "[<astropy.io.fits.hdu.image.PrimaryHDU object at 0x122107ac0>, <astropy.io.fits.hdu.table.BinTableHDU object at 0x122149930>, <astropy.io.fits.hdu.table.BinTableHDU object at 0x122149990>, <astropy.io.fits.hdu.table.BinTableHDU object at 0x122149c90>]"
      ]
     },
     "execution_count": 1,
     "metadata": {},
     "output_type": "execute_result"
    }
   ],
   "source": [
    "import numpy as np\n",
    "import matplotlib.pyplot as plt\n",
    "from astropy.io import fits\n",
    "from astropy.table import Table\n",
    "\n",
    "hdul = fits.open('spec-0271-51883-0005.fits')\n",
    "hdul"
   ]
  },
  {
   "cell_type": "code",
   "execution_count": 2,
   "id": "f9b61dba",
   "metadata": {},
   "outputs": [
    {
     "name": "stdout",
     "output_type": "stream",
     "text": [
      "Filename: spec-0271-51883-0005.fits\n",
      "No.    Name      Ver    Type      Cards   Dimensions   Format\n",
      "  0  PRIMARY       1 PrimaryHDU     140   ()      \n",
      "  1  COADD         1 BinTableHDU     26   3827R x 8C   [E, E, E, J, J, E, E, E]   \n",
      "  2  SPECOBJ       1 BinTableHDU    262   1R x 126C   [6A, 4A, 16A, 23A, 16A, 8A, E, E, E, J, E, E, J, B, B, B, B, B, B, J, 22A, 19A, 19A, 22A, 19A, I, 3A, 3A, 1A, J, D, D, D, E, E, 19A, 8A, J, J, J, J, K, K, J, J, J, J, J, J, K, K, K, K, I, J, J, J, J, 5J, D, D, 6A, 21A, E, E, E, J, E, 24A, 10J, J, 10E, E, E, E, E, E, E, J, E, E, E, J, E, 5E, E, 10E, 10E, 10E, 5E, 5E, 5E, 5E, 5E, J, J, E, E, E, E, E, E, 25A, 21A, 10A, E, E, E, E, E, E, E, E, J, E, E, J, 1A, 1A, E, E, J, J, 1A, 5E, 5E]   \n",
      "  3  SPZLINE       1 BinTableHDU     48   29R x 19C   [J, J, J, 13A, D, E, E, E, E, E, E, E, E, E, E, J, J, E, E]   \n"
     ]
    }
   ],
   "source": [
    "hdul.info()"
   ]
  },
  {
   "cell_type": "code",
   "execution_count": 3,
   "id": "6aedb81e",
   "metadata": {
    "scrolled": false
   },
   "outputs": [
    {
     "data": {
      "text/plain": [
       "SIMPLE  =                    T / conforms to FITS standard                      \n",
       "BITPIX  =                    8 / array data type                                \n",
       "NAXIS   =                    0 / number of array dimensions                     \n",
       "EXTEND  =                    T                                                  \n",
       "TAI     =        4482562363.15 / 1st row - Number of seconds since Nov 17 1858  \n",
       "RA      =            154.26373 / 1st row - Right ascension of telescope boresigh\n",
       "DEC     =            0.023615  / 1st row - Declination of telescope boresight (d\n",
       "EQUINOX =              2000.00 /                                                \n",
       "RADECSYS= 'FK5     '           /                                                \n",
       "TAIHMS  = '11:50:32.96'        / 1st row - TAI time (HH:MM:SS.SS) (TAI-UT = appr\n",
       "TIMESYS = 'tai     '           / TAI, not UTC                                   \n",
       "MJD     =                51883 / MJD of observation                             \n",
       "MJDLIST = '51879 51883'        /                                                \n",
       "VERSION = 'v3_19_1 '           / version of IOP                                 \n",
       "CAMVER  = 'SPEC2 v4_5'         / Camera code version                            \n",
       "OBSERVER= 'prn     '                                                            \n",
       "OBSCOMM = 'science '                                                            \n",
       "TELESCOP= 'SDSS 2.5-M'         / Sloan Digital Sky Survey                       \n",
       "BESTEXP =                 7430 /                                                \n",
       "NEXP_B1 =                    4 / b1 camera number of exposures                  \n",
       "NEXP_R1 =                    4 / r1 camera number of exposures                  \n",
       "EXPT_B1 =              3600.00 / b1 camera exposure time (seconds)              \n",
       "EXPT_R1 =              3600.00 / r1 camera exposure time (seconds)              \n",
       "EXPTIME =              3600.00 / Minimum of exposure times for all cameras      \n",
       "SPCOADD = 'Thu Feb 28 15:08:51 2008' / SPCOADD finished                         \n",
       "FLAVOR  = 'science '           / Flavor of this sequence (e.g., dome flat, etc.)\n",
       "QUALITY = 'excellent'          / night/image quality                            \n",
       "RADEG   = 1.54264328000000E+02 / Right Ascension. (degrees)                     \n",
       "DECDEG  = 2.45240000000000E-02 / Declination. (degrees)                         \n",
       "PLATEID =                  271 / Plate Id                                       \n",
       "TILEID  =                  117 / Tile Id                                        \n",
       "CARTID  =                    3 /Cartridge used in this plugging                 \n",
       "MAPID   =              5187801 / Map Id                                         \n",
       "NAME    = '0271-51878-01'      / Name of target; PlateId-MJD-Mapper ReRun       \n",
       "COLBIN  =                    1 / Binning factor perpendicular to the columns    \n",
       "ROWBIN  =                    1 / Binning factor perpendicular to the rows       \n",
       "PROGRAM = 'binning 1   1 '     / Identifying name for CCD program               \n",
       "SECFOCUS= -2.0000000000000E+02 / Secondary Mirror Position as reported by TCC   \n",
       "GUIDEIMG= '/data/spectro/guider/gimg0072.fits' / Last archived guider image     \n",
       "WTIME   =        975844868.000 / weatherData(timeStamp)                         \n",
       "AIRTEMP =        3.25000000000 / weatherData(airtemp)                           \n",
       "DEWPOINT=       -14.0250000000 / weatherData(dewpoint)                          \n",
       "DEWDEP  =        17.3000000000 / weatherData(dewpointDep)                       \n",
       "DUSTA   =        9934.25000000 / weatherData(dusta)                             \n",
       "DUSTB   =        270.250000000 / weatherData(dustb)                             \n",
       "DUSTC   =        11822.5000000 / weatherData(dustc)                             \n",
       "DUSTD   =        234.500000000 / weatherData(dustd)                             \n",
       "GUSTD   = 3.05500000000000E+02 / weatherData(gustd)                             \n",
       "GUSTS   =        13.6000000000 / weatherData(gusts)                             \n",
       "HUMIDITY=        27.6500000000 / weatherData(humidity)                          \n",
       "HUMIDOUT=        27.0000000000 / weatherData(humidout)                          \n",
       "PRESSURE=        21.5600000000 / weatherData(pressure)                          \n",
       "WINDD   =        267.825000000 / weatherData(windd)                             \n",
       "WINDS   =        11.6750000000 / weatherData(winds)                             \n",
       "TEMP01  =       -94.0425000000 / CCD 01 Temperature                             \n",
       "TEMP02  =       -93.0675000000 / CCD 02 Temperature                             \n",
       "TEMP03  =       -92.2875000000 / CCD 03 Temperature                             \n",
       "TEMP04  =       -93.2625000000 / CCD 04 Temperature                             \n",
       "VERSIDL = '6.3     '           / Version of IDL                                 \n",
       "VERSUTIL= 'v5_3_0  '           / Version of idlutils                            \n",
       "VERSREAD= 'v5_3_12 '           / Version of idlspec2d for pre-processing raw dat\n",
       "VERS2D  = 'v5_3_12 '           / Version of idlspec2d for 2D reduction          \n",
       "VERSCOMB= 'v5_3_12 '           / Version of idlspec2d for combining multiple spe\n",
       "VERSLOG = 'fermi-CVS 02/28/08' / Version of SPECLOG product                     \n",
       "VERSFLAT= 'v1_7    '           / Version of SPECFLAT product                    \n",
       "OPBC    = 'opBC-51813.par'     /                                                \n",
       "OPCONFIG= 'opConfig-50000.par' /                                                \n",
       "OPECALIB= 'opECalib-51577.par' /                                                \n",
       "PLUGFILE= 'plPlugMapM-0271-51878-01.par' /                                      \n",
       "HELIO_RV=       -29.6327944885 / Heliocentric correction (added to velocities)  \n",
       "VACUUM  =                    T / Wavelengths are in vacuum                      \n",
       "SFLATTEN=                    T / Superflat has been applied                     \n",
       "PSFSKY  =                    3 / Order of PSF skysubtraction                    \n",
       "SKYCHI2 =        1.09974512227 / Mean chi^2 of sky-subtraction                  \n",
       "SCHI2MIN=       0.998933510277 /                                                \n",
       "SCHI2MAX=        1.21925706188 /                                                \n",
       "PREJECT =             0.200000 / Profile area rejection threshold               \n",
       "SPEC1_G =              20.1005 /(S/N)^2 for spec  1 at mag 20.20                \n",
       "SPEC1_R =              19.9642 /(S/N)^2 for spec  1 at mag 20.25                \n",
       "SPEC1_I =              18.3134 /(S/N)^2 for spec  1 at mag 19.90                \n",
       "SPEC2_G =              21.8072 /(S/N)^2 for spec  2 at mag 20.20                \n",
       "SPEC2_R =              20.5593 /(S/N)^2 for spec  2 at mag 20.25                \n",
       "SPEC2_I =              17.2228 /(S/N)^2 for spec  2 at mag 19.90                \n",
       "NSTD    =                   16 / Number of (good) std stars                     \n",
       "GOFFSTD =           -0.0446329 / Spectrophoto offset for std stars in G-band    \n",
       "GRMSSTD =            0.0490265 / Spectrophoto RMS for std stars in G-band       \n",
       "ROFFSTD =           -0.0247698 / Spectrophoto offset for std stars in R-band    \n",
       "RRMSSTD =            0.0254922 / Spectrophoto RMS for std stars in R-band       \n",
       "IOFFSTD =           -0.0223627 / Spectrophoto offset for std stars in I-band    \n",
       "IRMSSTD =            0.0466955 / Spectrophoto RMS for std stars in I-band       \n",
       "GROFFSTD=           -0.0258007 / Spectrophoto offset for std stars in (GR)      \n",
       "GRRMSSTD=            0.0404192 / Spectrophoto RMS for std stars in (GR)         \n",
       "RIOFFSTD=          -0.00487041 / Spectrophoto offset for std stars in (RI)      \n",
       "RIRMSSTD=            0.0323463 / Spectrophoto RMS for std stars in (RI)         \n",
       "NGAL    =                  432 / Number of (good) main galaxies                 \n",
       "GOFFGAL =           0.00241470 / Spectrophoto offset for main galaxies in G-band\n",
       "GRMSGAL =            0.0456766 / Spectrophoto RMS for main galaxies in G-band   \n",
       "ROFFGAL =          -0.00240326 / Spectrophoto offset for main galaxies in R-band\n",
       "RRMSGAL =            0.0358987 / Spectrophoto RMS for main galaxies in R-band   \n",
       "IOFFGAL =           0.00326633 / Spectrophoto offset for main galaxies in I-band\n",
       "IRMSGAL =            0.0425137 / Spectrophoto RMS for main galaxies in I-band   \n",
       "GROFFGAL=           0.00378990 / Spectrophoto offset for main galaxies in (GR)  \n",
       "GRRMSGAL=            0.0353218 / Spectrophoto RMS for main galaxies in (GR)     \n",
       "RIOFFGAL=          -0.00242996 / Spectrophoto offset for main galaxies in (RI)  \n",
       "RIRMSGAL=            0.0218006 / Spectrophoto RMS for main galaxies in (RI)     \n",
       "LOWREJ  =                    5 / Extraction: low rejection                      \n",
       "HIGHREJ =                    8 / Extraction: high rejection                     \n",
       "SCATPOLY=                    0 / Extraction: Order of scattered light polynomial\n",
       "PROFTYPE=                    3 / Extraction profile: 1=Gaussian                 \n",
       "NFITPOLY=                    1 / Extraction: Number of parameters in each profil\n",
       "XCHI2   =              1.24958 / Extraction: Mean chi^2                         \n",
       "XCHI2MIN=              1.09478 /                                                \n",
       "XCHI2MAX=              1.34914 /                                                \n",
       "SHIFTGUE=   -0.000812781513105 /                                                \n",
       "SHIFT   =      -0.718515214261 /Angstroms, at 4000AA                            \n",
       "SHIFTERR=        2.92979923757 /                                                \n",
       "NWORDER =                    2 / Linear-log10 coefficients                      \n",
       "WFITTYPE= 'LOG-LINEAR'         / Linear-log10 dispersion                        \n",
       "COEFF0  =        3.57970000000 / Central wavelength (log10) of first pixel      \n",
       "COEFF1  =    0.000100000000000 / Log10 dispersion per pixel                     \n",
       "FBADPIX =            0.0289874 / Fraction of bad pixels                         \n",
       "FBADPIX1=            0.0357595 / Fraction of bad pixels on spectro-1            \n",
       "FBADPIX2=            0.0221726 / Fraction of bad pixels on spectro-2            \n",
       "WAT0_001= 'system=linear'      /                                                \n",
       "WAT1_001= 'wtype=linear label=Wavelength units=Angstroms' /                     \n",
       "DC-FLAG =                    1 / Log-linear flag                                \n",
       "BUNIT   = '1E-17 erg/cm^2/s/Ang' /                                              \n",
       "PLUG_RA =            155.03376 / RA of object [deg]                             \n",
       "PLUG_DEC=          -0.79749571 / dec of object [deg]                            \n",
       "SPEC_ID = '    305120280735410176' / Unique object identifier                   \n",
       "FIBERID =                    5 / Fiber number (1-640)                           \n",
       "NEXP    =                    8 / Number of individual exposures                 \n",
       "EXPID01 = 'b1-00007345-00007348-00007349'                                       \n",
       "EXPID02 = 'b1-00007346-00007348-00007349'                                       \n",
       "EXPID03 = 'b1-00007429-00007432-00007433'                                       \n",
       "EXPID04 = 'b1-00007430-00007432-00007433'                                       \n",
       "EXPID05 = 'r1-00007345-00007348-00007349'                                       \n",
       "EXPID06 = 'r1-00007346-00007348-00007349'                                       \n",
       "EXPID07 = 'r1-00007429-00007432-00007433'                                       \n",
       "EXPID08 = 'r1-00007430-00007432-00007433'                                       "
      ]
     },
     "execution_count": 3,
     "metadata": {},
     "output_type": "execute_result"
    }
   ],
   "source": [
    "hdul['PRIMARY'].header"
   ]
  },
  {
   "cell_type": "code",
   "execution_count": 4,
   "id": "598aaa76",
   "metadata": {},
   "outputs": [
    {
     "data": {
      "text/plain": [
       "XTENSION= 'BINTABLE'           / binary table extension                         \n",
       "BITPIX  =                    8 / array data type                                \n",
       "NAXIS   =                    2 / number of array dimensions                     \n",
       "NAXIS1  =                   32 / length of dimension 1                          \n",
       "NAXIS2  =                 3827 / length of dimension 2                          \n",
       "PCOUNT  =                    0 / number of group parameters                     \n",
       "GCOUNT  =                    1 / number of groups                               \n",
       "TFIELDS =                    8 / number of table fields                         \n",
       "TTYPE1  = 'flux    '                                                            \n",
       "TFORM1  = 'E       '                                                            \n",
       "TTYPE2  = 'loglam  '                                                            \n",
       "TFORM2  = 'E       '                                                            \n",
       "TTYPE3  = 'ivar    '                                                            \n",
       "TFORM3  = 'E       '                                                            \n",
       "TTYPE4  = 'and_mask'                                                            \n",
       "TFORM4  = 'J       '                                                            \n",
       "TTYPE5  = 'or_mask '                                                            \n",
       "TFORM5  = 'J       '                                                            \n",
       "TTYPE6  = 'wdisp   '                                                            \n",
       "TFORM6  = 'E       '                                                            \n",
       "TTYPE7  = 'sky     '                                                            \n",
       "TFORM7  = 'E       '                                                            \n",
       "TTYPE8  = 'model   '                                                            \n",
       "TFORM8  = 'E       '                                                            \n",
       "EXTNAME = 'COADD   '                                                            \n",
       "COMMENT Coadded spectrum                                                        "
      ]
     },
     "execution_count": 4,
     "metadata": {},
     "output_type": "execute_result"
    }
   ],
   "source": [
    "hdul[1].header"
   ]
  },
  {
   "cell_type": "code",
   "execution_count": 5,
   "id": "241cd6d8",
   "metadata": {},
   "outputs": [
    {
     "data": {
      "text/plain": [
       "ColDefs(\n",
       "    name = 'flux'; format = 'E'\n",
       "    name = 'loglam'; format = 'E'\n",
       "    name = 'ivar'; format = 'E'\n",
       "    name = 'and_mask'; format = 'J'\n",
       "    name = 'or_mask'; format = 'J'\n",
       "    name = 'wdisp'; format = 'E'\n",
       "    name = 'sky'; format = 'E'\n",
       "    name = 'model'; format = 'E'\n",
       ")"
      ]
     },
     "execution_count": 5,
     "metadata": {},
     "output_type": "execute_result"
    }
   ],
   "source": [
    "hdul[1].columns"
   ]
  },
  {
   "cell_type": "code",
   "execution_count": 6,
   "id": "5e254933",
   "metadata": {},
   "outputs": [
    {
     "data": {
      "text/plain": [
       "FITS_rec([(21.53708 , 3.5819, 0.08127065, 0, 0, 1.2916901, 10.570335, 33.403244),\n",
       "          (24.77743 , 3.582 , 0.07876171, 0, 0, 1.2898893,  9.759857, 33.523865),\n",
       "          (26.569952, 3.5821, 0.07849586, 0, 0, 1.2939965,  8.42035 , 32.584286),\n",
       "          ...,\n",
       "          (70.94079 , 3.9643, 0.19788149, 0, 0, 0.7077166,  6.824827, 70.471954),\n",
       "          (71.695366, 3.9644, 0.1941352 , 0, 0, 0.7083817,  7.494856, 70.09506 ),\n",
       "          (69.85985 , 3.9645, 0.19558352, 0, 0, 0.708248 ,  8.147273, 70.59616 )],\n",
       "         dtype=(numpy.record, [('flux', '>f4'), ('loglam', '>f4'), ('ivar', '>f4'), ('and_mask', '>i4'), ('or_mask', '>i4'), ('wdisp', '>f4'), ('sky', '>f4'), ('model', '>f4')]))"
      ]
     },
     "execution_count": 6,
     "metadata": {},
     "output_type": "execute_result"
    }
   ],
   "source": [
    "spectrum_data = hdul[1].data\n",
    "spectrum_data"
   ]
  },
  {
   "cell_type": "code",
   "execution_count": 7,
   "id": "58d168c8",
   "metadata": {},
   "outputs": [
    {
     "data": {
      "text/plain": [
       "astropy.io.fits.fitsrec.FITS_rec"
      ]
     },
     "execution_count": 7,
     "metadata": {},
     "output_type": "execute_result"
    }
   ],
   "source": [
    "type(spectrum_data)"
   ]
  },
  {
   "cell_type": "code",
   "execution_count": 8,
   "id": "161ac32a",
   "metadata": {},
   "outputs": [
    {
     "data": {
      "text/plain": [
       "(21.53708, 3.5819, 0.08127065, 0, 0, 1.2916901, 10.570335, 33.403244)"
      ]
     },
     "execution_count": 8,
     "metadata": {},
     "output_type": "execute_result"
    }
   ],
   "source": [
    "spectrum_data[0]"
   ]
  },
  {
   "cell_type": "code",
   "execution_count": 9,
   "id": "1d5c5347",
   "metadata": {},
   "outputs": [],
   "source": [
    "from astropy.table import Table\n",
    "\n",
    "spectrum_data = Table(hdul[1].data)"
   ]
  },
  {
   "cell_type": "code",
   "execution_count": 10,
   "id": "9140bb2d",
   "metadata": {},
   "outputs": [
    {
     "data": {
      "text/plain": [
       "astropy.table.table.Table"
      ]
     },
     "execution_count": 10,
     "metadata": {},
     "output_type": "execute_result"
    }
   ],
   "source": [
    "type(spectrum_data)"
   ]
  },
  {
   "cell_type": "code",
   "execution_count": 11,
   "id": "15a16b75",
   "metadata": {},
   "outputs": [
    {
     "data": {
      "text/html": [
       "<div><i>Table length=3827</i>\n",
       "<table id=\"table4878759872\" class=\"table-striped table-bordered table-condensed\">\n",
       "<thead><tr><th>flux</th><th>loglam</th><th>ivar</th><th>and_mask</th><th>or_mask</th><th>wdisp</th><th>sky</th><th>model</th></tr></thead>\n",
       "<thead><tr><th>float32</th><th>float32</th><th>float32</th><th>int32</th><th>int32</th><th>float32</th><th>float32</th><th>float32</th></tr></thead>\n",
       "<tr><td>21.53708</td><td>3.5819</td><td>0.08127065</td><td>0</td><td>0</td><td>1.2916901</td><td>10.570335</td><td>33.403244</td></tr>\n",
       "<tr><td>24.77743</td><td>3.582</td><td>0.07876171</td><td>0</td><td>0</td><td>1.2898893</td><td>9.759857</td><td>33.523865</td></tr>\n",
       "<tr><td>26.569952</td><td>3.5821</td><td>0.07849586</td><td>0</td><td>0</td><td>1.2939965</td><td>8.42035</td><td>32.584286</td></tr>\n",
       "<tr><td>28.445292</td><td>3.5822</td><td>0.07468648</td><td>0</td><td>0</td><td>1.2940756</td><td>7.2095666</td><td>32.663204</td></tr>\n",
       "<tr><td>26.992609</td><td>3.5823</td><td>0.07433821</td><td>0</td><td>0</td><td>1.2883157</td><td>6.943819</td><td>33.386795</td></tr>\n",
       "<tr><td>24.295444</td><td>3.5824</td><td>0.07521792</td><td>0</td><td>0</td><td>1.2860845</td><td>7.4816504</td><td>31.322495</td></tr>\n",
       "<tr><td>25.63897</td><td>3.5825</td><td>0.072936855</td><td>0</td><td>0</td><td>1.2920122</td><td>8.507473</td><td>31.526957</td></tr>\n",
       "<tr><td>23.736605</td><td>3.5826</td><td>0.06839536</td><td>0</td><td>0</td><td>1.2874743</td><td>9.370607</td><td>34.28415</td></tr>\n",
       "<tr><td>22.78346</td><td>3.5827</td><td>0.07102863</td><td>0</td><td>0</td><td>1.2896937</td><td>8.3563795</td><td>35.00147</td></tr>\n",
       "<tr><td>...</td><td>...</td><td>...</td><td>...</td><td>...</td><td>...</td><td>...</td><td>...</td></tr>\n",
       "<tr><td>73.8433</td><td>3.9637</td><td>0.19817948</td><td>0</td><td>0</td><td>0.7063643</td><td>4.8898005</td><td>69.47337</td></tr>\n",
       "<tr><td>68.88062</td><td>3.9638</td><td>0.21173789</td><td>0</td><td>0</td><td>0.7062694</td><td>4.9900312</td><td>69.56963</td></tr>\n",
       "<tr><td>73.32205</td><td>3.9639</td><td>0.20077994</td><td>0</td><td>0</td><td>0.706738</td><td>5.2409296</td><td>69.34258</td></tr>\n",
       "<tr><td>74.65686</td><td>3.964</td><td>0.19494422</td><td>0</td><td>0</td><td>0.7070948</td><td>5.543225</td><td>69.597534</td></tr>\n",
       "<tr><td>74.855545</td><td>3.9641</td><td>0.19241269</td><td>0</td><td>0</td><td>0.7073854</td><td>5.891232</td><td>70.533356</td></tr>\n",
       "<tr><td>72.75165</td><td>3.9642</td><td>0.19529206</td><td>0</td><td>0</td><td>0.7070475</td><td>6.254566</td><td>70.362366</td></tr>\n",
       "<tr><td>70.94079</td><td>3.9643</td><td>0.19788149</td><td>0</td><td>0</td><td>0.7077166</td><td>6.824827</td><td>70.471954</td></tr>\n",
       "<tr><td>71.695366</td><td>3.9644</td><td>0.1941352</td><td>0</td><td>0</td><td>0.7083817</td><td>7.494856</td><td>70.09506</td></tr>\n",
       "<tr><td>69.85985</td><td>3.9645</td><td>0.19558352</td><td>0</td><td>0</td><td>0.708248</td><td>8.147273</td><td>70.59616</td></tr>\n",
       "</table></div>"
      ],
      "text/plain": [
       "<Table length=3827>\n",
       "   flux    loglam     ivar    and_mask or_mask   wdisp      sky      model  \n",
       " float32  float32   float32    int32    int32   float32   float32   float32 \n",
       "--------- ------- ----------- -------- ------- --------- --------- ---------\n",
       " 21.53708  3.5819  0.08127065        0       0 1.2916901 10.570335 33.403244\n",
       " 24.77743   3.582  0.07876171        0       0 1.2898893  9.759857 33.523865\n",
       "26.569952  3.5821  0.07849586        0       0 1.2939965   8.42035 32.584286\n",
       "28.445292  3.5822  0.07468648        0       0 1.2940756 7.2095666 32.663204\n",
       "26.992609  3.5823  0.07433821        0       0 1.2883157  6.943819 33.386795\n",
       "24.295444  3.5824  0.07521792        0       0 1.2860845 7.4816504 31.322495\n",
       " 25.63897  3.5825 0.072936855        0       0 1.2920122  8.507473 31.526957\n",
       "23.736605  3.5826  0.06839536        0       0 1.2874743  9.370607  34.28415\n",
       " 22.78346  3.5827  0.07102863        0       0 1.2896937 8.3563795  35.00147\n",
       "      ...     ...         ...      ...     ...       ...       ...       ...\n",
       "  73.8433  3.9637  0.19817948        0       0 0.7063643 4.8898005  69.47337\n",
       " 68.88062  3.9638  0.21173789        0       0 0.7062694 4.9900312  69.56963\n",
       " 73.32205  3.9639  0.20077994        0       0  0.706738 5.2409296  69.34258\n",
       " 74.65686   3.964  0.19494422        0       0 0.7070948  5.543225 69.597534\n",
       "74.855545  3.9641  0.19241269        0       0 0.7073854  5.891232 70.533356\n",
       " 72.75165  3.9642  0.19529206        0       0 0.7070475  6.254566 70.362366\n",
       " 70.94079  3.9643  0.19788149        0       0 0.7077166  6.824827 70.471954\n",
       "71.695366  3.9644   0.1941352        0       0 0.7083817  7.494856  70.09506\n",
       " 69.85985  3.9645  0.19558352        0       0  0.708248  8.147273  70.59616"
      ]
     },
     "execution_count": 11,
     "metadata": {},
     "output_type": "execute_result"
    }
   ],
   "source": [
    "spectrum_data"
   ]
  },
  {
   "cell_type": "code",
   "execution_count": 12,
   "id": "c1aa9e58",
   "metadata": {},
   "outputs": [
    {
     "data": {
      "text/html": [
       "&lt;Column name=&apos;flux&apos; dtype=&apos;float32&apos; length=3827&gt;\n",
       "<table>\n",
       "<tr><td>21.53708</td></tr>\n",
       "<tr><td>24.77743</td></tr>\n",
       "<tr><td>26.569952</td></tr>\n",
       "<tr><td>28.445292</td></tr>\n",
       "<tr><td>26.992609</td></tr>\n",
       "<tr><td>24.295444</td></tr>\n",
       "<tr><td>25.63897</td></tr>\n",
       "<tr><td>23.736605</td></tr>\n",
       "<tr><td>22.78346</td></tr>\n",
       "<tr><td>31.77656</td></tr>\n",
       "<tr><td>25.856876</td></tr>\n",
       "<tr><td>...</td></tr>\n",
       "<tr><td>73.64038</td></tr>\n",
       "<tr><td>73.90307</td></tr>\n",
       "<tr><td>73.8433</td></tr>\n",
       "<tr><td>68.88062</td></tr>\n",
       "<tr><td>73.32205</td></tr>\n",
       "<tr><td>74.65686</td></tr>\n",
       "<tr><td>74.855545</td></tr>\n",
       "<tr><td>72.75165</td></tr>\n",
       "<tr><td>70.94079</td></tr>\n",
       "<tr><td>71.695366</td></tr>\n",
       "<tr><td>69.85985</td></tr>\n",
       "</table>"
      ],
      "text/plain": [
       "<Column name='flux' dtype='float32' length=3827>\n",
       " 21.53708\n",
       " 24.77743\n",
       "26.569952\n",
       "28.445292\n",
       "26.992609\n",
       "24.295444\n",
       " 25.63897\n",
       "23.736605\n",
       " 22.78346\n",
       " 31.77656\n",
       "25.856876\n",
       "      ...\n",
       " 73.64038\n",
       " 73.90307\n",
       "  73.8433\n",
       " 68.88062\n",
       " 73.32205\n",
       " 74.65686\n",
       "74.855545\n",
       " 72.75165\n",
       " 70.94079\n",
       "71.695366\n",
       " 69.85985"
      ]
     },
     "execution_count": 12,
     "metadata": {},
     "output_type": "execute_result"
    }
   ],
   "source": [
    "spectrum_data['flux']"
   ]
  },
  {
   "cell_type": "code",
   "execution_count": 18,
   "id": "804b004e",
   "metadata": {},
   "outputs": [
    {
     "data": {
      "image/png": "[encoded data removed]",
      "text/plain": [
       "<Figure size 300x300 with 1 Axes>"
      ]
     },
     "metadata": {},
     "output_type": "display_data"
    }
   ],
   "source": [
    "plt.figure(figsize=(3,3))\n",
    "plt.hist(spectrum_data['flux'], bins='auto')\n",
    "plt.xlabel('Flux')\n",
    "plt.show()"
   ]
  },
  {
   "cell_type": "code",
   "execution_count": 25,
   "id": "ad2f1a21",
   "metadata": {},
   "outputs": [
    {
     "data": {
      "image/png": "[encoded data removed]",
      "text/plain": [
       "<Figure size 500x300 with 1 Axes>"
      ]
     },
     "metadata": {},
     "output_type": "display_data"
    }
   ],
   "source": [
    "plt.figure(figsize=(5,3))\n",
    "plt.plot(spectrum_data['loglam'],spectrum_data['flux'], 'k', linewidth=0.5)\n",
    "plt.xlabel(r'$\\log_{10} \\lambda$')\n",
    "plt.ylabel('Flux')\n",
    "plt.show()"
   ]
  },
  {
   "cell_type": "code",
   "execution_count": 26,
   "id": "04546ba3",
   "metadata": {},
   "outputs": [],
   "source": [
    "wavelength = np.power(10, spectrum_data['loglam'])"
   ]
  },
  {
   "cell_type": "code",
   "execution_count": 28,
   "id": "b835b9af",
   "metadata": {},
   "outputs": [
    {
     "data": {
      "image/png": "[encoded data removed]",
      "text/plain": [
       "<Figure size 500x300 with 1 Axes>"
      ]
     },
     "metadata": {},
     "output_type": "display_data"
    }
   ],
   "source": [
    "plt.figure(figsize=(5,3))\n",
    "plt.plot(wavelength,spectrum_data['flux'], 'k', linewidth=0.5)\n",
    "plt.xlabel(r'$\\lambda$')\n",
    "plt.ylabel('Flux')\n",
    "plt.show()"
   ]
  },
  {
   "cell_type": "code",
   "execution_count": 29,
   "id": "42eccf4a",
   "metadata": {},
   "outputs": [
    {
     "data": {
      "text/html": [
       "<div><i>Table length=3827</i>\n",
       "<table id=\"table4878759872\" class=\"table-striped table-bordered table-condensed\">\n",
       "<thead><tr><th>flux</th><th>loglam</th><th>ivar</th><th>and_mask</th><th>or_mask</th><th>wdisp</th><th>sky</th><th>model</th><th>lambda</th></tr></thead>\n",
       "<thead><tr><th>float32</th><th>float32</th><th>float32</th><th>int32</th><th>int32</th><th>float32</th><th>float32</th><th>float32</th><th>float32</th></tr></thead>\n",
       "<tr><td>21.53708</td><td>3.5819</td><td>0.08127065</td><td>0</td><td>0</td><td>1.2916901</td><td>10.570335</td><td>33.403244</td><td>3818.5623</td></tr>\n",
       "<tr><td>24.77743</td><td>3.582</td><td>0.07876171</td><td>0</td><td>0</td><td>1.2898893</td><td>9.759857</td><td>33.523865</td><td>3819.4429</td></tr>\n",
       "<tr><td>26.569952</td><td>3.5821</td><td>0.07849586</td><td>0</td><td>0</td><td>1.2939965</td><td>8.42035</td><td>32.584286</td><td>3820.3215</td></tr>\n",
       "<tr><td>28.445292</td><td>3.5822</td><td>0.07468648</td><td>0</td><td>0</td><td>1.2940756</td><td>7.2095666</td><td>32.663204</td><td>3821.2024</td></tr>\n",
       "<tr><td>26.992609</td><td>3.5823</td><td>0.07433821</td><td>0</td><td>0</td><td>1.2883157</td><td>6.943819</td><td>33.386795</td><td>3822.0815</td></tr>\n",
       "<tr><td>24.295444</td><td>3.5824</td><td>0.07521792</td><td>0</td><td>0</td><td>1.2860845</td><td>7.4816504</td><td>31.322495</td><td>3822.963</td></tr>\n",
       "<tr><td>25.63897</td><td>3.5825</td><td>0.072936855</td><td>0</td><td>0</td><td>1.2920122</td><td>8.507473</td><td>31.526957</td><td>3823.8423</td></tr>\n",
       "<tr><td>23.736605</td><td>3.5826</td><td>0.06839536</td><td>0</td><td>0</td><td>1.2874743</td><td>9.370607</td><td>34.28415</td><td>3824.724</td></tr>\n",
       "<tr><td>22.78346</td><td>3.5827</td><td>0.07102863</td><td>0</td><td>0</td><td>1.2896937</td><td>8.3563795</td><td>35.00147</td><td>3825.604</td></tr>\n",
       "<tr><td>...</td><td>...</td><td>...</td><td>...</td><td>...</td><td>...</td><td>...</td><td>...</td><td>...</td></tr>\n",
       "<tr><td>73.8433</td><td>3.9637</td><td>0.19817948</td><td>0</td><td>0</td><td>0.7063643</td><td>4.8898005</td><td>69.47337</td><td>9198.141</td></tr>\n",
       "<tr><td>68.88062</td><td>3.9638</td><td>0.21173789</td><td>0</td><td>0</td><td>0.7062694</td><td>4.9900312</td><td>69.56963</td><td>9200.257</td></tr>\n",
       "<tr><td>73.32205</td><td>3.9639</td><td>0.20077994</td><td>0</td><td>0</td><td>0.706738</td><td>5.2409296</td><td>69.34258</td><td>9202.379</td></tr>\n",
       "<tr><td>74.65686</td><td>3.964</td><td>0.19494422</td><td>0</td><td>0</td><td>0.7070948</td><td>5.543225</td><td>69.597534</td><td>9204.495</td></tr>\n",
       "<tr><td>74.855545</td><td>3.9641</td><td>0.19241269</td><td>0</td><td>0</td><td>0.7073854</td><td>5.891232</td><td>70.533356</td><td>9206.613</td></tr>\n",
       "<tr><td>72.75165</td><td>3.9642</td><td>0.19529206</td><td>0</td><td>0</td><td>0.7070475</td><td>6.254566</td><td>70.362366</td><td>9208.736</td></tr>\n",
       "<tr><td>70.94079</td><td>3.9643</td><td>0.19788149</td><td>0</td><td>0</td><td>0.7077166</td><td>6.824827</td><td>70.471954</td><td>9210.8545</td></tr>\n",
       "<tr><td>71.695366</td><td>3.9644</td><td>0.1941352</td><td>0</td><td>0</td><td>0.7083817</td><td>7.494856</td><td>70.09506</td><td>9212.979</td></tr>\n",
       "<tr><td>69.85985</td><td>3.9645</td><td>0.19558352</td><td>0</td><td>0</td><td>0.708248</td><td>8.147273</td><td>70.59616</td><td>9215.098</td></tr>\n",
       "</table></div>"
      ],
      "text/plain": [
       "<Table length=3827>\n",
       "   flux    loglam     ivar    and_mask or_mask   wdisp      sky      model     lambda \n",
       " float32  float32   float32    int32    int32   float32   float32   float32   float32 \n",
       "--------- ------- ----------- -------- ------- --------- --------- --------- ---------\n",
       " 21.53708  3.5819  0.08127065        0       0 1.2916901 10.570335 33.403244 3818.5623\n",
       " 24.77743   3.582  0.07876171        0       0 1.2898893  9.759857 33.523865 3819.4429\n",
       "26.569952  3.5821  0.07849586        0       0 1.2939965   8.42035 32.584286 3820.3215\n",
       "28.445292  3.5822  0.07468648        0       0 1.2940756 7.2095666 32.663204 3821.2024\n",
       "26.992609  3.5823  0.07433821        0       0 1.2883157  6.943819 33.386795 3822.0815\n",
       "24.295444  3.5824  0.07521792        0       0 1.2860845 7.4816504 31.322495  3822.963\n",
       " 25.63897  3.5825 0.072936855        0       0 1.2920122  8.507473 31.526957 3823.8423\n",
       "23.736605  3.5826  0.06839536        0       0 1.2874743  9.370607  34.28415  3824.724\n",
       " 22.78346  3.5827  0.07102863        0       0 1.2896937 8.3563795  35.00147  3825.604\n",
       "      ...     ...         ...      ...     ...       ...       ...       ...       ...\n",
       "  73.8433  3.9637  0.19817948        0       0 0.7063643 4.8898005  69.47337  9198.141\n",
       " 68.88062  3.9638  0.21173789        0       0 0.7062694 4.9900312  69.56963  9200.257\n",
       " 73.32205  3.9639  0.20077994        0       0  0.706738 5.2409296  69.34258  9202.379\n",
       " 74.65686   3.964  0.19494422        0       0 0.7070948  5.543225 69.597534  9204.495\n",
       "74.855545  3.9641  0.19241269        0       0 0.7073854  5.891232 70.533356  9206.613\n",
       " 72.75165  3.9642  0.19529206        0       0 0.7070475  6.254566 70.362366  9208.736\n",
       " 70.94079  3.9643  0.19788149        0       0 0.7077166  6.824827 70.471954 9210.8545\n",
       "71.695366  3.9644   0.1941352        0       0 0.7083817  7.494856  70.09506  9212.979\n",
       " 69.85985  3.9645  0.19558352        0       0  0.708248  8.147273  70.59616  9215.098"
      ]
     },
     "execution_count": 29,
     "metadata": {},
     "output_type": "execute_result"
    }
   ],
   "source": [
    "spectrum_data.add_column(wavelength, name='lambda')\n",
    "spectrum_data"
   ]
  },
  {
   "cell_type": "code",
   "execution_count": null,
   "id": "2e818edf",
   "metadata": {},
   "outputs": [],
   "source": []
  }
 ],
 "metadata": {
  "kernelspec": {
   "display_name": "Python 3 (ipykernel)",
   "language": "python",
   "name": "python3"
  },
  "language_info": {
   "codemirror_mode": {
    "name": "ipython",
    "version": 3
   },
   "file_extension": ".py",
   "mimetype": "text/x-python",
   "name": "python",
   "nbconvert_exporter": "python",
   "pygments_lexer": "ipython3",
   "version": "3.10.9"
  }
 },
 "nbformat": 4,
 "nbformat_minor": 5
}
