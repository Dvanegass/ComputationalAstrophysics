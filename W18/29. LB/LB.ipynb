{
 "cells": [
  {
   "cell_type": "markdown",
   "metadata": {
    "id": "q4G0M4o6F7CZ"
   },
   "source": [
    "# Lattice Boltzmann\n"
   ]
  },
  {
   "cell_type": "code",
   "execution_count": 1,
   "metadata": {
    "executionInfo": {
     "elapsed": 196,
     "status": "ok",
     "timestamp": 1624120122787,
     "user": {
      "displayName": "Eduard Alexis Larranaga",
      "photoUrl": "https://lh3.googleusercontent.com/a-/AOh14GgCVABzEgj-rCdyxWa29RnA0kIYUCXAaVbnRYOEhQ=s64",
      "userId": "04402438389940282602"
     },
     "user_tz": 300
    },
    "id": "iqEXq61EyDv5"
   },
   "outputs": [],
   "source": [
    "path = '/content/drive/MyDrive/Colab Notebooks/LBresults/'"
   ]
  },
  {
   "cell_type": "code",
   "execution_count": 2,
   "metadata": {
    "colab": {
     "base_uri": "https://localhost:8080/",
     "height": 553
    },
    "executionInfo": {
     "elapsed": 468690,
     "status": "error",
     "timestamp": 1624124486423,
     "user": {
      "displayName": "Eduard Alexis Larranaga",
      "photoUrl": "https://lh3.googleusercontent.com/a-/AOh14GgCVABzEgj-rCdyxWa29RnA0kIYUCXAaVbnRYOEhQ=s64",
      "userId": "04402438389940282602"
     },
     "user_tz": 300
    },
    "id": "Ev1ARTUcV9Sx",
    "outputId": "83fbe8ac-2a5f-4c96-b6ba-e9f595b25e73"
   },
   "outputs": [
    {
     "ename": "KeyboardInterrupt",
     "evalue": "",
     "output_type": "error",
     "traceback": [
      "\u001b[0;31m---------------------------------------------------------------------------\u001b[0m",
      "\u001b[0;31mKeyboardInterrupt\u001b[0m                         Traceback (most recent call last)",
      "\u001b[0;32m/var/folders/rg/9mmttz3x0hz3mvcrk2c92x_h0000gn/T/ipykernel_18229/434057699.py\u001b[0m in \u001b[0;36m<module>\u001b[0;34m\u001b[0m\n\u001b[1;32m     85\u001b[0m     \u001b[0;31m# Bounce-back condition for obstacle.\u001b[0m\u001b[0;34m\u001b[0m\u001b[0;34m\u001b[0m\u001b[0;34m\u001b[0m\u001b[0m\n\u001b[1;32m     86\u001b[0m     \u001b[0;32mfor\u001b[0m \u001b[0mi\u001b[0m \u001b[0;32min\u001b[0m \u001b[0mrange\u001b[0m\u001b[0;34m(\u001b[0m\u001b[0;36m9\u001b[0m\u001b[0;34m)\u001b[0m\u001b[0;34m:\u001b[0m\u001b[0;34m\u001b[0m\u001b[0;34m\u001b[0m\u001b[0m\n\u001b[0;32m---> 87\u001b[0;31m         \u001b[0mfout\u001b[0m\u001b[0;34m[\u001b[0m\u001b[0mi\u001b[0m\u001b[0;34m,\u001b[0m \u001b[0mobstacle\u001b[0m\u001b[0;34m]\u001b[0m \u001b[0;34m=\u001b[0m \u001b[0mfin\u001b[0m\u001b[0;34m[\u001b[0m\u001b[0;36m8\u001b[0m\u001b[0;34m-\u001b[0m\u001b[0mi\u001b[0m\u001b[0;34m,\u001b[0m \u001b[0mobstacle\u001b[0m\u001b[0;34m]\u001b[0m\u001b[0;34m\u001b[0m\u001b[0;34m\u001b[0m\u001b[0m\n\u001b[0m\u001b[1;32m     88\u001b[0m \u001b[0;34m\u001b[0m\u001b[0m\n\u001b[1;32m     89\u001b[0m     \u001b[0;31m# Streaming step.\u001b[0m\u001b[0;34m\u001b[0m\u001b[0;34m\u001b[0m\u001b[0;34m\u001b[0m\u001b[0m\n",
      "\u001b[0;31mKeyboardInterrupt\u001b[0m: "
     ]
    },
    {
     "data": {
      "image/png": "[encoded data removed]",
      "text/plain": [
       "<Figure size 432x288 with 1 Axes>"
      ]
     },
     "metadata": {
      "needs_background": "light"
     },
     "output_type": "display_data"
    }
   ],
   "source": [
    "#!/usr/bin/python3\n",
    "# Copyright (C) 2015 Universite de Geneve, Switzerland\n",
    "# E-mail contact: jonas.latt@unige.ch\n",
    "#\n",
    "# 2D flow around a cylinder\n",
    "#\n",
    "\n",
    "from numpy import *\n",
    "import matplotlib.pyplot as plt\n",
    "from matplotlib import cm\n",
    "\n",
    "###### Flow definition #########################################################\n",
    "maxIter = 200000  # Total number of time iterations.\n",
    "Re = 30.0         # Reynolds number.\n",
    "nx, ny = 420, 180 # Numer of lattice nodes.\n",
    "ly = ny-1         # Height of the domain in lattice units.\n",
    "cx, cy, r = nx//4, ny//2, ny//9 # Coordinates of the cylinder.\n",
    "uLB     = 0.04                  # Velocity in lattice units.\n",
    "nulb    = uLB*r/Re;             # Viscoscity in lattice units.\n",
    "omega = 1 / (3*nulb+0.5);    # Relaxation parameter.\n",
    "\n",
    "###### Lattice Constants #######################################################\n",
    "v = array([ [ 1,  1], [ 1,  0], [ 1, -1], [ 0,  1], [ 0,  0],\n",
    "            [ 0, -1], [-1,  1], [-1,  0], [-1, -1] ])\n",
    "t = array([ 1/36, 1/9, 1/36, 1/9, 4/9, 1/9, 1/36, 1/9, 1/36])\n",
    "\n",
    "col1 = array([0, 1, 2])\n",
    "col2 = array([3, 4, 5])\n",
    "col3 = array([6, 7, 8])\n",
    "\n",
    "###### Function Definitions ####################################################\n",
    "def macroscopic(fin):\n",
    "    rho = sum(fin, axis=0)\n",
    "    u = zeros((2, nx, ny))\n",
    "    for i in range(9):\n",
    "        u[0,:,:] += v[i,0] * fin[i,:,:]\n",
    "        u[1,:,:] += v[i,1] * fin[i,:,:]\n",
    "    u /= rho\n",
    "    return rho, u\n",
    "\n",
    "def equilibrium(rho, u):              # Equilibrium distribution function.\n",
    "    usqr = 3/2 * (u[0]**2 + u[1]**2)\n",
    "    feq = zeros((9,nx,ny))\n",
    "    for i in range(9):\n",
    "        cu = 3 * (v[i,0]*u[0,:,:] + v[i,1]*u[1,:,:])\n",
    "        feq[i,:,:] = rho*t[i] * (1 + cu + 0.5*cu**2 - usqr)\n",
    "    return feq\n",
    "\n",
    "###### Setup: cylindrical obstacle and velocity inlet with perturbation ########\n",
    "# Creation of a mask with 1/0 values, defining the shape of the obstacle.\n",
    "def obstacle_fun(x, y):\n",
    "    return (x-cx)**2+(y-cy)**2<r**2\n",
    "\n",
    "obstacle = fromfunction(obstacle_fun, (nx,ny))\n",
    "\n",
    "# Initial velocity profile: almost zero, with a slight perturbation to trigger\n",
    "# the instability.\n",
    "def inivel(d, x, y):\n",
    "    return (1-d) * uLB * (1 + 1e-4*sin(y/ly*2*pi))\n",
    "\n",
    "vel = fromfunction(inivel, (2,nx,ny))\n",
    "\n",
    "# Initialization of the populations at equilibrium with the given velocity.\n",
    "fin = equilibrium(1, vel)\n",
    "\n",
    "###### Main time loop ##########################################################\n",
    "for time in range(maxIter):\n",
    "    # Right wall: outflow condition.\n",
    "    fin[col3,-1,:] = fin[col3,-2,:] \n",
    "\n",
    "    # Compute macroscopic variables, density and velocity.\n",
    "    rho, u = macroscopic(fin)\n",
    "\n",
    "    # Left wall: inflow condition.\n",
    "    u[:,0,:] = vel[:,0,:]\n",
    "    rho[0,:] = 1/(1-u[0,0,:]) * ( sum(fin[col2,0,:], axis=0) +\n",
    "                                  2*sum(fin[col3,0,:], axis=0) )\n",
    "    # Compute equilibrium.\n",
    "    feq = equilibrium(rho, u)\n",
    "    fin[[0,1,2],0,:] = feq[[0,1,2],0,:] + fin[[8,7,6],0,:] - feq[[8,7,6],0,:]\n",
    "\n",
    "    # Collision step.\n",
    "    fout = fin - omega * (fin - feq)\n",
    "\n",
    "    # Bounce-back condition for obstacle.\n",
    "    for i in range(9):\n",
    "        fout[i, obstacle] = fin[8-i, obstacle]\n",
    "\n",
    "    # Streaming step.\n",
    "    for i in range(9):\n",
    "        fin[i,:,:] = roll(\n",
    "                            roll(fout[i,:,:], v[i,0], axis=0),\n",
    "                            v[i,1], axis=1 )\n",
    " \n",
    "    # Visualization of the velocity.\n",
    "    if (time%100==0):\n",
    "        plt.clf()\n",
    "        plt.imshow(sqrt(u[0]**2+u[1]**2).transpose(), cmap=cm.Reds)\n",
    "        plt.savefig('images/vel.{0:04d}.png'.format(time//100))\n"
   ]
  },
  {
   "cell_type": "code",
   "execution_count": null,
   "metadata": {
    "id": "Z6-0UW2PYFF5"
   },
   "outputs": [],
   "source": []
  }
 ],
 "metadata": {
  "colab": {
   "authorship_tag": "ABX9TyOgflA4QAabobPmaqRZFL7M",
   "collapsed_sections": [],
   "mount_file_id": "1eAsRlZ-U_yggpUJVdJBuY3hxRnFxvNrU",
   "name": "LB.ipynb",
   "provenance": []
  },
  "kernelspec": {
   "display_name": "Python 3 (ipykernel)",
   "language": "python",
   "name": "python3"
  },
  "language_info": {
   "codemirror_mode": {
    "name": "ipython",
    "version": 3
   },
   "file_extension": ".py",
   "mimetype": "text/x-python",
   "name": "python",
   "nbconvert_exporter": "python",
   "pygments_lexer": "ipython3",
   "version": "3.9.5"
  }
 },
 "nbformat": 4,
 "nbformat_minor": 1
}
