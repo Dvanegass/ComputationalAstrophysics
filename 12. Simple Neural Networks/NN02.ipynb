{
 "cells": [
  {
   "cell_type": "markdown",
   "metadata": {
    "id": "bB2VgAZdSyGU"
   },
   "source": [
    "<center>\n",
    "<img src=\"https://i.ibb.co/ZVRt2f7/logo.png\" alt=\"logo\" border=\"0\" width=800>\n"
   ]
  },
  {
   "cell_type": "markdown",
   "metadata": {
    "id": "1sJXZQswS3Vd"
   },
   "source": [
    "---\n",
    "## 02. A non-linear Neural Network\n",
    "\n",
    "\n",
    "Eduard Larrañaga (ealarranaga@unal.edu.co)\n",
    "\n",
    "---"
   ]
  },
  {
   "cell_type": "markdown",
   "metadata": {
    "id": "tCOJ84FdS9ZM"
   },
   "source": [
    "### Abstract\n",
    "\n",
    "In this notebook we will implement a non-linear neural network using ReLU and sigmoid activation functions and multiple layers.\n",
    "\n",
    "---"
   ]
  },
  {
   "cell_type": "markdown",
   "metadata": {
    "id": "nGip9KTGPV73"
   },
   "source": [
    "## Lagrange Point $L_1$\n",
    "\n",
    "The gravitational potential around two particles with masses $M_1$ and $M_2$ in the line that joins them will be\n",
    "\n",
    "\\begin{equation}\n",
    "\\Phi(r) = -\\frac{GM_1}{(r_1 + r)} - \\frac{GM_2}{(r_2 - r)}  - \\frac{1}{2} \\omega^2 r^2,\n",
    "\\end{equation}\n",
    "\n",
    "where $\\omega$ is the angular speed of a test particle orbiting around $M_1$.\n",
    "\n",
    "The magnitude of the total force (per unit mass) on the test particle will be\n",
    "\n",
    "\\begin{equation}\n",
    "F = \\frac{d\\Phi}{dr} = \\frac{GM_1}{(r_1 + r)^2} - \\frac{GM_2}{(r_2 - r)^2}  -  \\omega^2 r\n",
    "\\end{equation}\n",
    "\n",
    "The equilibrium point(s) are defined by the condition\n",
    "\n",
    "\\begin{equation}\n",
    "F =  \\frac{GM_1}{(r_1 + r)^2} - \\frac{GM_2}{(r_2 - r)^2}  -  \\omega^2 r = 0\n",
    "\\end{equation}\n",
    "\n",
    "or\n",
    "\n",
    "\\begin{equation}\n",
    "\\frac{GM_1}{(r_1 + r)^2} - \\frac{GM_2}{(r_2 - r)^2} =  \\omega^2 r.\n",
    "\\end{equation}\n",
    "\n"
   ]
  },
  {
   "cell_type": "markdown",
   "metadata": {
    "id": "L4m_qmwAPc43"
   },
   "source": [
    "We re-scale the condition as\n",
    "\n",
    "\\begin{align}\n",
    "GM_1(r_2 - r)^2 - GM_2(r_1 + r)^2 =  &\\omega^2 r(r_1 + r)^2(r_2 - r)^2\\\\\n",
    "(r_2 - r)^2 - \\frac{M_2}{M_1}(r_1 + r)^2 =  &\\frac{\\omega^2}{GM_1} r(r_1 + r)^2(r_2 - r)^2\n",
    "\\end{align}\n",
    "\n",
    "and introducing the distance between the two particles (major semi-axis),$a=r_1 + r_2$ we write\n",
    "\n",
    "\\begin{align}\n",
    "(a-r_1 - r)^2 - \\frac{M_2}{M_1}(r_1 + r)^2 =  &\\frac{\\omega^2}{GM_1} r(r_1 + r)^2(a-r_1 - r)^2\\\\\n",
    "a^2\\left(1-\\frac{r_1}{a} - \\frac{r}{a}\\right)^2 - \\frac{M_2}{M_1}a^2\\left(\\frac{r_1}{a} + \\frac{r}{a}\\right)^2 =  &\\frac{\\omega^2}{GM_1} ra^2\\left(\\frac{r_1}{a} + \\frac{r}{a}\\right)^2a^2\\left(1-\\frac{r_1}{a} - \\frac{r}{a}\\right)^2\\\\\n",
    "\\left(1-\\frac{r_1}{a} - \\frac{r}{a}\\right)^2 - \\frac{M_2}{M_1}\\left(\\frac{r_1}{a} + \\frac{r}{a}\\right)^2 =  &\\frac{\\omega^2 a^3}{GM_1} \\frac{r}{a}\\left(\\frac{r_1}{a} + \\frac{r}{a}\\right)^2 \\left(1-\\frac{r_1}{a} - \\frac{r}{a}\\right)^2\\\\\n",
    "\\left(1-\\frac{r_1+r}{a} \\right)^2 - \\frac{M_2}{M_1}\\left(\\frac{r_1 + r}{a}\\right)^2 =  &\\frac{\\omega^2 a^3}{GM_1} \\frac{r}{a}\\left(\\frac{r_1 +r}{a} \\right)^2 \\left(1-\\frac{r_1+r}{a} \\right)^2.\n",
    "\\end{align}\n",
    "\n",
    "Defining the adimensional fucntion $\\ell_1 = \\frac{r+r_1}{a}$, corresponding to the location of the Lagrange point $L_1$ as mesaured from the body $M_1$, we have\n",
    "\n",
    "\\begin{equation}\n",
    "\\left(1-\\ell_1 \\right)^2 - \\frac{M_2}{M_1}\\ell_1^2 =  \\frac{\\omega^2 a^3}{GM_1} \\left(\\ell_1 - \\frac{r_1}{a}\\right)\\ell_1^2 \\left(1-\\ell_1 \\right)^2.\n",
    "\\end{equation}\n",
    "\n",
    "Using Kepler's third law,\n",
    "\n",
    "\\begin{equation}\n",
    "\\omega^2 = \\frac{G(M_1 + M_2)}{a^3}\n",
    "\\end{equation}\n",
    "\n",
    "we obtain\n",
    "\n",
    "\\begin{equation}\n",
    "\\left(1-\\ell_1 \\right)^2 - \\frac{M_2}{M_1}\\ell_1^2 =  \\frac{M_1 + M_2}{M_1} \\left(\\ell_1 - \\frac{r_1}{a}\\right)\\ell_1^2 \\left(1-\\ell_1 \\right)^2.\n",
    "\\end{equation}\n",
    "\n",
    "---\n",
    "\n",
    "From the definitions of the major semi-axis and the center of mass, we can write\n",
    "\n",
    "\\begin{equation}\n",
    "\\begin{cases}\n",
    "r_1 + r_2 = a\\\\\n",
    "M_1 r_1 + M_2 r_2 = 0\n",
    "\\end{cases}\n",
    "\\end{equation}\n",
    "\n",
    "Solving from the secon equation and replacing in the first one, we have\n",
    "\n",
    "\\begin{equation}\n",
    "r_1 + \\left(-\\frac{M_1}{M_2} r_1\\right) = a\n",
    "\\end{equation}\n",
    "\n",
    "\\begin{equation}\n",
    "r_1 \\left(1-\\frac{M_1}{M_2} \\right) = a\n",
    "\\end{equation}\n",
    "\n",
    "\\begin{equation}\n",
    "\\frac{r_1}{a} =  \\frac{1}{1-\\frac{M_1}{M_2}}\n",
    "\\end{equation}\n",
    "\n",
    "\\begin{equation}\n",
    "\\frac{r_1}{a} =  -\\frac{M_2}{M_1 -M_2}\n",
    "\\end{equation}\n",
    "\n",
    "---\n",
    "\n",
    "Replacing this result we get\n",
    "\n",
    "\\begin{equation}\n",
    "\\left(1-\\ell_1 \\right)^2 - \\frac{M_2}{M_1}\\ell_1^2 =  \\frac{M_1 + M_2}{M_1} \\left(\\ell_1 + \\frac{M_2}{M_1 -M_2} \\right)\\ell_1^2 \\left(1-\\ell_1 \\right)^2.\n",
    "\\end{equation}\n",
    "\n",
    "\n",
    "Defining the quantity $q = \\frac{M_2}{M1}$, we write the above equation as\n",
    "\n",
    "\\begin{equation}\n",
    "\\left(1-\\ell_1 \\right)^2 - q\\ell_1^2 =  (1+q) \\left(\\ell_1 + \\frac{q}{1 - q} \\right)\\ell_1^2 \\left(1-\\ell_1 \\right)^2.\n",
    "\\end{equation}\n",
    "\n",
    "In order to find the location of the Lagrange point $L_1$ we need to solve the following function to find its root:\n",
    "\n",
    "\\begin{equation}\n",
    "f(\\ell_1) = \\left(1-\\ell_1 \\right)^2 - q\\ell_1^2 -  (1+q) \\left(\\ell_1 + \\frac{q}{1 - q} \\right)\\ell_1^2 \\left(1-\\ell_1 \\right)^2.\n",
    "\\end{equation}\n",
    "\n"
   ]
  },
  {
   "cell_type": "markdown",
   "metadata": {
    "id": "sLUz0CMlBOXi"
   },
   "source": [
    "---\n",
    "\n",
    "## The location of the Lagrange point $L_1$ as the root of the function $f(\\ell_1 )$"
   ]
  },
  {
   "cell_type": "code",
   "execution_count": 1,
   "metadata": {
    "colab": {
     "base_uri": "https://localhost:8080/"
    },
    "executionInfo": {
     "elapsed": 4638,
     "status": "ok",
     "timestamp": 1668636638126,
     "user": {
      "displayName": "Eduard Alexis Larranaga",
      "userId": "04402438389940282602"
     },
     "user_tz": 300
    },
    "id": "4iRc3G6PPlre",
    "outputId": "36c649d2-d974-44e5-fef5-dd61259616fc"
   },
   "outputs": [
    {
     "name": "stdout",
     "output_type": "stream",
     "text": [
      "q for the systme Earth-Moon = 0.012299966521593571\n"
     ]
    },
    {
     "data": {
      "text/plain": [
       "      converged: True\n",
       "           flag: 'converged'\n",
       " function_calls: 11\n",
       "     iterations: 10\n",
       "           root: 0.8468605397452619"
      ]
     },
     "execution_count": 1,
     "metadata": {},
     "output_type": "execute_result"
    }
   ],
   "source": [
    "import numpy as np\n",
    "import matplotlib.pyplot as plt\n",
    "from scipy.optimize import root_scalar as rs\n",
    "import tensorflow as tf\n",
    "\n",
    "\n",
    "# Values for the system Earth-Moon\n",
    "M = 5.974e24 #kg\n",
    "m = 7.348e22 #kg\n",
    "\n",
    "qEM = m/M\n",
    "\n",
    "def f(x,q=0.2):\n",
    "    return (1-x)**2 - q*x**2 - (1+q)*(x + q/(1-q))*(x**2)*(1-x)**2\n",
    "\n",
    "print('q for the systme Earth-Moon =', qEM)\n",
    "rs(f, args=(qEM), x0=0.1, x1=0.2)"
   ]
  },
  {
   "cell_type": "markdown",
   "metadata": {
    "id": "eikQyAevamKP"
   },
   "source": [
    "Now, lets visualize the behavior of the location of the Lagrange point $L_1$ as a function of the parameter $q$. We will consider only 14 points in the range $q \\in [0,1]$."
   ]
  },
  {
   "cell_type": "code",
   "execution_count": 2,
   "metadata": {
    "colab": {
     "base_uri": "https://localhost:8080/",
     "height": 281
    },
    "executionInfo": {
     "elapsed": 830,
     "status": "ok",
     "timestamp": 1668636703353,
     "user": {
      "displayName": "Eduard Alexis Larranaga",
      "userId": "04402438389940282602"
     },
     "user_tz": 300
    },
    "id": "GskOfRL7vuaE",
    "outputId": "00bb6c5a-92b6-4f39-ac38-03a2f710be83"
   },
   "outputs": [
    {
     "data": {
      "image/png": "[encoded data removed]",
      "text/plain": [
       "<Figure size 432x288 with 1 Axes>"
      ]
     },
     "metadata": {
      "needs_background": "light"
     },
     "output_type": "display_data"
    }
   ],
   "source": [
    "qr = np.array([0.001, 0.005, 0.01, 0.05, 0.1, 0.5, 0.8, 0.9, 0.95, 0.99, 0.995, 0.999, 0.9995, 0.9999])\n",
    "roots = np.zeros(len(qr))\n",
    "\n",
    "for i in range(len(qr)):\n",
    "  roots[i] = rs(f, args=(qr[i]), x0=0.1, x1=0.2).root\n",
    "\n",
    "plt.figure()\n",
    "plt.plot(qr,roots)\n",
    "plt.xlabel(r'$q$')\n",
    "plt.ylabel(r'$\\ell_1$')\n",
    "plt.show()"
   ]
  },
  {
   "cell_type": "markdown",
   "metadata": {
    "id": "TkA27C4_vl63"
   },
   "source": [
    "Note that the behavior of $\\ell_1$ vs $q$ is NOT linear. Therefore, a simple neural network like the one trained in the las lesson, will not model adequately the behavior."
   ]
  },
  {
   "cell_type": "markdown",
   "metadata": {
    "id": "AxHXo4nhbr-h"
   },
   "source": [
    "---\n",
    "## Modelling the Problem using a Linear Neural Network\n",
    "\n",
    "As a first example, we will try to train a simple linear neural network to model the problem."
   ]
  },
  {
   "cell_type": "code",
   "execution_count": 3,
   "metadata": {
    "executionInfo": {
     "elapsed": 310,
     "status": "ok",
     "timestamp": 1668636775887,
     "user": {
      "displayName": "Eduard Alexis Larranaga",
      "userId": "04402438389940282602"
     },
     "user_tz": 300
    },
    "id": "jss5fU9gckwb"
   },
   "outputs": [],
   "source": [
    "linearmodel = tf.keras.Sequential()\n",
    "linearmodel.add(tf.keras.Input(shape=(1,))) # Input layer\n",
    "linearmodel.add(tf.keras.layers.Dense(1)) # Output layer \n",
    "\n",
    "linearmodel.compile(\n",
    "    optimizer = tf.keras.optimizers.Adam(learning_rate=0.1),\n",
    "    loss = 'mean_squared_error'\n",
    ")"
   ]
  },
  {
   "cell_type": "markdown",
   "metadata": {
    "id": "arD1FSU8c0_w"
   },
   "source": [
    "Now, we will train the model using the 14 points defined above,"
   ]
  },
  {
   "cell_type": "code",
   "execution_count": 4,
   "metadata": {
    "colab": {
     "base_uri": "https://localhost:8080/"
    },
    "executionInfo": {
     "elapsed": 5573,
     "status": "ok",
     "timestamp": 1668636809513,
     "user": {
      "displayName": "Eduard Alexis Larranaga",
      "userId": "04402438389940282602"
     },
     "user_tz": 300
    },
    "id": "AvmpNylwc0PV",
    "outputId": "c20235fc-5eca-4bac-c849-03f76296462e"
   },
   "outputs": [
    {
     "name": "stdout",
     "output_type": "stream",
     "text": [
      "Training...\n",
      "Model is ready!!\n"
     ]
    }
   ],
   "source": [
    "print('Training...')\n",
    "\n",
    "m_history = linearmodel.fit(qr, roots, epochs = 1000, verbose=False)\n",
    "\n",
    "print('Model is ready!!')"
   ]
  },
  {
   "cell_type": "code",
   "execution_count": 5,
   "metadata": {
    "colab": {
     "base_uri": "https://localhost:8080/",
     "height": 1000
    },
    "executionInfo": {
     "elapsed": 8046,
     "status": "ok",
     "timestamp": 1668636848248,
     "user": {
      "displayName": "Eduard Alexis Larranaga",
      "userId": "04402438389940282602"
     },
     "user_tz": 300
    },
    "id": "WYy0E4scdMxq",
    "outputId": "4685057d-6e0f-45a8-8722-34940aade380"
   },
   "outputs": [
    {
     "name": "stdout",
     "output_type": "stream",
     "text": [
      "1/1 [==============================] - 0s 125ms/step\n",
      "1/1 [==============================] - 0s 41ms/step\n",
      "1/1 [==============================] - 0s 45ms/step\n",
      "1/1 [==============================] - 0s 43ms/step\n",
      "1/1 [==============================] - 0s 45ms/step\n",
      "1/1 [==============================] - 0s 50ms/step\n",
      "1/1 [==============================] - 0s 42ms/step\n",
      "1/1 [==============================] - 0s 50ms/step\n",
      "1/1 [==============================] - 0s 43ms/step\n",
      "1/1 [==============================] - 0s 54ms/step\n",
      "1/1 [==============================] - 0s 28ms/step\n",
      "1/1 [==============================] - 0s 32ms/step\n",
      "1/1 [==============================] - 0s 34ms/step\n",
      "1/1 [==============================] - 0s 34ms/step\n",
      "1/1 [==============================] - 0s 30ms/step\n",
      "1/1 [==============================] - 0s 33ms/step\n",
      "1/1 [==============================] - 0s 28ms/step\n",
      "1/1 [==============================] - 0s 28ms/step\n",
      "1/1 [==============================] - 0s 31ms/step\n",
      "1/1 [==============================] - 0s 29ms/step\n",
      "1/1 [==============================] - 0s 30ms/step\n",
      "1/1 [==============================] - 0s 30ms/step\n",
      "1/1 [==============================] - 0s 33ms/step\n",
      "1/1 [==============================] - 0s 33ms/step\n",
      "1/1 [==============================] - 0s 30ms/step\n",
      "1/1 [==============================] - 0s 30ms/step\n",
      "1/1 [==============================] - 0s 32ms/step\n",
      "1/1 [==============================] - 0s 31ms/step\n",
      "1/1 [==============================] - 0s 28ms/step\n",
      "1/1 [==============================] - 0s 28ms/step\n",
      "1/1 [==============================] - 0s 29ms/step\n",
      "1/1 [==============================] - 0s 30ms/step\n",
      "1/1 [==============================] - 0s 28ms/step\n",
      "1/1 [==============================] - 0s 29ms/step\n",
      "1/1 [==============================] - 0s 30ms/step\n",
      "1/1 [==============================] - 0s 33ms/step\n",
      "1/1 [==============================] - 0s 31ms/step\n",
      "1/1 [==============================] - 0s 31ms/step\n",
      "1/1 [==============================] - 0s 33ms/step\n",
      "1/1 [==============================] - 0s 29ms/step\n",
      "1/1 [==============================] - 0s 29ms/step\n",
      "1/1 [==============================] - 0s 31ms/step\n",
      "1/1 [==============================] - 0s 29ms/step\n",
      "1/1 [==============================] - 0s 30ms/step\n",
      "1/1 [==============================] - 0s 28ms/step\n",
      "1/1 [==============================] - 0s 30ms/step\n",
      "1/1 [==============================] - 0s 31ms/step\n",
      "1/1 [==============================] - 0s 31ms/step\n",
      "1/1 [==============================] - 0s 32ms/step\n",
      "1/1 [==============================] - 0s 30ms/step\n",
      "1/1 [==============================] - 0s 30ms/step\n",
      "1/1 [==============================] - 0s 31ms/step\n",
      "1/1 [==============================] - 0s 31ms/step\n",
      "1/1 [==============================] - 0s 31ms/step\n",
      "1/1 [==============================] - 0s 31ms/step\n",
      "1/1 [==============================] - 0s 31ms/step\n",
      "1/1 [==============================] - 0s 30ms/step\n",
      "1/1 [==============================] - 0s 29ms/step\n",
      "1/1 [==============================] - 0s 31ms/step\n",
      "1/1 [==============================] - 0s 29ms/step\n",
      "1/1 [==============================] - 0s 30ms/step\n",
      "1/1 [==============================] - 0s 33ms/step\n",
      "1/1 [==============================] - 0s 34ms/step\n",
      "1/1 [==============================] - 0s 30ms/step\n",
      "1/1 [==============================] - 0s 33ms/step\n",
      "1/1 [==============================] - 0s 30ms/step\n",
      "1/1 [==============================] - 0s 28ms/step\n",
      "1/1 [==============================] - 0s 31ms/step\n",
      "1/1 [==============================] - 0s 30ms/step\n",
      "1/1 [==============================] - 0s 29ms/step\n",
      "1/1 [==============================] - 0s 29ms/step\n",
      "1/1 [==============================] - 0s 51ms/step\n",
      "1/1 [==============================] - 0s 39ms/step\n",
      "1/1 [==============================] - 0s 31ms/step\n",
      "1/1 [==============================] - 0s 29ms/step\n",
      "1/1 [==============================] - 0s 29ms/step\n",
      "1/1 [==============================] - 0s 34ms/step\n",
      "1/1 [==============================] - 0s 29ms/step\n",
      "1/1 [==============================] - 0s 30ms/step\n",
      "1/1 [==============================] - 0s 29ms/step\n",
      "1/1 [==============================] - 0s 30ms/step\n",
      "1/1 [==============================] - 0s 30ms/step\n",
      "1/1 [==============================] - 0s 28ms/step\n",
      "1/1 [==============================] - 0s 32ms/step\n",
      "1/1 [==============================] - 0s 32ms/step\n",
      "1/1 [==============================] - 0s 29ms/step\n",
      "1/1 [==============================] - 0s 35ms/step\n",
      "1/1 [==============================] - 0s 29ms/step\n",
      "1/1 [==============================] - 0s 32ms/step\n",
      "1/1 [==============================] - 0s 28ms/step\n",
      "1/1 [==============================] - 0s 27ms/step\n",
      "1/1 [==============================] - 0s 33ms/step\n",
      "1/1 [==============================] - 0s 32ms/step\n",
      "1/1 [==============================] - 0s 30ms/step\n",
      "1/1 [==============================] - 0s 36ms/step\n",
      "1/1 [==============================] - 0s 35ms/step\n",
      "1/1 [==============================] - 0s 28ms/step\n",
      "1/1 [==============================] - 0s 29ms/step\n",
      "1/1 [==============================] - 0s 29ms/step\n",
      "1/1 [==============================] - 0s 29ms/step\n"
     ]
    },
    {
     "data": {
      "image/png": "[encoded data removed]",
      "text/plain": [
       "<Figure size 432x288 with 1 Axes>"
      ]
     },
     "metadata": {
      "needs_background": "light"
     },
     "output_type": "display_data"
    }
   ],
   "source": [
    "qrtest = np.linspace(0.001, 0.9, 100)\n",
    "\n",
    "prediccion = np.zeros(len(qrtest))\n",
    "vc = np.zeros(len(qrtest))\n",
    "for i in range(len(qrtest)):\n",
    "  vc[i] =  rs(f, args=(qrtest[i]), x0=0.1, x1=0.2).root\n",
    "  prediccion[i] = linearmodel.predict([qrtest[i]])[0][0]\n",
    "\n",
    "\n",
    "plt.figure()\n",
    "plt.plot(qr, roots, label='Training data')\n",
    "plt.plot(qrtest, prediccion, label='Predicted data')\n",
    "plt.xlabel(r'$q$')\n",
    "plt.ylabel(r'$\\ell_1$')\n",
    "plt.legend()\n",
    "plt.show()"
   ]
  },
  {
   "cell_type": "markdown",
   "metadata": {
    "id": "JIBmOs52etjm"
   },
   "source": [
    "It is clear that a linear model will never fit this dataset. Therefore, we will introduce a non-linear model of neural network."
   ]
  },
  {
   "cell_type": "markdown",
   "metadata": {
    "id": "ldl0J-07InOb"
   },
   "source": [
    "---\n",
    "## Modelling the non-linear problem using a multiple layer Neural Network with activation functions\n",
    "\n",
    "Now we will use the framework `Keras` to define a non-linear neural network with 7 hidden dense layers incorporating a ReLU activation function and an output layer with a sigmoid activation function. Note that the input layer has only one neuron, while the number of neurons in the hidden layer will be 128, 64, 64, 32, 64, 64 an 128. Finally, the output layer will have just one neuron to give the scalar result.\n",
    "\n",
    "It is also important to note that we will use a [Sequential Model](https://keras.io/guides/sequential_model/), in which each simple layer has exactly one inpout tensor and one  output tensor."
   ]
  },
  {
   "cell_type": "code",
   "execution_count": 6,
   "metadata": {
    "executionInfo": {
     "elapsed": 393,
     "status": "ok",
     "timestamp": 1668637359508,
     "user": {
      "displayName": "Eduard Alexis Larranaga",
      "userId": "04402438389940282602"
     },
     "user_tz": 300
    },
    "id": "PaN0wR7AE5_V"
   },
   "outputs": [],
   "source": [
    "model = tf.keras.Sequential()\n",
    "\n",
    "model.add(tf.keras.layers.Dense(units=128, input_shape=[1], activation='relu'))\n",
    "model.add(tf.keras.layers.Dense(units=64, activation='relu'))\n",
    "model.add(tf.keras.layers.Dense(units=64, activation='relu'))\n",
    "model.add(tf.keras.layers.Dense(units=32, activation='relu'))\n",
    "model.add(tf.keras.layers.Dense(units=64, activation='relu'))\n",
    "model.add(tf.keras.layers.Dense(units=64, activation='relu'))\n",
    "model.add(tf.keras.layers.Dense(units=128, activation='relu'))\n",
    "\n",
    "model.add(tf.keras.layers.Dense(units=1, activation='sigmoid'))"
   ]
  },
  {
   "cell_type": "markdown",
   "metadata": {
    "id": "AkNoq8q6GVIA"
   },
   "source": [
    "### Activation Functions\n",
    "\n",
    "Keras includes many [activation functions](https://keras.io/api/layers/activations/).\n",
    "\n",
    "<img src=\"https://miro.medium.com/max/1400/1*p_hyqAtyI8pbt2kEl6siOQ.png\" />\n"
   ]
  },
  {
   "cell_type": "markdown",
   "metadata": {
    "id": "czlH-WguJ8lq"
   },
   "source": [
    "Now we compile the model using and ADAM optimizer, a 'mean_squared_error' loss function and we will train the model using a small learning rate and 250 epochs,"
   ]
  },
  {
   "cell_type": "code",
   "execution_count": 7,
   "metadata": {
    "colab": {
     "base_uri": "https://localhost:8080/"
    },
    "executionInfo": {
     "elapsed": 2425,
     "status": "ok",
     "timestamp": 1668637435756,
     "user": {
      "displayName": "Eduard Alexis Larranaga",
      "userId": "04402438389940282602"
     },
     "user_tz": 300
    },
    "id": "7kiJjMLRKScL",
    "outputId": "62bad139-2c3a-46f7-da83-b04ad3b7810c"
   },
   "outputs": [
    {
     "name": "stdout",
     "output_type": "stream",
     "text": [
      "Training...\n",
      "Model is ready!!\n"
     ]
    }
   ],
   "source": [
    "model.compile(\n",
    "    optimizer = tf.keras.optimizers.Adam(),\n",
    "    loss = 'mean_squared_error'\n",
    ")\n",
    "\n",
    "\n",
    "print('Training...')\n",
    "historial = model.fit(qr, roots, epochs = 400, verbose=False)\n",
    "print('Model is ready!!')"
   ]
  },
  {
   "cell_type": "markdown",
   "metadata": {
    "id": "PraqwI8rO4JB"
   },
   "source": [
    "The training history of the model shows the loss function magnitude at each epoch,"
   ]
  },
  {
   "cell_type": "code",
   "execution_count": 8,
   "metadata": {
    "colab": {
     "base_uri": "https://localhost:8080/",
     "height": 296
    },
    "executionInfo": {
     "elapsed": 370,
     "status": "ok",
     "timestamp": 1668637444433,
     "user": {
      "displayName": "Eduard Alexis Larranaga",
      "userId": "04402438389940282602"
     },
     "user_tz": 300
    },
    "id": "4UF3TNPXE7S3",
    "outputId": "81e3e54d-1a20-4b9b-fd2c-429a169a7043"
   },
   "outputs": [
    {
     "data": {
      "text/plain": [
       "[<matplotlib.lines.Line2D at 0x7f07b7bb4d90>]"
      ]
     },
     "execution_count": 8,
     "metadata": {},
     "output_type": "execute_result"
    },
    {
     "data": {
      "image/png": "[encoded data removed]",
      "text/plain": [
       "<Figure size 432x288 with 1 Axes>"
      ]
     },
     "metadata": {
      "needs_background": "light"
     },
     "output_type": "display_data"
    }
   ],
   "source": [
    "plt.xlabel('Epoch')\n",
    "plt.ylabel('Loss function Magnitude')\n",
    "plt.plot(historial.history['loss'])"
   ]
  },
  {
   "cell_type": "markdown",
   "metadata": {
    "id": "tFsFW8PORayl"
   },
   "source": [
    "Let us introduce a random value for $q$ to probe the prediction of the model,"
   ]
  },
  {
   "cell_type": "code",
   "execution_count": 9,
   "metadata": {
    "colab": {
     "base_uri": "https://localhost:8080/"
    },
    "executionInfo": {
     "elapsed": 264,
     "status": "ok",
     "timestamp": 1668637491564,
     "user": {
      "displayName": "Eduard Alexis Larranaga",
      "userId": "04402438389940282602"
     },
     "user_tz": 300
    },
    "id": "mLOaatIuE8ja",
    "outputId": "4ce35331-256d-404e-9846-4800a3502d10"
   },
   "outputs": [
    {
     "name": "stdout",
     "output_type": "stream",
     "text": [
      "1/1 [==============================] - 0s 92ms/step\n",
      "Prediction of the model  =  [[0.74529]]\n",
      "Target (root) =  0.7466407642109377\n"
     ]
    }
   ],
   "source": [
    "q0 = 0.06\n",
    "\n",
    "prediction = model.predict([q0])\n",
    "\n",
    "target_root =  rs(f, args=(q0), x0=0.1, x1=0.2).root\n",
    "\n",
    "\n",
    "print('Prediction of the model  = ', prediction)\n",
    "print('Target (root) = ', target_root)"
   ]
  },
  {
   "cell_type": "markdown",
   "metadata": {
    "id": "CBUNzTz4THzI"
   },
   "source": [
    "It seems that the prediction is not perfect...\n",
    "\n",
    "However, let us probe the model by calculating the (porcentual) relative error in the range $q \\in [0,1]$\n"
   ]
  },
  {
   "cell_type": "code",
   "execution_count": 12,
   "metadata": {
    "colab": {
     "base_uri": "https://localhost:8080/",
     "height": 1000
    },
    "executionInfo": {
     "elapsed": 7015,
     "status": "ok",
     "timestamp": 1668637646978,
     "user": {
      "displayName": "Eduard Alexis Larranaga",
      "userId": "04402438389940282602"
     },
     "user_tz": 300
    },
    "id": "f-159WqVE999",
    "outputId": "e47ddc64-2ff1-4ed2-ce3b-caf5c383bbb4"
   },
   "outputs": [
    {
     "name": "stdout",
     "output_type": "stream",
     "text": [
      "1/1 [==============================] - 0s 49ms/step\n",
      "1/1 [==============================] - 0s 42ms/step\n",
      "1/1 [==============================] - 0s 31ms/step\n",
      "1/1 [==============================] - 0s 30ms/step\n",
      "1/1 [==============================] - 0s 32ms/step\n",
      "1/1 [==============================] - 0s 28ms/step\n",
      "1/1 [==============================] - 0s 30ms/step\n",
      "1/1 [==============================] - 0s 28ms/step\n",
      "1/1 [==============================] - 0s 34ms/step\n",
      "1/1 [==============================] - 0s 28ms/step\n",
      "1/1 [==============================] - 0s 29ms/step\n",
      "1/1 [==============================] - 0s 29ms/step\n",
      "1/1 [==============================] - 0s 28ms/step\n",
      "1/1 [==============================] - 0s 33ms/step\n",
      "1/1 [==============================] - 0s 29ms/step\n",
      "1/1 [==============================] - 0s 30ms/step\n",
      "1/1 [==============================] - 0s 28ms/step\n",
      "1/1 [==============================] - 0s 36ms/step\n",
      "1/1 [==============================] - 0s 30ms/step\n",
      "1/1 [==============================] - 0s 27ms/step\n",
      "1/1 [==============================] - 0s 29ms/step\n",
      "1/1 [==============================] - 0s 33ms/step\n",
      "1/1 [==============================] - 0s 27ms/step\n",
      "1/1 [==============================] - 0s 27ms/step\n",
      "1/1 [==============================] - 0s 27ms/step\n",
      "1/1 [==============================] - 0s 27ms/step\n",
      "1/1 [==============================] - 0s 27ms/step\n",
      "1/1 [==============================] - 0s 27ms/step\n",
      "1/1 [==============================] - 0s 36ms/step\n",
      "1/1 [==============================] - 0s 34ms/step\n",
      "1/1 [==============================] - 0s 31ms/step\n",
      "1/1 [==============================] - 0s 27ms/step\n",
      "1/1 [==============================] - 0s 28ms/step\n",
      "1/1 [==============================] - 0s 31ms/step\n",
      "1/1 [==============================] - 0s 27ms/step\n",
      "1/1 [==============================] - 0s 27ms/step\n",
      "1/1 [==============================] - 0s 29ms/step\n",
      "1/1 [==============================] - 0s 28ms/step\n",
      "1/1 [==============================] - 0s 28ms/step\n",
      "1/1 [==============================] - 0s 29ms/step\n",
      "1/1 [==============================] - 0s 42ms/step\n",
      "1/1 [==============================] - 0s 28ms/step\n",
      "1/1 [==============================] - 0s 29ms/step\n",
      "1/1 [==============================] - 0s 29ms/step\n",
      "1/1 [==============================] - 0s 33ms/step\n",
      "1/1 [==============================] - 0s 32ms/step\n",
      "1/1 [==============================] - 0s 28ms/step\n",
      "1/1 [==============================] - 0s 33ms/step\n",
      "1/1 [==============================] - 0s 29ms/step\n",
      "1/1 [==============================] - 0s 27ms/step\n",
      "1/1 [==============================] - 0s 27ms/step\n",
      "1/1 [==============================] - 0s 27ms/step\n",
      "1/1 [==============================] - 0s 28ms/step\n",
      "1/1 [==============================] - 0s 27ms/step\n",
      "1/1 [==============================] - 0s 35ms/step\n",
      "1/1 [==============================] - 0s 28ms/step\n",
      "1/1 [==============================] - 0s 29ms/step\n",
      "1/1 [==============================] - 0s 28ms/step\n",
      "1/1 [==============================] - 0s 26ms/step\n",
      "1/1 [==============================] - 0s 27ms/step\n",
      "1/1 [==============================] - 0s 30ms/step\n",
      "1/1 [==============================] - 0s 28ms/step\n",
      "1/1 [==============================] - 0s 36ms/step\n",
      "1/1 [==============================] - 0s 28ms/step\n",
      "1/1 [==============================] - 0s 28ms/step\n",
      "1/1 [==============================] - 0s 31ms/step\n",
      "1/1 [==============================] - 0s 29ms/step\n",
      "1/1 [==============================] - 0s 30ms/step\n",
      "1/1 [==============================] - 0s 32ms/step\n",
      "1/1 [==============================] - 0s 31ms/step\n",
      "1/1 [==============================] - 0s 31ms/step\n",
      "1/1 [==============================] - 0s 33ms/step\n",
      "1/1 [==============================] - 0s 27ms/step\n",
      "1/1 [==============================] - 0s 29ms/step\n",
      "1/1 [==============================] - 0s 29ms/step\n",
      "1/1 [==============================] - 0s 31ms/step\n",
      "1/1 [==============================] - 0s 29ms/step\n",
      "1/1 [==============================] - 0s 31ms/step\n",
      "1/1 [==============================] - 0s 29ms/step\n",
      "1/1 [==============================] - 0s 28ms/step\n",
      "1/1 [==============================] - 0s 33ms/step\n",
      "1/1 [==============================] - 0s 26ms/step\n",
      "1/1 [==============================] - 0s 27ms/step\n",
      "1/1 [==============================] - 0s 25ms/step\n",
      "1/1 [==============================] - 0s 29ms/step\n",
      "1/1 [==============================] - 0s 27ms/step\n",
      "1/1 [==============================] - 0s 28ms/step\n",
      "1/1 [==============================] - 0s 33ms/step\n",
      "1/1 [==============================] - 0s 34ms/step\n",
      "1/1 [==============================] - 0s 31ms/step\n",
      "1/1 [==============================] - 0s 31ms/step\n",
      "1/1 [==============================] - 0s 29ms/step\n",
      "1/1 [==============================] - 0s 28ms/step\n",
      "1/1 [==============================] - 0s 30ms/step\n",
      "1/1 [==============================] - 0s 29ms/step\n",
      "1/1 [==============================] - 0s 28ms/step\n",
      "1/1 [==============================] - 0s 29ms/step\n",
      "1/1 [==============================] - 0s 27ms/step\n",
      "1/1 [==============================] - 0s 30ms/step\n",
      "1/1 [==============================] - 0s 28ms/step\n"
     ]
    },
    {
     "data": {
      "image/png": "[encoded data removed]",
      "text/plain": [
       "<Figure size 432x288 with 1 Axes>"
      ]
     },
     "metadata": {
      "needs_background": "light"
     },
     "output_type": "display_data"
    }
   ],
   "source": [
    "qrtest = np.linspace(0.001, 0.99, 100)\n",
    "\n",
    "prediction = np.zeros(len(qrtest))\n",
    "vc = np.zeros(len(qrtest))\n",
    "for i in range(len(qrtest)):\n",
    "  vc[i] =  rs(f, args=(qrtest[i]), x0=0.1, x1=0.2).root\n",
    "  prediction[i] = model.predict([qrtest[i]])[0][0]\n",
    "\n",
    "\n",
    "plt.xlabel(r'q')\n",
    "plt.ylabel('% error')\n",
    "plt.plot(qrtest, abs((prediction-vc)/vc)*100)\n",
    "plt.show()"
   ]
  },
  {
   "cell_type": "code",
   "execution_count": 13,
   "metadata": {
    "colab": {
     "base_uri": "https://localhost:8080/",
     "height": 281
    },
    "executionInfo": {
     "elapsed": 883,
     "status": "ok",
     "timestamp": 1668637654714,
     "user": {
      "displayName": "Eduard Alexis Larranaga",
      "userId": "04402438389940282602"
     },
     "user_tz": 300
    },
    "id": "A2P9abBgf2B7",
    "outputId": "0cb7f691-1322-43c0-c098-35757877e647"
   },
   "outputs": [
    {
     "data": {
      "image/png": "[encoded data removed]",
      "text/plain": [
       "<Figure size 432x288 with 1 Axes>"
      ]
     },
     "metadata": {
      "needs_background": "light"
     },
     "output_type": "display_data"
    }
   ],
   "source": [
    "plt.figure()\n",
    "\n",
    "plt.plot(qr,roots, label='Training data')\n",
    "plt.plot(qrtest,prediction, label='Predicted data')\n",
    "plt.xlabel(r'$q$')\n",
    "plt.ylabel(r'$\\ell_1$')\n",
    "plt.legend()\n",
    "plt.show()"
   ]
  },
  {
   "cell_type": "markdown",
   "metadata": {
    "id": "2LHQAPCbIviY"
   },
   "source": [
    "In order to imrpove the model, we can use more epochs in the training (try 400)."
   ]
  },
  {
   "cell_type": "code",
   "execution_count": null,
   "metadata": {
    "id": "IlLCMLDb5YaT"
   },
   "outputs": [],
   "source": []
  }
 ],
 "metadata": {
  "colab": {
   "authorship_tag": "ABX9TyMVAzf6ZQ61As0q65kRDGrk",
   "provenance": []
  },
  "kernelspec": {
   "display_name": "Python 3 (ipykernel)",
   "language": "python",
   "name": "python3"
  },
  "language_info": {
   "codemirror_mode": {
    "name": "ipython",
    "version": 3
   },
   "file_extension": ".py",
   "mimetype": "text/x-python",
   "name": "python",
   "nbconvert_exporter": "python",
   "pygments_lexer": "ipython3",
   "version": "3.10.9"
  }
 },
 "nbformat": 4,
 "nbformat_minor": 1
}
