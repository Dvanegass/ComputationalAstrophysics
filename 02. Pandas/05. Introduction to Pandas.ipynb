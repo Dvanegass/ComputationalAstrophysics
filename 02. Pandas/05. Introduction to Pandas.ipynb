{
 "cells": [
  {
   "cell_type": "markdown",
   "metadata": {},
   "source": [
    "![Astrofisica Computacional](../logo.png)"
   ]
  },
  {
   "cell_type": "markdown",
   "metadata": {},
   "source": [
    "---\n",
    "## 05. Introduction to `Pandas`\n",
    "\n",
    "Eduard Larrañaga (ealarranaga@unal.edu.co)\n",
    "\n",
    "---"
   ]
  },
  {
   "cell_type": "markdown",
   "metadata": {},
   "source": [
    "### About this notebook\n",
    "\n",
    "In this notebook we present an introduction to the package `pandas`\n",
    "\n",
    "---"
   ]
  },
  {
   "cell_type": "code",
   "execution_count": 2,
   "metadata": {
    "slideshow": {
     "slide_type": "slide"
    },
    "tags": []
   },
   "outputs": [],
   "source": [
    "%matplotlib inline\n",
    "import pandas as pd\n",
    "import numpy as np\n",
    "import matplotlib as ml\n",
    "import sys\n",
    "\n",
    "plt = ml.pyplot # matplotlib.pyplot as plt\n",
    "# Defines the figure size for all the notebook\n",
    "ml.rcParams['figure.figsize'] = (10.0, 5.0) \n",
    "\n",
    "\n",
    "rng = np.random.default_rng(413)  # Initialise our random number generator"
   ]
  },
  {
   "cell_type": "markdown",
   "metadata": {
    "slideshow": {
     "slide_type": "slide"
    }
   },
   "source": [
    "## The `Dataframe` in `Pandas`"
   ]
  },
  {
   "cell_type": "code",
   "execution_count": 3,
   "metadata": {},
   "outputs": [
    {
     "data": {
      "text/html": [
       "<div>\n",
       "<style scoped>\n",
       "    .dataframe tbody tr th:only-of-type {\n",
       "        vertical-align: middle;\n",
       "    }\n",
       "\n",
       "    .dataframe tbody tr th {\n",
       "        vertical-align: top;\n",
       "    }\n",
       "\n",
       "    .dataframe thead th {\n",
       "        text-align: right;\n",
       "    }\n",
       "</style>\n",
       "<table border=\"1\" class=\"dataframe\">\n",
       "  <thead>\n",
       "    <tr style=\"text-align: right;\">\n",
       "      <th></th>\n",
       "      <th>0</th>\n",
       "    </tr>\n",
       "  </thead>\n",
       "  <tbody>\n",
       "    <tr>\n",
       "      <th>0</th>\n",
       "      <td>1</td>\n",
       "    </tr>\n",
       "    <tr>\n",
       "      <th>1</th>\n",
       "      <td>2</td>\n",
       "    </tr>\n",
       "    <tr>\n",
       "      <th>2</th>\n",
       "      <td>3</td>\n",
       "    </tr>\n",
       "    <tr>\n",
       "      <th>3</th>\n",
       "      <td>4</td>\n",
       "    </tr>\n",
       "  </tbody>\n",
       "</table>\n",
       "</div>"
      ],
      "text/plain": [
       "   0\n",
       "0  1\n",
       "1  2\n",
       "2  3\n",
       "3  4"
      ]
     },
     "execution_count": 3,
     "metadata": {},
     "output_type": "execute_result"
    }
   ],
   "source": [
    "data = [1, 2, 3, 4]\n",
    "pd.DataFrame(data)"
   ]
  },
  {
   "cell_type": "code",
   "execution_count": 199,
   "metadata": {
    "slideshow": {
     "slide_type": "fragment"
    },
    "tags": []
   },
   "outputs": [],
   "source": [
    "# Some data about planets\n",
    "# mass in [Earth masses]\n",
    "# orbital period in [Earth years]\n",
    "# mean distance tu Sun in [au]\n",
    "\n",
    "data = {'name': ['Earth', 'Mars', 'Jupiter'],\n",
    "        'mass': [1., 0.107, 317.8],\n",
    "        'period': [1., 1.88, 11.86],\n",
    "        'distance': [1., 1.5, 5.2]}"
   ]
  },
  {
   "cell_type": "code",
   "execution_count": 200,
   "metadata": {
    "slideshow": {
     "slide_type": "fragment"
    },
    "tags": []
   },
   "outputs": [
    {
     "data": {
      "text/html": [
       "<div>\n",
       "<style scoped>\n",
       "    .dataframe tbody tr th:only-of-type {\n",
       "        vertical-align: middle;\n",
       "    }\n",
       "\n",
       "    .dataframe tbody tr th {\n",
       "        vertical-align: top;\n",
       "    }\n",
       "\n",
       "    .dataframe thead th {\n",
       "        text-align: right;\n",
       "    }\n",
       "</style>\n",
       "<table border=\"1\" class=\"dataframe\">\n",
       "  <thead>\n",
       "    <tr style=\"text-align: right;\">\n",
       "      <th></th>\n",
       "      <th>name</th>\n",
       "      <th>mass</th>\n",
       "      <th>period</th>\n",
       "      <th>distance</th>\n",
       "    </tr>\n",
       "  </thead>\n",
       "  <tbody>\n",
       "    <tr>\n",
       "      <th>0</th>\n",
       "      <td>Earth</td>\n",
       "      <td>1.000</td>\n",
       "      <td>1.00</td>\n",
       "      <td>1.0</td>\n",
       "    </tr>\n",
       "    <tr>\n",
       "      <th>1</th>\n",
       "      <td>Mars</td>\n",
       "      <td>0.107</td>\n",
       "      <td>1.88</td>\n",
       "      <td>1.5</td>\n",
       "    </tr>\n",
       "    <tr>\n",
       "      <th>2</th>\n",
       "      <td>Jupiter</td>\n",
       "      <td>317.800</td>\n",
       "      <td>11.86</td>\n",
       "      <td>5.2</td>\n",
       "    </tr>\n",
       "  </tbody>\n",
       "</table>\n",
       "</div>"
      ],
      "text/plain": [
       "      name     mass  period  distance\n",
       "0    Earth    1.000    1.00       1.0\n",
       "1     Mars    0.107    1.88       1.5\n",
       "2  Jupiter  317.800   11.86       5.2"
      ]
     },
     "execution_count": 200,
     "metadata": {},
     "output_type": "execute_result"
    }
   ],
   "source": [
    "df = pd.DataFrame(data)\n",
    "df"
   ]
  },
  {
   "cell_type": "code",
   "execution_count": 8,
   "metadata": {
    "slideshow": {
     "slide_type": "fragment"
    }
   },
   "outputs": [
    {
     "data": {
      "text/plain": [
       "pandas.core.frame.DataFrame"
      ]
     },
     "execution_count": 8,
     "metadata": {},
     "output_type": "execute_result"
    }
   ],
   "source": [
    "type(df)"
   ]
  },
  {
   "cell_type": "markdown",
   "metadata": {
    "slideshow": {
     "slide_type": "subslide"
    }
   },
   "source": [
    "### Accesing Features  (`Series`)"
   ]
  },
  {
   "cell_type": "code",
   "execution_count": 201,
   "metadata": {
    "slideshow": {
     "slide_type": "fragment"
    }
   },
   "outputs": [
    {
     "data": {
      "text/plain": [
       "0      1.000\n",
       "1      0.107\n",
       "2    317.800\n",
       "Name: mass, dtype: float64"
      ]
     },
     "execution_count": 201,
     "metadata": {},
     "output_type": "execute_result"
    }
   ],
   "source": [
    "df['mass']"
   ]
  },
  {
   "cell_type": "code",
   "execution_count": 10,
   "metadata": {
    "slideshow": {
     "slide_type": "fragment"
    }
   },
   "outputs": [
    {
     "data": {
      "text/plain": [
       "pandas.core.series.Series"
      ]
     },
     "execution_count": 10,
     "metadata": {},
     "output_type": "execute_result"
    }
   ],
   "source": [
    "type(df['mass'])  "
   ]
  },
  {
   "cell_type": "code",
   "execution_count": 12,
   "metadata": {
    "slideshow": {
     "slide_type": "fragment"
    }
   },
   "outputs": [
    {
     "data": {
      "text/plain": [
       "0    5.972000e+24\n",
       "1    6.390040e+23\n",
       "2    1.897902e+27\n",
       "Name: mass, dtype: float64"
      ]
     },
     "execution_count": 12,
     "metadata": {},
     "output_type": "execute_result"
    }
   ],
   "source": [
    "df['mass'] * 5.972e24"
   ]
  },
  {
   "cell_type": "code",
   "execution_count": 13,
   "metadata": {
    "scrolled": true,
    "slideshow": {
     "slide_type": "fragment"
    }
   },
   "outputs": [
    {
     "data": {
      "text/plain": [
       "0    0.000000\n",
       "1    0.405465\n",
       "2    1.648659\n",
       "Name: distance, dtype: float64"
      ]
     },
     "execution_count": 13,
     "metadata": {},
     "output_type": "execute_result"
    }
   ],
   "source": [
    "np.log(df['distance'])"
   ]
  },
  {
   "cell_type": "code",
   "execution_count": 203,
   "metadata": {},
   "outputs": [
    {
     "data": {
      "text/html": [
       "<div>\n",
       "<style scoped>\n",
       "    .dataframe tbody tr th:only-of-type {\n",
       "        vertical-align: middle;\n",
       "    }\n",
       "\n",
       "    .dataframe tbody tr th {\n",
       "        vertical-align: top;\n",
       "    }\n",
       "\n",
       "    .dataframe thead th {\n",
       "        text-align: right;\n",
       "    }\n",
       "</style>\n",
       "<table border=\"1\" class=\"dataframe\">\n",
       "  <thead>\n",
       "    <tr style=\"text-align: right;\">\n",
       "      <th></th>\n",
       "      <th>mass</th>\n",
       "      <th>distance</th>\n",
       "    </tr>\n",
       "  </thead>\n",
       "  <tbody>\n",
       "    <tr>\n",
       "      <th>0</th>\n",
       "      <td>1.000</td>\n",
       "      <td>1.0</td>\n",
       "    </tr>\n",
       "    <tr>\n",
       "      <th>1</th>\n",
       "      <td>0.107</td>\n",
       "      <td>1.5</td>\n",
       "    </tr>\n",
       "    <tr>\n",
       "      <th>2</th>\n",
       "      <td>317.800</td>\n",
       "      <td>5.2</td>\n",
       "    </tr>\n",
       "  </tbody>\n",
       "</table>\n",
       "</div>"
      ],
      "text/plain": [
       "      mass  distance\n",
       "0    1.000       1.0\n",
       "1    0.107       1.5\n",
       "2  317.800       5.2"
      ]
     },
     "execution_count": 203,
     "metadata": {},
     "output_type": "execute_result"
    }
   ],
   "source": [
    "df[['mass','distance']]"
   ]
  },
  {
   "cell_type": "markdown",
   "metadata": {},
   "source": [
    "Generating some series using random numbers"
   ]
  },
  {
   "cell_type": "code",
   "execution_count": 14,
   "metadata": {
    "scrolled": true,
    "slideshow": {
     "slide_type": "subslide"
    }
   },
   "outputs": [
    {
     "data": {
      "text/plain": [
       "0    2\n",
       "1    0\n",
       "2    5\n",
       "3    4\n",
       "4    8\n",
       "5    0\n",
       "6    4\n",
       "7    0\n",
       "8    8\n",
       "9    9\n",
       "dtype: int64"
      ]
     },
     "execution_count": 14,
     "metadata": {},
     "output_type": "execute_result"
    }
   ],
   "source": [
    "s = pd.Series(rng.integers(0, 10, 10))\n",
    "s"
   ]
  },
  {
   "cell_type": "markdown",
   "metadata": {},
   "source": [
    "We can sort the series. Note that the indices are kept the same as in the original series."
   ]
  },
  {
   "cell_type": "code",
   "execution_count": 16,
   "metadata": {
    "scrolled": true,
    "slideshow": {
     "slide_type": "fragment"
    }
   },
   "outputs": [
    {
     "data": {
      "text/plain": [
       "1    0\n",
       "5    0\n",
       "7    0\n",
       "0    2\n",
       "3    4\n",
       "6    4\n",
       "2    5\n",
       "4    8\n",
       "8    8\n",
       "9    9\n",
       "dtype: int64"
      ]
     },
     "execution_count": 16,
     "metadata": {},
     "output_type": "execute_result"
    }
   ],
   "source": [
    "sorted_s = s.sort_values()\n",
    "sorted_s"
   ]
  },
  {
   "cell_type": "markdown",
   "metadata": {},
   "source": [
    "If we multiply series s by the sorted series, the product is obtained using the indices.\n",
    "    "
   ]
  },
  {
   "cell_type": "code",
   "execution_count": 17,
   "metadata": {
    "scrolled": true,
    "slideshow": {
     "slide_type": "fragment"
    }
   },
   "outputs": [
    {
     "data": {
      "text/plain": [
       "0     4\n",
       "1     0\n",
       "2    25\n",
       "3    16\n",
       "4    64\n",
       "5     0\n",
       "6    16\n",
       "7     0\n",
       "8    64\n",
       "9    81\n",
       "dtype: int64"
      ]
     },
     "execution_count": 17,
     "metadata": {},
     "output_type": "execute_result"
    }
   ],
   "source": [
    "s * s.sort_values() "
   ]
  },
  {
   "cell_type": "markdown",
   "metadata": {},
   "source": [
    "It is also possible to reset the indices after sorting the values: "
   ]
  },
  {
   "cell_type": "code",
   "execution_count": 18,
   "metadata": {},
   "outputs": [
    {
     "data": {
      "text/plain": [
       "0    0\n",
       "1    0\n",
       "2    0\n",
       "3    2\n",
       "4    4\n",
       "5    4\n",
       "6    5\n",
       "7    8\n",
       "8    8\n",
       "9    9\n",
       "dtype: int64"
      ]
     },
     "execution_count": 18,
     "metadata": {},
     "output_type": "execute_result"
    }
   ],
   "source": [
    "new_sorted_s = s.sort_values().reset_index(drop=True)\n",
    "new_sorted_s"
   ]
  },
  {
   "cell_type": "code",
   "execution_count": 19,
   "metadata": {
    "slideshow": {
     "slide_type": "subslide"
    }
   },
   "outputs": [
    {
     "data": {
      "text/plain": [
       "0     0\n",
       "1     0\n",
       "2     0\n",
       "3     8\n",
       "4    32\n",
       "5     0\n",
       "6    20\n",
       "7     0\n",
       "8    64\n",
       "9    81\n",
       "dtype: int64"
      ]
     },
     "execution_count": 19,
     "metadata": {},
     "output_type": "execute_result"
    }
   ],
   "source": [
    "s * new_sorted_s"
   ]
  },
  {
   "cell_type": "markdown",
   "metadata": {
    "slideshow": {
     "slide_type": "slide"
    }
   },
   "source": [
    "## Examining a `DataFrame`"
   ]
  },
  {
   "cell_type": "code",
   "execution_count": 20,
   "metadata": {
    "slideshow": {
     "slide_type": "fragment"
    }
   },
   "outputs": [
    {
     "data": {
      "text/html": [
       "<div>\n",
       "<style scoped>\n",
       "    .dataframe tbody tr th:only-of-type {\n",
       "        vertical-align: middle;\n",
       "    }\n",
       "\n",
       "    .dataframe tbody tr th {\n",
       "        vertical-align: top;\n",
       "    }\n",
       "\n",
       "    .dataframe thead th {\n",
       "        text-align: right;\n",
       "    }\n",
       "</style>\n",
       "<table border=\"1\" class=\"dataframe\">\n",
       "  <thead>\n",
       "    <tr style=\"text-align: right;\">\n",
       "      <th></th>\n",
       "      <th>name</th>\n",
       "      <th>mass</th>\n",
       "      <th>period</th>\n",
       "      <th>distance</th>\n",
       "    </tr>\n",
       "  </thead>\n",
       "  <tbody>\n",
       "    <tr>\n",
       "      <th>0</th>\n",
       "      <td>Earth</td>\n",
       "      <td>1.000</td>\n",
       "      <td>1.00</td>\n",
       "      <td>1.0</td>\n",
       "    </tr>\n",
       "    <tr>\n",
       "      <th>1</th>\n",
       "      <td>Mars</td>\n",
       "      <td>0.107</td>\n",
       "      <td>1.88</td>\n",
       "      <td>1.5</td>\n",
       "    </tr>\n",
       "    <tr>\n",
       "      <th>2</th>\n",
       "      <td>Jupiter</td>\n",
       "      <td>317.800</td>\n",
       "      <td>11.86</td>\n",
       "      <td>5.2</td>\n",
       "    </tr>\n",
       "  </tbody>\n",
       "</table>\n",
       "</div>"
      ],
      "text/plain": [
       "      name     mass  period  distance\n",
       "0    Earth    1.000    1.00       1.0\n",
       "1     Mars    0.107    1.88       1.5\n",
       "2  Jupiter  317.800   11.86       5.2"
      ]
     },
     "execution_count": 20,
     "metadata": {},
     "output_type": "execute_result"
    }
   ],
   "source": [
    "df"
   ]
  },
  {
   "cell_type": "code",
   "execution_count": 21,
   "metadata": {
    "slideshow": {
     "slide_type": "fragment"
    }
   },
   "outputs": [
    {
     "data": {
      "text/plain": [
       "name         object\n",
       "mass        float64\n",
       "period      float64\n",
       "distance    float64\n",
       "dtype: object"
      ]
     },
     "execution_count": 21,
     "metadata": {},
     "output_type": "execute_result"
    }
   ],
   "source": [
    "df.dtypes"
   ]
  },
  {
   "cell_type": "code",
   "execution_count": 22,
   "metadata": {
    "slideshow": {
     "slide_type": "fragment"
    }
   },
   "outputs": [
    {
     "data": {
      "text/plain": [
       "Index(['name', 'mass', 'period', 'distance'], dtype='object')"
      ]
     },
     "execution_count": 22,
     "metadata": {},
     "output_type": "execute_result"
    }
   ],
   "source": [
    "df.columns"
   ]
  },
  {
   "cell_type": "code",
   "execution_count": 23,
   "metadata": {
    "slideshow": {
     "slide_type": "fragment"
    }
   },
   "outputs": [
    {
     "data": {
      "text/plain": [
       "(3, 4)"
      ]
     },
     "execution_count": 23,
     "metadata": {},
     "output_type": "execute_result"
    }
   ],
   "source": [
    "df.shape"
   ]
  },
  {
   "cell_type": "markdown",
   "metadata": {
    "slideshow": {
     "slide_type": "subslide"
    }
   },
   "source": [
    "### Looking into the data"
   ]
  },
  {
   "cell_type": "code",
   "execution_count": 24,
   "metadata": {
    "slideshow": {
     "slide_type": "fragment"
    }
   },
   "outputs": [
    {
     "data": {
      "text/html": [
       "<div>\n",
       "<style scoped>\n",
       "    .dataframe tbody tr th:only-of-type {\n",
       "        vertical-align: middle;\n",
       "    }\n",
       "\n",
       "    .dataframe tbody tr th {\n",
       "        vertical-align: top;\n",
       "    }\n",
       "\n",
       "    .dataframe thead th {\n",
       "        text-align: right;\n",
       "    }\n",
       "</style>\n",
       "<table border=\"1\" class=\"dataframe\">\n",
       "  <thead>\n",
       "    <tr style=\"text-align: right;\">\n",
       "      <th></th>\n",
       "      <th>name</th>\n",
       "      <th>mass</th>\n",
       "      <th>period</th>\n",
       "      <th>distance</th>\n",
       "    </tr>\n",
       "  </thead>\n",
       "  <tbody>\n",
       "    <tr>\n",
       "      <th>0</th>\n",
       "      <td>Earth</td>\n",
       "      <td>1.000</td>\n",
       "      <td>1.00</td>\n",
       "      <td>1.0</td>\n",
       "    </tr>\n",
       "    <tr>\n",
       "      <th>1</th>\n",
       "      <td>Mars</td>\n",
       "      <td>0.107</td>\n",
       "      <td>1.88</td>\n",
       "      <td>1.5</td>\n",
       "    </tr>\n",
       "  </tbody>\n",
       "</table>\n",
       "</div>"
      ],
      "text/plain": [
       "    name   mass  period  distance\n",
       "0  Earth  1.000    1.00       1.0\n",
       "1   Mars  0.107    1.88       1.5"
      ]
     },
     "execution_count": 24,
     "metadata": {},
     "output_type": "execute_result"
    }
   ],
   "source": [
    "df.head(2) # First entries"
   ]
  },
  {
   "cell_type": "code",
   "execution_count": 25,
   "metadata": {
    "slideshow": {
     "slide_type": "fragment"
    }
   },
   "outputs": [
    {
     "data": {
      "text/html": [
       "<div>\n",
       "<style scoped>\n",
       "    .dataframe tbody tr th:only-of-type {\n",
       "        vertical-align: middle;\n",
       "    }\n",
       "\n",
       "    .dataframe tbody tr th {\n",
       "        vertical-align: top;\n",
       "    }\n",
       "\n",
       "    .dataframe thead th {\n",
       "        text-align: right;\n",
       "    }\n",
       "</style>\n",
       "<table border=\"1\" class=\"dataframe\">\n",
       "  <thead>\n",
       "    <tr style=\"text-align: right;\">\n",
       "      <th></th>\n",
       "      <th>name</th>\n",
       "      <th>mass</th>\n",
       "      <th>period</th>\n",
       "      <th>distance</th>\n",
       "    </tr>\n",
       "  </thead>\n",
       "  <tbody>\n",
       "    <tr>\n",
       "      <th>1</th>\n",
       "      <td>Mars</td>\n",
       "      <td>0.107</td>\n",
       "      <td>1.88</td>\n",
       "      <td>1.5</td>\n",
       "    </tr>\n",
       "    <tr>\n",
       "      <th>2</th>\n",
       "      <td>Jupiter</td>\n",
       "      <td>317.800</td>\n",
       "      <td>11.86</td>\n",
       "      <td>5.2</td>\n",
       "    </tr>\n",
       "  </tbody>\n",
       "</table>\n",
       "</div>"
      ],
      "text/plain": [
       "      name     mass  period  distance\n",
       "1     Mars    0.107    1.88       1.5\n",
       "2  Jupiter  317.800   11.86       5.2"
      ]
     },
     "execution_count": 25,
     "metadata": {},
     "output_type": "execute_result"
    }
   ],
   "source": [
    "df.tail(2) # Last entries"
   ]
  },
  {
   "cell_type": "code",
   "execution_count": 26,
   "metadata": {
    "slideshow": {
     "slide_type": "slide"
    }
   },
   "outputs": [
    {
     "data": {
      "text/html": [
       "<div>\n",
       "<style scoped>\n",
       "    .dataframe tbody tr th:only-of-type {\n",
       "        vertical-align: middle;\n",
       "    }\n",
       "\n",
       "    .dataframe tbody tr th {\n",
       "        vertical-align: top;\n",
       "    }\n",
       "\n",
       "    .dataframe thead th {\n",
       "        text-align: right;\n",
       "    }\n",
       "</style>\n",
       "<table border=\"1\" class=\"dataframe\">\n",
       "  <thead>\n",
       "    <tr style=\"text-align: right;\">\n",
       "      <th></th>\n",
       "      <th>mass</th>\n",
       "      <th>period</th>\n",
       "      <th>distance</th>\n",
       "    </tr>\n",
       "  </thead>\n",
       "  <tbody>\n",
       "    <tr>\n",
       "      <th>count</th>\n",
       "      <td>3.000000</td>\n",
       "      <td>3.000000</td>\n",
       "      <td>3.000000</td>\n",
       "    </tr>\n",
       "    <tr>\n",
       "      <th>mean</th>\n",
       "      <td>106.302333</td>\n",
       "      <td>4.913333</td>\n",
       "      <td>2.566667</td>\n",
       "    </tr>\n",
       "    <tr>\n",
       "      <th>std</th>\n",
       "      <td>183.162896</td>\n",
       "      <td>6.032059</td>\n",
       "      <td>2.294196</td>\n",
       "    </tr>\n",
       "    <tr>\n",
       "      <th>min</th>\n",
       "      <td>0.107000</td>\n",
       "      <td>1.000000</td>\n",
       "      <td>1.000000</td>\n",
       "    </tr>\n",
       "    <tr>\n",
       "      <th>25%</th>\n",
       "      <td>0.553500</td>\n",
       "      <td>1.440000</td>\n",
       "      <td>1.250000</td>\n",
       "    </tr>\n",
       "    <tr>\n",
       "      <th>50%</th>\n",
       "      <td>1.000000</td>\n",
       "      <td>1.880000</td>\n",
       "      <td>1.500000</td>\n",
       "    </tr>\n",
       "    <tr>\n",
       "      <th>75%</th>\n",
       "      <td>159.400000</td>\n",
       "      <td>6.870000</td>\n",
       "      <td>3.350000</td>\n",
       "    </tr>\n",
       "    <tr>\n",
       "      <th>max</th>\n",
       "      <td>317.800000</td>\n",
       "      <td>11.860000</td>\n",
       "      <td>5.200000</td>\n",
       "    </tr>\n",
       "  </tbody>\n",
       "</table>\n",
       "</div>"
      ],
      "text/plain": [
       "             mass     period  distance\n",
       "count    3.000000   3.000000  3.000000\n",
       "mean   106.302333   4.913333  2.566667\n",
       "std    183.162896   6.032059  2.294196\n",
       "min      0.107000   1.000000  1.000000\n",
       "25%      0.553500   1.440000  1.250000\n",
       "50%      1.000000   1.880000  1.500000\n",
       "75%    159.400000   6.870000  3.350000\n",
       "max    317.800000  11.860000  5.200000"
      ]
     },
     "execution_count": 26,
     "metadata": {},
     "output_type": "execute_result"
    }
   ],
   "source": [
    "df.describe()"
   ]
  },
  {
   "cell_type": "markdown",
   "metadata": {
    "slideshow": {
     "slide_type": "slide"
    }
   },
   "source": [
    "## Indexing and Slicing\n",
    "\n",
    "There are different ways to index/slice data in pandas."
   ]
  },
  {
   "cell_type": "code",
   "execution_count": 32,
   "metadata": {
    "scrolled": true
   },
   "outputs": [
    {
     "data": {
      "text/html": [
       "<div>\n",
       "<style scoped>\n",
       "    .dataframe tbody tr th:only-of-type {\n",
       "        vertical-align: middle;\n",
       "    }\n",
       "\n",
       "    .dataframe tbody tr th {\n",
       "        vertical-align: top;\n",
       "    }\n",
       "\n",
       "    .dataframe thead th {\n",
       "        text-align: right;\n",
       "    }\n",
       "</style>\n",
       "<table border=\"1\" class=\"dataframe\">\n",
       "  <thead>\n",
       "    <tr style=\"text-align: right;\">\n",
       "      <th></th>\n",
       "      <th>name</th>\n",
       "      <th>mass</th>\n",
       "      <th>period</th>\n",
       "      <th>distance</th>\n",
       "    </tr>\n",
       "  </thead>\n",
       "  <tbody>\n",
       "    <tr>\n",
       "      <th>0</th>\n",
       "      <td>Earth</td>\n",
       "      <td>1.0</td>\n",
       "      <td>1.0</td>\n",
       "      <td>1.0</td>\n",
       "    </tr>\n",
       "  </tbody>\n",
       "</table>\n",
       "</div>"
      ],
      "text/plain": [
       "    name  mass  period  distance\n",
       "0  Earth   1.0     1.0       1.0"
      ]
     },
     "execution_count": 32,
     "metadata": {},
     "output_type": "execute_result"
    }
   ],
   "source": [
    "df[0:1]"
   ]
  },
  {
   "cell_type": "markdown",
   "metadata": {},
   "source": [
    "There are two interesting methods:"
   ]
  },
  {
   "cell_type": "code",
   "execution_count": 27,
   "metadata": {
    "slideshow": {
     "slide_type": "fragment"
    }
   },
   "outputs": [
    {
     "data": {
      "text/plain": [
       "<pandas.core.indexing._LocIndexer at 0x16541aea0>"
      ]
     },
     "execution_count": 27,
     "metadata": {},
     "output_type": "execute_result"
    }
   ],
   "source": [
    "df.loc"
   ]
  },
  {
   "cell_type": "code",
   "execution_count": 28,
   "metadata": {
    "slideshow": {
     "slide_type": "fragment"
    }
   },
   "outputs": [
    {
     "data": {
      "text/plain": [
       "<pandas.core.indexing._iLocIndexer at 0x16541a090>"
      ]
     },
     "execution_count": 28,
     "metadata": {},
     "output_type": "execute_result"
    }
   ],
   "source": [
    "df.iloc"
   ]
  },
  {
   "cell_type": "markdown",
   "metadata": {
    "slideshow": {
     "slide_type": "subslide"
    }
   },
   "source": [
    "### Using `.loc[]`\n",
    "\n",
    "This one treats the input as label or \"row-name\"."
   ]
  },
  {
   "cell_type": "code",
   "execution_count": 33,
   "metadata": {
    "scrolled": true,
    "slideshow": {
     "slide_type": "fragment"
    }
   },
   "outputs": [
    {
     "data": {
      "text/plain": [
       "name        Jupiter\n",
       "mass          317.8\n",
       "period        11.86\n",
       "distance        5.2\n",
       "Name: 2, dtype: object"
      ]
     },
     "execution_count": 33,
     "metadata": {},
     "output_type": "execute_result"
    }
   ],
   "source": [
    "df.loc[2] # Index of row"
   ]
  },
  {
   "cell_type": "code",
   "execution_count": 38,
   "metadata": {
    "scrolled": false,
    "slideshow": {
     "slide_type": "fragment"
    }
   },
   "outputs": [
    {
     "data": {
      "text/plain": [
       "'Jupiter'"
      ]
     },
     "execution_count": 38,
     "metadata": {},
     "output_type": "execute_result"
    }
   ],
   "source": [
    "df['name'].loc[2]"
   ]
  },
  {
   "cell_type": "markdown",
   "metadata": {},
   "source": [
    "However, index \\[-1\\] is not defined as one may expect... "
   ]
  },
  {
   "cell_type": "code",
   "execution_count": 48,
   "metadata": {
    "slideshow": {
     "slide_type": "fragment"
    }
   },
   "outputs": [],
   "source": [
    "df.loc[-1] # Note the ValueError"
   ]
  },
  {
   "cell_type": "markdown",
   "metadata": {
    "slideshow": {
     "slide_type": "subslide"
    }
   },
   "source": [
    "We can accessing multiple rows and/or columns"
   ]
  },
  {
   "cell_type": "code",
   "execution_count": 44,
   "metadata": {
    "slideshow": {
     "slide_type": "fragment"
    }
   },
   "outputs": [
    {
     "data": {
      "text/html": [
       "<div>\n",
       "<style scoped>\n",
       "    .dataframe tbody tr th:only-of-type {\n",
       "        vertical-align: middle;\n",
       "    }\n",
       "\n",
       "    .dataframe tbody tr th {\n",
       "        vertical-align: top;\n",
       "    }\n",
       "\n",
       "    .dataframe thead th {\n",
       "        text-align: right;\n",
       "    }\n",
       "</style>\n",
       "<table border=\"1\" class=\"dataframe\">\n",
       "  <thead>\n",
       "    <tr style=\"text-align: right;\">\n",
       "      <th></th>\n",
       "      <th>name</th>\n",
       "      <th>period</th>\n",
       "    </tr>\n",
       "  </thead>\n",
       "  <tbody>\n",
       "    <tr>\n",
       "      <th>0</th>\n",
       "      <td>Earth</td>\n",
       "      <td>1.00</td>\n",
       "    </tr>\n",
       "    <tr>\n",
       "      <th>2</th>\n",
       "      <td>Jupiter</td>\n",
       "      <td>11.86</td>\n",
       "    </tr>\n",
       "  </tbody>\n",
       "</table>\n",
       "</div>"
      ],
      "text/plain": [
       "      name  period\n",
       "0    Earth    1.00\n",
       "2  Jupiter   11.86"
      ]
     },
     "execution_count": 44,
     "metadata": {},
     "output_type": "execute_result"
    }
   ],
   "source": [
    "df.loc[[0, 2], ['name', 'period']]"
   ]
  },
  {
   "cell_type": "code",
   "execution_count": 43,
   "metadata": {
    "slideshow": {
     "slide_type": "fragment"
    }
   },
   "outputs": [
    {
     "data": {
      "text/html": [
       "<div>\n",
       "<style scoped>\n",
       "    .dataframe tbody tr th:only-of-type {\n",
       "        vertical-align: middle;\n",
       "    }\n",
       "\n",
       "    .dataframe tbody tr th {\n",
       "        vertical-align: top;\n",
       "    }\n",
       "\n",
       "    .dataframe thead th {\n",
       "        text-align: right;\n",
       "    }\n",
       "</style>\n",
       "<table border=\"1\" class=\"dataframe\">\n",
       "  <thead>\n",
       "    <tr style=\"text-align: right;\">\n",
       "      <th></th>\n",
       "      <th>name</th>\n",
       "    </tr>\n",
       "  </thead>\n",
       "  <tbody>\n",
       "    <tr>\n",
       "      <th>1</th>\n",
       "      <td>Mars</td>\n",
       "    </tr>\n",
       "    <tr>\n",
       "      <th>2</th>\n",
       "      <td>Jupiter</td>\n",
       "    </tr>\n",
       "  </tbody>\n",
       "</table>\n",
       "</div>"
      ],
      "text/plain": [
       "      name\n",
       "1     Mars\n",
       "2  Jupiter"
      ]
     },
     "execution_count": 43,
     "metadata": {},
     "output_type": "execute_result"
    }
   ],
   "source": [
    "df.loc[1:3, ['name']]"
   ]
  },
  {
   "cell_type": "markdown",
   "metadata": {
    "slideshow": {
     "slide_type": "subslide"
    }
   },
   "source": [
    "### Using `.iloc[]`"
   ]
  },
  {
   "cell_type": "code",
   "execution_count": 47,
   "metadata": {
    "slideshow": {
     "slide_type": "fragment"
    }
   },
   "outputs": [
    {
     "data": {
      "text/plain": [
       "name         Mars\n",
       "mass        0.107\n",
       "period       1.88\n",
       "distance      1.5\n",
       "Name: 1, dtype: object"
      ]
     },
     "execution_count": 47,
     "metadata": {},
     "output_type": "execute_result"
    }
   ],
   "source": [
    "df.iloc[1]  # Index of row"
   ]
  },
  {
   "cell_type": "code",
   "execution_count": 46,
   "metadata": {
    "scrolled": true,
    "slideshow": {
     "slide_type": "fragment"
    }
   },
   "outputs": [
    {
     "data": {
      "text/plain": [
       "name        Jupiter\n",
       "mass          317.8\n",
       "period        11.86\n",
       "distance        5.2\n",
       "Name: 2, dtype: object"
      ]
     },
     "execution_count": 46,
     "metadata": {},
     "output_type": "execute_result"
    }
   ],
   "source": [
    "df.iloc[-1] # This time the index [-1] works as expected"
   ]
  },
  {
   "cell_type": "markdown",
   "metadata": {},
   "source": [
    "---\n",
    "## Reading a File "
   ]
  },
  {
   "cell_type": "markdown",
   "metadata": {},
   "source": [
    "We will use, as an example, a catalog of all official named stars collected by the IAU in .csv format available at\n",
    "https://www.kaggle.com/ecotner/named-stars \n",
    "\n",
    "This catalog contains 330 stars and the following columns:\n",
    "\n",
    "* **Name**: Proper name adopted by IAU Working Group on Star Names (WGSN).\n",
    "\n",
    "* **Designation**: Fiducial designation (in order of preference and availability):\n",
    "HR, GJ, HD, HIP, PSR. (see SIMBAD; http://simbad.u-strasbg.fr/simbad/).\n",
    "\n",
    "* **ID**: ID column is either (in order of preference and availability)\n",
    "Bayer greek letter (using SIMBAD databases; e.g. \"alf\" = alpha; see table http://simbad.u-strasbg.fr/Pages/guide/chA.htx), Flamsteed numbers (both following The Bright Star Catalogue [BSC], 5th Revised Ed. (Hoffleit & Warren 1991), or variable star designations.\n",
    "\n",
    "* **Con**: Constellation (3-letter IAU abbrev.; following \"The IAU Style Manual\", Wilkins 1989, Table 11).\n",
    "\n",
    "* **#**: The \"#\" after the constellation column is the component ID to Washington Double Star (WDS) catalog multiple system, if needed (e.g. Proxima Centauri = alf Cen \"C\"), but may be left blank (\"-\") where the primary, by visual brightness, is unambiguous (blank = A) or if the other WDS catalogue entries are obviously unphysical (i.e. the star appears to have no known physical stellar companions). Component IDs are also given where the star does not have a WDS entry (i.e. is not a resolved multiple), but the star is either known to be a spectroscopic binary or astrometric binary in the literature (usually a \"A\" or \"Aa\" is given in those cases, e.g. Wezen). Many thanks to Brian Mason (IAU Commission G1 Binary and Multiple Star Systems) for help with vetting the WDS designations and IDs.\n",
    "\n",
    "* **WDS_J**: WDS designation for multiple systems (or candidate multiple systems), the official double star catalogue of IAU Commission 26 (now G1).\n",
    "\n",
    "* **Vmag**: Johnson V magnitude. For multiple stars, the V magnitude of the component is listed where available or calculable, however in some cases (e.g. some spectroscopic binaries, astrometric binaries), the unresolved magnitude is listed. Magnitudes are preferentially from The Hipparcos and Tycho catalogues (ESA 1997) and WDS.\n",
    "\n",
    "* **HIP**: HIP designations from The Hipparcos and Tycho Catalogues (ESA 1997).\n",
    "\n",
    "* **HD**: HD designations, usually cross-identified from SIMBAD, BSC, HIP catalogues.\n",
    "\n",
    "* **RA(J2000)**: Right Ascension, ICRS (epoch 2000.0)\n",
    "\n",
    "* **Dec(J2000)**: Declination, ICRS (epoch 2000.0)Columns 10 and 11 are calculated with Vizier for epoch 2000.0, usually using positions and proper motions from the revised Hipparcos catalogue (\"Hipparcos, the New Reduction of the Raw Data\" (van Leeuwen 2007 A&A, 474, 653), Gaia DR1 (Gaia Collaboration 2016) or Tycho-2 catalogue (Hog et al. 2000, A&A, 355, L27).\n",
    "\n",
    "* **Date**: Date approved by WGSN. Names marked approved \"2015-12-15\" are exoplanet host star names - a mix of common names and names adopted via the NameExoWorlds contest - reviewed and adopted by the Executive Committee WG Public Naming of Planets and Planetary Satellites, and recognized by WGSN (although the posted date pre-dates WGSN)."
   ]
  },
  {
   "cell_type": "code",
   "execution_count": 122,
   "metadata": {},
   "outputs": [
    {
     "data": {
      "text/html": [
       "<div>\n",
       "<style scoped>\n",
       "    .dataframe tbody tr th:only-of-type {\n",
       "        vertical-align: middle;\n",
       "    }\n",
       "\n",
       "    .dataframe tbody tr th {\n",
       "        vertical-align: top;\n",
       "    }\n",
       "\n",
       "    .dataframe thead th {\n",
       "        text-align: right;\n",
       "    }\n",
       "</style>\n",
       "<table border=\"1\" class=\"dataframe\">\n",
       "  <thead>\n",
       "    <tr style=\"text-align: right;\">\n",
       "      <th></th>\n",
       "      <th>Unnamed: 0</th>\n",
       "      <th>Name</th>\n",
       "      <th>Designation</th>\n",
       "      <th>ID</th>\n",
       "      <th>Con</th>\n",
       "      <th>#</th>\n",
       "      <th>WDS_J</th>\n",
       "      <th>Vmag</th>\n",
       "      <th>HIP</th>\n",
       "      <th>HD</th>\n",
       "      <th>RA(J2000)</th>\n",
       "      <th>Dec(J2000)</th>\n",
       "      <th>Date</th>\n",
       "    </tr>\n",
       "  </thead>\n",
       "  <tbody>\n",
       "    <tr>\n",
       "      <th>0</th>\n",
       "      <td>0</td>\n",
       "      <td>Acamar</td>\n",
       "      <td>HR 897</td>\n",
       "      <td>tet01</td>\n",
       "      <td>Eri</td>\n",
       "      <td>A</td>\n",
       "      <td>02583-4018</td>\n",
       "      <td>2.88</td>\n",
       "      <td>13847</td>\n",
       "      <td>18622</td>\n",
       "      <td>44.565311</td>\n",
       "      <td>-40.304672</td>\n",
       "      <td>2016-07-20</td>\n",
       "    </tr>\n",
       "    <tr>\n",
       "      <th>1</th>\n",
       "      <td>1</td>\n",
       "      <td>Achernar</td>\n",
       "      <td>HR 472</td>\n",
       "      <td>alf</td>\n",
       "      <td>Eri</td>\n",
       "      <td>A</td>\n",
       "      <td>-</td>\n",
       "      <td>0.45</td>\n",
       "      <td>7588</td>\n",
       "      <td>10144</td>\n",
       "      <td>24.428523</td>\n",
       "      <td>-57.236753</td>\n",
       "      <td>2016-06-30</td>\n",
       "    </tr>\n",
       "    <tr>\n",
       "      <th>2</th>\n",
       "      <td>2</td>\n",
       "      <td>Achird</td>\n",
       "      <td>HR 219</td>\n",
       "      <td>eta</td>\n",
       "      <td>Cas</td>\n",
       "      <td>A</td>\n",
       "      <td>00491+5749</td>\n",
       "      <td>3.46</td>\n",
       "      <td>3821</td>\n",
       "      <td>4614</td>\n",
       "      <td>12.276213</td>\n",
       "      <td>57.815187</td>\n",
       "      <td>2017-09-05</td>\n",
       "    </tr>\n",
       "    <tr>\n",
       "      <th>3</th>\n",
       "      <td>3</td>\n",
       "      <td>Acrab</td>\n",
       "      <td>HR 5984</td>\n",
       "      <td>bet</td>\n",
       "      <td>Sco</td>\n",
       "      <td>Aa</td>\n",
       "      <td>16054-1948</td>\n",
       "      <td>2.56</td>\n",
       "      <td>78820</td>\n",
       "      <td>144217</td>\n",
       "      <td>241.359300</td>\n",
       "      <td>-19.805453</td>\n",
       "      <td>2016-08-21</td>\n",
       "    </tr>\n",
       "    <tr>\n",
       "      <th>4</th>\n",
       "      <td>4</td>\n",
       "      <td>Acrux</td>\n",
       "      <td>HR 4730</td>\n",
       "      <td>alf</td>\n",
       "      <td>Cru</td>\n",
       "      <td>Aa</td>\n",
       "      <td>12266-6306</td>\n",
       "      <td>1.33</td>\n",
       "      <td>60718</td>\n",
       "      <td>108248</td>\n",
       "      <td>186.649563</td>\n",
       "      <td>-63.099093</td>\n",
       "      <td>2016-07-20</td>\n",
       "    </tr>\n",
       "    <tr>\n",
       "      <th>...</th>\n",
       "      <td>...</td>\n",
       "      <td>...</td>\n",
       "      <td>...</td>\n",
       "      <td>...</td>\n",
       "      <td>...</td>\n",
       "      <td>...</td>\n",
       "      <td>...</td>\n",
       "      <td>...</td>\n",
       "      <td>...</td>\n",
       "      <td>...</td>\n",
       "      <td>...</td>\n",
       "      <td>...</td>\n",
       "      <td>...</td>\n",
       "    </tr>\n",
       "    <tr>\n",
       "      <th>325</th>\n",
       "      <td>325</td>\n",
       "      <td>Zibal</td>\n",
       "      <td>HR 984</td>\n",
       "      <td>zet</td>\n",
       "      <td>Eri</td>\n",
       "      <td>Aa</td>\n",
       "      <td>03158-0849</td>\n",
       "      <td>4.80</td>\n",
       "      <td>15197</td>\n",
       "      <td>20320</td>\n",
       "      <td>48.958436</td>\n",
       "      <td>-8.819731</td>\n",
       "      <td>2016-09-12</td>\n",
       "    </tr>\n",
       "    <tr>\n",
       "      <th>326</th>\n",
       "      <td>326</td>\n",
       "      <td>Zosma</td>\n",
       "      <td>HR 4357</td>\n",
       "      <td>del</td>\n",
       "      <td>Leo</td>\n",
       "      <td>-</td>\n",
       "      <td>11141+2031</td>\n",
       "      <td>2.56</td>\n",
       "      <td>54872</td>\n",
       "      <td>97603</td>\n",
       "      <td>168.527089</td>\n",
       "      <td>20.523718</td>\n",
       "      <td>2016-07-20</td>\n",
       "    </tr>\n",
       "    <tr>\n",
       "      <th>327</th>\n",
       "      <td>327</td>\n",
       "      <td>Zubenelgenubi</td>\n",
       "      <td>HR 5531</td>\n",
       "      <td>alf02</td>\n",
       "      <td>Lib</td>\n",
       "      <td>Aa</td>\n",
       "      <td>14509-1603</td>\n",
       "      <td>2.75</td>\n",
       "      <td>72622</td>\n",
       "      <td>130841</td>\n",
       "      <td>222.719638</td>\n",
       "      <td>-16.041777</td>\n",
       "      <td>2016-08-21</td>\n",
       "    </tr>\n",
       "    <tr>\n",
       "      <th>328</th>\n",
       "      <td>328</td>\n",
       "      <td>Zubenelhakrabi</td>\n",
       "      <td>HR 5787</td>\n",
       "      <td>gam</td>\n",
       "      <td>Lib</td>\n",
       "      <td>A</td>\n",
       "      <td>15355-1447</td>\n",
       "      <td>3.91</td>\n",
       "      <td>76333</td>\n",
       "      <td>138905</td>\n",
       "      <td>233.881578</td>\n",
       "      <td>-14.789536</td>\n",
       "      <td>2017-09-05</td>\n",
       "    </tr>\n",
       "    <tr>\n",
       "      <th>329</th>\n",
       "      <td>329</td>\n",
       "      <td>Zubeneschamali</td>\n",
       "      <td>HR 5685</td>\n",
       "      <td>bet</td>\n",
       "      <td>Lib</td>\n",
       "      <td>-</td>\n",
       "      <td>-</td>\n",
       "      <td>2.61</td>\n",
       "      <td>74785</td>\n",
       "      <td>135742</td>\n",
       "      <td>229.251724</td>\n",
       "      <td>-9.382914</td>\n",
       "      <td>2016-08-21</td>\n",
       "    </tr>\n",
       "  </tbody>\n",
       "</table>\n",
       "<p>330 rows × 13 columns</p>\n",
       "</div>"
      ],
      "text/plain": [
       "     Unnamed: 0            Name Designation     ID  Con   #       WDS_J  Vmag  \\\n",
       "0             0          Acamar      HR 897  tet01  Eri   A  02583-4018  2.88   \n",
       "1             1        Achernar      HR 472    alf  Eri   A           -  0.45   \n",
       "2             2          Achird      HR 219    eta  Cas   A  00491+5749  3.46   \n",
       "3             3           Acrab     HR 5984    bet  Sco  Aa  16054-1948  2.56   \n",
       "4             4           Acrux     HR 4730    alf  Cru  Aa  12266-6306  1.33   \n",
       "..          ...             ...         ...    ...  ...  ..         ...   ...   \n",
       "325         325           Zibal      HR 984    zet  Eri  Aa  03158-0849  4.80   \n",
       "326         326           Zosma     HR 4357    del  Leo   -  11141+2031  2.56   \n",
       "327         327   Zubenelgenubi     HR 5531  alf02  Lib  Aa  14509-1603  2.75   \n",
       "328         328  Zubenelhakrabi     HR 5787    gam  Lib   A  15355-1447  3.91   \n",
       "329         329  Zubeneschamali     HR 5685    bet  Lib   -           -  2.61   \n",
       "\n",
       "       HIP      HD   RA(J2000)  Dec(J2000)        Date  \n",
       "0    13847   18622   44.565311  -40.304672  2016-07-20  \n",
       "1     7588   10144   24.428523  -57.236753  2016-06-30  \n",
       "2     3821    4614   12.276213   57.815187  2017-09-05  \n",
       "3    78820  144217  241.359300  -19.805453  2016-08-21  \n",
       "4    60718  108248  186.649563  -63.099093  2016-07-20  \n",
       "..     ...     ...         ...         ...         ...  \n",
       "325  15197   20320   48.958436   -8.819731  2016-09-12  \n",
       "326  54872   97603  168.527089   20.523718  2016-07-20  \n",
       "327  72622  130841  222.719638  -16.041777  2016-08-21  \n",
       "328  76333  138905  233.881578  -14.789536  2017-09-05  \n",
       "329  74785  135742  229.251724   -9.382914  2016-08-21  \n",
       "\n",
       "[330 rows x 13 columns]"
      ]
     },
     "execution_count": 122,
     "metadata": {},
     "output_type": "execute_result"
    }
   ],
   "source": [
    "df = pd.read_csv('IAU-CSN.csv')\n",
    "df"
   ]
  },
  {
   "cell_type": "markdown",
   "metadata": {
    "slideshow": {
     "slide_type": "slide"
    }
   },
   "source": [
    "---\n",
    "## Group data"
   ]
  },
  {
   "cell_type": "markdown",
   "metadata": {},
   "source": [
    "We may group the data acording to some criteria. For example, 'Constellation':"
   ]
  },
  {
   "cell_type": "code",
   "execution_count": 123,
   "metadata": {
    "scrolled": true
   },
   "outputs": [
    {
     "data": {
      "text/plain": [
       "{'And': [8, 38, 46, 205, 220, 302, 310], 'Aql': [54, 56, 174, 225, 291], 'Aqr': [13, 64, 97, 257, 259, 260, 277, 278], 'Ara': [105], 'Ari': [93, 95, 149, 176, 198, 275], 'Aur': [37, 99, 148, 150, 178, 190, 256], 'Boo': [33, 69, 157, 195, 213, 219, 271, 317], 'CMa': [7, 59, 139, 208, 212, 276, 308, 314], 'CMi': [145, 240], 'CVn': [108, 111], 'Cam': [303], 'Cap': [24, 55, 114, 117, 218], 'Car': [77, 83, 98, 199], 'Cas': [2, 100, 102, 137, 253, 268, 270], 'Cen': [147, 192, 242, 251], 'Cep': [19, 23, 131, 171], 'Cet': [88, 120, 160, 191, 204], 'Cnc': [5, 74, 75, 110, 189, 216, 230, 292, 294], 'Col': [127, 227, 313], 'Com': [119], 'CrA': [196], 'CrB': [45, 223], 'Crt': [36], 'Cru': [4, 141, 144, 200], 'Crv': [15, 28, 143, 170], 'Cyg': [14, 31, 84, 116, 134, 261], 'Del': [22, 215, 252, 280], 'Dra': [21, 48, 50, 51, 57, 79, 123, 124, 129, 132, 142, 146, 247, 287, 298, 301], 'Equ': [167], 'Eri': [0, 1, 65, 85, 89, 90, 113, 165, 243, 266, 297, 322, 325], 'For': [115], 'Gem': [29, 63, 101, 159, 185, 188, 236, 241, 295, 312], 'Gru': [20, 39, 299], 'Her': [112, 169, 177, 183, 224, 245, 265], 'Hya': [44, 76, 135, 201, 306, 324], 'LMi': [238], 'Leo': [6, 26, 58, 109, 118, 244, 248, 281, 326], 'Lep': [72, 221], 'Lib': [96, 327, 328, 329], 'Lyn': [52], 'Lyr': [11, 274, 283, 309], 'Oct': [234], 'Oph': [87, 103, 180, 246, 255, 318, 319], 'Ori': [41, 42, 91, 92, 151, 187, 203, 250, 262, 285], 'Pav': [226], 'Peg': [25, 35, 94, 130, 152, 154, 181, 184, 258, 263, 267], 'Per': [27, 80, 193, 206, 207, 209], 'Phe': [66, 315], 'PsA': [136], 'Psc': [47, 49, 138, 249, 304], 'Pup': [86, 217, 305], 'Sco': [3, 43, 68, 121, 133, 140, 155, 158, 172, 173, 231, 264, 273, 316], 'Ser': [62, 307], 'Sge': [272], 'Sgr': [10, 12, 40, 70, 71, 73, 162, 163, 164, 222, 235, 254, 296], 'Tau': [9, 17, 18, 78, 81, 104, 107, 125, 128, 179, 197, 232, 239, 269, 293, 300], 'TrA': [82], 'Tri': [211], 'UMa': [16, 30, 32, 34, 60, 61, 106, 122, 156, 186, 194, 210, 214, 228, 286, 288, 289, 290], 'UMi': [168, 229, 233, 320], 'Vel': [53, 182, 282], 'Vir': [126, 153, 161, 166, 175, 202, 237, 279, 284, 311, 321, 323], 'Vul': [67]}"
      ]
     },
     "execution_count": 123,
     "metadata": {},
     "output_type": "execute_result"
    }
   ],
   "source": [
    "df.groupby(['Con']).groups"
   ]
  },
  {
   "cell_type": "markdown",
   "metadata": {},
   "source": [
    "If we want to get some specific group:"
   ]
  },
  {
   "cell_type": "code",
   "execution_count": 124,
   "metadata": {
    "scrolled": true
   },
   "outputs": [
    {
     "data": {
      "text/html": [
       "<div>\n",
       "<style scoped>\n",
       "    .dataframe tbody tr th:only-of-type {\n",
       "        vertical-align: middle;\n",
       "    }\n",
       "\n",
       "    .dataframe tbody tr th {\n",
       "        vertical-align: top;\n",
       "    }\n",
       "\n",
       "    .dataframe thead th {\n",
       "        text-align: right;\n",
       "    }\n",
       "</style>\n",
       "<table border=\"1\" class=\"dataframe\">\n",
       "  <thead>\n",
       "    <tr style=\"text-align: right;\">\n",
       "      <th></th>\n",
       "      <th>Unnamed: 0</th>\n",
       "      <th>Name</th>\n",
       "      <th>Designation</th>\n",
       "      <th>ID</th>\n",
       "      <th>Con</th>\n",
       "      <th>#</th>\n",
       "      <th>WDS_J</th>\n",
       "      <th>Vmag</th>\n",
       "      <th>HIP</th>\n",
       "      <th>HD</th>\n",
       "      <th>RA(J2000)</th>\n",
       "      <th>Dec(J2000)</th>\n",
       "      <th>Date</th>\n",
       "    </tr>\n",
       "  </thead>\n",
       "  <tbody>\n",
       "    <tr>\n",
       "      <th>14</th>\n",
       "      <td>14</td>\n",
       "      <td>Albireo</td>\n",
       "      <td>HR 7417</td>\n",
       "      <td>bet</td>\n",
       "      <td>Cyg</td>\n",
       "      <td>Aa</td>\n",
       "      <td>19307+2758</td>\n",
       "      <td>3.37</td>\n",
       "      <td>95947</td>\n",
       "      <td>183912</td>\n",
       "      <td>292.680351</td>\n",
       "      <td>27.959692</td>\n",
       "      <td>2016-07-20</td>\n",
       "    </tr>\n",
       "    <tr>\n",
       "      <th>31</th>\n",
       "      <td>31</td>\n",
       "      <td>Aljanah</td>\n",
       "      <td>HR 7949</td>\n",
       "      <td>eps</td>\n",
       "      <td>Cyg</td>\n",
       "      <td>Aa</td>\n",
       "      <td>20462+3358</td>\n",
       "      <td>2.48</td>\n",
       "      <td>102488</td>\n",
       "      <td>197989</td>\n",
       "      <td>311.552843</td>\n",
       "      <td>33.970257</td>\n",
       "      <td>2017-06-30</td>\n",
       "    </tr>\n",
       "    <tr>\n",
       "      <th>84</th>\n",
       "      <td>84</td>\n",
       "      <td>Azelfafage</td>\n",
       "      <td>HR 8301</td>\n",
       "      <td>pi01</td>\n",
       "      <td>Cyg</td>\n",
       "      <td>-</td>\n",
       "      <td>-</td>\n",
       "      <td>4.69</td>\n",
       "      <td>107136</td>\n",
       "      <td>206672</td>\n",
       "      <td>325.523602</td>\n",
       "      <td>51.189623</td>\n",
       "      <td>2016-09-12</td>\n",
       "    </tr>\n",
       "    <tr>\n",
       "      <th>116</th>\n",
       "      <td>116</td>\n",
       "      <td>Deneb</td>\n",
       "      <td>HR 7924</td>\n",
       "      <td>alf</td>\n",
       "      <td>Cyg</td>\n",
       "      <td>-</td>\n",
       "      <td>20414+4517</td>\n",
       "      <td>1.25</td>\n",
       "      <td>102098</td>\n",
       "      <td>197345</td>\n",
       "      <td>310.357980</td>\n",
       "      <td>45.280339</td>\n",
       "      <td>2016-06-30</td>\n",
       "    </tr>\n",
       "    <tr>\n",
       "      <th>134</th>\n",
       "      <td>134</td>\n",
       "      <td>Fawaris</td>\n",
       "      <td>HR 7528</td>\n",
       "      <td>del</td>\n",
       "      <td>Cyg</td>\n",
       "      <td>A</td>\n",
       "      <td>19450+4508</td>\n",
       "      <td>2.90</td>\n",
       "      <td>97165</td>\n",
       "      <td>186882</td>\n",
       "      <td>296.243658</td>\n",
       "      <td>45.130810</td>\n",
       "      <td>2018-06-01</td>\n",
       "    </tr>\n",
       "    <tr>\n",
       "      <th>261</th>\n",
       "      <td>261</td>\n",
       "      <td>Sadr</td>\n",
       "      <td>HR 7796</td>\n",
       "      <td>gam</td>\n",
       "      <td>Cyg</td>\n",
       "      <td>A</td>\n",
       "      <td>20222+4015</td>\n",
       "      <td>2.23</td>\n",
       "      <td>100453</td>\n",
       "      <td>194093</td>\n",
       "      <td>305.557091</td>\n",
       "      <td>40.256679</td>\n",
       "      <td>2016-08-21</td>\n",
       "    </tr>\n",
       "  </tbody>\n",
       "</table>\n",
       "</div>"
      ],
      "text/plain": [
       "     Unnamed: 0        Name Designation    ID  Con   #       WDS_J  Vmag  \\\n",
       "14           14     Albireo     HR 7417   bet  Cyg  Aa  19307+2758  3.37   \n",
       "31           31     Aljanah     HR 7949   eps  Cyg  Aa  20462+3358  2.48   \n",
       "84           84  Azelfafage     HR 8301  pi01  Cyg   -           -  4.69   \n",
       "116         116       Deneb     HR 7924   alf  Cyg   -  20414+4517  1.25   \n",
       "134         134     Fawaris     HR 7528   del  Cyg   A  19450+4508  2.90   \n",
       "261         261        Sadr     HR 7796   gam  Cyg   A  20222+4015  2.23   \n",
       "\n",
       "        HIP      HD   RA(J2000)  Dec(J2000)        Date  \n",
       "14    95947  183912  292.680351   27.959692  2016-07-20  \n",
       "31   102488  197989  311.552843   33.970257  2017-06-30  \n",
       "84   107136  206672  325.523602   51.189623  2016-09-12  \n",
       "116  102098  197345  310.357980   45.280339  2016-06-30  \n",
       "134   97165  186882  296.243658   45.130810  2018-06-01  \n",
       "261  100453  194093  305.557091   40.256679  2016-08-21  "
      ]
     },
     "execution_count": 124,
     "metadata": {},
     "output_type": "execute_result"
    }
   ],
   "source": [
    "Cyg_df = df.groupby(['Con']).get_group('Cyg')\n",
    "Cyg_df"
   ]
  },
  {
   "cell_type": "markdown",
   "metadata": {},
   "source": [
    "Now, we will group the data according to the 'Vmag' feature"
   ]
  },
  {
   "cell_type": "code",
   "execution_count": 125,
   "metadata": {},
   "outputs": [
    {
     "data": {
      "text/plain": [
       "{'-': [175], '-0.01': [251], '-0.05': [69], '-0.62': [98], '-1.45': [276], '0.03': [309], '0.08': [99], '0.18': [250], '0.40': [240], '0.45': [1, 92], '0.61': [147], '0.76': [56], '0.87': [18], '0.98': [279], '1.06': [68], '1.16': [236], '1.17': [136], '1.25': [116, 200], '1.33': [4], '1.36': [248], '1.50': [7], '1.59': [141], '1.64': [91], '1.65': [128], '1.67': [199], '1.69': [41], '1.73': [39], '1.74': [42], '1.76': [30], '1.79': [162, 207], '1.81': [122], '1.83': [314], '1.85': [32], '1.86': [83, 264], '1.90': [190], '1.91': [82], '1.93': [29], '1.94': [226], '1.98': [101, 208], '1.99': [44, 53], '11.01': [242], '2.01': [149], '2.04': [120], '2.05': [222], '2.06': [192], '2.07': [46, 168, 205, 262], '2.08': [246, 273], '2.09': [27], '2.10': [38], '2.12': [299], '2.13': [233], '2.14': [118], '2.21': [77, 217], '2.22': [45], '2.23': [210, 261, 282], '2.24': [129, 268], '2.25': [203], '2.28': [100], '2.29': [121, 172], '2.34': [194], '2.35': [157], '2.38': [130], '2.40': [66], '2.41': [228], '2.43': [255], '2.44': [267], '2.45': [19, 59], '2.47': [182], '2.48': [31], '2.49': [181], '2.54': [191], '2.56': [3, 326], '2.58': [72, 143], '2.60': [73], '2.61': [26, 329], '2.63': [307], '2.65': [170, 178, 227], '2.66': [253], '2.68': [213], '2.69': [150], '2.70': [173, 275], '2.72': [164, 291], '2.73': [79, 319], '2.75': [327], '2.76': [103], '2.78': [113, 169], '2.79': [247], '2.80': [151], '2.82': [163], '2.83': [25, 221, 305], '2.85': [17, 117, 311], '2.87': [295], '2.88': [0, 12], '2.89': [111, 133, 145], '2.90': [43, 134, 260], '2.93': [184], '2.94': [28], '2.95': [259], '2.97': [300, 322], '2.98': [40], ...}"
      ]
     },
     "execution_count": 125,
     "metadata": {},
     "output_type": "execute_result"
    }
   ],
   "source": [
    "df.groupby(['Vmag']).groups"
   ]
  },
  {
   "cell_type": "markdown",
   "metadata": {},
   "source": [
    "Note that there is one sample with a non-numerical value: item \\[175\\] has 'Vmag' = '-'."
   ]
  },
  {
   "cell_type": "code",
   "execution_count": 126,
   "metadata": {},
   "outputs": [
    {
     "data": {
      "text/html": [
       "<div>\n",
       "<style scoped>\n",
       "    .dataframe tbody tr th:only-of-type {\n",
       "        vertical-align: middle;\n",
       "    }\n",
       "\n",
       "    .dataframe tbody tr th {\n",
       "        vertical-align: top;\n",
       "    }\n",
       "\n",
       "    .dataframe thead th {\n",
       "        text-align: right;\n",
       "    }\n",
       "</style>\n",
       "<table border=\"1\" class=\"dataframe\">\n",
       "  <thead>\n",
       "    <tr style=\"text-align: right;\">\n",
       "      <th></th>\n",
       "      <th>Unnamed: 0</th>\n",
       "      <th>Name</th>\n",
       "      <th>Designation</th>\n",
       "      <th>ID</th>\n",
       "      <th>Con</th>\n",
       "      <th>#</th>\n",
       "      <th>WDS_J</th>\n",
       "      <th>Vmag</th>\n",
       "      <th>HIP</th>\n",
       "      <th>HD</th>\n",
       "      <th>RA(J2000)</th>\n",
       "      <th>Dec(J2000)</th>\n",
       "      <th>Date</th>\n",
       "    </tr>\n",
       "  </thead>\n",
       "  <tbody>\n",
       "    <tr>\n",
       "      <th>175</th>\n",
       "      <td>175</td>\n",
       "      <td>Lich</td>\n",
       "      <td>PSR B1257+12</td>\n",
       "      <td>-</td>\n",
       "      <td>Vir</td>\n",
       "      <td>-</td>\n",
       "      <td>-</td>\n",
       "      <td>-</td>\n",
       "      <td>-</td>\n",
       "      <td>-</td>\n",
       "      <td>195.012701</td>\n",
       "      <td>12.682417</td>\n",
       "      <td>2015-12-15</td>\n",
       "    </tr>\n",
       "  </tbody>\n",
       "</table>\n",
       "</div>"
      ],
      "text/plain": [
       "     Unnamed: 0  Name   Designation ID  Con  # WDS_J Vmag HIP HD   RA(J2000)  \\\n",
       "175         175  Lich  PSR B1257+12  -  Vir  -     -    -   -  -  195.012701   \n",
       "\n",
       "     Dec(J2000)        Date  \n",
       "175   12.682417  2015-12-15  "
      ]
     },
     "execution_count": 126,
     "metadata": {},
     "output_type": "execute_result"
    }
   ],
   "source": [
    "df.groupby(['Vmag']).get_group('-')"
   ]
  },
  {
   "cell_type": "code",
   "execution_count": 127,
   "metadata": {
    "slideshow": {
     "slide_type": "subslide"
    }
   },
   "outputs": [
    {
     "data": {
      "text/html": [
       "<div>\n",
       "<style scoped>\n",
       "    .dataframe tbody tr th:only-of-type {\n",
       "        vertical-align: middle;\n",
       "    }\n",
       "\n",
       "    .dataframe tbody tr th {\n",
       "        vertical-align: top;\n",
       "    }\n",
       "\n",
       "    .dataframe thead th {\n",
       "        text-align: right;\n",
       "    }\n",
       "</style>\n",
       "<table border=\"1\" class=\"dataframe\">\n",
       "  <thead>\n",
       "    <tr style=\"text-align: right;\">\n",
       "      <th></th>\n",
       "      <th>Unnamed: 0</th>\n",
       "      <th>Name</th>\n",
       "      <th>Designation</th>\n",
       "      <th>ID</th>\n",
       "      <th>Con</th>\n",
       "      <th>#</th>\n",
       "      <th>WDS_J</th>\n",
       "      <th>Vmag</th>\n",
       "      <th>HIP</th>\n",
       "      <th>HD</th>\n",
       "      <th>RA(J2000)</th>\n",
       "      <th>Dec(J2000)</th>\n",
       "      <th>Date</th>\n",
       "    </tr>\n",
       "  </thead>\n",
       "  <tbody>\n",
       "    <tr>\n",
       "      <th>116</th>\n",
       "      <td>116</td>\n",
       "      <td>Deneb</td>\n",
       "      <td>HR 7924</td>\n",
       "      <td>alf</td>\n",
       "      <td>Cyg</td>\n",
       "      <td>-</td>\n",
       "      <td>20414+4517</td>\n",
       "      <td>1.25</td>\n",
       "      <td>102098</td>\n",
       "      <td>197345</td>\n",
       "      <td>310.357980</td>\n",
       "      <td>45.280339</td>\n",
       "      <td>2016-06-30</td>\n",
       "    </tr>\n",
       "    <tr>\n",
       "      <th>200</th>\n",
       "      <td>200</td>\n",
       "      <td>Mimosa</td>\n",
       "      <td>HR 4853</td>\n",
       "      <td>bet</td>\n",
       "      <td>Cru</td>\n",
       "      <td>-</td>\n",
       "      <td>12477-5941</td>\n",
       "      <td>1.25</td>\n",
       "      <td>62434</td>\n",
       "      <td>111123</td>\n",
       "      <td>191.930263</td>\n",
       "      <td>-59.688764</td>\n",
       "      <td>2016-07-20</td>\n",
       "    </tr>\n",
       "  </tbody>\n",
       "</table>\n",
       "</div>"
      ],
      "text/plain": [
       "     Unnamed: 0    Name Designation   ID  Con  #       WDS_J  Vmag     HIP  \\\n",
       "116         116   Deneb     HR 7924  alf  Cyg  -  20414+4517  1.25  102098   \n",
       "200         200  Mimosa     HR 4853  bet  Cru  -  12477-5941  1.25   62434   \n",
       "\n",
       "         HD   RA(J2000)  Dec(J2000)        Date  \n",
       "116  197345  310.357980   45.280339  2016-06-30  \n",
       "200  111123  191.930263  -59.688764  2016-07-20  "
      ]
     },
     "execution_count": 127,
     "metadata": {},
     "output_type": "execute_result"
    }
   ],
   "source": [
    "df.groupby(['Vmag']).get_group('1.25')"
   ]
  },
  {
   "cell_type": "markdown",
   "metadata": {},
   "source": [
    "---\n",
    "## Types of data in the dataframe\n",
    "\n",
    "The data type of each column is obtained by"
   ]
  },
  {
   "cell_type": "code",
   "execution_count": 128,
   "metadata": {
    "scrolled": true
   },
   "outputs": [
    {
     "data": {
      "text/plain": [
       "Unnamed: 0       int64\n",
       "Name            object\n",
       "Designation     object\n",
       "ID              object\n",
       "Con             object\n",
       "#               object\n",
       "WDS_J           object\n",
       "Vmag            object\n",
       "HIP             object\n",
       "HD              object\n",
       "RA(J2000)      float64\n",
       "Dec(J2000)     float64\n",
       "Date            object\n",
       "dtype: object"
      ]
     },
     "execution_count": 128,
     "metadata": {},
     "output_type": "execute_result"
    }
   ],
   "source": [
    "df.dtypes"
   ]
  },
  {
   "cell_type": "markdown",
   "metadata": {},
   "source": [
    "Note that RA and Dec are the only columns with numerical values. The other columns are identified as 'object'. \n",
    "\n",
    "If we want to transform the data type of column 'Vmag' we need to get rid of the row \\[175\\] which has a non-numerical value. hence, we use the `.drop()` method."
   ]
  },
  {
   "cell_type": "code",
   "execution_count": 129,
   "metadata": {},
   "outputs": [],
   "source": [
    "df = df.drop(175, axis=0)"
   ]
  },
  {
   "cell_type": "markdown",
   "metadata": {},
   "source": [
    "and now we transform the dtype of the 'Vmag' column to float:"
   ]
  },
  {
   "cell_type": "code",
   "execution_count": 130,
   "metadata": {},
   "outputs": [],
   "source": [
    "df['Vmag'] = df['Vmag'].astype(float)"
   ]
  },
  {
   "cell_type": "markdown",
   "metadata": {},
   "source": [
    "Note that the data type has indeed changed:"
   ]
  },
  {
   "cell_type": "code",
   "execution_count": 111,
   "metadata": {
    "scrolled": true
   },
   "outputs": [
    {
     "data": {
      "text/plain": [
       "Unnamed: 0       int64\n",
       "Name            object\n",
       "Designation     object\n",
       "ID              object\n",
       "Con             object\n",
       "#               object\n",
       "WDS_J           object\n",
       "Vmag           float64\n",
       "HIP             object\n",
       "HD              object\n",
       "RA(J2000)      float64\n",
       "Dec(J2000)     float64\n",
       "Date            object\n",
       "dtype: object"
      ]
     },
     "execution_count": 111,
     "metadata": {},
     "output_type": "execute_result"
    }
   ],
   "source": [
    "df.dtypes"
   ]
  },
  {
   "cell_type": "markdown",
   "metadata": {},
   "source": [
    "A simplified way to acomplish the same result is using the `.to_numeric()` method, getting rid of errors using the option 'coerce'."
   ]
  },
  {
   "cell_type": "code",
   "execution_count": 131,
   "metadata": {
    "scrolled": true
   },
   "outputs": [
    {
     "data": {
      "text/plain": [
       "Unnamed: 0       int64\n",
       "Name            object\n",
       "Designation     object\n",
       "ID              object\n",
       "Con             object\n",
       "#               object\n",
       "WDS_J           object\n",
       "Vmag           float64\n",
       "HIP             object\n",
       "HD              object\n",
       "RA(J2000)      float64\n",
       "Dec(J2000)     float64\n",
       "Date            object\n",
       "dtype: object"
      ]
     },
     "execution_count": 131,
     "metadata": {},
     "output_type": "execute_result"
    }
   ],
   "source": [
    "df = pd.read_csv('IAU-CSN.csv') # We read again the original df\n",
    "\n",
    "df['Vmag'] = pd.to_numeric(df['Vmag'],errors='coerce').astype(float)\n",
    "\n",
    "df.dtypes"
   ]
  },
  {
   "cell_type": "markdown",
   "metadata": {},
   "source": [
    "---\n",
    "Lets now group the data by Constellation and find the maximum value of 'Vmag' in each one,"
   ]
  },
  {
   "cell_type": "code",
   "execution_count": 133,
   "metadata": {},
   "outputs": [
    {
     "data": {
      "text/plain": [
       "Con\n",
       "And    5.22\n",
       "Aql    4.71\n",
       "Aqr    5.04\n",
       "Ara    5.15\n",
       "Ari    4.75\n",
       "       ... \n",
       "UMa    5.41\n",
       "UMi    4.35\n",
       "Vel    2.47\n",
       "Vir    4.84\n",
       "Vul    4.44\n",
       "Name: Vmag, Length: 63, dtype: float64"
      ]
     },
     "execution_count": 133,
     "metadata": {},
     "output_type": "execute_result"
    }
   ],
   "source": [
    "df.groupby('Con')[\"Vmag\"].max()"
   ]
  },
  {
   "cell_type": "markdown",
   "metadata": {},
   "source": [
    "## Plotting"
   ]
  },
  {
   "cell_type": "markdown",
   "metadata": {},
   "source": [
    "Using the method `.plot()` is possible to plot all the numerical columns in the dataframe."
   ]
  },
  {
   "cell_type": "code",
   "execution_count": 134,
   "metadata": {
    "scrolled": true,
    "slideshow": {
     "slide_type": "slide"
    }
   },
   "outputs": [
    {
     "data": {
      "image/png": "[encoded data removed]",
      "text/plain": [
       "<Figure size 720x360 with 1 Axes>"
      ]
     },
     "metadata": {
      "needs_background": "light"
     },
     "output_type": "display_data"
    }
   ],
   "source": [
    "df.plot();"
   ]
  },
  {
   "cell_type": "markdown",
   "metadata": {},
   "source": [
    "A histogram with the data is easily done:"
   ]
  },
  {
   "cell_type": "code",
   "execution_count": 169,
   "metadata": {
    "scrolled": true
   },
   "outputs": [
    {
     "data": {
      "image/png": "[encoded data removed]",
      "text/plain": [
       "<Figure size 432x288 with 4 Axes>"
      ]
     },
     "metadata": {
      "needs_background": "light"
     },
     "output_type": "display_data"
    }
   ],
   "source": [
    "df.hist(); # The semi-colon does not show some extra information about the plot"
   ]
  },
  {
   "cell_type": "markdown",
   "metadata": {},
   "source": [
    "We can adjust some arguments in the function to concentrate in only one of the columns,"
   ]
  },
  {
   "cell_type": "code",
   "execution_count": 170,
   "metadata": {},
   "outputs": [
    {
     "data": {
      "image/png": "[encoded data removed]",
      "text/plain": [
       "<Figure size 720x504 with 1 Axes>"
      ]
     },
     "metadata": {
      "needs_background": "light"
     },
     "output_type": "display_data"
    }
   ],
   "source": [
    "df.hist(column='Vmag', figsize=(10,7));"
   ]
  },
  {
   "cell_type": "markdown",
   "metadata": {},
   "source": [
    "Using `matplotlib.pyplot` it is possible to customize the plot even more "
   ]
  },
  {
   "cell_type": "code",
   "execution_count": 163,
   "metadata": {
    "scrolled": false,
    "slideshow": {
     "slide_type": "slide"
    }
   },
   "outputs": [
    {
     "data": {
      "image/png": "[encoded data removed]",
      "text/plain": [
       "<Figure size 720x504 with 1 Axes>"
      ]
     },
     "metadata": {
      "needs_background": "light"
     },
     "output_type": "display_data"
    }
   ],
   "source": [
    "import matplotlib.pyplot as plt\n",
    "%matplotlib inline\n",
    "\n",
    "ax = df.hist(column='Vmag', figsize=(10,7))\n",
    "ax = ax[0]\n",
    "for x in ax:\n",
    "    x.set_title('')\n",
    "    x.set_xlabel('Visual Apparent Magnitude')\n",
    "    x.set_ylabel('Count')\n",
    "plt.show()"
   ]
  },
  {
   "cell_type": "markdown",
   "metadata": {},
   "source": [
    "Now, we make a scatter plot to visualise the stars in the sky according to their RA and Dec coordinates."
   ]
  },
  {
   "cell_type": "code",
   "execution_count": 191,
   "metadata": {},
   "outputs": [
    {
     "data": {
      "image/png": "[encoded data removed]",
      "text/plain": [
       "<Figure size 720x504 with 1 Axes>"
      ]
     },
     "metadata": {
      "needs_background": "light"
     },
     "output_type": "display_data"
    }
   ],
   "source": [
    "fig, ax = plt.subplots(figsize=(10,7))\n",
    "ax.scatter(df['RA(J2000)'], df['Dec(J2000)'], marker='.')\n",
    "ax.set_xlabel('RA (J2000)')\n",
    "ax.set_ylabel('Dec (J2000)')\n",
    "plt.show()"
   ]
  },
  {
   "cell_type": "markdown",
   "metadata": {},
   "source": [
    "### Memory Usage of DataFrames"
   ]
  },
  {
   "cell_type": "code",
   "execution_count": 192,
   "metadata": {},
   "outputs": [
    {
     "name": "stdout",
     "output_type": "stream",
     "text": [
      "<class 'pandas.core.frame.DataFrame'>\n",
      "RangeIndex: 330 entries, 0 to 329\n",
      "Data columns (total 13 columns):\n",
      " #   Column       Non-Null Count  Dtype  \n",
      "---  ------       --------------  -----  \n",
      " 0   Unnamed: 0   330 non-null    int64  \n",
      " 1   Name         330 non-null    object \n",
      " 2   Designation  330 non-null    object \n",
      " 3   ID           330 non-null    object \n",
      " 4   Con          330 non-null    object \n",
      " 5   #            330 non-null    object \n",
      " 6   WDS_J        330 non-null    object \n",
      " 7   Vmag         329 non-null    float64\n",
      " 8   HIP          330 non-null    object \n",
      " 9   HD           330 non-null    object \n",
      " 10  RA(J2000)    330 non-null    float64\n",
      " 11  Dec(J2000)   330 non-null    float64\n",
      " 12  Date         330 non-null    object \n",
      "dtypes: float64(3), int64(1), object(9)\n",
      "memory usage: 191.7 KB\n"
     ]
    }
   ],
   "source": [
    "df.info(memory_usage=\"deep\")"
   ]
  },
  {
   "cell_type": "markdown",
   "metadata": {},
   "source": [
    "### Subsampling"
   ]
  },
  {
   "cell_type": "code",
   "execution_count": 193,
   "metadata": {},
   "outputs": [],
   "source": [
    "subsample = df.sample(frac=0.1, random_state=413) \n",
    "# frac = percentage of the original set\n",
    "remaining = df.drop(subsample.index)\n",
    "# .index extract the indices of a dataset"
   ]
  },
  {
   "cell_type": "code",
   "execution_count": 194,
   "metadata": {},
   "outputs": [
    {
     "data": {
      "text/html": [
       "<div>\n",
       "<style scoped>\n",
       "    .dataframe tbody tr th:only-of-type {\n",
       "        vertical-align: middle;\n",
       "    }\n",
       "\n",
       "    .dataframe tbody tr th {\n",
       "        vertical-align: top;\n",
       "    }\n",
       "\n",
       "    .dataframe thead th {\n",
       "        text-align: right;\n",
       "    }\n",
       "</style>\n",
       "<table border=\"1\" class=\"dataframe\">\n",
       "  <thead>\n",
       "    <tr style=\"text-align: right;\">\n",
       "      <th></th>\n",
       "      <th>Unnamed: 0</th>\n",
       "      <th>Name</th>\n",
       "      <th>Designation</th>\n",
       "      <th>ID</th>\n",
       "      <th>Con</th>\n",
       "      <th>#</th>\n",
       "      <th>WDS_J</th>\n",
       "      <th>Vmag</th>\n",
       "      <th>HIP</th>\n",
       "      <th>HD</th>\n",
       "      <th>RA(J2000)</th>\n",
       "      <th>Dec(J2000)</th>\n",
       "      <th>Date</th>\n",
       "    </tr>\n",
       "  </thead>\n",
       "  <tbody>\n",
       "    <tr>\n",
       "      <th>118</th>\n",
       "      <td>118</td>\n",
       "      <td>Denebola</td>\n",
       "      <td>HR 4534</td>\n",
       "      <td>bet</td>\n",
       "      <td>Leo</td>\n",
       "      <td>-</td>\n",
       "      <td>11491+1434</td>\n",
       "      <td>2.14</td>\n",
       "      <td>57632</td>\n",
       "      <td>102647</td>\n",
       "      <td>177.264910</td>\n",
       "      <td>14.572058</td>\n",
       "      <td>2016-06-30</td>\n",
       "    </tr>\n",
       "    <tr>\n",
       "      <th>138</th>\n",
       "      <td>138</td>\n",
       "      <td>Fumalsamakah</td>\n",
       "      <td>HR 8773</td>\n",
       "      <td>bet</td>\n",
       "      <td>Psc</td>\n",
       "      <td>-</td>\n",
       "      <td>-</td>\n",
       "      <td>4.48</td>\n",
       "      <td>113889</td>\n",
       "      <td>217891</td>\n",
       "      <td>345.969225</td>\n",
       "      <td>3.820045</td>\n",
       "      <td>2018-06-01</td>\n",
       "    </tr>\n",
       "    <tr>\n",
       "      <th>168</th>\n",
       "      <td>168</td>\n",
       "      <td>Kochab</td>\n",
       "      <td>HR 5563</td>\n",
       "      <td>bet</td>\n",
       "      <td>UMi</td>\n",
       "      <td>-</td>\n",
       "      <td>14507+7409</td>\n",
       "      <td>2.07</td>\n",
       "      <td>72607</td>\n",
       "      <td>131873</td>\n",
       "      <td>222.676357</td>\n",
       "      <td>74.155504</td>\n",
       "      <td>2016-07-20</td>\n",
       "    </tr>\n",
       "    <tr>\n",
       "      <th>12</th>\n",
       "      <td>12</td>\n",
       "      <td>Albaldah</td>\n",
       "      <td>HR 7264</td>\n",
       "      <td>pi</td>\n",
       "      <td>Sgr</td>\n",
       "      <td>A</td>\n",
       "      <td>19098-2101</td>\n",
       "      <td>2.88</td>\n",
       "      <td>94141</td>\n",
       "      <td>178524</td>\n",
       "      <td>287.440971</td>\n",
       "      <td>-21.023615</td>\n",
       "      <td>2017-09-05</td>\n",
       "    </tr>\n",
       "    <tr>\n",
       "      <th>128</th>\n",
       "      <td>128</td>\n",
       "      <td>Elnath</td>\n",
       "      <td>HR 1791</td>\n",
       "      <td>bet</td>\n",
       "      <td>Tau</td>\n",
       "      <td>Aa</td>\n",
       "      <td>05263+2836</td>\n",
       "      <td>1.65</td>\n",
       "      <td>25428</td>\n",
       "      <td>35497</td>\n",
       "      <td>81.572971</td>\n",
       "      <td>28.607452</td>\n",
       "      <td>2016-07-20</td>\n",
       "    </tr>\n",
       "    <tr>\n",
       "      <th>83</th>\n",
       "      <td>83</td>\n",
       "      <td>Avior</td>\n",
       "      <td>HR 3307</td>\n",
       "      <td>eps</td>\n",
       "      <td>Car</td>\n",
       "      <td>A</td>\n",
       "      <td>08225-5931</td>\n",
       "      <td>1.86</td>\n",
       "      <td>41037</td>\n",
       "      <td>71129</td>\n",
       "      <td>125.628480</td>\n",
       "      <td>-59.509484</td>\n",
       "      <td>2016-07-20</td>\n",
       "    </tr>\n",
       "    <tr>\n",
       "      <th>8</th>\n",
       "      <td>8</td>\n",
       "      <td>Adhil</td>\n",
       "      <td>HR 390</td>\n",
       "      <td>ksi</td>\n",
       "      <td>And</td>\n",
       "      <td>-</td>\n",
       "      <td>-</td>\n",
       "      <td>4.87</td>\n",
       "      <td>6411</td>\n",
       "      <td>8207</td>\n",
       "      <td>20.585080</td>\n",
       "      <td>45.528778</td>\n",
       "      <td>2016-08-21</td>\n",
       "    </tr>\n",
       "    <tr>\n",
       "      <th>231</th>\n",
       "      <td>231</td>\n",
       "      <td>Pipirima</td>\n",
       "      <td>HR 6252</td>\n",
       "      <td>mu02</td>\n",
       "      <td>Sco</td>\n",
       "      <td>A</td>\n",
       "      <td>16523-3801</td>\n",
       "      <td>3.56</td>\n",
       "      <td>82545</td>\n",
       "      <td>151985</td>\n",
       "      <td>253.083939</td>\n",
       "      <td>-38.017535</td>\n",
       "      <td>2017-09-05</td>\n",
       "    </tr>\n",
       "    <tr>\n",
       "      <th>50</th>\n",
       "      <td>50</td>\n",
       "      <td>Alruba</td>\n",
       "      <td>HR 6618</td>\n",
       "      <td>-</td>\n",
       "      <td>Dra</td>\n",
       "      <td>-</td>\n",
       "      <td>-</td>\n",
       "      <td>5.75</td>\n",
       "      <td>86782</td>\n",
       "      <td>161693</td>\n",
       "      <td>265.996568</td>\n",
       "      <td>53.801715</td>\n",
       "      <td>2018-06-01</td>\n",
       "    </tr>\n",
       "    <tr>\n",
       "      <th>86</th>\n",
       "      <td>86</td>\n",
       "      <td>Azmidi</td>\n",
       "      <td>HR 3045</td>\n",
       "      <td>ksi</td>\n",
       "      <td>Pup</td>\n",
       "      <td>Aa</td>\n",
       "      <td>07493-2452</td>\n",
       "      <td>3.45</td>\n",
       "      <td>38170</td>\n",
       "      <td>63700</td>\n",
       "      <td>117.323563</td>\n",
       "      <td>-24.859786</td>\n",
       "      <td>2018-06-01</td>\n",
       "    </tr>\n",
       "    <tr>\n",
       "      <th>183</th>\n",
       "      <td>183</td>\n",
       "      <td>Marsic</td>\n",
       "      <td>HR 6008</td>\n",
       "      <td>kap</td>\n",
       "      <td>Her</td>\n",
       "      <td>A</td>\n",
       "      <td>16081+1703</td>\n",
       "      <td>5.00</td>\n",
       "      <td>79043</td>\n",
       "      <td>145001</td>\n",
       "      <td>242.018857</td>\n",
       "      <td>17.046980</td>\n",
       "      <td>2017-02-01</td>\n",
       "    </tr>\n",
       "    <tr>\n",
       "      <th>317</th>\n",
       "      <td>317</td>\n",
       "      <td>Xuange</td>\n",
       "      <td>HR 5351</td>\n",
       "      <td>lam</td>\n",
       "      <td>Boo</td>\n",
       "      <td>-</td>\n",
       "      <td>14164+4605</td>\n",
       "      <td>4.18</td>\n",
       "      <td>69732</td>\n",
       "      <td>125162</td>\n",
       "      <td>214.095912</td>\n",
       "      <td>46.088306</td>\n",
       "      <td>2017-06-30</td>\n",
       "    </tr>\n",
       "    <tr>\n",
       "      <th>208</th>\n",
       "      <td>208</td>\n",
       "      <td>Mirzam</td>\n",
       "      <td>HR 2294</td>\n",
       "      <td>bet</td>\n",
       "      <td>CMa</td>\n",
       "      <td>-</td>\n",
       "      <td>06227-1757</td>\n",
       "      <td>1.98</td>\n",
       "      <td>30324</td>\n",
       "      <td>44743</td>\n",
       "      <td>95.674939</td>\n",
       "      <td>-17.955919</td>\n",
       "      <td>2016-07-20</td>\n",
       "    </tr>\n",
       "    <tr>\n",
       "      <th>273</th>\n",
       "      <td>273</td>\n",
       "      <td>Shaula</td>\n",
       "      <td>HR 6527</td>\n",
       "      <td>lam</td>\n",
       "      <td>Sco</td>\n",
       "      <td>Aa</td>\n",
       "      <td>17336-3706</td>\n",
       "      <td>2.08</td>\n",
       "      <td>85927</td>\n",
       "      <td>158926</td>\n",
       "      <td>263.402167</td>\n",
       "      <td>-37.103824</td>\n",
       "      <td>2016-07-20</td>\n",
       "    </tr>\n",
       "    <tr>\n",
       "      <th>215</th>\n",
       "      <td>215</td>\n",
       "      <td>Musica</td>\n",
       "      <td>HR 8030</td>\n",
       "      <td>18</td>\n",
       "      <td>Del</td>\n",
       "      <td>-</td>\n",
       "      <td>20584+1050</td>\n",
       "      <td>5.48</td>\n",
       "      <td>103527</td>\n",
       "      <td>199665</td>\n",
       "      <td>314.608058</td>\n",
       "      <td>10.839286</td>\n",
       "      <td>2015-12-15</td>\n",
       "    </tr>\n",
       "    <tr>\n",
       "      <th>206</th>\n",
       "      <td>206</td>\n",
       "      <td>Miram</td>\n",
       "      <td>HR 834</td>\n",
       "      <td>eta</td>\n",
       "      <td>Per</td>\n",
       "      <td>A</td>\n",
       "      <td>02507+5554</td>\n",
       "      <td>3.77</td>\n",
       "      <td>13268</td>\n",
       "      <td>17506</td>\n",
       "      <td>42.674207</td>\n",
       "      <td>55.895497</td>\n",
       "      <td>2017-09-05</td>\n",
       "    </tr>\n",
       "    <tr>\n",
       "      <th>20</th>\n",
       "      <td>20</td>\n",
       "      <td>Aldhanab</td>\n",
       "      <td>HR 8353</td>\n",
       "      <td>gam</td>\n",
       "      <td>Gru</td>\n",
       "      <td>-</td>\n",
       "      <td>-</td>\n",
       "      <td>3.00</td>\n",
       "      <td>108085</td>\n",
       "      <td>207971</td>\n",
       "      <td>328.482192</td>\n",
       "      <td>-37.364855</td>\n",
       "      <td>2017-09-05</td>\n",
       "    </tr>\n",
       "    <tr>\n",
       "      <th>261</th>\n",
       "      <td>261</td>\n",
       "      <td>Sadr</td>\n",
       "      <td>HR 7796</td>\n",
       "      <td>gam</td>\n",
       "      <td>Cyg</td>\n",
       "      <td>A</td>\n",
       "      <td>20222+4015</td>\n",
       "      <td>2.23</td>\n",
       "      <td>100453</td>\n",
       "      <td>194093</td>\n",
       "      <td>305.557091</td>\n",
       "      <td>40.256679</td>\n",
       "      <td>2016-08-21</td>\n",
       "    </tr>\n",
       "    <tr>\n",
       "      <th>53</th>\n",
       "      <td>53</td>\n",
       "      <td>Alsephina</td>\n",
       "      <td>HR 3485</td>\n",
       "      <td>del</td>\n",
       "      <td>Vel</td>\n",
       "      <td>Aa</td>\n",
       "      <td>08447-5443</td>\n",
       "      <td>1.99</td>\n",
       "      <td>42913</td>\n",
       "      <td>74956</td>\n",
       "      <td>131.175944</td>\n",
       "      <td>-54.708819</td>\n",
       "      <td>2017-09-05</td>\n",
       "    </tr>\n",
       "    <tr>\n",
       "      <th>211</th>\n",
       "      <td>211</td>\n",
       "      <td>Mothallah</td>\n",
       "      <td>HR 544</td>\n",
       "      <td>alf</td>\n",
       "      <td>Tri</td>\n",
       "      <td>-</td>\n",
       "      <td>01531+2935</td>\n",
       "      <td>3.42</td>\n",
       "      <td>8796</td>\n",
       "      <td>11443</td>\n",
       "      <td>28.270450</td>\n",
       "      <td>29.578826</td>\n",
       "      <td>2016-08-21</td>\n",
       "    </tr>\n",
       "    <tr>\n",
       "      <th>79</th>\n",
       "      <td>79</td>\n",
       "      <td>Athebyne</td>\n",
       "      <td>HR 6132</td>\n",
       "      <td>eta</td>\n",
       "      <td>Dra</td>\n",
       "      <td>A</td>\n",
       "      <td>16240+6131</td>\n",
       "      <td>2.73</td>\n",
       "      <td>80331</td>\n",
       "      <td>148387</td>\n",
       "      <td>245.997858</td>\n",
       "      <td>61.514214</td>\n",
       "      <td>2017-09-05</td>\n",
       "    </tr>\n",
       "    <tr>\n",
       "      <th>152</th>\n",
       "      <td>152</td>\n",
       "      <td>Helvetios</td>\n",
       "      <td>HR 8729</td>\n",
       "      <td>51</td>\n",
       "      <td>Peg</td>\n",
       "      <td>-</td>\n",
       "      <td>22575+2046</td>\n",
       "      <td>5.49</td>\n",
       "      <td>113357</td>\n",
       "      <td>217014</td>\n",
       "      <td>344.366583</td>\n",
       "      <td>20.768831</td>\n",
       "      <td>2015-12-15</td>\n",
       "    </tr>\n",
       "    <tr>\n",
       "      <th>59</th>\n",
       "      <td>59</td>\n",
       "      <td>Aludra</td>\n",
       "      <td>HR 2827</td>\n",
       "      <td>eta</td>\n",
       "      <td>CMa</td>\n",
       "      <td>-</td>\n",
       "      <td>07241-2918</td>\n",
       "      <td>2.45</td>\n",
       "      <td>35904</td>\n",
       "      <td>58350</td>\n",
       "      <td>111.023760</td>\n",
       "      <td>-29.303106</td>\n",
       "      <td>2016-07-20</td>\n",
       "    </tr>\n",
       "    <tr>\n",
       "      <th>153</th>\n",
       "      <td>153</td>\n",
       "      <td>Heze</td>\n",
       "      <td>HR 5107</td>\n",
       "      <td>zet</td>\n",
       "      <td>Vir</td>\n",
       "      <td>A</td>\n",
       "      <td>13347-0036</td>\n",
       "      <td>3.38</td>\n",
       "      <td>66249</td>\n",
       "      <td>118098</td>\n",
       "      <td>203.673300</td>\n",
       "      <td>-0.595820</td>\n",
       "      <td>2018-06-01</td>\n",
       "    </tr>\n",
       "    <tr>\n",
       "      <th>293</th>\n",
       "      <td>293</td>\n",
       "      <td>Taygeta</td>\n",
       "      <td>HR 1145</td>\n",
       "      <td>19</td>\n",
       "      <td>Tau</td>\n",
       "      <td>Aa</td>\n",
       "      <td>03452+2428</td>\n",
       "      <td>4.30</td>\n",
       "      <td>17531</td>\n",
       "      <td>23338</td>\n",
       "      <td>56.302063</td>\n",
       "      <td>24.467270</td>\n",
       "      <td>2016-08-21</td>\n",
       "    </tr>\n",
       "    <tr>\n",
       "      <th>248</th>\n",
       "      <td>248</td>\n",
       "      <td>Regulus</td>\n",
       "      <td>HR 3982</td>\n",
       "      <td>alf</td>\n",
       "      <td>Leo</td>\n",
       "      <td>A</td>\n",
       "      <td>10084+1158</td>\n",
       "      <td>1.36</td>\n",
       "      <td>49669</td>\n",
       "      <td>87901</td>\n",
       "      <td>152.092962</td>\n",
       "      <td>11.967209</td>\n",
       "      <td>2016-06-30</td>\n",
       "    </tr>\n",
       "    <tr>\n",
       "      <th>324</th>\n",
       "      <td>324</td>\n",
       "      <td>Zhang</td>\n",
       "      <td>HR 3903</td>\n",
       "      <td>ups01</td>\n",
       "      <td>Hya</td>\n",
       "      <td>A</td>\n",
       "      <td>-</td>\n",
       "      <td>4.11</td>\n",
       "      <td>48356</td>\n",
       "      <td>85444</td>\n",
       "      <td>147.869558</td>\n",
       "      <td>-14.846603</td>\n",
       "      <td>2017-06-30</td>\n",
       "    </tr>\n",
       "    <tr>\n",
       "      <th>279</th>\n",
       "      <td>279</td>\n",
       "      <td>Spica</td>\n",
       "      <td>HR 5056</td>\n",
       "      <td>alf</td>\n",
       "      <td>Vir</td>\n",
       "      <td>Aa</td>\n",
       "      <td>13252-1110</td>\n",
       "      <td>0.98</td>\n",
       "      <td>65474</td>\n",
       "      <td>116658</td>\n",
       "      <td>201.298247</td>\n",
       "      <td>-11.161319</td>\n",
       "      <td>2016-06-30</td>\n",
       "    </tr>\n",
       "    <tr>\n",
       "      <th>54</th>\n",
       "      <td>54</td>\n",
       "      <td>Alshain</td>\n",
       "      <td>HR 7602</td>\n",
       "      <td>bet</td>\n",
       "      <td>Aql</td>\n",
       "      <td>A</td>\n",
       "      <td>19553+0624</td>\n",
       "      <td>3.71</td>\n",
       "      <td>98036</td>\n",
       "      <td>188512</td>\n",
       "      <td>298.828304</td>\n",
       "      <td>6.406763</td>\n",
       "      <td>2016-08-21</td>\n",
       "    </tr>\n",
       "    <tr>\n",
       "      <th>260</th>\n",
       "      <td>260</td>\n",
       "      <td>Sadalsuud</td>\n",
       "      <td>HR 8232</td>\n",
       "      <td>bet</td>\n",
       "      <td>Aqr</td>\n",
       "      <td>A</td>\n",
       "      <td>21316-0534</td>\n",
       "      <td>2.90</td>\n",
       "      <td>106278</td>\n",
       "      <td>204867</td>\n",
       "      <td>322.889715</td>\n",
       "      <td>-5.571176</td>\n",
       "      <td>2016-08-21</td>\n",
       "    </tr>\n",
       "    <tr>\n",
       "      <th>239</th>\n",
       "      <td>239</td>\n",
       "      <td>Prima Hyadum</td>\n",
       "      <td>HR 1346</td>\n",
       "      <td>gam</td>\n",
       "      <td>Tau</td>\n",
       "      <td>A</td>\n",
       "      <td>04198+1538</td>\n",
       "      <td>3.65</td>\n",
       "      <td>20205</td>\n",
       "      <td>27371</td>\n",
       "      <td>64.948349</td>\n",
       "      <td>15.627643</td>\n",
       "      <td>2017-09-05</td>\n",
       "    </tr>\n",
       "    <tr>\n",
       "      <th>77</th>\n",
       "      <td>77</td>\n",
       "      <td>Aspidiske</td>\n",
       "      <td>HR 3699</td>\n",
       "      <td>iot</td>\n",
       "      <td>Car</td>\n",
       "      <td>-</td>\n",
       "      <td>-</td>\n",
       "      <td>2.21</td>\n",
       "      <td>45556</td>\n",
       "      <td>80404</td>\n",
       "      <td>139.272529</td>\n",
       "      <td>-59.275232</td>\n",
       "      <td>2016-07-20</td>\n",
       "    </tr>\n",
       "    <tr>\n",
       "      <th>45</th>\n",
       "      <td>45</td>\n",
       "      <td>Alphecca</td>\n",
       "      <td>HR 5793</td>\n",
       "      <td>alf</td>\n",
       "      <td>CrB</td>\n",
       "      <td>-</td>\n",
       "      <td>-</td>\n",
       "      <td>2.22</td>\n",
       "      <td>76267</td>\n",
       "      <td>139006</td>\n",
       "      <td>233.671950</td>\n",
       "      <td>26.714693</td>\n",
       "      <td>2016-07-20</td>\n",
       "    </tr>\n",
       "  </tbody>\n",
       "</table>\n",
       "</div>"
      ],
      "text/plain": [
       "     Unnamed: 0          Name Designation     ID  Con   #       WDS_J  Vmag  \\\n",
       "118         118      Denebola     HR 4534    bet  Leo   -  11491+1434  2.14   \n",
       "138         138  Fumalsamakah     HR 8773    bet  Psc   -           -  4.48   \n",
       "168         168        Kochab     HR 5563    bet  UMi   -  14507+7409  2.07   \n",
       "12           12      Albaldah     HR 7264     pi  Sgr   A  19098-2101  2.88   \n",
       "128         128        Elnath     HR 1791    bet  Tau  Aa  05263+2836  1.65   \n",
       "83           83         Avior     HR 3307    eps  Car   A  08225-5931  1.86   \n",
       "8             8         Adhil      HR 390    ksi  And   -           -  4.87   \n",
       "231         231      Pipirima     HR 6252   mu02  Sco   A  16523-3801  3.56   \n",
       "50           50        Alruba     HR 6618      -  Dra   -           -  5.75   \n",
       "86           86        Azmidi     HR 3045    ksi  Pup  Aa  07493-2452  3.45   \n",
       "183         183        Marsic     HR 6008    kap  Her   A  16081+1703  5.00   \n",
       "317         317        Xuange     HR 5351    lam  Boo   -  14164+4605  4.18   \n",
       "208         208        Mirzam     HR 2294    bet  CMa   -  06227-1757  1.98   \n",
       "273         273        Shaula     HR 6527    lam  Sco  Aa  17336-3706  2.08   \n",
       "215         215        Musica     HR 8030     18  Del   -  20584+1050  5.48   \n",
       "206         206         Miram      HR 834    eta  Per   A  02507+5554  3.77   \n",
       "20           20      Aldhanab     HR 8353    gam  Gru   -           -  3.00   \n",
       "261         261          Sadr     HR 7796    gam  Cyg   A  20222+4015  2.23   \n",
       "53           53     Alsephina     HR 3485    del  Vel  Aa  08447-5443  1.99   \n",
       "211         211     Mothallah      HR 544    alf  Tri   -  01531+2935  3.42   \n",
       "79           79      Athebyne     HR 6132    eta  Dra   A  16240+6131  2.73   \n",
       "152         152     Helvetios     HR 8729     51  Peg   -  22575+2046  5.49   \n",
       "59           59        Aludra     HR 2827    eta  CMa   -  07241-2918  2.45   \n",
       "153         153          Heze     HR 5107    zet  Vir   A  13347-0036  3.38   \n",
       "293         293       Taygeta     HR 1145     19  Tau  Aa  03452+2428  4.30   \n",
       "248         248       Regulus     HR 3982    alf  Leo   A  10084+1158  1.36   \n",
       "324         324         Zhang     HR 3903  ups01  Hya   A           -  4.11   \n",
       "279         279         Spica     HR 5056    alf  Vir  Aa  13252-1110  0.98   \n",
       "54           54       Alshain     HR 7602    bet  Aql   A  19553+0624  3.71   \n",
       "260         260     Sadalsuud     HR 8232    bet  Aqr   A  21316-0534  2.90   \n",
       "239         239  Prima Hyadum     HR 1346    gam  Tau   A  04198+1538  3.65   \n",
       "77           77     Aspidiske     HR 3699    iot  Car   -           -  2.21   \n",
       "45           45      Alphecca     HR 5793    alf  CrB   -           -  2.22   \n",
       "\n",
       "        HIP      HD   RA(J2000)  Dec(J2000)        Date  \n",
       "118   57632  102647  177.264910   14.572058  2016-06-30  \n",
       "138  113889  217891  345.969225    3.820045  2018-06-01  \n",
       "168   72607  131873  222.676357   74.155504  2016-07-20  \n",
       "12    94141  178524  287.440971  -21.023615  2017-09-05  \n",
       "128   25428   35497   81.572971   28.607452  2016-07-20  \n",
       "83    41037   71129  125.628480  -59.509484  2016-07-20  \n",
       "8      6411    8207   20.585080   45.528778  2016-08-21  \n",
       "231   82545  151985  253.083939  -38.017535  2017-09-05  \n",
       "50    86782  161693  265.996568   53.801715  2018-06-01  \n",
       "86    38170   63700  117.323563  -24.859786  2018-06-01  \n",
       "183   79043  145001  242.018857   17.046980  2017-02-01  \n",
       "317   69732  125162  214.095912   46.088306  2017-06-30  \n",
       "208   30324   44743   95.674939  -17.955919  2016-07-20  \n",
       "273   85927  158926  263.402167  -37.103824  2016-07-20  \n",
       "215  103527  199665  314.608058   10.839286  2015-12-15  \n",
       "206   13268   17506   42.674207   55.895497  2017-09-05  \n",
       "20   108085  207971  328.482192  -37.364855  2017-09-05  \n",
       "261  100453  194093  305.557091   40.256679  2016-08-21  \n",
       "53    42913   74956  131.175944  -54.708819  2017-09-05  \n",
       "211    8796   11443   28.270450   29.578826  2016-08-21  \n",
       "79    80331  148387  245.997858   61.514214  2017-09-05  \n",
       "152  113357  217014  344.366583   20.768831  2015-12-15  \n",
       "59    35904   58350  111.023760  -29.303106  2016-07-20  \n",
       "153   66249  118098  203.673300   -0.595820  2018-06-01  \n",
       "293   17531   23338   56.302063   24.467270  2016-08-21  \n",
       "248   49669   87901  152.092962   11.967209  2016-06-30  \n",
       "324   48356   85444  147.869558  -14.846603  2017-06-30  \n",
       "279   65474  116658  201.298247  -11.161319  2016-06-30  \n",
       "54    98036  188512  298.828304    6.406763  2016-08-21  \n",
       "260  106278  204867  322.889715   -5.571176  2016-08-21  \n",
       "239   20205   27371   64.948349   15.627643  2017-09-05  \n",
       "77    45556   80404  139.272529  -59.275232  2016-07-20  \n",
       "45    76267  139006  233.671950   26.714693  2016-07-20  "
      ]
     },
     "execution_count": 194,
     "metadata": {},
     "output_type": "execute_result"
    }
   ],
   "source": [
    "subsample"
   ]
  },
  {
   "cell_type": "code",
   "execution_count": 195,
   "metadata": {},
   "outputs": [
    {
     "data": {
      "text/html": [
       "<div>\n",
       "<style scoped>\n",
       "    .dataframe tbody tr th:only-of-type {\n",
       "        vertical-align: middle;\n",
       "    }\n",
       "\n",
       "    .dataframe tbody tr th {\n",
       "        vertical-align: top;\n",
       "    }\n",
       "\n",
       "    .dataframe thead th {\n",
       "        text-align: right;\n",
       "    }\n",
       "</style>\n",
       "<table border=\"1\" class=\"dataframe\">\n",
       "  <thead>\n",
       "    <tr style=\"text-align: right;\">\n",
       "      <th></th>\n",
       "      <th>Unnamed: 0</th>\n",
       "      <th>Name</th>\n",
       "      <th>Designation</th>\n",
       "      <th>ID</th>\n",
       "      <th>Con</th>\n",
       "      <th>#</th>\n",
       "      <th>WDS_J</th>\n",
       "      <th>Vmag</th>\n",
       "      <th>HIP</th>\n",
       "      <th>HD</th>\n",
       "      <th>RA(J2000)</th>\n",
       "      <th>Dec(J2000)</th>\n",
       "      <th>Date</th>\n",
       "    </tr>\n",
       "  </thead>\n",
       "  <tbody>\n",
       "    <tr>\n",
       "      <th>0</th>\n",
       "      <td>0</td>\n",
       "      <td>Acamar</td>\n",
       "      <td>HR 897</td>\n",
       "      <td>tet01</td>\n",
       "      <td>Eri</td>\n",
       "      <td>A</td>\n",
       "      <td>02583-4018</td>\n",
       "      <td>2.88</td>\n",
       "      <td>13847</td>\n",
       "      <td>18622</td>\n",
       "      <td>44.565311</td>\n",
       "      <td>-40.304672</td>\n",
       "      <td>2016-07-20</td>\n",
       "    </tr>\n",
       "    <tr>\n",
       "      <th>1</th>\n",
       "      <td>1</td>\n",
       "      <td>Achernar</td>\n",
       "      <td>HR 472</td>\n",
       "      <td>alf</td>\n",
       "      <td>Eri</td>\n",
       "      <td>A</td>\n",
       "      <td>-</td>\n",
       "      <td>0.45</td>\n",
       "      <td>7588</td>\n",
       "      <td>10144</td>\n",
       "      <td>24.428523</td>\n",
       "      <td>-57.236753</td>\n",
       "      <td>2016-06-30</td>\n",
       "    </tr>\n",
       "    <tr>\n",
       "      <th>2</th>\n",
       "      <td>2</td>\n",
       "      <td>Achird</td>\n",
       "      <td>HR 219</td>\n",
       "      <td>eta</td>\n",
       "      <td>Cas</td>\n",
       "      <td>A</td>\n",
       "      <td>00491+5749</td>\n",
       "      <td>3.46</td>\n",
       "      <td>3821</td>\n",
       "      <td>4614</td>\n",
       "      <td>12.276213</td>\n",
       "      <td>57.815187</td>\n",
       "      <td>2017-09-05</td>\n",
       "    </tr>\n",
       "    <tr>\n",
       "      <th>3</th>\n",
       "      <td>3</td>\n",
       "      <td>Acrab</td>\n",
       "      <td>HR 5984</td>\n",
       "      <td>bet</td>\n",
       "      <td>Sco</td>\n",
       "      <td>Aa</td>\n",
       "      <td>16054-1948</td>\n",
       "      <td>2.56</td>\n",
       "      <td>78820</td>\n",
       "      <td>144217</td>\n",
       "      <td>241.359300</td>\n",
       "      <td>-19.805453</td>\n",
       "      <td>2016-08-21</td>\n",
       "    </tr>\n",
       "    <tr>\n",
       "      <th>4</th>\n",
       "      <td>4</td>\n",
       "      <td>Acrux</td>\n",
       "      <td>HR 4730</td>\n",
       "      <td>alf</td>\n",
       "      <td>Cru</td>\n",
       "      <td>Aa</td>\n",
       "      <td>12266-6306</td>\n",
       "      <td>1.33</td>\n",
       "      <td>60718</td>\n",
       "      <td>108248</td>\n",
       "      <td>186.649563</td>\n",
       "      <td>-63.099093</td>\n",
       "      <td>2016-07-20</td>\n",
       "    </tr>\n",
       "    <tr>\n",
       "      <th>...</th>\n",
       "      <td>...</td>\n",
       "      <td>...</td>\n",
       "      <td>...</td>\n",
       "      <td>...</td>\n",
       "      <td>...</td>\n",
       "      <td>...</td>\n",
       "      <td>...</td>\n",
       "      <td>...</td>\n",
       "      <td>...</td>\n",
       "      <td>...</td>\n",
       "      <td>...</td>\n",
       "      <td>...</td>\n",
       "      <td>...</td>\n",
       "    </tr>\n",
       "    <tr>\n",
       "      <th>325</th>\n",
       "      <td>325</td>\n",
       "      <td>Zibal</td>\n",
       "      <td>HR 984</td>\n",
       "      <td>zet</td>\n",
       "      <td>Eri</td>\n",
       "      <td>Aa</td>\n",
       "      <td>03158-0849</td>\n",
       "      <td>4.80</td>\n",
       "      <td>15197</td>\n",
       "      <td>20320</td>\n",
       "      <td>48.958436</td>\n",
       "      <td>-8.819731</td>\n",
       "      <td>2016-09-12</td>\n",
       "    </tr>\n",
       "    <tr>\n",
       "      <th>326</th>\n",
       "      <td>326</td>\n",
       "      <td>Zosma</td>\n",
       "      <td>HR 4357</td>\n",
       "      <td>del</td>\n",
       "      <td>Leo</td>\n",
       "      <td>-</td>\n",
       "      <td>11141+2031</td>\n",
       "      <td>2.56</td>\n",
       "      <td>54872</td>\n",
       "      <td>97603</td>\n",
       "      <td>168.527089</td>\n",
       "      <td>20.523718</td>\n",
       "      <td>2016-07-20</td>\n",
       "    </tr>\n",
       "    <tr>\n",
       "      <th>327</th>\n",
       "      <td>327</td>\n",
       "      <td>Zubenelgenubi</td>\n",
       "      <td>HR 5531</td>\n",
       "      <td>alf02</td>\n",
       "      <td>Lib</td>\n",
       "      <td>Aa</td>\n",
       "      <td>14509-1603</td>\n",
       "      <td>2.75</td>\n",
       "      <td>72622</td>\n",
       "      <td>130841</td>\n",
       "      <td>222.719638</td>\n",
       "      <td>-16.041777</td>\n",
       "      <td>2016-08-21</td>\n",
       "    </tr>\n",
       "    <tr>\n",
       "      <th>328</th>\n",
       "      <td>328</td>\n",
       "      <td>Zubenelhakrabi</td>\n",
       "      <td>HR 5787</td>\n",
       "      <td>gam</td>\n",
       "      <td>Lib</td>\n",
       "      <td>A</td>\n",
       "      <td>15355-1447</td>\n",
       "      <td>3.91</td>\n",
       "      <td>76333</td>\n",
       "      <td>138905</td>\n",
       "      <td>233.881578</td>\n",
       "      <td>-14.789536</td>\n",
       "      <td>2017-09-05</td>\n",
       "    </tr>\n",
       "    <tr>\n",
       "      <th>329</th>\n",
       "      <td>329</td>\n",
       "      <td>Zubeneschamali</td>\n",
       "      <td>HR 5685</td>\n",
       "      <td>bet</td>\n",
       "      <td>Lib</td>\n",
       "      <td>-</td>\n",
       "      <td>-</td>\n",
       "      <td>2.61</td>\n",
       "      <td>74785</td>\n",
       "      <td>135742</td>\n",
       "      <td>229.251724</td>\n",
       "      <td>-9.382914</td>\n",
       "      <td>2016-08-21</td>\n",
       "    </tr>\n",
       "  </tbody>\n",
       "</table>\n",
       "<p>297 rows × 13 columns</p>\n",
       "</div>"
      ],
      "text/plain": [
       "     Unnamed: 0            Name Designation     ID  Con   #       WDS_J  Vmag  \\\n",
       "0             0          Acamar      HR 897  tet01  Eri   A  02583-4018  2.88   \n",
       "1             1        Achernar      HR 472    alf  Eri   A           -  0.45   \n",
       "2             2          Achird      HR 219    eta  Cas   A  00491+5749  3.46   \n",
       "3             3           Acrab     HR 5984    bet  Sco  Aa  16054-1948  2.56   \n",
       "4             4           Acrux     HR 4730    alf  Cru  Aa  12266-6306  1.33   \n",
       "..          ...             ...         ...    ...  ...  ..         ...   ...   \n",
       "325         325           Zibal      HR 984    zet  Eri  Aa  03158-0849  4.80   \n",
       "326         326           Zosma     HR 4357    del  Leo   -  11141+2031  2.56   \n",
       "327         327   Zubenelgenubi     HR 5531  alf02  Lib  Aa  14509-1603  2.75   \n",
       "328         328  Zubenelhakrabi     HR 5787    gam  Lib   A  15355-1447  3.91   \n",
       "329         329  Zubeneschamali     HR 5685    bet  Lib   -           -  2.61   \n",
       "\n",
       "       HIP      HD   RA(J2000)  Dec(J2000)        Date  \n",
       "0    13847   18622   44.565311  -40.304672  2016-07-20  \n",
       "1     7588   10144   24.428523  -57.236753  2016-06-30  \n",
       "2     3821    4614   12.276213   57.815187  2017-09-05  \n",
       "3    78820  144217  241.359300  -19.805453  2016-08-21  \n",
       "4    60718  108248  186.649563  -63.099093  2016-07-20  \n",
       "..     ...     ...         ...         ...         ...  \n",
       "325  15197   20320   48.958436   -8.819731  2016-09-12  \n",
       "326  54872   97603  168.527089   20.523718  2016-07-20  \n",
       "327  72622  130841  222.719638  -16.041777  2016-08-21  \n",
       "328  76333  138905  233.881578  -14.789536  2017-09-05  \n",
       "329  74785  135742  229.251724   -9.382914  2016-08-21  \n",
       "\n",
       "[297 rows x 13 columns]"
      ]
     },
     "execution_count": 195,
     "metadata": {},
     "output_type": "execute_result"
    }
   ],
   "source": [
    "remaining"
   ]
  }
 ],
 "metadata": {
  "@webio": {
   "lastCommId": "93e3742273004dbda745bffa21e04c9e",
   "lastKernelId": "34cea28c-60dd-45b7-9866-1e7bd5f3e7fe"
  },
  "kernelspec": {
   "display_name": "Python 3 (ipykernel)",
   "language": "python",
   "name": "python3"
  },
  "language_info": {
   "codemirror_mode": {
    "name": "ipython",
    "version": 3
   },
   "file_extension": ".py",
   "mimetype": "text/x-python",
   "name": "python",
   "nbconvert_exporter": "python",
   "pygments_lexer": "ipython3",
   "version": "3.9.5"
  },
  "nteract": {
   "version": "0.28.0"
  }
 },
 "nbformat": 4,
 "nbformat_minor": 4
}
