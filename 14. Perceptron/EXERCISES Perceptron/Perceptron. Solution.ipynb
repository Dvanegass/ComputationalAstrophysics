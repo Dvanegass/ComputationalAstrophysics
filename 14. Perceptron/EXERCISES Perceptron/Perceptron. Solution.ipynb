{
 "cells": [
  {
   "cell_type": "markdown",
   "metadata": {},
   "source": [
    "![Astrofisica Computacional](../logo.PNG)"
   ]
  },
  {
   "cell_type": "markdown",
   "metadata": {
    "id": "5soGuirloNgq"
   },
   "source": [
    "---\n",
    "## Perceptrons \n",
    "\n",
    "\n",
    "Eduard Larrañaga (ealarranaga@unal.edu.co)\n",
    "\n",
    "---"
   ]
  },
  {
   "cell_type": "markdown",
   "metadata": {},
   "source": [
    "## 01. A Linear Perceptron"
   ]
  },
  {
   "cell_type": "code",
   "execution_count": 110,
   "metadata": {},
   "outputs": [],
   "source": [
    "import numpy as np\n",
    "import pandas as pd\n",
    "import matplotlib.pyplot as plt"
   ]
  },
  {
   "cell_type": "code",
   "execution_count": 4,
   "metadata": {},
   "outputs": [
    {
     "data": {
      "text/html": [
       "<div>\n",
       "<style scoped>\n",
       "    .dataframe tbody tr th:only-of-type {\n",
       "        vertical-align: middle;\n",
       "    }\n",
       "\n",
       "    .dataframe tbody tr th {\n",
       "        vertical-align: top;\n",
       "    }\n",
       "\n",
       "    .dataframe thead th {\n",
       "        text-align: right;\n",
       "    }\n",
       "</style>\n",
       "<table border=\"1\" class=\"dataframe\">\n",
       "  <thead>\n",
       "    <tr style=\"text-align: right;\">\n",
       "      <th></th>\n",
       "      <th>x</th>\n",
       "      <th>y</th>\n",
       "      <th>phi</th>\n",
       "    </tr>\n",
       "  </thead>\n",
       "  <tbody>\n",
       "    <tr>\n",
       "      <th>0</th>\n",
       "      <td>73.517682</td>\n",
       "      <td>44.800793</td>\n",
       "      <td>1116.826387</td>\n",
       "    </tr>\n",
       "    <tr>\n",
       "      <th>1</th>\n",
       "      <td>32.756284</td>\n",
       "      <td>28.724427</td>\n",
       "      <td>1066.212487</td>\n",
       "    </tr>\n",
       "    <tr>\n",
       "      <th>2</th>\n",
       "      <td>-13.308013</td>\n",
       "      <td>2.458485</td>\n",
       "      <td>490.735354</td>\n",
       "    </tr>\n",
       "    <tr>\n",
       "      <th>3</th>\n",
       "      <td>62.884936</td>\n",
       "      <td>5.696075</td>\n",
       "      <td>-1130.689639</td>\n",
       "    </tr>\n",
       "    <tr>\n",
       "      <th>4</th>\n",
       "      <td>47.861635</td>\n",
       "      <td>29.955114</td>\n",
       "      <td>782.448037</td>\n",
       "    </tr>\n",
       "    <tr>\n",
       "      <th>...</th>\n",
       "      <td>...</td>\n",
       "      <td>...</td>\n",
       "      <td>...</td>\n",
       "    </tr>\n",
       "    <tr>\n",
       "      <th>166</th>\n",
       "      <td>84.174447</td>\n",
       "      <td>7.278451</td>\n",
       "      <td>-1540.365854</td>\n",
       "    </tr>\n",
       "    <tr>\n",
       "      <th>167</th>\n",
       "      <td>-23.119203</td>\n",
       "      <td>9.013067</td>\n",
       "      <td>1145.697153</td>\n",
       "    </tr>\n",
       "    <tr>\n",
       "      <th>168</th>\n",
       "      <td>-5.747350</td>\n",
       "      <td>18.067861</td>\n",
       "      <td>1308.279480</td>\n",
       "    </tr>\n",
       "    <tr>\n",
       "      <th>169</th>\n",
       "      <td>16.419795</td>\n",
       "      <td>12.980806</td>\n",
       "      <td>450.696513</td>\n",
       "    </tr>\n",
       "    <tr>\n",
       "      <th>170</th>\n",
       "      <td>46.245703</td>\n",
       "      <td>36.231065</td>\n",
       "      <td>1222.891304</td>\n",
       "    </tr>\n",
       "  </tbody>\n",
       "</table>\n",
       "<p>171 rows × 3 columns</p>\n",
       "</div>"
      ],
      "text/plain": [
       "             x          y          phi\n",
       "0    73.517682  44.800793  1116.826387\n",
       "1    32.756284  28.724427  1066.212487\n",
       "2   -13.308013   2.458485   490.735354\n",
       "3    62.884936   5.696075 -1130.689639\n",
       "4    47.861635  29.955114   782.448037\n",
       "..         ...        ...          ...\n",
       "166  84.174447   7.278451 -1540.365854\n",
       "167 -23.119203   9.013067  1145.697153\n",
       "168  -5.747350  18.067861  1308.279480\n",
       "169  16.419795  12.980806   450.696513\n",
       "170  46.245703  36.231065  1222.891304\n",
       "\n",
       "[171 rows x 3 columns]"
      ]
     },
     "execution_count": 4,
     "metadata": {},
     "output_type": "execute_result"
    }
   ],
   "source": [
    "data = pd.read_csv('data01.csv', index_col=0)\n",
    "data"
   ]
  },
  {
   "cell_type": "code",
   "execution_count": 102,
   "metadata": {
    "scrolled": true
   },
   "outputs": [
    {
     "data": {
      "text/plain": [
       "((171, 2), (171,))"
      ]
     },
     "execution_count": 102,
     "metadata": {},
     "output_type": "execute_result"
    }
   ],
   "source": [
    "X_train = np.asarray([data['x'], data['y']])\n",
    "X_train = X_train.T\n",
    "\n",
    "y_train = np.asarray(data['phi'])\n",
    "\n",
    "X_train.shape, y_train.shape"
   ]
  },
  {
   "cell_type": "code",
   "execution_count": 107,
   "metadata": {},
   "outputs": [],
   "source": [
    "class perceptron:\n",
    "    def __init__(self):\n",
    "        np.random.seed(413)\n",
    "        self.w = np.random.rand(2)*10\n",
    "        self.bias = np.random.rand()*10\n",
    "        \n",
    "    def predict(self, X):\n",
    "        return np.dot(X, self.w) + self.bias\n",
    "    \n",
    "    def fC(self, X, y):\n",
    "        yp = self.predict(X)\n",
    "        return sum((yp - y)**2)\n",
    "    \n",
    "    def grad_fC(self,X, y):\n",
    "        yp = self.predict(X)\n",
    "        grad_w0 = sum(2*(yp-y)*X[:,0])\n",
    "        grad_w1 = sum(2*(yp-y)*X[:,1])\n",
    "        return [grad_w0, grad_w1, sum(2*(yp - y))]\n",
    "    \n",
    "    def improve(self,X,y):\n",
    "        alpha_w = 1e-7# Learning Rate\n",
    "        alpha_b = 1e-6# Learning Rate\n",
    "        self.w[0] -= alpha_w*self.grad_fC(X,y)[0]\n",
    "        self.w[1] -= alpha_w*self.grad_fC(X,y)[1]\n",
    "        self.bias -= alpha_b*self.grad_fC(X,y)[2]\n",
    "        \n",
    "    def train(self, X, y, epochs):\n",
    "        self.history = np.zeros(epochs)\n",
    "        for i in range(epochs):\n",
    "            self.history[i] = self.fC(X,y)\n",
    "            self.improve(X,y)"
   ]
  },
  {
   "cell_type": "code",
   "execution_count": 108,
   "metadata": {},
   "outputs": [
    {
     "name": "stdout",
     "output_type": "stream",
     "text": [
      "initial cost =  415226788.1077046\n",
      "final cost after 70000 epochs =  0.000895913543317495\n"
     ]
    }
   ],
   "source": [
    "p = perceptron()\n",
    "\n",
    "epochs = 70000\n",
    "p.train(X_train, y_train, epochs)\n",
    "\n",
    "history = p.history\n",
    "print('initial cost = ', history[0])\n",
    "print(f'final cost after {epochs:.0f} epochs = ', history[-1])"
   ]
  },
  {
   "cell_type": "code",
   "execution_count": 109,
   "metadata": {},
   "outputs": [
    {
     "data": {
      "text/plain": [
       "(array([-23.99997533,  64.00011851]), 13.995003811770468)"
      ]
     },
     "execution_count": 109,
     "metadata": {},
     "output_type": "execute_result"
    }
   ],
   "source": [
    "p.w, p.bias"
   ]
  },
  {
   "cell_type": "code",
   "execution_count": 114,
   "metadata": {},
   "outputs": [
    {
     "data": {
      "image/png": "[encoded data removed]",
      "text/plain": [
       "<Figure size 504x504 with 1 Axes>"
      ]
     },
     "metadata": {
      "needs_background": "light"
     },
     "output_type": "display_data"
    }
   ],
   "source": [
    "predictions = p.predict(X_train)\n",
    "\n",
    "plt.figure(figsize=(7,7))\n",
    "plt.scatter(y, predictions)\n",
    "plt.xlabel(r'labels $[y]$')\n",
    "plt.ylabel(r'predictions $[y_p]$')\n",
    "plt.grid()\n",
    "plt.show()"
   ]
  },
  {
   "cell_type": "markdown",
   "metadata": {},
   "source": [
    "---\n",
    "## A Non-Linear Perceptron"
   ]
  },
  {
   "cell_type": "code",
   "execution_count": 115,
   "metadata": {},
   "outputs": [
    {
     "data": {
      "text/html": [
       "<div>\n",
       "<style scoped>\n",
       "    .dataframe tbody tr th:only-of-type {\n",
       "        vertical-align: middle;\n",
       "    }\n",
       "\n",
       "    .dataframe tbody tr th {\n",
       "        vertical-align: top;\n",
       "    }\n",
       "\n",
       "    .dataframe thead th {\n",
       "        text-align: right;\n",
       "    }\n",
       "</style>\n",
       "<table border=\"1\" class=\"dataframe\">\n",
       "  <thead>\n",
       "    <tr style=\"text-align: right;\">\n",
       "      <th></th>\n",
       "      <th>x</th>\n",
       "      <th>psi</th>\n",
       "    </tr>\n",
       "  </thead>\n",
       "  <tbody>\n",
       "    <tr>\n",
       "      <th>0</th>\n",
       "      <td>48.517682</td>\n",
       "      <td>3813.612730</td>\n",
       "    </tr>\n",
       "    <tr>\n",
       "      <th>1</th>\n",
       "      <td>7.756284</td>\n",
       "      <td>-40.293225</td>\n",
       "    </tr>\n",
       "    <tr>\n",
       "      <th>2</th>\n",
       "      <td>-38.308013</td>\n",
       "      <td>3603.551985</td>\n",
       "    </tr>\n",
       "    <tr>\n",
       "      <th>3</th>\n",
       "      <td>37.884936</td>\n",
       "      <td>2167.607856</td>\n",
       "    </tr>\n",
       "    <tr>\n",
       "      <th>4</th>\n",
       "      <td>22.861635</td>\n",
       "      <td>612.799280</td>\n",
       "    </tr>\n",
       "    <tr>\n",
       "      <th>...</th>\n",
       "      <td>...</td>\n",
       "      <td>...</td>\n",
       "    </tr>\n",
       "    <tr>\n",
       "      <th>195</th>\n",
       "      <td>70.160036</td>\n",
       "      <td>8560.980559</td>\n",
       "    </tr>\n",
       "    <tr>\n",
       "      <th>196</th>\n",
       "      <td>-20.880126</td>\n",
       "      <td>1226.801640</td>\n",
       "    </tr>\n",
       "    <tr>\n",
       "      <th>197</th>\n",
       "      <td>69.542900</td>\n",
       "      <td>8399.657767</td>\n",
       "    </tr>\n",
       "    <tr>\n",
       "      <th>198</th>\n",
       "      <td>-34.494058</td>\n",
       "      <td>2979.573084</td>\n",
       "    </tr>\n",
       "    <tr>\n",
       "      <th>199</th>\n",
       "      <td>26.131566</td>\n",
       "      <td>874.349294</td>\n",
       "    </tr>\n",
       "  </tbody>\n",
       "</table>\n",
       "<p>200 rows × 2 columns</p>\n",
       "</div>"
      ],
      "text/plain": [
       "             x          psi\n",
       "0    48.517682  3813.612730\n",
       "1     7.756284   -40.293225\n",
       "2   -38.308013  3603.551985\n",
       "3    37.884936  2167.607856\n",
       "4    22.861635   612.799280\n",
       "..         ...          ...\n",
       "195  70.160036  8560.980559\n",
       "196 -20.880126  1226.801640\n",
       "197  69.542900  8399.657767\n",
       "198 -34.494058  2979.573084\n",
       "199  26.131566   874.349294\n",
       "\n",
       "[200 rows x 2 columns]"
      ]
     },
     "execution_count": 115,
     "metadata": {},
     "output_type": "execute_result"
    }
   ],
   "source": [
    "data = pd.read_csv('data02.csv', index_col=0)\n",
    "data"
   ]
  },
  {
   "cell_type": "code",
   "execution_count": 116,
   "metadata": {},
   "outputs": [
    {
     "data": {
      "text/plain": [
       "((200,), (200,))"
      ]
     },
     "execution_count": 116,
     "metadata": {},
     "output_type": "execute_result"
    }
   ],
   "source": [
    "X_train = np.asarray(data['x'])\n",
    "y_train = np.asarray(data['psi'])\n",
    "\n",
    "X_train.shape, y_train.shape"
   ]
  },
  {
   "cell_type": "code",
   "execution_count": 120,
   "metadata": {},
   "outputs": [
    {
     "data": {
      "image/png": "[encoded data removed]",
      "text/plain": [
       "<Figure size 504x504 with 1 Axes>"
      ]
     },
     "metadata": {
      "needs_background": "light"
     },
     "output_type": "display_data"
    }
   ],
   "source": [
    "plt.figure(figsize=(7,7))\n",
    "plt.scatter(X_train, y_train, marker='.')\n",
    "plt.xlabel(r'$x$')\n",
    "plt.ylabel(r'$\\psi$')\n",
    "plt.grid()\n",
    "plt.show()"
   ]
  },
  {
   "cell_type": "code",
   "execution_count": 138,
   "metadata": {},
   "outputs": [
    {
     "data": {
      "text/plain": [
       "((200, 2), (200,))"
      ]
     },
     "execution_count": 138,
     "metadata": {},
     "output_type": "execute_result"
    }
   ],
   "source": [
    "X_train = np.asarray([data['x']**2, data['x']])\n",
    "X_train = X_train.T\n",
    "y_train = np.asarray(data['psi'])\n",
    "\n",
    "X_train.shape, y_train.shape"
   ]
  },
  {
   "cell_type": "code",
   "execution_count": 174,
   "metadata": {},
   "outputs": [],
   "source": [
    "class perceptron:\n",
    "    def __init__(self):\n",
    "        np.random.seed(413)\n",
    "        self.w = np.random.rand(2)*10\n",
    "        self.bias = np.random.rand()*10\n",
    "        \n",
    "    def predict(self, X):\n",
    "        return np.dot(X, self.w) + self.bias\n",
    "    \n",
    "    def fC(self, X, y):\n",
    "        yp = self.predict(X)\n",
    "        return sum((yp - y)**2)\n",
    "    \n",
    "    def grad_fC(self,X, y):\n",
    "        yp = self.predict(X)\n",
    "        grad_w0 = sum(2*(yp-y)*X[:,0])\n",
    "        grad_w1 = sum(2*(yp-y)*X[:,1])\n",
    "        return [grad_w0, grad_w1, sum(2*(yp - y))]\n",
    "    \n",
    "    def improve(self,X,y):\n",
    "        alpha_w = 1e-10# Learning Rate\n",
    "        alpha_b = 1e-7# Learning Rate\n",
    "        self.w[0] -= alpha_w*self.grad_fC(X,y)[0]\n",
    "        self.w[1] -= alpha_w*self.grad_fC(X,y)[1]\n",
    "        self.bias -= alpha_b*self.grad_fC(X,y)[2]\n",
    "        \n",
    "    def train(self, X, y, epochs):\n",
    "        self.history = np.zeros(epochs)\n",
    "        for i in range(epochs):\n",
    "            self.history[i] = self.fC(X,y)\n",
    "            self.improve(X,y)"
   ]
  },
  {
   "cell_type": "code",
   "execution_count": 175,
   "metadata": {},
   "outputs": [
    {
     "name": "stdout",
     "output_type": "stream",
     "text": [
      "initial cost =  52741589641.44609\n",
      "final cost after 120000 epochs =  67247.59234498623\n"
     ]
    }
   ],
   "source": [
    "p = perceptron()\n",
    "\n",
    "epochs = 120000\n",
    "p.train(X_train, y_train, epochs)\n",
    "\n",
    "history = p.history\n",
    "print('initial cost = ', history[0])\n",
    "print(f'final cost after {epochs:.0f} epochs = ', history[-1])"
   ]
  },
  {
   "cell_type": "code",
   "execution_count": 176,
   "metadata": {},
   "outputs": [
    {
     "data": {
      "text/plain": [
       "(array([  1.99072647, -17.5422363 ]), 0.010001280692262008)"
      ]
     },
     "execution_count": 176,
     "metadata": {},
     "output_type": "execute_result"
    }
   ],
   "source": [
    "p.w, p.bias"
   ]
  },
  {
   "cell_type": "code",
   "execution_count": 177,
   "metadata": {},
   "outputs": [
    {
     "data": {
      "image/png": "[encoded data removed]",
      "text/plain": [
       "<Figure size 504x504 with 1 Axes>"
      ]
     },
     "metadata": {
      "needs_background": "light"
     },
     "output_type": "display_data"
    }
   ],
   "source": [
    "yp = p.predict(X_train)\n",
    "\n",
    "plt.figure(figsize=(7,7))\n",
    "plt.scatter(X_train[:,1], y_train, marker='.')\n",
    "plt.scatter(X_train[:,1], yp, marker='.')\n",
    "plt.xlabel(r'$x$')\n",
    "plt.ylabel(r'$\\psi$')\n",
    "plt.grid()\n",
    "plt.show()"
   ]
  },
  {
   "cell_type": "code",
   "execution_count": null,
   "metadata": {},
   "outputs": [],
   "source": []
  }
 ],
 "metadata": {
  "@webio": {
   "lastCommId": null,
   "lastKernelId": null
  },
  "colab": {
   "collapsed_sections": [],
   "name": "01. Decision Trees.ipynb",
   "provenance": []
  },
  "kernelspec": {
   "display_name": "Python 3 (ipykernel)",
   "language": "python",
   "name": "python3"
  },
  "language_info": {
   "codemirror_mode": {
    "name": "ipython",
    "version": 3
   },
   "file_extension": ".py",
   "mimetype": "text/x-python",
   "name": "python",
   "nbconvert_exporter": "python",
   "pygments_lexer": "ipython3",
   "version": "3.9.5"
  }
 },
 "nbformat": 4,
 "nbformat_minor": 1
}
