{
 "cells": [
  {
   "cell_type": "markdown",
   "metadata": {
    "id": "27gJZHmoiZut"
   },
   "source": [
    "![Astrofisica Computacional](../logo.PNG)"
   ]
  },
  {
   "cell_type": "markdown",
   "metadata": {},
   "source": [
    "---\n",
    "## 04. PDEs IV. No-Linear Hyperbolic Equations\n",
    "\n",
    "Eduard Larrañaga (ealarranaga@unal.edu.co)\n",
    "\n",
    "---"
   ]
  },
  {
   "cell_type": "markdown",
   "metadata": {
    "id": "bMYyeNztiWcw"
   },
   "source": [
    "### Summary\n",
    "\n",
    "Some of the effects of nonlinearity in hyperbolic partial differential equations will be presented.\n",
    "\n",
    "\n",
    "---"
   ]
  },
  {
   "cell_type": "markdown",
   "metadata": {
    "id": "L3BKSTTgiWcx"
   },
   "source": [
    "## The 1-D Linear Advection Equation\n",
    "\n",
    "Many systems of hyperbolic PDEs (such as the equations of hydrodynamics) can be written in the form of a system (linear or non-linear) of advection equations, so the study of this type of equation provides important information for more complex systems.\n",
    "\n",
    "The one-dimensional linear advection equation is\n",
    "\n",
    "\\begin{equation}\n",
    "\\partial_t \\psi + v \\partial_x \\psi = 0\n",
    "\\end{equation}\n",
    "\n",
    "where $\\psi(t,x)$ is a scalar function and $v$ is the constant speed with which the initial profile is advected (if $v > 0$ advection is from left to right). An example of this equation corresponds to the **Continuity Equation**.\n",
    "\n",
    "As shown above, the solution to this equation simply takes the initial profile, $\\psi(t=0,x)$, and moves it with speed $v$. The shape of the initial profile is preserved during advection.\n",
    "\n",
    "A direct substitution shows that $\\psi(x - vt)$ is a solution of the advection equation for any profile $\\psi$. This means that the solution is constant along the lines $x = v t$ (the curves along which the solution is constant are called **characteristic curves**).\n",
    "\n",
    "<center>\n",
    "<a href=\"https://imgbb.com/\"><img src=\"https://i.ibb.co/vZJvXcJ/advectioncharact.jpg\" alt=\"advectioncharact\" width='500'></a>\n",
    "</center>\n"
   ]
  },
  {
   "cell_type": "markdown",
   "metadata": {
    "id": "cGMhOhr9iWcy"
   },
   "source": [
    "---\n",
    "\n",
    "## Non-Linear Hyperbolic PDEs. Burger's equation.\n",
    "\n",
    "Now consider the equation of motion for a fluid in the absence of viscosity, magnetic fields, and other external forces,\n",
    "\n",
    "\\begin{equation}\n",
    "\\rho \\left( \\frac{\\partial \\vec{v}}{\\partial t} + \\vec{v} \\cdot \\vec{\\nabla} \\vec{v}\\right) = - \\vec{\\nabla } P .\n",
    "\\end{equation}\n",
    "\n",
    "If it is further considered that the fluid has no internal pressure (non-interacting particle gas or dust), the equation becomes\n",
    "\n",
    "\\begin{equation}\n",
    "\\frac{\\partial \\vec{v}}{\\partial t} + \\vec{v} \\cdot \\vec{\\nabla} \\vec{v}= 0.\n",
    "\\end{equation}\n",
    "\n",
    "This relationship is called the **Burger equation** and it is the simplest of the **non-linear hyperbolic PDEs**. In terms of a general function $\\psi = \\psi(t,x)$ in one dimension, it becomes\n",
    "\n",
    "\\begin{equation}\n",
    "\\partial_t \\psi + \\psi \\partial_x \\psi = 0.\n",
    "\\end{equation}\n",
    "\n",
    "You can see that this is almost identical to the advection equation discussed above, except that the velocity is **NOT constant** but rather corresponds to the same $\\psi$ field that you want to find.\n",
    "\n",
    "**That is, $\\psi$ is both the advect function and the speed with which it moves**.\n",
    "\n",
    "---\n",
    "\n",
    "### 1. Shocks\n",
    "\n",
    "As shown above, in the case of the linear advection equation, the solution is constant along the lines $x = vt + x_0$, which are parallel (because $v$ is constant).\n",
    "\n",
    "In the case of Burger's equation, the speed is not constant and therefore the characteristic curves will now be given by the condition $\\frac{dx}{dt} = \\psi$, with $x(0) = x_0$.\n",
    "Since $\\psi = \\psi(t,x)$, this equation cannot be integrated immediately.\n",
    "\n",
    "If you take $\\psi_0 = \\psi(t=0)$, then you can analyze how the characteristic curves behave in a small time interval (before $\\psi(x,t)$ changes significantly).\n",
    "\n",
    "<center>\n",
    "<img src=\"https://i.ibb.co/brNg0WN/burgerscharact.jpg\" alt=\"burgerscharact\" width=\"500\">\n",
    "</center>"
   ]
  },
  {
   "cell_type": "markdown",
   "metadata": {
    "id": "gG9ciq3miWcy"
   },
   "source": [
    "From this behavior it is noted that after a short time interval, the characteristic curves intersect. From this point of intersection,\n",
    "$(t_s, x_s)$, it is not possible to retrieve the information backwards in time to find a single initial state (that is, the causality of the system was lost).\n",
    "\n",
    "This union of the characteristic curves in the $t$-$x$ plane is called a **shock**, and it is one of the ways in which nonlinear problems differ from linear ones.\n",
    "\n",
    "<center><img src=\"https://i.ibb.co/8YHFfWD/burgershock.jpg\" alt=\"burgershock\" width=\"500\"></center>"
   ]
  },
  {
   "cell_type": "markdown",
   "metadata": {
    "id": "1FM7GE2viWcy"
   },
   "source": [
    "---\n",
    "### 2. Rarefaction\n",
    "\n",
    "Another type of typical effect in non-linear systems is that of **rarefaction**. The following figure shows a set of initial conditions that implies a small advection speed on the left side and a large speed on the right side.\n",
    "\n",
    "\n",
    "<center><img src=\"https://i.ibb.co/bXz2TLN/burgerscharact2.jpg\" alt=\"burgerscharact2\" width=\"500\"></center>\n",
    "\n",
    "In this case the characteristic curves do not converge but rather diverge with time evolution.\n",
    "\n",
    "<center><img src=\"https://i.ibb.co/n0k0qBs/burgersrarefaction.jpg\" alt=\"burgersrarefaction\" width=\"500\"></center>"
   ]
  },
  {
   "cell_type": "code",
   "execution_count": null,
   "metadata": {},
   "outputs": [],
   "source": []
  }
 ],
 "metadata": {
  "colab": {
   "collapsed_sections": [],
   "name": "PDE05.ipynb",
   "provenance": []
  },
  "kernelspec": {
   "display_name": "Python 3 (ipykernel)",
   "language": "python",
   "name": "python3"
  },
  "language_info": {
   "codemirror_mode": {
    "name": "ipython",
    "version": 3
   },
   "file_extension": ".py",
   "mimetype": "text/x-python",
   "name": "python",
   "nbconvert_exporter": "python",
   "pygments_lexer": "ipython3",
   "version": "3.10.9"
  }
 },
 "nbformat": 4,
 "nbformat_minor": 1
}
