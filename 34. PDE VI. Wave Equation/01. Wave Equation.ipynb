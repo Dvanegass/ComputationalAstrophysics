{
 "cells": [
  {
   "cell_type": "markdown",
   "metadata": {
    "id": "Uw2bcL6FltCB"
   },
   "source": [
    "![Astrofisica Computacional](../logo.PNG)"
   ]
  },
  {
   "cell_type": "markdown",
   "metadata": {},
   "source": [
    "---\n",
    "## 01. Wave Equation\n",
    "\n",
    "Eduard Larrañaga (ealarranaga@unal.edu.co)\n",
    "\n",
    "---"
   ]
  },
  {
   "cell_type": "markdown",
   "metadata": {
    "id": "aSVOtGizlnwl"
   },
   "source": [
    "### Summary\n",
    "\n",
    "Solve the wave equation numerically.\n",
    "\n",
    "\n",
    "---"
   ]
  },
  {
   "cell_type": "markdown",
   "metadata": {
    "id": "8ogdbF2qlnwl"
   },
   "source": [
    "---\n",
    "\n",
    "## Wave equation from the MHD equations\n",
    "\n",
    "We now consider the MHD equations for a demagnetized, viscosityless fluid. In this way the equations of continuity and motion will be\n",
    "\n",
    "\\begin{align}\n",
    "\\frac{\\partial \\rho}{\\partial t} + \\vec{\\nabla} \\cdot (\\rho \\vec{v}) = &0\\\\\n",
    "\\rho \\left( \\frac{\\partial \\vec{v}}{\\partial t} + \\vec{v} \\cdot \\vec{\\nabla} \\vec{v}\\right) = &- \\vec{\\ nabla} P\n",
    "\\end{align}\n",
    "\n",
    "Considering small disturbances around an equilibrium state identified with the quantities $P_0, \\rho_0$ and $\\vec{v}_0 = 0$, we have\n",
    "\n",
    "\\begin{equation}\n",
    "\\begin{cases}\n",
    "P = & P_0 + \\delta P\\\\\n",
    "\\rho = &\\rho_0 + \\delta \\rho\\\\\n",
    "\\vec{v} = &\\delta \\vec{v}.\n",
    "\\end{cases}\n",
    "\\end{equation}\n",
    "\n",
    "where disturbances will be assumed to be small quantities, i.e. $\\delta P, \\delta \\rho, \\delta \\vec{v} \\sim \\epsilon \\ll 1 $."
   ]
  },
  {
   "cell_type": "markdown",
   "metadata": {},
   "source": [
    "Substituting in the continuity equation and maintaining only linear orders in the perturbations, we obtain\n",
    "\n",
    "\\begin{equation}\n",
    "\\frac{\\partial \\delta \\rho}{\\partial t} +\\rho_0 \\vec{\\nabla} \\cdot \\delta \\vec{v} = 0.\n",
    "\\end{equation}\n",
    "\n",
    "Similarly, linearizing the equation of motion gives\n",
    "\n",
    "\\begin{equation}\n",
    "\\rho_0 \\frac{\\partial \\delta \\vec{v}}{\\partial t} = - \\vec{\\nabla} P .\n",
    "\\end{equation}"
   ]
  },
  {
   "cell_type": "markdown",
   "metadata": {
    "id": "SDSAmoGflnwm"
   },
   "source": [
    "Assuming an equation of state of the form $P = P(\\rho)$, the linearized equation is obtained\n",
    "\n",
    "\\begin{equation}\n",
    "\\vec{\\nabla} \\delta P = \\left( \\frac{dP}{d\\rho}\\right)_0 \\vec{\\nabla} \\delta \\rho,\n",
    "\\end{equation}\n",
    "\n",
    "and substituting in the equation of motion we have\n",
    "\n",
    "\\begin{equation}\n",
    "\\rho_0 \\frac{\\partial \\delta \\vec{v}}{\\partial t} = - \\left( \\frac{dP}{d\\rho}\\right)_0 \\vec{\\nabla} \\delta \\rho .\n",
    "\\end{equation}\n",
    "\n",
    "In this way, applying the operator $\\frac{\\partial}{\\partial t}$ to the linearized continuity equation and the operator $\\vec{\\nabla}$ to the equation of motion, the relations\n",
    "\n",
    "\\begin{equation}\n",
    "\\begin{cases}\n",
    "\\frac{\\partial^2 \\delta \\rho}{\\partial t^2} &= -\\rho_0 \\frac{\\partial}{\\partial t}\\vec{\\nabla} \\cdot \\delta \\vec{v} \\\\\n",
    "\\rho_0 \\vec{\\nabla} \\cdot \\frac{\\partial \\delta \\vec{v}}{\\partial t} &=- \\left( \\frac{dP}{d\\rho}\\right)_0 \\vec {\\nabla} \\cdot \\vec{\\nabla} \\delta \\rho.\n",
    "\\end{cases}\n",
    "\\end{equation}\n",
    "\n",
    "Combining these relations, we obtain the wave equation for density (or pressure) perturbations in the fluid, i.e. sound waves,\n",
    "\n",
    "\\begin{equation}\n",
    "\\frac{\\partial^2 \\delta \\rho}{\\partial t^2} = c_s^2 \\nabla^2 \\delta \\rho,\n",
    "\\end{equation}\n",
    "\n",
    "where the speed of sound propagation within the fluid has been identified as\n",
    "\n",
    "\\begin{equation}\n",
    "c_s^2= \\left( \\frac{dP}{d\\rho}\\right)_0.\n",
    "\\end{equation}"
   ]
  },
  {
   "cell_type": "markdown",
   "metadata": {
    "id": "33wrJjswlnwm"
   },
   "source": [
    "---\n",
    "## FTCS method\n",
    "\n",
    "The first method to be described for solving the wave equation is **FTCS** (**F**orfward **T**ime, **C**entered **S**pace). To illustrate, we consider the one-dimensional wave equation,\n",
    "\n",
    "\\begin{equation}\n",
    "\\frac{\\partial^2 \\psi}{\\partial t^2} = v^2 \\frac{\\partial^2 \\psi}{\\partial x^2}.\n",
    "\\end{equation}\n",
    "\n",
    "Dividing the spatial range $x\\in [0,L]$ into equal-sized subintervals $\\Delta x$, the second spatial derivative on the right-hand side of the equation is discretized with centered finite differences,\n",
    "\n",
    "\\begin{equation}\n",
    "\\frac{\\partial^2 \\psi }{\\partial t^2} = \\frac{v^2}{\\Delta x^2} \\left[ \\psi (t,x+\\Delta x) + \\psi (t ,x-\\Delta x) -2 \\psi (t,x)\\right].\n",
    "\\end{equation}\n",
    "\n",
    "Now we rewrite the differential equation as a set of two first-order equations by introducing a new function $\\phi (t,x)$,\n",
    "\n",
    "\\begin{equation}\n",
    "\\begin{cases}\n",
    "\\frac{d\\psi}{dt} = & \\phi(t,x)\\\\\n",
    "\\frac{d\\phi}{dt}= &\\frac{v^2}{\\Delta x^2} \\left[ \\psi (t,x+\\Delta x) + \\psi (t,x-\\Delta x ) -2 ?(t,x)\\right].\n",
    "\\end{cases}\n",
    "\\end{equation}\n",
    "\n",
    "To solve this system of equations, Euler's method is used.\n",
    "\n",
    "\\begin{equation}\n",
    "\\begin{cases}\n",
    "\\psi(t+\\Delta t, x) = & \\psi(t,x) + \\phi(t,x) \\Delta t \\\\\n",
    "\\phi(t+\\Delta t, x) = & \\phi(t,x) + \\frac{v^2 \\Delta t}{\\Delta x^2} \\left[ \\psi (t,x+\\Delta x) -2 \\psi (t,x) + \\psi (t,x-\\Delta x) \\right],\n",
    "\\end{cases}\n",
    "\\end{equation}\n",
    "\n",
    "which can be rewritten as iterative equations,\n",
    "\n",
    "\\begin{equation}\n",
    "\\begin{cases}\n",
    "\\psi^{(n+1)}_j = & \\psi^{(n)}_j + \\phi^{(n)}_j \\Delta t\\\\\n",
    "\\phi^{(n+1)}_j = & \\phi^{(n)}_j + \\frac{v^2 \\Delta t}{\\Delta x^2} \\left[ \\psi^{(n) }_{j+1} -2 \\psi^{(n)}_j + \\psi^{(n)}_{j-1} \\right].\n",
    "\\end{cases}\n",
    "\\end{equation}\n",
    "\n",
    "The FTCS method is **unconditionally unstable** in solving the wave equation."
   ]
  },
  {
   "cell_type": "markdown",
   "metadata": {},
   "source": [
    "---\n",
    "## Implicit Method\n",
    "\n",
    "The FTCS algorithm can be modified to improve its stability. To do this, we first substitute $\\Delta t \\rightarrow -\\Delta t$,\n",
    "\n",
    "\\begin{equation}\n",
    "\\begin{cases}\n",
    "\\psi(t-\\Delta t, x) = & \\psi(t,x) - \\phi(t,x) \\Delta t \\\\\n",
    "\\phi(t-\\Delta t, x) = & \\phi(t,x) - \\frac{v^2 \\Delta t}{\\Delta x^2} \\left[ \\psi (t,x+\\Delta x ) -2 \\psi (t,x) + \\psi (t,x-\\Delta x) \\right].\n",
    "\\end{cases}\n",
    "\\end{equation}\n",
    "\n",
    "This change implies that the system is evolving backwards in time in a step of size $\\Delta t$, but now the transformation $t \\rightarrow t +\\Delta t$ is performed to obtain\n",
    "\n",
    "\\begin{equation}\n",
    "\\begin{cases}\n",
    "\\psi(t, x) = & \\psi(t + \\Delta t,x) - \\phi(t + \\Delta t,x) \\Delta t \\\\\n",
    "\\phi(t, x) = & \\phi(t + \\Delta t,x) - \\frac{v^2 \\Delta t}{\\Delta x^2} \\left[ \\psi (t+\\Delta t,x+ \\Delta x) -2 \\psi (t+\\Delta t,x) + \\psi (t+\\Delta t,x-\\Delta x) \\right].\n",
    "\\end{cases}\n",
    "\\end{equation}\n",
    "\n",
    "These equations can be rearranged in the form\n",
    "\n",
    "\\begin{equation}\n",
    "\\begin{cases}\n",
    "\\psi(t + \\Delta t,x) - \\phi(t + \\Delta t,x) \\Delta t &= \\psi(t, x) \\\\\n",
    " \\phi(t + \\Delta t,x) - \\frac{v^2 \\Delta t}{\\Delta x^2} \\left[ \\psi (t+\\Delta t,x+\\Delta x) -2 \\psi ( t+\\Delta t,x) + \\psi (t+\\Delta t,x-\\Delta x) \\right] &=\\phi(t, x) ,\n",
    "\\end{cases}\n",
    "\\end{equation}\n",
    "\n",
    "or as the iterative equation\n",
    "\n",
    "\\begin{equation}\n",
    "\\begin{cases}\n",
    "\\psi^{(n+1)}_j -  \\phi^{(n+1)}_j \\Delta t &= \\psi^{(n)}_j  \\\\\n",
    " \\phi^{(n+1)}_j - \\frac{v^2 \\Delta t}{\\Delta x^2} \\left[ \\psi^{(n+1)}_{j+1} -2 \\psi ^{(n+1)}_{j} + \\psi ^{(n+1)}_{j-1} \\right] &=\\phi^{(n)}_{j}.\n",
    "\\end{cases}\n",
    "\\end{equation}\n",
    "\n",
    "Clearly this is an **implicit method** that does not allow to obtain the solution directly. However, the set of equations can be written as a linear system of simultaneous equations for $\\psi$ and $\\phi$ at each point of the mesh that can be solved by standard methods such as Gaussian elimination.\n",
    "\n",
    "Although this method involves the solution of a linear system at each point and is therefore slower than FTCS, it has the advantage of being **unconditionally stable** for solving the wave equation."
   ]
  },
  {
   "cell_type": "markdown",
   "metadata": {},
   "source": [
    "---\n",
    "\n",
    "## Crank-Nicolson method\n",
    "\n",
    "The Crank-Nicolson method is a hybrid between the FTCS method and the implicit method. The corresponding equations are obtained by taking the average of the equations of these two methods. The result is\n",
    "\n",
    "\\begin{equation}\n",
    "\\begin{cases}\n",
    "\\psi(t + \\Delta t,x) - \\frac{1}{2} \\phi(t + \\Delta t,x) \\Delta t = \\psi(t, x) + \\frac{1}{2 }\\phi(t ,x) \\Delta t \\\\\n",
    " \\phi(t + \\Delta t,x) - \\frac{v^2 \\Delta t}{2 \\Delta x^2} \\left[ \\psi (t+\\Delta t,x+\\Delta x) -2 \\psi (t+\\Delta t,x) + \\psi (t+\\Delta t,x-\\Delta x) \\right] =\\phi(t, x) + \\frac{v^2 \\Delta t}{2 \\Delta x ^2} \\left[ \\psi (t,x+\\Delta x) -2 \\psi (t,x) + \\psi (t,x-\\Delta x) \\right],\n",
    "\\end{cases}\n",
    "\\end{equation}\n",
    "\n",
    "or as a recurrence relation,\n",
    "\n",
    "\\begin{equation}\n",
    "\\begin{cases}\n",
    "\\psi^{(n+1)}_j - \\frac{1}{2} \\phi^{(n+1)}_j \\Delta t = \\psi^{(n)}_j  + \\frac{1}{2} \\phi^{(n)}_j \\Delta t\\\\\n",
    " \\phi^{(n+1)}_j - \\frac{v^2 \\Delta t}{2\\Delta x^2} \\left[ \\psi^{(n+1)}_{j+1} -2 \\psi ^{(n+1)}_{j} + \\psi ^{(n+1)}_{j-1} \\right] =\\phi^{(n)}_{j} + \\frac{v^2 \\Delta t}{2\\Delta x^2} \\left[ \\psi^{(n)}_{j+1} -2 \\psi ^{(n)}_{j} + \\psi ^{(n)}_{j-1} \\right].\n",
    "\\end{cases}\n",
    "\\end{equation}"
   ]
  },
  {
   "cell_type": "code",
   "execution_count": null,
   "metadata": {},
   "outputs": [],
   "source": []
  }
 ],
 "metadata": {
  "@webio": {
   "lastCommId": null,
   "lastKernelId": null
  },
  "colab": {
   "collapsed_sections": [],
   "name": "PDE05.ipynb",
   "provenance": []
  },
  "kernelspec": {
   "display_name": "Python 3 (ipykernel)",
   "language": "python",
   "name": "python3"
  },
  "language_info": {
   "codemirror_mode": {
    "name": "ipython",
    "version": 3
   },
   "file_extension": ".py",
   "mimetype": "text/x-python",
   "name": "python",
   "nbconvert_exporter": "python",
   "pygments_lexer": "ipython3",
   "version": "3.9.5"
  }
 },
 "nbformat": 4,
 "nbformat_minor": 1
}
