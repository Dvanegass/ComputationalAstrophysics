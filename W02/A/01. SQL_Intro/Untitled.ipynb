{
 "cells": [
  {
   "cell_type": "code",
   "execution_count": 1,
   "id": "d33727cf",
   "metadata": {},
   "outputs": [],
   "source": [
    "from astroquery.vizier import Vizier\n",
    "from astropy import coordinates\n",
    "from astropy import units as u"
   ]
  },
  {
   "cell_type": "code",
   "execution_count": 2,
   "id": "2b59483f",
   "metadata": {},
   "outputs": [
    {
     "data": {
      "text/plain": [
       "<astroquery.vizier.core.VizierClass at 0x11516ff70>"
      ]
     },
     "execution_count": 2,
     "metadata": {},
     "output_type": "execute_result"
    }
   ],
   "source": [
    "v = Vizier(keywords=[\"Stars:white_dwarf\", \"optical\"])\n",
    "v"
   ]
  },
  {
   "cell_type": "code",
   "execution_count": 3,
   "id": "5944dd46",
   "metadata": {},
   "outputs": [
    {
     "name": "stderr",
     "output_type": "stream",
     "text": [
      "WARNING: UnitsWarning: Unit 'Sun' not supported by the VOUnit standard. Did you mean uN? [astropy.units.format.vounit]\n"
     ]
    },
    {
     "data": {
      "text/plain": [
       "30"
      ]
     },
     "execution_count": 3,
     "metadata": {},
     "output_type": "execute_result"
    }
   ],
   "source": [
    "coord = coordinates.SkyCoord(0,0, unit=('deg','deg'), frame='icrs')\n",
    "result = v.query_region(coord, radius=0.5*u.deg)\n",
    "len(result)"
   ]
  },
  {
   "cell_type": "code",
   "execution_count": 4,
   "id": "d5bfbd7c",
   "metadata": {},
   "outputs": [
    {
     "data": {
      "text/plain": [
       "TableList with 30 tables:\n",
       "\t'0:B/wd/catalog' with 14 column(s) and 7 row(s) \n",
       "\t'1:J/ApJ/607/426/stars' with 13 column(s) and 3 row(s) \n",
       "\t'2:J/ApJ/765/12/table1' with 23 column(s) and 1 row(s) \n",
       "\t'3:J/ApJ/882/106/table1' with 16 column(s) and 2 row(s) \n",
       "\t'4:J/ApJ/885/74/table1' with 9 column(s) and 1 row(s) \n",
       "\t'5:J/ApJS/167/40/catalog' with 12 column(s) and 5 row(s) \n",
       "\t'6:J/ApJS/167/40/table5' with 9 column(s) and 1 row(s) \n",
       "\t'7:J/ApJS/204/5/table2' with 21 column(s) and 4 row(s) \n",
       "\t'8:J/ApJS/215/24/table4' with 18 column(s) and 1 row(s) \n",
       "\t'9:J/A+A/496/191/table3' with 11 column(s) and 1 row(s) \n",
       "\t'10:J/A+A/658/A79/wdpda' with 26 column(s) and 4 row(s) \n",
       "\t'11:J/AJ/134/741/table1' with 10 column(s) and 1 row(s) \n",
       "\t'12:J/MNRAS/402/620/table5' with 15 column(s) and 1 row(s) \n",
       "\t'13:J/MNRAS/402/620/updates' with 5 column(s) and 1 row(s) \n",
       "\t'14:J/MNRAS/402/620/table7' with 17 column(s) and 1 row(s) \n",
       "\t'15:J/MNRAS/402/620/table9' with 10 column(s) and 1 row(s) \n",
       "\t'16:J/MNRAS/417/1210/spec' with 21 column(s) and 3 row(s) \n",
       "\t'17:J/MNRAS/417/1210/phot' with 18 column(s) and 3 row(s) \n",
       "\t'18:J/MNRAS/429/2143/tablea1' with 15 column(s) and 1 row(s) \n",
       "\t'19:J/MNRAS/433/3398/table2' with 19 column(s) and 2 row(s) \n",
       "\t'20:J/MNRAS/445/1331/catalog' with 24 column(s) and 1 row(s) \n",
       "\t'21:J/MNRAS/446/4078/table6' with 19 column(s) and 2 row(s) \n",
       "\t'22:J/MNRAS/448/2260/catalog' with 20 column(s) and 9 row(s) \n",
       "\t'23:J/MNRAS/448/2260/spectra' with 11 column(s) and 15 row(s) \n",
       "\t'24:J/MNRAS/482/4570/gaia2wd' with 26 column(s) and 6 row(s) \n",
       "\t'25:J/MNRAS/482/4570/gaiasdss' with 17 column(s) and 10 row(s) \n",
       "\t'26:J/MNRAS/482/5222/tablea1' with 15 column(s) and 1 row(s) \n",
       "\t'27:J/MNRAS/482/5222/tablea2' with 14 column(s) and 2 row(s) \n",
       "\t'28:J/MNRAS/486/2169/table2' with 21 column(s) and 6 row(s) \n",
       "\t'29:J/MNRAS/486/2169/table3' with 38 column(s) and 2 row(s) "
      ]
     },
     "execution_count": 4,
     "metadata": {},
     "output_type": "execute_result"
    }
   ],
   "source": [
    "result"
   ]
  },
  {
   "cell_type": "code",
   "execution_count": 6,
   "id": "fe2c3f7d",
   "metadata": {},
   "outputs": [
    {
     "data": {
      "text/html": [
       "<div><i>Table length=10</i>\n",
       "<table id=\"table4653151952\" class=\"table-striped table-bordered table-condensed\">\n",
       "<thead><tr><th>WD</th><th>n_WD</th><th>Source</th><th>SDSS</th><th>RAJ2000</th><th>DEJ2000</th><th>umag</th><th>gmag</th><th>rmag</th><th>imag</th><th>zmag</th><th>Plate</th><th>_tab2_18</th><th>Fiber</th><th>S_N</th><th>SpClass</th><th>Sp</th></tr></thead>\n",
       "<thead><tr><th></th><th></th><th></th><th></th><th>deg</th><th>deg</th><th>mag</th><th>mag</th><th>mag</th><th>mag</th><th>mag</th><th></th><th></th><th></th><th></th><th></th><th></th></tr></thead>\n",
       "<thead><tr><th>str22</th><th>str1</th><th>int64</th><th>str19</th><th>float64</th><th>float64</th><th>float64</th><th>float64</th><th>float64</th><th>float64</th><th>float64</th><th>int16</th><th>int32</th><th>int16</th><th>float64</th><th>str10</th><th>str2</th></tr></thead>\n",
       "<tr><td>WDJ235937.33+001932.55</td><td></td><td>2738210116997261824</td><td>J235937.32+001932.5</td><td>359.9055099999999925</td><td>0.3256923800</td><td>19.904</td><td>19.535</td><td>19.586</td><td>19.684</td><td>19.670</td><td>685</td><td>52203</td><td>451</td><td>8.38651414800</td><td>DA</td><td>Sp</td></tr>\n",
       "<tr><td>WDJ000116.51+000205.07</td><td></td><td>2546038264968976768</td><td>J000116.50+000204.9</td><td>0.3188687700000000</td><td>0.0348306460</td><td>18.859</td><td>18.760</td><td>18.915</td><td>19.048</td><td>19.180</td><td>685</td><td>52203</td><td>137</td><td>12.10926478000</td><td>DC</td><td>Sp</td></tr>\n",
       "<tr><td>WDJ000116.51+000205.07</td><td></td><td>2546038264968976768</td><td>J000116.50+000204.9</td><td>0.3188687700000000</td><td>0.0348306460</td><td>18.859</td><td>18.760</td><td>18.915</td><td>19.048</td><td>19.180</td><td>387</td><td>51791</td><td>177</td><td>13.48165569000</td><td>DC</td><td>Sp</td></tr>\n",
       "<tr><td>WDJ000116.51+000205.07</td><td></td><td>2546038264968976768</td><td>J000116.50+000204.9</td><td>0.3187288699999730</td><td>0.0345688210</td><td>18.859</td><td>18.760</td><td>18.915</td><td>19.048</td><td>19.180</td><td>4216</td><td>55477</td><td>200</td><td>25.68110212000</td><td>DC</td><td>Sp</td></tr>\n",
       "<tr><td>WDJ000052.45-002610.53</td><td></td><td>2449884942327523456</td><td>J000052.44-002610.7</td><td>0.2185085900000000</td><td>-0.4362486300</td><td>19.143</td><td>18.732</td><td>18.637</td><td>18.687</td><td>18.730</td><td>387</td><td>51791</td><td>168</td><td>14.29066867000</td><td>DQ</td><td>Sp</td></tr>\n",
       "<tr><td>WDJ000104.06+000355.88</td><td></td><td>2546033488965366784</td><td>J000104.05+000355.8</td><td>0.2668938499999740</td><td>0.0655054750</td><td>19.313</td><td>18.871</td><td>19.072</td><td>19.214</td><td>19.264</td><td>7848</td><td>56959</td><td>26</td><td>35.75250420000</td><td>DA</td><td>Sp</td></tr>\n",
       "<tr><td>WDJ000104.06+000355.88</td><td></td><td>2546033488965366784</td><td>J000104.05+000355.8</td><td>0.2668938400000000</td><td>0.0655054270</td><td>19.313</td><td>18.871</td><td>19.072</td><td>19.214</td><td>19.264</td><td>685</td><td>52203</td><td>490</td><td>14.54549771000</td><td>DA</td><td>Sp</td></tr>\n",
       "<tr><td>WDJ000022.88-000635.71</td><td></td><td>2449953455645886464</td><td>J000022.88-000635.6</td><td>0.0953151329999855</td><td>-0.1099128200</td><td>18.250</td><td>18.208</td><td>18.538</td><td>18.829</td><td>19.206</td><td>7848</td><td>56959</td><td>62</td><td>50.18178094000</td><td>DA</td><td>Sp</td></tr>\n",
       "<tr><td>WDJ000022.88-000635.71</td><td></td><td>2449953455645886464</td><td>J000022.88-000635.6</td><td>0.0953109789999758</td><td>-0.1099095900</td><td>18.250</td><td>18.208</td><td>18.538</td><td>18.829</td><td>19.206</td><td>4216</td><td>55477</td><td>278</td><td>33.06585206000</td><td>DA</td><td>Sp</td></tr>\n",
       "<tr><td>WDJ000022.88-000635.71</td><td></td><td>2449953455645886464</td><td>J000022.88-000635.6</td><td>0.0953151430000000</td><td>-0.1099128500</td><td>18.250</td><td>18.208</td><td>18.538</td><td>18.829</td><td>19.206</td><td>387</td><td>51791</td><td>166</td><td>19.33401465000</td><td>DA</td><td>Sp</td></tr>\n",
       "</table></div>"
      ],
      "text/plain": [
       "<Table length=10>\n",
       "          WD           n_WD        Source               SDSS        ... Fiber       S_N       SpClass  Sp \n",
       "                                                                    ...                                   \n",
       "        str22          str1        int64               str19        ... int16     float64      str10  str2\n",
       "---------------------- ---- ------------------- ------------------- ... ----- --------------- ------- ----\n",
       "WDJ235937.33+001932.55      2738210116997261824 J235937.32+001932.5 ...   451   8.38651414800      DA   Sp\n",
       "WDJ000116.51+000205.07      2546038264968976768 J000116.50+000204.9 ...   137  12.10926478000      DC   Sp\n",
       "WDJ000116.51+000205.07      2546038264968976768 J000116.50+000204.9 ...   177  13.48165569000      DC   Sp\n",
       "WDJ000116.51+000205.07      2546038264968976768 J000116.50+000204.9 ...   200  25.68110212000      DC   Sp\n",
       "WDJ000052.45-002610.53      2449884942327523456 J000052.44-002610.7 ...   168  14.29066867000      DQ   Sp\n",
       "WDJ000104.06+000355.88      2546033488965366784 J000104.05+000355.8 ...    26  35.75250420000      DA   Sp\n",
       "WDJ000104.06+000355.88      2546033488965366784 J000104.05+000355.8 ...   490  14.54549771000      DA   Sp\n",
       "WDJ000022.88-000635.71      2449953455645886464 J000022.88-000635.6 ...    62  50.18178094000      DA   Sp\n",
       "WDJ000022.88-000635.71      2449953455645886464 J000022.88-000635.6 ...   278  33.06585206000      DA   Sp\n",
       "WDJ000022.88-000635.71      2449953455645886464 J000022.88-000635.6 ...   166  19.33401465000      DA   Sp"
      ]
     },
     "execution_count": 6,
     "metadata": {},
     "output_type": "execute_result"
    }
   ],
   "source": [
    "result[25]"
   ]
  },
  {
   "cell_type": "code",
   "execution_count": 7,
   "id": "a5cb4180",
   "metadata": {},
   "outputs": [],
   "source": [
    "from astroquery.simbad import Simbad\n"
   ]
  },
  {
   "cell_type": "code",
   "execution_count": 11,
   "id": "8f0074da",
   "metadata": {},
   "outputs": [
    {
     "data": {
      "text/html": [
       "<div><i>Table length=1</i>\n",
       "<table id=\"table4653940640\" class=\"table-striped table-bordered table-condensed\">\n",
       "<thead><tr><th>MAIN_ID</th><th>RA</th><th>DEC</th><th>RA_PREC</th><th>DEC_PREC</th><th>COO_ERR_MAJA</th><th>COO_ERR_MINA</th><th>COO_ERR_ANGLE</th><th>COO_QUAL</th><th>COO_WAVELENGTH</th><th>COO_BIBCODE</th><th>SCRIPT_NUMBER_ID</th></tr></thead>\n",
       "<thead><tr><th></th><th>&quot;h:m:s&quot;</th><th>&quot;d:m:s&quot;</th><th></th><th></th><th>mas</th><th>mas</th><th>deg</th><th></th><th></th><th></th><th></th></tr></thead>\n",
       "<thead><tr><th>object</th><th>str13</th><th>str13</th><th>int16</th><th>int16</th><th>float32</th><th>float32</th><th>int16</th><th>str1</th><th>str1</th><th>object</th><th>int32</th></tr></thead>\n",
       "<tr><td>M  87</td><td>12 30 49.4233</td><td>+12 23 28.043</td><td>12</td><td>12</td><td>0.030</td><td>0.031</td><td>0</td><td>A</td><td>R</td><td>2020A&amp;A...644A.159C</td><td>1</td></tr>\n",
       "</table></div>"
      ],
      "text/plain": [
       "<Table length=1>\n",
       "MAIN_ID       RA           DEC      RA_PREC ... COO_QUAL COO_WAVELENGTH     COO_BIBCODE     SCRIPT_NUMBER_ID\n",
       "           \"h:m:s\"       \"d:m:s\"            ...                                                             \n",
       " object     str13         str13      int16  ...   str1        str1             object            int32      \n",
       "------- ------------- ------------- ------- ... -------- -------------- ------------------- ----------------\n",
       "  M  87 12 30 49.4233 +12 23 28.043      12 ...        A              R 2020A&A...644A.159C                1"
      ]
     },
     "execution_count": 11,
     "metadata": {},
     "output_type": "execute_result"
    }
   ],
   "source": [
    "result = Simbad.query_object('M87')\n",
    "result"
   ]
  },
  {
   "cell_type": "markdown",
   "id": "48245325",
   "metadata": {},
   "source": [
    "---"
   ]
  },
  {
   "cell_type": "code",
   "execution_count": 2,
   "id": "002f72b3",
   "metadata": {},
   "outputs": [],
   "source": [
    "from astroquery.sdss import SDSS\n",
    "from astropy import units as u"
   ]
  },
  {
   "cell_type": "code",
   "execution_count": 3,
   "id": "786ebcf2",
   "metadata": {},
   "outputs": [
    {
     "data": {
      "text/html": [
       "<div><i>Table length=100</i>\n",
       "<table id=\"table4735792320\" class=\"table-striped table-bordered table-condensed\">\n",
       "<thead><tr><th>ra</th><th>dec</th><th>z</th><th>bestObjID</th></tr></thead>\n",
       "<thead><tr><th>float64</th><th>float64</th><th>float64</th><th>int64</th></tr></thead>\n",
       "<tr><td>184.86409</td><td>52.571314</td><td>0.3000001</td><td>1237657629529211079</td></tr>\n",
       "<tr><td>222.98982</td><td>42.629408</td><td>0.3000009</td><td>1237658203986460871</td></tr>\n",
       "<tr><td>146.39863</td><td>5.8334459</td><td>0.3000009</td><td>1237658423547920434</td></tr>\n",
       "<tr><td>49.459411</td><td>0.847754</td><td>0.3000012</td><td>1237660241924063461</td></tr>\n",
       "<tr><td>172.28104</td><td>10.234226</td><td>0.3000018</td><td>1237658493349789816</td></tr>\n",
       "<tr><td>156.25024</td><td>7.6586271</td><td>0.3000027</td><td>1237658425162858683</td></tr>\n",
       "<tr><td>231.07321</td><td>32.718373</td><td>0.3000027</td><td>1237662341082382595</td></tr>\n",
       "<tr><td>197.37712</td><td>10.524518</td><td>0.3000033</td><td>1237662238545478566</td></tr>\n",
       "<tr><td>184.90501</td><td>-3.3095095</td><td>0.3000035</td><td>1237650760782053596</td></tr>\n",
       "<tr><td>242.52563</td><td>6.0693494</td><td>0.3000037</td><td>1237662198290186255</td></tr>\n",
       "<tr><td>199.32977</td><td>51.728169</td><td>0.3000043</td><td>1237661958830883089</td></tr>\n",
       "<tr><td>...</td><td>...</td><td>...</td><td>...</td></tr>\n",
       "<tr><td>40.31319</td><td>-0.63847601</td><td>0.300044</td><td>0</td></tr>\n",
       "<tr><td>117.78484</td><td>29.080041</td><td>0.3000448</td><td>1237657118404772342</td></tr>\n",
       "<tr><td>131.65814</td><td>7.2827847</td><td>0.3000458</td><td>1237660669807689987</td></tr>\n",
       "<tr><td>139.82056</td><td>41.788494</td><td>0.3000461</td><td>1237657628441510105</td></tr>\n",
       "<tr><td>237.0174</td><td>22.830352</td><td>0.3000467</td><td>1237665101683687765</td></tr>\n",
       "<tr><td>351.30398</td><td>10.235439</td><td>0.3000467</td><td>1237678907315650843</td></tr>\n",
       "<tr><td>148.5743</td><td>46.957565</td><td>0.300047</td><td>1237657630055596280</td></tr>\n",
       "<tr><td>157.03699</td><td>23.002797</td><td>0.300047</td><td>1237667538547179946</td></tr>\n",
       "<tr><td>359.29552</td><td>26.694314</td><td>0.300048</td><td>1237680275796460142</td></tr>\n",
       "<tr><td>200.24996</td><td>54.405615</td><td>0.3000484</td><td>1237658917996921127</td></tr>\n",
       "<tr><td>10.377471</td><td>8.4479464</td><td>0.3000487</td><td>1237669768158511346</td></tr>\n",
       "<tr><td>191.25412</td><td>51.891805</td><td>0.300049</td><td>1237662301354459328</td></tr>\n",
       "</table></div>"
      ],
      "text/plain": [
       "<Table length=100>\n",
       "    ra        dec         z          bestObjID     \n",
       " float64    float64    float64         int64       \n",
       "--------- ----------- --------- -------------------\n",
       "184.86409   52.571314 0.3000001 1237657629529211079\n",
       "222.98982   42.629408 0.3000009 1237658203986460871\n",
       "146.39863   5.8334459 0.3000009 1237658423547920434\n",
       "49.459411    0.847754 0.3000012 1237660241924063461\n",
       "172.28104   10.234226 0.3000018 1237658493349789816\n",
       "156.25024   7.6586271 0.3000027 1237658425162858683\n",
       "231.07321   32.718373 0.3000027 1237662341082382595\n",
       "197.37712   10.524518 0.3000033 1237662238545478566\n",
       "184.90501  -3.3095095 0.3000035 1237650760782053596\n",
       "242.52563   6.0693494 0.3000037 1237662198290186255\n",
       "199.32977   51.728169 0.3000043 1237661958830883089\n",
       "      ...         ...       ...                 ...\n",
       " 40.31319 -0.63847601  0.300044                   0\n",
       "117.78484   29.080041 0.3000448 1237657118404772342\n",
       "131.65814   7.2827847 0.3000458 1237660669807689987\n",
       "139.82056   41.788494 0.3000461 1237657628441510105\n",
       " 237.0174   22.830352 0.3000467 1237665101683687765\n",
       "351.30398   10.235439 0.3000467 1237678907315650843\n",
       " 148.5743   46.957565  0.300047 1237657630055596280\n",
       "157.03699   23.002797  0.300047 1237667538547179946\n",
       "359.29552   26.694314  0.300048 1237680275796460142\n",
       "200.24996   54.405615 0.3000484 1237658917996921127\n",
       "10.377471   8.4479464 0.3000487 1237669768158511346\n",
       "191.25412   51.891805  0.300049 1237662301354459328"
      ]
     },
     "execution_count": 3,
     "metadata": {},
     "output_type": "execute_result"
    }
   ],
   "source": [
    "q1 = \"\"\"\n",
    "SELECT TOP 100 ra, dec, z, bestObjID \n",
    "FROM specObj \n",
    "WHERE class = 'galaxy' AND z> 0.3 AND zWarning = 0\n",
    "\"\"\"\n",
    "\n",
    "result = SDSS.query_sql(q1)\n",
    "result"
   ]
  },
  {
   "cell_type": "code",
   "execution_count": 7,
   "id": "2fde4c04",
   "metadata": {},
   "outputs": [
    {
     "data": {
      "text/html": [
       "<div><i>Table length=94</i>\n",
       "<table id=\"table4742207936\" class=\"table-striped table-bordered table-condensed\">\n",
       "<thead><tr><th>angDist</th><th>ra</th><th>dec</th><th>z</th><th>bestObjID</th><th>AllWISE</th><th>RAJ2000</th><th>DEJ2000</th><th>eeMaj</th><th>eeMin</th><th>eePA</th><th>W1mag</th><th>W2mag</th><th>W3mag</th><th>W4mag</th><th>Jmag</th><th>Hmag</th><th>Kmag</th><th>e_W1mag</th><th>e_W2mag</th><th>e_W3mag</th><th>e_W4mag</th><th>e_Jmag</th><th>e_Hmag</th><th>e_Kmag</th><th>ID</th><th>ccf</th><th>ex</th><th>var</th><th>qph</th><th>pmRA</th><th>e_pmRA</th><th>pmDE</th><th>e_pmDE</th><th>d2M</th></tr></thead>\n",
       "<thead><tr><th>float64</th><th>float64</th><th>float64</th><th>float64</th><th>int64</th><th>str19</th><th>float64</th><th>float64</th><th>float64</th><th>float64</th><th>float64</th><th>float64</th><th>float64</th><th>float64</th><th>float64</th><th>float64</th><th>float64</th><th>float64</th><th>float64</th><th>float64</th><th>float64</th><th>float64</th><th>float64</th><th>float64</th><th>float64</th><th>int64</th><th>str4</th><th>int64</th><th>str4</th><th>str4</th><th>int64</th><th>int64</th><th>int64</th><th>int64</th><th>float64</th></tr></thead>\n",
       "<tr><td>0.133183</td><td>184.86409</td><td>52.571314</td><td>0.3000001</td><td>1237657629529211079</td><td>J121927.38+523416.6</td><td>184.8641187</td><td>52.5712814</td><td>0.0655</td><td>0.0644</td><td>14.5</td><td>14.898</td><td>14.626</td><td>13.035</td><td>9.473</td><td>16.772</td><td>16.176</td><td>15.341</td><td>0.029</td><td>0.043</td><td>--</td><td>--</td><td>0.154</td><td>0.159</td><td>0.145</td><td>1849153001351018708</td><td>0000</td><td>0</td><td>00nn</td><td>AAUU</td><td>24</td><td>140</td><td>-13</td><td>146</td><td>0.356</td></tr>\n",
       "<tr><td>0.402705</td><td>222.98982</td><td>42.629408</td><td>0.3000009</td><td>1237658203986460871</td><td>J145157.59+423745.9</td><td>222.9899696</td><td>42.6294279</td><td>0.0624</td><td>0.0614</td><td>11.0</td><td>14.798</td><td>14.462</td><td>12.582</td><td>9.485</td><td>16.831</td><td>16.313</td><td>15.582</td><td>0.028</td><td>0.04</td><td>0.324</td><td>--</td><td>0.165</td><td>0.241</td><td>0.184</td><td>2224142401351047813</td><td>0000</td><td>0</td><td>00nn</td><td>AABU</td><td>12</td><td>93</td><td>54</td><td>98</td><td>0.465</td></tr>\n",
       "<tr><td>0.58304</td><td>146.39863</td><td>5.8334459</td><td>0.3000009</td><td>1237658423547920434</td><td>J094535.70+055000.5</td><td>146.3987871</td><td>5.8334882</td><td>0.0714</td><td>0.0689</td><td>167.9</td><td>14.471</td><td>14.156</td><td>12.223</td><td>8.649</td><td>16.501</td><td>15.861</td><td>14.894</td><td>0.03</td><td>0.048</td><td>--</td><td>--</td><td>0.166</td><td>0.2</td><td>0.156</td><td>1458106001351023367</td><td>0000</td><td>0</td><td>11nn</td><td>AAUU</td><td>202</td><td>165</td><td>293</td><td>177</td><td>0.833</td></tr>\n",
       "<tr><td>0.066688</td><td>49.459411</td><td>0.847754</td><td>0.3000012</td><td>1237660241924063461</td><td>J031750.26+005051.9</td><td>49.4594244</td><td>0.8477668</td><td>0.0848</td><td>0.0807</td><td>135.7</td><td>15.136</td><td>14.882</td><td>12.566</td><td>8.821</td><td>16.985</td><td>16.307</td><td>15.452</td><td>0.034</td><td>0.061</td><td>--</td><td>--</td><td>0.158</td><td>0.174</td><td>--</td><td>499101501351008375</td><td>0000</td><td>0</td><td>00nn</td><td>AAUU</td><td>229</td><td>138</td><td>153</td><td>141</td><td>0.351</td></tr>\n",
       "<tr><td>0.168028</td><td>172.28104</td><td>10.234226</td><td>0.3000018</td><td>1237658493349789816</td><td>J112907.44+101403.0</td><td>172.2810128</td><td>10.2341878</td><td>0.0864</td><td>0.0804</td><td>4.8</td><td>14.779</td><td>14.347</td><td>11.797</td><td>8.7</td><td>16.918</td><td>16.175</td><td>15.373</td><td>0.035</td><td>0.052</td><td>--</td><td>--</td><td>0.192</td><td>0.199</td><td>0.23</td><td>1723110601351018950</td><td>0000</td><td>0</td><td>11nn</td><td>AAUU</td><td>41</td><td>216</td><td>37</td><td>236</td><td>0.164</td></tr>\n",
       "<tr><td>0.284446</td><td>156.25024</td><td>7.6586271</td><td>0.3000027</td><td>1237658425162858683</td><td>J102500.07+073930.9</td><td>156.2503138</td><td>7.6585971</td><td>0.0963</td><td>0.0883</td><td>169.7</td><td>14.695</td><td>14.699</td><td>11.805</td><td>7.972</td><td>16.758</td><td>15.733</td><td>15.58</td><td>0.035</td><td>0.092</td><td>--</td><td>--</td><td>0.218</td><td>0.191</td><td>0.234</td><td>1555107501351024625</td><td>0000</td><td>0</td><td>nnnn</td><td>AAUU</td><td>-209</td><td>244</td><td>325</td><td>267</td><td>0.513</td></tr>\n",
       "<tr><td>0.103486</td><td>231.07321</td><td>32.718373</td><td>0.3000027</td><td>1237662341082382595</td><td>J152417.56+324306.1</td><td>231.0731781</td><td>32.7183832</td><td>0.0607</td><td>0.0585</td><td>167.1</td><td>14.714</td><td>14.484</td><td>12.595</td><td>8.893</td><td>16.877</td><td>16.131</td><td>15.476</td><td>0.027</td><td>0.04</td><td>0.35</td><td>--</td><td>0.191</td><td>0.249</td><td>0.177</td><td>2303133301351000085</td><td>00p0</td><td>0</td><td>00nn</td><td>AABU</td><td>-260</td><td>76</td><td>-102</td><td>83</td><td>0.238</td></tr>\n",
       "<tr><td>0.33256</td><td>197.37712</td><td>10.524518</td><td>0.3000033</td><td>1237662238545478566</td><td>J130930.48+103128.2</td><td>197.3770272</td><td>10.5245038</td><td>0.0833</td><td>0.0785</td><td>167.3</td><td>14.901</td><td>14.44</td><td>12.063</td><td>9.093</td><td>--</td><td>--</td><td>--</td><td>0.034</td><td>0.055</td><td>0.325</td><td>--</td><td>--</td><td>--</td><td>--</td><td>1969110601351029216</td><td>0000</td><td>0</td><td>11nn</td><td>AABU</td><td>-11</td><td>188</td><td>26</td><td>203</td><td>--</td></tr>\n",
       "<tr><td>1.398319</td><td>184.90501</td><td>-3.3095095</td><td>0.3000035</td><td>1237650760782053596</td><td>J121937.18-031835.5</td><td>184.9049166</td><td>-3.3098866</td><td>0.1081</td><td>0.0741</td><td>15.8</td><td>14.398</td><td>14.214</td><td>11.921</td><td>8.355</td><td>16.841</td><td>16.012</td><td>15.114</td><td>0.039</td><td>0.066</td><td>--</td><td>--</td><td>0.173</td><td>0.152</td><td>0.165</td><td>1845003101351019391</td><td>0000</td><td>0</td><td>nnnn</td><td>AAUU</td><td>-159</td><td>150</td><td>202</td><td>169</td><td>2.151</td></tr>\n",
       "<tr><td>0.151211</td><td>199.32977</td><td>51.728169</td><td>0.3000043</td><td>1237661958830883089</td><td>J131719.14+514341.2</td><td>199.3297637</td><td>51.7281272</td><td>0.0604</td><td>0.0589</td><td>27.0</td><td>14.491</td><td>14.198</td><td>12.215</td><td>8.529</td><td>16.447</td><td>15.836</td><td>14.882</td><td>0.028</td><td>0.038</td><td>--</td><td>--</td><td>0.122</td><td>0.168</td><td>0.112</td><td>2002151401351040622</td><td>0000</td><td>0</td><td>11nn</td><td>AAUU</td><td>-137</td><td>131</td><td>-18</td><td>135</td><td>0.167</td></tr>\n",
       "<tr><td>0.30771</td><td>352.07447</td><td>-0.025900389</td><td>0.300005</td><td>1237657190901744095</td><td>J232817.89-000133.2</td><td>352.074555</td><td>-0.025909</td><td>0.1214</td><td>0.1126</td><td>140.9</td><td>15.413</td><td>15.195</td><td>12.201</td><td>8.296</td><td>--</td><td>--</td><td>--</td><td>0.044</td><td>0.096</td><td>--</td><td>--</td><td>--</td><td>--</td><td>--</td><td>3524100001351033476</td><td>0000</td><td>0</td><td>00nn</td><td>AAUU</td><td>-172</td><td>380</td><td>-557</td><td>389</td><td>--</td></tr>\n",
       "<tr><td>...</td><td>...</td><td>...</td><td>...</td><td>...</td><td>...</td><td>...</td><td>...</td><td>...</td><td>...</td><td>...</td><td>...</td><td>...</td><td>...</td><td>...</td><td>...</td><td>...</td><td>...</td><td>...</td><td>...</td><td>...</td><td>...</td><td>...</td><td>...</td><td>...</td><td>...</td><td>...</td><td>...</td><td>...</td><td>...</td><td>...</td><td>...</td><td>...</td><td>...</td><td>...</td></tr>\n",
       "<tr><td>0.261013</td><td>40.31319</td><td>-0.63847601</td><td>0.300044</td><td>0</td><td>J024115.18-003818.4</td><td>40.3132623</td><td>-0.6384711</td><td>0.0972</td><td>0.0912</td><td>144.7</td><td>15.421</td><td>15.172</td><td>12.706</td><td>9.292</td><td>--</td><td>--</td><td>--</td><td>0.036</td><td>0.084</td><td>--</td><td>--</td><td>--</td><td>--</td><td>--</td><td>408100001351009421</td><td>0000</td><td>0</td><td>1nnn</td><td>AAUU</td><td>178</td><td>167</td><td>73</td><td>175</td><td>--</td></tr>\n",
       "<tr><td>0.112895</td><td>117.78484</td><td>29.080041</td><td>0.3000448</td><td>1237657118404772342</td><td>J075108.36+290448.0</td><td>117.7848647</td><td>29.0800182</td><td>0.0727</td><td>0.0688</td><td>169.4</td><td>14.606</td><td>14.317</td><td>12.536</td><td>9.089</td><td>16.655</td><td>15.77</td><td>14.973</td><td>0.031</td><td>0.049</td><td>--</td><td>--</td><td>0.144</td><td>0.137</td><td>0.127</td><td>1182128701351042038</td><td>0000</td><td>0</td><td>01nn</td><td>AAUU</td><td>27</td><td>159</td><td>-4</td><td>175</td><td>0.416</td></tr>\n",
       "<tr><td>0.460981</td><td>131.65814</td><td>7.2827847</td><td>0.3000458</td><td>1237660669807689987</td><td>J084637.98+071658.1</td><td>131.6582644</td><td>7.2828189</td><td>0.0839</td><td>0.0737</td><td>156.7</td><td>14.615</td><td>14.32</td><td>11.662</td><td>8.505</td><td>16.906</td><td>15.991</td><td>15.582</td><td>0.034</td><td>0.052</td><td>--</td><td>--</td><td>0.202</td><td>0.171</td><td>0.2</td><td>1311107501351019966</td><td>0000</td><td>0</td><td>nnnn</td><td>AAUU</td><td>--</td><td>--</td><td>--</td><td>--</td><td>0.812</td></tr>\n",
       "<tr><td>0.082843</td><td>139.82056</td><td>41.788494</td><td>0.3000461</td><td>1237657628441510105</td><td>J091916.93+414718.6</td><td>139.8205484</td><td>41.7885153</td><td>0.0712</td><td>0.0682</td><td>161.8</td><td>14.7</td><td>14.378</td><td>11.97</td><td>8.485</td><td>16.928</td><td>16.189</td><td>15.237</td><td>0.03</td><td>0.048</td><td>--</td><td>--</td><td>0.194</td><td>0.236</td><td>0.145</td><td>1395142401351002651</td><td>0000</td><td>0</td><td>11nn</td><td>AAUU</td><td>89</td><td>176</td><td>65</td><td>186</td><td>0.937</td></tr>\n",
       "<tr><td>0.186459</td><td>237.0174</td><td>22.830352</td><td>0.3000467</td><td>1237665101683687765</td><td>J154804.18+224949.3</td><td>237.0174489</td><td>22.8303775</td><td>0.0664</td><td>0.0636</td><td>155.0</td><td>14.713</td><td>14.387</td><td>13.251</td><td>9.405</td><td>--</td><td>--</td><td>--</td><td>0.029</td><td>0.045</td><td>0.528</td><td>--</td><td>--</td><td>--</td><td>--</td><td>2378122701351035450</td><td>0000</td><td>0</td><td>00nn</td><td>AACU</td><td>9</td><td>141</td><td>-110</td><td>154</td><td>--</td></tr>\n",
       "<tr><td>0.378459</td><td>351.30398</td><td>10.235439</td><td>0.3000467</td><td>1237678907315650843</td><td>J232512.96+101407.9</td><td>351.3040248</td><td>10.2355344</td><td>0.0875</td><td>0.0844</td><td>147.3</td><td>14.879</td><td>14.571</td><td>12.202</td><td>8.463</td><td>16.958</td><td>16.141</td><td>15.157</td><td>0.035</td><td>0.064</td><td>--</td><td>--</td><td>0.224</td><td>0.245</td><td>0.152</td><td>3507110601351024022</td><td>0000</td><td>0</td><td>00nn</td><td>AAUU</td><td>353</td><td>260</td><td>158</td><td>272</td><td>0.687</td></tr>\n",
       "<tr><td>0.134008</td><td>148.5743</td><td>46.957565</td><td>0.300047</td><td>1237657630055596280</td><td>J095417.82+465727.1</td><td>148.5742649</td><td>46.9575365</td><td>0.0931</td><td>0.0875</td><td>10.7</td><td>15.274</td><td>14.968</td><td>12.71</td><td>9.101</td><td>17.352</td><td>16.518</td><td>15.613</td><td>0.037</td><td>0.066</td><td>--</td><td>--</td><td>0.252</td><td>0.22</td><td>0.184</td><td>1483146901351032510</td><td>0000</td><td>0</td><td>00nn</td><td>AAUU</td><td>178</td><td>251</td><td>-75</td><td>276</td><td>0.741</td></tr>\n",
       "<tr><td>0.173126</td><td>157.03699</td><td>23.002797</td><td>0.300047</td><td>1237667538547179946</td><td>J102808.87+230010.2</td><td>157.0369685</td><td>23.0028408</td><td>0.0885</td><td>0.0837</td><td>178.9</td><td>15.013</td><td>14.742</td><td>12.323</td><td>8.418</td><td>16.983</td><td>16.604</td><td>15.528</td><td>0.035</td><td>0.063</td><td>--</td><td>--</td><td>0.157</td><td>0.265</td><td>0.177</td><td>1563122701351049312</td><td>0000</td><td>0</td><td>00nn</td><td>AAUU</td><td>222</td><td>233</td><td>496</td><td>255</td><td>0.726</td></tr>\n",
       "<tr><td>0.035938</td><td>359.29552</td><td>26.694314</td><td>0.300048</td><td>1237680275796460142</td><td>J235710.92+264139.5</td><td>359.295513</td><td>26.6943062</td><td>0.082</td><td>0.0784</td><td>134.2</td><td>14.814</td><td>14.637</td><td>12.02</td><td>8.254</td><td>16.794</td><td>15.865</td><td>15.237</td><td>0.033</td><td>0.066</td><td>0.461</td><td>--</td><td>0.195</td><td>0.203</td><td>0.146</td><td>127201351009902</td><td>0000</td><td>0</td><td>00nn</td><td>AACU</td><td>329</td><td>244</td><td>-430</td><td>242</td><td>0.096</td></tr>\n",
       "<tr><td>0.107406</td><td>200.24996</td><td>54.405615</td><td>0.3000484</td><td>1237658917996921127</td><td>J132059.98+542420.1</td><td>200.2499419</td><td>54.4055871</td><td>0.0688</td><td>0.0662</td><td>29.0</td><td>14.751</td><td>14.453</td><td>12.891</td><td>8.589</td><td>16.698</td><td>16.161</td><td>15.33</td><td>0.031</td><td>0.043</td><td>--</td><td>--</td><td>0.129</td><td>0.155</td><td>0.132</td><td>1991154501351027107</td><td>0000</td><td>0</td><td>00nn</td><td>AAUU</td><td>-201</td><td>150</td><td>188</td><td>156</td><td>0.258</td></tr>\n",
       "<tr><td>0.047976</td><td>10.377471</td><td>8.4479464</td><td>0.3000487</td><td>1237669768158511346</td><td>J004130.59+082652.6</td><td>10.3774776</td><td>8.447958</td><td>0.1024</td><td>0.095</td><td>134.6</td><td>15.071</td><td>14.705</td><td>11.413</td><td>8.19</td><td>16.731</td><td>16.381</td><td>15.435</td><td>0.038</td><td>0.081</td><td>--</td><td>--</td><td>0.173</td><td>0.257</td><td>0.172</td><td>107109001351008065</td><td>0000</td><td>0</td><td>00nn</td><td>AAUU</td><td>294</td><td>345</td><td>-444</td><td>350</td><td>0.276</td></tr>\n",
       "<tr><td>0.23438</td><td>191.25412</td><td>51.891805</td><td>0.300049</td><td>1237662301354459328</td><td>J124501.01+515330.5</td><td>191.2542179</td><td>51.8918293</td><td>0.0579</td><td>0.0562</td><td>2.1</td><td>14.321</td><td>14.032</td><td>12.251</td><td>9.241</td><td>16.698</td><td>15.794</td><td>15.034</td><td>0.027</td><td>0.036</td><td>--</td><td>--</td><td>0.151</td><td>0.146</td><td>0.13</td><td>1907151401351047954</td><td>0000</td><td>0</td><td>00nn</td><td>AAUU</td><td>-67</td><td>117</td><td>121</td><td>124</td><td>0.248</td></tr>\n",
       "</table></div>"
      ],
      "text/plain": [
       "<Table length=94>\n",
       "angDist      ra        dec          z          bestObjID      ...  pmRA e_pmRA  pmDE e_pmDE   d2M  \n",
       "float64   float64    float64     float64         int64        ... int64 int64  int64 int64  float64\n",
       "-------- --------- ------------ --------- ------------------- ... ----- ------ ----- ------ -------\n",
       "0.133183 184.86409    52.571314 0.3000001 1237657629529211079 ...    24    140   -13    146   0.356\n",
       "0.402705 222.98982    42.629408 0.3000009 1237658203986460871 ...    12     93    54     98   0.465\n",
       " 0.58304 146.39863    5.8334459 0.3000009 1237658423547920434 ...   202    165   293    177   0.833\n",
       "0.066688 49.459411     0.847754 0.3000012 1237660241924063461 ...   229    138   153    141   0.351\n",
       "0.168028 172.28104    10.234226 0.3000018 1237658493349789816 ...    41    216    37    236   0.164\n",
       "0.284446 156.25024    7.6586271 0.3000027 1237658425162858683 ...  -209    244   325    267   0.513\n",
       "0.103486 231.07321    32.718373 0.3000027 1237662341082382595 ...  -260     76  -102     83   0.238\n",
       " 0.33256 197.37712    10.524518 0.3000033 1237662238545478566 ...   -11    188    26    203      --\n",
       "1.398319 184.90501   -3.3095095 0.3000035 1237650760782053596 ...  -159    150   202    169   2.151\n",
       "0.151211 199.32977    51.728169 0.3000043 1237661958830883089 ...  -137    131   -18    135   0.167\n",
       " 0.30771 352.07447 -0.025900389  0.300005 1237657190901744095 ...  -172    380  -557    389      --\n",
       "     ...       ...          ...       ...                 ... ...   ...    ...   ...    ...     ...\n",
       "0.261013  40.31319  -0.63847601  0.300044                   0 ...   178    167    73    175      --\n",
       "0.112895 117.78484    29.080041 0.3000448 1237657118404772342 ...    27    159    -4    175   0.416\n",
       "0.460981 131.65814    7.2827847 0.3000458 1237660669807689987 ...    --     --    --     --   0.812\n",
       "0.082843 139.82056    41.788494 0.3000461 1237657628441510105 ...    89    176    65    186   0.937\n",
       "0.186459  237.0174    22.830352 0.3000467 1237665101683687765 ...     9    141  -110    154      --\n",
       "0.378459 351.30398    10.235439 0.3000467 1237678907315650843 ...   353    260   158    272   0.687\n",
       "0.134008  148.5743    46.957565  0.300047 1237657630055596280 ...   178    251   -75    276   0.741\n",
       "0.173126 157.03699    23.002797  0.300047 1237667538547179946 ...   222    233   496    255   0.726\n",
       "0.035938 359.29552    26.694314  0.300048 1237680275796460142 ...   329    244  -430    242   0.096\n",
       "0.107406 200.24996    54.405615 0.3000484 1237658917996921127 ...  -201    150   188    156   0.258\n",
       "0.047976 10.377471    8.4479464 0.3000487 1237669768158511346 ...   294    345  -444    350   0.276\n",
       " 0.23438 191.25412    51.891805  0.300049 1237662301354459328 ...   -67    117   121    124   0.248"
      ]
     },
     "execution_count": 7,
     "metadata": {},
     "output_type": "execute_result"
    }
   ],
   "source": [
    "from astroquery.xmatch import XMatch\n",
    "\n",
    "xmatch = XMatch()\n",
    "\n",
    "match = xmatch.query(cat1 = result, \n",
    "                     cat2 = 'vizier:ii/328/allwise',\n",
    "                     max_distance = 3*u.arcsec, \n",
    "                     colRA1='ra', colDec1='dec')\n",
    "match"
   ]
  },
  {
   "cell_type": "raw",
   "id": "98a46e8a",
   "metadata": {},
   "source": [
    "from astroquery.xmatch import XMatch\n",
    "\n",
    "xmatch = XMatch()\n",
    "\n",
    "match = xmatch.query(cat1 = result, \n",
    "             cat2 = 'vizier::ii/328/allwise',\n",
    "             max_distance=3 * u.arcsec, colRA1='ra',colDec1='dec')\n",
    "match"
   ]
  },
  {
   "cell_type": "code",
   "execution_count": 26,
   "id": "d73c20b1",
   "metadata": {},
   "outputs": [
    {
     "data": {
      "text/html": [
       "&lt;Column name=&apos;dec&apos; dtype=&apos;float64&apos; length=100&gt;\n",
       "<table>\n",
       "<tr><td>52.571314</td></tr>\n",
       "<tr><td>42.629408</td></tr>\n",
       "<tr><td>5.8334459</td></tr>\n",
       "<tr><td>0.847754</td></tr>\n",
       "<tr><td>10.234226</td></tr>\n",
       "<tr><td>7.6586271</td></tr>\n",
       "<tr><td>32.718373</td></tr>\n",
       "<tr><td>10.524518</td></tr>\n",
       "<tr><td>-3.3095095</td></tr>\n",
       "<tr><td>6.0693494</td></tr>\n",
       "<tr><td>51.728169</td></tr>\n",
       "<tr><td>-0.025900389</td></tr>\n",
       "<tr><td>0.79678773</td></tr>\n",
       "<tr><td>26.758404</td></tr>\n",
       "<tr><td>...</td></tr>\n",
       "<tr><td>59.965093</td></tr>\n",
       "<tr><td>-0.63847601</td></tr>\n",
       "<tr><td>29.080041</td></tr>\n",
       "<tr><td>7.2827847</td></tr>\n",
       "<tr><td>41.788494</td></tr>\n",
       "<tr><td>22.830352</td></tr>\n",
       "<tr><td>10.235439</td></tr>\n",
       "<tr><td>46.957565</td></tr>\n",
       "<tr><td>23.002797</td></tr>\n",
       "<tr><td>26.694314</td></tr>\n",
       "<tr><td>54.405615</td></tr>\n",
       "<tr><td>8.4479464</td></tr>\n",
       "<tr><td>51.891805</td></tr>\n",
       "</table>"
      ],
      "text/plain": [
       "<Column name='dec' dtype='float64' length=100>\n",
       "   52.571314\n",
       "   42.629408\n",
       "   5.8334459\n",
       "    0.847754\n",
       "   10.234226\n",
       "   7.6586271\n",
       "   32.718373\n",
       "   10.524518\n",
       "  -3.3095095\n",
       "   6.0693494\n",
       "   51.728169\n",
       "-0.025900389\n",
       "  0.79678773\n",
       "   26.758404\n",
       "         ...\n",
       "   59.965093\n",
       " -0.63847601\n",
       "   29.080041\n",
       "   7.2827847\n",
       "   41.788494\n",
       "   22.830352\n",
       "   10.235439\n",
       "   46.957565\n",
       "   23.002797\n",
       "   26.694314\n",
       "   54.405615\n",
       "   8.4479464\n",
       "   51.891805"
      ]
     },
     "execution_count": 26,
     "metadata": {},
     "output_type": "execute_result"
    }
   ],
   "source": [
    "result['dec']"
   ]
  },
  {
   "cell_type": "code",
   "execution_count": null,
   "id": "4dddac8b",
   "metadata": {},
   "outputs": [],
   "source": []
  }
 ],
 "metadata": {
  "@webio": {
   "lastCommId": null,
   "lastKernelId": null
  },
  "kernelspec": {
   "display_name": "Python 3 (ipykernel)",
   "language": "python",
   "name": "python3"
  },
  "language_info": {
   "codemirror_mode": {
    "name": "ipython",
    "version": 3
   },
   "file_extension": ".py",
   "mimetype": "text/x-python",
   "name": "python",
   "nbconvert_exporter": "python",
   "pygments_lexer": "ipython3",
   "version": "3.10.9"
  }
 },
 "nbformat": 4,
 "nbformat_minor": 5
}
