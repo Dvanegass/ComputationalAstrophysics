{
 "cells": [
  {
   "cell_type": "markdown",
   "metadata": {
    "id": "NgGr6lO24Kw7"
   },
   "source": [
    "![Astrofisica Computacional](../../logo.PNG)"
   ]
  },
  {
   "cell_type": "markdown",
   "metadata": {},
   "source": [
    "---\n",
    "\n",
    "Eduard Larrañaga (ealarranaga@unal.edu.co)\n",
    "\n",
    "---"
   ]
  },
  {
   "cell_type": "markdown",
   "metadata": {},
   "source": [
    "\n",
    "# W02A. Datos en Astrofísica\n"
   ]
  },
  {
   "cell_type": "markdown",
   "metadata": {
    "id": "IXMtRwwg4Kw8"
   },
   "source": [
    "---\n",
    "### A. Descargando datos del SDSS\n",
    "Escriba una busqueda en SQL que permita encontrar en el SDSS (DS17), utilizando las tablas PhotoObj y SpecObj, los objetos localizados en la región con ascención recta entre 140.9 y 141.1, que tengan un brillo en la banda g mayor a 18.0 y con un corrimiento al rojo (SpecObj) mayor que 0.1. Realice la conexión entre las dos tablas a través de objid (PhotoObj) y bestobjid (SpecObj) y obtenga las siguientes características: \n",
    "\n",
    "- Object ID (PhotoObj)\n",
    "- ra \n",
    "- dec\n",
    "- las 5 magnitudes u,g,r,i,z \n",
    "- specobjid (SpecObj)\n",
    "- z o redhsift (SepcObj)\n",
    "\n",
    "Descargue los resultados en un archivo de formato `.csv`."
   ]
  },
  {
   "cell_type": "markdown",
   "metadata": {},
   "source": [
    "---\n",
    "**Solución**\n",
    "\n",
    "La estructura del query en SQL es\n",
    "\n",
    "```\n",
    "SELECT\n",
    "p.objid,p.ra,p.dec,p.u,p.g,p.r,p.i,p.z,\n",
    "s.specobjid, s.class, s.z as redshift\n",
    "\n",
    "FROM PhotoObj AS p\n",
    "JOIN SpecObj AS s ON s.bestobjid = p.objid\n",
    "\n",
    "WHERE\n",
    "p.ra BETWEEN 140.9 AND 141.1 \n",
    "AND p.g < 18.0\n",
    "AND s.z > 0.`\n",
    "```\n"
   ]
  },
  {
   "cell_type": "markdown",
   "metadata": {},
   "source": [
    "---\n",
    "### B. Análisis de los Datos obtenidos\n",
    "\n",
    "1. Escriba un código que lea el archivo de datos descargado y determine el número de objetos obtenidos. Verifique que no existen objetos de la clase espectral 'STAR' y determine cuantos objetos son 'GALAXY' y cuantos 'QSO'. Verifique que no existen datos faltantes.\n",
    "\n",
    "2. Realice 5 gráficas mostrando el redshift (eje vertical) vs. cada una de las magnitudes en las bandas u,g,r,i,z (eje horizontal). En cada una de ellas identifique con color rojo las galaxias y con azul los quasars.\n",
    "\n",
    "3. Identifique y presente la información de la galaxia con el redshift mas alto y del quasar con el redshift mas pequeño."
   ]
  },
  {
   "cell_type": "markdown",
   "metadata": {},
   "source": [
    "---\n",
    "**Solución**\n",
    "\n",
    "Leemos el archivo con `Pandas`. Nótese que debemos indicar que la primera línea corresponde a los nombres de las columnas."
   ]
  },
  {
   "cell_type": "code",
   "execution_count": 1,
   "metadata": {},
   "outputs": [
    {
     "data": {
      "text/html": [
       "<div>\n",
       "<style scoped>\n",
       "    .dataframe tbody tr th:only-of-type {\n",
       "        vertical-align: middle;\n",
       "    }\n",
       "\n",
       "    .dataframe tbody tr th {\n",
       "        vertical-align: top;\n",
       "    }\n",
       "\n",
       "    .dataframe thead th {\n",
       "        text-align: right;\n",
       "    }\n",
       "</style>\n",
       "<table border=\"1\" class=\"dataframe\">\n",
       "  <thead>\n",
       "    <tr style=\"text-align: right;\">\n",
       "      <th></th>\n",
       "      <th>objid</th>\n",
       "      <th>ra</th>\n",
       "      <th>dec</th>\n",
       "      <th>u</th>\n",
       "      <th>g</th>\n",
       "      <th>r</th>\n",
       "      <th>i</th>\n",
       "      <th>z</th>\n",
       "      <th>specobjid</th>\n",
       "      <th>class</th>\n",
       "      <th>redshift</th>\n",
       "    </tr>\n",
       "  </thead>\n",
       "  <tbody>\n",
       "    <tr>\n",
       "      <th>0</th>\n",
       "      <td>1237651190287302826</td>\n",
       "      <td>140.991704</td>\n",
       "      <td>56.028356</td>\n",
       "      <td>19.54775</td>\n",
       "      <td>17.40730</td>\n",
       "      <td>16.36121</td>\n",
       "      <td>15.91164</td>\n",
       "      <td>15.56711</td>\n",
       "      <td>507820197537671168</td>\n",
       "      <td>GALAXY</td>\n",
       "      <td>0.121750</td>\n",
       "    </tr>\n",
       "    <tr>\n",
       "      <th>1</th>\n",
       "      <td>1237651190824304810</td>\n",
       "      <td>140.991307</td>\n",
       "      <td>56.506975</td>\n",
       "      <td>19.34929</td>\n",
       "      <td>17.97266</td>\n",
       "      <td>17.13593</td>\n",
       "      <td>16.68212</td>\n",
       "      <td>16.38721</td>\n",
       "      <td>507822671438833664</td>\n",
       "      <td>GALAXY</td>\n",
       "      <td>0.125408</td>\n",
       "    </tr>\n",
       "    <tr>\n",
       "      <th>2</th>\n",
       "      <td>1237651537629282372</td>\n",
       "      <td>140.994985</td>\n",
       "      <td>58.818392</td>\n",
       "      <td>17.06698</td>\n",
       "      <td>16.72158</td>\n",
       "      <td>16.65561</td>\n",
       "      <td>16.66703</td>\n",
       "      <td>16.63705</td>\n",
       "      <td>9230396665483253760</td>\n",
       "      <td>QSO</td>\n",
       "      <td>0.709347</td>\n",
       "    </tr>\n",
       "    <tr>\n",
       "      <th>3</th>\n",
       "      <td>1237654604243599549</td>\n",
       "      <td>141.000354</td>\n",
       "      <td>2.735697</td>\n",
       "      <td>17.81355</td>\n",
       "      <td>17.61070</td>\n",
       "      <td>17.44889</td>\n",
       "      <td>17.44400</td>\n",
       "      <td>16.98261</td>\n",
       "      <td>639568084629219328</td>\n",
       "      <td>QSO</td>\n",
       "      <td>0.348141</td>\n",
       "    </tr>\n",
       "    <tr>\n",
       "      <th>4</th>\n",
       "      <td>1237654604780535848</td>\n",
       "      <td>141.061263</td>\n",
       "      <td>3.150228</td>\n",
       "      <td>17.96764</td>\n",
       "      <td>16.95400</td>\n",
       "      <td>16.19931</td>\n",
       "      <td>15.70359</td>\n",
       "      <td>15.40590</td>\n",
       "      <td>639561762437359616</td>\n",
       "      <td>QSO</td>\n",
       "      <td>0.128153</td>\n",
       "    </tr>\n",
       "    <tr>\n",
       "      <th>...</th>\n",
       "      <td>...</td>\n",
       "      <td>...</td>\n",
       "      <td>...</td>\n",
       "      <td>...</td>\n",
       "      <td>...</td>\n",
       "      <td>...</td>\n",
       "      <td>...</td>\n",
       "      <td>...</td>\n",
       "      <td>...</td>\n",
       "      <td>...</td>\n",
       "      <td>...</td>\n",
       "    </tr>\n",
       "    <tr>\n",
       "      <th>96</th>\n",
       "      <td>1237658203960639697</td>\n",
       "      <td>141.095238</td>\n",
       "      <td>40.090910</td>\n",
       "      <td>17.89582</td>\n",
       "      <td>16.88517</td>\n",
       "      <td>16.45952</td>\n",
       "      <td>16.30645</td>\n",
       "      <td>16.38215</td>\n",
       "      <td>1056115323649943552</td>\n",
       "      <td>QSO</td>\n",
       "      <td>2.893982</td>\n",
       "    </tr>\n",
       "    <tr>\n",
       "      <th>97</th>\n",
       "      <td>1237660413188178172</td>\n",
       "      <td>141.055077</td>\n",
       "      <td>7.965763</td>\n",
       "      <td>19.82516</td>\n",
       "      <td>17.77262</td>\n",
       "      <td>16.73558</td>\n",
       "      <td>16.29397</td>\n",
       "      <td>15.90962</td>\n",
       "      <td>1345551589447854080</td>\n",
       "      <td>GALAXY</td>\n",
       "      <td>0.104220</td>\n",
       "    </tr>\n",
       "    <tr>\n",
       "      <th>98</th>\n",
       "      <td>1237660413725114570</td>\n",
       "      <td>141.091301</td>\n",
       "      <td>8.381923</td>\n",
       "      <td>19.32043</td>\n",
       "      <td>17.96993</td>\n",
       "      <td>17.20876</td>\n",
       "      <td>16.80283</td>\n",
       "      <td>16.48343</td>\n",
       "      <td>1465960757727356928</td>\n",
       "      <td>GALAXY</td>\n",
       "      <td>0.113564</td>\n",
       "    </tr>\n",
       "    <tr>\n",
       "      <th>99</th>\n",
       "      <td>1237663548519022750</td>\n",
       "      <td>140.917053</td>\n",
       "      <td>64.141016</td>\n",
       "      <td>19.94607</td>\n",
       "      <td>17.95385</td>\n",
       "      <td>16.89392</td>\n",
       "      <td>16.45507</td>\n",
       "      <td>16.06972</td>\n",
       "      <td>2012126419827582976</td>\n",
       "      <td>GALAXY</td>\n",
       "      <td>0.120865</td>\n",
       "    </tr>\n",
       "    <tr>\n",
       "      <th>100</th>\n",
       "      <td>1237671124837073170</td>\n",
       "      <td>141.067942</td>\n",
       "      <td>13.253102</td>\n",
       "      <td>19.36394</td>\n",
       "      <td>17.33337</td>\n",
       "      <td>16.35837</td>\n",
       "      <td>15.93551</td>\n",
       "      <td>15.60443</td>\n",
       "      <td>2902676681137350656</td>\n",
       "      <td>GALAXY</td>\n",
       "      <td>0.111353</td>\n",
       "    </tr>\n",
       "  </tbody>\n",
       "</table>\n",
       "<p>101 rows × 11 columns</p>\n",
       "</div>"
      ],
      "text/plain": [
       "                   objid          ra        dec         u         g         r  \\\n",
       "0    1237651190287302826  140.991704  56.028356  19.54775  17.40730  16.36121   \n",
       "1    1237651190824304810  140.991307  56.506975  19.34929  17.97266  17.13593   \n",
       "2    1237651537629282372  140.994985  58.818392  17.06698  16.72158  16.65561   \n",
       "3    1237654604243599549  141.000354   2.735697  17.81355  17.61070  17.44889   \n",
       "4    1237654604780535848  141.061263   3.150228  17.96764  16.95400  16.19931   \n",
       "..                   ...         ...        ...       ...       ...       ...   \n",
       "96   1237658203960639697  141.095238  40.090910  17.89582  16.88517  16.45952   \n",
       "97   1237660413188178172  141.055077   7.965763  19.82516  17.77262  16.73558   \n",
       "98   1237660413725114570  141.091301   8.381923  19.32043  17.96993  17.20876   \n",
       "99   1237663548519022750  140.917053  64.141016  19.94607  17.95385  16.89392   \n",
       "100  1237671124837073170  141.067942  13.253102  19.36394  17.33337  16.35837   \n",
       "\n",
       "            i         z            specobjid   class  redshift  \n",
       "0    15.91164  15.56711   507820197537671168  GALAXY  0.121750  \n",
       "1    16.68212  16.38721   507822671438833664  GALAXY  0.125408  \n",
       "2    16.66703  16.63705  9230396665483253760     QSO  0.709347  \n",
       "3    17.44400  16.98261   639568084629219328     QSO  0.348141  \n",
       "4    15.70359  15.40590   639561762437359616     QSO  0.128153  \n",
       "..        ...       ...                  ...     ...       ...  \n",
       "96   16.30645  16.38215  1056115323649943552     QSO  2.893982  \n",
       "97   16.29397  15.90962  1345551589447854080  GALAXY  0.104220  \n",
       "98   16.80283  16.48343  1465960757727356928  GALAXY  0.113564  \n",
       "99   16.45507  16.06972  2012126419827582976  GALAXY  0.120865  \n",
       "100  15.93551  15.60443  2902676681137350656  GALAXY  0.111353  \n",
       "\n",
       "[101 rows x 11 columns]"
      ]
     },
     "execution_count": 1,
     "metadata": {},
     "output_type": "execute_result"
    }
   ],
   "source": [
    "import pandas as pd\n",
    "\n",
    "df = pd.read_csv('SkyserverData.csv', header=1)\n",
    "df"
   ]
  },
  {
   "cell_type": "code",
   "execution_count": 2,
   "metadata": {},
   "outputs": [
    {
     "data": {
      "text/plain": [
       "0      GALAXY\n",
       "1      GALAXY\n",
       "2         QSO\n",
       "3         QSO\n",
       "4         QSO\n",
       "        ...  \n",
       "96        QSO\n",
       "97     GALAXY\n",
       "98     GALAXY\n",
       "99     GALAXY\n",
       "100    GALAXY\n",
       "Name: class, Length: 101, dtype: object"
      ]
     },
     "execution_count": 2,
     "metadata": {},
     "output_type": "execute_result"
    }
   ],
   "source": [
    "df['class']"
   ]
  },
  {
   "cell_type": "code",
   "execution_count": 3,
   "metadata": {},
   "outputs": [
    {
     "data": {
      "text/plain": [
       "class\n",
       "GALAXY    88\n",
       "QSO       13\n",
       "Name: class, dtype: int64"
      ]
     },
     "execution_count": 3,
     "metadata": {},
     "output_type": "execute_result"
    }
   ],
   "source": [
    "df2 = df.groupby(['class'])['class'].count()\n",
    "df2"
   ]
  },
  {
   "cell_type": "markdown",
   "metadata": {},
   "source": [
    "---\n",
    "Graficas de redshift vs. magnitudes"
   ]
  },
  {
   "cell_type": "code",
   "execution_count": 5,
   "metadata": {
    "scrolled": false
   },
   "outputs": [
    {
     "data": {
      "image/png": "[encoded data removed]",
      "text/plain": [
       "<Figure size 400x400 with 1 Axes>"
      ]
     },
     "metadata": {},
     "output_type": "display_data"
    }
   ],
   "source": [
    "import matplotlib.pyplot as plt\n",
    "import matplotlib.patches as mpatches\n",
    "\n",
    "colors = {'GALAXY': 'red',\n",
    "          'QSO': 'blue'}\n",
    "\n",
    "legend= [mpatches.Patch(color='red', label='Galaxy'), \n",
    "         mpatches.Patch(color='blue', label='QSO')]\n",
    "\n",
    "\n",
    "plt.figure(figsize=(4,4))\n",
    "for i in range(len(df)):\n",
    "    plt.scatter(df['u'][i],df['redshift'][i], marker='.', color=colors[df['class'][i]])\n",
    "plt.xlabel('u')\n",
    "plt.ylabel('redshift')\n",
    "plt.legend(handles = legend)\n",
    "plt.show()"
   ]
  },
  {
   "cell_type": "code",
   "execution_count": 6,
   "metadata": {},
   "outputs": [
    {
     "data": {
      "image/png": "[encoded data removed]",
      "text/plain": [
       "<Figure size 400x400 with 1 Axes>"
      ]
     },
     "metadata": {},
     "output_type": "display_data"
    }
   ],
   "source": [
    "plt.figure(figsize=(4,4))\n",
    "for i in range(len(df)):\n",
    "    plt.scatter(df['g'][i],df['redshift'][i], marker='.', color=colors[df['class'][i]])\n",
    "\n",
    "plt.xlabel('g')\n",
    "plt.ylabel('redshift')\n",
    "plt.show()"
   ]
  },
  {
   "cell_type": "code",
   "execution_count": 7,
   "metadata": {},
   "outputs": [
    {
     "data": {
      "image/png": "[encoded data removed]",
      "text/plain": [
       "<Figure size 400x400 with 1 Axes>"
      ]
     },
     "metadata": {},
     "output_type": "display_data"
    }
   ],
   "source": [
    "plt.figure(figsize=(4,4))\n",
    "for i in range(len(df)):\n",
    "    plt.scatter(df['r'][i],df['redshift'][i], marker='.', color=colors[df['class'][i]])\n",
    "plt.xlabel('r')\n",
    "plt.ylabel('redshift')\n",
    "plt.show()"
   ]
  },
  {
   "cell_type": "code",
   "execution_count": 8,
   "metadata": {},
   "outputs": [
    {
     "data": {
      "image/png": "[encoded data removed]",
      "text/plain": [
       "<Figure size 400x400 with 1 Axes>"
      ]
     },
     "metadata": {},
     "output_type": "display_data"
    }
   ],
   "source": [
    "plt.figure(figsize=(4,4))\n",
    "for i in range(len(df)):\n",
    "    plt.scatter(df['i'][i],df['redshift'][i], marker='.', color=colors[df['class'][i]])\n",
    "plt.xlabel('i')\n",
    "plt.ylabel('redshift')\n",
    "plt.show()"
   ]
  },
  {
   "cell_type": "code",
   "execution_count": 9,
   "metadata": {},
   "outputs": [
    {
     "data": {
      "image/png": "[encoded data removed]",
      "text/plain": [
       "<Figure size 400x400 with 1 Axes>"
      ]
     },
     "metadata": {},
     "output_type": "display_data"
    }
   ],
   "source": [
    "plt.figure(figsize=(4,4))\n",
    "for i in range(len(df)):\n",
    "    plt.scatter(df['z'][i],df['redshift'][i], marker='.', color=colors[df['class'][i]])\n",
    "plt.xlabel('z')\n",
    "plt.ylabel('redshift')\n",
    "plt.show()"
   ]
  },
  {
   "cell_type": "code",
   "execution_count": 28,
   "metadata": {},
   "outputs": [
    {
     "data": {
      "text/plain": [
       "objid        1237661065486336250\n",
       "ra                    141.055727\n",
       "dec                     9.371133\n",
       "u                       19.11728\n",
       "g                       17.78404\n",
       "r                        16.8665\n",
       "i                       16.41911\n",
       "z                       16.07724\n",
       "specobjid    1466046794512230400\n",
       "class                     GALAXY\n",
       "redshift                0.189329\n",
       "Name: 45, dtype: object"
      ]
     },
     "execution_count": 28,
     "metadata": {},
     "output_type": "execute_result"
    }
   ],
   "source": [
    "galaxies_df = df.groupby(['class']).get_group('GALAXY')\n",
    "\n",
    "idx_max_redshift = galaxies_df['redshift'].idxmax()\n",
    "\n",
    "df.iloc[idx_max_redshift]"
   ]
  },
  {
   "cell_type": "code",
   "execution_count": 29,
   "metadata": {},
   "outputs": [
    {
     "data": {
      "text/plain": [
       "objid        1237660765916496041\n",
       "ra                    141.087865\n",
       "dec                    36.893822\n",
       "u                       17.94765\n",
       "g                       17.00332\n",
       "r                       16.31914\n",
       "i                       15.88601\n",
       "z                       15.66677\n",
       "specobjid    1434507582239696896\n",
       "class                        QSO\n",
       "redshift                  0.1065\n",
       "Name: 43, dtype: object"
      ]
     },
     "execution_count": 29,
     "metadata": {},
     "output_type": "execute_result"
    }
   ],
   "source": [
    "QSO_df = df.groupby(['class']).get_group('QSO')\n",
    "\n",
    "idx_min_redshift = QSO_df['redshift'].idxmin()\n",
    "\n",
    "df.iloc[idx_min_redshift]"
   ]
  },
  {
   "cell_type": "markdown",
   "metadata": {
    "id": "m7laERy44Kw9"
   },
   "source": [
    "---\n",
    "### C. Índices de Color\n",
    "\n",
    "1. Defina columnas en el dataframe con los índices de color `u-g`, `g-i`, `r-i` e `i-z` para cada uno de los objetos.\n",
    "\n",
    "2. Realice 4 gráficas mostrando el redshift (eje vertical) vs. cada uno de los índices de color, identificando con color rojo las galaxias y con azul los quasars.\n",
    "\n",
    "3. Realice una gráfica mostrando el índice de color `r-i` (eje vertical) vs. índice de color `u-g` (eje horizontal) e indicando el valor de redshift para cada objeto con una escala de color. Puede identificar algún(os) objeto(s) ailslado(s) de la tendencia? Que interpretación daría para este comportamiento? "
   ]
  },
  {
   "cell_type": "markdown",
   "metadata": {},
   "source": [
    "---\n",
    "**Solución**\n",
    "\n",
    "Agregamos las columnas de los índices de color"
   ]
  },
  {
   "cell_type": "code",
   "execution_count": 31,
   "metadata": {},
   "outputs": [
    {
     "data": {
      "text/html": [
       "<div>\n",
       "<style scoped>\n",
       "    .dataframe tbody tr th:only-of-type {\n",
       "        vertical-align: middle;\n",
       "    }\n",
       "\n",
       "    .dataframe tbody tr th {\n",
       "        vertical-align: top;\n",
       "    }\n",
       "\n",
       "    .dataframe thead th {\n",
       "        text-align: right;\n",
       "    }\n",
       "</style>\n",
       "<table border=\"1\" class=\"dataframe\">\n",
       "  <thead>\n",
       "    <tr style=\"text-align: right;\">\n",
       "      <th></th>\n",
       "      <th>objid</th>\n",
       "      <th>ra</th>\n",
       "      <th>dec</th>\n",
       "      <th>u</th>\n",
       "      <th>g</th>\n",
       "      <th>r</th>\n",
       "      <th>i</th>\n",
       "      <th>z</th>\n",
       "      <th>specobjid</th>\n",
       "      <th>class</th>\n",
       "      <th>redshift</th>\n",
       "      <th>u-g</th>\n",
       "      <th>g-i</th>\n",
       "      <th>r-i</th>\n",
       "      <th>i-z</th>\n",
       "    </tr>\n",
       "  </thead>\n",
       "  <tbody>\n",
       "    <tr>\n",
       "      <th>0</th>\n",
       "      <td>1237651190287302826</td>\n",
       "      <td>140.991704</td>\n",
       "      <td>56.028356</td>\n",
       "      <td>19.54775</td>\n",
       "      <td>17.40730</td>\n",
       "      <td>16.36121</td>\n",
       "      <td>15.91164</td>\n",
       "      <td>15.56711</td>\n",
       "      <td>507820197537671168</td>\n",
       "      <td>GALAXY</td>\n",
       "      <td>0.121750</td>\n",
       "      <td>2.14045</td>\n",
       "      <td>1.49566</td>\n",
       "      <td>0.44957</td>\n",
       "      <td>0.34453</td>\n",
       "    </tr>\n",
       "    <tr>\n",
       "      <th>1</th>\n",
       "      <td>1237651190824304810</td>\n",
       "      <td>140.991307</td>\n",
       "      <td>56.506975</td>\n",
       "      <td>19.34929</td>\n",
       "      <td>17.97266</td>\n",
       "      <td>17.13593</td>\n",
       "      <td>16.68212</td>\n",
       "      <td>16.38721</td>\n",
       "      <td>507822671438833664</td>\n",
       "      <td>GALAXY</td>\n",
       "      <td>0.125408</td>\n",
       "      <td>1.37663</td>\n",
       "      <td>1.29054</td>\n",
       "      <td>0.45381</td>\n",
       "      <td>0.29491</td>\n",
       "    </tr>\n",
       "    <tr>\n",
       "      <th>2</th>\n",
       "      <td>1237651537629282372</td>\n",
       "      <td>140.994985</td>\n",
       "      <td>58.818392</td>\n",
       "      <td>17.06698</td>\n",
       "      <td>16.72158</td>\n",
       "      <td>16.65561</td>\n",
       "      <td>16.66703</td>\n",
       "      <td>16.63705</td>\n",
       "      <td>9230396665483253760</td>\n",
       "      <td>QSO</td>\n",
       "      <td>0.709347</td>\n",
       "      <td>0.34540</td>\n",
       "      <td>0.05455</td>\n",
       "      <td>-0.01142</td>\n",
       "      <td>0.02998</td>\n",
       "    </tr>\n",
       "    <tr>\n",
       "      <th>3</th>\n",
       "      <td>1237654604243599549</td>\n",
       "      <td>141.000354</td>\n",
       "      <td>2.735697</td>\n",
       "      <td>17.81355</td>\n",
       "      <td>17.61070</td>\n",
       "      <td>17.44889</td>\n",
       "      <td>17.44400</td>\n",
       "      <td>16.98261</td>\n",
       "      <td>639568084629219328</td>\n",
       "      <td>QSO</td>\n",
       "      <td>0.348141</td>\n",
       "      <td>0.20285</td>\n",
       "      <td>0.16670</td>\n",
       "      <td>0.00489</td>\n",
       "      <td>0.46139</td>\n",
       "    </tr>\n",
       "    <tr>\n",
       "      <th>4</th>\n",
       "      <td>1237654604780535848</td>\n",
       "      <td>141.061263</td>\n",
       "      <td>3.150228</td>\n",
       "      <td>17.96764</td>\n",
       "      <td>16.95400</td>\n",
       "      <td>16.19931</td>\n",
       "      <td>15.70359</td>\n",
       "      <td>15.40590</td>\n",
       "      <td>639561762437359616</td>\n",
       "      <td>QSO</td>\n",
       "      <td>0.128153</td>\n",
       "      <td>1.01364</td>\n",
       "      <td>1.25041</td>\n",
       "      <td>0.49572</td>\n",
       "      <td>0.29769</td>\n",
       "    </tr>\n",
       "    <tr>\n",
       "      <th>...</th>\n",
       "      <td>...</td>\n",
       "      <td>...</td>\n",
       "      <td>...</td>\n",
       "      <td>...</td>\n",
       "      <td>...</td>\n",
       "      <td>...</td>\n",
       "      <td>...</td>\n",
       "      <td>...</td>\n",
       "      <td>...</td>\n",
       "      <td>...</td>\n",
       "      <td>...</td>\n",
       "      <td>...</td>\n",
       "      <td>...</td>\n",
       "      <td>...</td>\n",
       "      <td>...</td>\n",
       "    </tr>\n",
       "    <tr>\n",
       "      <th>96</th>\n",
       "      <td>1237658203960639697</td>\n",
       "      <td>141.095238</td>\n",
       "      <td>40.090910</td>\n",
       "      <td>17.89582</td>\n",
       "      <td>16.88517</td>\n",
       "      <td>16.45952</td>\n",
       "      <td>16.30645</td>\n",
       "      <td>16.38215</td>\n",
       "      <td>1056115323649943552</td>\n",
       "      <td>QSO</td>\n",
       "      <td>2.893982</td>\n",
       "      <td>1.01065</td>\n",
       "      <td>0.57872</td>\n",
       "      <td>0.15307</td>\n",
       "      <td>-0.07570</td>\n",
       "    </tr>\n",
       "    <tr>\n",
       "      <th>97</th>\n",
       "      <td>1237660413188178172</td>\n",
       "      <td>141.055077</td>\n",
       "      <td>7.965763</td>\n",
       "      <td>19.82516</td>\n",
       "      <td>17.77262</td>\n",
       "      <td>16.73558</td>\n",
       "      <td>16.29397</td>\n",
       "      <td>15.90962</td>\n",
       "      <td>1345551589447854080</td>\n",
       "      <td>GALAXY</td>\n",
       "      <td>0.104220</td>\n",
       "      <td>2.05254</td>\n",
       "      <td>1.47865</td>\n",
       "      <td>0.44161</td>\n",
       "      <td>0.38435</td>\n",
       "    </tr>\n",
       "    <tr>\n",
       "      <th>98</th>\n",
       "      <td>1237660413725114570</td>\n",
       "      <td>141.091301</td>\n",
       "      <td>8.381923</td>\n",
       "      <td>19.32043</td>\n",
       "      <td>17.96993</td>\n",
       "      <td>17.20876</td>\n",
       "      <td>16.80283</td>\n",
       "      <td>16.48343</td>\n",
       "      <td>1465960757727356928</td>\n",
       "      <td>GALAXY</td>\n",
       "      <td>0.113564</td>\n",
       "      <td>1.35050</td>\n",
       "      <td>1.16710</td>\n",
       "      <td>0.40593</td>\n",
       "      <td>0.31940</td>\n",
       "    </tr>\n",
       "    <tr>\n",
       "      <th>99</th>\n",
       "      <td>1237663548519022750</td>\n",
       "      <td>140.917053</td>\n",
       "      <td>64.141016</td>\n",
       "      <td>19.94607</td>\n",
       "      <td>17.95385</td>\n",
       "      <td>16.89392</td>\n",
       "      <td>16.45507</td>\n",
       "      <td>16.06972</td>\n",
       "      <td>2012126419827582976</td>\n",
       "      <td>GALAXY</td>\n",
       "      <td>0.120865</td>\n",
       "      <td>1.99222</td>\n",
       "      <td>1.49878</td>\n",
       "      <td>0.43885</td>\n",
       "      <td>0.38535</td>\n",
       "    </tr>\n",
       "    <tr>\n",
       "      <th>100</th>\n",
       "      <td>1237671124837073170</td>\n",
       "      <td>141.067942</td>\n",
       "      <td>13.253102</td>\n",
       "      <td>19.36394</td>\n",
       "      <td>17.33337</td>\n",
       "      <td>16.35837</td>\n",
       "      <td>15.93551</td>\n",
       "      <td>15.60443</td>\n",
       "      <td>2902676681137350656</td>\n",
       "      <td>GALAXY</td>\n",
       "      <td>0.111353</td>\n",
       "      <td>2.03057</td>\n",
       "      <td>1.39786</td>\n",
       "      <td>0.42286</td>\n",
       "      <td>0.33108</td>\n",
       "    </tr>\n",
       "  </tbody>\n",
       "</table>\n",
       "<p>101 rows × 15 columns</p>\n",
       "</div>"
      ],
      "text/plain": [
       "                   objid          ra        dec         u         g         r  \\\n",
       "0    1237651190287302826  140.991704  56.028356  19.54775  17.40730  16.36121   \n",
       "1    1237651190824304810  140.991307  56.506975  19.34929  17.97266  17.13593   \n",
       "2    1237651537629282372  140.994985  58.818392  17.06698  16.72158  16.65561   \n",
       "3    1237654604243599549  141.000354   2.735697  17.81355  17.61070  17.44889   \n",
       "4    1237654604780535848  141.061263   3.150228  17.96764  16.95400  16.19931   \n",
       "..                   ...         ...        ...       ...       ...       ...   \n",
       "96   1237658203960639697  141.095238  40.090910  17.89582  16.88517  16.45952   \n",
       "97   1237660413188178172  141.055077   7.965763  19.82516  17.77262  16.73558   \n",
       "98   1237660413725114570  141.091301   8.381923  19.32043  17.96993  17.20876   \n",
       "99   1237663548519022750  140.917053  64.141016  19.94607  17.95385  16.89392   \n",
       "100  1237671124837073170  141.067942  13.253102  19.36394  17.33337  16.35837   \n",
       "\n",
       "            i         z            specobjid   class  redshift      u-g  \\\n",
       "0    15.91164  15.56711   507820197537671168  GALAXY  0.121750  2.14045   \n",
       "1    16.68212  16.38721   507822671438833664  GALAXY  0.125408  1.37663   \n",
       "2    16.66703  16.63705  9230396665483253760     QSO  0.709347  0.34540   \n",
       "3    17.44400  16.98261   639568084629219328     QSO  0.348141  0.20285   \n",
       "4    15.70359  15.40590   639561762437359616     QSO  0.128153  1.01364   \n",
       "..        ...       ...                  ...     ...       ...      ...   \n",
       "96   16.30645  16.38215  1056115323649943552     QSO  2.893982  1.01065   \n",
       "97   16.29397  15.90962  1345551589447854080  GALAXY  0.104220  2.05254   \n",
       "98   16.80283  16.48343  1465960757727356928  GALAXY  0.113564  1.35050   \n",
       "99   16.45507  16.06972  2012126419827582976  GALAXY  0.120865  1.99222   \n",
       "100  15.93551  15.60443  2902676681137350656  GALAXY  0.111353  2.03057   \n",
       "\n",
       "         g-i      r-i      i-z  \n",
       "0    1.49566  0.44957  0.34453  \n",
       "1    1.29054  0.45381  0.29491  \n",
       "2    0.05455 -0.01142  0.02998  \n",
       "3    0.16670  0.00489  0.46139  \n",
       "4    1.25041  0.49572  0.29769  \n",
       "..       ...      ...      ...  \n",
       "96   0.57872  0.15307 -0.07570  \n",
       "97   1.47865  0.44161  0.38435  \n",
       "98   1.16710  0.40593  0.31940  \n",
       "99   1.49878  0.43885  0.38535  \n",
       "100  1.39786  0.42286  0.33108  \n",
       "\n",
       "[101 rows x 15 columns]"
      ]
     },
     "execution_count": 31,
     "metadata": {},
     "output_type": "execute_result"
    }
   ],
   "source": [
    "df['u-g'] = df['u'] - df['g']\n",
    "df['g-i'] = df['g'] - df['i']\n",
    "df['r-i'] = df['r'] - df['i']\n",
    "df['i-z'] = df['i'] - df['z']\n",
    "df"
   ]
  },
  {
   "cell_type": "code",
   "execution_count": 32,
   "metadata": {},
   "outputs": [
    {
     "data": {
      "image/png": "[encoded data removed]",
      "text/plain": [
       "<Figure size 400x400 with 1 Axes>"
      ]
     },
     "metadata": {},
     "output_type": "display_data"
    }
   ],
   "source": [
    "import matplotlib.pyplot as plt\n",
    "import matplotlib.patches as mpatches\n",
    "\n",
    "colors = {'GALAXY': 'red',\n",
    "          'QSO': 'blue'}\n",
    "\n",
    "legend= [mpatches.Patch(color='red', label='Galaxy'), \n",
    "         mpatches.Patch(color='blue', label='QSO')]\n",
    "\n",
    "\n",
    "plt.figure(figsize=(4,4))\n",
    "for i in range(len(df)):\n",
    "    plt.scatter(df['u-g'][i],df['redshift'][i], marker='.', color=colors[df['class'][i]])\n",
    "plt.xlabel('u-g')\n",
    "plt.ylabel('redshift')\n",
    "plt.legend(handles = legend)\n",
    "plt.show()"
   ]
  },
  {
   "cell_type": "code",
   "execution_count": 33,
   "metadata": {},
   "outputs": [
    {
     "data": {
      "image/png": "[encoded data removed]",
      "text/plain": [
       "<Figure size 400x400 with 1 Axes>"
      ]
     },
     "metadata": {},
     "output_type": "display_data"
    }
   ],
   "source": [
    "plt.figure(figsize=(4,4))\n",
    "for i in range(len(df)):\n",
    "    plt.scatter(df['g-i'][i],df['redshift'][i], marker='.', color=colors[df['class'][i]])\n",
    "plt.xlabel('g-i')\n",
    "plt.ylabel('redshift')\n",
    "plt.legend(handles = legend)\n",
    "plt.show()"
   ]
  },
  {
   "cell_type": "code",
   "execution_count": 34,
   "metadata": {},
   "outputs": [
    {
     "data": {
      "image/png": "[encoded data removed]",
      "text/plain": [
       "<Figure size 400x400 with 1 Axes>"
      ]
     },
     "metadata": {},
     "output_type": "display_data"
    }
   ],
   "source": [
    "plt.figure(figsize=(4,4))\n",
    "for i in range(len(df)):\n",
    "    plt.scatter(df['r-i'][i],df['redshift'][i], marker='.', color=colors[df['class'][i]])\n",
    "plt.xlabel('r-i')\n",
    "plt.ylabel('redshift')\n",
    "plt.legend(handles = legend)\n",
    "plt.show()"
   ]
  },
  {
   "cell_type": "code",
   "execution_count": 35,
   "metadata": {},
   "outputs": [
    {
     "data": {
      "image/png": "[encoded data removed]",
      "text/plain": [
       "<Figure size 400x400 with 1 Axes>"
      ]
     },
     "metadata": {},
     "output_type": "display_data"
    }
   ],
   "source": [
    "plt.figure(figsize=(4,4))\n",
    "for i in range(len(df)):\n",
    "    plt.scatter(df['i-z'][i],df['redshift'][i], marker='.', color=colors[df['class'][i]])\n",
    "plt.xlabel('i-z')\n",
    "plt.ylabel('redshift')\n",
    "plt.legend(handles = legend)\n",
    "plt.show()"
   ]
  },
  {
   "cell_type": "code",
   "execution_count": 46,
   "metadata": {},
   "outputs": [
    {
     "data": {
      "image/png": "[encoded data removed]",
      "text/plain": [
       "<Figure size 500x400 with 2 Axes>"
      ]
     },
     "metadata": {},
     "output_type": "display_data"
    }
   ],
   "source": [
    "plt.figure(figsize=(5,4))\n",
    "plt.scatter(df['u-g'],df['r-i'], marker='.', c=df['redshift'])\n",
    "plt.xlabel('u-g')\n",
    "plt.ylabel('r-i')\n",
    "plt.colorbar()\n",
    "plt.show()"
   ]
  },
  {
   "cell_type": "code",
   "execution_count": null,
   "metadata": {},
   "outputs": [],
   "source": []
  }
 ],
 "metadata": {
  "@webio": {
   "lastCommId": null,
   "lastKernelId": null
  },
  "colab": {
   "name": "Errors01.ipynb",
   "provenance": []
  },
  "kernelspec": {
   "display_name": "Python 3 (ipykernel)",
   "language": "python",
   "name": "python3"
  },
  "language_info": {
   "codemirror_mode": {
    "name": "ipython",
    "version": 3
   },
   "file_extension": ".py",
   "mimetype": "text/x-python",
   "name": "python",
   "nbconvert_exporter": "python",
   "pygments_lexer": "ipython3",
   "version": "3.10.9"
  }
 },
 "nbformat": 4,
 "nbformat_minor": 1
}
