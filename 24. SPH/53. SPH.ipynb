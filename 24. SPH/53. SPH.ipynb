{
 "cells": [
  {
   "cell_type": "markdown",
   "metadata": {
    "id": "Uw2bcL6FltCB"
   },
   "source": [
    "![Astrofisica Computacional](../logo.PNG)"
   ]
  },
  {
   "cell_type": "markdown",
   "metadata": {},
   "source": [
    "---\n",
    "## 53. Smoothed Particle Hydrodynamics (SPH)\n",
    "\n",
    "Eduard Larrañaga (ealarranaga@unal.edu.co)\n",
    "\n",
    "---"
   ]
  },
  {
   "cell_type": "markdown",
   "metadata": {
    "id": "aSVOtGizlnwl"
   },
   "source": [
    "\n",
    "### Resumen\n",
    "\n",
    "Se presenta un modelos simple que ilustra como solucionar las ecuaciones de la hidrodinámica a partir de un modelo de elementos (particulas) suavizado (Smoothed Particle Hydrodynamics SPH) .\n",
    "\n",
    "\n",
    "---"
   ]
  },
  {
   "cell_type": "markdown",
   "metadata": {
    "id": "8ogdbF2qlnwl"
   },
   "source": [
    "---\n",
    "\n",
    "## El Modelo SPH\n",
    "\n",
    "En el modelo SPH, un fluido es representado por una colección de elementos (partículas) y cada uno de ellos posee ciertas cantidades físicas relevantes como posición, velocidad, masa, densidad, etc.\n",
    "\n",
    "Como ejemplo particular se considerará un sistema físico descrito por la ecuación de Euler para un fluido ideal sin disipasión,\n",
    "\n",
    "\\begin{equation}\n",
    "\\rho \\frac{d\\textbf{v}}{dt} = - \\boldsymbol{\\nabla} P + \\textbf{f}\n",
    "\\end{equation}\n",
    "\n",
    "donde\n",
    "\n",
    "- $\\rho$: densidad\n",
    "- $\\textbf{v}$: velocidad del fluido\n",
    "- $P$: Presión\n",
    "- $\\textbf{f}$: Fuerzas por unidad de volumen adicionales \n",
    "\n",
    "Al considerar un gas ideal, se introduce la ecuación de estado que lo describe $P=P(\\rho)$ y al combinarla con la ecuación de energías, se obtiene la ecuación de estado politrópica:\n",
    "\n",
    "\\begin{equation}\n",
    "P = k\\rho^{\\gamma} = k\\rho^{1+\\fra{1}{n}},\n",
    "\\end{equation}\n",
    "\n",
    "donde $k$ es una constante de proporcionalidad, $\\gamma$ es el índice adiabático y $n$ se denomina el índice politrópico.\n",
    "\n",
    "\n",
    "### El Kernel\n",
    "\n",
    "Para resolver el sistema, debe evaluarse la aceleración de cada elemento $\\frac{d\\textbf{v}}{dt}$ y de la ecuación de Euler se observa que, para lograr este objetivo, deben evaluarse algunas derivadas espaciales. En el modelo SPH se considerará la siguiente identidad, valida para cualquier cantidad escalar $F(\\textbf{r})$,\n",
    "\n",
    "\\begin{equation}\n",
    "F(\\textbf{r}) = \\int F(\\textbf{r}') \\delta (\\textbf{r} - \\textbf{r}') d\\textbf{r}'\n",
    "\\end{equation}\n",
    "\n",
    "donde $\\delta (\\textbf{r})$ es la función Delta de Dirac. Ahora bien, esta relación se modificará introduciendo un *kernel suavizado* $W(\\textbf{r};h)$ que reemplazará a la Delta de Dirac. El parámetro $h$ corresponde precidsamente a la escala de longitud de suavizado. El kernel debe ser una función no-negativa, invariante bajo paridad y debe satisfacer las condiciones\n",
    "\n",
    "\\begin{equation}\n",
    "\\int W(\\textbf{r};h) d\\textbf{r} = 1\n",
    "\\end{equation}\n",
    "\n",
    "y \n",
    "\n",
    "\\begin{equation}\n",
    "\\lim_{h\\rightarrow 0} W(\\textbf{r};h) = \\delta(\\textbf{r}).\n",
    "\\end{equation}\n",
    "\n",
    "Dos ejemplos de kernel utilizados en la literatura son:\n",
    "\n",
    "* **Kernel Gaussiano**\n",
    "\n",
    "En est caso se tiene la función\n",
    "\n",
    "\\begin{equation}\n",
    "W(\\textbf{r};h) = \\left( \\frac{1}{h\\sqrt{\\pi}}\\right)^d \\exp \\left( -\\frac{\\left| \\textbf{r}\\right|^2}{h^2}\\right)\n",
    "\\end{equation}\n",
    "\n",
    "donde $d$ es la dimensión del problema. Este kernel es el más paropiado para resolver problemas físicos [[Gingold and Monaghan, 1977]](https://ui.adsabs.harvard.edu/abs/1977MNRAS.181..375G/abstract).\n",
    "\n",
    "* **Kernel de spline cúbico**\n",
    "\n",
    "En este caso, la función que actua como kernel es\n",
    "\n",
    "\\begin{equation}\n",
    "W(\\textbf{r};h) = C_d (h) \n",
    "\\begin{cases}\n",
    "(2-q)^3 - 4(1-q)^3 & \\hspace{1cm} 0\\leq q <1 \\\\\n",
    "(2-q)^3 & \\hspace{1cm} 1\\leq q <2 \\\\\n",
    "0 & \\hspace{1cm}  q\\geq 2\n",
    "\\end{cases}\n",
    "\\end{equation}\n",
    "\n",
    "donde $q = \\frac{\\left|\\textbf{r}\\right|}{h}$ y el coeficiente depende de la dimnsionalidad del problema en la forma\n",
    "\n",
    "\\begin{equation}\n",
    "C_d (h) = \n",
    "\\begin{cases}\n",
    "\\frac{1}{6h} & \\hspace{1cm} d = 1\\\\\n",
    "\\frac{5}{14\\pi h^2} & \\hspace{1cm} d = 2\\\\\n",
    "\\frac{1}{4\\pi h^3} & \\hspace{1cm} d = 3\n",
    "\\end{cases}\n",
    "\\end{equation}\n",
    "\n",
    "Este kernel puede disminuir notablemente el tiempo de computo debido a que es una función con soporte compacto (i.e. el conjunto donde no es nula conforma un conjunto cerrado y acotado) y por ello la interacción entre dos particulas mediada por el kernel es simplemente cero si ellas están suficientemente alejadas una de la otra.\n"
   ]
  },
  {
   "cell_type": "raw",
   "metadata": {},
   "source": [
    "---\n",
    "\n",
    "## Método FTCS en 2-dimensiones\n",
    "\n",
    "La generalización del método FTCS a dos o tres dimensiones espaciales es inmediata. Consideraremos el caso dos dimensiones\n",
    "\n",
    "\n",
    "\\begin{equation}\n",
    "\\frac{\\partial \\phi}{\\partial t} = k \\left[\\frac{\\partial^2 \\phi}{\\partial x^2} + \\frac{\\partial^2 \\phi}{\\partial y^2} \\right].\n",
    "\\end{equation}\n",
    "\n",
    "Se utilizará ahora una malla rectangular de coordenadas cartesianas con $M+1$ nodos en la dirección-x y $N+1$ nodos en la dirección-y, para un total de $(M+1) \\times (N+1)$ nodos en total. Los valores discretos de la coordenada x se denotarán como $x_i$ con $i=0,1,2,...,M$ mientras que los valores discretos de la coordenada y se denotarán como $y_j$ con $j=0,1,2,...,N$. El valor de la función $\\phi$ en el punto $(n h_t,x_i,y_j)$ se denotará como $\\phi(nh_t, x_i, y_j) = \\phi^{(n)}_{i,j}$\n",
    "\n",
    "Luego de definir la malla de discretización, el siguiente paso es discretizar los operadores diferenciales. En este caso, se trabajará con las segundas derivadas aproximadas como diferencias centradas,\n",
    "\n",
    "\\begin{align}\n",
    "\\frac{\\partial^2}{\\partial x^2} = &\\frac{\\phi(x+h_s,y) - 2\\phi(x,y) + \\phi(x-h_s,y)}{h_s^2}\\\\\n",
    "\\frac{\\partial^2}{\\partial y^2} = &\\frac{\\phi(x,y+h_s) - 2\\phi(x,y) + \\phi(x,y-h_s)}{h_s^2},\n",
    "\\end{align}\n",
    "\n",
    "donde se ha utilizado el mismo tamaño de la malla $h_s$ en las dos direcciones. De esta forma, el operador Laplaciano aplicado a la función $\\phi$ en la ecuación se convierte en\n",
    "\n",
    "\\begin{align}\n",
    "\\frac{\\partial \\phi}{\\partial t} = k \\left[ \\frac{\\phi(x+h_s,y) - 2\\phi(x,y) + \\phi(x-h_s,y)}{h_s^2} + \\frac{\\phi(x,y+h_s) - 2\\phi(x,y) + \\phi(x,y-h_s)}{h_s^2}\\right] \\\\\n",
    "\\frac{\\partial \\phi}{\\partial t} = k \\left[\\frac{\\phi(x+h_s,y) - 2\\phi(x,y) + \\phi(x-h_s,y) + \\phi(x,y+h_s) - 2\\phi(x,y) + \\phi(x,y-h_s)}{h_s^2} \\right] \\\\\n",
    "\\frac{\\partial \\phi}{\\partial t} = k \\left[ \\frac{\\phi(x+h_s,y)  + \\phi(x-h_s,y) + \\phi(x,y+h_s)  + \\phi(x,y-h_s) - 4\\phi(x,y)}{h_s^2} \\right]\n",
    "\\end{align}\n",
    "\n",
    "o utilizando la notación de sub-índices,\n",
    "\n",
    "\\begin{equation}\n",
    "\\frac{\\partial \\phi_{i,j}}{\\partial t} = k \\left[ \\frac{\\phi_{i+1,j}  + \\phi_{i-1,j} + \\phi_{i,j+1}  + \\phi_{i,j-1} - 4\\phi_{i,j}}{h^2} \\right]\n",
    "\\end{equation}\n",
    "\n",
    "Ahora aplicamos el método de Euler en el lado izquierdo,\n",
    "\n",
    "\\begin{equation}\n",
    "\\frac{\\phi^{(n+1)}_{i,j} - \\phi^{(n)}_{i,j}}{h_t} = k \\left[ \\frac{\\phi^{(n)}_{i+1,j}  + \\phi^{(n)}_{i-1,j} + \\phi^{(n)}_{i,j+1}  + \\phi^{(n)}_{i,j-1} - 4\\phi^{(n)}_{i,j}}{h^2} \\right]\n",
    "\\end{equation}\n",
    "\n",
    "y con ello se obtiene el esquema iterativo\n",
    "\n",
    "\\begin{equation}\n",
    "\\phi^{(n+1)}_{i,j} = \\phi^{(n)}_{i,j} + \\alpha \\left[ \\phi^{(n)}_{i+1,j}  + \\phi^{(n)}_{i-1,j} + \\phi^{(n)}_{i,j+1}  + \\phi^{(n)}_{i,j-1} - 4\\phi^{(n)}_{i,j} \\right]\n",
    "\\end{equation}\n",
    "\n",
    "donde se ha definido el *Número de Courant*,  $\\alpha = \\frac{h_t}{h_s^2} k $."
   ]
  },
  {
   "cell_type": "markdown",
   "metadata": {},
   "source": [
    "### Estabilidad del Método FTCS\n",
    "\n",
    "Para analizar la estabilidad del método FTCS, se examinará el comportamiento de la solución aproximada $\\phi^{(n)}_{i,j}$ cuando $n \\rightarrow \\infty$. \n",
    "\n",
    "Considerando la función inicial\n",
    "\n",
    "\\begin{equation}\n",
    "\\phi^{(0)}_{i,j}  = e^{iax_i} e^{iby_j}\n",
    "\\end{equation}\n",
    "\n",
    "y evolucionando con la relación iterativa se tiene\n",
    "\n",
    "\\begin{align}\n",
    "\\phi^{(1)}_{i,j} = & e^{iax_i} e^{iby_j} + \\alpha \\left[ e^{iax_{i+1}} e^{iby_j}  + e^{iax_{i-1}} e^{iby_j} + e^{iax_i} e^{iby_{j+1}}  + e^{iax_i} e^{iby_{j-1}} - 4 e^{iax_i} e^{iby_j} \\right]\\\\\n",
    "\\phi^{(1)}_{i,j} = & e^{iax_i} e^{iby_j} \\left[1 + \\alpha \\left( e^{iah_s}  + e^{-iah_s}  +  e^{ibh_s}  + e^{-ibh_s} - 4 \\right) \\right]\\\\\n",
    "\\phi^{(1)}_{i,j} = &  \\left[1 + 2\\alpha \\left( \\cos ah_s - 1 \\right) + 2\\alpha \\left( \\cos bh_s - 1 \\right) \\right]\\phi^{(0)}_{i,j}\\\\\n",
    "\\phi^{(1)}_{i,j} = &  \\xi \\phi^{(0)}_{i,j}\n",
    "\\end{align}\n",
    "\n",
    "donde se ha definido el *factor de amplificación*\n",
    "\\begin{align}\n",
    " \\xi = & 1 + 2\\alpha \\left( \\cos ah_s - 1 \\right) + 2\\alpha \\left( \\cos bh_s - 1 \\right)\\\\\n",
    " \\xi = & 1 - 4\\alpha \\sin^2 \\left( \\frac{ah_s}{2}\\right) - 4\\alpha \\sin^2 \\left( \\frac{bh_s}{2} \\right).\n",
    "\\end{align}\n",
    "\n",
    "Aplicando repetidamente la relación iterativa se obtiene\n",
    "\n",
    "\\begin{equation}\n",
    "\\phi^{(n)}_{i,j} = \\xi ^n \\phi^{(0)}_{i,j}.\n",
    "\\end{equation}\n",
    "\n",
    "Claramente, para que el método sea estable se necesita que $-1 \\leq \\xi \\leq 1$, lo cual se cumple para cualquier valor de $a$ y $b$ si $\\alpha \\leq \\frac{1}{4}$. Esta se conoce como la *condición de Courant*.\n",
    "\n",
    "**Nota:** En una dimensión espacial, la condición de Courant es $\\alpha \\leq \\frac{1}{2}$.\n",
    "\n"
   ]
  },
  {
   "cell_type": "markdown",
   "metadata": {},
   "source": [
    "## El Método de Crank-Nicholson\n",
    "\n",
    "El método de Crank-Nicholson es útil para resolver la ecuación de difusión unidimensional,\n",
    "\n",
    "\\begin{equation}\n",
    "\\frac{\\partial \\phi}{\\partial t} = k \\frac{\\partial^2 \\phi}{\\partial x^2}.\n",
    "\\end{equation}\n",
    "\n",
    "En este caso se utilizarán diferencias finitas hacia adelante para al derivada temporal, pero en lugar de utilizar una diferencia centrada para la derivada espacial, se utilizará el promedio de las diferencias centradas en los tiempos $t$ y $t+h_t$. Esto conduce a la expresión\n",
    "\n",
    "\\begin{align}\n",
    "\\frac{\\phi^{(n+1)}_{i} - \\phi^{(n)}_{i}}{h_t} = \\frac{k}{2} \\left[ \\frac{\\phi^{(n)}_{i+1} - 2\\phi^{(n)}_{i} + \\phi^{(n)}_{i-1}}{h_s^2} + \\frac{\\phi^{(n+1)}_{i+1} - 2\\phi^{(n+1)}_{i} + \\phi^{(n+1)}_{i-1}}{h_s^2}\\right]\n",
    "\\end{align}\n",
    "\n",
    "o despejando la relación de recurrencia,\n",
    "\n",
    "\\begin{align}\n",
    "\\phi^{(n+1)}_{i} - \\frac{\\alpha}{2} \\left[\\phi^{(n+1)}_{i+1} - 2\\phi^{(n+1)}_{i} + \\phi^{(n+1)}_{i-1}\\right] = \\phi^{(n)}_{i} + \\frac{\\alpha}{2} \\left[\\phi^{(n)}_{i+1} - 2\\phi^{(n)}_{i} + \\phi^{(n)}_{i-1}\\right].\n",
    "\\end{align}\n",
    "\n",
    "Este es catalogado como un método implícito debido a que para obtener $\\phi^{(n+1)}_{i}$ a partir de $\\phi^{(n)}_{i}$ se debe resolver un sistema de ecuaciones lineales acopladas el cual tendrá una estructura tri-diagonal (y por lo tanto puede resolverse fácilmente). \n",
    "\n",
    "### Estabilidad del Método de Crank-Nicholson\n",
    "\n",
    "Al igual que en el caso del método FTCS, la estabilidad de este método se estudia al considerar la condición inicial $\\phi^{(0)}_{i} = e^{iax}$, lo que lleva a la relación\n",
    "\n",
    "\\begin{equation}\n",
    "\\phi^{(n)}_i = \\xi ^n \\phi^{(0)}_i \n",
    "\\end{equation}\n",
    "\n",
    "donde\n",
    "\n",
    "\\begin{equation}\n",
    "\\xi = \\frac{1 - 2\\alpha \\sin^2 \\left( \\frac{a h_s}{2}\\right)}{1 + 2\\alpha \\sin^2 \\left( \\frac{a h_s}{2}\\right)}.\n",
    "\\end{equation}\n",
    "\n",
    "Ya que $\\xi < 1$ para cualquier valor de $\\alpha$, $a$ y $b$, se concluye que el método de Crank-Nicholson es incondicionalmente estable. Este resultado implica que los tamaños de los pasos $h_t$ y $h_s$ se pueden escoger teniendo en cuenta los criterios del error de truncamiento únicamente y no requerimientos de estabilidad."
   ]
  },
  {
   "cell_type": "markdown",
   "metadata": {
    "id": "33wrJjswlnwm"
   },
   "source": [
    "---\n",
    "### Ejemplo \n",
    "\n",
    "Para ilustrar la construcción del sistema lineal, considere el siguiente problema simple:\n",
    "\n",
    "Queremos resolver la ecuación de Poisson en la región $0\\leq x \\leq 1$, $0\\leq y \\leq 1$ con $\\rho (x,y) = 2y$. Las condiciones de frontera (Dirichlet) serán $\\phi(x,0) = 0$, $\\phi(0,y) = 0$, $\\phi(1,y) = y$ y $\\phi(x,1) = x$.\n",
    "\n",
    "Para solucionar el problema utilizaremos una malla de discretización con $h=\\frac{1}{3}$ en ambas direcciones (con este valor tan grande del espacio entre nodos no se obtendrá un resultado mu preciso).\n",
    "De esta forma, la malla tendrá $4 \\times 4$ nodos localizados en las coordenadas \n",
    "\n",
    "\\begin{align}\n",
    "x_i = &(x_0, x_1, x_2, x_3) = \\left( 0, \\frac{1}{3}, \\frac{2}{3}, 1 \\right)\\\\\n",
    "y_i = &(y_0, y_1, y_2, y_3) = \\left( 0, \\frac{1}{3}, \\frac{2}{3}, 1 \\right)\n",
    "\\end{align}\n",
    "\n",
    "y la función $\\phi$ se discretizará con 16 valores, $\\phi_{0,0}, \\phi_{1,0}, \\phi_{2,0}, ...$ .\n",
    "\n",
    "Las condiciones de frontera serán entonces\n",
    "\n",
    "\\begin{align}\n",
    "\\phi_{0,0} = & \\phi_{1,0} = \\phi_{2,0} = \\phi_{3,0} = 0\\\\\n",
    "\\phi_{0,1} = & \\phi_{0,2} = \\phi_{0,3} = 0 \\\\\n",
    "\\phi_{3,1} = &  \\frac{1}{3}\\\\\n",
    "\\phi_{3,2} = &  \\frac{2}{3}\\\\\n",
    "\\phi_{3,3} = & 1 \\\\\n",
    "\\phi_{1,3} = &  \\frac{1}{3}\\\\\n",
    "\\phi_{2,3} = &  \\frac{2}{3}.\n",
    "\\end{align}\n",
    "\n",
    "\n",
    "se puede observar que los valores independientes impuestos por las condiciones de frontera son 12 y los valores que se quieren encontrar para $\\phi$ son solamente 4: $\\phi_{1,1}, \\phi_{1,2}, \\phi_{2,1}, \\phi_{2,2}$.\n",
    "\n",
    "Utilizando el stencil\n",
    "\n",
    "\\begin{equation}\n",
    "\\phi(x_{i+1},y_i)  + \\phi(x_{i-1},y_i) + \\phi(x_i,y_{i+1})  + \\phi(x_i,y_{i-1}) - 4\\phi(x_i,y_i) =  h^2 \\rho (x_i,y_i)\n",
    "\\end{equation}\n",
    "\n",
    "se construye el sistema lineal en la forma"
   ]
  },
  {
   "cell_type": "markdown",
   "metadata": {},
   "source": [
    "Este sistema puede resolverse manualmente debido a que solo se tienen 4 valores de la función $\\phi$ por obtener. Sin embargo, aqui encontraremos la slución utilizando la función [numpy.linalg.solve( )](https://numpy.org/doc/stable/reference/generated/numpy.linalg.solve.html),"
   ]
  },
  {
   "cell_type": "code",
   "execution_count": 1,
   "metadata": {},
   "outputs": [],
   "source": [
    "import numpy as np\n",
    "\n",
    "M = np.array([[1, 0, 0, 0, 0, 0, 0, 0, 0, 0, 0, 0, 0, 0, 0, 0],\n",
    "              [0, 1, 0, 0, 0, 0, 0, 0, 0, 0, 0, 0, 0, 0, 0, 0],\n",
    "              [0, 0, 1, 0, 0, 0, 0, 0, 0, 0, 0, 0, 0, 0, 0, 0],\n",
    "              [0, 0, 0, 1, 0, 0, 0, 0, 0, 0, 0, 0, 0, 0, 0, 0],\n",
    "              [0, 0, 0, 0, 1, 0, 0, 0, 0, 0, 0, 0, 0, 0, 0, 0],\n",
    "              [0, 1, 0, 0, 1,-4, 1, 0, 0, 1, 0, 0, 0, 0, 0, 0],\n",
    "              [0, 0, 1, 0, 0, 1,-4, 1, 0, 0, 1, 0, 0, 0, 0, 0],\n",
    "              [0, 0, 0, 0, 0, 0, 0, 1, 0, 0, 0, 0, 0, 0, 0, 0],\n",
    "              [0, 0, 0, 0, 0, 0, 0, 0, 1, 0, 0, 0, 0, 0, 0, 0],\n",
    "              [0, 0, 0, 0, 0, 1, 0, 0, 1,-4, 1, 0, 0, 1, 0, 0],\n",
    "              [0, 0, 0, 0, 0, 0, 1, 0, 0, 1,-4, 1, 0, 0, 1, 0],\n",
    "              [0, 0, 0, 0, 0, 0, 0, 0, 0, 0, 0, 1, 0, 0, 0, 0],\n",
    "              [0, 0, 0, 0, 0, 0, 0, 0, 0, 0, 0, 0, 1, 0, 0, 0],\n",
    "              [0, 0, 0, 0, 0, 0, 0, 0, 0, 0, 0, 0, 0, 1, 0, 0],\n",
    "              [0, 0, 0, 0, 0, 0, 0, 0, 0, 0, 0, 0, 0, 0, 1, 0],\n",
    "              [0, 0, 0, 0, 0, 0, 0, 0, 0, 0, 0, 0, 0, 0, 0, 1],\n",
    "             ])\n",
    "b = np.array([0, 0, 0, 0, 0, 2/27, 2/27, 1/3, 0, 4/27, 4/27, 2/3, 0, 1/3, 2/3, 1])"
   ]
  },
  {
   "cell_type": "code",
   "execution_count": 10,
   "metadata": {},
   "outputs": [
    {
     "data": {
      "text/plain": [
       "array([0.        , 0.        , 0.        , 0.        , 0.        ,\n",
       "       0.06481481, 0.17592593, 0.33333333, 0.        , 0.15740741,\n",
       "       0.37962963, 0.66666667, 0.        , 0.33333333, 0.66666667,\n",
       "       1.        ])"
      ]
     },
     "execution_count": 10,
     "metadata": {},
     "output_type": "execute_result"
    }
   ],
   "source": [
    "phi = np.linalg.solve(M,b)\n",
    "phi"
   ]
  },
  {
   "cell_type": "markdown",
   "metadata": {},
   "source": [
    "Los valores encontrados para la función $\\phi$ son\n",
    "\\begin{align}\n",
    "\\phi_{1,1} = & 0.0648\\\\ \n",
    "\\phi_{2,1} = & 0.1759\\\\ \n",
    "\\phi_{1,2} = & 0.1574\\\\\n",
    "\\phi_{2,2} = & 0.3796\n",
    "\\end{align}"
   ]
  },
  {
   "cell_type": "markdown",
   "metadata": {},
   "source": [
    "Se puede derle una forma matricial a los resultados para visualizar el comportamiento de la función $\\phi$ a través de la función [maptplotlib.pyplot.pcolormesh( )](https://matplotlib.org/stable/api/_as_gen/matplotlib.pyplot.pcolormesh.html),"
   ]
  },
  {
   "cell_type": "code",
   "execution_count": 11,
   "metadata": {},
   "outputs": [
    {
     "data": {
      "text/plain": [
       "array([[0.        , 0.        , 0.        , 0.        ],\n",
       "       [0.        , 0.06481481, 0.15740741, 0.33333333],\n",
       "       [0.        , 0.17592593, 0.37962963, 0.66666667],\n",
       "       [0.        , 0.33333333, 0.66666667, 1.        ]])"
      ]
     },
     "execution_count": 11,
     "metadata": {},
     "output_type": "execute_result"
    }
   ],
   "source": [
    "phi = phi.reshape(4,4)\n",
    "phi = phi.T\n",
    "phi"
   ]
  },
  {
   "cell_type": "code",
   "execution_count": 19,
   "metadata": {},
   "outputs": [
    {
     "data": {
      "image/png": "[encoded data removed]",
      "text/plain": [
       "<Figure size 648x504 with 2 Axes>"
      ]
     },
     "metadata": {
      "needs_background": "light"
     },
     "output_type": "display_data"
    }
   ],
   "source": [
    "import matplotlib.pyplot as plt\n",
    "%matplotlib inline\n",
    "\n",
    "x = np.linspace(0,1,4)\n",
    "y = np.linspace(0,1,4)\n",
    "\n",
    "# Make the plot with colorbar\n",
    "plt.figure(figsize=(9,7))\n",
    "plt.pcolormesh(x, y, phi, shading='auto')\n",
    "plt.colorbar()\n",
    "plt.xlabel(r'$x$')\n",
    "plt.ylabel(r'$x$')\n",
    "plt.title(r'$\\phi(x,y)$')\n",
    "plt.show()"
   ]
  },
  {
   "cell_type": "markdown",
   "metadata": {},
   "source": [
    "Aún cuando este método es fácilmente aplicable y rápido en el ejemplo presentado, cuando se trabaja un problema de la vida real, con un número grande de nodos, la solución del sistema de ecuaciones lineales puede necesitar un tiempo de computo muy largo. Si la discretización se realiza con $N$ puntos, la matriz $\\phi_{i,j}$ tendrá $N^2$ elementos y el número de operaciones requerido para solucionar el sistema lineal correspondiente sera $\\mathcal{O}(N^3)$. En el caso de $N=100$ esto significa un numero de operaciones del orden de $10^6$."
   ]
  },
  {
   "cell_type": "markdown",
   "metadata": {},
   "source": [
    "## Métodos de Relajación\n",
    "\n",
    "Otra clase de algoritmos para la solución de la ecuación de Poisson son los denominados métodos de relajación. En estos, se comienza el proceso con un ansatz inicial que luego se modifica mediante iteraciones para ir acercandose a la solución verdadera.\n",
    "\n",
    "### Método de Jacobi\n",
    "\n",
    "Este es el método mas simple de todos y se puede resumir en los siguientes pasos:\n",
    "\n",
    "1. Se inicializa la matriz $\\phi_{i,j}$ con un ansatz inicial\n",
    "2. Se aplican las condiciones de forntera\n",
    "3. Para cada punto interior en la malla se calcula la cantidad\n",
    "\\begin{equation}\n",
    "\\phi^*_{i,j} = \\frac{1}{4} \\left( \\phi_{i+1,j} + \\phi_{i-1,j} + \\phi_{i,j+1} + \\phi_{i,j-1} - h^2\\rho_{i,j}\\right)\n",
    "\\end{equation}\n",
    "\n",
    "4. Para cada punto interior se reemplaza $\\phi_{i,j}$ por $\\phi^*_{i,j}$\n",
    "5. Se vuelve al paso 2 hasta que la diferencia entre las dos aproximaciones mas recientes sea más pequeña que una tolerancia predeterminada.\n",
    "\n",
    "\n",
    "A pesar de que el método de Jacobi es rápido y fácil de implementar, puede tener una lenta convergencia, especialmente para un gran número de nodos. \n",
    "\n",
    "### Método de Gauss-Seidel\n",
    "\n",
    "Este método es similar al de Jacobi, excepto porque los pasos 3. y 4. descritos arriba se combinan de tal forma que $\\phi_{i,j}$ se reemplaza por $\\phi^*_{i,j}$ inmediatamente se calcula. Con esta pequeña modificación se logra mejorar el tiempo de calculo y adicionalmente se necesita menos espacio de memoria para almacenar los calculos intermedios.\n",
    "\n",
    "### Método de Sobre-Relajación Sucesiva ( Succesive Over-Relaxation: SOR)\n",
    "\n",
    "Otra modificación posible para los métodos anteriores corresponde a cambiar la actualización con la forma\n",
    "\n",
    "\\begin{equation}\n",
    "\\phi^*_{i,j} = (1-\\omega) \\phi_{i,j} + \\frac{1}{4} \\omega \\left( \\phi_{i+1,j} + \\phi_{i-1,j} + \\phi_{i,j+1} + \\phi_{i,j-1} - h^2\\rho_{i,j}\\right)\n",
    "\\end{equation}\n",
    "\n",
    "donde $\\omega$ es un parametro de relajación. El valor $\\omega = 1$ recupera el método de Gauss-Seidel, valores $\\omega<1$ produce  *sub-relajación* (i.e. se mantiene una proción de la solución anterior) y un valor $\\omega >1$ produce *sobre-relajación* (la nueva solución se mueve lejos de la anterior solución que en el modelo de Gauss-Seidel).\n",
    "\n",
    "El valor más apropiado para $\\omega$ depende del problema particular que se esta resolviendo. Sin embargo, valores en el rango $1.2 \\leq \\omega \\leq 1.4$ suele dar muy buenos resultados. El método SOR requiere de menos iteraciones que los métodos de Jacobi y de Gauss-Seidel y en general se puede considerar como el más practico de todos, aunque es importante recalcar que la convergencia de la solución también depende del ansatz inicial elegido. \n"
   ]
  },
  {
   "cell_type": "markdown",
   "metadata": {},
   "source": [
    "---\n",
    "### Ejemplo \n",
    "\n",
    "Para ilustrar la construcción del sistema lineal, de nuevo consideraremos el problema simple de resolver la ecuación de Poisson en la región $0\\leq x \\leq 1$, $0\\leq y \\leq 1$ con $\\rho (x,y) = 2y$. Las condiciones de frontera (Dirichlet) serán $\\phi(x,0) = 0$, $\\phi(0,y) = 0$, $\\phi(1,y) = y$ y $\\phi(x,1) = x$.\n",
    "En este caso utilizaremos una malla de discretización con 100 nodos en ambas direcciones."
   ]
  },
  {
   "cell_type": "markdown",
   "metadata": {},
   "source": [
    "1. Para comenzar, definimos el arreglo que almacenará la información del campo buscado,"
   ]
  },
  {
   "cell_type": "code",
   "execution_count": 163,
   "metadata": {},
   "outputs": [],
   "source": [
    "import numpy as np\n",
    "\n",
    "N = 100\n",
    "x = np.linspace(0,1,N)\n",
    "y = np.linspace(0,1,N)\n",
    "\n",
    "h = (1-0)/N\n",
    "\n",
    "phi = np.zeros([N,N])\n",
    "phi_star = np.zeros([N,N])\n",
    "\n",
    "def rho(x,y):\n",
    "    return 2*y\n"
   ]
  },
  {
   "cell_type": "markdown",
   "metadata": {},
   "source": [
    "2. Luego, aplicamos las condiciones de frontera"
   ]
  },
  {
   "cell_type": "code",
   "execution_count": 164,
   "metadata": {
    "scrolled": true
   },
   "outputs": [],
   "source": [
    "phi[:,0] = 0.\n",
    "phi[0,:] = 0.\n",
    "for i in range(N): \n",
    "    phi[-1, i] = y[i]\n",
    "    phi[i, -1] = x[i]"
   ]
  },
  {
   "cell_type": "markdown",
   "metadata": {},
   "source": [
    "Para los valores de inicialización de los puntos internos utilizaremos el promedio de las componentes del arreglo con las condiciones iniciales."
   ]
  },
  {
   "cell_type": "code",
   "execution_count": 165,
   "metadata": {},
   "outputs": [
    {
     "data": {
      "text/plain": [
       "array([[0.        , 0.        , 0.        , ..., 0.        , 0.        ,\n",
       "        0.        ],\n",
       "       [0.        , 0.0099    , 0.0099    , ..., 0.0099    , 0.0099    ,\n",
       "        0.01010101],\n",
       "       [0.        , 0.0099    , 0.0099    , ..., 0.0099    , 0.0099    ,\n",
       "        0.02020202],\n",
       "       ...,\n",
       "       [0.        , 0.0099    , 0.0099    , ..., 0.0099    , 0.0099    ,\n",
       "        0.97979798],\n",
       "       [0.        , 0.0099    , 0.0099    , ..., 0.0099    , 0.0099    ,\n",
       "        0.98989899],\n",
       "       [0.        , 0.01010101, 0.02020202, ..., 0.97979798, 0.98989899,\n",
       "        1.        ]])"
      ]
     },
     "execution_count": 165,
     "metadata": {},
     "output_type": "execute_result"
    }
   ],
   "source": [
    "phi_mean =phi.mean()\n",
    "\n",
    "for i in range(1,N-1):\n",
    "    for j in range(1,N-1):\n",
    "        phi[i,j] = phi_mean\n",
    "\n",
    "phi_star = np.copy(phi)\n",
    "phi_star"
   ]
  },
  {
   "cell_type": "markdown",
   "metadata": {},
   "source": [
    "3. Para los puntos interiores, aplicamos el método SOR \n",
    "\\begin{equation}\n",
    "\\phi^*_{i,j} = (1-\\omega) \\phi_{i,j} + \\frac{1}{4} \\omega \\left( \\phi_{i+1,j} + \\phi_{i-1,j} + \\phi_{i,j+1} + \\phi_{i,j-1} - h^2\\rho_{i,j}\\right)\n",
    "\\end{equation}\n",
    "\n",
    "con $\\omega = 1.2$. Repetiremos esta aplicación hasta lograr que la diferencia $\\phi^* - \\phi$ sea menor que una tolerancia dada. "
   ]
  },
  {
   "cell_type": "code",
   "execution_count": 166,
   "metadata": {},
   "outputs": [
    {
     "data": {
      "text/plain": [
       "4796"
      ]
     },
     "execution_count": 166,
     "metadata": {},
     "output_type": "execute_result"
    }
   ],
   "source": [
    "omega = 1.4\n",
    "tol = 1.e-8\n",
    "\n",
    "repeat = True\n",
    "k = 0\n",
    "while (repeat and k<5000):\n",
    "    phi_star = np.copy(phi)\n",
    "    for i in range(1,N-1):\n",
    "        for j in range(1,N-1):\n",
    "            phi[i,j] = (1-omega)*phi[i,j] + (omega/4)*(phi[i+1,j] + phi[i-1,j] + phi[i,j+1] + phi[i,j-1] - (h**2)*rho(x[i],y[j]))\n",
    "    \n",
    "    delta = abs(phi_star-phi)\n",
    "    if delta.max()< tol:\n",
    "        repeat = False\n",
    "    k +=1\n",
    "\n",
    "k"
   ]
  },
  {
   "cell_type": "code",
   "execution_count": 167,
   "metadata": {},
   "outputs": [
    {
     "data": {
      "image/png": "[encoded data removed]",
      "text/plain": [
       "<Figure size 648x504 with 2 Axes>"
      ]
     },
     "metadata": {
      "needs_background": "light"
     },
     "output_type": "display_data"
    }
   ],
   "source": [
    "import matplotlib.pyplot as plt\n",
    "%matplotlib inline\n",
    "\n",
    "\n",
    "# Make the plot with colorbar\n",
    "plt.figure(figsize=(9,7))\n",
    "plt.pcolormesh(x, y, phi, shading='auto')\n",
    "plt.colorbar()\n",
    "plt.xlabel(r'$x$')\n",
    "plt.ylabel(r'$x$')\n",
    "plt.title(r'$\\phi(x,y)$')\n",
    "plt.show()"
   ]
  },
  {
   "cell_type": "code",
   "execution_count": null,
   "metadata": {},
   "outputs": [],
   "source": []
  }
 ],
 "metadata": {
  "colab": {
   "collapsed_sections": [],
   "name": "PDE05.ipynb",
   "provenance": []
  },
  "kernelspec": {
   "display_name": "Python 3 (ipykernel)",
   "language": "python",
   "name": "python3"
  },
  "language_info": {
   "codemirror_mode": {
    "name": "ipython",
    "version": 3
   },
   "file_extension": ".py",
   "mimetype": "text/x-python",
   "name": "python",
   "nbconvert_exporter": "python",
   "pygments_lexer": "ipython3",
   "version": "3.9.7"
  }
 },
 "nbformat": 4,
 "nbformat_minor": 1
}
