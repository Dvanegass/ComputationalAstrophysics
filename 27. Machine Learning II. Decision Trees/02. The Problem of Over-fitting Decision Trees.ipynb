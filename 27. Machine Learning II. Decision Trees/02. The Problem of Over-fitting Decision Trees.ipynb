{
 "cells": [
  {
   "cell_type": "markdown",
   "metadata": {
    "id": "5soGuirloNgq"
   },
   "source": [
    "![Astrofisica Computacional](../logo.PNG)"
   ]
  },
  {
   "cell_type": "markdown",
   "metadata": {},
   "source": [
    "---\n",
    "## 02. The Problem with Over-Fitting of Decision Trees.\n",
    "\n",
    "\n",
    "Eduard Larrañaga (ealarranaga@unal.edu.co)\n",
    "\n",
    "---"
   ]
  },
  {
   "cell_type": "markdown",
   "metadata": {
    "id": "Ff4KTapaoNgx"
   },
   "source": [
    "### Abstract\n",
    "\n",
    "In this notebook we illustrate the problem with over-fitting a decision tree.\n",
    "\n",
    "---"
   ]
  },
  {
   "cell_type": "markdown",
   "metadata": {
    "id": "Y85Y_aIb8meo"
   },
   "source": [
    "Data over-fit refers to an algorithm that tries to incorporate and to adjust the model to all the points in the dataset (even outliers!). Over-fitting involves a losing in the general prediction power of the model.\n"
   ]
  },
  {
   "cell_type": "markdown",
   "metadata": {
    "id": "cn0RkhCyHfEO"
   },
   "source": [
    "### The dataset\n",
    "\n",
    "We will use again the datafile `'sdss_galaxy_colors.npy'`with photometric data of galaxies.\n"
   ]
  },
  {
   "cell_type": "code",
   "execution_count": 1,
   "metadata": {
    "id": "z2_uSWSg5VRk"
   },
   "outputs": [
    {
     "data": {
      "text/plain": [
       "array([(19.84132, 19.52656, 19.46946, 19.17955, 19.10763, b'QSO', 0.539301  , 6.543622e-05),\n",
       "       (19.86318, 18.66298, 17.84272, 17.38978, 17.14313, b'GALAXY', 0.1645703 , 1.186625e-05),\n",
       "       (19.97362, 18.31421, 17.47922, 17.0744 , 16.76174, b'GALAXY', 0.04190006, 2.183788e-05),\n",
       "       ...,\n",
       "       (19.82667, 18.10038, 17.16133, 16.5796 , 16.19755, b'GALAXY', 0.0784592 , 2.159406e-05),\n",
       "       (19.98672, 19.75385, 19.5713 , 19.27739, 19.25895, b'QSO', 1.567295  , 4.505933e-04),\n",
       "       (18.00024, 17.80957, 17.77302, 17.72663, 17.7264 , b'QSO', 0.4749449 , 6.203324e-05)],\n",
       "      dtype=[('u', '<f8'), ('g', '<f8'), ('r', '<f8'), ('i', '<f8'), ('z', '<f8'), ('spec_class', 'S6'), ('redshift', '<f8'), ('redshift_err', '<f8')])"
      ]
     },
     "execution_count": 1,
     "metadata": {},
     "output_type": "execute_result"
    }
   ],
   "source": [
    "import numpy as np\n",
    "\n",
    "data = np.load('sdss_galaxy_colors.npy')\n",
    "data"
   ]
  },
  {
   "cell_type": "markdown",
   "metadata": {
    "id": "C7pkVeizIyj5"
   },
   "source": [
    "The features in this dataset are: \n",
    "\n",
    "| dtype | Feature|\n",
    "|:-:|:-:|\n",
    "|`u` |u band filter|\n",
    "|`g` |g band filter|\n",
    "|`r` |r band filter|\n",
    "|`i` |i band filter|\n",
    "|`z` |z band filter|\n",
    "|`spec_class` |spectral class|\n",
    "|`redshift` |redshift|\n",
    "|`redshift_err` |redshift error|\n"
   ]
  },
  {
   "cell_type": "markdown",
   "metadata": {
    "id": "ca9ZEeaNK8Vh"
   },
   "source": [
    "The size of the dataset is"
   ]
  },
  {
   "cell_type": "code",
   "execution_count": null,
   "metadata": {
    "colab": {
     "base_uri": "https://localhost:8080/"
    },
    "executionInfo": {
     "elapsed": 536,
     "status": "ok",
     "timestamp": 1612142762690,
     "user": {
      "displayName": "Eduard Alexis Larranaga",
      "photoUrl": "https://lh3.googleusercontent.com/a-/AOh14GgCVABzEgj-rCdyxWa29RnA0kIYUCXAaVbnRYOEhQ=s64",
      "userId": "04402438389940282602"
     },
     "user_tz": 300
    },
    "id": "8JHyXtPlK6Hs",
    "outputId": "12892e14-8457-4cd4-d2a9-4befaa94a8c6"
   },
   "outputs": [],
   "source": [
    "n = data.size\n",
    "n"
   ]
  },
  {
   "cell_type": "markdown",
   "metadata": {
    "id": "geu4TFRioNgx"
   },
   "source": [
    "---\n",
    "### Training the Decision Tree\n",
    "\n",
    "As stressed in the last lesson, decision trees hve advantages such as\n",
    "\n",
    "- They are easy to implement\n",
    "- They are easy to interpret\n",
    "- Data requires little preparation\n",
    "- Usually, decision trees are computational efficient\n",
    "\n",
    "However, decision trees also have some disadvantages and limitations. The most important is that they usually over-fit the data if there is no supervision during the training process. Hence, the over-fit will produce a super-complicated tree that tries to reproduce all and every one of the targets.\n"
   ]
  },
  {
   "cell_type": "markdown",
   "metadata": {
    "id": "675UL8zdLlbc"
   },
   "source": [
    "In order to train the decision tree, we define the 'features' and 'targets' sets."
   ]
  },
  {
   "cell_type": "code",
   "execution_count": 2,
   "metadata": {
    "id": "Q53oIok9eCgL"
   },
   "outputs": [],
   "source": [
    "features = np.asarray([data['u']-data['g'],\\\n",
    "                       data['g']-data['i'],\\\n",
    "                       data['r']-data['i'],\\\n",
    "                       data['i']-data['z'] ])\n",
    "features = features.T\n",
    "\n",
    "targets = np.asarray(data['redshift'])"
   ]
  },
  {
   "cell_type": "markdown",
   "metadata": {
    "id": "3DjjbFANBHcD"
   },
   "source": [
    "Now, we will split the data into train and test subsets (we will use a 50:50 split),"
   ]
  },
  {
   "cell_type": "code",
   "execution_count": 3,
   "metadata": {
    "id": "JTULQCiYZ8U-"
   },
   "outputs": [],
   "source": [
    "from sklearn.model_selection import train_test_split\n",
    "\n",
    "train_features, test_features, train_targets, test_targets = train_test_split(features, targets, random_state=60, test_size=0.5)"
   ]
  },
  {
   "cell_type": "markdown",
   "metadata": {
    "id": "DGdRXf17ZwKD"
   },
   "source": [
    "\n",
    "In order to show the over-fit problem, we will change the tree depth option of the decision tree. It is common to think that a bigger depth will produce a better precision in the predictions. However, a big depth will produce the over-fit of the training data and it implies a lower precision when predicting for the test subset.\n",
    "\n",
    "Consider tree depths in the range from 1 to 40 and an evaluation of the model based on the median of the residuals,\n",
    "\n",
    "\\begin{equation}\n",
    "\\text{eval_dec_tree} = \\text{median}\\left\\lbrace \\left| \\text{predictions}_i - \\text{targets}_i \\right|\\right\\rbrace\n",
    "\\end{equation}\n",
    "\n",
    "Then, we have\n"
   ]
  },
  {
   "cell_type": "code",
   "execution_count": 4,
   "metadata": {},
   "outputs": [
    {
     "data": {
      "image/png": "[encoded data removed]",
      "text/plain": [
       "<Figure size 720x504 with 1 Axes>"
      ]
     },
     "metadata": {
      "needs_background": "light"
     },
     "output_type": "display_data"
    }
   ],
   "source": [
    "import matplotlib.pyplot as plt\n",
    "from sklearn.tree import DecisionTreeRegressor\n",
    "\n",
    "t_depth = range(1,40)\n",
    "eval_test = np.zeros(len(t_depth))\n",
    "eval_train = np.zeros(len(t_depth))\n",
    "\n",
    "for i in range(len(t_depth)):\n",
    "    d_tree = DecisionTreeRegressor(max_depth=t_depth[i])\n",
    "    d_tree.fit(train_features, train_targets)\n",
    "    predictions_d_tree = d_tree.predict(test_features)\n",
    "    eval_test[i] = np.median(np.abs(predictions_d_tree - test_targets))\n",
    "    predictions_d_tree = d_tree.predict(train_features)\n",
    "    eval_train[i] = np.median(np.abs(predictions_d_tree - train_targets))\n",
    "\n",
    "\n",
    "plt.figure(figsize=(10,7))\n",
    "plt.plot(t_depth, eval_test, color='crimson', label='test set')\n",
    "plt.plot(t_depth, eval_train,color='cornflowerblue', label='train set')\n",
    "plt.xlabel(r'Tree depth')\n",
    "plt.ylabel(r'Median of Differences')\n",
    "plt.legend()\n",
    "plt.show()"
   ]
  },
  {
   "cell_type": "markdown",
   "metadata": {
    "id": "nUY7ZcLrAQOT"
   },
   "source": [
    "This plot shows that the precision of the predictions on the train set is better when increasing the tree depth, producing a perfect prediction (i.e. zero error) for tree depths greater than 25.\n",
    "\n",
    "On the other hand, the precision on the test set initially improves by increasing the depth. However, around a depth of 19 the error grows again due to the overfit of the training data. According to the plot, a depth around 19 or 20 is the best to obtain a good prediction for the test data."
   ]
  },
  {
   "cell_type": "code",
   "execution_count": null,
   "metadata": {},
   "outputs": [],
   "source": []
  }
 ],
 "metadata": {
  "@webio": {
   "lastCommId": null,
   "lastKernelId": null
  },
  "colab": {
   "collapsed_sections": [],
   "name": "02. The Problem of Over-fitting Decision Trees.ipynb",
   "provenance": []
  },
  "kernelspec": {
   "display_name": "Python 3 (ipykernel)",
   "language": "python",
   "name": "python3"
  },
  "language_info": {
   "codemirror_mode": {
    "name": "ipython",
    "version": 3
   },
   "file_extension": ".py",
   "mimetype": "text/x-python",
   "name": "python",
   "nbconvert_exporter": "python",
   "pygments_lexer": "ipython3",
   "version": "3.9.5"
  }
 },
 "nbformat": 4,
 "nbformat_minor": 1
}
