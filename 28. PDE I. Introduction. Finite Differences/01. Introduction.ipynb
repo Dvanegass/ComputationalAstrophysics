{
 "cells": [
  {
   "cell_type": "markdown",
   "metadata": {
    "id": "tZQNftCXBl_h"
   },
   "source": [
    "![Astrofisica Computacional](../logo.PNG)"
   ]
  },
  {
   "cell_type": "markdown",
   "metadata": {},
   "source": [
    "---\n",
    "## 01. Partial Differential Equations (PDEs) I. Introduction \n",
    "\n",
    "Eduard Larrañaga (ealarranaga@unal.edu.co)\n",
    "\n",
    "---"
   ]
  },
  {
   "cell_type": "markdown",
   "metadata": {
    "id": "IbL7mPYgBl_i"
   },
   "source": [
    "### Summary\n",
    "\n",
    "The generalities of the systems of Partial Differential Equations (PDE) are presented.\n",
    "\n",
    "`A. Garcia. Numerical Methods for Physics. (1999). Chapter 3`\n",
    "\n",
    "---"
   ]
  },
  {
   "cell_type": "markdown",
   "metadata": {
    "id": "QcuE5mz9Bl_i"
   },
   "source": [
    "## Partial Differential Equations (PDEs)\n",
    "\n",
    "A PDE is a relationship between the partial derivatives of an unknown function and the independent variables. The order of a system of PDEs corresponds to the order of the highest derivative present in the equations.\n",
    "\n",
    "A PDE is said to be *linear* if only first degree terms appear in the dependent variable (i.e. the unknown function) and in its partial derivatives.\n",
    "\n",
    "If each of the PDE terms contains the dependent variable or one of its partial derivatives, the equation is said to be *homogeneous*. If this is not the case, the equation is said to be *non-homogeneous*.\n",
    "\n",
    "\n",
    "\n",
    "\n",
    "\n",
    "\n",
    "---\n",
    "### Classes of Partial Differential Equations\n",
    "\n",
    "There are three general classes of second-order PDEs.\n",
    "\n",
    "1. Hyperbolic\n",
    "2. Parabolic\n",
    "3. Ellipticals\n",
    "\n",
    "However, it should be noted that, in general, not all PDE systems fall into one of these classes. Furthermore, it is not always obvious to recognize (and prove) to which class a particular PDE belongs.\n",
    "\n",
    "These classes of PDEs model different types of phenomena, show different behaviors and require different numerical methods for their solution."
   ]
  },
  {
   "cell_type": "markdown",
   "metadata": {
    "id": "_vmtvz6cBl_j"
   },
   "source": [
    "### Second Order General Linear Differential Equation\n",
    "\n",
    "Consider a function $u=u(x,y)$ that satisfies the second-order general linear differential equation,\n",
    "\n",
    "\\begin{equation}\n",
    "a \\partial^2_{xx} u + b \\partial^2_{xy} u + c \\partial^2_{yy} u + d \\partial_x u + e \\partial_y u + f u = g\\,\\,,\n",
    "\\end{equation}\n",
    "\n",
    "This equation can be quickly classified based on the discriminant,\n",
    "\n",
    "\\begin{equation}\n",
    "\\Delta = b^2 - 4ac \\left\\{ \\begin{array}{lcr}\n",
    "< 0 & \\rightarrow & \\text{elliptic},\\\\\n",
    "= 0 & \\rightarrow & \\text{parabolic},\\\\\n",
    "> 0 & \\rightarrow & \\text{hyperbolic}.\n",
    "\\end{array}\\right.\n",
    "\\end{equation}\n",
    "\n",
    "This classification shows that the names have been chosen by analogy with the conic sections in the theory of ellipses."
   ]
  },
  {
   "cell_type": "markdown",
   "metadata": {
    "id": "491NiiTGBl_j"
   },
   "source": [
    "---\n",
    "## 1. Hyperbolic PDEs\n",
    "\n",
    "Hyperbolic PDEs ($\\Delta <0$) in physics and astrophysics usually describe **dynamic** processes and processes that generally start at some time $t_0=0$ with certain initial conditions. Therefore, the equations are usually integrated over time.\n",
    "\n",
    "The second-order linear hyperbolic equation prototype is the homogeneous wave equation,\n",
    "\n",
    "\\begin{equation}\n",
    "c^2 \\partial^2_{xx} u - \\partial^2_{tt} u = 0\\,\\,,\n",
    "\\end{equation}\n",
    "\n",
    "where $c$ is the propagation speed of the wave."
   ]
  },
  {
   "cell_type": "markdown",
   "metadata": {
    "id": "8CtKOksQBl_k"
   },
   "source": [
    "---\n",
    "On the other hand, an example of a **first-order linear hyperbolic equation** in one dimension is\n",
    "\n",
    "\\begin{equation}\n",
    "\\partial_t u + A \\partial_x u = 0\\,\\,,\n",
    "\\end{equation}\n",
    "\n",
    "where $u(x,t)$ is the state vector with $s$ components and $A$\n",
    "is an array of size $s \\times s$.\n",
    "\n",
    "This type of problem is *hyperbolic* if $A$ only has real eigenvalues and is diagonizable, i.e. there exists a complete set of linearly independent eigenvectors such that a matrix can be constructed\n",
    "\n",
    "\\begin{equation}\n",
    "\\Lambda = Q^{-1} A Q\\,\\,,\n",
    "\\end{equation}\n",
    "\n",
    "where $\\Lambda$ is diagonal and has real numbers on the diagonal.\n",
    "\n",
    "**Example**\n",
    "\n",
    "The simplest example of this type of equation is the **linear advection equation**, in which the function $u=u(t,x)$ satisfies\n",
    "\n",
    "\\begin{equation}\n",
    "\\partial_t u + v \\partial_x u = 0\\,\\,,\n",
    "\\end{equation}\n",
    "\n",
    "where $v$ is a scalar and represents the advection speed."
   ]
  },
  {
   "cell_type": "markdown",
   "metadata": {
    "id": "vfK5CQZ7Bl_k"
   },
   "source": [
    "---\n",
    "\n",
    "Another example of a hyperbolic equation is the non-linear systems of the first order,\n",
    "\n",
    "\\begin{equation}\n",
    "\\partial_t u + \\partial_x F(u) = 0\\,\\,,\n",
    "\\end{equation}\n",
    "\n",
    "where $F(u)$ is called the **flow** and may or may not be a non-linear function of $u(t,x)$. It is possible to write this PDE in a **quasi-linear** form by introducing the Jacobian\n",
    "\n",
    "\\begin{equation}\n",
    "\\bar{A} = \\frac{\\partial F}{\\partial u}\\,\\,,\n",
    "\\end{equation}\n",
    "\n",
    "with what you get\n",
    "\n",
    "\\begin{equation}\n",
    "\\partial_t u + \\bar{A}\\partial_x u = 0\\,\\,.\n",
    "\\end{equation}\n",
    "\n",
    "This PDE is hyperbolic if $\\bar{A}$ has real eigenvalues and is diagonizable.\n",
    "\n",
    "The **equations of hydrodynamics** are a key example of a system of non-linear hyperbolic PDEs of the first order."
   ]
  },
  {
   "cell_type": "markdown",
   "metadata": {
    "id": "g62n819IBl_k"
   },
   "source": [
    "### Boundary Conditions in Hyperbolic Problems\n",
    "\n",
    "Boundary conditions of the von Neumann, Dirichlet or Robin type can be specified. For example, for a linear system with boundaries at $x=0$ and $x=L$, the conditions can be imposed\n",
    "\n",
    "1. **Dirichlet Boundary Conditions**\n",
    "\n",
    "\\begin{equation}\n",
    "\\begin{aligned}\n",
    "u(x=0,t) &= \\Phi_1(t)\\,\\,,\\\\\n",
    "u(x=L,t) &= \\Phi_2(t)\\,\\,.\n",
    "\\end{aligned}\n",
    "\\end{equation}\n",
    "\n",
    "2. **von Neumann Boundary Conditions**\n",
    "\\begin{equation}\n",
    "\\begin{aligned}\n",
    "\\partial_x u(x=0,t) &= \\Psi_1(t)\\,\\,,\\\\\n",
    "\\partial_x u(x=L,t) &= \\Psi_2(t)\\,\\,.\n",
    "\\end{aligned}\n",
    "\\end{equation}\n",
    "\n",
    "*Note that in a multi-dimensional problem, $\\partial_x$ is interpreted as the derivative in the direction of the normal to the boundary.*\n",
    "\n",
    "3. **Robin Boundary Conditions**\n",
    "\n",
    "Let $a_1, b_1, a_2, b_2$ be real numbers with $a_i \\neq 0$ and $ b_i \\neq 0$.\n",
    "\n",
    "\\begin{equation}\n",
    "\\begin{aligned}\n",
    "a_1 u(x=0,t) + b_1 \\partial_x u(x=0,t) &= \\Psi_1(t)\\,\\,,\\\\\n",
    "a_2 u(x=L,t) + b_2 \\partial_x u(x=L,t) &= \\Psi_2(t)\\,\\,.\n",
    "\\end{aligned}\n",
    "\\end{equation}\n",
    "\n",
    "The Dirichlet and von Neuman conditions are recovered if $a_i$ or $b_i$ vanishes, respectively."
   ]
  },
  {
   "cell_type": "markdown",
   "metadata": {
    "id": "C-Mu6i96Bl_l"
   },
   "source": [
    "---\n",
    "## 2. Parabolic PDEs\n",
    "\n",
    "Parabolic PDEs typically describe slowly changing processes, such as the slow diffusion of heat in a medium, of sediments in groundwater, or radiation in an opaque medium. The prototype of second order parabolic PDEs is\n",
    "\n",
    "\\begin{equation}\n",
    "\\partial_t u - k \\partial^2_{xx} u = f\\,\\,.\n",
    "\\end{equation}\n",
    "\n",
    "### Initial Conditions for Parabolic Problems\n",
    "\n",
    "In this type of condition, $u(x,t=0)$ must be specified for all values of $x$.\n",
    "\n",
    "\n",
    "### Boundary Conditions for Parabolic Problems\n",
    "\n",
    "Boundary conditions of the Dirichlet, von Neumann or Robin type can be applied.\n",
    "\n",
    "*If the boundary conditions are independent of time, the system will evolve towards a steady state ($\\partial_t u = 0$). In this case, it is possible to set $\\partial_t u = 0$ for all times and treat the differential equation as an elliptic equation.*"
   ]
  },
  {
   "cell_type": "markdown",
   "metadata": {
    "id": "_90xHqWZBl_l"
   },
   "source": [
    "---\n",
    "## Elliptical PDEs\n",
    "\n",
    "Elliptic PDEs usually describe static systems, in a steady state or in equilibrium, since there is no time dependence. A typical elliptic PDE is Poisson's equation,\n",
    "\n",
    "\\begin{equation}\n",
    "\\nabla^2 \\phi = \\kappa \\rho \\,\\,,\n",
    "\\end{equation}\n",
    "\n",
    "which describes Newtonian gravity and electrostatics. In this equation $\\nabla^2$ is the Laplace operator and $f$ is a scalar function of the known position. Elliptic problems can be linear ($f$ does not depend on $u$ or its derivatives) or non-linear ($f$ depends on $u$ or its derivatives).\n",
    "\n",
    "\n",
    "### Initial Conditions for Elliptic Problems\n",
    "\n",
    "They do not apply because there is no time dependency.\n",
    "\n",
    "### Boundary Conditions for Parabolic Problems\n",
    "\n",
    "Boundary conditions of the Dirichlet, von Neumann or Robin type can be applied."
   ]
  },
  {
   "cell_type": "markdown",
   "metadata": {
    "id": "TEjN1jzIBl_l"
   },
   "source": [
    "---\n",
    "\n",
    "---\n",
    "\n",
    "## Numerical methods to solve PDEs\n",
    "\n",
    "There is no general and robust method for the solution of all PDEs. Each type (or sub-type) of PDEs require different treatment. Real life PDEs are often a mixture of the different classes or may possess special properties that require knowledge of the underlying physics to obtain a suitable solution.\n",
    "\n",
    "However, there are three general classes of methods that can be applied to the resolution of PDEs."
   ]
  },
  {
   "cell_type": "markdown",
   "metadata": {
    "id": "a-ln_H0DBl_l"
   },
   "source": [
    "### 1. Finite Difference Methods.\n",
    "      \n",
    "Differential operators are approximated using a finite difference representation on a mesh. After finding the iterative form of the equations, the differential problem is transformed into a linear system of algebraic equations.\n",
    "\n",
    "A sub-class of this method are the finite volume methods, which are useful when working with PDEs related to conservation laws (e.g., the equations of hydrodynamics).\n",
    "\n",
    "The finite volume/difference methods have polynomial convergence for smooth functions.\n",
    "      \n",
    "### 2. Finite Element Methods.\n",
    "\n",
    "The domain is divided into cells called **elements**. The solution is represented by a simple function (e.g. a polynomial) in each of the cells and the PDE becomes an algebraic problem of finding the joining conditions at the interfaces of the cells.\n",
    "\n",
    "Finite element methods have polynomial or exponential convergence for smooth functions.\n",
    "\n",
    "\n",
    "### 3. Spectral Methods.\n",
    "\n",
    "The solution is represented as a linear combination of known functions (e.g. trigonometric functions or special polynomials). The PDE is transformed into a set of algebraic equations or a set of ODEs for the amplitudes of the component functions.\n",
    "\n",
    "A sub-class are collocation methods in which the solution is represented on a mesh and spectral decomposition is used to estimate the partial derivatives at the nodes with a high degree of accuracy."
   ]
  },
  {
   "cell_type": "code",
   "execution_count": null,
   "metadata": {},
   "outputs": [],
   "source": []
  }
 ],
 "metadata": {
  "colab": {
   "name": "PDE01.ipynb",
   "provenance": []
  },
  "kernelspec": {
   "display_name": "Python 3 (ipykernel)",
   "language": "python",
   "name": "python3"
  },
  "language_info": {
   "codemirror_mode": {
    "name": "ipython",
    "version": 3
   },
   "file_extension": ".py",
   "mimetype": "text/x-python",
   "name": "python",
   "nbconvert_exporter": "python",
   "pygments_lexer": "ipython3",
   "version": "3.10.9"
  }
 },
 "nbformat": 4,
 "nbformat_minor": 1
}
